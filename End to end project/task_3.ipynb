{
 "cells": [
  {
   "cell_type": "markdown",
   "id": "317506c5",
   "metadata": {},
   "source": [
    "# Task - 3\n",
    "\n",
    "\n",
    "\n",
    "## **Task has been mentioned at the end of this notebook**  "
   ]
  },
  {
   "cell_type": "markdown",
   "id": "060e861b",
   "metadata": {},
   "source": [
    "## 1. Basic Pandas Operations"
   ]
  },
  {
   "cell_type": "code",
   "execution_count": 1,
   "id": "c2ab4c34",
   "metadata": {},
   "outputs": [],
   "source": [
    "# # Import all the required Libraries\n",
    "\n",
    "# import pandas as pd\n",
    "# import numpy as np\n",
    "\n",
    "# import seaborn as sns\n",
    "# import matplotlib.pyplot as plt"
   ]
  },
  {
   "cell_type": "code",
   "execution_count": 2,
   "id": "2d142e1d",
   "metadata": {
    "scrolled": true
   },
   "outputs": [],
   "source": [
    "# Read the dataset and display the head. You will get the output as mentioned below\n",
    "\n",
    "# ______________________________\n",
    "# ______________________________\n"
   ]
  },
  {
   "cell_type": "code",
   "execution_count": 3,
   "id": "208d94a1",
   "metadata": {},
   "outputs": [],
   "source": [
    "# Check the shape of the dataframe\n",
    "\n",
    "# ______________________________\n",
    "# ______________________________\n"
   ]
  },
  {
   "cell_type": "code",
   "execution_count": 4,
   "id": "08060c83",
   "metadata": {},
   "outputs": [],
   "source": [
    "# On the dataframe apply info() function and observe the Dtypes and Missing Values\n",
    "\n",
    "# ______________________________\n",
    "# ______________________________\n"
   ]
  },
  {
   "cell_type": "markdown",
   "id": "8e9b8dc4",
   "metadata": {},
   "source": [
    "## 2. Cleaning the Data"
   ]
  },
  {
   "cell_type": "code",
   "execution_count": 5,
   "id": "acc55afd",
   "metadata": {},
   "outputs": [],
   "source": [
    "# Impute the Null values in Health Indicator, Holding_Policy_Duration and Holding_Policy_Type\n",
    "\n",
    "# ____________________________\n",
    "\n",
    "# ____________________________"
   ]
  },
  {
   "cell_type": "code",
   "execution_count": 6,
   "id": "ce6543db",
   "metadata": {},
   "outputs": [],
   "source": [
    "# Check again Holding_Policy_Duration is in object column convert that into int\n",
    "\n",
    "# ____________________________"
   ]
  },
  {
   "cell_type": "code",
   "execution_count": 7,
   "id": "ccd70e1e",
   "metadata": {},
   "outputs": [],
   "source": [
    "# Observe that ['Accomodation_Type','Reco_Insurance_Type','Is_Spouse'] \n",
    "# above these Object columns have two values - Yes and No\n",
    "\n",
    "\n",
    "# ____________________________\n",
    "# ____________________________"
   ]
  },
  {
   "cell_type": "code",
   "execution_count": 8,
   "id": "4bbaf354",
   "metadata": {},
   "outputs": [],
   "source": [
    "# Converting all the Yes to 1 and No to 0. \n",
    "\n",
    "\n",
    "\n",
    "# Write a for loop to iterate over the list given above\n",
    "# For each feature use pandas 'apply()' to convert all the 'Yes' to 1 and 'No' to 0\n",
    "\n",
    "\n",
    "# ______________________________\n",
    "# ______________________________\n",
    "    \n"
   ]
  },
  {
   "cell_type": "code",
   "execution_count": 9,
   "id": "0553a67e",
   "metadata": {},
   "outputs": [],
   "source": [
    "# Now again having a look at all those columns to see if everything went well\n",
    "\n",
    "# _________________________________"
   ]
  },
  {
   "cell_type": "code",
   "execution_count": 10,
   "id": "898e0452",
   "metadata": {},
   "outputs": [],
   "source": [
    "# Observe that all those columns are now converted from Object to Int64\n",
    "\n",
    "# ________________________________"
   ]
  },
  {
   "cell_type": "code",
   "execution_count": 11,
   "id": "457afa50",
   "metadata": {},
   "outputs": [],
   "source": [
    "# Checking all the Object Dtypes - Here, these columns have more than 2 categories\n",
    "\n",
    "# ______________________________\n",
    "# ______________________________"
   ]
  },
  {
   "cell_type": "code",
   "execution_count": 12,
   "id": "2cd6ab70",
   "metadata": {},
   "outputs": [],
   "source": [
    "# You can also do this to separate Object columns\n",
    "\n",
    "# ____________________________"
   ]
  },
  {
   "cell_type": "code",
   "execution_count": 13,
   "id": "0ea61ab5",
   "metadata": {},
   "outputs": [],
   "source": [
    "# Lets just try to see what is happening Response. Check the output.\n",
    "\n"
   ]
  },
  {
   "cell_type": "code",
   "execution_count": 14,
   "id": "3dd9e158",
   "metadata": {},
   "outputs": [],
   "source": [
    "# Dropping unknown column\n",
    "\n",
    "# Write the code here to drop unknown column and check dataframe shape\n",
    "# ______________________________\n",
    "# ______________________________\n",
    "\n",
    "\n"
   ]
  },
  {
   "cell_type": "code",
   "execution_count": 15,
   "id": "0b821a6c",
   "metadata": {},
   "outputs": [],
   "source": [
    "# Getting all the Object Dtypes\n",
    "\n"
   ]
  },
  {
   "cell_type": "code",
   "execution_count": 16,
   "id": "4d77d35e",
   "metadata": {},
   "outputs": [],
   "source": [
    "# Encoding the categorical features\n",
    "\n",
    "\n",
    "\n",
    "# column names are (annoyingly) lost after OneHotEncoding\n",
    "# (i.e. the dataframe is converted to a numpy ndarray)\n",
    "\n",
    "# Write the code here to use 'encoder' to convert all the categorical columns to numerical representations\n",
    "# Take extra care to convert encoded numpy array to dataframe and call that data fram 'df_encoded'\n",
    "\n",
    "# ______________________________\n",
    "# ______________________________\n",
    "\n",
    "\n"
   ]
  },
  {
   "cell_type": "code",
   "execution_count": 17,
   "id": "f2012e4e",
   "metadata": {},
   "outputs": [],
   "source": [
    "# Concatinating the original data frame and onehot encoded dataframe\n",
    "\n"
   ]
  },
  {
   "cell_type": "code",
   "execution_count": 18,
   "id": "a9d91922",
   "metadata": {},
   "outputs": [],
   "source": [
    "# Drop all the unwanted columns.\n",
    "\n",
    "\n",
    "# Because we have already encoded them and added to main dataframe\n",
    "\n"
   ]
  },
  {
   "cell_type": "markdown",
   "id": "dbb0ce3e",
   "metadata": {},
   "source": [
    "## Observe that 24.59% datapoints belong to one class rest all belongs to other class. Clearly dataset is having high imbalance.\n",
    "\n",
    "**To Do:**\n",
    "1. Read about Oversampling and Undersampling.\n",
    "2. Perform undersampling."
   ]
  },
  {
   "cell_type": "markdown",
   "id": "0fd65681",
   "metadata": {},
   "source": [
    "## Train Test Split\n",
    "\n",
    "**To Do:**\n",
    "1. Sandardise the data\n",
    "2. Perform 80-20 split"
   ]
  },
  {
   "cell_type": "markdown",
   "id": "8c94c0db",
   "metadata": {},
   "source": [
    "## Model Building - Logistic Regression, SVM, KNN, DT, RF, Gradient Boosting, AdaBoosting etc\n",
    "\n",
    "For all the algorithms mentioned above, perform below mentioned steps.\n",
    "\n",
    "**To Do:**\n",
    "1. Train the Model using `Accuracy` as the evaluation metric\n",
    "2. Predict\n",
    "3. Evaluate use Accuracy, Confusion Matrix, Precision & Recall, F1-score and ROC AUC to understand model performance\n",
    "4. Compare the perormance of all the models"
   ]
  },
  {
   "cell_type": "code",
   "execution_count": 19,
   "id": "aabe0c9c",
   "metadata": {},
   "outputs": [],
   "source": [
    "# Import all the required Libraries\n",
    "\n",
    "import pandas as pd\n",
    "import numpy as np\n",
    "\n",
    "import seaborn as sns\n",
    "import matplotlib.pyplot as plt\n",
    "import warnings\n",
    "warnings.filterwarnings('ignore')"
   ]
  },
  {
   "cell_type": "code",
   "execution_count": 20,
   "id": "633628e4",
   "metadata": {},
   "outputs": [
    {
     "data": {
      "text/html": [
       "<div>\n",
       "<style scoped>\n",
       "    .dataframe tbody tr th:only-of-type {\n",
       "        vertical-align: middle;\n",
       "    }\n",
       "\n",
       "    .dataframe tbody tr th {\n",
       "        vertical-align: top;\n",
       "    }\n",
       "\n",
       "    .dataframe thead th {\n",
       "        text-align: right;\n",
       "    }\n",
       "</style>\n",
       "<table border=\"1\" class=\"dataframe\">\n",
       "  <thead>\n",
       "    <tr style=\"text-align: right;\">\n",
       "      <th></th>\n",
       "      <th>City_Code</th>\n",
       "      <th>Region_Code</th>\n",
       "      <th>Accomodation_Type</th>\n",
       "      <th>Reco_Insurance_Type</th>\n",
       "      <th>Upper_Age</th>\n",
       "      <th>Lower_Age</th>\n",
       "      <th>Is_Spouse</th>\n",
       "      <th>Holding_Policy_Duration</th>\n",
       "      <th>Holding_Policy_Type</th>\n",
       "      <th>Reco_Policy_Cat</th>\n",
       "      <th>...</th>\n",
       "      <th>Response</th>\n",
       "      <th>X1</th>\n",
       "      <th>X2</th>\n",
       "      <th>X3</th>\n",
       "      <th>X4</th>\n",
       "      <th>X5</th>\n",
       "      <th>X6</th>\n",
       "      <th>X7</th>\n",
       "      <th>X8</th>\n",
       "      <th>X9</th>\n",
       "    </tr>\n",
       "  </thead>\n",
       "  <tbody>\n",
       "    <tr>\n",
       "      <th>0</th>\n",
       "      <td>C3</td>\n",
       "      <td>64</td>\n",
       "      <td>1</td>\n",
       "      <td>1</td>\n",
       "      <td>36</td>\n",
       "      <td>36</td>\n",
       "      <td>0</td>\n",
       "      <td>15</td>\n",
       "      <td>2.0</td>\n",
       "      <td>16</td>\n",
       "      <td>...</td>\n",
       "      <td>0</td>\n",
       "      <td>1</td>\n",
       "      <td>0</td>\n",
       "      <td>0</td>\n",
       "      <td>0</td>\n",
       "      <td>0</td>\n",
       "      <td>0</td>\n",
       "      <td>0</td>\n",
       "      <td>0</td>\n",
       "      <td>0</td>\n",
       "    </tr>\n",
       "    <tr>\n",
       "      <th>1</th>\n",
       "      <td>C3</td>\n",
       "      <td>2955</td>\n",
       "      <td>1</td>\n",
       "      <td>1</td>\n",
       "      <td>66</td>\n",
       "      <td>66</td>\n",
       "      <td>0</td>\n",
       "      <td>10</td>\n",
       "      <td>1.0</td>\n",
       "      <td>19</td>\n",
       "      <td>...</td>\n",
       "      <td>0</td>\n",
       "      <td>0</td>\n",
       "      <td>0</td>\n",
       "      <td>0</td>\n",
       "      <td>0</td>\n",
       "      <td>0</td>\n",
       "      <td>1</td>\n",
       "      <td>0</td>\n",
       "      <td>0</td>\n",
       "      <td>0</td>\n",
       "    </tr>\n",
       "    <tr>\n",
       "      <th>2</th>\n",
       "      <td>C1</td>\n",
       "      <td>1542</td>\n",
       "      <td>0</td>\n",
       "      <td>1</td>\n",
       "      <td>24</td>\n",
       "      <td>24</td>\n",
       "      <td>0</td>\n",
       "      <td>3</td>\n",
       "      <td>1.0</td>\n",
       "      <td>16</td>\n",
       "      <td>...</td>\n",
       "      <td>0</td>\n",
       "      <td>1</td>\n",
       "      <td>0</td>\n",
       "      <td>0</td>\n",
       "      <td>0</td>\n",
       "      <td>0</td>\n",
       "      <td>0</td>\n",
       "      <td>0</td>\n",
       "      <td>0</td>\n",
       "      <td>0</td>\n",
       "    </tr>\n",
       "    <tr>\n",
       "      <th>3</th>\n",
       "      <td>C26</td>\n",
       "      <td>772</td>\n",
       "      <td>0</td>\n",
       "      <td>1</td>\n",
       "      <td>75</td>\n",
       "      <td>75</td>\n",
       "      <td>0</td>\n",
       "      <td>1</td>\n",
       "      <td>3.0</td>\n",
       "      <td>16</td>\n",
       "      <td>...</td>\n",
       "      <td>0</td>\n",
       "      <td>1</td>\n",
       "      <td>0</td>\n",
       "      <td>0</td>\n",
       "      <td>0</td>\n",
       "      <td>0</td>\n",
       "      <td>0</td>\n",
       "      <td>0</td>\n",
       "      <td>0</td>\n",
       "      <td>0</td>\n",
       "    </tr>\n",
       "    <tr>\n",
       "      <th>4</th>\n",
       "      <td>C2</td>\n",
       "      <td>1510</td>\n",
       "      <td>1</td>\n",
       "      <td>0</td>\n",
       "      <td>59</td>\n",
       "      <td>58</td>\n",
       "      <td>1</td>\n",
       "      <td>15</td>\n",
       "      <td>4.0</td>\n",
       "      <td>17</td>\n",
       "      <td>...</td>\n",
       "      <td>0</td>\n",
       "      <td>1</td>\n",
       "      <td>0</td>\n",
       "      <td>0</td>\n",
       "      <td>0</td>\n",
       "      <td>0</td>\n",
       "      <td>0</td>\n",
       "      <td>0</td>\n",
       "      <td>0</td>\n",
       "      <td>0</td>\n",
       "    </tr>\n",
       "  </tbody>\n",
       "</table>\n",
       "<p>5 rows × 21 columns</p>\n",
       "</div>"
      ],
      "text/plain": [
       "  City_Code  Region_Code  Accomodation_Type  Reco_Insurance_Type  Upper_Age  \\\n",
       "0        C3           64                  1                    1         36   \n",
       "1        C3         2955                  1                    1         66   \n",
       "2        C1         1542                  0                    1         24   \n",
       "3       C26          772                  0                    1         75   \n",
       "4        C2         1510                  1                    0         59   \n",
       "\n",
       "   Lower_Age  Is_Spouse  Holding_Policy_Duration  Holding_Policy_Type  \\\n",
       "0         36          0                       15                  2.0   \n",
       "1         66          0                       10                  1.0   \n",
       "2         24          0                        3                  1.0   \n",
       "3         75          0                        1                  3.0   \n",
       "4         58          1                       15                  4.0   \n",
       "\n",
       "   Reco_Policy_Cat  ...  Response  X1  X2  X3  X4  X5  X6  X7  X8  X9  \n",
       "0               16  ...         0   1   0   0   0   0   0   0   0   0  \n",
       "1               19  ...         0   0   0   0   0   0   1   0   0   0  \n",
       "2               16  ...         0   1   0   0   0   0   0   0   0   0  \n",
       "3               16  ...         0   1   0   0   0   0   0   0   0   0  \n",
       "4               17  ...         0   1   0   0   0   0   0   0   0   0  \n",
       "\n",
       "[5 rows x 21 columns]"
      ]
     },
     "execution_count": 20,
     "metadata": {},
     "output_type": "execute_result"
    }
   ],
   "source": [
    "data = pd.read_csv('train_cleaned_2.csv')\n",
    "data.head()"
   ]
  },
  {
   "cell_type": "code",
   "execution_count": 21,
   "id": "e02f673e",
   "metadata": {},
   "outputs": [
    {
     "data": {
      "text/plain": [
       "(9849, 21)"
      ]
     },
     "execution_count": 21,
     "metadata": {},
     "output_type": "execute_result"
    }
   ],
   "source": [
    "data.shape"
   ]
  },
  {
   "cell_type": "code",
   "execution_count": 22,
   "id": "01405809",
   "metadata": {},
   "outputs": [
    {
     "data": {
      "text/plain": [
       "0    74.281997\n",
       "1    24.276994\n",
       "Name: Response, dtype: float64"
      ]
     },
     "execution_count": 22,
     "metadata": {},
     "output_type": "execute_result"
    }
   ],
   "source": [
    "data['Response'].value_counts()/9993 *100  # in percentages"
   ]
  },
  {
   "cell_type": "markdown",
   "id": "528ad666",
   "metadata": {},
   "source": [
    "### `Sampling ( UnderSampling ) ---------------------------`"
   ]
  },
  {
   "cell_type": "code",
   "execution_count": 23,
   "id": "f6d4a8f9",
   "metadata": {},
   "outputs": [],
   "source": [
    "X = data.drop(['Response'],axis=1)\n",
    "y = data['Response']"
   ]
  },
  {
   "cell_type": "code",
   "execution_count": 24,
   "id": "3b0add69",
   "metadata": {},
   "outputs": [],
   "source": [
    "# ! pip install imblearn\n",
    "from collections import Counter"
   ]
  },
  {
   "cell_type": "code",
   "execution_count": 25,
   "id": "f9e05f40",
   "metadata": {},
   "outputs": [],
   "source": [
    "from imblearn.under_sampling import RandomUnderSampler\n",
    "rus = RandomUnderSampler()\n",
    "X_rus,y_rus = rus.fit_resample(X,y)"
   ]
  },
  {
   "cell_type": "code",
   "execution_count": 26,
   "id": "1055c892",
   "metadata": {},
   "outputs": [
    {
     "name": "stdout",
     "output_type": "stream",
     "text": [
      "Counter({0: 2426, 1: 2426})\n"
     ]
    }
   ],
   "source": [
    "print(Counter(y_rus))"
   ]
  },
  {
   "cell_type": "code",
   "execution_count": 27,
   "id": "20834cac",
   "metadata": {},
   "outputs": [
    {
     "data": {
      "text/plain": [
       "0    2426\n",
       "1    2426\n",
       "Name: Response, dtype: int64"
      ]
     },
     "execution_count": 27,
     "metadata": {},
     "output_type": "execute_result"
    }
   ],
   "source": [
    "y_rus.value_counts()"
   ]
  },
  {
   "cell_type": "markdown",
   "id": "e8ac2bbc",
   "metadata": {},
   "source": [
    "### `Standardise --------------------------------------------------`"
   ]
  },
  {
   "cell_type": "code",
   "execution_count": 28,
   "id": "f8bac8d0",
   "metadata": {},
   "outputs": [
    {
     "data": {
      "text/html": [
       "<div>\n",
       "<style scoped>\n",
       "    .dataframe tbody tr th:only-of-type {\n",
       "        vertical-align: middle;\n",
       "    }\n",
       "\n",
       "    .dataframe tbody tr th {\n",
       "        vertical-align: top;\n",
       "    }\n",
       "\n",
       "    .dataframe thead th {\n",
       "        text-align: right;\n",
       "    }\n",
       "</style>\n",
       "<table border=\"1\" class=\"dataframe\">\n",
       "  <thead>\n",
       "    <tr style=\"text-align: right;\">\n",
       "      <th></th>\n",
       "      <th>City_Code</th>\n",
       "      <th>Region_Code</th>\n",
       "      <th>Accomodation_Type</th>\n",
       "      <th>Reco_Insurance_Type</th>\n",
       "      <th>Upper_Age</th>\n",
       "      <th>Lower_Age</th>\n",
       "      <th>Is_Spouse</th>\n",
       "      <th>Holding_Policy_Duration</th>\n",
       "      <th>Holding_Policy_Type</th>\n",
       "      <th>Reco_Policy_Cat</th>\n",
       "      <th>Reco_Policy_Premium</th>\n",
       "      <th>X1</th>\n",
       "      <th>X2</th>\n",
       "      <th>X3</th>\n",
       "      <th>X4</th>\n",
       "      <th>X5</th>\n",
       "      <th>X6</th>\n",
       "      <th>X7</th>\n",
       "      <th>X8</th>\n",
       "      <th>X9</th>\n",
       "    </tr>\n",
       "  </thead>\n",
       "  <tbody>\n",
       "    <tr>\n",
       "      <th>0</th>\n",
       "      <td>C24</td>\n",
       "      <td>2347</td>\n",
       "      <td>1</td>\n",
       "      <td>1</td>\n",
       "      <td>51</td>\n",
       "      <td>51</td>\n",
       "      <td>0</td>\n",
       "      <td>15</td>\n",
       "      <td>3.0</td>\n",
       "      <td>2</td>\n",
       "      <td>15904.0</td>\n",
       "      <td>0</td>\n",
       "      <td>0</td>\n",
       "      <td>1</td>\n",
       "      <td>0</td>\n",
       "      <td>0</td>\n",
       "      <td>0</td>\n",
       "      <td>0</td>\n",
       "      <td>0</td>\n",
       "      <td>0</td>\n",
       "    </tr>\n",
       "    <tr>\n",
       "      <th>1</th>\n",
       "      <td>C2</td>\n",
       "      <td>925</td>\n",
       "      <td>0</td>\n",
       "      <td>1</td>\n",
       "      <td>23</td>\n",
       "      <td>23</td>\n",
       "      <td>0</td>\n",
       "      <td>15</td>\n",
       "      <td>3.0</td>\n",
       "      <td>22</td>\n",
       "      <td>3618.0</td>\n",
       "      <td>0</td>\n",
       "      <td>0</td>\n",
       "      <td>0</td>\n",
       "      <td>0</td>\n",
       "      <td>0</td>\n",
       "      <td>1</td>\n",
       "      <td>0</td>\n",
       "      <td>0</td>\n",
       "      <td>0</td>\n",
       "    </tr>\n",
       "    <tr>\n",
       "      <th>2</th>\n",
       "      <td>C2</td>\n",
       "      <td>2290</td>\n",
       "      <td>1</td>\n",
       "      <td>0</td>\n",
       "      <td>51</td>\n",
       "      <td>49</td>\n",
       "      <td>1</td>\n",
       "      <td>8</td>\n",
       "      <td>3.0</td>\n",
       "      <td>12</td>\n",
       "      <td>22915.2</td>\n",
       "      <td>0</td>\n",
       "      <td>1</td>\n",
       "      <td>0</td>\n",
       "      <td>0</td>\n",
       "      <td>0</td>\n",
       "      <td>0</td>\n",
       "      <td>0</td>\n",
       "      <td>0</td>\n",
       "      <td>0</td>\n",
       "    </tr>\n",
       "    <tr>\n",
       "      <th>3</th>\n",
       "      <td>C4</td>\n",
       "      <td>179</td>\n",
       "      <td>0</td>\n",
       "      <td>1</td>\n",
       "      <td>26</td>\n",
       "      <td>26</td>\n",
       "      <td>0</td>\n",
       "      <td>15</td>\n",
       "      <td>3.0</td>\n",
       "      <td>1</td>\n",
       "      <td>10026.0</td>\n",
       "      <td>1</td>\n",
       "      <td>0</td>\n",
       "      <td>0</td>\n",
       "      <td>0</td>\n",
       "      <td>0</td>\n",
       "      <td>0</td>\n",
       "      <td>0</td>\n",
       "      <td>0</td>\n",
       "      <td>0</td>\n",
       "    </tr>\n",
       "    <tr>\n",
       "      <th>4</th>\n",
       "      <td>C19</td>\n",
       "      <td>1806</td>\n",
       "      <td>1</td>\n",
       "      <td>0</td>\n",
       "      <td>29</td>\n",
       "      <td>28</td>\n",
       "      <td>1</td>\n",
       "      <td>4</td>\n",
       "      <td>2.0</td>\n",
       "      <td>1</td>\n",
       "      <td>17280.0</td>\n",
       "      <td>1</td>\n",
       "      <td>0</td>\n",
       "      <td>0</td>\n",
       "      <td>0</td>\n",
       "      <td>0</td>\n",
       "      <td>0</td>\n",
       "      <td>0</td>\n",
       "      <td>0</td>\n",
       "      <td>0</td>\n",
       "    </tr>\n",
       "  </tbody>\n",
       "</table>\n",
       "</div>"
      ],
      "text/plain": [
       "  City_Code  Region_Code  Accomodation_Type  Reco_Insurance_Type  Upper_Age  \\\n",
       "0       C24         2347                  1                    1         51   \n",
       "1        C2          925                  0                    1         23   \n",
       "2        C2         2290                  1                    0         51   \n",
       "3        C4          179                  0                    1         26   \n",
       "4       C19         1806                  1                    0         29   \n",
       "\n",
       "   Lower_Age  Is_Spouse  Holding_Policy_Duration  Holding_Policy_Type  \\\n",
       "0         51          0                       15                  3.0   \n",
       "1         23          0                       15                  3.0   \n",
       "2         49          1                        8                  3.0   \n",
       "3         26          0                       15                  3.0   \n",
       "4         28          1                        4                  2.0   \n",
       "\n",
       "   Reco_Policy_Cat  Reco_Policy_Premium  X1  X2  X3  X4  X5  X6  X7  X8  X9  \n",
       "0                2              15904.0   0   0   1   0   0   0   0   0   0  \n",
       "1               22               3618.0   0   0   0   0   0   1   0   0   0  \n",
       "2               12              22915.2   0   1   0   0   0   0   0   0   0  \n",
       "3                1              10026.0   1   0   0   0   0   0   0   0   0  \n",
       "4                1              17280.0   1   0   0   0   0   0   0   0   0  "
      ]
     },
     "execution_count": 28,
     "metadata": {},
     "output_type": "execute_result"
    }
   ],
   "source": [
    "pd.set_option(\"display.max_rows\", None, \"display.max_columns\", None)   # display entire dataframe\n",
    "X_rus.head()"
   ]
  },
  {
   "cell_type": "code",
   "execution_count": 29,
   "id": "25677bf6",
   "metadata": {},
   "outputs": [
    {
     "data": {
      "text/plain": [
       "Index(['City_Code', 'Region_Code', 'Accomodation_Type', 'Reco_Insurance_Type',\n",
       "       'Upper_Age', 'Lower_Age', 'Is_Spouse', 'Holding_Policy_Duration',\n",
       "       'Holding_Policy_Type', 'Reco_Policy_Cat', 'Reco_Policy_Premium', 'X1',\n",
       "       'X2', 'X3', 'X4', 'X5', 'X6', 'X7', 'X8', 'X9'],\n",
       "      dtype='object')"
      ]
     },
     "execution_count": 29,
     "metadata": {},
     "output_type": "execute_result"
    }
   ],
   "source": [
    "X_rus.columns"
   ]
  },
  {
   "cell_type": "code",
   "execution_count": 30,
   "id": "ec3dcd97",
   "metadata": {},
   "outputs": [
    {
     "data": {
      "text/html": [
       "<div>\n",
       "<style scoped>\n",
       "    .dataframe tbody tr th:only-of-type {\n",
       "        vertical-align: middle;\n",
       "    }\n",
       "\n",
       "    .dataframe tbody tr th {\n",
       "        vertical-align: top;\n",
       "    }\n",
       "\n",
       "    .dataframe thead th {\n",
       "        text-align: right;\n",
       "    }\n",
       "</style>\n",
       "<table border=\"1\" class=\"dataframe\">\n",
       "  <thead>\n",
       "    <tr style=\"text-align: right;\">\n",
       "      <th></th>\n",
       "      <th>City_Code</th>\n",
       "      <th>Region_Code</th>\n",
       "      <th>Accomodation_Type</th>\n",
       "      <th>Reco_Insurance_Type</th>\n",
       "      <th>Upper_Age</th>\n",
       "      <th>Lower_Age</th>\n",
       "      <th>Is_Spouse</th>\n",
       "      <th>Holding_Policy_Duration</th>\n",
       "      <th>Holding_Policy_Type</th>\n",
       "      <th>Reco_Policy_Cat</th>\n",
       "      <th>Reco_Policy_Premium</th>\n",
       "      <th>Response</th>\n",
       "      <th>X1</th>\n",
       "      <th>X2</th>\n",
       "      <th>X3</th>\n",
       "      <th>X4</th>\n",
       "      <th>X5</th>\n",
       "      <th>X6</th>\n",
       "      <th>X7</th>\n",
       "      <th>X8</th>\n",
       "      <th>X9</th>\n",
       "    </tr>\n",
       "  </thead>\n",
       "  <tbody>\n",
       "    <tr>\n",
       "      <th>8642</th>\n",
       "      <td>C2</td>\n",
       "      <td>577</td>\n",
       "      <td>0</td>\n",
       "      <td>1</td>\n",
       "      <td>27</td>\n",
       "      <td>27</td>\n",
       "      <td>0</td>\n",
       "      <td>2</td>\n",
       "      <td>1.0</td>\n",
       "      <td>21</td>\n",
       "      <td>13068.0</td>\n",
       "      <td>0</td>\n",
       "      <td>0</td>\n",
       "      <td>0</td>\n",
       "      <td>0</td>\n",
       "      <td>0</td>\n",
       "      <td>0</td>\n",
       "      <td>0</td>\n",
       "      <td>1</td>\n",
       "      <td>0</td>\n",
       "      <td>0</td>\n",
       "    </tr>\n",
       "    <tr>\n",
       "      <th>4069</th>\n",
       "      <td>C1</td>\n",
       "      <td>785</td>\n",
       "      <td>1</td>\n",
       "      <td>0</td>\n",
       "      <td>65</td>\n",
       "      <td>62</td>\n",
       "      <td>1</td>\n",
       "      <td>8</td>\n",
       "      <td>3.0</td>\n",
       "      <td>22</td>\n",
       "      <td>23251.2</td>\n",
       "      <td>0</td>\n",
       "      <td>0</td>\n",
       "      <td>1</td>\n",
       "      <td>0</td>\n",
       "      <td>0</td>\n",
       "      <td>0</td>\n",
       "      <td>0</td>\n",
       "      <td>0</td>\n",
       "      <td>0</td>\n",
       "      <td>0</td>\n",
       "    </tr>\n",
       "    <tr>\n",
       "      <th>5020</th>\n",
       "      <td>C15</td>\n",
       "      <td>1831</td>\n",
       "      <td>1</td>\n",
       "      <td>1</td>\n",
       "      <td>37</td>\n",
       "      <td>37</td>\n",
       "      <td>0</td>\n",
       "      <td>5</td>\n",
       "      <td>2.0</td>\n",
       "      <td>18</td>\n",
       "      <td>9450.0</td>\n",
       "      <td>0</td>\n",
       "      <td>0</td>\n",
       "      <td>1</td>\n",
       "      <td>0</td>\n",
       "      <td>0</td>\n",
       "      <td>0</td>\n",
       "      <td>0</td>\n",
       "      <td>0</td>\n",
       "      <td>0</td>\n",
       "      <td>0</td>\n",
       "    </tr>\n",
       "    <tr>\n",
       "      <th>7224</th>\n",
       "      <td>C26</td>\n",
       "      <td>452</td>\n",
       "      <td>0</td>\n",
       "      <td>0</td>\n",
       "      <td>70</td>\n",
       "      <td>65</td>\n",
       "      <td>1</td>\n",
       "      <td>15</td>\n",
       "      <td>3.0</td>\n",
       "      <td>10</td>\n",
       "      <td>25074.0</td>\n",
       "      <td>1</td>\n",
       "      <td>0</td>\n",
       "      <td>1</td>\n",
       "      <td>0</td>\n",
       "      <td>0</td>\n",
       "      <td>0</td>\n",
       "      <td>0</td>\n",
       "      <td>0</td>\n",
       "      <td>0</td>\n",
       "      <td>0</td>\n",
       "    </tr>\n",
       "    <tr>\n",
       "      <th>2537</th>\n",
       "      <td>C6</td>\n",
       "      <td>1305</td>\n",
       "      <td>0</td>\n",
       "      <td>1</td>\n",
       "      <td>27</td>\n",
       "      <td>27</td>\n",
       "      <td>0</td>\n",
       "      <td>15</td>\n",
       "      <td>3.0</td>\n",
       "      <td>22</td>\n",
       "      <td>5416.0</td>\n",
       "      <td>0</td>\n",
       "      <td>0</td>\n",
       "      <td>1</td>\n",
       "      <td>0</td>\n",
       "      <td>0</td>\n",
       "      <td>0</td>\n",
       "      <td>0</td>\n",
       "      <td>0</td>\n",
       "      <td>0</td>\n",
       "      <td>0</td>\n",
       "    </tr>\n",
       "    <tr>\n",
       "      <th>6330</th>\n",
       "      <td>C1</td>\n",
       "      <td>1855</td>\n",
       "      <td>1</td>\n",
       "      <td>1</td>\n",
       "      <td>67</td>\n",
       "      <td>67</td>\n",
       "      <td>0</td>\n",
       "      <td>15</td>\n",
       "      <td>3.0</td>\n",
       "      <td>22</td>\n",
       "      <td>13992.0</td>\n",
       "      <td>0</td>\n",
       "      <td>1</td>\n",
       "      <td>0</td>\n",
       "      <td>0</td>\n",
       "      <td>0</td>\n",
       "      <td>0</td>\n",
       "      <td>0</td>\n",
       "      <td>0</td>\n",
       "      <td>0</td>\n",
       "      <td>0</td>\n",
       "    </tr>\n",
       "    <tr>\n",
       "      <th>9612</th>\n",
       "      <td>C1</td>\n",
       "      <td>99</td>\n",
       "      <td>1</td>\n",
       "      <td>1</td>\n",
       "      <td>59</td>\n",
       "      <td>59</td>\n",
       "      <td>0</td>\n",
       "      <td>9</td>\n",
       "      <td>1.0</td>\n",
       "      <td>5</td>\n",
       "      <td>17724.0</td>\n",
       "      <td>0</td>\n",
       "      <td>1</td>\n",
       "      <td>0</td>\n",
       "      <td>0</td>\n",
       "      <td>0</td>\n",
       "      <td>0</td>\n",
       "      <td>0</td>\n",
       "      <td>0</td>\n",
       "      <td>0</td>\n",
       "      <td>0</td>\n",
       "    </tr>\n",
       "    <tr>\n",
       "      <th>6810</th>\n",
       "      <td>C3</td>\n",
       "      <td>2084</td>\n",
       "      <td>1</td>\n",
       "      <td>0</td>\n",
       "      <td>42</td>\n",
       "      <td>18</td>\n",
       "      <td>0</td>\n",
       "      <td>5</td>\n",
       "      <td>2.0</td>\n",
       "      <td>15</td>\n",
       "      <td>20731.2</td>\n",
       "      <td>1</td>\n",
       "      <td>0</td>\n",
       "      <td>0</td>\n",
       "      <td>1</td>\n",
       "      <td>0</td>\n",
       "      <td>0</td>\n",
       "      <td>0</td>\n",
       "      <td>0</td>\n",
       "      <td>0</td>\n",
       "      <td>0</td>\n",
       "    </tr>\n",
       "    <tr>\n",
       "      <th>9727</th>\n",
       "      <td>C13</td>\n",
       "      <td>687</td>\n",
       "      <td>0</td>\n",
       "      <td>0</td>\n",
       "      <td>38</td>\n",
       "      <td>33</td>\n",
       "      <td>1</td>\n",
       "      <td>8</td>\n",
       "      <td>3.0</td>\n",
       "      <td>18</td>\n",
       "      <td>13910.4</td>\n",
       "      <td>1</td>\n",
       "      <td>0</td>\n",
       "      <td>0</td>\n",
       "      <td>1</td>\n",
       "      <td>0</td>\n",
       "      <td>0</td>\n",
       "      <td>0</td>\n",
       "      <td>0</td>\n",
       "      <td>0</td>\n",
       "      <td>0</td>\n",
       "    </tr>\n",
       "    <tr>\n",
       "      <th>8349</th>\n",
       "      <td>C2</td>\n",
       "      <td>5537</td>\n",
       "      <td>0</td>\n",
       "      <td>0</td>\n",
       "      <td>52</td>\n",
       "      <td>50</td>\n",
       "      <td>1</td>\n",
       "      <td>15</td>\n",
       "      <td>1.0</td>\n",
       "      <td>18</td>\n",
       "      <td>16905.6</td>\n",
       "      <td>1</td>\n",
       "      <td>1</td>\n",
       "      <td>0</td>\n",
       "      <td>0</td>\n",
       "      <td>0</td>\n",
       "      <td>0</td>\n",
       "      <td>0</td>\n",
       "      <td>0</td>\n",
       "      <td>0</td>\n",
       "      <td>0</td>\n",
       "    </tr>\n",
       "  </tbody>\n",
       "</table>\n",
       "</div>"
      ],
      "text/plain": [
       "     City_Code  Region_Code  Accomodation_Type  Reco_Insurance_Type  \\\n",
       "8642        C2          577                  0                    1   \n",
       "4069        C1          785                  1                    0   \n",
       "5020       C15         1831                  1                    1   \n",
       "7224       C26          452                  0                    0   \n",
       "2537        C6         1305                  0                    1   \n",
       "6330        C1         1855                  1                    1   \n",
       "9612        C1           99                  1                    1   \n",
       "6810        C3         2084                  1                    0   \n",
       "9727       C13          687                  0                    0   \n",
       "8349        C2         5537                  0                    0   \n",
       "\n",
       "      Upper_Age  Lower_Age  Is_Spouse  Holding_Policy_Duration  \\\n",
       "8642         27         27          0                        2   \n",
       "4069         65         62          1                        8   \n",
       "5020         37         37          0                        5   \n",
       "7224         70         65          1                       15   \n",
       "2537         27         27          0                       15   \n",
       "6330         67         67          0                       15   \n",
       "9612         59         59          0                        9   \n",
       "6810         42         18          0                        5   \n",
       "9727         38         33          1                        8   \n",
       "8349         52         50          1                       15   \n",
       "\n",
       "      Holding_Policy_Type  Reco_Policy_Cat  Reco_Policy_Premium  Response  X1  \\\n",
       "8642                  1.0               21              13068.0         0   0   \n",
       "4069                  3.0               22              23251.2         0   0   \n",
       "5020                  2.0               18               9450.0         0   0   \n",
       "7224                  3.0               10              25074.0         1   0   \n",
       "2537                  3.0               22               5416.0         0   0   \n",
       "6330                  3.0               22              13992.0         0   1   \n",
       "9612                  1.0                5              17724.0         0   1   \n",
       "6810                  2.0               15              20731.2         1   0   \n",
       "9727                  3.0               18              13910.4         1   0   \n",
       "8349                  1.0               18              16905.6         1   1   \n",
       "\n",
       "      X2  X3  X4  X5  X6  X7  X8  X9  \n",
       "8642   0   0   0   0   0   1   0   0  \n",
       "4069   1   0   0   0   0   0   0   0  \n",
       "5020   1   0   0   0   0   0   0   0  \n",
       "7224   1   0   0   0   0   0   0   0  \n",
       "2537   1   0   0   0   0   0   0   0  \n",
       "6330   0   0   0   0   0   0   0   0  \n",
       "9612   0   0   0   0   0   0   0   0  \n",
       "6810   0   1   0   0   0   0   0   0  \n",
       "9727   0   1   0   0   0   0   0   0  \n",
       "8349   0   0   0   0   0   0   0   0  "
      ]
     },
     "execution_count": 30,
     "metadata": {},
     "output_type": "execute_result"
    }
   ],
   "source": [
    "data.sample(10)"
   ]
  },
  {
   "cell_type": "code",
   "execution_count": 31,
   "id": "de6627bf",
   "metadata": {},
   "outputs": [],
   "source": [
    "from sklearn.preprocessing import StandardScaler\n",
    "sc = StandardScaler()\n",
    "X_rus[['Region_Code',\n",
    "       'Upper_Age', 'Lower_Age','Holding_Policy_Duration',\n",
    "       'Holding_Policy_Type', 'Reco_Policy_Cat', 'Reco_Policy_Premium']] = sc.fit_transform(X_rus[['Region_Code',\n",
    "       'Upper_Age', 'Lower_Age','Holding_Policy_Duration',\n",
    "       'Holding_Policy_Type', 'Reco_Policy_Cat', 'Reco_Policy_Premium']])"
   ]
  },
  {
   "cell_type": "code",
   "execution_count": 32,
   "id": "f864c9e4",
   "metadata": {},
   "outputs": [],
   "source": [
    "# from sklearn.preprocessing import StandardScaler\n",
    "# sc = StandardScaler()\n",
    "# X_rus[['Region_Code','Upper_Age', 'Lower_Age','Holding_Policy_Type','Holding_Policy_Duration', 'Reco_Policy_Cat','Reco_Policy_Premium']] = sc.fit_transform(X_rus[['Region_Code','Upper_Age', 'Lower_Age','Holding_Policy_Type', 'Holding_Policy_Duration','Reco_Policy_Cat','Reco_Policy_Premium']])"
   ]
  },
  {
   "cell_type": "code",
   "execution_count": 33,
   "id": "07de2d03",
   "metadata": {},
   "outputs": [
    {
     "data": {
      "text/html": [
       "<div>\n",
       "<style scoped>\n",
       "    .dataframe tbody tr th:only-of-type {\n",
       "        vertical-align: middle;\n",
       "    }\n",
       "\n",
       "    .dataframe tbody tr th {\n",
       "        vertical-align: top;\n",
       "    }\n",
       "\n",
       "    .dataframe thead th {\n",
       "        text-align: right;\n",
       "    }\n",
       "</style>\n",
       "<table border=\"1\" class=\"dataframe\">\n",
       "  <thead>\n",
       "    <tr style=\"text-align: right;\">\n",
       "      <th></th>\n",
       "      <th>City_Code</th>\n",
       "      <th>Region_Code</th>\n",
       "      <th>Accomodation_Type</th>\n",
       "      <th>Reco_Insurance_Type</th>\n",
       "      <th>Upper_Age</th>\n",
       "      <th>Lower_Age</th>\n",
       "      <th>Is_Spouse</th>\n",
       "      <th>Holding_Policy_Duration</th>\n",
       "      <th>Holding_Policy_Type</th>\n",
       "      <th>Reco_Policy_Cat</th>\n",
       "      <th>Reco_Policy_Premium</th>\n",
       "      <th>X1</th>\n",
       "      <th>X2</th>\n",
       "      <th>X3</th>\n",
       "      <th>X4</th>\n",
       "      <th>X5</th>\n",
       "      <th>X6</th>\n",
       "      <th>X7</th>\n",
       "      <th>X8</th>\n",
       "      <th>X9</th>\n",
       "    </tr>\n",
       "  </thead>\n",
       "  <tbody>\n",
       "    <tr>\n",
       "      <th>0</th>\n",
       "      <td>C24</td>\n",
       "      <td>0.453041</td>\n",
       "      <td>1</td>\n",
       "      <td>1</td>\n",
       "      <td>0.388109</td>\n",
       "      <td>0.500390</td>\n",
       "      <td>0</td>\n",
       "      <td>0.915891</td>\n",
       "      <td>0.402364</td>\n",
       "      <td>-2.260962</td>\n",
       "      <td>0.338243</td>\n",
       "      <td>0</td>\n",
       "      <td>0</td>\n",
       "      <td>1</td>\n",
       "      <td>0</td>\n",
       "      <td>0</td>\n",
       "      <td>0</td>\n",
       "      <td>0</td>\n",
       "      <td>0</td>\n",
       "      <td>0</td>\n",
       "    </tr>\n",
       "    <tr>\n",
       "      <th>1</th>\n",
       "      <td>C2</td>\n",
       "      <td>-0.546579</td>\n",
       "      <td>0</td>\n",
       "      <td>1</td>\n",
       "      <td>-1.258835</td>\n",
       "      <td>-1.130593</td>\n",
       "      <td>0</td>\n",
       "      <td>0.915891</td>\n",
       "      <td>0.402364</td>\n",
       "      <td>1.071720</td>\n",
       "      <td>-1.709007</td>\n",
       "      <td>0</td>\n",
       "      <td>0</td>\n",
       "      <td>0</td>\n",
       "      <td>0</td>\n",
       "      <td>0</td>\n",
       "      <td>1</td>\n",
       "      <td>0</td>\n",
       "      <td>0</td>\n",
       "      <td>0</td>\n",
       "    </tr>\n",
       "    <tr>\n",
       "      <th>2</th>\n",
       "      <td>C2</td>\n",
       "      <td>0.412972</td>\n",
       "      <td>1</td>\n",
       "      <td>0</td>\n",
       "      <td>0.388109</td>\n",
       "      <td>0.383891</td>\n",
       "      <td>1</td>\n",
       "      <td>-0.319605</td>\n",
       "      <td>0.402364</td>\n",
       "      <td>-0.594621</td>\n",
       "      <td>1.506538</td>\n",
       "      <td>0</td>\n",
       "      <td>1</td>\n",
       "      <td>0</td>\n",
       "      <td>0</td>\n",
       "      <td>0</td>\n",
       "      <td>0</td>\n",
       "      <td>0</td>\n",
       "      <td>0</td>\n",
       "      <td>0</td>\n",
       "    </tr>\n",
       "    <tr>\n",
       "      <th>3</th>\n",
       "      <td>C4</td>\n",
       "      <td>-1.070993</td>\n",
       "      <td>0</td>\n",
       "      <td>1</td>\n",
       "      <td>-1.082377</td>\n",
       "      <td>-0.955844</td>\n",
       "      <td>0</td>\n",
       "      <td>0.915891</td>\n",
       "      <td>0.402364</td>\n",
       "      <td>-2.427596</td>\n",
       "      <td>-0.641224</td>\n",
       "      <td>1</td>\n",
       "      <td>0</td>\n",
       "      <td>0</td>\n",
       "      <td>0</td>\n",
       "      <td>0</td>\n",
       "      <td>0</td>\n",
       "      <td>0</td>\n",
       "      <td>0</td>\n",
       "      <td>0</td>\n",
       "    </tr>\n",
       "    <tr>\n",
       "      <th>4</th>\n",
       "      <td>C19</td>\n",
       "      <td>0.072735</td>\n",
       "      <td>1</td>\n",
       "      <td>0</td>\n",
       "      <td>-0.905918</td>\n",
       "      <td>-0.839346</td>\n",
       "      <td>1</td>\n",
       "      <td>-1.025602</td>\n",
       "      <td>-0.774411</td>\n",
       "      <td>-2.427596</td>\n",
       "      <td>0.567530</td>\n",
       "      <td>1</td>\n",
       "      <td>0</td>\n",
       "      <td>0</td>\n",
       "      <td>0</td>\n",
       "      <td>0</td>\n",
       "      <td>0</td>\n",
       "      <td>0</td>\n",
       "      <td>0</td>\n",
       "      <td>0</td>\n",
       "    </tr>\n",
       "  </tbody>\n",
       "</table>\n",
       "</div>"
      ],
      "text/plain": [
       "  City_Code  Region_Code  Accomodation_Type  Reco_Insurance_Type  Upper_Age  \\\n",
       "0       C24     0.453041                  1                    1   0.388109   \n",
       "1        C2    -0.546579                  0                    1  -1.258835   \n",
       "2        C2     0.412972                  1                    0   0.388109   \n",
       "3        C4    -1.070993                  0                    1  -1.082377   \n",
       "4       C19     0.072735                  1                    0  -0.905918   \n",
       "\n",
       "   Lower_Age  Is_Spouse  Holding_Policy_Duration  Holding_Policy_Type  \\\n",
       "0   0.500390          0                 0.915891             0.402364   \n",
       "1  -1.130593          0                 0.915891             0.402364   \n",
       "2   0.383891          1                -0.319605             0.402364   \n",
       "3  -0.955844          0                 0.915891             0.402364   \n",
       "4  -0.839346          1                -1.025602            -0.774411   \n",
       "\n",
       "   Reco_Policy_Cat  Reco_Policy_Premium  X1  X2  X3  X4  X5  X6  X7  X8  X9  \n",
       "0        -2.260962             0.338243   0   0   1   0   0   0   0   0   0  \n",
       "1         1.071720            -1.709007   0   0   0   0   0   1   0   0   0  \n",
       "2        -0.594621             1.506538   0   1   0   0   0   0   0   0   0  \n",
       "3        -2.427596            -0.641224   1   0   0   0   0   0   0   0   0  \n",
       "4        -2.427596             0.567530   1   0   0   0   0   0   0   0   0  "
      ]
     },
     "execution_count": 33,
     "metadata": {},
     "output_type": "execute_result"
    }
   ],
   "source": [
    "X_rus.head()"
   ]
  },
  {
   "cell_type": "code",
   "execution_count": 34,
   "id": "e1c8d550",
   "metadata": {},
   "outputs": [],
   "source": [
    "X_rus.drop('City_Code',axis=1,inplace=True)  # drop City_Code"
   ]
  },
  {
   "cell_type": "code",
   "execution_count": 35,
   "id": "ec89101b",
   "metadata": {},
   "outputs": [],
   "source": [
    "X_rus.to_csv('X_final.csv',index=False)\n",
    "y_rus.to_csv('y_final.csv',index=False)"
   ]
  },
  {
   "cell_type": "markdown",
   "id": "3c89e3c6",
   "metadata": {},
   "source": [
    "### Train Test Split"
   ]
  },
  {
   "cell_type": "code",
   "execution_count": 36,
   "id": "c7092496",
   "metadata": {},
   "outputs": [],
   "source": [
    "from sklearn.model_selection import train_test_split\n",
    "X_train, X_test, y_train, y_test = train_test_split(X_rus, y_rus, test_size=0.2, random_state=42)"
   ]
  },
  {
   "cell_type": "markdown",
   "id": "c63f6476",
   "metadata": {},
   "source": [
    "### Modelling\n",
    " Logistic Regression, SVM, KNN, DT, RF, Gradient Boosting, AdaBoosting etc"
   ]
  },
  {
   "cell_type": "markdown",
   "id": "de51c8e6",
   "metadata": {},
   "source": [
    "## `Logistic Regression -------------------------------------------`"
   ]
  },
  {
   "cell_type": "markdown",
   "id": "0e776e3f",
   "metadata": {},
   "source": [
    "#### `train`"
   ]
  },
  {
   "cell_type": "code",
   "execution_count": 37,
   "id": "d6bf1572",
   "metadata": {},
   "outputs": [],
   "source": [
    "from sklearn.linear_model import LogisticRegression\n",
    "lr = LogisticRegression()\n",
    "lr.fit(X_train,y_train)\n",
    "y_pred = lr.predict(X_train)"
   ]
  },
  {
   "cell_type": "code",
   "execution_count": 38,
   "id": "7776f454",
   "metadata": {},
   "outputs": [
    {
     "name": "stdout",
     "output_type": "stream",
     "text": [
      "Accuracy => 0.5508889461479001\n",
      "Precision => 0.5466048080978491\n",
      "F-1 score => 0.5979238754325259\n",
      "Confusion matrix =>\n",
      " [[ 842 1075]\n",
      " [ 668 1296]]\n",
      "Recall score 0.659877800407332\n"
     ]
    }
   ],
   "source": [
    "from sklearn.metrics import accuracy_score,precision_score,f1_score,confusion_matrix,recall_score\n",
    "print('Accuracy =>',accuracy_score(y_train,y_pred))\n",
    "print('Precision =>',precision_score(y_train,y_pred))\n",
    "print('F-1 score =>',f1_score(y_train,y_pred))\n",
    "print('Confusion matrix =>\\n',confusion_matrix(y_train,y_pred))\n",
    "print('Recall score',recall_score(y_train,y_pred))"
   ]
  },
  {
   "cell_type": "markdown",
   "id": "497477c7",
   "metadata": {},
   "source": [
    "#### `test`"
   ]
  },
  {
   "cell_type": "code",
   "execution_count": 39,
   "id": "b5730ce3",
   "metadata": {},
   "outputs": [],
   "source": [
    "from sklearn.linear_model import LogisticRegression\n",
    "lr = LogisticRegression()\n",
    "lr.fit(X_train,y_train)\n",
    "y_pred = lr.predict(X_test)"
   ]
  },
  {
   "cell_type": "code",
   "execution_count": 40,
   "id": "b1bfd4b0",
   "metadata": {},
   "outputs": [
    {
     "name": "stdout",
     "output_type": "stream",
     "text": [
      "Accuracy => 0.4963954685890834\n",
      "Precision => 0.47768595041322315\n",
      "F-1 score => 0.541705716963449\n",
      "Confusion matrix =>\n",
      " [[193 316]\n",
      " [173 289]]\n",
      "Recall score 0.6255411255411255\n"
     ]
    }
   ],
   "source": [
    "from sklearn.metrics import accuracy_score,precision_score,f1_score,confusion_matrix,recall_score\n",
    "print('Accuracy =>',accuracy_score(y_test,y_pred))\n",
    "print('Precision =>',precision_score(y_test,y_pred))\n",
    "print('F-1 score =>',f1_score(y_test,y_pred))\n",
    "print('Confusion matrix =>\\n',confusion_matrix(y_test,y_pred))\n",
    "print('Recall score',recall_score(y_test,y_pred))"
   ]
  },
  {
   "cell_type": "markdown",
   "id": "36fe1e7b",
   "metadata": {},
   "source": [
    "### `AUC ROC ------------------------------------`"
   ]
  },
  {
   "cell_type": "code",
   "execution_count": 41,
   "id": "1b82ffce",
   "metadata": {},
   "outputs": [
    {
     "data": {
      "text/plain": [
       "array([[0.45583486, 0.54416514],\n",
       "       [0.69630627, 0.30369373],\n",
       "       [0.4011112 , 0.5988888 ],\n",
       "       ...,\n",
       "       [0.64335534, 0.35664466],\n",
       "       [0.44339997, 0.55660003],\n",
       "       [0.40554647, 0.59445353]])"
      ]
     },
     "execution_count": 41,
     "metadata": {},
     "output_type": "execute_result"
    }
   ],
   "source": [
    "y_pred_proba_logistic = lr.predict_proba(X_test)\n",
    "y_pred_proba_logistic"
   ]
  },
  {
   "cell_type": "code",
   "execution_count": 42,
   "id": "1dfcc0e4",
   "metadata": {},
   "outputs": [
    {
     "data": {
      "image/png": "[encoded data removed]",
      "text/plain": [
       "<Figure size 720x504 with 1 Axes>"
      ]
     },
     "metadata": {
      "needs_background": "light"
     },
     "output_type": "display_data"
    },
    {
     "name": "stdout",
     "output_type": "stream",
     "text": [
      "Logistic Regression AUC is => 0.5157808792386396\n"
     ]
    }
   ],
   "source": [
    "from sklearn.metrics import roc_curve,roc_auc_score\n",
    "\n",
    "plt.figure(figsize=(10,7))\n",
    "\n",
    "ns_prob = [0 for _ in range(len(y_test))]  # bad algo\n",
    "ns_fpr,ns_tpr,thresholds = roc_curve(y_test,ns_prob)\n",
    "\n",
    "lr_prob = y_pred_proba_logistic[:,1]\n",
    "lr_auc = roc_auc_score(y_test,lr_prob)   # logistic regression\n",
    "lr_fpr,lr_tpr,thesholds = roc_curve(y_test,lr_prob)\n",
    "plt.plot(lr_fpr,lr_tpr,marker='.',label='Logistic Regression')\n",
    "plt.plot(ns_fpr,ns_tpr,marker='.',label='Bad Random Algo')\n",
    "plt.xlabel('False Positive Rate')\n",
    "plt.ylabel('True Positive Rate')\n",
    "plt.legend()\n",
    "plt.show()\n",
    "\n",
    "print(f'Logistic Regression AUC is => {lr_auc}')"
   ]
  },
  {
   "cell_type": "markdown",
   "id": "5f8435b2",
   "metadata": {},
   "source": [
    "## `SVC -------------------------------------------`"
   ]
  },
  {
   "cell_type": "markdown",
   "id": "af564c49",
   "metadata": {},
   "source": [
    "#### `train`"
   ]
  },
  {
   "cell_type": "code",
   "execution_count": 43,
   "id": "f8f7df1f",
   "metadata": {},
   "outputs": [],
   "source": [
    "from sklearn.svm import SVC\n",
    "svc = SVC()\n",
    "svc.fit(X_train,y_train)\n",
    "y_pred = svc.predict(X_train)"
   ]
  },
  {
   "cell_type": "code",
   "execution_count": 44,
   "id": "0bb60eae",
   "metadata": {},
   "outputs": [
    {
     "name": "stdout",
     "output_type": "stream",
     "text": [
      "Accuracy => 0.6240659623808297\n",
      "Precision => 0.6012024048096193\n",
      "F-1 score => 0.6727965911639382\n",
      "Confusion matrix =>\n",
      " [[ 922  995]\n",
      " [ 464 1500]]\n",
      "Recall score 0.7637474541751528\n"
     ]
    }
   ],
   "source": [
    "from sklearn.metrics import accuracy_score,precision_score,f1_score,confusion_matrix,recall_score\n",
    "print('Accuracy =>',accuracy_score(y_train,y_pred))\n",
    "print('Precision =>',precision_score(y_train,y_pred))\n",
    "print('F-1 score =>',f1_score(y_train,y_pred))\n",
    "print('Confusion matrix =>\\n',confusion_matrix(y_train,y_pred))\n",
    "print('Recall score',recall_score(y_train,y_pred))"
   ]
  },
  {
   "cell_type": "markdown",
   "id": "99925068",
   "metadata": {},
   "source": [
    "#### `test`"
   ]
  },
  {
   "cell_type": "code",
   "execution_count": 45,
   "id": "e0c0030d",
   "metadata": {},
   "outputs": [],
   "source": [
    "from sklearn.svm import SVC\n",
    "svc = SVC(probability=True)\n",
    "svc.fit(X_train,y_train)\n",
    "y_pred = svc.predict(X_test)"
   ]
  },
  {
   "cell_type": "code",
   "execution_count": 46,
   "id": "4ba2010c",
   "metadata": {},
   "outputs": [
    {
     "name": "stdout",
     "output_type": "stream",
     "text": [
      "Accuracy => 0.5314109165808445\n",
      "Precision => 0.5056726094003241\n",
      "F-1 score => 0.5783132530120482\n",
      "Confusion matrix =>\n",
      " [[204 305]\n",
      " [150 312]]\n",
      "Recall score 0.6753246753246753\n"
     ]
    }
   ],
   "source": [
    "print('Accuracy =>',accuracy_score(y_test,y_pred))\n",
    "print('Precision =>',precision_score(y_test,y_pred))\n",
    "print('F-1 score =>',f1_score(y_test,y_pred))\n",
    "print('Confusion matrix =>\\n',confusion_matrix(y_test,y_pred))\n",
    "print('Recall score',recall_score(y_test,y_pred))"
   ]
  },
  {
   "cell_type": "markdown",
   "id": "1f269912",
   "metadata": {},
   "source": [
    "### `AUC ROC ------------------------------------`"
   ]
  },
  {
   "cell_type": "code",
   "execution_count": 47,
   "id": "cc2c9362",
   "metadata": {},
   "outputs": [
    {
     "data": {
      "text/plain": [
       "array([[0.47870652, 0.52129348],\n",
       "       [0.63730861, 0.36269139],\n",
       "       [0.43635476, 0.56364524],\n",
       "       ...,\n",
       "       [0.58703562, 0.41296438],\n",
       "       [0.5       , 0.5       ],\n",
       "       [0.5       , 0.5       ]])"
      ]
     },
     "execution_count": 47,
     "metadata": {},
     "output_type": "execute_result"
    }
   ],
   "source": [
    "y_pred_proba_svc = svc.predict_proba(X_test)\n",
    "y_pred_proba_svc"
   ]
  },
  {
   "cell_type": "code",
   "execution_count": 48,
   "id": "6d87b122",
   "metadata": {},
   "outputs": [
    {
     "data": {
      "image/png": "[encoded data removed]",
      "text/plain": [
       "<Figure size 720x504 with 1 Axes>"
      ]
     },
     "metadata": {
      "needs_background": "light"
     },
     "output_type": "display_data"
    },
    {
     "name": "stdout",
     "output_type": "stream",
     "text": [
      "SVC AUC is => 0.5438428630963013\n"
     ]
    }
   ],
   "source": [
    "from sklearn.metrics import roc_curve,roc_auc_score\n",
    "\n",
    "plt.figure(figsize=(10,7))\n",
    "\n",
    "ns_prob = [0 for _ in range(len(y_test))]  # bad algo\n",
    "ns_fpr,ns_tpr,thresholds = roc_curve(y_test,ns_prob)\n",
    "\n",
    "svc_prob = y_pred_proba_svc[:,1]\n",
    "svc_auc = roc_auc_score(y_test,svc_prob)   # logistic regression\n",
    "svc_fpr,svc_tpr,thesholds = roc_curve(y_test,svc_prob)\n",
    "plt.plot(svc_fpr,svc_tpr,marker='.',label='SVC')\n",
    "plt.plot(ns_fpr,ns_tpr,marker='.',label='Bad Random Algo')\n",
    "plt.xlabel('False Positive Rate')\n",
    "plt.ylabel('True Positive Rate')\n",
    "plt.legend()\n",
    "plt.show()\n",
    "\n",
    "print(f'SVC AUC is => {svc_auc}')"
   ]
  },
  {
   "cell_type": "markdown",
   "id": "c625e301",
   "metadata": {},
   "source": [
    "## `KNN -------------------------------------------`"
   ]
  },
  {
   "cell_type": "markdown",
   "id": "e6ba303b",
   "metadata": {},
   "source": [
    "#### train"
   ]
  },
  {
   "cell_type": "code",
   "execution_count": 49,
   "id": "13db3e76",
   "metadata": {},
   "outputs": [],
   "source": [
    "from sklearn.neighbors import KNeighborsClassifier\n",
    "knn = KNeighborsClassifier()\n",
    "knn.fit(X_train,y_train)\n",
    "y_pred = knn.predict(X_train)"
   ]
  },
  {
   "cell_type": "code",
   "execution_count": 50,
   "id": "bdda9e21",
   "metadata": {},
   "outputs": [
    {
     "name": "stdout",
     "output_type": "stream",
     "text": [
      "Accuracy => 0.7044576140170059\n",
      "Precision => 0.7019278299555116\n",
      "F-1 score => 0.7123150238274392\n",
      "Confusion matrix =>\n",
      " [[1314  603]\n",
      " [ 544 1420]]\n",
      "Recall score 0.7230142566191446\n"
     ]
    }
   ],
   "source": [
    "from sklearn.metrics import accuracy_score,precision_score,f1_score,confusion_matrix,recall_score\n",
    "print('Accuracy =>',accuracy_score(y_train,y_pred))\n",
    "print('Precision =>',precision_score(y_train,y_pred))\n",
    "print('F-1 score =>',f1_score(y_train,y_pred))\n",
    "print('Confusion matrix =>\\n',confusion_matrix(y_train,y_pred))\n",
    "print('Recall score',recall_score(y_train,y_pred))"
   ]
  },
  {
   "cell_type": "markdown",
   "id": "79cb0ab6",
   "metadata": {},
   "source": [
    "#### test"
   ]
  },
  {
   "cell_type": "code",
   "execution_count": 51,
   "id": "ac063c62",
   "metadata": {},
   "outputs": [],
   "source": [
    "from sklearn.neighbors import KNeighborsClassifier\n",
    "knn = KNeighborsClassifier()\n",
    "knn.fit(X_train,y_train)\n",
    "y_pred = knn.predict(X_test)"
   ]
  },
  {
   "cell_type": "code",
   "execution_count": 52,
   "id": "770b1d14",
   "metadata": {},
   "outputs": [
    {
     "name": "stdout",
     "output_type": "stream",
     "text": [
      "Accuracy => 0.49536560247167866\n",
      "Precision => 0.4723320158102767\n",
      "F-1 score => 0.49380165289256195\n",
      "Confusion matrix =>\n",
      " [[242 267]\n",
      " [223 239]]\n",
      "Recall score 0.5173160173160173\n"
     ]
    }
   ],
   "source": [
    "print('Accuracy =>',accuracy_score(y_test,y_pred))\n",
    "print('Precision =>',precision_score(y_test,y_pred))\n",
    "print('F-1 score =>',f1_score(y_test,y_pred))\n",
    "print('Confusion matrix =>\\n',confusion_matrix(y_test,y_pred))\n",
    "print('Recall score',recall_score(y_test,y_pred))"
   ]
  },
  {
   "cell_type": "markdown",
   "id": "847f06ad",
   "metadata": {},
   "source": [
    "### `AUC ROC ------------------------------------------`"
   ]
  },
  {
   "cell_type": "code",
   "execution_count": 53,
   "id": "af2ab30b",
   "metadata": {},
   "outputs": [
    {
     "data": {
      "text/plain": [
       "array([[0.2, 0.8],\n",
       "       [1. , 0. ],\n",
       "       [0.2, 0.8],\n",
       "       ...,\n",
       "       [0.8, 0.2],\n",
       "       [0.2, 0.8],\n",
       "       [0.6, 0.4]])"
      ]
     },
     "execution_count": 53,
     "metadata": {},
     "output_type": "execute_result"
    }
   ],
   "source": [
    "y_pred_proba_knn = knn.predict_proba(X_test)\n",
    "y_pred_proba_knn"
   ]
  },
  {
   "cell_type": "code",
   "execution_count": 54,
   "id": "00a25dd3",
   "metadata": {},
   "outputs": [
    {
     "data": {
      "image/png": "[encoded data removed]",
      "text/plain": [
       "<Figure size 720x504 with 1 Axes>"
      ]
     },
     "metadata": {
      "needs_background": "light"
     },
     "output_type": "display_data"
    },
    {
     "name": "stdout",
     "output_type": "stream",
     "text": [
      "KNN AUC is => 0.5178093026816013\n"
     ]
    }
   ],
   "source": [
    "from sklearn.metrics import roc_curve,roc_auc_score\n",
    "\n",
    "plt.figure(figsize=(10,7))\n",
    "\n",
    "ns_prob = [0 for _ in range(len(y_test))]  # bad algo\n",
    "ns_fpr,ns_tpr,thresholds = roc_curve(y_test,ns_prob)\n",
    "\n",
    "knn_prob = y_pred_proba_knn[:,1]\n",
    "knn_auc = roc_auc_score(y_test,knn_prob)   # logistic regression\n",
    "knn_fpr,knn_tpr,thesholds = roc_curve(y_test,knn_prob)\n",
    "plt.plot(knn_fpr,knn_tpr,marker='.',label='KNN')\n",
    "plt.plot(ns_fpr,ns_tpr,marker='.',label='Bad Random Algo')\n",
    "plt.xlabel('False Positive Rate')\n",
    "plt.ylabel('True Positive Rate')\n",
    "plt.legend()\n",
    "plt.show()\n",
    "\n",
    "print(f'KNN AUC is => {knn_auc}')"
   ]
  },
  {
   "cell_type": "markdown",
   "id": "61f21e19",
   "metadata": {},
   "source": [
    "## `Decision Tree -------------------------------------------`"
   ]
  },
  {
   "cell_type": "markdown",
   "id": "0fab1d02",
   "metadata": {},
   "source": [
    "#### train"
   ]
  },
  {
   "cell_type": "code",
   "execution_count": 55,
   "id": "964ea6fc",
   "metadata": {},
   "outputs": [],
   "source": [
    "from sklearn.tree import DecisionTreeClassifier\n",
    "dtrc = DecisionTreeClassifier()\n",
    "dtrc.fit(X_train,y_train)\n",
    "y_pred = dtrc.predict(X_train)"
   ]
  },
  {
   "cell_type": "code",
   "execution_count": 56,
   "id": "10ef5de9",
   "metadata": {},
   "outputs": [
    {
     "name": "stdout",
     "output_type": "stream",
     "text": [
      "Accuracy => 1.0\n",
      "Precision => 1.0\n",
      "F-1 score => 1.0\n",
      "Confusion matrix =>\n",
      " [[1917    0]\n",
      " [   0 1964]]\n",
      "Recall score 1.0\n"
     ]
    }
   ],
   "source": [
    "from sklearn.metrics import accuracy_score,precision_score,f1_score,confusion_matrix,recall_score\n",
    "print('Accuracy =>',accuracy_score(y_train,y_pred))\n",
    "print('Precision =>',precision_score(y_train,y_pred))\n",
    "print('F-1 score =>',f1_score(y_train,y_pred))\n",
    "print('Confusion matrix =>\\n',confusion_matrix(y_train,y_pred))\n",
    "print('Recall score',recall_score(y_train,y_pred))"
   ]
  },
  {
   "cell_type": "markdown",
   "id": "d4397dd0",
   "metadata": {},
   "source": [
    "#### test"
   ]
  },
  {
   "cell_type": "code",
   "execution_count": 57,
   "id": "97249e03",
   "metadata": {},
   "outputs": [],
   "source": [
    "from sklearn.tree import DecisionTreeClassifier\n",
    "dtrc = DecisionTreeClassifier()\n",
    "dtrc.fit(X_train,y_train)\n",
    "y_pred = dtrc.predict(X_test)"
   ]
  },
  {
   "cell_type": "code",
   "execution_count": 58,
   "id": "d5136bb7",
   "metadata": {},
   "outputs": [
    {
     "name": "stdout",
     "output_type": "stream",
     "text": [
      "Accuracy => 0.5478887744593203\n",
      "Precision => 0.5248380129589633\n",
      "F-1 score => 0.5254054054054054\n",
      "Confusion matrix =>\n",
      " [[289 220]\n",
      " [219 243]]\n",
      "Recall score 0.525974025974026\n"
     ]
    }
   ],
   "source": [
    "print('Accuracy =>',accuracy_score(y_test,y_pred))\n",
    "print('Precision =>',precision_score(y_test,y_pred))\n",
    "print('F-1 score =>',f1_score(y_test,y_pred))\n",
    "print('Confusion matrix =>\\n',confusion_matrix(y_test,y_pred))\n",
    "print('Recall score',recall_score(y_test,y_pred))"
   ]
  },
  {
   "cell_type": "markdown",
   "id": "7388f792",
   "metadata": {},
   "source": [
    "### `AUC ROC -------------------------------------`"
   ]
  },
  {
   "cell_type": "code",
   "execution_count": 59,
   "id": "f43a2833",
   "metadata": {},
   "outputs": [
    {
     "data": {
      "text/plain": [
       "array([[0., 1.],\n",
       "       [1., 0.],\n",
       "       [1., 0.],\n",
       "       ...,\n",
       "       [0., 1.],\n",
       "       [0., 1.],\n",
       "       [1., 0.]])"
      ]
     },
     "execution_count": 59,
     "metadata": {},
     "output_type": "execute_result"
    }
   ],
   "source": [
    "y_pred_proba_dtree = dtrc.predict_proba(X_test)\n",
    "y_pred_proba_dtree"
   ]
  },
  {
   "cell_type": "code",
   "execution_count": 60,
   "id": "9ccf6c64",
   "metadata": {},
   "outputs": [
    {
     "data": {
      "image/png": "[encoded data removed]",
      "text/plain": [
       "<Figure size 720x504 with 1 Axes>"
      ]
     },
     "metadata": {
      "needs_background": "light"
     },
     "output_type": "display_data"
    },
    {
     "name": "stdout",
     "output_type": "stream",
     "text": [
      "Decision Tree AUC is => 0.5468769933406475\n"
     ]
    }
   ],
   "source": [
    "from sklearn.metrics import roc_curve,roc_auc_score\n",
    "\n",
    "plt.figure(figsize=(10,7))\n",
    "\n",
    "ns_prob = [0 for _ in range(len(y_test))]  # bad algo\n",
    "ns_fpr,ns_tpr,thresholds = roc_curve(y_test,ns_prob)\n",
    "\n",
    "dtree_prob = y_pred_proba_dtree[:,1]\n",
    "dtree_auc = roc_auc_score(y_test,dtree_prob)   # logistic regression\n",
    "dtree_fpr,dtree_tpr,thesholds = roc_curve(y_test,dtree_prob)\n",
    "plt.plot(dtree_fpr,dtree_tpr,marker='.',label='Decision tree')\n",
    "plt.plot(ns_fpr,ns_tpr,marker='.',label='Bad Random Algo')\n",
    "plt.xlabel('False Positive Rate')\n",
    "plt.ylabel('True Positive Rate')\n",
    "plt.legend()\n",
    "plt.show()\n",
    "\n",
    "print(f'Decision Tree AUC is => {dtree_auc}')"
   ]
  },
  {
   "cell_type": "markdown",
   "id": "99b78e07",
   "metadata": {},
   "source": [
    "## `Random Forest -------------------------------------------`"
   ]
  },
  {
   "cell_type": "markdown",
   "id": "ad4d4437",
   "metadata": {},
   "source": [
    "#### train"
   ]
  },
  {
   "cell_type": "code",
   "execution_count": 61,
   "id": "f26def66",
   "metadata": {},
   "outputs": [],
   "source": [
    "from sklearn.ensemble import RandomForestClassifier\n",
    "rfc = RandomForestClassifier()\n",
    "rfc.fit(X_train,y_train)\n",
    "y_pred = rfc.predict(X_train)"
   ]
  },
  {
   "cell_type": "code",
   "execution_count": 62,
   "id": "680c30a3",
   "metadata": {},
   "outputs": [
    {
     "name": "stdout",
     "output_type": "stream",
     "text": [
      "Accuracy => 1.0\n",
      "Precision => 1.0\n",
      "F-1 score => 1.0\n",
      "Confusion matrix =>\n",
      " [[1917    0]\n",
      " [   0 1964]]\n",
      "Recall score 1.0\n"
     ]
    }
   ],
   "source": [
    "from sklearn.metrics import accuracy_score,precision_score,f1_score,confusion_matrix,recall_score\n",
    "print('Accuracy =>',accuracy_score(y_train,y_pred))\n",
    "print('Precision =>',precision_score(y_train,y_pred))\n",
    "print('F-1 score =>',f1_score(y_train,y_pred))\n",
    "print('Confusion matrix =>\\n',confusion_matrix(y_train,y_pred))\n",
    "print('Recall score',recall_score(y_train,y_pred))"
   ]
  },
  {
   "cell_type": "markdown",
   "id": "b2437f91",
   "metadata": {},
   "source": [
    "#### test"
   ]
  },
  {
   "cell_type": "code",
   "execution_count": 63,
   "id": "242f9ae7",
   "metadata": {},
   "outputs": [],
   "source": [
    "from sklearn.ensemble import RandomForestClassifier\n",
    "rfc = RandomForestClassifier()\n",
    "rfc.fit(X_train,y_train)\n",
    "y_pred = rfc.predict(X_test)"
   ]
  },
  {
   "cell_type": "code",
   "execution_count": 64,
   "id": "a63cac3e",
   "metadata": {},
   "outputs": [
    {
     "name": "stdout",
     "output_type": "stream",
     "text": [
      "Accuracy => 0.5118434603501545\n",
      "Precision => 0.48785425101214575\n",
      "F-1 score => 0.5041841004184101\n",
      "Confusion matrix =>\n",
      " [[256 253]\n",
      " [221 241]]\n",
      "Recall score 0.5216450216450217\n"
     ]
    }
   ],
   "source": [
    "print('Accuracy =>',accuracy_score(y_test,y_pred))\n",
    "print('Precision =>',precision_score(y_test,y_pred))\n",
    "print('F-1 score =>',f1_score(y_test,y_pred))\n",
    "print('Confusion matrix =>\\n',confusion_matrix(y_test,y_pred))\n",
    "print('Recall score',recall_score(y_test,y_pred))"
   ]
  },
  {
   "cell_type": "markdown",
   "id": "1052b951",
   "metadata": {},
   "source": [
    "### `AUC ROC --------------------------------`"
   ]
  },
  {
   "cell_type": "code",
   "execution_count": 65,
   "id": "8a2cab62",
   "metadata": {},
   "outputs": [
    {
     "data": {
      "text/plain": [
       "array([[0.39, 0.61],\n",
       "       [0.94, 0.06],\n",
       "       [0.54, 0.46],\n",
       "       ...,\n",
       "       [0.55, 0.45],\n",
       "       [0.33, 0.67],\n",
       "       [0.51, 0.49]])"
      ]
     },
     "execution_count": 65,
     "metadata": {},
     "output_type": "execute_result"
    }
   ],
   "source": [
    "y_pred_proba_rfc = rfc.predict_proba(X_test)\n",
    "y_pred_proba_rfc"
   ]
  },
  {
   "cell_type": "code",
   "execution_count": 66,
   "id": "ae91bb9d",
   "metadata": {},
   "outputs": [
    {
     "data": {
      "image/png": "[encoded data removed]",
      "text/plain": [
       "<Figure size 720x504 with 1 Axes>"
      ]
     },
     "metadata": {
      "needs_background": "light"
     },
     "output_type": "display_data"
    },
    {
     "name": "stdout",
     "output_type": "stream",
     "text": [
      "Decision Tree AUC is => 0.5349913675061023\n"
     ]
    }
   ],
   "source": [
    "from sklearn.metrics import roc_curve,roc_auc_score\n",
    "\n",
    "plt.figure(figsize=(10,7))\n",
    "\n",
    "ns_prob = [0 for _ in range(len(y_test))]  # bad algo\n",
    "ns_fpr,ns_tpr,thresholds = roc_curve(y_test,ns_prob)\n",
    "\n",
    "rfc_prob = y_pred_proba_rfc[:,1]\n",
    "rfc_auc = roc_auc_score(y_test,rfc_prob)   # logistic regression\n",
    "rfc_fpr,rfc_tpr,thesholds = roc_curve(y_test,rfc_prob)\n",
    "plt.plot(rfc_fpr,rfc_tpr,marker='.',label='Decision tree')\n",
    "plt.plot(ns_fpr,ns_tpr,marker='.',label='Bad Random Algo')\n",
    "plt.xlabel('False Positive Rate')\n",
    "plt.ylabel('True Positive Rate')\n",
    "plt.legend()\n",
    "plt.show()\n",
    "\n",
    "print(f'Decision Tree AUC is => {rfc_auc}')"
   ]
  },
  {
   "cell_type": "markdown",
   "id": "a5dbdb2f",
   "metadata": {},
   "source": [
    "## `Gradient Boosting --------------------------------------`\n",
    "[GBT](https://www.analyticsvidhya.com/blog/2021/03/gradient-boosting-machine-for-data-scientists/)"
   ]
  },
  {
   "cell_type": "markdown",
   "id": "78e1e81c",
   "metadata": {},
   "source": [
    "#### train"
   ]
  },
  {
   "cell_type": "code",
   "execution_count": 67,
   "id": "652f5bc7",
   "metadata": {},
   "outputs": [],
   "source": [
    "from sklearn.ensemble import GradientBoostingClassifier\n",
    "gbc = GradientBoostingClassifier()\n",
    "gbc.fit(X_train,y_train)\n",
    "y_pred = gbc.predict(X_train)"
   ]
  },
  {
   "cell_type": "code",
   "execution_count": 68,
   "id": "2df8580d",
   "metadata": {},
   "outputs": [
    {
     "name": "stdout",
     "output_type": "stream",
     "text": [
      "Accuracy => 0.6745684102035557\n",
      "Precision => 0.6494669509594883\n",
      "F-1 score => 0.7068925504757484\n",
      "Confusion matrix =>\n",
      " [[1095  822]\n",
      " [ 441 1523]]\n",
      "Recall score 0.7754582484725051\n"
     ]
    }
   ],
   "source": [
    "from sklearn.metrics import accuracy_score,precision_score,f1_score,confusion_matrix,recall_score\n",
    "print('Accuracy =>',accuracy_score(y_train,y_pred))\n",
    "print('Precision =>',precision_score(y_train,y_pred))\n",
    "print('F-1 score =>',f1_score(y_train,y_pred))\n",
    "print('Confusion matrix =>\\n',confusion_matrix(y_train,y_pred))\n",
    "print('Recall score',recall_score(y_train,y_pred))"
   ]
  },
  {
   "cell_type": "markdown",
   "id": "90772738",
   "metadata": {},
   "source": [
    "#### test"
   ]
  },
  {
   "cell_type": "code",
   "execution_count": 70,
   "id": "da23ede0",
   "metadata": {},
   "outputs": [],
   "source": [
    "from sklearn.ensemble import GradientBoostingClassifier\n",
    "gbc = GradientBoostingClassifier()\n",
    "gbc.fit(X_train,y_train)\n",
    "y_pred = gbc.predict(X_test)"
   ]
  },
  {
   "cell_type": "code",
   "execution_count": 71,
   "id": "232e1501",
   "metadata": {},
   "outputs": [
    {
     "name": "stdout",
     "output_type": "stream",
     "text": [
      "Accuracy => 0.5417095777548918\n",
      "Precision => 0.5151515151515151\n",
      "F-1 score => 0.5650048875855327\n",
      "Confusion matrix =>\n",
      " [[237 272]\n",
      " [173 289]]\n",
      "Recall score 0.6255411255411255\n"
     ]
    }
   ],
   "source": [
    "print('Accuracy =>',accuracy_score(y_test,y_pred))\n",
    "print('Precision =>',precision_score(y_test,y_pred))\n",
    "print('F-1 score =>',f1_score(y_test,y_pred))\n",
    "print('Confusion matrix =>\\n',confusion_matrix(y_test,y_pred))\n",
    "print('Recall score',recall_score(y_test,y_pred))"
   ]
  },
  {
   "cell_type": "markdown",
   "id": "9a1963ea",
   "metadata": {},
   "source": [
    "### `AUC ROC --------------------------`"
   ]
  },
  {
   "cell_type": "code",
   "execution_count": 72,
   "id": "947ad7dc",
   "metadata": {},
   "outputs": [
    {
     "data": {
      "text/plain": [
       "array([[0.50522893, 0.49477107],\n",
       "       [0.97619086, 0.02380914],\n",
       "       [0.38421491, 0.61578509],\n",
       "       ...,\n",
       "       [0.28733054, 0.71266946],\n",
       "       [0.37573582, 0.62426418],\n",
       "       [0.40044536, 0.59955464]])"
      ]
     },
     "execution_count": 72,
     "metadata": {},
     "output_type": "execute_result"
    }
   ],
   "source": [
    "y_pred_proba_gbc = gbc.predict_proba(X_test)\n",
    "y_pred_proba_gbc"
   ]
  },
  {
   "cell_type": "code",
   "execution_count": 73,
   "id": "2d87ce76",
   "metadata": {},
   "outputs": [
    {
     "data": {
      "image/png": "[encoded data removed]",
      "text/plain": [
       "<Figure size 720x504 with 1 Axes>"
      ]
     },
     "metadata": {
      "needs_background": "light"
     },
     "output_type": "display_data"
    },
    {
     "name": "stdout",
     "output_type": "stream",
     "text": [
      "Decision Tree AUC is => 0.5773756368058922\n"
     ]
    }
   ],
   "source": [
    "from sklearn.metrics import roc_curve,roc_auc_score\n",
    "\n",
    "plt.figure(figsize=(10,7))\n",
    "\n",
    "ns_prob = [0 for _ in range(len(y_test))]  # bad algo\n",
    "ns_fpr,ns_tpr,thresholds = roc_curve(y_test,ns_prob)\n",
    "\n",
    "gbc_prob = y_pred_proba_gbc[:,1]\n",
    "gbc_auc = roc_auc_score(y_test,gbc_prob)   # logistic regression\n",
    "gbc_fpr,gbc_tpr,thesholds = roc_curve(y_test,gbc_prob)\n",
    "plt.plot(gbc_fpr,gbc_tpr,marker='.',label='Decision tree')\n",
    "plt.plot(ns_fpr,ns_tpr,marker='.',label='Bad Random Algo')\n",
    "plt.xlabel('False Positive Rate')\n",
    "plt.ylabel('True Positive Rate')\n",
    "plt.legend()\n",
    "plt.show()\n",
    "\n",
    "print(f'Decision Tree AUC is => {gbc_auc}')"
   ]
  },
  {
   "cell_type": "markdown",
   "id": "b2f99783",
   "metadata": {},
   "source": [
    "## `Ada Boost ---------------------------------------------------`"
   ]
  },
  {
   "cell_type": "markdown",
   "id": "a61a67f3",
   "metadata": {},
   "source": [
    "#### train"
   ]
  },
  {
   "cell_type": "code",
   "execution_count": 74,
   "id": "61d69870",
   "metadata": {},
   "outputs": [],
   "source": [
    "from sklearn.ensemble import AdaBoostClassifier\n",
    "abc = AdaBoostClassifier()\n",
    "abc.fit(X_train,y_train)\n",
    "y_pred = abc.predict(X_train)"
   ]
  },
  {
   "cell_type": "code",
   "execution_count": 75,
   "id": "7a6880f3",
   "metadata": {},
   "outputs": [
    {
     "name": "stdout",
     "output_type": "stream",
     "text": [
      "Accuracy => 0.6150476681267715\n",
      "Precision => 0.6005132591958939\n",
      "F-1 score => 0.6527196652719666\n",
      "Confusion matrix =>\n",
      " [[ 983  934]\n",
      " [ 560 1404]]\n",
      "Recall score 0.714867617107943\n"
     ]
    }
   ],
   "source": [
    "from sklearn.metrics import accuracy_score,precision_score,f1_score,confusion_matrix,recall_score\n",
    "print('Accuracy =>',accuracy_score(y_train,y_pred))\n",
    "print('Precision =>',precision_score(y_train,y_pred))\n",
    "print('F-1 score =>',f1_score(y_train,y_pred))\n",
    "print('Confusion matrix =>\\n',confusion_matrix(y_train,y_pred))\n",
    "print('Recall score',recall_score(y_train,y_pred))"
   ]
  },
  {
   "cell_type": "markdown",
   "id": "a2058bbf",
   "metadata": {},
   "source": [
    "#### test"
   ]
  },
  {
   "cell_type": "code",
   "execution_count": 76,
   "id": "26ca0dfa",
   "metadata": {},
   "outputs": [],
   "source": [
    "from sklearn.ensemble import AdaBoostClassifier\n",
    "abc = AdaBoostClassifier()\n",
    "abc.fit(X_train,y_train)\n",
    "y_pred = abc.predict(X_test)"
   ]
  },
  {
   "cell_type": "code",
   "execution_count": 77,
   "id": "8d37e4af",
   "metadata": {},
   "outputs": [
    {
     "name": "stdout",
     "output_type": "stream",
     "text": [
      "Accuracy => 0.5427394438722966\n",
      "Precision => 0.5161290322580645\n",
      "F-1 score => 0.5647058823529412\n",
      "Confusion matrix =>\n",
      " [[239 270]\n",
      " [174 288]]\n",
      "Recall score 0.6233766233766234\n"
     ]
    }
   ],
   "source": [
    "print('Accuracy =>',accuracy_score(y_test,y_pred))\n",
    "print('Precision =>',precision_score(y_test,y_pred))\n",
    "print('F-1 score =>',f1_score(y_test,y_pred))\n",
    "print('Confusion matrix =>\\n',confusion_matrix(y_test,y_pred))\n",
    "print('Recall score',recall_score(y_test,y_pred))"
   ]
  },
  {
   "cell_type": "markdown",
   "id": "d778f409",
   "metadata": {},
   "source": [
    "### `AUC ROC ----------------------------`"
   ]
  },
  {
   "cell_type": "code",
   "execution_count": 78,
   "id": "7a3f8696",
   "metadata": {},
   "outputs": [
    {
     "data": {
      "text/plain": [
       "array([[0.49993234, 0.50006766],\n",
       "       [0.52165211, 0.47834789],\n",
       "       [0.49803752, 0.50196248],\n",
       "       ...,\n",
       "       [0.51489389, 0.48510611],\n",
       "       [0.49797061, 0.50202939],\n",
       "       [0.49796841, 0.50203159]])"
      ]
     },
     "execution_count": 78,
     "metadata": {},
     "output_type": "execute_result"
    }
   ],
   "source": [
    "y_pred_proba_abc = abc.predict_proba(X_test)\n",
    "y_pred_proba_abc"
   ]
  },
  {
   "cell_type": "code",
   "execution_count": 79,
   "id": "2966164d",
   "metadata": {},
   "outputs": [
    {
     "data": {
      "image/png": "[encoded data removed]",
      "text/plain": [
       "<Figure size 720x504 with 1 Axes>"
      ]
     },
     "metadata": {
      "needs_background": "light"
     },
     "output_type": "display_data"
    },
    {
     "name": "stdout",
     "output_type": "stream",
     "text": [
      "Decision Tree AUC is => 0.5662363177097951\n"
     ]
    }
   ],
   "source": [
    "from sklearn.metrics import roc_curve,roc_auc_score\n",
    "\n",
    "plt.figure(figsize=(10,7))\n",
    "\n",
    "ns_prob = [0 for _ in range(len(y_test))]  # bad algo\n",
    "ns_fpr,ns_tpr,thresholds = roc_curve(y_test,ns_prob)\n",
    "\n",
    "abc_prob = y_pred_proba_abc[:,1]\n",
    "abc_auc = roc_auc_score(y_test,abc_prob)   # logistic regression\n",
    "abc_fpr,abc_tpr,thesholds = roc_curve(y_test,abc_prob)\n",
    "plt.plot(abc_fpr,abc_tpr,marker='.',label='Decision tree')\n",
    "plt.plot(ns_fpr,ns_tpr,marker='.',label='Bad Random Algo')\n",
    "plt.xlabel('False Positive Rate')\n",
    "plt.ylabel('True Positive Rate')\n",
    "plt.legend()\n",
    "plt.show()\n",
    "\n",
    "print(f'Decision Tree AUC is => {abc_auc}')"
   ]
  },
  {
   "cell_type": "markdown",
   "id": "a4a35683",
   "metadata": {},
   "source": [
    "### `Till now Random Forest has highest performance, as it has 54% of accuracy`\n",
    "### `Till now Random Forest has highest performance, as it has AUC of 56%`"
   ]
  },
  {
   "cell_type": "markdown",
   "id": "00383630",
   "metadata": {},
   "source": [
    "## `END of Task3 ------------------------------------------------`"
   ]
  }
 ],
 "metadata": {
  "kernelspec": {
   "display_name": "Python 3",
   "language": "python",
   "name": "python3"
  },
  "language_info": {
   "codemirror_mode": {
    "name": "ipython",
    "version": 3
   },
   "file_extension": ".py",
   "mimetype": "text/x-python",
   "name": "python",
   "nbconvert_exporter": "python",
   "pygments_lexer": "ipython3",
   "version": "3.8.8"
  }
 },
 "nbformat": 4,
 "nbformat_minor": 5
}
