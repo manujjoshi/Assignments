{
 "cells": [
  {
   "cell_type": "markdown",
   "metadata": {},
   "source": [
    "## Feature Engineering and Remodeling  \n",
    "\n",
    "#### To Do:\n",
    "\n",
    "1. Perform the required Feature Engineering (Feature Selection using RFE, Feature Transformation, etc.)\n",
    "- [sklearn.feature_selection.RFE](https://scikit-learn.org/stable/modules/generated/sklearn.feature_selection.RFE.html)\n",
    "- [Feature Transformation (Open in incognito mode)](https://towardsdatascience.com/feature-transformation-for-data-scientists-3a9eed562752)\n",
    "\n",
    "2. Rebuild the models (Logistic Regression, SVM, KNN, DT, RF, Gradient Boosting, AdaBoosting etc.\n",
    "\n",
    "3. Compare the model (With Feature Engineering) Performance with previous model (Without Feature Engineering) "
   ]
  },
  {
   "cell_type": "code",
   "execution_count": 1,
   "metadata": {
    "scrolled": true
   },
   "outputs": [],
   "source": [
    "import pandas as pd\n",
    "import numpy as np\n",
    "import warnings\n",
    "warnings.filterwarnings('ignore')"
   ]
  },
  {
   "cell_type": "code",
   "execution_count": 2,
   "metadata": {},
   "outputs": [],
   "source": [
    "X = pd.read_csv('X_final.csv')\n",
    "y = pd.read_csv('y_final.csv')"
   ]
  },
  {
   "cell_type": "markdown",
   "metadata": {},
   "source": [
    "## `RFE`"
   ]
  },
  {
   "cell_type": "code",
   "execution_count": 3,
   "metadata": {},
   "outputs": [],
   "source": [
    "from sklearn.svm import SVC\n",
    "from sklearn.feature_selection import RFE"
   ]
  },
  {
   "cell_type": "code",
   "execution_count": 4,
   "metadata": {},
   "outputs": [],
   "source": [
    "estimator = SVC(kernel=\"linear\")\n",
    "selector = RFE(estimator, n_features_to_select=10, step=1)"
   ]
  },
  {
   "cell_type": "code",
   "execution_count": 5,
   "metadata": {},
   "outputs": [],
   "source": [
    "selector = selector.fit(X, y)"
   ]
  },
  {
   "cell_type": "code",
   "execution_count": 6,
   "metadata": {},
   "outputs": [
    {
     "data": {
      "text/plain": [
       "array([False, False,  True, False, False,  True, False, False,  True,\n",
       "       False,  True, False,  True,  True,  True,  True, False,  True,\n",
       "        True])"
      ]
     },
     "execution_count": 6,
     "metadata": {},
     "output_type": "execute_result"
    }
   ],
   "source": [
    "selector.support_"
   ]
  },
  {
   "cell_type": "code",
   "execution_count": 7,
   "metadata": {},
   "outputs": [
    {
     "data": {
      "text/plain": [
       "array([ 9, 10,  1,  5,  4,  1,  8,  7,  1,  6,  1,  2,  1,  1,  1,  1,  3,\n",
       "        1,  1])"
      ]
     },
     "execution_count": 7,
     "metadata": {},
     "output_type": "execute_result"
    }
   ],
   "source": [
    "selector.ranking_"
   ]
  },
  {
   "cell_type": "code",
   "execution_count": 58,
   "metadata": {},
   "outputs": [
    {
     "data": {
      "text/plain": [
       "Index(['Region_Code', 'Accomodation_Type', 'Reco_Insurance_Type', 'Upper_Age',\n",
       "       'Lower_Age', 'Is_Spouse', 'Holding_Policy_Duration',\n",
       "       'Holding_Policy_Type', 'Reco_Policy_Cat', 'Reco_Policy_Premium', 'X1',\n",
       "       'X2', 'X3', 'X4', 'X5', 'X6', 'X7', 'X8', 'X9'],\n",
       "      dtype='object')"
      ]
     },
     "execution_count": 58,
     "metadata": {},
     "output_type": "execute_result"
    }
   ],
   "source": [
    "X.columns"
   ]
  },
  {
   "cell_type": "code",
   "execution_count": 8,
   "metadata": {},
   "outputs": [],
   "source": [
    "X = X[['Reco_Insurance_Type',\n",
    "       'Lower_Age', 'Is_Spouse',\n",
    "       'Reco_Policy_Cat', 'Reco_Policy_Premium', 'X1',\n",
    "       'X2', 'X3', 'X4', 'X5', 'X6', 'X7', 'X8' ]]"
   ]
  },
  {
   "cell_type": "code",
   "execution_count": 9,
   "metadata": {},
   "outputs": [],
   "source": [
    "from statsmodels.stats.outliers_influence import variance_inflation_factor # to check multicollinearity\n",
    "\n",
    "\n",
    "### function of vif\n",
    "def cal_vif(X):\n",
    "    vif=pd.DataFrame()\n",
    "    vif['var']=X.columns\n",
    "    vif['VIF']=[variance_inflation_factor(X.values,i) for i in range(X.shape[1])]\n",
    "    vif['VIF'] = round(vif['VIF'], 2)\n",
    "    vif = vif.sort_values(by = \"VIF\", ascending = False)\n",
    "    return(vif)"
   ]
  },
  {
   "cell_type": "code",
   "execution_count": 10,
   "metadata": {},
   "outputs": [
    {
     "data": {
      "text/html": [
       "<div>\n",
       "<style scoped>\n",
       "    .dataframe tbody tr th:only-of-type {\n",
       "        vertical-align: middle;\n",
       "    }\n",
       "\n",
       "    .dataframe tbody tr th {\n",
       "        vertical-align: top;\n",
       "    }\n",
       "\n",
       "    .dataframe thead th {\n",
       "        text-align: right;\n",
       "    }\n",
       "</style>\n",
       "<table border=\"1\" class=\"dataframe\">\n",
       "  <thead>\n",
       "    <tr style=\"text-align: right;\">\n",
       "      <th></th>\n",
       "      <th>var</th>\n",
       "      <th>VIF</th>\n",
       "    </tr>\n",
       "  </thead>\n",
       "  <tbody>\n",
       "    <tr>\n",
       "      <th>0</th>\n",
       "      <td>Reco_Insurance_Type</td>\n",
       "      <td>36.18</td>\n",
       "    </tr>\n",
       "    <tr>\n",
       "      <th>5</th>\n",
       "      <td>X1</td>\n",
       "      <td>19.83</td>\n",
       "    </tr>\n",
       "    <tr>\n",
       "      <th>6</th>\n",
       "      <td>X2</td>\n",
       "      <td>8.88</td>\n",
       "    </tr>\n",
       "    <tr>\n",
       "      <th>7</th>\n",
       "      <td>X3</td>\n",
       "      <td>5.97</td>\n",
       "    </tr>\n",
       "    <tr>\n",
       "      <th>2</th>\n",
       "      <td>Is_Spouse</td>\n",
       "      <td>5.71</td>\n",
       "    </tr>\n",
       "    <tr>\n",
       "      <th>8</th>\n",
       "      <td>X4</td>\n",
       "      <td>5.21</td>\n",
       "    </tr>\n",
       "    <tr>\n",
       "      <th>4</th>\n",
       "      <td>Reco_Policy_Premium</td>\n",
       "      <td>4.07</td>\n",
       "    </tr>\n",
       "    <tr>\n",
       "      <th>1</th>\n",
       "      <td>Lower_Age</td>\n",
       "      <td>2.88</td>\n",
       "    </tr>\n",
       "    <tr>\n",
       "      <th>9</th>\n",
       "      <td>X5</td>\n",
       "      <td>2.38</td>\n",
       "    </tr>\n",
       "    <tr>\n",
       "      <th>10</th>\n",
       "      <td>X6</td>\n",
       "      <td>1.93</td>\n",
       "    </tr>\n",
       "    <tr>\n",
       "      <th>11</th>\n",
       "      <td>X7</td>\n",
       "      <td>1.17</td>\n",
       "    </tr>\n",
       "    <tr>\n",
       "      <th>12</th>\n",
       "      <td>X8</td>\n",
       "      <td>1.07</td>\n",
       "    </tr>\n",
       "    <tr>\n",
       "      <th>3</th>\n",
       "      <td>Reco_Policy_Cat</td>\n",
       "      <td>1.01</td>\n",
       "    </tr>\n",
       "  </tbody>\n",
       "</table>\n",
       "</div>"
      ],
      "text/plain": [
       "                    var    VIF\n",
       "0   Reco_Insurance_Type  36.18\n",
       "5                    X1  19.83\n",
       "6                    X2   8.88\n",
       "7                    X3   5.97\n",
       "2             Is_Spouse   5.71\n",
       "8                    X4   5.21\n",
       "4   Reco_Policy_Premium   4.07\n",
       "1             Lower_Age   2.88\n",
       "9                    X5   2.38\n",
       "10                   X6   1.93\n",
       "11                   X7   1.17\n",
       "12                   X8   1.07\n",
       "3       Reco_Policy_Cat   1.01"
      ]
     },
     "execution_count": 10,
     "metadata": {},
     "output_type": "execute_result"
    }
   ],
   "source": [
    "cal_vif(X)"
   ]
  },
  {
   "cell_type": "code",
   "execution_count": 11,
   "metadata": {},
   "outputs": [],
   "source": [
    "X.drop('Reco_Insurance_Type',axis=1,inplace=True)"
   ]
  },
  {
   "cell_type": "code",
   "execution_count": 12,
   "metadata": {},
   "outputs": [
    {
     "data": {
      "text/html": [
       "<div>\n",
       "<style scoped>\n",
       "    .dataframe tbody tr th:only-of-type {\n",
       "        vertical-align: middle;\n",
       "    }\n",
       "\n",
       "    .dataframe tbody tr th {\n",
       "        vertical-align: top;\n",
       "    }\n",
       "\n",
       "    .dataframe thead th {\n",
       "        text-align: right;\n",
       "    }\n",
       "</style>\n",
       "<table border=\"1\" class=\"dataframe\">\n",
       "  <thead>\n",
       "    <tr style=\"text-align: right;\">\n",
       "      <th></th>\n",
       "      <th>var</th>\n",
       "      <th>VIF</th>\n",
       "    </tr>\n",
       "  </thead>\n",
       "  <tbody>\n",
       "    <tr>\n",
       "      <th>3</th>\n",
       "      <td>Reco_Policy_Premium</td>\n",
       "      <td>2.58</td>\n",
       "    </tr>\n",
       "    <tr>\n",
       "      <th>0</th>\n",
       "      <td>Lower_Age</td>\n",
       "      <td>2.01</td>\n",
       "    </tr>\n",
       "    <tr>\n",
       "      <th>1</th>\n",
       "      <td>Is_Spouse</td>\n",
       "      <td>1.87</td>\n",
       "    </tr>\n",
       "    <tr>\n",
       "      <th>4</th>\n",
       "      <td>X1</td>\n",
       "      <td>1.13</td>\n",
       "    </tr>\n",
       "    <tr>\n",
       "      <th>5</th>\n",
       "      <td>X2</td>\n",
       "      <td>1.08</td>\n",
       "    </tr>\n",
       "    <tr>\n",
       "      <th>7</th>\n",
       "      <td>X4</td>\n",
       "      <td>1.05</td>\n",
       "    </tr>\n",
       "    <tr>\n",
       "      <th>6</th>\n",
       "      <td>X3</td>\n",
       "      <td>1.03</td>\n",
       "    </tr>\n",
       "    <tr>\n",
       "      <th>8</th>\n",
       "      <td>X5</td>\n",
       "      <td>1.03</td>\n",
       "    </tr>\n",
       "    <tr>\n",
       "      <th>2</th>\n",
       "      <td>Reco_Policy_Cat</td>\n",
       "      <td>1.01</td>\n",
       "    </tr>\n",
       "    <tr>\n",
       "      <th>9</th>\n",
       "      <td>X6</td>\n",
       "      <td>1.01</td>\n",
       "    </tr>\n",
       "    <tr>\n",
       "      <th>10</th>\n",
       "      <td>X7</td>\n",
       "      <td>1.00</td>\n",
       "    </tr>\n",
       "    <tr>\n",
       "      <th>11</th>\n",
       "      <td>X8</td>\n",
       "      <td>1.00</td>\n",
       "    </tr>\n",
       "  </tbody>\n",
       "</table>\n",
       "</div>"
      ],
      "text/plain": [
       "                    var   VIF\n",
       "3   Reco_Policy_Premium  2.58\n",
       "0             Lower_Age  2.01\n",
       "1             Is_Spouse  1.87\n",
       "4                    X1  1.13\n",
       "5                    X2  1.08\n",
       "7                    X4  1.05\n",
       "6                    X3  1.03\n",
       "8                    X5  1.03\n",
       "2       Reco_Policy_Cat  1.01\n",
       "9                    X6  1.01\n",
       "10                   X7  1.00\n",
       "11                   X8  1.00"
      ]
     },
     "execution_count": 12,
     "metadata": {},
     "output_type": "execute_result"
    }
   ],
   "source": [
    "cal_vif(X)"
   ]
  },
  {
   "cell_type": "markdown",
   "metadata": {},
   "source": [
    "### `Good to go`"
   ]
  },
  {
   "cell_type": "code",
   "execution_count": 13,
   "metadata": {},
   "outputs": [],
   "source": [
    "from sklearn.model_selection import train_test_split\n",
    "X_train, X_test, y_train, y_test = train_test_split(X, y, test_size=0.2, random_state=42)"
   ]
  },
  {
   "cell_type": "markdown",
   "metadata": {},
   "source": [
    "## `Logistic Regression`"
   ]
  },
  {
   "cell_type": "markdown",
   "metadata": {},
   "source": [
    "#### `Train Data`"
   ]
  },
  {
   "cell_type": "code",
   "execution_count": 14,
   "metadata": {},
   "outputs": [],
   "source": [
    "from sklearn.linear_model import LogisticRegression\n",
    "lr = LogisticRegression()\n",
    "lr.fit(X_train,y_train)\n",
    "y_pred = lr.predict(X_train)"
   ]
  },
  {
   "cell_type": "code",
   "execution_count": 15,
   "metadata": {},
   "outputs": [
    {
     "name": "stdout",
     "output_type": "stream",
     "text": [
      "Accuracy => 0.5526926049987116\n",
      "Precision => 0.5468364831552999\n",
      "F-1 score => 0.6052751250568439\n",
      "Confusion matrix =>\n",
      " [[ 814 1103]\n",
      " [ 633 1331]]\n",
      "Recall score 0.6776985743380856\n"
     ]
    }
   ],
   "source": [
    "from sklearn.metrics import accuracy_score,precision_score,f1_score,confusion_matrix,recall_score\n",
    "print('Accuracy =>',accuracy_score(y_train,y_pred))\n",
    "print('Precision =>',precision_score(y_train,y_pred))\n",
    "print('F-1 score =>',f1_score(y_train,y_pred))\n",
    "print('Confusion matrix =>\\n',confusion_matrix(y_train,y_pred))\n",
    "print('Recall score',recall_score(y_train,y_pred))"
   ]
  },
  {
   "cell_type": "markdown",
   "metadata": {},
   "source": [
    "#### `Test Data`"
   ]
  },
  {
   "cell_type": "code",
   "execution_count": 16,
   "metadata": {},
   "outputs": [],
   "source": [
    "from sklearn.linear_model import LogisticRegression\n",
    "lr = LogisticRegression()\n",
    "lr.fit(X_train,y_train)\n",
    "y_pred = lr.predict(X_test)"
   ]
  },
  {
   "cell_type": "code",
   "execution_count": 17,
   "metadata": {},
   "outputs": [
    {
     "name": "stdout",
     "output_type": "stream",
     "text": [
      "Accuracy => 0.49433573635427397\n",
      "Precision => 0.4765751211631664\n",
      "F-1 score => 0.5457909343200741\n",
      "Confusion matrix =>\n",
      " [[185 324]\n",
      " [167 295]]\n",
      "Recall score 0.6385281385281385\n"
     ]
    }
   ],
   "source": [
    "from sklearn.metrics import accuracy_score,precision_score,f1_score,confusion_matrix,recall_score\n",
    "print('Accuracy =>',accuracy_score(y_test,y_pred))\n",
    "print('Precision =>',precision_score(y_test,y_pred))\n",
    "print('F-1 score =>',f1_score(y_test,y_pred))\n",
    "print('Confusion matrix =>\\n',confusion_matrix(y_test,y_pred))\n",
    "print('Recall score',recall_score(y_test,y_pred))"
   ]
  },
  {
   "cell_type": "code",
   "execution_count": 42,
   "metadata": {},
   "outputs": [
    {
     "data": {
      "text/plain": [
       "array([[0.41193557, 0.58806443],\n",
       "       [0.39703164, 0.60296836],\n",
       "       [0.64087702, 0.35912298],\n",
       "       ...,\n",
       "       [0.45449576, 0.54550424],\n",
       "       [0.58153109, 0.41846891],\n",
       "       [0.41290184, 0.58709816]])"
      ]
     },
     "execution_count": 42,
     "metadata": {},
     "output_type": "execute_result"
    }
   ],
   "source": [
    "y_pred_proba_logistic = lr.predict_proba(X_test)\n",
    "y_pred_proba_logistic"
   ]
  },
  {
   "cell_type": "code",
   "execution_count": 44,
   "metadata": {},
   "outputs": [
    {
     "data": {
      "image/png": "[encoded data removed]",
      "text/plain": [
       "<Figure size 720x504 with 1 Axes>"
      ]
     },
     "metadata": {
      "needs_background": "light"
     },
     "output_type": "display_data"
    },
    {
     "name": "stdout",
     "output_type": "stream",
     "text": [
      "Logistic Regression AUC is => 0.5019476267020471\n"
     ]
    }
   ],
   "source": [
    "from sklearn.metrics import roc_curve,roc_auc_score\n",
    "import matplotlib.pyplot as plt\n",
    "\n",
    "plt.figure(figsize=(10,7))\n",
    "\n",
    "ns_prob = [0 for _ in range(len(y_test))]  # bad algo\n",
    "ns_fpr,ns_tpr,thresholds = roc_curve(y_test,ns_prob)\n",
    "\n",
    "lr_prob = y_pred_proba_logistic[:,1]\n",
    "lr_auc = roc_auc_score(y_test,lr_prob)   # logistic regression\n",
    "lr_fpr,lr_tpr,thesholds = roc_curve(y_test,lr_prob)\n",
    "plt.plot(lr_fpr,lr_tpr,marker='.',label='Logistic Regression')\n",
    "plt.plot(ns_fpr,ns_tpr,marker='.',label='Bad Random Algo')\n",
    "plt.xlabel('False Positive Rate')\n",
    "plt.ylabel('True Positive Rate')\n",
    "plt.legend()\n",
    "plt.show()\n",
    "\n",
    "print(f'Logistic Regression AUC is => {lr_auc}')"
   ]
  },
  {
   "cell_type": "markdown",
   "metadata": {},
   "source": [
    "## `SVC`"
   ]
  },
  {
   "cell_type": "markdown",
   "metadata": {},
   "source": [
    "#### `Train Data`"
   ]
  },
  {
   "cell_type": "code",
   "execution_count": 18,
   "metadata": {},
   "outputs": [],
   "source": [
    "from sklearn.svm import SVC\n",
    "svc = SVC()\n",
    "svc.fit(X_train,y_train)\n",
    "y_pred = svc.predict(X_train)"
   ]
  },
  {
   "cell_type": "code",
   "execution_count": 19,
   "metadata": {},
   "outputs": [
    {
     "name": "stdout",
     "output_type": "stream",
     "text": [
      "Accuracy => 0.5939190930172636\n",
      "Precision => 0.567595818815331\n",
      "F-1 score => 0.6739760033098884\n",
      "Confusion matrix =>\n",
      " [[ 676 1241]\n",
      " [ 335 1629]]\n",
      "Recall score 0.8294297352342159\n"
     ]
    }
   ],
   "source": [
    "from sklearn.metrics import accuracy_score,precision_score,f1_score,confusion_matrix,recall_score\n",
    "print('Accuracy =>',accuracy_score(y_train,y_pred))\n",
    "print('Precision =>',precision_score(y_train,y_pred))\n",
    "print('F-1 score =>',f1_score(y_train,y_pred))\n",
    "print('Confusion matrix =>\\n',confusion_matrix(y_train,y_pred))\n",
    "print('Recall score',recall_score(y_train,y_pred))"
   ]
  },
  {
   "cell_type": "markdown",
   "metadata": {},
   "source": [
    "#### `Test Data`"
   ]
  },
  {
   "cell_type": "code",
   "execution_count": 20,
   "metadata": {},
   "outputs": [],
   "source": [
    "from sklearn.svm import SVC\n",
    "svc = SVC(probability=True)\n",
    "svc.fit(X_train,y_train)\n",
    "y_pred = svc.predict(X_test)"
   ]
  },
  {
   "cell_type": "code",
   "execution_count": 21,
   "metadata": {},
   "outputs": [
    {
     "name": "stdout",
     "output_type": "stream",
     "text": [
      "Accuracy => 0.5025746652935118\n",
      "Precision => 0.485273492286115\n",
      "F-1 score => 0.5889361702127659\n",
      "Confusion matrix =>\n",
      " [[142 367]\n",
      " [116 346]]\n",
      "Recall score 0.7489177489177489\n"
     ]
    }
   ],
   "source": [
    "print('Accuracy =>',accuracy_score(y_test,y_pred))\n",
    "print('Precision =>',precision_score(y_test,y_pred))\n",
    "print('F-1 score =>',f1_score(y_test,y_pred))\n",
    "print('Confusion matrix =>\\n',confusion_matrix(y_test,y_pred))\n",
    "print('Recall score',recall_score(y_test,y_pred))"
   ]
  },
  {
   "cell_type": "code",
   "execution_count": 45,
   "metadata": {},
   "outputs": [
    {
     "data": {
      "text/plain": [
       "array([[0.42593621, 0.57406379],\n",
       "       [0.43368383, 0.56631617],\n",
       "       [0.62313039, 0.37686961],\n",
       "       ...,\n",
       "       [0.43485204, 0.56514796],\n",
       "       [0.5824385 , 0.4175615 ],\n",
       "       [0.42738662, 0.57261338]])"
      ]
     },
     "execution_count": 45,
     "metadata": {},
     "output_type": "execute_result"
    }
   ],
   "source": [
    "y_pred_proba_svc = svc.predict_proba(X_test)\n",
    "y_pred_proba_svc"
   ]
  },
  {
   "cell_type": "code",
   "execution_count": 46,
   "metadata": {},
   "outputs": [
    {
     "data": {
      "image/png": "[encoded data removed]",
      "text/plain": [
       "<Figure size 720x504 with 1 Axes>"
      ]
     },
     "metadata": {
      "needs_background": "light"
     },
     "output_type": "display_data"
    },
    {
     "name": "stdout",
     "output_type": "stream",
     "text": [
      "SVC AUC is => 0.5279556723564582\n"
     ]
    }
   ],
   "source": [
    "from sklearn.metrics import roc_curve,roc_auc_score\n",
    "\n",
    "plt.figure(figsize=(10,7))\n",
    "\n",
    "ns_prob = [0 for _ in range(len(y_test))]  # bad algo\n",
    "ns_fpr,ns_tpr,thresholds = roc_curve(y_test,ns_prob)\n",
    "\n",
    "svc_prob = y_pred_proba_svc[:,1]\n",
    "svc_auc = roc_auc_score(y_test,svc_prob)   # logistic regression\n",
    "svc_fpr,svc_tpr,thesholds = roc_curve(y_test,svc_prob)\n",
    "plt.plot(svc_fpr,svc_tpr,marker='.',label='SVC')\n",
    "plt.plot(ns_fpr,ns_tpr,marker='.',label='Bad Random Algo')\n",
    "plt.xlabel('False Positive Rate')\n",
    "plt.ylabel('True Positive Rate')\n",
    "plt.legend()\n",
    "plt.show()\n",
    "\n",
    "print(f'SVC AUC is => {svc_auc}')"
   ]
  },
  {
   "cell_type": "markdown",
   "metadata": {},
   "source": [
    "## `KNN`"
   ]
  },
  {
   "cell_type": "markdown",
   "metadata": {},
   "source": [
    "#### `Train Data`"
   ]
  },
  {
   "cell_type": "code",
   "execution_count": 22,
   "metadata": {},
   "outputs": [],
   "source": [
    "from sklearn.neighbors import KNeighborsClassifier\n",
    "knn = KNeighborsClassifier()\n",
    "knn.fit(X_train,y_train)\n",
    "y_pred = knn.predict(X_train)"
   ]
  },
  {
   "cell_type": "code",
   "execution_count": 23,
   "metadata": {},
   "outputs": [
    {
     "name": "stdout",
     "output_type": "stream",
     "text": [
      "Accuracy => 0.6972429786137594\n",
      "Precision => 0.693477194703286\n",
      "F-1 score => 0.706470147389458\n",
      "Confusion matrix =>\n",
      " [[1292  625]\n",
      " [ 550 1414]]\n",
      "Recall score 0.719959266802444\n"
     ]
    }
   ],
   "source": [
    "from sklearn.metrics import accuracy_score,precision_score,f1_score,confusion_matrix,recall_score\n",
    "print('Accuracy =>',accuracy_score(y_train,y_pred))\n",
    "print('Precision =>',precision_score(y_train,y_pred))\n",
    "print('F-1 score =>',f1_score(y_train,y_pred))\n",
    "print('Confusion matrix =>\\n',confusion_matrix(y_train,y_pred))\n",
    "print('Recall score',recall_score(y_train,y_pred))"
   ]
  },
  {
   "cell_type": "markdown",
   "metadata": {},
   "source": [
    "#### `Test Data`"
   ]
  },
  {
   "cell_type": "code",
   "execution_count": 24,
   "metadata": {},
   "outputs": [],
   "source": [
    "from sklearn.neighbors import KNeighborsClassifier\n",
    "knn = KNeighborsClassifier()\n",
    "knn.fit(X_train,y_train)\n",
    "y_pred = knn.predict(X_test)"
   ]
  },
  {
   "cell_type": "code",
   "execution_count": 25,
   "metadata": {},
   "outputs": [
    {
     "name": "stdout",
     "output_type": "stream",
     "text": [
      "Accuracy => 0.5128733264675592\n",
      "Precision => 0.4891518737672584\n",
      "F-1 score => 0.5118679050567595\n",
      "Confusion matrix =>\n",
      " [[250 259]\n",
      " [214 248]]\n",
      "Recall score 0.5367965367965368\n"
     ]
    }
   ],
   "source": [
    "print('Accuracy =>',accuracy_score(y_test,y_pred))\n",
    "print('Precision =>',precision_score(y_test,y_pred))\n",
    "print('F-1 score =>',f1_score(y_test,y_pred))\n",
    "print('Confusion matrix =>\\n',confusion_matrix(y_test,y_pred))\n",
    "print('Recall score',recall_score(y_test,y_pred))"
   ]
  },
  {
   "cell_type": "code",
   "execution_count": 47,
   "metadata": {},
   "outputs": [
    {
     "data": {
      "text/plain": [
       "array([[0.4, 0.6],\n",
       "       [0.2, 0.8],\n",
       "       [0.8, 0.2],\n",
       "       ...,\n",
       "       [0.8, 0.2],\n",
       "       [0.6, 0.4],\n",
       "       [0. , 1. ]])"
      ]
     },
     "execution_count": 47,
     "metadata": {},
     "output_type": "execute_result"
    }
   ],
   "source": [
    "y_pred_proba_knn = knn.predict_proba(X_test)\n",
    "y_pred_proba_knn"
   ]
  },
  {
   "cell_type": "code",
   "execution_count": 48,
   "metadata": {},
   "outputs": [
    {
     "data": {
      "image/png": "[encoded data removed]",
      "text/plain": [
       "<Figure size 720x504 with 1 Axes>"
      ]
     },
     "metadata": {
      "needs_background": "light"
     },
     "output_type": "display_data"
    },
    {
     "name": "stdout",
     "output_type": "stream",
     "text": [
      "KNN AUC is => 0.5205648967927946\n"
     ]
    }
   ],
   "source": [
    "from sklearn.metrics import roc_curve,roc_auc_score\n",
    "\n",
    "plt.figure(figsize=(10,7))\n",
    "\n",
    "ns_prob = [0 for _ in range(len(y_test))]  # bad algo\n",
    "ns_fpr,ns_tpr,thresholds = roc_curve(y_test,ns_prob)\n",
    "\n",
    "knn_prob = y_pred_proba_knn[:,1]\n",
    "knn_auc = roc_auc_score(y_test,knn_prob)   # logistic regression\n",
    "knn_fpr,knn_tpr,thesholds = roc_curve(y_test,knn_prob)\n",
    "plt.plot(knn_fpr,knn_tpr,marker='.',label='KNN')\n",
    "plt.plot(ns_fpr,ns_tpr,marker='.',label='Bad Random Algo')\n",
    "plt.xlabel('False Positive Rate')\n",
    "plt.ylabel('True Positive Rate')\n",
    "plt.legend()\n",
    "plt.show()\n",
    "\n",
    "print(f'KNN AUC is => {knn_auc}')"
   ]
  },
  {
   "cell_type": "markdown",
   "metadata": {},
   "source": [
    "## `Decision Tree`"
   ]
  },
  {
   "cell_type": "markdown",
   "metadata": {},
   "source": [
    "#### `Train Data`"
   ]
  },
  {
   "cell_type": "code",
   "execution_count": 26,
   "metadata": {},
   "outputs": [],
   "source": [
    "from sklearn.tree import DecisionTreeClassifier\n",
    "dtrc = DecisionTreeClassifier()\n",
    "dtrc.fit(X_train,y_train)\n",
    "y_pred = dtrc.predict(X_train)"
   ]
  },
  {
   "cell_type": "code",
   "execution_count": 27,
   "metadata": {},
   "outputs": [
    {
     "name": "stdout",
     "output_type": "stream",
     "text": [
      "Accuracy => 1.0\n",
      "Precision => 1.0\n",
      "F-1 score => 1.0\n",
      "Confusion matrix =>\n",
      " [[1917    0]\n",
      " [   0 1964]]\n",
      "Recall score 1.0\n"
     ]
    }
   ],
   "source": [
    "from sklearn.metrics import accuracy_score,precision_score,f1_score,confusion_matrix,recall_score\n",
    "print('Accuracy =>',accuracy_score(y_train,y_pred))\n",
    "print('Precision =>',precision_score(y_train,y_pred))\n",
    "print('F-1 score =>',f1_score(y_train,y_pred))\n",
    "print('Confusion matrix =>\\n',confusion_matrix(y_train,y_pred))\n",
    "print('Recall score',recall_score(y_train,y_pred))"
   ]
  },
  {
   "cell_type": "markdown",
   "metadata": {},
   "source": [
    "#### `Test Data`"
   ]
  },
  {
   "cell_type": "code",
   "execution_count": 28,
   "metadata": {},
   "outputs": [],
   "source": [
    "from sklearn.tree import DecisionTreeClassifier\n",
    "dtrc = DecisionTreeClassifier()\n",
    "dtrc.fit(X_train,y_train)\n",
    "y_pred = dtrc.predict(X_test)"
   ]
  },
  {
   "cell_type": "code",
   "execution_count": 29,
   "metadata": {},
   "outputs": [
    {
     "name": "stdout",
     "output_type": "stream",
     "text": [
      "Accuracy => 0.5221421215242018\n",
      "Precision => 0.4980694980694981\n",
      "F-1 score => 0.5265306122448979\n",
      "Confusion matrix =>\n",
      " [[249 260]\n",
      " [204 258]]\n",
      "Recall score 0.5584415584415584\n"
     ]
    }
   ],
   "source": [
    "print('Accuracy =>',accuracy_score(y_test,y_pred))\n",
    "print('Precision =>',precision_score(y_test,y_pred))\n",
    "print('F-1 score =>',f1_score(y_test,y_pred))\n",
    "print('Confusion matrix =>\\n',confusion_matrix(y_test,y_pred))\n",
    "print('Recall score',recall_score(y_test,y_pred))"
   ]
  },
  {
   "cell_type": "code",
   "execution_count": 49,
   "metadata": {},
   "outputs": [
    {
     "data": {
      "text/plain": [
       "array([[0., 1.],\n",
       "       [0., 1.],\n",
       "       [0., 1.],\n",
       "       ...,\n",
       "       [1., 0.],\n",
       "       [1., 0.],\n",
       "       [1., 0.]])"
      ]
     },
     "execution_count": 49,
     "metadata": {},
     "output_type": "execute_result"
    }
   ],
   "source": [
    "y_pred_proba_dtree = dtrc.predict_proba(X_test)\n",
    "y_pred_proba_dtree"
   ]
  },
  {
   "cell_type": "code",
   "execution_count": 50,
   "metadata": {},
   "outputs": [
    {
     "data": {
      "image/png": "[encoded data removed]",
      "text/plain": [
       "<Figure size 720x504 with 1 Axes>"
      ]
     },
     "metadata": {
      "needs_background": "light"
     },
     "output_type": "display_data"
    },
    {
     "name": "stdout",
     "output_type": "stream",
     "text": [
      "Decision Tree AUC is => 0.5238180287296201\n"
     ]
    }
   ],
   "source": [
    "from sklearn.metrics import roc_curve,roc_auc_score\n",
    "\n",
    "plt.figure(figsize=(10,7))\n",
    "\n",
    "ns_prob = [0 for _ in range(len(y_test))]  # bad algo\n",
    "ns_fpr,ns_tpr,thresholds = roc_curve(y_test,ns_prob)\n",
    "\n",
    "dtree_prob = y_pred_proba_dtree[:,1]\n",
    "dtree_auc = roc_auc_score(y_test,dtree_prob)   # logistic regression\n",
    "dtree_fpr,dtree_tpr,thesholds = roc_curve(y_test,dtree_prob)\n",
    "plt.plot(dtree_fpr,dtree_tpr,marker='.',label='Decision tree')\n",
    "plt.plot(ns_fpr,ns_tpr,marker='.',label='Bad Random Algo')\n",
    "plt.xlabel('False Positive Rate')\n",
    "plt.ylabel('True Positive Rate')\n",
    "plt.legend()\n",
    "plt.show()\n",
    "\n",
    "print(f'Decision Tree AUC is => {dtree_auc}')"
   ]
  },
  {
   "cell_type": "markdown",
   "metadata": {},
   "source": [
    "## `Rndom Forest`"
   ]
  },
  {
   "cell_type": "markdown",
   "metadata": {},
   "source": [
    "#### `Train Data`"
   ]
  },
  {
   "cell_type": "code",
   "execution_count": 30,
   "metadata": {},
   "outputs": [],
   "source": [
    "from sklearn.ensemble import RandomForestClassifier\n",
    "rfc = RandomForestClassifier()\n",
    "rfc.fit(X_train,y_train)\n",
    "y_pred = rfc.predict(X_train)"
   ]
  },
  {
   "cell_type": "code",
   "execution_count": 31,
   "metadata": {},
   "outputs": [
    {
     "name": "stdout",
     "output_type": "stream",
     "text": [
      "Accuracy => 1.0\n",
      "Precision => 1.0\n",
      "F-1 score => 1.0\n",
      "Confusion matrix =>\n",
      " [[1917    0]\n",
      " [   0 1964]]\n",
      "Recall score 1.0\n"
     ]
    }
   ],
   "source": [
    "from sklearn.metrics import accuracy_score,precision_score,f1_score,confusion_matrix,recall_score\n",
    "print('Accuracy =>',accuracy_score(y_train,y_pred))\n",
    "print('Precision =>',precision_score(y_train,y_pred))\n",
    "print('F-1 score =>',f1_score(y_train,y_pred))\n",
    "print('Confusion matrix =>\\n',confusion_matrix(y_train,y_pred))\n",
    "print('Recall score',recall_score(y_train,y_pred))"
   ]
  },
  {
   "cell_type": "markdown",
   "metadata": {},
   "source": [
    "#### `Test Data`"
   ]
  },
  {
   "cell_type": "code",
   "execution_count": 32,
   "metadata": {},
   "outputs": [],
   "source": [
    "from sklearn.ensemble import RandomForestClassifier\n",
    "rfc = RandomForestClassifier()\n",
    "rfc.fit(X_train,y_train)\n",
    "y_pred = rfc.predict(X_test)"
   ]
  },
  {
   "cell_type": "code",
   "execution_count": 33,
   "metadata": {},
   "outputs": [
    {
     "name": "stdout",
     "output_type": "stream",
     "text": [
      "Accuracy => 0.5200823892893924\n",
      "Precision => 0.49583333333333335\n",
      "F-1 score => 0.505307855626327\n",
      "Confusion matrix =>\n",
      " [[267 242]\n",
      " [224 238]]\n",
      "Recall score 0.5151515151515151\n"
     ]
    }
   ],
   "source": [
    "print('Accuracy =>',accuracy_score(y_test,y_pred))\n",
    "print('Precision =>',precision_score(y_test,y_pred))\n",
    "print('F-1 score =>',f1_score(y_test,y_pred))\n",
    "print('Confusion matrix =>\\n',confusion_matrix(y_test,y_pred))\n",
    "print('Recall score',recall_score(y_test,y_pred))"
   ]
  },
  {
   "cell_type": "code",
   "execution_count": 51,
   "metadata": {},
   "outputs": [
    {
     "data": {
      "text/plain": [
       "array([[0.14, 0.86],\n",
       "       [0.07, 0.93],\n",
       "       [0.53, 0.47],\n",
       "       ...,\n",
       "       [0.66, 0.34],\n",
       "       [0.67, 0.33],\n",
       "       [0.24, 0.76]])"
      ]
     },
     "execution_count": 51,
     "metadata": {},
     "output_type": "execute_result"
    }
   ],
   "source": [
    "y_pred_proba_rfc = rfc.predict_proba(X_test)\n",
    "y_pred_proba_rfc"
   ]
  },
  {
   "cell_type": "code",
   "execution_count": 52,
   "metadata": {},
   "outputs": [
    {
     "data": {
      "image/png": "[encoded data removed]",
      "text/plain": [
       "<Figure size 720x504 with 1 Axes>"
      ]
     },
     "metadata": {
      "needs_background": "light"
     },
     "output_type": "display_data"
    },
    {
     "name": "stdout",
     "output_type": "stream",
     "text": [
      "Decision Tree AUC is => 0.5382126059925667\n"
     ]
    }
   ],
   "source": [
    "from sklearn.metrics import roc_curve,roc_auc_score\n",
    "\n",
    "plt.figure(figsize=(10,7))\n",
    "\n",
    "ns_prob = [0 for _ in range(len(y_test))]  # bad algo\n",
    "ns_fpr,ns_tpr,thresholds = roc_curve(y_test,ns_prob)\n",
    "\n",
    "rfc_prob = y_pred_proba_rfc[:,1]\n",
    "rfc_auc = roc_auc_score(y_test,rfc_prob)   # logistic regression\n",
    "rfc_fpr,rfc_tpr,thesholds = roc_curve(y_test,rfc_prob)\n",
    "plt.plot(rfc_fpr,rfc_tpr,marker='.',label='Decision tree')\n",
    "plt.plot(ns_fpr,ns_tpr,marker='.',label='Bad Random Algo')\n",
    "plt.xlabel('False Positive Rate')\n",
    "plt.ylabel('True Positive Rate')\n",
    "plt.legend()\n",
    "plt.show()\n",
    "\n",
    "print(f'Decision Tree AUC is => {rfc_auc}')"
   ]
  },
  {
   "cell_type": "markdown",
   "metadata": {},
   "source": [
    "## `GBT`"
   ]
  },
  {
   "cell_type": "code",
   "execution_count": 34,
   "metadata": {},
   "outputs": [],
   "source": [
    "from sklearn.ensemble import GradientBoostingClassifier\n",
    "gbc = GradientBoostingClassifier()\n",
    "gbc.fit(X_train,y_train)\n",
    "y_pred = gbc.predict(X_train)"
   ]
  },
  {
   "cell_type": "code",
   "execution_count": 35,
   "metadata": {},
   "outputs": [
    {
     "name": "stdout",
     "output_type": "stream",
     "text": [
      "Accuracy => 0.6588508116464828\n",
      "Precision => 0.6286173633440515\n",
      "F-1 score => 0.7026055705300989\n",
      "Confusion matrix =>\n",
      " [[ 993  924]\n",
      " [ 400 1564]]\n",
      "Recall score 0.7963340122199593\n"
     ]
    }
   ],
   "source": [
    "from sklearn.metrics import accuracy_score,precision_score,f1_score,confusion_matrix,recall_score\n",
    "print('Accuracy =>',accuracy_score(y_train,y_pred))\n",
    "print('Precision =>',precision_score(y_train,y_pred))\n",
    "print('F-1 score =>',f1_score(y_train,y_pred))\n",
    "print('Confusion matrix =>\\n',confusion_matrix(y_train,y_pred))\n",
    "print('Recall score',recall_score(y_train,y_pred))"
   ]
  },
  {
   "cell_type": "code",
   "execution_count": 36,
   "metadata": {},
   "outputs": [],
   "source": [
    "from sklearn.ensemble import GradientBoostingClassifier\n",
    "gbc = GradientBoostingClassifier()\n",
    "gbc.fit(X_train,y_train)\n",
    "y_pred = gbc.predict(X_test)"
   ]
  },
  {
   "cell_type": "code",
   "execution_count": 37,
   "metadata": {},
   "outputs": [
    {
     "name": "stdout",
     "output_type": "stream",
     "text": [
      "Accuracy => 0.5355303810504635\n",
      "Precision => 0.5088282504012841\n",
      "F-1 score => 0.584331797235023\n",
      "Confusion matrix =>\n",
      " [[203 306]\n",
      " [145 317]]\n",
      "Recall score 0.6861471861471862\n"
     ]
    }
   ],
   "source": [
    "print('Accuracy =>',accuracy_score(y_test,y_pred))\n",
    "print('Precision =>',precision_score(y_test,y_pred))\n",
    "print('F-1 score =>',f1_score(y_test,y_pred))\n",
    "print('Confusion matrix =>\\n',confusion_matrix(y_test,y_pred))\n",
    "print('Recall score',recall_score(y_test,y_pred))"
   ]
  },
  {
   "cell_type": "code",
   "execution_count": 53,
   "metadata": {},
   "outputs": [
    {
     "data": {
      "text/plain": [
       "array([[0.48701502, 0.51298498],\n",
       "       [0.32618322, 0.67381678],\n",
       "       [0.58016389, 0.41983611],\n",
       "       ...,\n",
       "       [0.44138483, 0.55861517],\n",
       "       [0.59539408, 0.40460592],\n",
       "       [0.52228539, 0.47771461]])"
      ]
     },
     "execution_count": 53,
     "metadata": {},
     "output_type": "execute_result"
    }
   ],
   "source": [
    "y_pred_proba_gbc = gbc.predict_proba(X_test)\n",
    "y_pred_proba_gbc"
   ]
  },
  {
   "cell_type": "code",
   "execution_count": 54,
   "metadata": {},
   "outputs": [
    {
     "data": {
      "image/png": "[encoded data removed]",
      "text/plain": [
       "<Figure size 720x504 with 1 Axes>"
      ]
     },
     "metadata": {
      "needs_background": "light"
     },
     "output_type": "display_data"
    },
    {
     "name": "stdout",
     "output_type": "stream",
     "text": [
      "Decision Tree AUC is => 0.5587477355650243\n"
     ]
    }
   ],
   "source": [
    "from sklearn.metrics import roc_curve,roc_auc_score\n",
    "\n",
    "plt.figure(figsize=(10,7))\n",
    "\n",
    "ns_prob = [0 for _ in range(len(y_test))]  # bad algo\n",
    "ns_fpr,ns_tpr,thresholds = roc_curve(y_test,ns_prob)\n",
    "\n",
    "gbc_prob = y_pred_proba_gbc[:,1]\n",
    "gbc_auc = roc_auc_score(y_test,gbc_prob)   # logistic regression\n",
    "gbc_fpr,gbc_tpr,thesholds = roc_curve(y_test,gbc_prob)\n",
    "plt.plot(gbc_fpr,gbc_tpr,marker='.',label='Decision tree')\n",
    "plt.plot(ns_fpr,ns_tpr,marker='.',label='Bad Random Algo')\n",
    "plt.xlabel('False Positive Rate')\n",
    "plt.ylabel('True Positive Rate')\n",
    "plt.legend()\n",
    "plt.show()\n",
    "\n",
    "print(f'Decision Tree AUC is => {gbc_auc}')"
   ]
  },
  {
   "cell_type": "markdown",
   "metadata": {},
   "source": [
    "## `Ada Boost`"
   ]
  },
  {
   "cell_type": "markdown",
   "metadata": {},
   "source": [
    "#### `Train Data`"
   ]
  },
  {
   "cell_type": "code",
   "execution_count": 38,
   "metadata": {},
   "outputs": [],
   "source": [
    "from sklearn.ensemble import AdaBoostClassifier\n",
    "abc = AdaBoostClassifier()\n",
    "abc.fit(X_train,y_train)\n",
    "y_pred = abc.predict(X_train)"
   ]
  },
  {
   "cell_type": "code",
   "execution_count": 39,
   "metadata": {},
   "outputs": [
    {
     "name": "stdout",
     "output_type": "stream",
     "text": [
      "Accuracy => 0.6024220561710899\n",
      "Precision => 0.5833003561535417\n",
      "F-1 score => 0.6564239590291694\n",
      "Confusion matrix =>\n",
      " [[ 864 1053]\n",
      " [ 490 1474]]\n",
      "Recall score 0.7505091649694501\n"
     ]
    }
   ],
   "source": [
    "from sklearn.metrics import accuracy_score,precision_score,f1_score,confusion_matrix,recall_score\n",
    "print('Accuracy =>',accuracy_score(y_train,y_pred))\n",
    "print('Precision =>',precision_score(y_train,y_pred))\n",
    "print('F-1 score =>',f1_score(y_train,y_pred))\n",
    "print('Confusion matrix =>\\n',confusion_matrix(y_train,y_pred))\n",
    "print('Recall score',recall_score(y_train,y_pred))"
   ]
  },
  {
   "cell_type": "markdown",
   "metadata": {},
   "source": [
    "#### `Test Data`"
   ]
  },
  {
   "cell_type": "code",
   "execution_count": 40,
   "metadata": {},
   "outputs": [],
   "source": [
    "from sklearn.ensemble import AdaBoostClassifier\n",
    "abc = AdaBoostClassifier()\n",
    "abc.fit(X_train,y_train)\n",
    "y_pred = abc.predict(X_test)"
   ]
  },
  {
   "cell_type": "code",
   "execution_count": 41,
   "metadata": {},
   "outputs": [
    {
     "name": "stdout",
     "output_type": "stream",
     "text": [
      "Accuracy => 0.5211122554067971\n",
      "Precision => 0.4975609756097561\n",
      "F-1 score => 0.5682451253481894\n",
      "Confusion matrix =>\n",
      " [[200 309]\n",
      " [156 306]]\n",
      "Recall score 0.6623376623376623\n"
     ]
    }
   ],
   "source": [
    "print('Accuracy =>',accuracy_score(y_test,y_pred))\n",
    "print('Precision =>',precision_score(y_test,y_pred))\n",
    "print('F-1 score =>',f1_score(y_test,y_pred))\n",
    "print('Confusion matrix =>\\n',confusion_matrix(y_test,y_pred))\n",
    "print('Recall score',recall_score(y_test,y_pred))"
   ]
  },
  {
   "cell_type": "code",
   "execution_count": 55,
   "metadata": {},
   "outputs": [
    {
     "data": {
      "text/plain": [
       "array([[0.5004804 , 0.4995196 ],\n",
       "       [0.49912755, 0.50087245],\n",
       "       [0.5010431 , 0.4989569 ],\n",
       "       ...,\n",
       "       [0.49997009, 0.50002991],\n",
       "       [0.50297129, 0.49702871],\n",
       "       [0.50011528, 0.49988472]])"
      ]
     },
     "execution_count": 55,
     "metadata": {},
     "output_type": "execute_result"
    }
   ],
   "source": [
    "y_pred_proba_abc = abc.predict_proba(X_test)\n",
    "y_pred_proba_abc"
   ]
  },
  {
   "cell_type": "code",
   "execution_count": 56,
   "metadata": {},
   "outputs": [
    {
     "data": {
      "image/png": "[encoded data removed]",
      "text/plain": [
       "<Figure size 720x504 with 1 Axes>"
      ]
     },
     "metadata": {
      "needs_background": "light"
     },
     "output_type": "display_data"
    },
    {
     "name": "stdout",
     "output_type": "stream",
     "text": [
      "Decision Tree AUC is => 0.547937982122658\n"
     ]
    }
   ],
   "source": [
    "from sklearn.metrics import roc_curve,roc_auc_score\n",
    "\n",
    "plt.figure(figsize=(10,7))\n",
    "\n",
    "ns_prob = [0 for _ in range(len(y_test))]  # bad algo\n",
    "ns_fpr,ns_tpr,thresholds = roc_curve(y_test,ns_prob)\n",
    "\n",
    "abc_prob = y_pred_proba_abc[:,1]\n",
    "abc_auc = roc_auc_score(y_test,abc_prob)   # logistic regression\n",
    "abc_fpr,abc_tpr,thesholds = roc_curve(y_test,abc_prob)\n",
    "plt.plot(abc_fpr,abc_tpr,marker='.',label='Decision tree')\n",
    "plt.plot(ns_fpr,ns_tpr,marker='.',label='Bad Random Algo')\n",
    "plt.xlabel('False Positive Rate')\n",
    "plt.ylabel('True Positive Rate')\n",
    "plt.legend()\n",
    "plt.show()\n",
    "\n",
    "print(f'Decision Tree AUC is => {abc_auc}')"
   ]
  },
  {
   "cell_type": "markdown",
   "metadata": {},
   "source": [
    "### `GBT is working best after Feature Selection and Feature Transformation` "
   ]
  },
  {
   "cell_type": "markdown",
   "metadata": {},
   "source": [
    "## `END of Task5 -----------------------------------------`"
   ]
  }
 ],
 "metadata": {
  "kernelspec": {
   "display_name": "Python 3",
   "language": "python",
   "name": "python3"
  },
  "language_info": {
   "codemirror_mode": {
    "name": "ipython",
    "version": 3
   },
   "file_extension": ".py",
   "mimetype": "text/x-python",
   "name": "python",
   "nbconvert_exporter": "python",
   "pygments_lexer": "ipython3",
   "version": "3.8.8"
  }
 },
 "nbformat": 4,
 "nbformat_minor": 4
}
