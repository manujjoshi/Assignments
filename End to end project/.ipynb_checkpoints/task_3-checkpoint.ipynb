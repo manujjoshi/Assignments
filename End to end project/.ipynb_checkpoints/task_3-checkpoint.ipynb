{
 "cells": [
  {
   "cell_type": "markdown",
   "id": "317506c5",
   "metadata": {},
   "source": [
    "# Task - 3\n",
    "\n",
    "\n",
    "\n",
    "## **Task has been mentioned at the end of this notebook**  "
   ]
  },
  {
   "cell_type": "markdown",
   "id": "060e861b",
   "metadata": {},
   "source": [
    "## 1. Basic Pandas Operations"
   ]
  },
  {
   "cell_type": "code",
   "execution_count": 344,
   "id": "c2ab4c34",
   "metadata": {},
   "outputs": [],
   "source": [
    "# Import all the required Libraries\n",
    "\n",
    "import pandas as pd\n",
    "import numpy as np\n",
    "\n",
    "import seaborn as sns\n",
    "import matplotlib.pyplot as plt"
   ]
  },
  {
   "cell_type": "code",
   "execution_count": 345,
   "id": "2d142e1d",
   "metadata": {
    "scrolled": true
   },
   "outputs": [],
   "source": [
    "# Read the dataset and display the head. You will get the output as mentioned below\n",
    "\n",
    "# ______________________________\n",
    "# ______________________________\n"
   ]
  },
  {
   "cell_type": "code",
   "execution_count": 346,
   "id": "208d94a1",
   "metadata": {},
   "outputs": [],
   "source": [
    "# Check the shape of the dataframe\n",
    "\n",
    "# ______________________________\n",
    "# ______________________________\n"
   ]
  },
  {
   "cell_type": "code",
   "execution_count": 347,
   "id": "08060c83",
   "metadata": {},
   "outputs": [],
   "source": [
    "# On the dataframe apply info() function and observe the Dtypes and Missing Values\n",
    "\n",
    "# ______________________________\n",
    "# ______________________________\n"
   ]
  },
  {
   "cell_type": "markdown",
   "id": "8e9b8dc4",
   "metadata": {},
   "source": [
    "## 2. Cleaning the Data"
   ]
  },
  {
   "cell_type": "code",
   "execution_count": 348,
   "id": "acc55afd",
   "metadata": {},
   "outputs": [],
   "source": [
    "# Impute the Null values in Health Indicator, Holding_Policy_Duration and Holding_Policy_Type\n",
    "\n",
    "# ____________________________\n",
    "\n",
    "# ____________________________"
   ]
  },
  {
   "cell_type": "code",
   "execution_count": 349,
   "id": "ce6543db",
   "metadata": {},
   "outputs": [],
   "source": [
    "# Check again Holding_Policy_Duration is in object column convert that into int\n",
    "\n",
    "# ____________________________"
   ]
  },
  {
   "cell_type": "code",
   "execution_count": 350,
   "id": "ccd70e1e",
   "metadata": {},
   "outputs": [],
   "source": [
    "# Observe that ['Accomodation_Type','Reco_Insurance_Type','Is_Spouse'] \n",
    "# above these Object columns have two values - Yes and No\n",
    "\n",
    "\n",
    "# ____________________________\n",
    "# ____________________________"
   ]
  },
  {
   "cell_type": "code",
   "execution_count": 351,
   "id": "4bbaf354",
   "metadata": {},
   "outputs": [],
   "source": [
    "# Converting all the Yes to 1 and No to 0. \n",
    "\n",
    "\n",
    "\n",
    "# Write a for loop to iterate over the list given above\n",
    "# For each feature use pandas 'apply()' to convert all the 'Yes' to 1 and 'No' to 0\n",
    "\n",
    "\n",
    "# ______________________________\n",
    "# ______________________________\n",
    "    \n"
   ]
  },
  {
   "cell_type": "code",
   "execution_count": 352,
   "id": "0553a67e",
   "metadata": {},
   "outputs": [],
   "source": [
    "# Now again having a look at all those columns to see if everything went well\n",
    "\n",
    "# _________________________________"
   ]
  },
  {
   "cell_type": "code",
   "execution_count": 353,
   "id": "898e0452",
   "metadata": {},
   "outputs": [],
   "source": [
    "# Observe that all those columns are now converted from Object to Int64\n",
    "\n",
    "# ________________________________"
   ]
  },
  {
   "cell_type": "code",
   "execution_count": 354,
   "id": "457afa50",
   "metadata": {},
   "outputs": [],
   "source": [
    "# Checking all the Object Dtypes - Here, these columns have more than 2 categories\n",
    "\n",
    "# ______________________________\n",
    "# ______________________________"
   ]
  },
  {
   "cell_type": "code",
   "execution_count": 355,
   "id": "2cd6ab70",
   "metadata": {},
   "outputs": [],
   "source": [
    "# You can also do this to separate Object columns\n",
    "\n",
    "# ____________________________"
   ]
  },
  {
   "cell_type": "code",
   "execution_count": 356,
   "id": "0ea61ab5",
   "metadata": {},
   "outputs": [],
   "source": [
    "# Lets just try to see what is happening Response. Check the output.\n",
    "\n"
   ]
  },
  {
   "cell_type": "code",
   "execution_count": 357,
   "id": "3dd9e158",
   "metadata": {},
   "outputs": [],
   "source": [
    "# Dropping unknown column\n",
    "\n",
    "# Write the code here to drop unknown column and check dataframe shape\n",
    "# ______________________________\n",
    "# ______________________________\n",
    "\n",
    "\n"
   ]
  },
  {
   "cell_type": "code",
   "execution_count": 358,
   "id": "0b821a6c",
   "metadata": {},
   "outputs": [],
   "source": [
    "# Getting all the Object Dtypes\n",
    "\n"
   ]
  },
  {
   "cell_type": "code",
   "execution_count": 359,
   "id": "4d77d35e",
   "metadata": {},
   "outputs": [],
   "source": [
    "# Encoding the categorical features\n",
    "\n",
    "\n",
    "\n",
    "# column names are (annoyingly) lost after OneHotEncoding\n",
    "# (i.e. the dataframe is converted to a numpy ndarray)\n",
    "\n",
    "# Write the code here to use 'encoder' to convert all the categorical columns to numerical representations\n",
    "# Take extra care to convert encoded numpy array to dataframe and call that data fram 'df_encoded'\n",
    "\n",
    "# ______________________________\n",
    "# ______________________________\n",
    "\n",
    "\n"
   ]
  },
  {
   "cell_type": "code",
   "execution_count": 360,
   "id": "f2012e4e",
   "metadata": {},
   "outputs": [],
   "source": [
    "# Concatinating the original data frame and onehot encoded dataframe\n",
    "\n"
   ]
  },
  {
   "cell_type": "code",
   "execution_count": 361,
   "id": "a9d91922",
   "metadata": {},
   "outputs": [],
   "source": [
    "# Drop all the unwanted columns.\n",
    "\n",
    "\n",
    "# Because we have already encoded them and added to main dataframe\n",
    "\n"
   ]
  },
  {
   "cell_type": "markdown",
   "id": "dbb0ce3e",
   "metadata": {},
   "source": [
    "## Observe that 26.5% datapoints belong to one class rest all belongs to other class. Clearly dataset is having high imbalance.\n",
    "\n",
    "**To Do:**\n",
    "1. Read about Oversampling and Undersampling.\n",
    "2. Perform undersampling."
   ]
  },
  {
   "cell_type": "markdown",
   "id": "0fd65681",
   "metadata": {},
   "source": [
    "## Train Test Split\n",
    "\n",
    "**To Do:**\n",
    "1. Sandardise the data\n",
    "2. Perform 80-20 split"
   ]
  },
  {
   "cell_type": "markdown",
   "id": "8c94c0db",
   "metadata": {},
   "source": [
    "## Model Building - Logistic Regression, SVM, KNN, DT, RF, Gradient Boosting, AdaBoosting etc\n",
    "\n",
    "For all the algorithms mentioned above, perform below mentioned steps.\n",
    "\n",
    "**To Do:**\n",
    "1. Train the Model using `Accuracy` as the evaluation metric\n",
    "2. Predict\n",
    "3. Evaluate use Accuracy, Confusion Matrix, Precision & Recall, F1-score and ROC AUC to understand model performance\n",
    "4. Compare the perormance of all the models"
   ]
  },
  {
   "cell_type": "code",
   "execution_count": 362,
   "id": "aabe0c9c",
   "metadata": {},
   "outputs": [],
   "source": [
    "# Import all the required Libraries\n",
    "\n",
    "import pandas as pd\n",
    "import numpy as np\n",
    "\n",
    "import seaborn as sns\n",
    "import matplotlib.pyplot as plt\n",
    "import warnings\n",
    "warnings.filterwarnings('ignore')"
   ]
  },
  {
   "cell_type": "code",
   "execution_count": 363,
   "id": "633628e4",
   "metadata": {},
   "outputs": [
    {
     "data": {
      "text/html": [
       "<div>\n",
       "<style scoped>\n",
       "    .dataframe tbody tr th:only-of-type {\n",
       "        vertical-align: middle;\n",
       "    }\n",
       "\n",
       "    .dataframe tbody tr th {\n",
       "        vertical-align: top;\n",
       "    }\n",
       "\n",
       "    .dataframe thead th {\n",
       "        text-align: right;\n",
       "    }\n",
       "</style>\n",
       "<table border=\"1\" class=\"dataframe\">\n",
       "  <thead>\n",
       "    <tr style=\"text-align: right;\">\n",
       "      <th></th>\n",
       "      <th>City_Code</th>\n",
       "      <th>Region_Code</th>\n",
       "      <th>Accomodation_Type</th>\n",
       "      <th>Reco_Insurance_Type</th>\n",
       "      <th>Upper_Age</th>\n",
       "      <th>Lower_Age</th>\n",
       "      <th>Is_Spouse</th>\n",
       "      <th>Holding_Policy_Duration</th>\n",
       "      <th>Holding_Policy_Type</th>\n",
       "      <th>Reco_Policy_Cat</th>\n",
       "      <th>Reco_Policy_Premium</th>\n",
       "      <th>Response</th>\n",
       "      <th>X1</th>\n",
       "      <th>X2</th>\n",
       "      <th>X3</th>\n",
       "      <th>X4</th>\n",
       "      <th>X5</th>\n",
       "      <th>X6</th>\n",
       "      <th>X7</th>\n",
       "      <th>X8</th>\n",
       "      <th>X9</th>\n",
       "    </tr>\n",
       "  </thead>\n",
       "  <tbody>\n",
       "    <tr>\n",
       "      <th>0</th>\n",
       "      <td>C3</td>\n",
       "      <td>64</td>\n",
       "      <td>1</td>\n",
       "      <td>1</td>\n",
       "      <td>36</td>\n",
       "      <td>36</td>\n",
       "      <td>0</td>\n",
       "      <td>15</td>\n",
       "      <td>2.0</td>\n",
       "      <td>16</td>\n",
       "      <td>13320.0</td>\n",
       "      <td>0</td>\n",
       "      <td>1</td>\n",
       "      <td>0</td>\n",
       "      <td>0</td>\n",
       "      <td>0</td>\n",
       "      <td>0</td>\n",
       "      <td>0</td>\n",
       "      <td>0</td>\n",
       "      <td>0</td>\n",
       "      <td>0</td>\n",
       "    </tr>\n",
       "    <tr>\n",
       "      <th>1</th>\n",
       "      <td>C3</td>\n",
       "      <td>2955</td>\n",
       "      <td>1</td>\n",
       "      <td>1</td>\n",
       "      <td>66</td>\n",
       "      <td>66</td>\n",
       "      <td>0</td>\n",
       "      <td>10</td>\n",
       "      <td>1.0</td>\n",
       "      <td>19</td>\n",
       "      <td>16152.0</td>\n",
       "      <td>0</td>\n",
       "      <td>0</td>\n",
       "      <td>0</td>\n",
       "      <td>0</td>\n",
       "      <td>0</td>\n",
       "      <td>0</td>\n",
       "      <td>1</td>\n",
       "      <td>0</td>\n",
       "      <td>0</td>\n",
       "      <td>0</td>\n",
       "    </tr>\n",
       "    <tr>\n",
       "      <th>2</th>\n",
       "      <td>C1</td>\n",
       "      <td>1542</td>\n",
       "      <td>0</td>\n",
       "      <td>1</td>\n",
       "      <td>24</td>\n",
       "      <td>24</td>\n",
       "      <td>0</td>\n",
       "      <td>3</td>\n",
       "      <td>1.0</td>\n",
       "      <td>16</td>\n",
       "      <td>7310.0</td>\n",
       "      <td>0</td>\n",
       "      <td>1</td>\n",
       "      <td>0</td>\n",
       "      <td>0</td>\n",
       "      <td>0</td>\n",
       "      <td>0</td>\n",
       "      <td>0</td>\n",
       "      <td>0</td>\n",
       "      <td>0</td>\n",
       "      <td>0</td>\n",
       "    </tr>\n",
       "    <tr>\n",
       "      <th>3</th>\n",
       "      <td>C26</td>\n",
       "      <td>772</td>\n",
       "      <td>0</td>\n",
       "      <td>1</td>\n",
       "      <td>75</td>\n",
       "      <td>75</td>\n",
       "      <td>0</td>\n",
       "      <td>1</td>\n",
       "      <td>3.0</td>\n",
       "      <td>16</td>\n",
       "      <td>15792.0</td>\n",
       "      <td>0</td>\n",
       "      <td>1</td>\n",
       "      <td>0</td>\n",
       "      <td>0</td>\n",
       "      <td>0</td>\n",
       "      <td>0</td>\n",
       "      <td>0</td>\n",
       "      <td>0</td>\n",
       "      <td>0</td>\n",
       "      <td>0</td>\n",
       "    </tr>\n",
       "    <tr>\n",
       "      <th>4</th>\n",
       "      <td>C2</td>\n",
       "      <td>1510</td>\n",
       "      <td>1</td>\n",
       "      <td>0</td>\n",
       "      <td>59</td>\n",
       "      <td>58</td>\n",
       "      <td>1</td>\n",
       "      <td>15</td>\n",
       "      <td>4.0</td>\n",
       "      <td>17</td>\n",
       "      <td>23673.0</td>\n",
       "      <td>0</td>\n",
       "      <td>1</td>\n",
       "      <td>0</td>\n",
       "      <td>0</td>\n",
       "      <td>0</td>\n",
       "      <td>0</td>\n",
       "      <td>0</td>\n",
       "      <td>0</td>\n",
       "      <td>0</td>\n",
       "      <td>0</td>\n",
       "    </tr>\n",
       "  </tbody>\n",
       "</table>\n",
       "</div>"
      ],
      "text/plain": [
       "  City_Code  Region_Code  Accomodation_Type  Reco_Insurance_Type  Upper_Age  \\\n",
       "0        C3           64                  1                    1         36   \n",
       "1        C3         2955                  1                    1         66   \n",
       "2        C1         1542                  0                    1         24   \n",
       "3       C26          772                  0                    1         75   \n",
       "4        C2         1510                  1                    0         59   \n",
       "\n",
       "   Lower_Age  Is_Spouse  Holding_Policy_Duration  Holding_Policy_Type  \\\n",
       "0         36          0                       15                  2.0   \n",
       "1         66          0                       10                  1.0   \n",
       "2         24          0                        3                  1.0   \n",
       "3         75          0                        1                  3.0   \n",
       "4         58          1                       15                  4.0   \n",
       "\n",
       "   Reco_Policy_Cat  Reco_Policy_Premium  Response  X1  X2  X3  X4  X5  X6  X7  \\\n",
       "0               16              13320.0         0   1   0   0   0   0   0   0   \n",
       "1               19              16152.0         0   0   0   0   0   0   1   0   \n",
       "2               16               7310.0         0   1   0   0   0   0   0   0   \n",
       "3               16              15792.0         0   1   0   0   0   0   0   0   \n",
       "4               17              23673.0         0   1   0   0   0   0   0   0   \n",
       "\n",
       "   X8  X9  \n",
       "0   0   0  \n",
       "1   0   0  \n",
       "2   0   0  \n",
       "3   0   0  \n",
       "4   0   0  "
      ]
     },
     "execution_count": 363,
     "metadata": {},
     "output_type": "execute_result"
    }
   ],
   "source": [
    "data = pd.read_csv('train_cleaned.csv')\n",
    "data.head()"
   ]
  },
  {
   "cell_type": "code",
   "execution_count": 364,
   "id": "01405809",
   "metadata": {},
   "outputs": [
    {
     "data": {
      "text/plain": [
       "0    75.41\n",
       "1    24.59\n",
       "Name: Response, dtype: float64"
      ]
     },
     "execution_count": 364,
     "metadata": {},
     "output_type": "execute_result"
    }
   ],
   "source": [
    "data['Response'].value_counts()/100   # in percentages"
   ]
  },
  {
   "cell_type": "markdown",
   "id": "528ad666",
   "metadata": {},
   "source": [
    "### Sampling"
   ]
  },
  {
   "cell_type": "code",
   "execution_count": 365,
   "id": "f6d4a8f9",
   "metadata": {},
   "outputs": [],
   "source": [
    "X = data.drop(['Response','X9'],axis=1)\n",
    "y = data['Response']"
   ]
  },
  {
   "cell_type": "code",
   "execution_count": 366,
   "id": "3b0add69",
   "metadata": {},
   "outputs": [],
   "source": [
    "# ! pip install imblearn\n",
    "from collections import Counter"
   ]
  },
  {
   "cell_type": "code",
   "execution_count": 367,
   "id": "f9e05f40",
   "metadata": {},
   "outputs": [],
   "source": [
    "from imblearn.under_sampling import RandomUnderSampler\n",
    "rus = RandomUnderSampler()\n",
    "X_rus,y_rus = rus.fit_resample(X,y)"
   ]
  },
  {
   "cell_type": "code",
   "execution_count": 368,
   "id": "1055c892",
   "metadata": {},
   "outputs": [
    {
     "name": "stdout",
     "output_type": "stream",
     "text": [
      "Counter({0: 2459, 1: 2459})\n"
     ]
    }
   ],
   "source": [
    "print(Counter(y_rus))"
   ]
  },
  {
   "cell_type": "code",
   "execution_count": 369,
   "id": "20834cac",
   "metadata": {},
   "outputs": [
    {
     "data": {
      "text/plain": [
       "0    2459\n",
       "1    2459\n",
       "Name: Response, dtype: int64"
      ]
     },
     "execution_count": 369,
     "metadata": {},
     "output_type": "execute_result"
    }
   ],
   "source": [
    "y_rus.value_counts()"
   ]
  },
  {
   "cell_type": "markdown",
   "id": "e8ac2bbc",
   "metadata": {},
   "source": [
    "### Standardise"
   ]
  },
  {
   "cell_type": "code",
   "execution_count": 370,
   "id": "f8bac8d0",
   "metadata": {},
   "outputs": [
    {
     "data": {
      "text/html": [
       "<div>\n",
       "<style scoped>\n",
       "    .dataframe tbody tr th:only-of-type {\n",
       "        vertical-align: middle;\n",
       "    }\n",
       "\n",
       "    .dataframe tbody tr th {\n",
       "        vertical-align: top;\n",
       "    }\n",
       "\n",
       "    .dataframe thead th {\n",
       "        text-align: right;\n",
       "    }\n",
       "</style>\n",
       "<table border=\"1\" class=\"dataframe\">\n",
       "  <thead>\n",
       "    <tr style=\"text-align: right;\">\n",
       "      <th></th>\n",
       "      <th>City_Code</th>\n",
       "      <th>Region_Code</th>\n",
       "      <th>Accomodation_Type</th>\n",
       "      <th>Reco_Insurance_Type</th>\n",
       "      <th>Upper_Age</th>\n",
       "      <th>Lower_Age</th>\n",
       "      <th>Is_Spouse</th>\n",
       "      <th>Holding_Policy_Duration</th>\n",
       "      <th>Holding_Policy_Type</th>\n",
       "      <th>Reco_Policy_Cat</th>\n",
       "      <th>Reco_Policy_Premium</th>\n",
       "      <th>X1</th>\n",
       "      <th>X2</th>\n",
       "      <th>X3</th>\n",
       "      <th>X4</th>\n",
       "      <th>X5</th>\n",
       "      <th>X6</th>\n",
       "      <th>X7</th>\n",
       "      <th>X8</th>\n",
       "    </tr>\n",
       "  </thead>\n",
       "  <tbody>\n",
       "    <tr>\n",
       "      <th>0</th>\n",
       "      <td>C15</td>\n",
       "      <td>1575</td>\n",
       "      <td>1</td>\n",
       "      <td>0</td>\n",
       "      <td>39</td>\n",
       "      <td>38</td>\n",
       "      <td>0</td>\n",
       "      <td>7</td>\n",
       "      <td>3.0</td>\n",
       "      <td>21</td>\n",
       "      <td>21760.0</td>\n",
       "      <td>0</td>\n",
       "      <td>0</td>\n",
       "      <td>0</td>\n",
       "      <td>1</td>\n",
       "      <td>0</td>\n",
       "      <td>0</td>\n",
       "      <td>0</td>\n",
       "      <td>0</td>\n",
       "    </tr>\n",
       "    <tr>\n",
       "      <th>1</th>\n",
       "      <td>C2</td>\n",
       "      <td>158</td>\n",
       "      <td>1</td>\n",
       "      <td>1</td>\n",
       "      <td>26</td>\n",
       "      <td>26</td>\n",
       "      <td>0</td>\n",
       "      <td>6</td>\n",
       "      <td>3.0</td>\n",
       "      <td>22</td>\n",
       "      <td>8820.0</td>\n",
       "      <td>1</td>\n",
       "      <td>0</td>\n",
       "      <td>0</td>\n",
       "      <td>0</td>\n",
       "      <td>0</td>\n",
       "      <td>0</td>\n",
       "      <td>0</td>\n",
       "      <td>0</td>\n",
       "    </tr>\n",
       "    <tr>\n",
       "      <th>2</th>\n",
       "      <td>C1</td>\n",
       "      <td>2404</td>\n",
       "      <td>0</td>\n",
       "      <td>0</td>\n",
       "      <td>68</td>\n",
       "      <td>55</td>\n",
       "      <td>1</td>\n",
       "      <td>15</td>\n",
       "      <td>1.0</td>\n",
       "      <td>19</td>\n",
       "      <td>30240.0</td>\n",
       "      <td>1</td>\n",
       "      <td>0</td>\n",
       "      <td>0</td>\n",
       "      <td>0</td>\n",
       "      <td>0</td>\n",
       "      <td>0</td>\n",
       "      <td>0</td>\n",
       "      <td>0</td>\n",
       "    </tr>\n",
       "    <tr>\n",
       "      <th>3</th>\n",
       "      <td>C4</td>\n",
       "      <td>1498</td>\n",
       "      <td>1</td>\n",
       "      <td>1</td>\n",
       "      <td>53</td>\n",
       "      <td>53</td>\n",
       "      <td>0</td>\n",
       "      <td>15</td>\n",
       "      <td>3.0</td>\n",
       "      <td>22</td>\n",
       "      <td>16324.0</td>\n",
       "      <td>1</td>\n",
       "      <td>0</td>\n",
       "      <td>0</td>\n",
       "      <td>0</td>\n",
       "      <td>0</td>\n",
       "      <td>0</td>\n",
       "      <td>0</td>\n",
       "      <td>0</td>\n",
       "    </tr>\n",
       "    <tr>\n",
       "      <th>4</th>\n",
       "      <td>C7</td>\n",
       "      <td>887</td>\n",
       "      <td>1</td>\n",
       "      <td>0</td>\n",
       "      <td>43</td>\n",
       "      <td>19</td>\n",
       "      <td>0</td>\n",
       "      <td>10</td>\n",
       "      <td>3.0</td>\n",
       "      <td>21</td>\n",
       "      <td>17550.0</td>\n",
       "      <td>1</td>\n",
       "      <td>0</td>\n",
       "      <td>0</td>\n",
       "      <td>0</td>\n",
       "      <td>0</td>\n",
       "      <td>0</td>\n",
       "      <td>0</td>\n",
       "      <td>0</td>\n",
       "    </tr>\n",
       "  </tbody>\n",
       "</table>\n",
       "</div>"
      ],
      "text/plain": [
       "  City_Code  Region_Code  Accomodation_Type  Reco_Insurance_Type  Upper_Age  \\\n",
       "0       C15         1575                  1                    0         39   \n",
       "1        C2          158                  1                    1         26   \n",
       "2        C1         2404                  0                    0         68   \n",
       "3        C4         1498                  1                    1         53   \n",
       "4        C7          887                  1                    0         43   \n",
       "\n",
       "   Lower_Age  Is_Spouse  Holding_Policy_Duration  Holding_Policy_Type  \\\n",
       "0         38          0                        7                  3.0   \n",
       "1         26          0                        6                  3.0   \n",
       "2         55          1                       15                  1.0   \n",
       "3         53          0                       15                  3.0   \n",
       "4         19          0                       10                  3.0   \n",
       "\n",
       "   Reco_Policy_Cat  Reco_Policy_Premium  X1  X2  X3  X4  X5  X6  X7  X8  \n",
       "0               21              21760.0   0   0   0   1   0   0   0   0  \n",
       "1               22               8820.0   1   0   0   0   0   0   0   0  \n",
       "2               19              30240.0   1   0   0   0   0   0   0   0  \n",
       "3               22              16324.0   1   0   0   0   0   0   0   0  \n",
       "4               21              17550.0   1   0   0   0   0   0   0   0  "
      ]
     },
     "execution_count": 370,
     "metadata": {},
     "output_type": "execute_result"
    }
   ],
   "source": [
    "pd.set_option(\"display.max_rows\", None, \"display.max_columns\", None)   # display entire dataframe\n",
    "X_rus.head()"
   ]
  },
  {
   "cell_type": "code",
   "execution_count": 371,
   "id": "25677bf6",
   "metadata": {},
   "outputs": [
    {
     "data": {
      "text/plain": [
       "Index(['City_Code', 'Region_Code', 'Accomodation_Type', 'Reco_Insurance_Type',\n",
       "       'Upper_Age', 'Lower_Age', 'Is_Spouse', 'Holding_Policy_Duration',\n",
       "       'Holding_Policy_Type', 'Reco_Policy_Cat', 'Reco_Policy_Premium', 'X1',\n",
       "       'X2', 'X3', 'X4', 'X5', 'X6', 'X7', 'X8'],\n",
       "      dtype='object')"
      ]
     },
     "execution_count": 371,
     "metadata": {},
     "output_type": "execute_result"
    }
   ],
   "source": [
    "X_rus.columns"
   ]
  },
  {
   "cell_type": "code",
   "execution_count": 372,
   "id": "f864c9e4",
   "metadata": {},
   "outputs": [],
   "source": [
    "from sklearn.preprocessing import StandardScaler\n",
    "sc = StandardScaler()\n",
    "X_rus[['Region_Code','Upper_Age', 'Lower_Age','Holding_Policy_Type','Holding_Policy_Duration', 'Reco_Policy_Cat','Reco_Policy_Premium']] = sc.fit_transform(X_rus[['Region_Code','Upper_Age', 'Lower_Age','Holding_Policy_Type', 'Holding_Policy_Duration','Reco_Policy_Cat','Reco_Policy_Premium']])"
   ]
  },
  {
   "cell_type": "code",
   "execution_count": 373,
   "id": "07de2d03",
   "metadata": {},
   "outputs": [
    {
     "data": {
      "text/html": [
       "<div>\n",
       "<style scoped>\n",
       "    .dataframe tbody tr th:only-of-type {\n",
       "        vertical-align: middle;\n",
       "    }\n",
       "\n",
       "    .dataframe tbody tr th {\n",
       "        vertical-align: top;\n",
       "    }\n",
       "\n",
       "    .dataframe thead th {\n",
       "        text-align: right;\n",
       "    }\n",
       "</style>\n",
       "<table border=\"1\" class=\"dataframe\">\n",
       "  <thead>\n",
       "    <tr style=\"text-align: right;\">\n",
       "      <th></th>\n",
       "      <th>City_Code</th>\n",
       "      <th>Region_Code</th>\n",
       "      <th>Accomodation_Type</th>\n",
       "      <th>Reco_Insurance_Type</th>\n",
       "      <th>Upper_Age</th>\n",
       "      <th>Lower_Age</th>\n",
       "      <th>Is_Spouse</th>\n",
       "      <th>Holding_Policy_Duration</th>\n",
       "      <th>Holding_Policy_Type</th>\n",
       "      <th>Reco_Policy_Cat</th>\n",
       "      <th>Reco_Policy_Premium</th>\n",
       "      <th>X1</th>\n",
       "      <th>X2</th>\n",
       "      <th>X3</th>\n",
       "      <th>X4</th>\n",
       "      <th>X5</th>\n",
       "      <th>X6</th>\n",
       "      <th>X7</th>\n",
       "      <th>X8</th>\n",
       "    </tr>\n",
       "  </thead>\n",
       "  <tbody>\n",
       "    <tr>\n",
       "      <th>0</th>\n",
       "      <td>C15</td>\n",
       "      <td>-0.096464</td>\n",
       "      <td>1</td>\n",
       "      <td>0</td>\n",
       "      <td>-0.344058</td>\n",
       "      <td>-0.268184</td>\n",
       "      <td>0</td>\n",
       "      <td>-0.509780</td>\n",
       "      <td>0.381573</td>\n",
       "      <td>0.896957</td>\n",
       "      <td>1.148791</td>\n",
       "      <td>0</td>\n",
       "      <td>0</td>\n",
       "      <td>0</td>\n",
       "      <td>1</td>\n",
       "      <td>0</td>\n",
       "      <td>0</td>\n",
       "      <td>0</td>\n",
       "      <td>0</td>\n",
       "    </tr>\n",
       "    <tr>\n",
       "      <th>1</th>\n",
       "      <td>C2</td>\n",
       "      <td>-1.093017</td>\n",
       "      <td>1</td>\n",
       "      <td>1</td>\n",
       "      <td>-1.099477</td>\n",
       "      <td>-0.961720</td>\n",
       "      <td>0</td>\n",
       "      <td>-0.687198</td>\n",
       "      <td>0.381573</td>\n",
       "      <td>1.064481</td>\n",
       "      <td>-0.834618</td>\n",
       "      <td>1</td>\n",
       "      <td>0</td>\n",
       "      <td>0</td>\n",
       "      <td>0</td>\n",
       "      <td>0</td>\n",
       "      <td>0</td>\n",
       "      <td>0</td>\n",
       "      <td>0</td>\n",
       "    </tr>\n",
       "    <tr>\n",
       "      <th>2</th>\n",
       "      <td>C1</td>\n",
       "      <td>0.486559</td>\n",
       "      <td>0</td>\n",
       "      <td>0</td>\n",
       "      <td>1.341106</td>\n",
       "      <td>0.714324</td>\n",
       "      <td>1</td>\n",
       "      <td>0.909566</td>\n",
       "      <td>-1.992339</td>\n",
       "      <td>0.561910</td>\n",
       "      <td>2.448584</td>\n",
       "      <td>1</td>\n",
       "      <td>0</td>\n",
       "      <td>0</td>\n",
       "      <td>0</td>\n",
       "      <td>0</td>\n",
       "      <td>0</td>\n",
       "      <td>0</td>\n",
       "      <td>0</td>\n",
       "    </tr>\n",
       "    <tr>\n",
       "      <th>3</th>\n",
       "      <td>C4</td>\n",
       "      <td>-0.150616</td>\n",
       "      <td>1</td>\n",
       "      <td>1</td>\n",
       "      <td>0.469469</td>\n",
       "      <td>0.598735</td>\n",
       "      <td>0</td>\n",
       "      <td>0.909566</td>\n",
       "      <td>0.381573</td>\n",
       "      <td>1.064481</td>\n",
       "      <td>0.315575</td>\n",
       "      <td>1</td>\n",
       "      <td>0</td>\n",
       "      <td>0</td>\n",
       "      <td>0</td>\n",
       "      <td>0</td>\n",
       "      <td>0</td>\n",
       "      <td>0</td>\n",
       "      <td>0</td>\n",
       "    </tr>\n",
       "    <tr>\n",
       "      <th>4</th>\n",
       "      <td>C7</td>\n",
       "      <td>-0.580323</td>\n",
       "      <td>1</td>\n",
       "      <td>0</td>\n",
       "      <td>-0.111622</td>\n",
       "      <td>-1.366282</td>\n",
       "      <td>0</td>\n",
       "      <td>0.022475</td>\n",
       "      <td>0.381573</td>\n",
       "      <td>0.896957</td>\n",
       "      <td>0.503494</td>\n",
       "      <td>1</td>\n",
       "      <td>0</td>\n",
       "      <td>0</td>\n",
       "      <td>0</td>\n",
       "      <td>0</td>\n",
       "      <td>0</td>\n",
       "      <td>0</td>\n",
       "      <td>0</td>\n",
       "    </tr>\n",
       "  </tbody>\n",
       "</table>\n",
       "</div>"
      ],
      "text/plain": [
       "  City_Code  Region_Code  Accomodation_Type  Reco_Insurance_Type  Upper_Age  \\\n",
       "0       C15    -0.096464                  1                    0  -0.344058   \n",
       "1        C2    -1.093017                  1                    1  -1.099477   \n",
       "2        C1     0.486559                  0                    0   1.341106   \n",
       "3        C4    -0.150616                  1                    1   0.469469   \n",
       "4        C7    -0.580323                  1                    0  -0.111622   \n",
       "\n",
       "   Lower_Age  Is_Spouse  Holding_Policy_Duration  Holding_Policy_Type  \\\n",
       "0  -0.268184          0                -0.509780             0.381573   \n",
       "1  -0.961720          0                -0.687198             0.381573   \n",
       "2   0.714324          1                 0.909566            -1.992339   \n",
       "3   0.598735          0                 0.909566             0.381573   \n",
       "4  -1.366282          0                 0.022475             0.381573   \n",
       "\n",
       "   Reco_Policy_Cat  Reco_Policy_Premium  X1  X2  X3  X4  X5  X6  X7  X8  \n",
       "0         0.896957             1.148791   0   0   0   1   0   0   0   0  \n",
       "1         1.064481            -0.834618   1   0   0   0   0   0   0   0  \n",
       "2         0.561910             2.448584   1   0   0   0   0   0   0   0  \n",
       "3         1.064481             0.315575   1   0   0   0   0   0   0   0  \n",
       "4         0.896957             0.503494   1   0   0   0   0   0   0   0  "
      ]
     },
     "execution_count": 373,
     "metadata": {},
     "output_type": "execute_result"
    }
   ],
   "source": [
    "X_rus.head()"
   ]
  },
  {
   "cell_type": "code",
   "execution_count": 374,
   "id": "e1c8d550",
   "metadata": {},
   "outputs": [],
   "source": [
    "X_rus.drop('City_Code',axis=1,inplace=True)  # drop City_Code"
   ]
  },
  {
   "cell_type": "markdown",
   "id": "3c89e3c6",
   "metadata": {},
   "source": [
    "### Train Test Split"
   ]
  },
  {
   "cell_type": "code",
   "execution_count": 375,
   "id": "c7092496",
   "metadata": {},
   "outputs": [],
   "source": [
    "from sklearn.model_selection import train_test_split\n",
    "X_train, X_test, y_train, y_test = train_test_split(X_rus, y_rus, test_size=0.2, random_state=42)"
   ]
  },
  {
   "cell_type": "markdown",
   "id": "c63f6476",
   "metadata": {},
   "source": [
    "### Modelling\n",
    " Logistic Regression, SVM, KNN, DT, RF, Gradient Boosting, AdaBoosting etc"
   ]
  },
  {
   "cell_type": "markdown",
   "id": "de51c8e6",
   "metadata": {},
   "source": [
    "### `Logistic Regression -------------------------------------------`"
   ]
  },
  {
   "cell_type": "code",
   "execution_count": 376,
   "id": "b5730ce3",
   "metadata": {},
   "outputs": [],
   "source": [
    "from sklearn.linear_model import LogisticRegression\n",
    "lr = LogisticRegression()\n",
    "lr.fit(X_train,y_train)\n",
    "y_pred = lr.predict(X_test)"
   ]
  },
  {
   "cell_type": "code",
   "execution_count": 377,
   "id": "b1bfd4b0",
   "metadata": {},
   "outputs": [
    {
     "name": "stdout",
     "output_type": "stream",
     "text": [
      "Accuracy => 0.5203252032520326\n",
      "Precision => 0.5099337748344371\n",
      "F-1 score => 0.5661764705882354\n",
      "Confusion matrix =>\n",
      " [[204 296]\n",
      " [176 308]]\n",
      "Recall score 0.6363636363636364\n"
     ]
    }
   ],
   "source": [
    "from sklearn.metrics import accuracy_score,precision_score,f1_score,confusion_matrix,recall_score\n",
    "print('Accuracy =>',accuracy_score(y_test,y_pred))\n",
    "print('Precision =>',precision_score(y_test,y_pred))\n",
    "print('F-1 score =>',f1_score(y_test,y_pred))\n",
    "print('Confusion matrix =>\\n',confusion_matrix(y_test,y_pred))\n",
    "print('Recall score',recall_score(y_test,y_pred))"
   ]
  },
  {
   "cell_type": "markdown",
   "id": "5f8435b2",
   "metadata": {},
   "source": [
    "### `SVC -------------------------------------------`"
   ]
  },
  {
   "cell_type": "code",
   "execution_count": 378,
   "id": "e0c0030d",
   "metadata": {},
   "outputs": [],
   "source": [
    "from sklearn.svm import SVC\n",
    "svc = SVC()\n",
    "svc.fit(X_train,y_train)\n",
    "y_pred = svc.predict(X_test)"
   ]
  },
  {
   "cell_type": "code",
   "execution_count": 379,
   "id": "4ba2010c",
   "metadata": {},
   "outputs": [
    {
     "name": "stdout",
     "output_type": "stream",
     "text": [
      "Accuracy => 0.5386178861788617\n",
      "Precision => 0.5212464589235127\n",
      "F-1 score => 0.6184873949579832\n",
      "Confusion matrix =>\n",
      " [[162 338]\n",
      " [116 368]]\n",
      "Recall score 0.7603305785123967\n"
     ]
    }
   ],
   "source": [
    "print('Accuracy =>',accuracy_score(y_test,y_pred))\n",
    "print('Precision =>',precision_score(y_test,y_pred))\n",
    "print('F-1 score =>',f1_score(y_test,y_pred))\n",
    "print('Confusion matrix =>\\n',confusion_matrix(y_test,y_pred))\n",
    "print('Recall score',recall_score(y_test,y_pred))"
   ]
  },
  {
   "cell_type": "markdown",
   "id": "c625e301",
   "metadata": {},
   "source": [
    "### `KNN -------------------------------------------`"
   ]
  },
  {
   "cell_type": "code",
   "execution_count": 380,
   "id": "ac063c62",
   "metadata": {},
   "outputs": [],
   "source": [
    "from sklearn.neighbors import KNeighborsClassifier\n",
    "knn = KNeighborsClassifier()\n",
    "knn.fit(X_train,y_train)\n",
    "y_pred = knn.predict(X_test)"
   ]
  },
  {
   "cell_type": "code",
   "execution_count": 381,
   "id": "770b1d14",
   "metadata": {},
   "outputs": [
    {
     "name": "stdout",
     "output_type": "stream",
     "text": [
      "Accuracy => 0.5436991869918699\n",
      "Precision => 0.5334608030592735\n",
      "F-1 score => 0.5541211519364448\n",
      "Confusion matrix =>\n",
      " [[256 244]\n",
      " [205 279]]\n",
      "Recall score 0.5764462809917356\n"
     ]
    }
   ],
   "source": [
    "print('Accuracy =>',accuracy_score(y_test,y_pred))\n",
    "print('Precision =>',precision_score(y_test,y_pred))\n",
    "print('F-1 score =>',f1_score(y_test,y_pred))\n",
    "print('Confusion matrix =>\\n',confusion_matrix(y_test,y_pred))\n",
    "print('Recall score',recall_score(y_test,y_pred))"
   ]
  },
  {
   "cell_type": "markdown",
   "id": "61f21e19",
   "metadata": {},
   "source": [
    "### `Decision Tree -------------------------------------------`"
   ]
  },
  {
   "cell_type": "code",
   "execution_count": 382,
   "id": "97249e03",
   "metadata": {},
   "outputs": [],
   "source": [
    "from sklearn.tree import DecisionTreeClassifier\n",
    "dtrc = DecisionTreeClassifier()\n",
    "dtrc.fit(X_train,y_train)\n",
    "y_pred = dtrc.predict(X_test)"
   ]
  },
  {
   "cell_type": "code",
   "execution_count": 383,
   "id": "d5136bb7",
   "metadata": {},
   "outputs": [
    {
     "name": "stdout",
     "output_type": "stream",
     "text": [
      "Accuracy => 0.5376016260162602\n",
      "Precision => 0.5289421157684631\n",
      "F-1 score => 0.5380710659898478\n",
      "Confusion matrix =>\n",
      " [[264 236]\n",
      " [219 265]]\n",
      "Recall score 0.5475206611570248\n"
     ]
    }
   ],
   "source": [
    "print('Accuracy =>',accuracy_score(y_test,y_pred))\n",
    "print('Precision =>',precision_score(y_test,y_pred))\n",
    "print('F-1 score =>',f1_score(y_test,y_pred))\n",
    "print('Confusion matrix =>\\n',confusion_matrix(y_test,y_pred))\n",
    "print('Recall score',recall_score(y_test,y_pred))"
   ]
  },
  {
   "cell_type": "markdown",
   "id": "99b78e07",
   "metadata": {},
   "source": [
    "### `Random Forest -------------------------------------------`"
   ]
  },
  {
   "cell_type": "code",
   "execution_count": 384,
   "id": "242f9ae7",
   "metadata": {},
   "outputs": [],
   "source": [
    "from sklearn.ensemble import RandomForestClassifier\n",
    "rfc = RandomForestClassifier()\n",
    "rfc.fit(X_train,y_train)\n",
    "y_pred = rfc.predict(X_test)"
   ]
  },
  {
   "cell_type": "code",
   "execution_count": 385,
   "id": "a63cac3e",
   "metadata": {},
   "outputs": [
    {
     "name": "stdout",
     "output_type": "stream",
     "text": [
      "Accuracy => 0.5294715447154471\n",
      "Precision => 0.5215605749486653\n",
      "F-1 score => 0.5231719876416066\n",
      "Confusion matrix =>\n",
      " [[267 233]\n",
      " [230 254]]\n",
      "Recall score 0.5247933884297521\n"
     ]
    }
   ],
   "source": [
    "print('Accuracy =>',accuracy_score(y_test,y_pred))\n",
    "print('Precision =>',precision_score(y_test,y_pred))\n",
    "print('F-1 score =>',f1_score(y_test,y_pred))\n",
    "print('Confusion matrix =>\\n',confusion_matrix(y_test,y_pred))\n",
    "print('Recall score',recall_score(y_test,y_pred))"
   ]
  },
  {
   "cell_type": "code",
   "execution_count": null,
   "id": "bd8d574e",
   "metadata": {},
   "outputs": [],
   "source": []
  }
 ],
 "metadata": {
  "kernelspec": {
   "display_name": "Python 3",
   "language": "python",
   "name": "python3"
  },
  "language_info": {
   "codemirror_mode": {
    "name": "ipython",
    "version": 3
   },
   "file_extension": ".py",
   "mimetype": "text/x-python",
   "name": "python",
   "nbconvert_exporter": "python",
   "pygments_lexer": "ipython3",
   "version": "3.8.8"
  }
 },
 "nbformat": 4,
 "nbformat_minor": 5
}
