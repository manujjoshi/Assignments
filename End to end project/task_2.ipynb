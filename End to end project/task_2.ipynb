{
 "cells": [
  {
   "cell_type": "markdown",
   "metadata": {},
   "source": [
    "# Task - 2\n",
    "\n",
    "\n",
    "## **Task has been mentioned at the end of this notebook**  \n",
    "\n",
    "Read this notebook to understand the solutions to `Task - 1`\n",
    "\n"
   ]
  },
  {
   "cell_type": "markdown",
   "metadata": {},
   "source": [
    "## 1. Basic Pandas Operations"
   ]
  },
  {
   "cell_type": "code",
   "execution_count": 1,
   "metadata": {},
   "outputs": [],
   "source": [
    "# Import all the required Libraries\n",
    "\n",
    "import pandas as pd\n",
    "import numpy as np\n",
    "\n",
    "import seaborn as sns\n",
    "import matplotlib.pyplot as plt"
   ]
  },
  {
   "cell_type": "code",
   "execution_count": 20,
   "metadata": {
    "scrolled": true
   },
   "outputs": [
    {
     "data": {
      "text/html": [
       "<div>\n",
       "<style scoped>\n",
       "    .dataframe tbody tr th:only-of-type {\n",
       "        vertical-align: middle;\n",
       "    }\n",
       "\n",
       "    .dataframe tbody tr th {\n",
       "        vertical-align: top;\n",
       "    }\n",
       "\n",
       "    .dataframe thead th {\n",
       "        text-align: right;\n",
       "    }\n",
       "</style>\n",
       "<table border=\"1\" class=\"dataframe\">\n",
       "  <thead>\n",
       "    <tr style=\"text-align: right;\">\n",
       "      <th></th>\n",
       "      <th>Unnamed: 0</th>\n",
       "      <th>ID</th>\n",
       "      <th>City_Code</th>\n",
       "      <th>Region_Code</th>\n",
       "      <th>Accomodation_Type</th>\n",
       "      <th>Reco_Insurance_Type</th>\n",
       "      <th>Upper_Age</th>\n",
       "      <th>Lower_Age</th>\n",
       "      <th>Is_Spouse</th>\n",
       "      <th>Health Indicator</th>\n",
       "      <th>Holding_Policy_Duration</th>\n",
       "      <th>Holding_Policy_Type</th>\n",
       "      <th>Reco_Policy_Cat</th>\n",
       "      <th>Reco_Policy_Premium</th>\n",
       "      <th>Response</th>\n",
       "    </tr>\n",
       "  </thead>\n",
       "  <tbody>\n",
       "    <tr>\n",
       "      <th>8018</th>\n",
       "      <td>11694</td>\n",
       "      <td>11695</td>\n",
       "      <td>C1</td>\n",
       "      <td>1979</td>\n",
       "      <td>Rented</td>\n",
       "      <td>Joint</td>\n",
       "      <td>47</td>\n",
       "      <td>39</td>\n",
       "      <td>Yes</td>\n",
       "      <td>X2</td>\n",
       "      <td>NaN</td>\n",
       "      <td>NaN</td>\n",
       "      <td>17</td>\n",
       "      <td>18777.6</td>\n",
       "      <td>0</td>\n",
       "    </tr>\n",
       "    <tr>\n",
       "      <th>9225</th>\n",
       "      <td>18495</td>\n",
       "      <td>18496</td>\n",
       "      <td>C8</td>\n",
       "      <td>4482</td>\n",
       "      <td>Owned</td>\n",
       "      <td>Individual</td>\n",
       "      <td>65</td>\n",
       "      <td>65</td>\n",
       "      <td>No</td>\n",
       "      <td>NaN</td>\n",
       "      <td>NaN</td>\n",
       "      <td>NaN</td>\n",
       "      <td>12</td>\n",
       "      <td>16864.0</td>\n",
       "      <td>0</td>\n",
       "    </tr>\n",
       "    <tr>\n",
       "      <th>3854</th>\n",
       "      <td>7434</td>\n",
       "      <td>7435</td>\n",
       "      <td>C14</td>\n",
       "      <td>295</td>\n",
       "      <td>Rented</td>\n",
       "      <td>Individual</td>\n",
       "      <td>21</td>\n",
       "      <td>21</td>\n",
       "      <td>No</td>\n",
       "      <td>X5</td>\n",
       "      <td>NaN</td>\n",
       "      <td>NaN</td>\n",
       "      <td>19</td>\n",
       "      <td>9492.0</td>\n",
       "      <td>0</td>\n",
       "    </tr>\n",
       "    <tr>\n",
       "      <th>2029</th>\n",
       "      <td>50797</td>\n",
       "      <td>50798</td>\n",
       "      <td>C6</td>\n",
       "      <td>428</td>\n",
       "      <td>Rented</td>\n",
       "      <td>Individual</td>\n",
       "      <td>48</td>\n",
       "      <td>48</td>\n",
       "      <td>No</td>\n",
       "      <td>X1</td>\n",
       "      <td>NaN</td>\n",
       "      <td>NaN</td>\n",
       "      <td>22</td>\n",
       "      <td>14592.0</td>\n",
       "      <td>0</td>\n",
       "    </tr>\n",
       "    <tr>\n",
       "      <th>3539</th>\n",
       "      <td>36533</td>\n",
       "      <td>36534</td>\n",
       "      <td>C1</td>\n",
       "      <td>1984</td>\n",
       "      <td>Rented</td>\n",
       "      <td>Individual</td>\n",
       "      <td>25</td>\n",
       "      <td>25</td>\n",
       "      <td>No</td>\n",
       "      <td>X2</td>\n",
       "      <td>NaN</td>\n",
       "      <td>NaN</td>\n",
       "      <td>21</td>\n",
       "      <td>5392.0</td>\n",
       "      <td>0</td>\n",
       "    </tr>\n",
       "  </tbody>\n",
       "</table>\n",
       "</div>"
      ],
      "text/plain": [
       "      Unnamed: 0     ID City_Code  Region_Code Accomodation_Type  \\\n",
       "8018       11694  11695        C1         1979            Rented   \n",
       "9225       18495  18496        C8         4482             Owned   \n",
       "3854        7434   7435       C14          295            Rented   \n",
       "2029       50797  50798        C6          428            Rented   \n",
       "3539       36533  36534        C1         1984            Rented   \n",
       "\n",
       "     Reco_Insurance_Type  Upper_Age  Lower_Age Is_Spouse Health Indicator  \\\n",
       "8018               Joint         47         39       Yes               X2   \n",
       "9225          Individual         65         65        No              NaN   \n",
       "3854          Individual         21         21        No               X5   \n",
       "2029          Individual         48         48        No               X1   \n",
       "3539          Individual         25         25        No               X2   \n",
       "\n",
       "     Holding_Policy_Duration  Holding_Policy_Type  Reco_Policy_Cat  \\\n",
       "8018                     NaN                  NaN               17   \n",
       "9225                     NaN                  NaN               12   \n",
       "3854                     NaN                  NaN               19   \n",
       "2029                     NaN                  NaN               22   \n",
       "3539                     NaN                  NaN               21   \n",
       "\n",
       "      Reco_Policy_Premium  Response  \n",
       "8018              18777.6         0  \n",
       "9225              16864.0         0  \n",
       "3854               9492.0         0  \n",
       "2029              14592.0         0  \n",
       "3539               5392.0         0  "
      ]
     },
     "execution_count": 20,
     "metadata": {},
     "output_type": "execute_result"
    }
   ],
   "source": [
    "# Read the dataset and display the head. You will get the output as mentioned below\n",
    "\n",
    "# ______________________________\n",
    "# ______________________________\n"
   ]
  },
  {
   "cell_type": "code",
   "execution_count": 15,
   "metadata": {},
   "outputs": [
    {
     "data": {
      "text/plain": [
       "(10000, 14)"
      ]
     },
     "execution_count": 15,
     "metadata": {},
     "output_type": "execute_result"
    }
   ],
   "source": [
    "# Check the shape of the dataframe\n",
    "\n",
    "# ______________________________\n",
    "# ______________________________\n"
   ]
  },
  {
   "cell_type": "code",
   "execution_count": 21,
   "metadata": {},
   "outputs": [
    {
     "name": "stdout",
     "output_type": "stream",
     "text": [
      "<class 'pandas.core.frame.DataFrame'>\n",
      "Int64Index: 10000 entries, 8018 to 5640\n",
      "Data columns (total 15 columns):\n",
      " #   Column                   Non-Null Count  Dtype  \n",
      "---  ------                   --------------  -----  \n",
      " 0   Unnamed: 0               10000 non-null  int64  \n",
      " 1   ID                       10000 non-null  int64  \n",
      " 2   City_Code                10000 non-null  object \n",
      " 3   Region_Code              10000 non-null  int64  \n",
      " 4   Accomodation_Type        10000 non-null  object \n",
      " 5   Reco_Insurance_Type      10000 non-null  object \n",
      " 6   Upper_Age                10000 non-null  int64  \n",
      " 7   Lower_Age                10000 non-null  int64  \n",
      " 8   Is_Spouse                10000 non-null  object \n",
      " 9   Health Indicator         7671 non-null   object \n",
      " 10  Holding_Policy_Duration  5946 non-null   object \n",
      " 11  Holding_Policy_Type      5946 non-null   float64\n",
      " 12  Reco_Policy_Cat          10000 non-null  int64  \n",
      " 13  Reco_Policy_Premium      10000 non-null  float64\n",
      " 14  Response                 10000 non-null  int64  \n",
      "dtypes: float64(2), int64(7), object(6)\n",
      "memory usage: 1.2+ MB\n"
     ]
    }
   ],
   "source": [
    "# On the dataframe apply info() function and observe the Dtypes and Missing Values\n",
    "\n",
    "# ______________________________\n",
    "# ______________________________\n"
   ]
  },
  {
   "cell_type": "markdown",
   "metadata": {},
   "source": [
    "## 2. Cleaning the Data"
   ]
  },
  {
   "cell_type": "code",
   "execution_count": null,
   "metadata": {},
   "outputs": [],
   "source": [
    "# Impute the Null values in Health Indicator, Holding_Policy_Duration and Holding_Policy_Type\n",
    "\n",
    "# ____________________________\n",
    "\n",
    "# ____________________________"
   ]
  },
  {
   "cell_type": "code",
   "execution_count": null,
   "metadata": {},
   "outputs": [],
   "source": [
    "# Check again Holding_Policy_Duration is in object column convert that into int\n",
    "\n",
    "# ____________________________"
   ]
  },
  {
   "cell_type": "code",
   "execution_count": 6,
   "metadata": {},
   "outputs": [],
   "source": [
    "# Observe that ['Accomodation_Type','Reco_Insurance_Type','Is_Spouse'] \n",
    "# above these Object columns have two values - Yes and No\n",
    "\n",
    "\n",
    "# ____________________________\n",
    "# ____________________________"
   ]
  },
  {
   "cell_type": "code",
   "execution_count": 31,
   "metadata": {},
   "outputs": [],
   "source": [
    "# Converting all the Yes to 1 and No to 0. \n",
    "\n",
    "\n",
    "\n",
    "# Write a for loop to iterate over the list given above\n",
    "# For each feature use pandas 'apply()' to convert all the 'Yes' to 1 and 'No' to 0\n",
    "\n",
    "\n",
    "# ______________________________\n",
    "# ______________________________\n",
    "    \n"
   ]
  },
  {
   "cell_type": "code",
   "execution_count": 8,
   "metadata": {},
   "outputs": [],
   "source": [
    "# Now again having a look at all those columns to see if everything went well\n",
    "\n",
    "# _________________________________"
   ]
  },
  {
   "cell_type": "code",
   "execution_count": 9,
   "metadata": {},
   "outputs": [
    {
     "name": "stdout",
     "output_type": "stream",
     "text": [
      "<class 'pandas.core.frame.DataFrame'>\n",
      "Int64Index: 10000 entries, 13237 to 2889\n",
      "Data columns (total 14 columns):\n",
      " #   Column                   Non-Null Count  Dtype  \n",
      "---  ------                   --------------  -----  \n",
      " 0   ID                       10000 non-null  int64  \n",
      " 1   City_Code                10000 non-null  object \n",
      " 2   Region_Code              10000 non-null  int64  \n",
      " 3   Accomodation_Type        10000 non-null  object \n",
      " 4   Reco_Insurance_Type      10000 non-null  object \n",
      " 5   Upper_Age                10000 non-null  int64  \n",
      " 6   Lower_Age                10000 non-null  int64  \n",
      " 7   Is_Spouse                10000 non-null  object \n",
      " 8   Health Indicator         7754 non-null   object \n",
      " 9   Holding_Policy_Duration  6034 non-null   object \n",
      " 10  Holding_Policy_Type      6034 non-null   float64\n",
      " 11  Reco_Policy_Cat          10000 non-null  int64  \n",
      " 12  Reco_Policy_Premium      10000 non-null  float64\n",
      " 13  Response                 10000 non-null  int64  \n",
      "dtypes: float64(2), int64(6), object(6)\n",
      "memory usage: 1.1+ MB\n"
     ]
    }
   ],
   "source": [
    "# Observe that all those columns are now converted from Object to Int64\n",
    "\n",
    "# ________________________________"
   ]
  },
  {
   "cell_type": "code",
   "execution_count": 10,
   "metadata": {},
   "outputs": [],
   "source": [
    "# Checking all the Object Dtypes - Here, these columns have more than 2 categories\n",
    "\n",
    "# ______________________________\n",
    "# ______________________________"
   ]
  },
  {
   "cell_type": "code",
   "execution_count": 11,
   "metadata": {},
   "outputs": [
    {
     "data": {
      "text/html": [
       "<div>\n",
       "<style scoped>\n",
       "    .dataframe tbody tr th:only-of-type {\n",
       "        vertical-align: middle;\n",
       "    }\n",
       "\n",
       "    .dataframe tbody tr th {\n",
       "        vertical-align: top;\n",
       "    }\n",
       "\n",
       "    .dataframe thead th {\n",
       "        text-align: right;\n",
       "    }\n",
       "</style>\n",
       "<table border=\"1\" class=\"dataframe\">\n",
       "  <thead>\n",
       "    <tr style=\"text-align: right;\">\n",
       "      <th></th>\n",
       "      <th>City_Code</th>\n",
       "      <th>Accomodation_Type</th>\n",
       "      <th>Reco_Insurance_Type</th>\n",
       "      <th>Is_Spouse</th>\n",
       "      <th>Health Indicator</th>\n",
       "      <th>Holding_Policy_Duration</th>\n",
       "    </tr>\n",
       "  </thead>\n",
       "  <tbody>\n",
       "    <tr>\n",
       "      <th>13237</th>\n",
       "      <td>C19</td>\n",
       "      <td>Owned</td>\n",
       "      <td>Joint</td>\n",
       "      <td>Yes</td>\n",
       "      <td>X2</td>\n",
       "      <td>11</td>\n",
       "    </tr>\n",
       "    <tr>\n",
       "      <th>29087</th>\n",
       "      <td>C2</td>\n",
       "      <td>Owned</td>\n",
       "      <td>Individual</td>\n",
       "      <td>No</td>\n",
       "      <td>X3</td>\n",
       "      <td>NaN</td>\n",
       "    </tr>\n",
       "    <tr>\n",
       "      <th>49356</th>\n",
       "      <td>C2</td>\n",
       "      <td>Rented</td>\n",
       "      <td>Individual</td>\n",
       "      <td>No</td>\n",
       "      <td>X1</td>\n",
       "      <td>NaN</td>\n",
       "    </tr>\n",
       "    <tr>\n",
       "      <th>2175</th>\n",
       "      <td>C19</td>\n",
       "      <td>Owned</td>\n",
       "      <td>Individual</td>\n",
       "      <td>No</td>\n",
       "      <td>X5</td>\n",
       "      <td>1</td>\n",
       "    </tr>\n",
       "    <tr>\n",
       "      <th>6027</th>\n",
       "      <td>C4</td>\n",
       "      <td>Owned</td>\n",
       "      <td>Individual</td>\n",
       "      <td>No</td>\n",
       "      <td>X2</td>\n",
       "      <td>5</td>\n",
       "    </tr>\n",
       "    <tr>\n",
       "      <th>...</th>\n",
       "      <td>...</td>\n",
       "      <td>...</td>\n",
       "      <td>...</td>\n",
       "      <td>...</td>\n",
       "      <td>...</td>\n",
       "      <td>...</td>\n",
       "    </tr>\n",
       "    <tr>\n",
       "      <th>11028</th>\n",
       "      <td>C4</td>\n",
       "      <td>Owned</td>\n",
       "      <td>Individual</td>\n",
       "      <td>No</td>\n",
       "      <td>NaN</td>\n",
       "      <td>NaN</td>\n",
       "    </tr>\n",
       "    <tr>\n",
       "      <th>12673</th>\n",
       "      <td>C10</td>\n",
       "      <td>Rented</td>\n",
       "      <td>Individual</td>\n",
       "      <td>No</td>\n",
       "      <td>X1</td>\n",
       "      <td>NaN</td>\n",
       "    </tr>\n",
       "    <tr>\n",
       "      <th>35186</th>\n",
       "      <td>C3</td>\n",
       "      <td>Rented</td>\n",
       "      <td>Individual</td>\n",
       "      <td>No</td>\n",
       "      <td>X1</td>\n",
       "      <td>1</td>\n",
       "    </tr>\n",
       "    <tr>\n",
       "      <th>50062</th>\n",
       "      <td>C11</td>\n",
       "      <td>Owned</td>\n",
       "      <td>Individual</td>\n",
       "      <td>No</td>\n",
       "      <td>NaN</td>\n",
       "      <td>NaN</td>\n",
       "    </tr>\n",
       "    <tr>\n",
       "      <th>2889</th>\n",
       "      <td>C7</td>\n",
       "      <td>Rented</td>\n",
       "      <td>Individual</td>\n",
       "      <td>No</td>\n",
       "      <td>NaN</td>\n",
       "      <td>3</td>\n",
       "    </tr>\n",
       "  </tbody>\n",
       "</table>\n",
       "<p>10000 rows × 6 columns</p>\n",
       "</div>"
      ],
      "text/plain": [
       "      City_Code Accomodation_Type Reco_Insurance_Type Is_Spouse  \\\n",
       "13237       C19             Owned               Joint       Yes   \n",
       "29087        C2             Owned          Individual        No   \n",
       "49356        C2            Rented          Individual        No   \n",
       "2175        C19             Owned          Individual        No   \n",
       "6027         C4             Owned          Individual        No   \n",
       "...         ...               ...                 ...       ...   \n",
       "11028        C4             Owned          Individual        No   \n",
       "12673       C10            Rented          Individual        No   \n",
       "35186        C3            Rented          Individual        No   \n",
       "50062       C11             Owned          Individual        No   \n",
       "2889         C7            Rented          Individual        No   \n",
       "\n",
       "      Health Indicator Holding_Policy_Duration  \n",
       "13237               X2                      11  \n",
       "29087               X3                     NaN  \n",
       "49356               X1                     NaN  \n",
       "2175                X5                       1  \n",
       "6027                X2                       5  \n",
       "...                ...                     ...  \n",
       "11028              NaN                     NaN  \n",
       "12673               X1                     NaN  \n",
       "35186               X1                       1  \n",
       "50062              NaN                     NaN  \n",
       "2889               NaN                       3  \n",
       "\n",
       "[10000 rows x 6 columns]"
      ]
     },
     "execution_count": 11,
     "metadata": {},
     "output_type": "execute_result"
    }
   ],
   "source": [
    "# You can also do this to separate Object columns\n",
    "\n",
    "# ____________________________"
   ]
  },
  {
   "cell_type": "code",
   "execution_count": 24,
   "metadata": {},
   "outputs": [],
   "source": [
    "# Lets just try to see what is happening Response. Check the output.\n",
    "\n"
   ]
  },
  {
   "cell_type": "code",
   "execution_count": 22,
   "metadata": {},
   "outputs": [],
   "source": [
    "# Dropping unknown column\n",
    "\n",
    "# Write the code here to drop unknown column and check dataframe shape\n",
    "# ______________________________\n",
    "# ______________________________\n",
    "\n",
    "\n"
   ]
  },
  {
   "cell_type": "code",
   "execution_count": 23,
   "metadata": {},
   "outputs": [],
   "source": [
    "# Getting all the Object Dtypes\n",
    "\n",
    "# _______________________________"
   ]
  },
  {
   "cell_type": "code",
   "execution_count": 24,
   "metadata": {},
   "outputs": [],
   "source": [
    "# Drop all the unwanted columns.\n",
    "\n",
    "\n",
    "# _______________________________\n"
   ]
  },
  {
   "cell_type": "code",
   "execution_count": null,
   "metadata": {},
   "outputs": [],
   "source": []
  },
  {
   "cell_type": "markdown",
   "metadata": {},
   "source": [
    "## Perform Exploratory Data Analysis\n",
    "\n",
    "**To Do:**\n",
    "1. Perform Univaraite Analysis (Basic pandas statistical description)\n",
    "2. Perform Bivaraite Analysis (Pandas Cross Tabs)\n",
    "3. Visualisations - \n",
    "    * Univariate - Histograms, boxplot, PDFs, countplot, etc\n",
    "    * Bivariate - Scatterplot, Boxplots, Pairplot, etc\n",
    "4. Write proper observations after each plot\n",
    "5. At the end of the notebook, summarize it with all the best observations you got."
   ]
  },
  {
   "cell_type": "markdown",
   "metadata": {},
   "source": [
    "### City Code\n",
    "#### Lets see the number of cities and see how many customers are there"
   ]
  },
  {
   "cell_type": "code",
   "execution_count": null,
   "metadata": {},
   "outputs": [],
   "source": [
    "# _____________________________________\n",
    "# _____________________________________"
   ]
  },
  {
   "cell_type": "markdown",
   "metadata": {},
   "source": [
    "#### Let's see city-wise customers interests in recommended policy"
   ]
  },
  {
   "cell_type": "code",
   "execution_count": null,
   "metadata": {},
   "outputs": [],
   "source": [
    "# _____________________________________\n",
    "# _____________________________________"
   ]
  },
  {
   "cell_type": "markdown",
   "metadata": {},
   "source": [
    "### Region Code\n",
    "#### Let's see the number of regions and region-wise customer interests in recommended policy."
   ]
  },
  {
   "cell_type": "code",
   "execution_count": null,
   "metadata": {},
   "outputs": [],
   "source": [
    "# _____________________________________\n",
    "# _____________________________________"
   ]
  },
  {
   "cell_type": "markdown",
   "metadata": {},
   "source": [
    "### Accomodation Type\n",
    "#### Let's see how many customers are living in their own house or rented houseand see how their interests vary in recommended policy."
   ]
  },
  {
   "cell_type": "code",
   "execution_count": null,
   "metadata": {},
   "outputs": [],
   "source": [
    "# _____________________________________\n",
    "# _____________________________________"
   ]
  },
  {
   "cell_type": "markdown",
   "metadata": {},
   "source": [
    "#### Let's see the city-wise accomodation type and customer response"
   ]
  },
  {
   "cell_type": "code",
   "execution_count": null,
   "metadata": {},
   "outputs": [],
   "source": [
    "# _____________________________________\n",
    "# _____________________________________"
   ]
  },
  {
   "cell_type": "markdown",
   "metadata": {},
   "source": [
    "### Reco Insurance Type\n",
    "#### Let's see the various recommended insurance types and customer response to them."
   ]
  },
  {
   "cell_type": "code",
   "execution_count": null,
   "metadata": {},
   "outputs": [],
   "source": [
    "# _____________________________________\n",
    "# _____________________________________"
   ]
  },
  {
   "cell_type": "markdown",
   "metadata": {},
   "source": [
    "#### Let's see customers accommodation, recommended insurance type and customer responses."
   ]
  },
  {
   "cell_type": "code",
   "execution_count": null,
   "metadata": {},
   "outputs": [],
   "source": [
    "# _____________________________________\n",
    "# _____________________________________"
   ]
  },
  {
   "cell_type": "markdown",
   "metadata": {},
   "source": [
    "### Recommended Policy Category\n",
    "#### Let's see how many categories under the type of recommended policies."
   ]
  },
  {
   "cell_type": "code",
   "execution_count": null,
   "metadata": {},
   "outputs": [],
   "source": [
    "# _____________________________________\n",
    "# _____________________________________"
   ]
  },
  {
   "cell_type": "markdown",
   "metadata": {},
   "source": [
    "### Recommended Policy Premium\n",
    "#### Let's see if there is a relationship between the recommended policy premium and recommended policy category.Analyse results with customer's holding policy type and their response to recommended policy.\n"
   ]
  },
  {
   "cell_type": "code",
   "execution_count": null,
   "metadata": {},
   "outputs": [],
   "source": [
    "# _____________________________________\n",
    "# _____________________________________"
   ]
  },
  {
   "cell_type": "markdown",
   "metadata": {},
   "source": [
    "#### Let's see which type of recommnded policy has more number of customers"
   ]
  },
  {
   "cell_type": "code",
   "execution_count": null,
   "metadata": {},
   "outputs": [],
   "source": [
    "# _____________________________________\n",
    "# _____________________________________"
   ]
  },
  {
   "cell_type": "markdown",
   "metadata": {},
   "source": [
    "#### Let's see city-wise recommended insurance types to customers and theirresponses to recommended policy.\n"
   ]
  },
  {
   "cell_type": "code",
   "execution_count": null,
   "metadata": {},
   "outputs": [],
   "source": [
    "# _____________________________________\n",
    "# _____________________________________"
   ]
  },
  {
   "cell_type": "markdown",
   "metadata": {},
   "source": [
    "#### Let's analyze the customer's upper age with their type of accommodation and recommended policy types to them and also their interest in the recommended policy.\n"
   ]
  },
  {
   "cell_type": "code",
   "execution_count": null,
   "metadata": {},
   "outputs": [],
   "source": [
    "# _____________________________________\n",
    "# _____________________________________"
   ]
  },
  {
   "cell_type": "markdown",
   "metadata": {},
   "source": [
    "#### Let's see city-wise the customers who have recommended to take the joint policy with their spouse or with other customers. Check these results with the customer's type of accommodation.\n"
   ]
  },
  {
   "cell_type": "code",
   "execution_count": null,
   "metadata": {},
   "outputs": [],
   "source": [
    "# _____________________________________\n",
    "# _____________________________________"
   ]
  },
  {
   "cell_type": "code",
   "execution_count": null,
   "metadata": {},
   "outputs": [],
   "source": []
  }
 ],
 "metadata": {
  "kernelspec": {
   "display_name": "Python 3",
   "language": "python",
   "name": "python3"
  },
  "language_info": {
   "codemirror_mode": {
    "name": "ipython",
    "version": 3
   },
   "file_extension": ".py",
   "mimetype": "text/x-python",
   "name": "python",
   "nbconvert_exporter": "python",
   "pygments_lexer": "ipython3",
   "version": "3.8.5"
  }
 },
 "nbformat": 4,
 "nbformat_minor": 5
}
