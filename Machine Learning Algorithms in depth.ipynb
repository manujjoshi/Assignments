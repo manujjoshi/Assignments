{
 "cells": [
  {
   "cell_type": "markdown",
   "id": "dfd1a093",
   "metadata": {},
   "source": [
    "# ` Responsiblities while reading Algorithm ---------------------`\n",
    "--------\n",
    "\n",
    "##### 1. `Advantages of algorithm`\n",
    "##### 2. `Disadvantages of algorithm`\n",
    "##### 3. `Working of the model`\n",
    "##### 4. `Assumptions`\n",
    "##### 5. `Equations => How internally it works`\n",
    "##### 6. `Implementation`\n",
    "##### 7. `On what kind of a data it can work`\n",
    "\n",
    "------\n",
    "\n",
    "### `Important Data preprocessing methods`\n",
    "- [A Comprehensive Guide to Data Exploration](https://www.analyticsvidhya.com/blog/2016/01/guide-data-exploration/)\n",
    "- [Imputing Missing Data Using Sklearn SimpleImputer](https://dzone.com/articles/imputing-missing-data-using-sklearn-simpleimputer)\n",
    "- [Sklearn documentation SimpleImputer](https://scikit-learn.org/stable/modules/generated/sklearn.impute.SimpleImputer.html)\n",
    "- [LabelEncoder](https://scikit-learn.org/stable/modules/generated/sklearn.preprocessing.LabelEncoder.html)\n",
    "- [LabelBinarizer](https://scikit-learn.org/stable/modules/generated/sklearn.preprocessing.LabelBinarizer.html)\n",
    "- [concat](https://pandas.pydata.org/docs/reference/api/pandas.concat.html)"
   ]
  },
  {
   "cell_type": "markdown",
   "id": "08435381",
   "metadata": {},
   "source": [
    "## 1. `Linear Regression ------------------------------------------`\n",
    "### `Advantages`\n",
    "- Linear Regression is simple to implement and easier to interpret the output coefficients.\n",
    "- When you know the relationship between the independent and dependent variable have a linear relationship, this algorithm is the best to use because of it’s less complexity to compared to other algorithms.\n",
    "- Linear Regression is susceptible to over-fitting but it can be avoided using some dimensionality reduction techniques, regularization (L1 and L2) techniques and cross-validation.\n",
    "\n",
    "### `Disadvantages`\n",
    "- On the other hand in linear regression technique outliers can have huge effects on the regression and boundaries are linear in this technique.\n",
    "- Diversely, linear regression assumes a linear relationship between dependent and independent variables. That means it assumes that there is a straight-line relationship between them. It assumes independence between attributes.\n",
    "- But then linear regression also looks at a relationship between the mean of the dependent variables and the independent variables. Just as the mean is not a complete description of a single variable, linear regression is not a complete description of relationships among variables.\n",
    "\n",
    "### `Assumption`\n",
    "- There should be a linear and additive relationship between dependent (response) variable and independent (predictor) variable(s). A linear relationship suggests that a change in response Y due to one unit change in X¹ is constant, regardless of the value of X¹. An additive relationship suggests that the effect of X¹ on Y is independent of other variables.\n",
    "- There should be no correlation between the residual (error) terms. Absence of this phenomenon is known as Autocorrelation.\n",
    "- The independent variables should not be correlated. Absence of this phenomenon is known as multicollinearity.\n",
    "- The error terms must have constant variance. This phenomenon is known as homoskedasticity. The presence of non-constant variance is referred to heteroskedasticity.\n",
    "- The error terms must be normally distributed.\n",
    "##### [Assumtions and how to remove voilations](https://www.analyticsvidhya.com/blog/2016/07/deeper-regression-analysis-assumptions-plots-solutions/)\n",
    "\n",
    "### `Implementation`\n",
    "- [Simple_Linear_Regression](http://localhost:8888/notebooks/Regression/Simple_Linear_Regression.ipynb)\n",
    "- [Linear Regression on a Dataset](http://localhost:8888/notebooks/Regression/Simple%20Linear%20Regression%20on%20a%20Dataset%20Part%201.ipynb)\n",
    "- [Multiple Linear regression](http://localhost:8888/notebooks/Regression/Multiple%20Linear%20Regression.ipynb)\n",
    "- [Multiple Linear Regression on a Dataset](http://localhost:8888/notebooks/Regression/Multiple%20Linear%20Regression%20on%20a%20Dataset%20Part%202.ipynb)\n",
    "- [Lasso vs Ridge vs Elastic Net](http://localhost:8888/notebooks/Regression/L1%2C%20L2%20and%20Elastic%20Net%20Regularization.ipynb)\n",
    "- [Evaluation Metrics for Regression\n",
    "](http://localhost:8888/notebooks/Regression/Evaluation%20Metrics%20for%20Regression.ipynb)\n",
    "\n",
    "### `Skelearn Documentation`\n",
    "- [Documentation](https://scikit-learn.org/stable/modules/generated/sklearn.linear_model.LinearRegression.html)\n",
    "\n",
    "### `Important Points to Remember`\n",
    "- [7 Regression Techniques you should know!](https://www.analyticsvidhya.com/blog/2015/08/comprehensive-guide-regression/)\n",
    "- [What is the Difference Between a Parameter and a Hyperparameter?](https://machinelearningmastery.com/difference-between-a-parameter-and-a-hyperparameter/)\n",
    "- [Lasso and Ridge Regression Interview Questions & Answers](https://360digitmg.com/lasso-and-ridge-regression-interview-questions-answers)\n",
    "- [Advantages and Disadvantages of different Regression models](https://www.geeksforgeeks.org/advantages-and-disadvantages-of-different-regression-models/)\n",
    "- [Linear vs Polynomial Regression](https://towardsdatascience.com/introduction-to-linear-regression-and-polynomial-regression-f8adc96f31cb)\n",
    "\n",
    "## 2. `Polyonomial Regression ----------------------------------------`\n",
    "\n",
    "### `Advantages`:\n",
    "- Polynomial provides the best approximation of the relationship between the dependent and independent variable.\n",
    "- A Broad range of function can be fit under it.\n",
    "- Polynomial basically fits a wide range of curvature.\n",
    "\n",
    "### `Disadvantages`\n",
    "- The presence of one or two outliers in the data can seriously affect the results of the nonlinear analysis.\n",
    "- These are too sensitive to the outliers.\n",
    "- In addition, there are unfortunately fewer model validation tools for the detection of outliers in nonlinear regression than there are for linear regression.\n",
    "\n",
    "### `Implementation`\n",
    "[Polynomial Regression and Grid search](http://localhost:8888/notebooks/Regression/Polynomial%20Regression%20and%20Grid%20search%20.ipynb)\n",
    "### `Sklearn Documentation`\n",
    "[Documentation](https://scikit-learn.org/stable/modules/generated/sklearn.preprocessing.PolynomialFeatures.html)\n",
    "\n",
    "### `Example of Polynomial Regression -----------------------`"
   ]
  },
  {
   "cell_type": "code",
   "execution_count": 1,
   "id": "8b29c53b",
   "metadata": {},
   "outputs": [
    {
     "data": {
      "text/html": [
       "<div>\n",
       "<style scoped>\n",
       "    .dataframe tbody tr th:only-of-type {\n",
       "        vertical-align: middle;\n",
       "    }\n",
       "\n",
       "    .dataframe tbody tr th {\n",
       "        vertical-align: top;\n",
       "    }\n",
       "\n",
       "    .dataframe thead th {\n",
       "        text-align: right;\n",
       "    }\n",
       "</style>\n",
       "<table border=\"1\" class=\"dataframe\">\n",
       "  <thead>\n",
       "    <tr style=\"text-align: right;\">\n",
       "      <th></th>\n",
       "      <th>sno</th>\n",
       "      <th>Temperature</th>\n",
       "      <th>Pressure</th>\n",
       "    </tr>\n",
       "  </thead>\n",
       "  <tbody>\n",
       "    <tr>\n",
       "      <th>0</th>\n",
       "      <td>1</td>\n",
       "      <td>0</td>\n",
       "      <td>0.0002</td>\n",
       "    </tr>\n",
       "    <tr>\n",
       "      <th>1</th>\n",
       "      <td>2</td>\n",
       "      <td>20</td>\n",
       "      <td>0.0012</td>\n",
       "    </tr>\n",
       "    <tr>\n",
       "      <th>2</th>\n",
       "      <td>3</td>\n",
       "      <td>40</td>\n",
       "      <td>0.0060</td>\n",
       "    </tr>\n",
       "    <tr>\n",
       "      <th>3</th>\n",
       "      <td>4</td>\n",
       "      <td>60</td>\n",
       "      <td>0.0300</td>\n",
       "    </tr>\n",
       "    <tr>\n",
       "      <th>4</th>\n",
       "      <td>5</td>\n",
       "      <td>80</td>\n",
       "      <td>0.0900</td>\n",
       "    </tr>\n",
       "    <tr>\n",
       "      <th>5</th>\n",
       "      <td>6</td>\n",
       "      <td>100</td>\n",
       "      <td>0.2700</td>\n",
       "    </tr>\n",
       "  </tbody>\n",
       "</table>\n",
       "</div>"
      ],
      "text/plain": [
       "   sno  Temperature  Pressure\n",
       "0    1            0    0.0002\n",
       "1    2           20    0.0012\n",
       "2    3           40    0.0060\n",
       "3    4           60    0.0300\n",
       "4    5           80    0.0900\n",
       "5    6          100    0.2700"
      ]
     },
     "execution_count": 1,
     "metadata": {},
     "output_type": "execute_result"
    }
   ],
   "source": [
    "import numpy as np\n",
    "import matplotlib.pyplot as plt\n",
    "import pandas as pd\n",
    "  \n",
    "# Importing the dataset\n",
    "data = pd.read_csv('data.csv')\n",
    "data"
   ]
  },
  {
   "cell_type": "code",
   "execution_count": 3,
   "id": "9b7c5d4f",
   "metadata": {},
   "outputs": [],
   "source": [
    "# Split the data\n",
    "X = data.iloc[:, 1:2].values\n",
    "y = data.iloc[:, 2].values"
   ]
  },
  {
   "cell_type": "code",
   "execution_count": 4,
   "id": "42e52686",
   "metadata": {},
   "outputs": [
    {
     "data": {
      "text/plain": [
       "LinearRegression()"
      ]
     },
     "execution_count": 4,
     "metadata": {},
     "output_type": "execute_result"
    }
   ],
   "source": [
    "# Fitting Linear Regression to dataset\n",
    "from sklearn.linear_model import LinearRegression\n",
    "lin = LinearRegression()\n",
    "  \n",
    "lin.fit(X, y)"
   ]
  },
  {
   "cell_type": "code",
   "execution_count": 18,
   "id": "559c3453",
   "metadata": {},
   "outputs": [
    {
     "data": {
      "text/plain": [
       "LinearRegression()"
      ]
     },
     "execution_count": 18,
     "metadata": {},
     "output_type": "execute_result"
    }
   ],
   "source": [
    "# Fitting Polynomial Regression to the dataset\n",
    "from sklearn.preprocessing import PolynomialFeatures\n",
    "  \n",
    "poly = PolynomialFeatures(degree = 4)\n",
    "X_poly = poly.fit_transform(X)\n",
    "  \n",
    "poly.fit(X_poly, y)\n",
    "lin2 = LinearRegression()\n",
    "lin2.fit(X_poly, y)"
   ]
  },
  {
   "cell_type": "code",
   "execution_count": 19,
   "id": "24bed65e",
   "metadata": {},
   "outputs": [
    {
     "data": {
      "image/png": "[encoded data removed]",
      "text/plain": [
       "<Figure size 432x288 with 1 Axes>"
      ]
     },
     "metadata": {
      "needs_background": "light"
     },
     "output_type": "display_data"
    }
   ],
   "source": [
    "# Visualising the Linear Regression results\n",
    "plt.scatter(X, y, color = 'blue')\n",
    "plt.plot(X, lin.predict(X), color = 'red')\n",
    "plt.title('Linear Regression')\n",
    "plt.xlabel('Temperature')\n",
    "plt.ylabel('Pressure')\n",
    "  \n",
    "plt.show()"
   ]
  },
  {
   "cell_type": "code",
   "execution_count": 20,
   "id": "857bfb9d",
   "metadata": {},
   "outputs": [
    {
     "data": {
      "image/png": "[encoded data removed]",
      "text/plain": [
       "<Figure size 432x288 with 1 Axes>"
      ]
     },
     "metadata": {
      "needs_background": "light"
     },
     "output_type": "display_data"
    }
   ],
   "source": [
    "# Visualising the Polynomial Regression results\n",
    "plt.scatter(X, y, color = 'blue')\n",
    "  \n",
    "plt.plot(X, lin2.predict(poly.fit_transform(X)), color = 'red')\n",
    "plt.title('Polynomial Regression')\n",
    "plt.xlabel('Temperature')\n",
    "plt.ylabel('Pressure')\n",
    "  \n",
    "plt.show()"
   ]
  },
  {
   "cell_type": "markdown",
   "id": "c97aca49",
   "metadata": {},
   "source": [
    "## 3. `Fill next Algo ----------------------------------------`"
   ]
  },
  {
   "cell_type": "code",
   "execution_count": null,
   "id": "8fbfb00a",
   "metadata": {},
   "outputs": [],
   "source": []
  }
 ],
 "metadata": {
  "kernelspec": {
   "display_name": "Python 3",
   "language": "python",
   "name": "python3"
  },
  "language_info": {
   "codemirror_mode": {
    "name": "ipython",
    "version": 3
   },
   "file_extension": ".py",
   "mimetype": "text/x-python",
   "name": "python",
   "nbconvert_exporter": "python",
   "pygments_lexer": "ipython3",
   "version": "3.8.8"
  }
 },
 "nbformat": 4,
 "nbformat_minor": 5
}
