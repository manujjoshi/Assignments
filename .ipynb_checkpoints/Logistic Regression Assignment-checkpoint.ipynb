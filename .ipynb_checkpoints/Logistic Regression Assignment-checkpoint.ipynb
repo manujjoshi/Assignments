{
 "cells": [
  {
   "cell_type": "markdown",
   "id": "9527549d",
   "metadata": {},
   "source": [
    "# `Logistic Regression Assignment -----------------------------------`"
   ]
  },
  {
   "cell_type": "code",
   "execution_count": 677,
   "id": "ef4cc16e",
   "metadata": {},
   "outputs": [],
   "source": [
    "import pandas as pd\n",
    "import numpy as np\n",
    "import seaborn as sns\n",
    "import matplotlib.pyplot as plt\n",
    "import warnings\n",
    "warnings.filterwarnings('ignore')"
   ]
  },
  {
   "cell_type": "code",
   "execution_count": 678,
   "id": "cfb35f8e",
   "metadata": {},
   "outputs": [
    {
     "data": {
      "text/html": [
       "<div>\n",
       "<style scoped>\n",
       "    .dataframe tbody tr th:only-of-type {\n",
       "        vertical-align: middle;\n",
       "    }\n",
       "\n",
       "    .dataframe tbody tr th {\n",
       "        vertical-align: top;\n",
       "    }\n",
       "\n",
       "    .dataframe thead th {\n",
       "        text-align: right;\n",
       "    }\n",
       "</style>\n",
       "<table border=\"1\" class=\"dataframe\">\n",
       "  <thead>\n",
       "    <tr style=\"text-align: right;\">\n",
       "      <th></th>\n",
       "      <th>age</th>\n",
       "      <th>sex</th>\n",
       "      <th>cp</th>\n",
       "      <th>trestbps</th>\n",
       "      <th>chol</th>\n",
       "      <th>fbs</th>\n",
       "      <th>restecg</th>\n",
       "      <th>thalach</th>\n",
       "      <th>exang</th>\n",
       "      <th>oldpeak</th>\n",
       "      <th>slope</th>\n",
       "      <th>ca</th>\n",
       "      <th>thal</th>\n",
       "      <th>target</th>\n",
       "    </tr>\n",
       "  </thead>\n",
       "  <tbody>\n",
       "    <tr>\n",
       "      <th>0</th>\n",
       "      <td>63</td>\n",
       "      <td>Male</td>\n",
       "      <td>asymptomatic</td>\n",
       "      <td>145</td>\n",
       "      <td>233</td>\n",
       "      <td>True</td>\n",
       "      <td>Normal</td>\n",
       "      <td>150</td>\n",
       "      <td>No</td>\n",
       "      <td>2.3</td>\n",
       "      <td>Up_Sloping</td>\n",
       "      <td>0</td>\n",
       "      <td>1</td>\n",
       "      <td>Yes</td>\n",
       "    </tr>\n",
       "    <tr>\n",
       "      <th>1</th>\n",
       "      <td>37</td>\n",
       "      <td>Male</td>\n",
       "      <td>non-anginal pain</td>\n",
       "      <td>130</td>\n",
       "      <td>250</td>\n",
       "      <td>False</td>\n",
       "      <td>Not_Normal</td>\n",
       "      <td>187</td>\n",
       "      <td>No</td>\n",
       "      <td>3.5</td>\n",
       "      <td>Up_Sloping</td>\n",
       "      <td>0</td>\n",
       "      <td>2</td>\n",
       "      <td>Yes</td>\n",
       "    </tr>\n",
       "    <tr>\n",
       "      <th>2</th>\n",
       "      <td>41</td>\n",
       "      <td>Female</td>\n",
       "      <td>atypical angina</td>\n",
       "      <td>130</td>\n",
       "      <td>204</td>\n",
       "      <td>False</td>\n",
       "      <td>Normal</td>\n",
       "      <td>172</td>\n",
       "      <td>No</td>\n",
       "      <td>1.4</td>\n",
       "      <td>Down_Sloping</td>\n",
       "      <td>0</td>\n",
       "      <td>2</td>\n",
       "      <td>Yes</td>\n",
       "    </tr>\n",
       "    <tr>\n",
       "      <th>3</th>\n",
       "      <td>56</td>\n",
       "      <td>Male</td>\n",
       "      <td>atypical angina</td>\n",
       "      <td>120</td>\n",
       "      <td>236</td>\n",
       "      <td>False</td>\n",
       "      <td>Not_Normal</td>\n",
       "      <td>178</td>\n",
       "      <td>No</td>\n",
       "      <td>0.8</td>\n",
       "      <td>Down_Sloping</td>\n",
       "      <td>0</td>\n",
       "      <td>2</td>\n",
       "      <td>Yes</td>\n",
       "    </tr>\n",
       "    <tr>\n",
       "      <th>4</th>\n",
       "      <td>57</td>\n",
       "      <td>Female</td>\n",
       "      <td>typical angina</td>\n",
       "      <td>120</td>\n",
       "      <td>354</td>\n",
       "      <td>False</td>\n",
       "      <td>Not_Normal</td>\n",
       "      <td>163</td>\n",
       "      <td>Yes</td>\n",
       "      <td>0.6</td>\n",
       "      <td>Down_Sloping</td>\n",
       "      <td>0</td>\n",
       "      <td>2</td>\n",
       "      <td>Yes</td>\n",
       "    </tr>\n",
       "  </tbody>\n",
       "</table>\n",
       "</div>"
      ],
      "text/plain": [
       "   age     sex                 cp  trestbps  chol    fbs     restecg  thalach  \\\n",
       "0   63    Male       asymptomatic       145   233   True      Normal      150   \n",
       "1   37    Male   non-anginal pain       130   250  False  Not_Normal      187   \n",
       "2   41  Female    atypical angina       130   204  False      Normal      172   \n",
       "3   56    Male    atypical angina       120   236  False  Not_Normal      178   \n",
       "4   57  Female     typical angina       120   354  False  Not_Normal      163   \n",
       "\n",
       "  exang  oldpeak         slope  ca  thal target  \n",
       "0    No      2.3    Up_Sloping   0     1    Yes  \n",
       "1    No      3.5    Up_Sloping   0     2    Yes  \n",
       "2    No      1.4  Down_Sloping   0     2    Yes  \n",
       "3    No      0.8  Down_Sloping   0     2    Yes  \n",
       "4   Yes      0.6  Down_Sloping   0     2    Yes  "
      ]
     },
     "execution_count": 678,
     "metadata": {},
     "output_type": "execute_result"
    }
   ],
   "source": [
    "data = pd.read_csv('heart.csv',sep='\\t')   # here separator is \\t\n",
    "data.head()"
   ]
  },
  {
   "cell_type": "code",
   "execution_count": 679,
   "id": "fb1d625c",
   "metadata": {},
   "outputs": [
    {
     "data": {
      "text/plain": [
       "(303, 14)"
      ]
     },
     "execution_count": 679,
     "metadata": {},
     "output_type": "execute_result"
    }
   ],
   "source": [
    "data.shape"
   ]
  },
  {
   "cell_type": "code",
   "execution_count": 680,
   "id": "d634ed26",
   "metadata": {},
   "outputs": [
    {
     "data": {
      "text/plain": [
       "Index(['age', 'sex', 'cp', 'trestbps', 'chol', 'fbs', 'restecg', 'thalach',\n",
       "       'exang', 'oldpeak', 'slope', 'ca', 'thal', 'target'],\n",
       "      dtype='object')"
      ]
     },
     "execution_count": 680,
     "metadata": {},
     "output_type": "execute_result"
    }
   ],
   "source": [
    "data.columns"
   ]
  },
  {
   "cell_type": "code",
   "execution_count": 681,
   "id": "00994ac2",
   "metadata": {
    "scrolled": true
   },
   "outputs": [
    {
     "data": {
      "text/plain": [
       "age           int64\n",
       "sex          object\n",
       "cp           object\n",
       "trestbps      int64\n",
       "chol          int64\n",
       "fbs            bool\n",
       "restecg      object\n",
       "thalach       int64\n",
       "exang        object\n",
       "oldpeak     float64\n",
       "slope        object\n",
       "ca            int64\n",
       "thal          int64\n",
       "target       object\n",
       "dtype: object"
      ]
     },
     "execution_count": 681,
     "metadata": {},
     "output_type": "execute_result"
    }
   ],
   "source": [
    "data.dtypes"
   ]
  },
  {
   "cell_type": "code",
   "execution_count": 682,
   "id": "03e9b8d6",
   "metadata": {},
   "outputs": [
    {
     "data": {
      "text/plain": [
       "age         0\n",
       "sex         0\n",
       "cp          0\n",
       "trestbps    0\n",
       "chol        0\n",
       "fbs         0\n",
       "restecg     0\n",
       "thalach     0\n",
       "exang       0\n",
       "oldpeak     0\n",
       "slope       0\n",
       "ca          0\n",
       "thal        0\n",
       "target      0\n",
       "dtype: int64"
      ]
     },
     "execution_count": 682,
     "metadata": {},
     "output_type": "execute_result"
    }
   ],
   "source": [
    "data.isnull().sum()   # bam!! we are lucky"
   ]
  },
  {
   "cell_type": "code",
   "execution_count": 683,
   "id": "afb92882",
   "metadata": {},
   "outputs": [],
   "source": [
    "target = 'target'\n",
    "cont_columns = data.select_dtypes(['int64','float64']).columns\n",
    "cat_columns = list(filter(lambda x: x!='target',data.select_dtypes('object').columns))"
   ]
  },
  {
   "cell_type": "code",
   "execution_count": 684,
   "id": "285fb288",
   "metadata": {},
   "outputs": [
    {
     "data": {
      "text/plain": [
       "Index(['age', 'trestbps', 'chol', 'thalach', 'oldpeak', 'ca', 'thal'], dtype='object')"
      ]
     },
     "execution_count": 684,
     "metadata": {},
     "output_type": "execute_result"
    }
   ],
   "source": [
    "cont_columns"
   ]
  },
  {
   "cell_type": "code",
   "execution_count": 685,
   "id": "cc1958db",
   "metadata": {},
   "outputs": [
    {
     "data": {
      "text/plain": [
       "['sex', 'cp', 'restecg', 'exang', 'slope']"
      ]
     },
     "execution_count": 685,
     "metadata": {},
     "output_type": "execute_result"
    }
   ],
   "source": [
    "cat_columns"
   ]
  },
  {
   "cell_type": "markdown",
   "id": "de767c46",
   "metadata": {},
   "source": [
    "### Variables\n",
    "#### Cat\n",
    "- sex\n",
    "- cp\n",
    "- restecg      \n",
    "- exang   \n",
    "- slope   \n",
    "- target\n",
    "\n",
    "#### Num\n",
    "- age\n",
    "- trestbps      \n",
    "- thalach\n",
    "- oldpeak     \n",
    "- ca            \n",
    "- thal"
   ]
  },
  {
   "cell_type": "markdown",
   "id": "036a9fdb",
   "metadata": {},
   "source": [
    "## `Univariate Analysis`\n",
    "### `Categorical Columns`\n",
    "### sex"
   ]
  },
  {
   "cell_type": "code",
   "execution_count": 686,
   "id": "ae29f564",
   "metadata": {},
   "outputs": [
    {
     "data": {
      "text/plain": [
       "Male      207\n",
       "Female     96\n",
       "Name: sex, dtype: int64"
      ]
     },
     "execution_count": 686,
     "metadata": {},
     "output_type": "execute_result"
    }
   ],
   "source": [
    "data['sex'].value_counts()"
   ]
  },
  {
   "cell_type": "code",
   "execution_count": 687,
   "id": "4bfb637f",
   "metadata": {},
   "outputs": [
    {
     "data": {
      "text/plain": [
       "<AxesSubplot:xlabel='sex', ylabel='count'>"
      ]
     },
     "execution_count": 687,
     "metadata": {},
     "output_type": "execute_result"
    },
    {
     "data": {
      "image/png": "[encoded data removed]",
      "text/plain": [
       "<Figure size 432x288 with 1 Axes>"
      ]
     },
     "metadata": {
      "needs_background": "light"
     },
     "output_type": "display_data"
    }
   ],
   "source": [
    "sns.countplot(data['sex'])"
   ]
  },
  {
   "cell_type": "markdown",
   "id": "ddc71bb9",
   "metadata": {},
   "source": [
    "### cp"
   ]
  },
  {
   "cell_type": "code",
   "execution_count": 688,
   "id": "2f982ab3",
   "metadata": {},
   "outputs": [
    {
     "data": {
      "text/plain": [
       " typical angina      143\n",
       " non-anginal pain     87\n",
       "atypical angina       50\n",
       "asymptomatic          23\n",
       "Name: cp, dtype: int64"
      ]
     },
     "execution_count": 688,
     "metadata": {},
     "output_type": "execute_result"
    }
   ],
   "source": [
    "data['cp'].value_counts()"
   ]
  },
  {
   "cell_type": "code",
   "execution_count": 689,
   "id": "3dedb64b",
   "metadata": {},
   "outputs": [
    {
     "data": {
      "image/png": "[encoded data removed]",
      "text/plain": [
       "<Figure size 720x504 with 1 Axes>"
      ]
     },
     "metadata": {},
     "output_type": "display_data"
    }
   ],
   "source": [
    "plt.figure(figsize=(10,7))\n",
    "plt.pie(data['cp'].value_counts(),labels=['typical angina','non-anginal pain','atypical angina','asymptomatic']);"
   ]
  },
  {
   "cell_type": "markdown",
   "id": "c557ab59",
   "metadata": {},
   "source": [
    "### restecg"
   ]
  },
  {
   "cell_type": "code",
   "execution_count": 690,
   "id": "b98bb57e",
   "metadata": {},
   "outputs": [
    {
     "data": {
      "text/plain": [
       "Not_Normal    154\n",
       "Normal        147\n",
       "2               2\n",
       "Name: restecg, dtype: int64"
      ]
     },
     "execution_count": 690,
     "metadata": {},
     "output_type": "execute_result"
    }
   ],
   "source": [
    "data['restecg'].value_counts()"
   ]
  },
  {
   "cell_type": "markdown",
   "id": "34116b5a",
   "metadata": {},
   "source": [
    "### drop unnecessary entry"
   ]
  },
  {
   "cell_type": "code",
   "execution_count": 691,
   "id": "a3c0e0d4",
   "metadata": {},
   "outputs": [
    {
     "data": {
      "text/html": [
       "<div>\n",
       "<style scoped>\n",
       "    .dataframe tbody tr th:only-of-type {\n",
       "        vertical-align: middle;\n",
       "    }\n",
       "\n",
       "    .dataframe tbody tr th {\n",
       "        vertical-align: top;\n",
       "    }\n",
       "\n",
       "    .dataframe thead th {\n",
       "        text-align: right;\n",
       "    }\n",
       "</style>\n",
       "<table border=\"1\" class=\"dataframe\">\n",
       "  <thead>\n",
       "    <tr style=\"text-align: right;\">\n",
       "      <th></th>\n",
       "      <th>age</th>\n",
       "      <th>sex</th>\n",
       "      <th>cp</th>\n",
       "      <th>trestbps</th>\n",
       "      <th>chol</th>\n",
       "      <th>fbs</th>\n",
       "      <th>restecg</th>\n",
       "      <th>thalach</th>\n",
       "      <th>exang</th>\n",
       "      <th>oldpeak</th>\n",
       "      <th>slope</th>\n",
       "      <th>ca</th>\n",
       "      <th>thal</th>\n",
       "      <th>target</th>\n",
       "    </tr>\n",
       "  </thead>\n",
       "  <tbody>\n",
       "    <tr>\n",
       "      <th>289</th>\n",
       "      <td>55</td>\n",
       "      <td>Female</td>\n",
       "      <td>typical angina</td>\n",
       "      <td>128</td>\n",
       "      <td>205</td>\n",
       "      <td>False</td>\n",
       "      <td>2</td>\n",
       "      <td>130</td>\n",
       "      <td>Yes</td>\n",
       "      <td>2.0</td>\n",
       "      <td>Flat</td>\n",
       "      <td>1</td>\n",
       "      <td>3</td>\n",
       "      <td>No</td>\n",
       "    </tr>\n",
       "    <tr>\n",
       "      <th>291</th>\n",
       "      <td>58</td>\n",
       "      <td>Male</td>\n",
       "      <td>typical angina</td>\n",
       "      <td>114</td>\n",
       "      <td>318</td>\n",
       "      <td>False</td>\n",
       "      <td>2</td>\n",
       "      <td>140</td>\n",
       "      <td>No</td>\n",
       "      <td>4.4</td>\n",
       "      <td>Up_Sloping</td>\n",
       "      <td>3</td>\n",
       "      <td>1</td>\n",
       "      <td>No</td>\n",
       "    </tr>\n",
       "  </tbody>\n",
       "</table>\n",
       "</div>"
      ],
      "text/plain": [
       "     age     sex               cp  trestbps  chol    fbs restecg  thalach  \\\n",
       "289   55  Female   typical angina       128   205  False       2      130   \n",
       "291   58    Male   typical angina       114   318  False       2      140   \n",
       "\n",
       "    exang  oldpeak       slope  ca  thal target  \n",
       "289   Yes      2.0        Flat   1     3     No  \n",
       "291    No      4.4  Up_Sloping   3     1     No  "
      ]
     },
     "execution_count": 691,
     "metadata": {},
     "output_type": "execute_result"
    }
   ],
   "source": [
    "data[data['restecg'] == '2']"
   ]
  },
  {
   "cell_type": "code",
   "execution_count": 692,
   "id": "126dcfb8",
   "metadata": {},
   "outputs": [],
   "source": [
    "data.drop(data[data['restecg'] == '2'].index, inplace = True)"
   ]
  },
  {
   "cell_type": "code",
   "execution_count": 693,
   "id": "7b45cc57",
   "metadata": {},
   "outputs": [
    {
     "data": {
      "text/plain": [
       "Not_Normal    154\n",
       "Normal        147\n",
       "Name: restecg, dtype: int64"
      ]
     },
     "execution_count": 693,
     "metadata": {},
     "output_type": "execute_result"
    }
   ],
   "source": [
    "data['restecg'].value_counts()"
   ]
  },
  {
   "cell_type": "code",
   "execution_count": 694,
   "id": "9f596979",
   "metadata": {},
   "outputs": [
    {
     "data": {
      "image/png": "[encoded data removed]",
      "text/plain": [
       "<Figure size 720x504 with 1 Axes>"
      ]
     },
     "metadata": {},
     "output_type": "display_data"
    }
   ],
   "source": [
    "plt.figure(figsize=(10,7))\n",
    "plt.pie(data['restecg'].value_counts(),labels=['Not_Normal','Normal']);"
   ]
  },
  {
   "cell_type": "markdown",
   "id": "5a029f3e",
   "metadata": {},
   "source": [
    "### exang"
   ]
  },
  {
   "cell_type": "code",
   "execution_count": 695,
   "id": "1da52071",
   "metadata": {},
   "outputs": [
    {
     "data": {
      "text/plain": [
       "No     203\n",
       "Yes     98\n",
       "Name: exang, dtype: int64"
      ]
     },
     "execution_count": 695,
     "metadata": {},
     "output_type": "execute_result"
    }
   ],
   "source": [
    "data['exang'].value_counts()"
   ]
  },
  {
   "cell_type": "code",
   "execution_count": 696,
   "id": "8948423c",
   "metadata": {},
   "outputs": [
    {
     "data": {
      "text/plain": [
       "<AxesSubplot:xlabel='exang', ylabel='count'>"
      ]
     },
     "execution_count": 696,
     "metadata": {},
     "output_type": "execute_result"
    },
    {
     "data": {
      "image/png": "[encoded data removed]",
      "text/plain": [
       "<Figure size 432x288 with 1 Axes>"
      ]
     },
     "metadata": {
      "needs_background": "light"
     },
     "output_type": "display_data"
    }
   ],
   "source": [
    "sns.countplot(data['exang'])"
   ]
  },
  {
   "cell_type": "markdown",
   "id": "40035cc7",
   "metadata": {},
   "source": [
    "### slope"
   ]
  },
  {
   "cell_type": "code",
   "execution_count": 697,
   "id": "38371e82",
   "metadata": {},
   "outputs": [
    {
     "data": {
      "text/plain": [
       "Down_Sloping    142\n",
       "Flat            139\n",
       "Up_Sloping       20\n",
       "Name: slope, dtype: int64"
      ]
     },
     "execution_count": 697,
     "metadata": {},
     "output_type": "execute_result"
    }
   ],
   "source": [
    "data['slope'].value_counts()"
   ]
  },
  {
   "cell_type": "code",
   "execution_count": 698,
   "id": "d324c42e",
   "metadata": {},
   "outputs": [
    {
     "data": {
      "text/plain": [
       "<AxesSubplot:xlabel='slope', ylabel='count'>"
      ]
     },
     "execution_count": 698,
     "metadata": {},
     "output_type": "execute_result"
    },
    {
     "data": {
      "image/png": "[encoded data removed]",
      "text/plain": [
       "<Figure size 432x288 with 1 Axes>"
      ]
     },
     "metadata": {
      "needs_background": "light"
     },
     "output_type": "display_data"
    }
   ],
   "source": [
    "sns.countplot(data['slope'])"
   ]
  },
  {
   "cell_type": "markdown",
   "id": "2c6f73f9",
   "metadata": {},
   "source": [
    "### target"
   ]
  },
  {
   "cell_type": "code",
   "execution_count": 699,
   "id": "045b06ab",
   "metadata": {},
   "outputs": [
    {
     "data": {
      "text/plain": [
       "Yes    165\n",
       "No     136\n",
       "Name: target, dtype: int64"
      ]
     },
     "execution_count": 699,
     "metadata": {},
     "output_type": "execute_result"
    }
   ],
   "source": [
    "data['target'].value_counts()"
   ]
  },
  {
   "cell_type": "code",
   "execution_count": 700,
   "id": "2cdfa755",
   "metadata": {},
   "outputs": [
    {
     "data": {
      "image/png": "[encoded data removed]",
      "text/plain": [
       "<Figure size 720x504 with 1 Axes>"
      ]
     },
     "metadata": {},
     "output_type": "display_data"
    }
   ],
   "source": [
    "plt.figure(figsize=(10,7))\n",
    "plt.pie(data['target'].value_counts(),labels=['Yes','No']);"
   ]
  },
  {
   "cell_type": "markdown",
   "id": "a6717fdb",
   "metadata": {},
   "source": [
    "### `Numerical Columns`"
   ]
  },
  {
   "cell_type": "code",
   "execution_count": 701,
   "id": "9b489430",
   "metadata": {},
   "outputs": [
    {
     "data": {
      "text/plain": [
       "Index(['age', 'trestbps', 'chol', 'thalach', 'oldpeak', 'ca', 'thal'], dtype='object')"
      ]
     },
     "execution_count": 701,
     "metadata": {},
     "output_type": "execute_result"
    }
   ],
   "source": [
    "cont_columns"
   ]
  },
  {
   "cell_type": "markdown",
   "id": "b5552e8e",
   "metadata": {},
   "source": [
    "### Age"
   ]
  },
  {
   "cell_type": "code",
   "execution_count": 702,
   "id": "c2f12fd0",
   "metadata": {},
   "outputs": [
    {
     "data": {
      "text/plain": [
       "<AxesSubplot:xlabel='age', ylabel='Density'>"
      ]
     },
     "execution_count": 702,
     "metadata": {},
     "output_type": "execute_result"
    },
    {
     "data": {
      "image/png": "[encoded data removed]",
      "text/plain": [
       "<Figure size 432x288 with 1 Axes>"
      ]
     },
     "metadata": {
      "needs_background": "light"
     },
     "output_type": "display_data"
    }
   ],
   "source": [
    "sns.distplot(data['age'])"
   ]
  },
  {
   "cell_type": "markdown",
   "id": "ec8deabb",
   "metadata": {},
   "source": [
    "### trestbps"
   ]
  },
  {
   "cell_type": "code",
   "execution_count": 703,
   "id": "90a935c2",
   "metadata": {},
   "outputs": [
    {
     "data": {
      "text/plain": [
       "<AxesSubplot:xlabel='trestbps', ylabel='Density'>"
      ]
     },
     "execution_count": 703,
     "metadata": {},
     "output_type": "execute_result"
    },
    {
     "data": {
      "image/png": "[encoded data removed]",
      "text/plain": [
       "<Figure size 432x288 with 1 Axes>"
      ]
     },
     "metadata": {
      "needs_background": "light"
     },
     "output_type": "display_data"
    }
   ],
   "source": [
    "sns.distplot(data['trestbps'])"
   ]
  },
  {
   "cell_type": "code",
   "execution_count": 704,
   "id": "4b80baf7",
   "metadata": {},
   "outputs": [
    {
     "data": {
      "text/plain": [
       "<AxesSubplot:xlabel='trestbps'>"
      ]
     },
     "execution_count": 704,
     "metadata": {},
     "output_type": "execute_result"
    },
    {
     "data": {
      "image/png": "[encoded data removed]",
      "text/plain": [
       "<Figure size 432x288 with 1 Axes>"
      ]
     },
     "metadata": {
      "needs_background": "light"
     },
     "output_type": "display_data"
    }
   ],
   "source": [
    "sns.boxplot(data['trestbps'])"
   ]
  },
  {
   "cell_type": "code",
   "execution_count": 705,
   "id": "97863a8c",
   "metadata": {},
   "outputs": [],
   "source": [
    "q1=np.percentile(data['trestbps'],25)\n",
    "q3=np.percentile(data['trestbps'],75)\n",
    "IQR=q3-q1\n",
    "good_value=1.5 * IQR\n",
    "lower_bound=q1-good_value\n",
    "upper_bound=q3+good_value\n",
    "data = data[data['trestbps'] <= upper_bound]   # remove outliers"
   ]
  },
  {
   "cell_type": "code",
   "execution_count": 706,
   "id": "52f39feb",
   "metadata": {},
   "outputs": [
    {
     "data": {
      "text/plain": [
       "<AxesSubplot:xlabel='trestbps'>"
      ]
     },
     "execution_count": 706,
     "metadata": {},
     "output_type": "execute_result"
    },
    {
     "data": {
      "image/png": "[encoded data removed]",
      "text/plain": [
       "<Figure size 432x288 with 1 Axes>"
      ]
     },
     "metadata": {
      "needs_background": "light"
     },
     "output_type": "display_data"
    }
   ],
   "source": [
    "sns.boxplot(data['trestbps'])"
   ]
  },
  {
   "cell_type": "markdown",
   "id": "8ca6741f",
   "metadata": {},
   "source": [
    "### chol"
   ]
  },
  {
   "cell_type": "code",
   "execution_count": 707,
   "id": "bd826edf",
   "metadata": {},
   "outputs": [
    {
     "data": {
      "text/plain": [
       "<AxesSubplot:xlabel='chol', ylabel='Density'>"
      ]
     },
     "execution_count": 707,
     "metadata": {},
     "output_type": "execute_result"
    },
    {
     "data": {
      "image/png": "[encoded data removed]",
      "text/plain": [
       "<Figure size 432x288 with 1 Axes>"
      ]
     },
     "metadata": {
      "needs_background": "light"
     },
     "output_type": "display_data"
    }
   ],
   "source": [
    "sns.distplot(data['chol'])"
   ]
  },
  {
   "cell_type": "code",
   "execution_count": 708,
   "id": "d0e5f5bd",
   "metadata": {},
   "outputs": [
    {
     "data": {
      "text/plain": [
       "<AxesSubplot:xlabel='chol'>"
      ]
     },
     "execution_count": 708,
     "metadata": {},
     "output_type": "execute_result"
    },
    {
     "data": {
      "image/png": "[encoded data removed]",
      "text/plain": [
       "<Figure size 432x288 with 1 Axes>"
      ]
     },
     "metadata": {
      "needs_background": "light"
     },
     "output_type": "display_data"
    }
   ],
   "source": [
    "sns.boxplot(data['chol'])"
   ]
  },
  {
   "cell_type": "code",
   "execution_count": 709,
   "id": "778e9d02",
   "metadata": {},
   "outputs": [],
   "source": [
    "q1=np.percentile(data['chol'],25)\n",
    "q3=np.percentile(data['chol'],75)\n",
    "IQR=q3-q1\n",
    "good_value=1.5 * IQR\n",
    "lower_bound=q1-good_value\n",
    "upper_bound=q3+good_value\n",
    "data = data[data['chol'] <= upper_bound]   # remove outliers"
   ]
  },
  {
   "cell_type": "code",
   "execution_count": 710,
   "id": "fa9e62d4",
   "metadata": {},
   "outputs": [
    {
     "data": {
      "text/plain": [
       "<AxesSubplot:xlabel='chol'>"
      ]
     },
     "execution_count": 710,
     "metadata": {},
     "output_type": "execute_result"
    },
    {
     "data": {
      "image/png": "[encoded data removed]",
      "text/plain": [
       "<Figure size 432x288 with 1 Axes>"
      ]
     },
     "metadata": {
      "needs_background": "light"
     },
     "output_type": "display_data"
    }
   ],
   "source": [
    "sns.boxplot(data['chol'])"
   ]
  },
  {
   "cell_type": "markdown",
   "id": "2266a279",
   "metadata": {},
   "source": [
    "### thalach"
   ]
  },
  {
   "cell_type": "code",
   "execution_count": 711,
   "id": "0f7d2730",
   "metadata": {},
   "outputs": [
    {
     "data": {
      "text/plain": [
       "<seaborn.axisgrid.FacetGrid at 0x22dc7b89970>"
      ]
     },
     "execution_count": 711,
     "metadata": {},
     "output_type": "execute_result"
    },
    {
     "data": {
      "image/png": "[encoded data removed]",
      "text/plain": [
       "<Figure size 360x360 with 1 Axes>"
      ]
     },
     "metadata": {
      "needs_background": "light"
     },
     "output_type": "display_data"
    }
   ],
   "source": [
    "sns.displot(data['thalach'])"
   ]
  },
  {
   "cell_type": "code",
   "execution_count": 712,
   "id": "dca4fc1b",
   "metadata": {},
   "outputs": [
    {
     "data": {
      "text/plain": [
       "array([150, 187, 172, 178, 163, 148, 153, 173, 174, 160, 139, 171, 144,\n",
       "       162, 158, 114, 151, 161, 179, 137, 157, 123, 152, 168, 140, 188,\n",
       "       125, 170, 165, 142, 180, 143, 182, 156, 115, 149, 146, 175, 186,\n",
       "       185, 159, 130, 190, 132, 147, 154, 202, 166, 164, 184, 122, 169,\n",
       "       138, 111, 194, 131, 133, 155, 167, 192, 121,  96, 126, 105, 181,\n",
       "       116, 108, 129, 120, 112, 128, 109, 113,  99, 177, 141, 145, 136,\n",
       "        97, 127, 103, 124,  88, 106,  95,  71, 118, 134,  90], dtype=int64)"
      ]
     },
     "execution_count": 712,
     "metadata": {},
     "output_type": "execute_result"
    }
   ],
   "source": [
    "data['thalach'].unique()"
   ]
  },
  {
   "cell_type": "code",
   "execution_count": 713,
   "id": "3fdb0e49",
   "metadata": {},
   "outputs": [
    {
     "data": {
      "text/plain": [
       "<AxesSubplot:xlabel='thalach'>"
      ]
     },
     "execution_count": 713,
     "metadata": {},
     "output_type": "execute_result"
    },
    {
     "data": {
      "image/png": "[encoded data removed]",
      "text/plain": [
       "<Figure size 432x288 with 1 Axes>"
      ]
     },
     "metadata": {
      "needs_background": "light"
     },
     "output_type": "display_data"
    }
   ],
   "source": [
    "sns.boxplot(data['thalach'])"
   ]
  },
  {
   "cell_type": "markdown",
   "id": "0ace9e2e",
   "metadata": {},
   "source": [
    "### oldpeak"
   ]
  },
  {
   "cell_type": "code",
   "execution_count": 714,
   "id": "fe9708c7",
   "metadata": {},
   "outputs": [
    {
     "data": {
      "text/plain": [
       "<seaborn.axisgrid.FacetGrid at 0x22dc8c72b50>"
      ]
     },
     "execution_count": 714,
     "metadata": {},
     "output_type": "execute_result"
    },
    {
     "data": {
      "image/png": "[encoded data removed]",
      "text/plain": [
       "<Figure size 360x360 with 1 Axes>"
      ]
     },
     "metadata": {
      "needs_background": "light"
     },
     "output_type": "display_data"
    }
   ],
   "source": [
    "sns.displot(data['oldpeak'])"
   ]
  },
  {
   "cell_type": "code",
   "execution_count": 715,
   "id": "14f19ccf",
   "metadata": {},
   "outputs": [
    {
     "data": {
      "text/plain": [
       "<AxesSubplot:xlabel='oldpeak'>"
      ]
     },
     "execution_count": 715,
     "metadata": {},
     "output_type": "execute_result"
    },
    {
     "data": {
      "image/png": "[encoded data removed]",
      "text/plain": [
       "<Figure size 432x288 with 1 Axes>"
      ]
     },
     "metadata": {
      "needs_background": "light"
     },
     "output_type": "display_data"
    }
   ],
   "source": [
    "sns.boxplot(data['oldpeak'])"
   ]
  },
  {
   "cell_type": "code",
   "execution_count": 716,
   "id": "a5b4a15c",
   "metadata": {},
   "outputs": [],
   "source": [
    "q1=np.percentile(data['oldpeak'],25)\n",
    "q3=np.percentile(data['oldpeak'],75)\n",
    "IQR=q3-q1\n",
    "good_value=1.5 * IQR\n",
    "lower_bound=q1-good_value\n",
    "upper_bound=q3+good_value\n",
    "data = data[data['oldpeak'] <= upper_bound]   # remove outliers"
   ]
  },
  {
   "cell_type": "code",
   "execution_count": 717,
   "id": "f2ad7f54",
   "metadata": {},
   "outputs": [
    {
     "data": {
      "text/plain": [
       "<AxesSubplot:xlabel='oldpeak'>"
      ]
     },
     "execution_count": 717,
     "metadata": {},
     "output_type": "execute_result"
    },
    {
     "data": {
      "image/png": "[encoded data removed]",
      "text/plain": [
       "<Figure size 432x288 with 1 Axes>"
      ]
     },
     "metadata": {
      "needs_background": "light"
     },
     "output_type": "display_data"
    }
   ],
   "source": [
    "sns.boxplot(data['oldpeak'])"
   ]
  },
  {
   "cell_type": "markdown",
   "id": "74d87b67",
   "metadata": {},
   "source": [
    "### ca"
   ]
  },
  {
   "cell_type": "code",
   "execution_count": 718,
   "id": "39e3c2b5",
   "metadata": {},
   "outputs": [
    {
     "data": {
      "text/plain": [
       "0    166\n",
       "1     62\n",
       "2     35\n",
       "3     16\n",
       "4      5\n",
       "Name: ca, dtype: int64"
      ]
     },
     "execution_count": 718,
     "metadata": {},
     "output_type": "execute_result"
    }
   ],
   "source": [
    "data['ca'].value_counts()"
   ]
  },
  {
   "cell_type": "code",
   "execution_count": 719,
   "id": "0c3a0f41",
   "metadata": {},
   "outputs": [
    {
     "data": {
      "text/plain": [
       "<AxesSubplot:xlabel='ca', ylabel='count'>"
      ]
     },
     "execution_count": 719,
     "metadata": {},
     "output_type": "execute_result"
    },
    {
     "data": {
      "image/png": "[encoded data removed]",
      "text/plain": [
       "<Figure size 432x288 with 1 Axes>"
      ]
     },
     "metadata": {
      "needs_background": "light"
     },
     "output_type": "display_data"
    }
   ],
   "source": [
    "sns.countplot(data['ca'])"
   ]
  },
  {
   "cell_type": "markdown",
   "id": "2fc9a07a",
   "metadata": {},
   "source": [
    "### thal"
   ]
  },
  {
   "cell_type": "code",
   "execution_count": 720,
   "id": "424ad3c8",
   "metadata": {},
   "outputs": [
    {
     "data": {
      "text/plain": [
       "2    161\n",
       "3    104\n",
       "1     17\n",
       "0      2\n",
       "Name: thal, dtype: int64"
      ]
     },
     "execution_count": 720,
     "metadata": {},
     "output_type": "execute_result"
    }
   ],
   "source": [
    "data['thal'].value_counts()"
   ]
  },
  {
   "cell_type": "code",
   "execution_count": 721,
   "id": "baa8ae3d",
   "metadata": {},
   "outputs": [
    {
     "data": {
      "text/plain": [
       "<AxesSubplot:xlabel='thal', ylabel='count'>"
      ]
     },
     "execution_count": 721,
     "metadata": {},
     "output_type": "execute_result"
    },
    {
     "data": {
      "image/png": "[encoded data removed]",
      "text/plain": [
       "<Figure size 432x288 with 1 Axes>"
      ]
     },
     "metadata": {
      "needs_background": "light"
     },
     "output_type": "display_data"
    }
   ],
   "source": [
    "sns.countplot(data['thal'])"
   ]
  },
  {
   "cell_type": "markdown",
   "id": "8fad79d4",
   "metadata": {},
   "source": [
    "## `Bivariate Analysis`"
   ]
  },
  {
   "cell_type": "markdown",
   "id": "88f5dd91",
   "metadata": {},
   "source": [
    "### Variables\n",
    "#### Cat\n",
    "- sex\n",
    "- cp\n",
    "- restecg      \n",
    "- exang   \n",
    "- slope   \n",
    "- target\n",
    "\n",
    "#### Num\n",
    "- age\n",
    "- trestbps      \n",
    "- thalach\n",
    "- oldpeak    \n",
    "- chol\n",
    "- ca            \n",
    "- thal"
   ]
  },
  {
   "cell_type": "markdown",
   "id": "f6c74432",
   "metadata": {},
   "source": [
    "### `chi square test ------------------------------------`"
   ]
  },
  {
   "cell_type": "code",
   "execution_count": 722,
   "id": "3fe50888",
   "metadata": {},
   "outputs": [],
   "source": [
    "from scipy.stats import chi2_contingency\n",
    "\n",
    "def chisq_test(target,independent_col,data):\n",
    "    two_way = pd.crosstab(data[target],data[independent_col])\n",
    "    chi_test_result = chi2_contingency(two_way)\n",
    "    print(f'{independent_col} vs Target => chi-square result p-values => {chi_test_result[1]}')"
   ]
  },
  {
   "cell_type": "code",
   "execution_count": 723,
   "id": "9cbae618",
   "metadata": {},
   "outputs": [
    {
     "name": "stdout",
     "output_type": "stream",
     "text": [
      "sex vs Target => chi-square result p-values => 8.231016400803583e-08\n",
      "cp vs Target => chi-square result p-values => 3.296363086988254e-16\n",
      "restecg vs Target => chi-square result p-values => 0.0035149104834158325\n",
      "exang vs Target => chi-square result p-values => 1.891702212892912e-12\n",
      "slope vs Target => chi-square result p-values => 7.551780614417222e-10\n"
     ]
    }
   ],
   "source": [
    "for col in cat_columns:\n",
    "    chisq_test(target,col,data)"
   ]
  },
  {
   "cell_type": "markdown",
   "id": "a91f6b22",
   "metadata": {},
   "source": [
    "#### `All categorical variables are related to Target`"
   ]
  },
  {
   "cell_type": "markdown",
   "id": "e7650806",
   "metadata": {},
   "source": [
    "### `T test --------------------------------------------`"
   ]
  },
  {
   "cell_type": "code",
   "execution_count": 724,
   "id": "efdaa12a",
   "metadata": {},
   "outputs": [
    {
     "name": "stdout",
     "output_type": "stream",
     "text": [
      "age vs Target => Ttest_indResult(statistic=-3.982968249740273, pvalue=8.668224518300352e-05)\n",
      "trestbps vs Target => Ttest_indResult(statistic=-1.885784935590612, pvalue=0.06035163379670984)\n",
      "chol vs Target => Ttest_indResult(statistic=-1.9054251077420912, pvalue=0.057741762971709736)\n",
      "thalach vs Target => Ttest_indResult(statistic=7.913372898062931, pvalue=5.753883428598517e-14)\n",
      "oldpeak vs Target => Ttest_indResult(statistic=-8.059293178857901, pvalue=2.192637600107785e-14)\n",
      "ca vs Target => Ttest_indResult(statistic=-6.792660113190968, pvalue=6.520258868691716e-11)\n",
      "thal vs Target => Ttest_indResult(statistic=-6.156071300900686, pvalue=2.55600582973316e-09)\n"
     ]
    }
   ],
   "source": [
    "from scipy.stats import ttest_ind\n",
    "\n",
    "for i in cont_columns:\n",
    "    target_yes = data.loc[data['target']=='Yes',i]\n",
    "    target_no = data.loc[data['target']=='No',i]\n",
    "    ttest_results = ttest_ind(target_yes,target_no)\n",
    "    print(f'{i} vs Target => {ttest_results}')"
   ]
  },
  {
   "cell_type": "markdown",
   "id": "3e24a84c",
   "metadata": {},
   "source": [
    "#### `All numerical variables except chol are related to Target`"
   ]
  },
  {
   "cell_type": "markdown",
   "id": "75c6779a",
   "metadata": {},
   "source": [
    "### `Label Encoding`"
   ]
  },
  {
   "cell_type": "code",
   "execution_count": 725,
   "id": "867f4c2a",
   "metadata": {},
   "outputs": [
    {
     "data": {
      "text/html": [
       "<div>\n",
       "<style scoped>\n",
       "    .dataframe tbody tr th:only-of-type {\n",
       "        vertical-align: middle;\n",
       "    }\n",
       "\n",
       "    .dataframe tbody tr th {\n",
       "        vertical-align: top;\n",
       "    }\n",
       "\n",
       "    .dataframe thead th {\n",
       "        text-align: right;\n",
       "    }\n",
       "</style>\n",
       "<table border=\"1\" class=\"dataframe\">\n",
       "  <thead>\n",
       "    <tr style=\"text-align: right;\">\n",
       "      <th></th>\n",
       "      <th>age</th>\n",
       "      <th>sex</th>\n",
       "      <th>cp</th>\n",
       "      <th>trestbps</th>\n",
       "      <th>chol</th>\n",
       "      <th>fbs</th>\n",
       "      <th>restecg</th>\n",
       "      <th>thalach</th>\n",
       "      <th>exang</th>\n",
       "      <th>oldpeak</th>\n",
       "      <th>slope</th>\n",
       "      <th>ca</th>\n",
       "      <th>thal</th>\n",
       "      <th>target</th>\n",
       "    </tr>\n",
       "  </thead>\n",
       "  <tbody>\n",
       "    <tr>\n",
       "      <th>0</th>\n",
       "      <td>63</td>\n",
       "      <td>1</td>\n",
       "      <td>asymptomatic</td>\n",
       "      <td>145</td>\n",
       "      <td>233</td>\n",
       "      <td>1</td>\n",
       "      <td>0</td>\n",
       "      <td>150</td>\n",
       "      <td>0</td>\n",
       "      <td>2.3</td>\n",
       "      <td>Up_Sloping</td>\n",
       "      <td>0</td>\n",
       "      <td>1</td>\n",
       "      <td>1</td>\n",
       "    </tr>\n",
       "    <tr>\n",
       "      <th>1</th>\n",
       "      <td>37</td>\n",
       "      <td>1</td>\n",
       "      <td>non-anginal pain</td>\n",
       "      <td>130</td>\n",
       "      <td>250</td>\n",
       "      <td>0</td>\n",
       "      <td>1</td>\n",
       "      <td>187</td>\n",
       "      <td>0</td>\n",
       "      <td>3.5</td>\n",
       "      <td>Up_Sloping</td>\n",
       "      <td>0</td>\n",
       "      <td>2</td>\n",
       "      <td>1</td>\n",
       "    </tr>\n",
       "    <tr>\n",
       "      <th>2</th>\n",
       "      <td>41</td>\n",
       "      <td>0</td>\n",
       "      <td>atypical angina</td>\n",
       "      <td>130</td>\n",
       "      <td>204</td>\n",
       "      <td>0</td>\n",
       "      <td>0</td>\n",
       "      <td>172</td>\n",
       "      <td>0</td>\n",
       "      <td>1.4</td>\n",
       "      <td>Down_Sloping</td>\n",
       "      <td>0</td>\n",
       "      <td>2</td>\n",
       "      <td>1</td>\n",
       "    </tr>\n",
       "    <tr>\n",
       "      <th>3</th>\n",
       "      <td>56</td>\n",
       "      <td>1</td>\n",
       "      <td>atypical angina</td>\n",
       "      <td>120</td>\n",
       "      <td>236</td>\n",
       "      <td>0</td>\n",
       "      <td>1</td>\n",
       "      <td>178</td>\n",
       "      <td>0</td>\n",
       "      <td>0.8</td>\n",
       "      <td>Down_Sloping</td>\n",
       "      <td>0</td>\n",
       "      <td>2</td>\n",
       "      <td>1</td>\n",
       "    </tr>\n",
       "    <tr>\n",
       "      <th>4</th>\n",
       "      <td>57</td>\n",
       "      <td>0</td>\n",
       "      <td>typical angina</td>\n",
       "      <td>120</td>\n",
       "      <td>354</td>\n",
       "      <td>0</td>\n",
       "      <td>1</td>\n",
       "      <td>163</td>\n",
       "      <td>1</td>\n",
       "      <td>0.6</td>\n",
       "      <td>Down_Sloping</td>\n",
       "      <td>0</td>\n",
       "      <td>2</td>\n",
       "      <td>1</td>\n",
       "    </tr>\n",
       "    <tr>\n",
       "      <th>...</th>\n",
       "      <td>...</td>\n",
       "      <td>...</td>\n",
       "      <td>...</td>\n",
       "      <td>...</td>\n",
       "      <td>...</td>\n",
       "      <td>...</td>\n",
       "      <td>...</td>\n",
       "      <td>...</td>\n",
       "      <td>...</td>\n",
       "      <td>...</td>\n",
       "      <td>...</td>\n",
       "      <td>...</td>\n",
       "      <td>...</td>\n",
       "      <td>...</td>\n",
       "    </tr>\n",
       "    <tr>\n",
       "      <th>298</th>\n",
       "      <td>57</td>\n",
       "      <td>0</td>\n",
       "      <td>typical angina</td>\n",
       "      <td>140</td>\n",
       "      <td>241</td>\n",
       "      <td>0</td>\n",
       "      <td>1</td>\n",
       "      <td>123</td>\n",
       "      <td>1</td>\n",
       "      <td>0.2</td>\n",
       "      <td>Flat</td>\n",
       "      <td>0</td>\n",
       "      <td>3</td>\n",
       "      <td>0</td>\n",
       "    </tr>\n",
       "    <tr>\n",
       "      <th>299</th>\n",
       "      <td>45</td>\n",
       "      <td>1</td>\n",
       "      <td>asymptomatic</td>\n",
       "      <td>110</td>\n",
       "      <td>264</td>\n",
       "      <td>0</td>\n",
       "      <td>1</td>\n",
       "      <td>132</td>\n",
       "      <td>0</td>\n",
       "      <td>1.2</td>\n",
       "      <td>Flat</td>\n",
       "      <td>0</td>\n",
       "      <td>3</td>\n",
       "      <td>0</td>\n",
       "    </tr>\n",
       "    <tr>\n",
       "      <th>300</th>\n",
       "      <td>68</td>\n",
       "      <td>1</td>\n",
       "      <td>typical angina</td>\n",
       "      <td>144</td>\n",
       "      <td>193</td>\n",
       "      <td>1</td>\n",
       "      <td>1</td>\n",
       "      <td>141</td>\n",
       "      <td>0</td>\n",
       "      <td>3.4</td>\n",
       "      <td>Flat</td>\n",
       "      <td>2</td>\n",
       "      <td>3</td>\n",
       "      <td>0</td>\n",
       "    </tr>\n",
       "    <tr>\n",
       "      <th>301</th>\n",
       "      <td>57</td>\n",
       "      <td>1</td>\n",
       "      <td>typical angina</td>\n",
       "      <td>130</td>\n",
       "      <td>131</td>\n",
       "      <td>0</td>\n",
       "      <td>1</td>\n",
       "      <td>115</td>\n",
       "      <td>1</td>\n",
       "      <td>1.2</td>\n",
       "      <td>Flat</td>\n",
       "      <td>1</td>\n",
       "      <td>3</td>\n",
       "      <td>0</td>\n",
       "    </tr>\n",
       "    <tr>\n",
       "      <th>302</th>\n",
       "      <td>57</td>\n",
       "      <td>0</td>\n",
       "      <td>atypical angina</td>\n",
       "      <td>130</td>\n",
       "      <td>236</td>\n",
       "      <td>0</td>\n",
       "      <td>0</td>\n",
       "      <td>174</td>\n",
       "      <td>0</td>\n",
       "      <td>0.0</td>\n",
       "      <td>Flat</td>\n",
       "      <td>1</td>\n",
       "      <td>2</td>\n",
       "      <td>0</td>\n",
       "    </tr>\n",
       "  </tbody>\n",
       "</table>\n",
       "<p>284 rows × 14 columns</p>\n",
       "</div>"
      ],
      "text/plain": [
       "     age  sex                 cp  trestbps  chol  fbs  restecg  thalach  \\\n",
       "0     63    1       asymptomatic       145   233    1        0      150   \n",
       "1     37    1   non-anginal pain       130   250    0        1      187   \n",
       "2     41    0    atypical angina       130   204    0        0      172   \n",
       "3     56    1    atypical angina       120   236    0        1      178   \n",
       "4     57    0     typical angina       120   354    0        1      163   \n",
       "..   ...  ...                ...       ...   ...  ...      ...      ...   \n",
       "298   57    0     typical angina       140   241    0        1      123   \n",
       "299   45    1       asymptomatic       110   264    0        1      132   \n",
       "300   68    1     typical angina       144   193    1        1      141   \n",
       "301   57    1     typical angina       130   131    0        1      115   \n",
       "302   57    0    atypical angina       130   236    0        0      174   \n",
       "\n",
       "     exang  oldpeak         slope  ca  thal  target  \n",
       "0        0      2.3    Up_Sloping   0     1       1  \n",
       "1        0      3.5    Up_Sloping   0     2       1  \n",
       "2        0      1.4  Down_Sloping   0     2       1  \n",
       "3        0      0.8  Down_Sloping   0     2       1  \n",
       "4        1      0.6  Down_Sloping   0     2       1  \n",
       "..     ...      ...           ...  ..   ...     ...  \n",
       "298      1      0.2          Flat   0     3       0  \n",
       "299      0      1.2          Flat   0     3       0  \n",
       "300      0      3.4          Flat   2     3       0  \n",
       "301      1      1.2          Flat   1     3       0  \n",
       "302      0      0.0          Flat   1     2       0  \n",
       "\n",
       "[284 rows x 14 columns]"
      ]
     },
     "execution_count": 725,
     "metadata": {},
     "output_type": "execute_result"
    }
   ],
   "source": [
    "from sklearn.preprocessing import LabelEncoder\n",
    "\n",
    "binary = ['sex','fbs','restecg','exang','target']\n",
    "le = LabelEncoder()\n",
    "for i in binary:\n",
    "    data[i] = le.fit_transform(data[i])\n",
    "data"
   ]
  },
  {
   "cell_type": "markdown",
   "id": "10424cbe",
   "metadata": {},
   "source": [
    "### `One hot encoding`"
   ]
  },
  {
   "cell_type": "code",
   "execution_count": 726,
   "id": "f065d1db",
   "metadata": {},
   "outputs": [
    {
     "data": {
      "text/html": [
       "<div>\n",
       "<style scoped>\n",
       "    .dataframe tbody tr th:only-of-type {\n",
       "        vertical-align: middle;\n",
       "    }\n",
       "\n",
       "    .dataframe tbody tr th {\n",
       "        vertical-align: top;\n",
       "    }\n",
       "\n",
       "    .dataframe thead th {\n",
       "        text-align: right;\n",
       "    }\n",
       "</style>\n",
       "<table border=\"1\" class=\"dataframe\">\n",
       "  <thead>\n",
       "    <tr style=\"text-align: right;\">\n",
       "      <th></th>\n",
       "      <th>age</th>\n",
       "      <th>sex</th>\n",
       "      <th>trestbps</th>\n",
       "      <th>chol</th>\n",
       "      <th>fbs</th>\n",
       "      <th>restecg</th>\n",
       "      <th>thalach</th>\n",
       "      <th>exang</th>\n",
       "      <th>oldpeak</th>\n",
       "      <th>ca</th>\n",
       "      <th>thal</th>\n",
       "      <th>target</th>\n",
       "      <th>cp_ non-anginal pain</th>\n",
       "      <th>cp_ typical angina</th>\n",
       "      <th>cp_asymptomatic</th>\n",
       "      <th>cp_atypical angina</th>\n",
       "      <th>slope_Down_Sloping</th>\n",
       "      <th>slope_Flat</th>\n",
       "      <th>slope_Up_Sloping</th>\n",
       "    </tr>\n",
       "  </thead>\n",
       "  <tbody>\n",
       "    <tr>\n",
       "      <th>0</th>\n",
       "      <td>63</td>\n",
       "      <td>1</td>\n",
       "      <td>145</td>\n",
       "      <td>233</td>\n",
       "      <td>1</td>\n",
       "      <td>0</td>\n",
       "      <td>150</td>\n",
       "      <td>0</td>\n",
       "      <td>2.3</td>\n",
       "      <td>0</td>\n",
       "      <td>1</td>\n",
       "      <td>1</td>\n",
       "      <td>0</td>\n",
       "      <td>0</td>\n",
       "      <td>1</td>\n",
       "      <td>0</td>\n",
       "      <td>0</td>\n",
       "      <td>0</td>\n",
       "      <td>1</td>\n",
       "    </tr>\n",
       "    <tr>\n",
       "      <th>1</th>\n",
       "      <td>37</td>\n",
       "      <td>1</td>\n",
       "      <td>130</td>\n",
       "      <td>250</td>\n",
       "      <td>0</td>\n",
       "      <td>1</td>\n",
       "      <td>187</td>\n",
       "      <td>0</td>\n",
       "      <td>3.5</td>\n",
       "      <td>0</td>\n",
       "      <td>2</td>\n",
       "      <td>1</td>\n",
       "      <td>1</td>\n",
       "      <td>0</td>\n",
       "      <td>0</td>\n",
       "      <td>0</td>\n",
       "      <td>0</td>\n",
       "      <td>0</td>\n",
       "      <td>1</td>\n",
       "    </tr>\n",
       "    <tr>\n",
       "      <th>2</th>\n",
       "      <td>41</td>\n",
       "      <td>0</td>\n",
       "      <td>130</td>\n",
       "      <td>204</td>\n",
       "      <td>0</td>\n",
       "      <td>0</td>\n",
       "      <td>172</td>\n",
       "      <td>0</td>\n",
       "      <td>1.4</td>\n",
       "      <td>0</td>\n",
       "      <td>2</td>\n",
       "      <td>1</td>\n",
       "      <td>0</td>\n",
       "      <td>0</td>\n",
       "      <td>0</td>\n",
       "      <td>1</td>\n",
       "      <td>1</td>\n",
       "      <td>0</td>\n",
       "      <td>0</td>\n",
       "    </tr>\n",
       "    <tr>\n",
       "      <th>3</th>\n",
       "      <td>56</td>\n",
       "      <td>1</td>\n",
       "      <td>120</td>\n",
       "      <td>236</td>\n",
       "      <td>0</td>\n",
       "      <td>1</td>\n",
       "      <td>178</td>\n",
       "      <td>0</td>\n",
       "      <td>0.8</td>\n",
       "      <td>0</td>\n",
       "      <td>2</td>\n",
       "      <td>1</td>\n",
       "      <td>0</td>\n",
       "      <td>0</td>\n",
       "      <td>0</td>\n",
       "      <td>1</td>\n",
       "      <td>1</td>\n",
       "      <td>0</td>\n",
       "      <td>0</td>\n",
       "    </tr>\n",
       "    <tr>\n",
       "      <th>4</th>\n",
       "      <td>57</td>\n",
       "      <td>0</td>\n",
       "      <td>120</td>\n",
       "      <td>354</td>\n",
       "      <td>0</td>\n",
       "      <td>1</td>\n",
       "      <td>163</td>\n",
       "      <td>1</td>\n",
       "      <td>0.6</td>\n",
       "      <td>0</td>\n",
       "      <td>2</td>\n",
       "      <td>1</td>\n",
       "      <td>0</td>\n",
       "      <td>1</td>\n",
       "      <td>0</td>\n",
       "      <td>0</td>\n",
       "      <td>1</td>\n",
       "      <td>0</td>\n",
       "      <td>0</td>\n",
       "    </tr>\n",
       "    <tr>\n",
       "      <th>...</th>\n",
       "      <td>...</td>\n",
       "      <td>...</td>\n",
       "      <td>...</td>\n",
       "      <td>...</td>\n",
       "      <td>...</td>\n",
       "      <td>...</td>\n",
       "      <td>...</td>\n",
       "      <td>...</td>\n",
       "      <td>...</td>\n",
       "      <td>...</td>\n",
       "      <td>...</td>\n",
       "      <td>...</td>\n",
       "      <td>...</td>\n",
       "      <td>...</td>\n",
       "      <td>...</td>\n",
       "      <td>...</td>\n",
       "      <td>...</td>\n",
       "      <td>...</td>\n",
       "      <td>...</td>\n",
       "    </tr>\n",
       "    <tr>\n",
       "      <th>298</th>\n",
       "      <td>57</td>\n",
       "      <td>0</td>\n",
       "      <td>140</td>\n",
       "      <td>241</td>\n",
       "      <td>0</td>\n",
       "      <td>1</td>\n",
       "      <td>123</td>\n",
       "      <td>1</td>\n",
       "      <td>0.2</td>\n",
       "      <td>0</td>\n",
       "      <td>3</td>\n",
       "      <td>0</td>\n",
       "      <td>0</td>\n",
       "      <td>1</td>\n",
       "      <td>0</td>\n",
       "      <td>0</td>\n",
       "      <td>0</td>\n",
       "      <td>1</td>\n",
       "      <td>0</td>\n",
       "    </tr>\n",
       "    <tr>\n",
       "      <th>299</th>\n",
       "      <td>45</td>\n",
       "      <td>1</td>\n",
       "      <td>110</td>\n",
       "      <td>264</td>\n",
       "      <td>0</td>\n",
       "      <td>1</td>\n",
       "      <td>132</td>\n",
       "      <td>0</td>\n",
       "      <td>1.2</td>\n",
       "      <td>0</td>\n",
       "      <td>3</td>\n",
       "      <td>0</td>\n",
       "      <td>0</td>\n",
       "      <td>0</td>\n",
       "      <td>1</td>\n",
       "      <td>0</td>\n",
       "      <td>0</td>\n",
       "      <td>1</td>\n",
       "      <td>0</td>\n",
       "    </tr>\n",
       "    <tr>\n",
       "      <th>300</th>\n",
       "      <td>68</td>\n",
       "      <td>1</td>\n",
       "      <td>144</td>\n",
       "      <td>193</td>\n",
       "      <td>1</td>\n",
       "      <td>1</td>\n",
       "      <td>141</td>\n",
       "      <td>0</td>\n",
       "      <td>3.4</td>\n",
       "      <td>2</td>\n",
       "      <td>3</td>\n",
       "      <td>0</td>\n",
       "      <td>0</td>\n",
       "      <td>1</td>\n",
       "      <td>0</td>\n",
       "      <td>0</td>\n",
       "      <td>0</td>\n",
       "      <td>1</td>\n",
       "      <td>0</td>\n",
       "    </tr>\n",
       "    <tr>\n",
       "      <th>301</th>\n",
       "      <td>57</td>\n",
       "      <td>1</td>\n",
       "      <td>130</td>\n",
       "      <td>131</td>\n",
       "      <td>0</td>\n",
       "      <td>1</td>\n",
       "      <td>115</td>\n",
       "      <td>1</td>\n",
       "      <td>1.2</td>\n",
       "      <td>1</td>\n",
       "      <td>3</td>\n",
       "      <td>0</td>\n",
       "      <td>0</td>\n",
       "      <td>1</td>\n",
       "      <td>0</td>\n",
       "      <td>0</td>\n",
       "      <td>0</td>\n",
       "      <td>1</td>\n",
       "      <td>0</td>\n",
       "    </tr>\n",
       "    <tr>\n",
       "      <th>302</th>\n",
       "      <td>57</td>\n",
       "      <td>0</td>\n",
       "      <td>130</td>\n",
       "      <td>236</td>\n",
       "      <td>0</td>\n",
       "      <td>0</td>\n",
       "      <td>174</td>\n",
       "      <td>0</td>\n",
       "      <td>0.0</td>\n",
       "      <td>1</td>\n",
       "      <td>2</td>\n",
       "      <td>0</td>\n",
       "      <td>0</td>\n",
       "      <td>0</td>\n",
       "      <td>0</td>\n",
       "      <td>1</td>\n",
       "      <td>0</td>\n",
       "      <td>1</td>\n",
       "      <td>0</td>\n",
       "    </tr>\n",
       "  </tbody>\n",
       "</table>\n",
       "<p>284 rows × 19 columns</p>\n",
       "</div>"
      ],
      "text/plain": [
       "     age  sex  trestbps  chol  fbs  restecg  thalach  exang  oldpeak  ca  \\\n",
       "0     63    1       145   233    1        0      150      0      2.3   0   \n",
       "1     37    1       130   250    0        1      187      0      3.5   0   \n",
       "2     41    0       130   204    0        0      172      0      1.4   0   \n",
       "3     56    1       120   236    0        1      178      0      0.8   0   \n",
       "4     57    0       120   354    0        1      163      1      0.6   0   \n",
       "..   ...  ...       ...   ...  ...      ...      ...    ...      ...  ..   \n",
       "298   57    0       140   241    0        1      123      1      0.2   0   \n",
       "299   45    1       110   264    0        1      132      0      1.2   0   \n",
       "300   68    1       144   193    1        1      141      0      3.4   2   \n",
       "301   57    1       130   131    0        1      115      1      1.2   1   \n",
       "302   57    0       130   236    0        0      174      0      0.0   1   \n",
       "\n",
       "     thal  target  cp_ non-anginal pain  cp_ typical angina  cp_asymptomatic  \\\n",
       "0       1       1                     0                   0                1   \n",
       "1       2       1                     1                   0                0   \n",
       "2       2       1                     0                   0                0   \n",
       "3       2       1                     0                   0                0   \n",
       "4       2       1                     0                   1                0   \n",
       "..    ...     ...                   ...                 ...              ...   \n",
       "298     3       0                     0                   1                0   \n",
       "299     3       0                     0                   0                1   \n",
       "300     3       0                     0                   1                0   \n",
       "301     3       0                     0                   1                0   \n",
       "302     2       0                     0                   0                0   \n",
       "\n",
       "     cp_atypical angina  slope_Down_Sloping  slope_Flat  slope_Up_Sloping  \n",
       "0                     0                   0           0                 1  \n",
       "1                     0                   0           0                 1  \n",
       "2                     1                   1           0                 0  \n",
       "3                     1                   1           0                 0  \n",
       "4                     0                   1           0                 0  \n",
       "..                  ...                 ...         ...               ...  \n",
       "298                   0                   0           1                 0  \n",
       "299                   0                   0           1                 0  \n",
       "300                   0                   0           1                 0  \n",
       "301                   0                   0           1                 0  \n",
       "302                   1                   0           1                 0  \n",
       "\n",
       "[284 rows x 19 columns]"
      ]
     },
     "execution_count": 726,
     "metadata": {},
     "output_type": "execute_result"
    }
   ],
   "source": [
    "data = pd.get_dummies(data, columns = ['cp', 'slope'])\n",
    "data"
   ]
  },
  {
   "cell_type": "code",
   "execution_count": 727,
   "id": "63892ea4",
   "metadata": {},
   "outputs": [
    {
     "data": {
      "text/plain": [
       "Index(['age', 'sex', 'trestbps', 'chol', 'fbs', 'restecg', 'thalach', 'exang',\n",
       "       'oldpeak', 'ca', 'thal', 'target', 'cp_ non-anginal pain',\n",
       "       'cp_ typical angina', 'cp_asymptomatic', 'cp_atypical angina',\n",
       "       'slope_Down_Sloping', 'slope_Flat', 'slope_Up_Sloping'],\n",
       "      dtype='object')"
      ]
     },
     "execution_count": 727,
     "metadata": {},
     "output_type": "execute_result"
    }
   ],
   "source": [
    "data.columns"
   ]
  },
  {
   "cell_type": "markdown",
   "id": "a90f4537",
   "metadata": {},
   "source": [
    "### Split the data into X and y"
   ]
  },
  {
   "cell_type": "code",
   "execution_count": 728,
   "id": "31e2fd9d",
   "metadata": {},
   "outputs": [],
   "source": [
    "X = data.drop(['target'],axis=1)\n",
    "y = data['target']"
   ]
  },
  {
   "cell_type": "markdown",
   "id": "4a1fcac0",
   "metadata": {},
   "source": [
    "## `Multicollinearity ---------------------------------------`"
   ]
  },
  {
   "cell_type": "code",
   "execution_count": 729,
   "id": "dc90d440",
   "metadata": {},
   "outputs": [],
   "source": [
    "from statsmodels.stats.outliers_influence import variance_inflation_factor # to check multicollinearity\n",
    "\n",
    "\n",
    "### function of vif\n",
    "def cal_vif(X):\n",
    "    vif=pd.DataFrame()\n",
    "    vif['var']=X.columns\n",
    "    vif['VIF']=[variance_inflation_factor(X.values,i) for i in range(X.shape[1])]\n",
    "    vif['VIF'] = round(vif['VIF'], 2)\n",
    "    vif = vif.sort_values(by = \"VIF\", ascending = False)\n",
    "    return(vif)"
   ]
  },
  {
   "cell_type": "markdown",
   "id": "ae1c4d4e",
   "metadata": {},
   "source": [
    "### Categorical columns"
   ]
  },
  {
   "cell_type": "code",
   "execution_count": 730,
   "id": "f1bc8bc1",
   "metadata": {},
   "outputs": [],
   "source": [
    "cat = X[['cp_ non-anginal pain',\n",
    "       'cp_ typical angina', 'cp_asymptomatic', 'cp_atypical angina',\n",
    "       'slope_Down_Sloping', 'slope_Flat', 'slope_Up_Sloping','sex','fbs','exang','restecg']]"
   ]
  },
  {
   "cell_type": "code",
   "execution_count": 731,
   "id": "dd8b42b5",
   "metadata": {},
   "outputs": [
    {
     "data": {
      "text/html": [
       "<div>\n",
       "<style scoped>\n",
       "    .dataframe tbody tr th:only-of-type {\n",
       "        vertical-align: middle;\n",
       "    }\n",
       "\n",
       "    .dataframe tbody tr th {\n",
       "        vertical-align: top;\n",
       "    }\n",
       "\n",
       "    .dataframe thead th {\n",
       "        text-align: right;\n",
       "    }\n",
       "</style>\n",
       "<table border=\"1\" class=\"dataframe\">\n",
       "  <thead>\n",
       "    <tr style=\"text-align: right;\">\n",
       "      <th></th>\n",
       "      <th>var</th>\n",
       "      <th>VIF</th>\n",
       "    </tr>\n",
       "  </thead>\n",
       "  <tbody>\n",
       "    <tr>\n",
       "      <th>0</th>\n",
       "      <td>cp_ non-anginal pain</td>\n",
       "      <td>inf</td>\n",
       "    </tr>\n",
       "    <tr>\n",
       "      <th>1</th>\n",
       "      <td>cp_ typical angina</td>\n",
       "      <td>inf</td>\n",
       "    </tr>\n",
       "    <tr>\n",
       "      <th>2</th>\n",
       "      <td>cp_asymptomatic</td>\n",
       "      <td>inf</td>\n",
       "    </tr>\n",
       "    <tr>\n",
       "      <th>3</th>\n",
       "      <td>cp_atypical angina</td>\n",
       "      <td>inf</td>\n",
       "    </tr>\n",
       "    <tr>\n",
       "      <th>4</th>\n",
       "      <td>slope_Down_Sloping</td>\n",
       "      <td>inf</td>\n",
       "    </tr>\n",
       "    <tr>\n",
       "      <th>5</th>\n",
       "      <td>slope_Flat</td>\n",
       "      <td>inf</td>\n",
       "    </tr>\n",
       "    <tr>\n",
       "      <th>6</th>\n",
       "      <td>slope_Up_Sloping</td>\n",
       "      <td>inf</td>\n",
       "    </tr>\n",
       "    <tr>\n",
       "      <th>9</th>\n",
       "      <td>exang</td>\n",
       "      <td>1.35</td>\n",
       "    </tr>\n",
       "    <tr>\n",
       "      <th>7</th>\n",
       "      <td>sex</td>\n",
       "      <td>1.06</td>\n",
       "    </tr>\n",
       "    <tr>\n",
       "      <th>10</th>\n",
       "      <td>restecg</td>\n",
       "      <td>1.05</td>\n",
       "    </tr>\n",
       "    <tr>\n",
       "      <th>8</th>\n",
       "      <td>fbs</td>\n",
       "      <td>1.03</td>\n",
       "    </tr>\n",
       "  </tbody>\n",
       "</table>\n",
       "</div>"
      ],
      "text/plain": [
       "                     var   VIF\n",
       "0   cp_ non-anginal pain   inf\n",
       "1     cp_ typical angina   inf\n",
       "2        cp_asymptomatic   inf\n",
       "3     cp_atypical angina   inf\n",
       "4     slope_Down_Sloping   inf\n",
       "5             slope_Flat   inf\n",
       "6       slope_Up_Sloping   inf\n",
       "9                  exang  1.35\n",
       "7                    sex  1.06\n",
       "10               restecg  1.05\n",
       "8                    fbs  1.03"
      ]
     },
     "execution_count": 731,
     "metadata": {},
     "output_type": "execute_result"
    }
   ],
   "source": [
    "cal_vif(cat)"
   ]
  },
  {
   "cell_type": "markdown",
   "id": "bed1f6b8",
   "metadata": {},
   "source": [
    "### drop redundant column values"
   ]
  },
  {
   "cell_type": "code",
   "execution_count": 732,
   "id": "5bbe8eb2",
   "metadata": {},
   "outputs": [],
   "source": [
    "cat = X[['cp_ non-anginal pain',\n",
    "       'cp_ typical angina', 'cp_asymptomatic',\n",
    "       'slope_Down_Sloping', 'slope_Flat', 'sex','fbs','exang','restecg']]"
   ]
  },
  {
   "cell_type": "code",
   "execution_count": 733,
   "id": "86421488",
   "metadata": {},
   "outputs": [
    {
     "data": {
      "text/html": [
       "<div>\n",
       "<style scoped>\n",
       "    .dataframe tbody tr th:only-of-type {\n",
       "        vertical-align: middle;\n",
       "    }\n",
       "\n",
       "    .dataframe tbody tr th {\n",
       "        vertical-align: top;\n",
       "    }\n",
       "\n",
       "    .dataframe thead th {\n",
       "        text-align: right;\n",
       "    }\n",
       "</style>\n",
       "<table border=\"1\" class=\"dataframe\">\n",
       "  <thead>\n",
       "    <tr style=\"text-align: right;\">\n",
       "      <th></th>\n",
       "      <th>var</th>\n",
       "      <th>VIF</th>\n",
       "    </tr>\n",
       "  </thead>\n",
       "  <tbody>\n",
       "    <tr>\n",
       "      <th>1</th>\n",
       "      <td>cp_ typical angina</td>\n",
       "      <td>3.88</td>\n",
       "    </tr>\n",
       "    <tr>\n",
       "      <th>4</th>\n",
       "      <td>slope_Flat</td>\n",
       "      <td>3.85</td>\n",
       "    </tr>\n",
       "    <tr>\n",
       "      <th>3</th>\n",
       "      <td>slope_Down_Sloping</td>\n",
       "      <td>3.57</td>\n",
       "    </tr>\n",
       "    <tr>\n",
       "      <th>5</th>\n",
       "      <td>sex</td>\n",
       "      <td>3.29</td>\n",
       "    </tr>\n",
       "    <tr>\n",
       "      <th>0</th>\n",
       "      <td>cp_ non-anginal pain</td>\n",
       "      <td>2.32</td>\n",
       "    </tr>\n",
       "    <tr>\n",
       "      <th>8</th>\n",
       "      <td>restecg</td>\n",
       "      <td>2.07</td>\n",
       "    </tr>\n",
       "    <tr>\n",
       "      <th>7</th>\n",
       "      <td>exang</td>\n",
       "      <td>1.95</td>\n",
       "    </tr>\n",
       "    <tr>\n",
       "      <th>2</th>\n",
       "      <td>cp_asymptomatic</td>\n",
       "      <td>1.39</td>\n",
       "    </tr>\n",
       "    <tr>\n",
       "      <th>6</th>\n",
       "      <td>fbs</td>\n",
       "      <td>1.18</td>\n",
       "    </tr>\n",
       "  </tbody>\n",
       "</table>\n",
       "</div>"
      ],
      "text/plain": [
       "                    var   VIF\n",
       "1    cp_ typical angina  3.88\n",
       "4            slope_Flat  3.85\n",
       "3    slope_Down_Sloping  3.57\n",
       "5                   sex  3.29\n",
       "0  cp_ non-anginal pain  2.32\n",
       "8               restecg  2.07\n",
       "7                 exang  1.95\n",
       "2       cp_asymptomatic  1.39\n",
       "6                   fbs  1.18"
      ]
     },
     "execution_count": 733,
     "metadata": {},
     "output_type": "execute_result"
    }
   ],
   "source": [
    "cal_vif(cat)"
   ]
  },
  {
   "cell_type": "markdown",
   "id": "80064bb2",
   "metadata": {},
   "source": [
    "### These categorical columns are perfect, without multicollinearity"
   ]
  },
  {
   "cell_type": "markdown",
   "id": "93500bad",
   "metadata": {},
   "source": [
    "### Numerical Columns"
   ]
  },
  {
   "cell_type": "code",
   "execution_count": 734,
   "id": "5846265a",
   "metadata": {},
   "outputs": [],
   "source": [
    "num = X[cont_columns]"
   ]
  },
  {
   "cell_type": "code",
   "execution_count": 735,
   "id": "8a0f1643",
   "metadata": {},
   "outputs": [
    {
     "data": {
      "text/html": [
       "<div>\n",
       "<style scoped>\n",
       "    .dataframe tbody tr th:only-of-type {\n",
       "        vertical-align: middle;\n",
       "    }\n",
       "\n",
       "    .dataframe tbody tr th {\n",
       "        vertical-align: top;\n",
       "    }\n",
       "\n",
       "    .dataframe thead th {\n",
       "        text-align: right;\n",
       "    }\n",
       "</style>\n",
       "<table border=\"1\" class=\"dataframe\">\n",
       "  <thead>\n",
       "    <tr style=\"text-align: right;\">\n",
       "      <th></th>\n",
       "      <th>var</th>\n",
       "      <th>VIF</th>\n",
       "    </tr>\n",
       "  </thead>\n",
       "  <tbody>\n",
       "    <tr>\n",
       "      <th>1</th>\n",
       "      <td>trestbps</td>\n",
       "      <td>65.39</td>\n",
       "    </tr>\n",
       "    <tr>\n",
       "      <th>0</th>\n",
       "      <td>age</td>\n",
       "      <td>39.50</td>\n",
       "    </tr>\n",
       "    <tr>\n",
       "      <th>3</th>\n",
       "      <td>thalach</td>\n",
       "      <td>32.87</td>\n",
       "    </tr>\n",
       "    <tr>\n",
       "      <th>2</th>\n",
       "      <td>chol</td>\n",
       "      <td>30.53</td>\n",
       "    </tr>\n",
       "    <tr>\n",
       "      <th>6</th>\n",
       "      <td>thal</td>\n",
       "      <td>15.03</td>\n",
       "    </tr>\n",
       "    <tr>\n",
       "      <th>4</th>\n",
       "      <td>oldpeak</td>\n",
       "      <td>2.19</td>\n",
       "    </tr>\n",
       "    <tr>\n",
       "      <th>5</th>\n",
       "      <td>ca</td>\n",
       "      <td>1.68</td>\n",
       "    </tr>\n",
       "  </tbody>\n",
       "</table>\n",
       "</div>"
      ],
      "text/plain": [
       "        var    VIF\n",
       "1  trestbps  65.39\n",
       "0       age  39.50\n",
       "3   thalach  32.87\n",
       "2      chol  30.53\n",
       "6      thal  15.03\n",
       "4   oldpeak   2.19\n",
       "5        ca   1.68"
      ]
     },
     "execution_count": 735,
     "metadata": {},
     "output_type": "execute_result"
    }
   ],
   "source": [
    "cal_vif(num)"
   ]
  },
  {
   "cell_type": "code",
   "execution_count": 736,
   "id": "0578820f",
   "metadata": {},
   "outputs": [
    {
     "data": {
      "text/plain": [
       "const       1.243720e-01\n",
       "age         3.927828e-01\n",
       "trestbps    4.448465e-01\n",
       "chol        1.285520e-01\n",
       "thalach     5.409546e-07\n",
       "oldpeak     4.317559e-07\n",
       "ca          1.761577e-06\n",
       "thal        3.864001e-06\n",
       "dtype: float64"
      ]
     },
     "execution_count": 736,
     "metadata": {},
     "output_type": "execute_result"
    }
   ],
   "source": [
    "import statsmodels.api as sm\n",
    "X_num  = sm.add_constant(num)\n",
    "ols_model = sm.OLS(y,X_num)\n",
    "ols_model = ols_model.fit()\n",
    "ols_model.pvalues"
   ]
  },
  {
   "cell_type": "markdown",
   "id": "ae51027a",
   "metadata": {},
   "source": [
    "### I will not drop any numerical column, because p-value is too low "
   ]
  },
  {
   "cell_type": "markdown",
   "id": "d5061a9f",
   "metadata": {},
   "source": [
    "### Split the data into X and y"
   ]
  },
  {
   "cell_type": "code",
   "execution_count": 737,
   "id": "787cb085",
   "metadata": {},
   "outputs": [],
   "source": [
    "X = data[['age', 'trestbps', 'chol', 'thalach', 'oldpeak', 'ca', 'thal','cp_ non-anginal pain',\n",
    "       'cp_ typical angina', 'cp_asymptomatic',\n",
    "       'slope_Down_Sloping', 'slope_Flat', 'sex','fbs','exang','restecg']]\n",
    "y = data['target']"
   ]
  },
  {
   "cell_type": "markdown",
   "id": "d4a1b514",
   "metadata": {},
   "source": [
    "### Split the data into train and test"
   ]
  },
  {
   "cell_type": "code",
   "execution_count": 738,
   "id": "b45c9ba1",
   "metadata": {},
   "outputs": [],
   "source": [
    "from sklearn.model_selection import train_test_split\n",
    "X_train,X_test, y_train, y_test = train_test_split(X,y,test_size=0.20,random_state=42)"
   ]
  },
  {
   "cell_type": "markdown",
   "id": "aea75e01",
   "metadata": {},
   "source": [
    "### Scaling the data"
   ]
  },
  {
   "cell_type": "code",
   "execution_count": 739,
   "id": "0f3c822b",
   "metadata": {},
   "outputs": [
    {
     "data": {
      "text/plain": [
       "StandardScaler()"
      ]
     },
     "execution_count": 739,
     "metadata": {},
     "output_type": "execute_result"
    }
   ],
   "source": [
    "from sklearn.preprocessing import StandardScaler\n",
    "sc = StandardScaler()\n",
    "sc.fit(X_train[['age', 'trestbps', 'chol', 'thalach', 'oldpeak']])"
   ]
  },
  {
   "cell_type": "code",
   "execution_count": 740,
   "id": "b71a7c62",
   "metadata": {},
   "outputs": [],
   "source": [
    "X_train[['age', 'trestbps', 'chol', 'thalach', 'oldpeak']] = sc.transform(X_train[['age', 'trestbps', 'chol', 'thalach', 'oldpeak']])\n",
    "X_test[['age', 'trestbps', 'chol', 'thalach', 'oldpeak']] = sc.transform(X_test[['age', 'trestbps', 'chol', 'thalach', 'oldpeak']])"
   ]
  },
  {
   "cell_type": "markdown",
   "id": "b73ba4c8",
   "metadata": {},
   "source": [
    "### Model"
   ]
  },
  {
   "cell_type": "code",
   "execution_count": 741,
   "id": "5d6f48c9",
   "metadata": {},
   "outputs": [
    {
     "data": {
      "text/plain": [
       "LogisticRegression()"
      ]
     },
     "execution_count": 741,
     "metadata": {},
     "output_type": "execute_result"
    }
   ],
   "source": [
    "from sklearn.linear_model import LogisticRegression\n",
    "model = LogisticRegression()\n",
    "model.fit(X_train,y_train)"
   ]
  },
  {
   "cell_type": "code",
   "execution_count": 742,
   "id": "c52ca79a",
   "metadata": {},
   "outputs": [],
   "source": [
    "y_pred = model.predict(X_test)"
   ]
  },
  {
   "cell_type": "code",
   "execution_count": 743,
   "id": "bee55126",
   "metadata": {},
   "outputs": [
    {
     "data": {
      "text/plain": [
       "array([[0.33283857, 0.66716143],\n",
       "       [0.6068806 , 0.3931194 ],\n",
       "       [0.29471092, 0.70528908],\n",
       "       [0.9889371 , 0.0110629 ],\n",
       "       [0.17904153, 0.82095847],\n",
       "       [0.93842837, 0.06157163],\n",
       "       [0.85755717, 0.14244283],\n",
       "       [0.87414572, 0.12585428],\n",
       "       [0.0891421 , 0.9108579 ],\n",
       "       [0.73493102, 0.26506898],\n",
       "       [0.01384472, 0.98615528],\n",
       "       [0.26546492, 0.73453508],\n",
       "       [0.05247627, 0.94752373],\n",
       "       [0.98582619, 0.01417381],\n",
       "       [0.3028588 , 0.6971412 ],\n",
       "       [0.44901682, 0.55098318],\n",
       "       [0.89052268, 0.10947732],\n",
       "       [0.07022215, 0.92977785],\n",
       "       [0.10166995, 0.89833005],\n",
       "       [0.1059057 , 0.8940943 ],\n",
       "       [0.00839047, 0.99160953],\n",
       "       [0.03318482, 0.96681518],\n",
       "       [0.39769218, 0.60230782],\n",
       "       [0.78689057, 0.21310943],\n",
       "       [0.03875024, 0.96124976],\n",
       "       [0.79150826, 0.20849174],\n",
       "       [0.53191963, 0.46808037],\n",
       "       [0.61536423, 0.38463577],\n",
       "       [0.47627637, 0.52372363],\n",
       "       [0.1116657 , 0.8883343 ],\n",
       "       [0.65199294, 0.34800706],\n",
       "       [0.29471092, 0.70528908],\n",
       "       [0.64362804, 0.35637196],\n",
       "       [0.11001818, 0.88998182],\n",
       "       [0.14946887, 0.85053113],\n",
       "       [0.46994846, 0.53005154],\n",
       "       [0.06074057, 0.93925943],\n",
       "       [0.3621714 , 0.6378286 ],\n",
       "       [0.4955698 , 0.5044302 ],\n",
       "       [0.88996457, 0.11003543],\n",
       "       [0.06934318, 0.93065682],\n",
       "       [0.54200248, 0.45799752],\n",
       "       [0.14253757, 0.85746243],\n",
       "       [0.68104854, 0.31895146],\n",
       "       [0.14045916, 0.85954084],\n",
       "       [0.51717011, 0.48282989],\n",
       "       [0.73388761, 0.26611239],\n",
       "       [0.27893052, 0.72106948],\n",
       "       [0.18475151, 0.81524849],\n",
       "       [0.97579191, 0.02420809],\n",
       "       [0.20298338, 0.79701662],\n",
       "       [0.93023564, 0.06976436],\n",
       "       [0.85930029, 0.14069971],\n",
       "       [0.19950449, 0.80049551],\n",
       "       [0.10336839, 0.89663161],\n",
       "       [0.66067999, 0.33932001],\n",
       "       [0.93268674, 0.06731326]])"
      ]
     },
     "execution_count": 743,
     "metadata": {},
     "output_type": "execute_result"
    }
   ],
   "source": [
    "y_pred_proba = model.predict_proba(X_test)\n",
    "y_pred_proba"
   ]
  },
  {
   "cell_type": "code",
   "execution_count": 744,
   "id": "9d67fdf7",
   "metadata": {},
   "outputs": [
    {
     "name": "stdout",
     "output_type": "stream",
     "text": [
      "Confusion matrix =>\n",
      " [[19  7]\n",
      " [ 5 26]]\n",
      "Accuracy => 0.7894736842105263\n"
     ]
    }
   ],
   "source": [
    "from sklearn.metrics import accuracy_score, confusion_matrix\n",
    "print(f'Confusion matrix =>\\n {confusion_matrix(y_test,y_pred)}')\n",
    "print(f'Accuracy => {accuracy_score(y_test,y_pred)}')"
   ]
  },
  {
   "cell_type": "code",
   "execution_count": null,
   "id": "01ccfc4c",
   "metadata": {},
   "outputs": [],
   "source": []
  }
 ],
 "metadata": {
  "kernelspec": {
   "display_name": "Python 3",
   "language": "python",
   "name": "python3"
  },
  "language_info": {
   "codemirror_mode": {
    "name": "ipython",
    "version": 3
   },
   "file_extension": ".py",
   "mimetype": "text/x-python",
   "name": "python",
   "nbconvert_exporter": "python",
   "pygments_lexer": "ipython3",
   "version": "3.8.8"
  }
 },
 "nbformat": 4,
 "nbformat_minor": 5
}
