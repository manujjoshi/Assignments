{
 "cells": [
  {
   "cell_type": "markdown",
   "id": "9527549d",
   "metadata": {},
   "source": [
    "# `Logistic Regression Assignment -----------------------------------`"
   ]
  },
  {
   "cell_type": "code",
   "execution_count": 216,
   "id": "ef4cc16e",
   "metadata": {},
   "outputs": [],
   "source": [
    "import pandas as pd\n",
    "import numpy as np\n",
    "import seaborn as sns\n",
    "import matplotlib.pyplot as plt\n",
    "import warnings\n",
    "warnings.filterwarnings('ignore')"
   ]
  },
  {
   "cell_type": "code",
   "execution_count": 217,
   "id": "cfb35f8e",
   "metadata": {},
   "outputs": [
    {
     "data": {
      "text/html": [
       "<div>\n",
       "<style scoped>\n",
       "    .dataframe tbody tr th:only-of-type {\n",
       "        vertical-align: middle;\n",
       "    }\n",
       "\n",
       "    .dataframe tbody tr th {\n",
       "        vertical-align: top;\n",
       "    }\n",
       "\n",
       "    .dataframe thead th {\n",
       "        text-align: right;\n",
       "    }\n",
       "</style>\n",
       "<table border=\"1\" class=\"dataframe\">\n",
       "  <thead>\n",
       "    <tr style=\"text-align: right;\">\n",
       "      <th></th>\n",
       "      <th>age</th>\n",
       "      <th>sex</th>\n",
       "      <th>cp</th>\n",
       "      <th>trestbps</th>\n",
       "      <th>chol</th>\n",
       "      <th>fbs</th>\n",
       "      <th>restecg</th>\n",
       "      <th>thalach</th>\n",
       "      <th>exang</th>\n",
       "      <th>oldpeak</th>\n",
       "      <th>slope</th>\n",
       "      <th>ca</th>\n",
       "      <th>thal</th>\n",
       "      <th>target</th>\n",
       "    </tr>\n",
       "  </thead>\n",
       "  <tbody>\n",
       "    <tr>\n",
       "      <th>0</th>\n",
       "      <td>63</td>\n",
       "      <td>Male</td>\n",
       "      <td>asymptomatic</td>\n",
       "      <td>145</td>\n",
       "      <td>233</td>\n",
       "      <td>True</td>\n",
       "      <td>Normal</td>\n",
       "      <td>150</td>\n",
       "      <td>No</td>\n",
       "      <td>2.3</td>\n",
       "      <td>Up_Sloping</td>\n",
       "      <td>0</td>\n",
       "      <td>1</td>\n",
       "      <td>Yes</td>\n",
       "    </tr>\n",
       "    <tr>\n",
       "      <th>1</th>\n",
       "      <td>37</td>\n",
       "      <td>Male</td>\n",
       "      <td>non-anginal pain</td>\n",
       "      <td>130</td>\n",
       "      <td>250</td>\n",
       "      <td>False</td>\n",
       "      <td>Not_Normal</td>\n",
       "      <td>187</td>\n",
       "      <td>No</td>\n",
       "      <td>3.5</td>\n",
       "      <td>Up_Sloping</td>\n",
       "      <td>0</td>\n",
       "      <td>2</td>\n",
       "      <td>Yes</td>\n",
       "    </tr>\n",
       "    <tr>\n",
       "      <th>2</th>\n",
       "      <td>41</td>\n",
       "      <td>Female</td>\n",
       "      <td>atypical angina</td>\n",
       "      <td>130</td>\n",
       "      <td>204</td>\n",
       "      <td>False</td>\n",
       "      <td>Normal</td>\n",
       "      <td>172</td>\n",
       "      <td>No</td>\n",
       "      <td>1.4</td>\n",
       "      <td>Down_Sloping</td>\n",
       "      <td>0</td>\n",
       "      <td>2</td>\n",
       "      <td>Yes</td>\n",
       "    </tr>\n",
       "    <tr>\n",
       "      <th>3</th>\n",
       "      <td>56</td>\n",
       "      <td>Male</td>\n",
       "      <td>atypical angina</td>\n",
       "      <td>120</td>\n",
       "      <td>236</td>\n",
       "      <td>False</td>\n",
       "      <td>Not_Normal</td>\n",
       "      <td>178</td>\n",
       "      <td>No</td>\n",
       "      <td>0.8</td>\n",
       "      <td>Down_Sloping</td>\n",
       "      <td>0</td>\n",
       "      <td>2</td>\n",
       "      <td>Yes</td>\n",
       "    </tr>\n",
       "    <tr>\n",
       "      <th>4</th>\n",
       "      <td>57</td>\n",
       "      <td>Female</td>\n",
       "      <td>typical angina</td>\n",
       "      <td>120</td>\n",
       "      <td>354</td>\n",
       "      <td>False</td>\n",
       "      <td>Not_Normal</td>\n",
       "      <td>163</td>\n",
       "      <td>Yes</td>\n",
       "      <td>0.6</td>\n",
       "      <td>Down_Sloping</td>\n",
       "      <td>0</td>\n",
       "      <td>2</td>\n",
       "      <td>Yes</td>\n",
       "    </tr>\n",
       "  </tbody>\n",
       "</table>\n",
       "</div>"
      ],
      "text/plain": [
       "   age     sex                 cp  trestbps  chol    fbs     restecg  thalach  \\\n",
       "0   63    Male       asymptomatic       145   233   True      Normal      150   \n",
       "1   37    Male   non-anginal pain       130   250  False  Not_Normal      187   \n",
       "2   41  Female    atypical angina       130   204  False      Normal      172   \n",
       "3   56    Male    atypical angina       120   236  False  Not_Normal      178   \n",
       "4   57  Female     typical angina       120   354  False  Not_Normal      163   \n",
       "\n",
       "  exang  oldpeak         slope  ca  thal target  \n",
       "0    No      2.3    Up_Sloping   0     1    Yes  \n",
       "1    No      3.5    Up_Sloping   0     2    Yes  \n",
       "2    No      1.4  Down_Sloping   0     2    Yes  \n",
       "3    No      0.8  Down_Sloping   0     2    Yes  \n",
       "4   Yes      0.6  Down_Sloping   0     2    Yes  "
      ]
     },
     "execution_count": 217,
     "metadata": {},
     "output_type": "execute_result"
    }
   ],
   "source": [
    "data = pd.read_csv('heart.csv',sep='\\t')   # here separator is \\t\n",
    "data.head()"
   ]
  },
  {
   "cell_type": "code",
   "execution_count": 218,
   "id": "fb1d625c",
   "metadata": {},
   "outputs": [
    {
     "data": {
      "text/plain": [
       "(303, 14)"
      ]
     },
     "execution_count": 218,
     "metadata": {},
     "output_type": "execute_result"
    }
   ],
   "source": [
    "data.shape"
   ]
  },
  {
   "cell_type": "code",
   "execution_count": 219,
   "id": "d634ed26",
   "metadata": {},
   "outputs": [
    {
     "data": {
      "text/plain": [
       "Index(['age', 'sex', 'cp', 'trestbps', 'chol', 'fbs', 'restecg', 'thalach',\n",
       "       'exang', 'oldpeak', 'slope', 'ca', 'thal', 'target'],\n",
       "      dtype='object')"
      ]
     },
     "execution_count": 219,
     "metadata": {},
     "output_type": "execute_result"
    }
   ],
   "source": [
    "data.columns"
   ]
  },
  {
   "cell_type": "code",
   "execution_count": 220,
   "id": "00994ac2",
   "metadata": {
    "scrolled": true
   },
   "outputs": [
    {
     "data": {
      "text/plain": [
       "age           int64\n",
       "sex          object\n",
       "cp           object\n",
       "trestbps      int64\n",
       "chol          int64\n",
       "fbs            bool\n",
       "restecg      object\n",
       "thalach       int64\n",
       "exang        object\n",
       "oldpeak     float64\n",
       "slope        object\n",
       "ca            int64\n",
       "thal          int64\n",
       "target       object\n",
       "dtype: object"
      ]
     },
     "execution_count": 220,
     "metadata": {},
     "output_type": "execute_result"
    }
   ],
   "source": [
    "data.dtypes"
   ]
  },
  {
   "cell_type": "code",
   "execution_count": 221,
   "id": "03e9b8d6",
   "metadata": {},
   "outputs": [
    {
     "data": {
      "text/plain": [
       "age         0\n",
       "sex         0\n",
       "cp          0\n",
       "trestbps    0\n",
       "chol        0\n",
       "fbs         0\n",
       "restecg     0\n",
       "thalach     0\n",
       "exang       0\n",
       "oldpeak     0\n",
       "slope       0\n",
       "ca          0\n",
       "thal        0\n",
       "target      0\n",
       "dtype: int64"
      ]
     },
     "execution_count": 221,
     "metadata": {},
     "output_type": "execute_result"
    }
   ],
   "source": [
    "data.isnull().sum()   # bam!! we are lucky"
   ]
  },
  {
   "cell_type": "code",
   "execution_count": 222,
   "id": "afb92882",
   "metadata": {},
   "outputs": [],
   "source": [
    "target = 'target'\n",
    "cont_columns = data.select_dtypes(['int64','float64']).columns\n",
    "cat_columns = list(filter(lambda x: x!='target',data.select_dtypes('object').columns))"
   ]
  },
  {
   "cell_type": "code",
   "execution_count": 223,
   "id": "285fb288",
   "metadata": {},
   "outputs": [
    {
     "data": {
      "text/plain": [
       "Index(['age', 'trestbps', 'chol', 'thalach', 'oldpeak', 'ca', 'thal'], dtype='object')"
      ]
     },
     "execution_count": 223,
     "metadata": {},
     "output_type": "execute_result"
    }
   ],
   "source": [
    "cont_columns"
   ]
  },
  {
   "cell_type": "code",
   "execution_count": 224,
   "id": "cc1958db",
   "metadata": {},
   "outputs": [
    {
     "data": {
      "text/plain": [
       "['sex', 'cp', 'restecg', 'exang', 'slope']"
      ]
     },
     "execution_count": 224,
     "metadata": {},
     "output_type": "execute_result"
    }
   ],
   "source": [
    "cat_columns"
   ]
  },
  {
   "cell_type": "markdown",
   "id": "de767c46",
   "metadata": {},
   "source": [
    "### Variables\n",
    "#### Cat\n",
    "- sex\n",
    "- cp\n",
    "- restecg      \n",
    "- exang   \n",
    "- slope   \n",
    "- target\n",
    "\n",
    "#### Num\n",
    "- age\n",
    "- trestbps      \n",
    "- thalach\n",
    "- oldpeak     \n",
    "- ca            \n",
    "- thal"
   ]
  },
  {
   "cell_type": "markdown",
   "id": "036a9fdb",
   "metadata": {},
   "source": [
    "## `Univariate Analysis`\n",
    "### `Categorical Columns`\n",
    "### sex"
   ]
  },
  {
   "cell_type": "code",
   "execution_count": 225,
   "id": "ae29f564",
   "metadata": {},
   "outputs": [
    {
     "data": {
      "text/plain": [
       "Male      207\n",
       "Female     96\n",
       "Name: sex, dtype: int64"
      ]
     },
     "execution_count": 225,
     "metadata": {},
     "output_type": "execute_result"
    }
   ],
   "source": [
    "data['sex'].value_counts()"
   ]
  },
  {
   "cell_type": "code",
   "execution_count": 226,
   "id": "4bfb637f",
   "metadata": {},
   "outputs": [
    {
     "data": {
      "text/plain": [
       "<AxesSubplot:xlabel='sex', ylabel='count'>"
      ]
     },
     "execution_count": 226,
     "metadata": {},
     "output_type": "execute_result"
    },
    {
     "data": {
      "image/png": "[encoded data removed]",
      "text/plain": [
       "<Figure size 432x288 with 1 Axes>"
      ]
     },
     "metadata": {
      "needs_background": "light"
     },
     "output_type": "display_data"
    }
   ],
   "source": [
    "sns.countplot(data['sex'])"
   ]
  },
  {
   "cell_type": "markdown",
   "id": "ddc71bb9",
   "metadata": {},
   "source": [
    "### cp"
   ]
  },
  {
   "cell_type": "code",
   "execution_count": 227,
   "id": "2f982ab3",
   "metadata": {},
   "outputs": [
    {
     "data": {
      "text/plain": [
       " typical angina      143\n",
       " non-anginal pain     87\n",
       "atypical angina       50\n",
       "asymptomatic          23\n",
       "Name: cp, dtype: int64"
      ]
     },
     "execution_count": 227,
     "metadata": {},
     "output_type": "execute_result"
    }
   ],
   "source": [
    "data['cp'].value_counts()"
   ]
  },
  {
   "cell_type": "code",
   "execution_count": 228,
   "id": "3dedb64b",
   "metadata": {},
   "outputs": [
    {
     "data": {
      "image/png": "[encoded data removed]",
      "text/plain": [
       "<Figure size 720x504 with 1 Axes>"
      ]
     },
     "metadata": {},
     "output_type": "display_data"
    }
   ],
   "source": [
    "plt.figure(figsize=(10,7))\n",
    "plt.pie(data['cp'].value_counts(),labels=['typical angina','non-anginal pain','atypical angina','asymptomatic']);"
   ]
  },
  {
   "cell_type": "markdown",
   "id": "c557ab59",
   "metadata": {},
   "source": [
    "### restecg"
   ]
  },
  {
   "cell_type": "code",
   "execution_count": 229,
   "id": "b98bb57e",
   "metadata": {},
   "outputs": [
    {
     "data": {
      "text/plain": [
       "Not_Normal    154\n",
       "Normal        147\n",
       "2               2\n",
       "Name: restecg, dtype: int64"
      ]
     },
     "execution_count": 229,
     "metadata": {},
     "output_type": "execute_result"
    }
   ],
   "source": [
    "data['restecg'].value_counts()"
   ]
  },
  {
   "cell_type": "markdown",
   "id": "34116b5a",
   "metadata": {},
   "source": [
    "### drop unnecessary entry"
   ]
  },
  {
   "cell_type": "code",
   "execution_count": 230,
   "id": "a3c0e0d4",
   "metadata": {},
   "outputs": [
    {
     "data": {
      "text/html": [
       "<div>\n",
       "<style scoped>\n",
       "    .dataframe tbody tr th:only-of-type {\n",
       "        vertical-align: middle;\n",
       "    }\n",
       "\n",
       "    .dataframe tbody tr th {\n",
       "        vertical-align: top;\n",
       "    }\n",
       "\n",
       "    .dataframe thead th {\n",
       "        text-align: right;\n",
       "    }\n",
       "</style>\n",
       "<table border=\"1\" class=\"dataframe\">\n",
       "  <thead>\n",
       "    <tr style=\"text-align: right;\">\n",
       "      <th></th>\n",
       "      <th>age</th>\n",
       "      <th>sex</th>\n",
       "      <th>cp</th>\n",
       "      <th>trestbps</th>\n",
       "      <th>chol</th>\n",
       "      <th>fbs</th>\n",
       "      <th>restecg</th>\n",
       "      <th>thalach</th>\n",
       "      <th>exang</th>\n",
       "      <th>oldpeak</th>\n",
       "      <th>slope</th>\n",
       "      <th>ca</th>\n",
       "      <th>thal</th>\n",
       "      <th>target</th>\n",
       "    </tr>\n",
       "  </thead>\n",
       "  <tbody>\n",
       "    <tr>\n",
       "      <th>289</th>\n",
       "      <td>55</td>\n",
       "      <td>Female</td>\n",
       "      <td>typical angina</td>\n",
       "      <td>128</td>\n",
       "      <td>205</td>\n",
       "      <td>False</td>\n",
       "      <td>2</td>\n",
       "      <td>130</td>\n",
       "      <td>Yes</td>\n",
       "      <td>2.0</td>\n",
       "      <td>Flat</td>\n",
       "      <td>1</td>\n",
       "      <td>3</td>\n",
       "      <td>No</td>\n",
       "    </tr>\n",
       "    <tr>\n",
       "      <th>291</th>\n",
       "      <td>58</td>\n",
       "      <td>Male</td>\n",
       "      <td>typical angina</td>\n",
       "      <td>114</td>\n",
       "      <td>318</td>\n",
       "      <td>False</td>\n",
       "      <td>2</td>\n",
       "      <td>140</td>\n",
       "      <td>No</td>\n",
       "      <td>4.4</td>\n",
       "      <td>Up_Sloping</td>\n",
       "      <td>3</td>\n",
       "      <td>1</td>\n",
       "      <td>No</td>\n",
       "    </tr>\n",
       "  </tbody>\n",
       "</table>\n",
       "</div>"
      ],
      "text/plain": [
       "     age     sex               cp  trestbps  chol    fbs restecg  thalach  \\\n",
       "289   55  Female   typical angina       128   205  False       2      130   \n",
       "291   58    Male   typical angina       114   318  False       2      140   \n",
       "\n",
       "    exang  oldpeak       slope  ca  thal target  \n",
       "289   Yes      2.0        Flat   1     3     No  \n",
       "291    No      4.4  Up_Sloping   3     1     No  "
      ]
     },
     "execution_count": 230,
     "metadata": {},
     "output_type": "execute_result"
    }
   ],
   "source": [
    "data[data['restecg'] == '2']"
   ]
  },
  {
   "cell_type": "code",
   "execution_count": 231,
   "id": "126dcfb8",
   "metadata": {},
   "outputs": [],
   "source": [
    "data.drop(data[data['restecg'] == '2'].index, inplace = True)"
   ]
  },
  {
   "cell_type": "code",
   "execution_count": 232,
   "id": "7b45cc57",
   "metadata": {},
   "outputs": [
    {
     "data": {
      "text/plain": [
       "Not_Normal    154\n",
       "Normal        147\n",
       "Name: restecg, dtype: int64"
      ]
     },
     "execution_count": 232,
     "metadata": {},
     "output_type": "execute_result"
    }
   ],
   "source": [
    "data['restecg'].value_counts()"
   ]
  },
  {
   "cell_type": "code",
   "execution_count": 233,
   "id": "9f596979",
   "metadata": {},
   "outputs": [
    {
     "data": {
      "image/png": "[encoded data removed]",
      "text/plain": [
       "<Figure size 720x504 with 1 Axes>"
      ]
     },
     "metadata": {},
     "output_type": "display_data"
    }
   ],
   "source": [
    "plt.figure(figsize=(10,7))\n",
    "plt.pie(data['restecg'].value_counts(),labels=['Not_Normal','Normal']);"
   ]
  },
  {
   "cell_type": "markdown",
   "id": "5a029f3e",
   "metadata": {},
   "source": [
    "### exang"
   ]
  },
  {
   "cell_type": "code",
   "execution_count": 234,
   "id": "1da52071",
   "metadata": {},
   "outputs": [
    {
     "data": {
      "text/plain": [
       "No     203\n",
       "Yes     98\n",
       "Name: exang, dtype: int64"
      ]
     },
     "execution_count": 234,
     "metadata": {},
     "output_type": "execute_result"
    }
   ],
   "source": [
    "data['exang'].value_counts()"
   ]
  },
  {
   "cell_type": "code",
   "execution_count": 235,
   "id": "8948423c",
   "metadata": {},
   "outputs": [
    {
     "data": {
      "text/plain": [
       "<AxesSubplot:xlabel='exang', ylabel='count'>"
      ]
     },
     "execution_count": 235,
     "metadata": {},
     "output_type": "execute_result"
    },
    {
     "data": {
      "image/png": "[encoded data removed]",
      "text/plain": [
       "<Figure size 432x288 with 1 Axes>"
      ]
     },
     "metadata": {
      "needs_background": "light"
     },
     "output_type": "display_data"
    }
   ],
   "source": [
    "sns.countplot(data['exang'])"
   ]
  },
  {
   "cell_type": "markdown",
   "id": "40035cc7",
   "metadata": {},
   "source": [
    "### slope"
   ]
  },
  {
   "cell_type": "code",
   "execution_count": 236,
   "id": "38371e82",
   "metadata": {},
   "outputs": [
    {
     "data": {
      "text/plain": [
       "Down_Sloping    142\n",
       "Flat            139\n",
       "Up_Sloping       20\n",
       "Name: slope, dtype: int64"
      ]
     },
     "execution_count": 236,
     "metadata": {},
     "output_type": "execute_result"
    }
   ],
   "source": [
    "data['slope'].value_counts()"
   ]
  },
  {
   "cell_type": "code",
   "execution_count": 237,
   "id": "d324c42e",
   "metadata": {},
   "outputs": [
    {
     "data": {
      "text/plain": [
       "<AxesSubplot:xlabel='slope', ylabel='count'>"
      ]
     },
     "execution_count": 237,
     "metadata": {},
     "output_type": "execute_result"
    },
    {
     "data": {
      "image/png": "[encoded data removed]",
      "text/plain": [
       "<Figure size 432x288 with 1 Axes>"
      ]
     },
     "metadata": {
      "needs_background": "light"
     },
     "output_type": "display_data"
    }
   ],
   "source": [
    "sns.countplot(data['slope'])"
   ]
  },
  {
   "cell_type": "markdown",
   "id": "2c6f73f9",
   "metadata": {},
   "source": [
    "### target"
   ]
  },
  {
   "cell_type": "code",
   "execution_count": 238,
   "id": "045b06ab",
   "metadata": {},
   "outputs": [
    {
     "data": {
      "text/plain": [
       "Yes    165\n",
       "No     136\n",
       "Name: target, dtype: int64"
      ]
     },
     "execution_count": 238,
     "metadata": {},
     "output_type": "execute_result"
    }
   ],
   "source": [
    "data['target'].value_counts()"
   ]
  },
  {
   "cell_type": "code",
   "execution_count": 239,
   "id": "2cdfa755",
   "metadata": {},
   "outputs": [
    {
     "data": {
      "image/png": "[encoded data removed]",
      "text/plain": [
       "<Figure size 720x504 with 1 Axes>"
      ]
     },
     "metadata": {},
     "output_type": "display_data"
    }
   ],
   "source": [
    "plt.figure(figsize=(10,7))\n",
    "plt.pie(data['target'].value_counts(),labels=['Yes','No']);"
   ]
  },
  {
   "cell_type": "markdown",
   "id": "a6717fdb",
   "metadata": {},
   "source": [
    "### `Numerical Columns`"
   ]
  },
  {
   "cell_type": "code",
   "execution_count": 240,
   "id": "9b489430",
   "metadata": {},
   "outputs": [
    {
     "data": {
      "text/plain": [
       "Index(['age', 'trestbps', 'chol', 'thalach', 'oldpeak', 'ca', 'thal'], dtype='object')"
      ]
     },
     "execution_count": 240,
     "metadata": {},
     "output_type": "execute_result"
    }
   ],
   "source": [
    "cont_columns"
   ]
  },
  {
   "cell_type": "markdown",
   "id": "b5552e8e",
   "metadata": {},
   "source": [
    "### Age"
   ]
  },
  {
   "cell_type": "code",
   "execution_count": 241,
   "id": "c2f12fd0",
   "metadata": {},
   "outputs": [
    {
     "data": {
      "text/plain": [
       "<AxesSubplot:xlabel='age', ylabel='Density'>"
      ]
     },
     "execution_count": 241,
     "metadata": {},
     "output_type": "execute_result"
    },
    {
     "data": {
      "image/png": "[encoded data removed]",
      "text/plain": [
       "<Figure size 432x288 with 1 Axes>"
      ]
     },
     "metadata": {
      "needs_background": "light"
     },
     "output_type": "display_data"
    }
   ],
   "source": [
    "sns.distplot(data['age'])"
   ]
  },
  {
   "cell_type": "markdown",
   "id": "ec8deabb",
   "metadata": {},
   "source": [
    "### trestbps"
   ]
  },
  {
   "cell_type": "code",
   "execution_count": 242,
   "id": "90a935c2",
   "metadata": {},
   "outputs": [
    {
     "data": {
      "text/plain": [
       "<AxesSubplot:xlabel='trestbps', ylabel='Density'>"
      ]
     },
     "execution_count": 242,
     "metadata": {},
     "output_type": "execute_result"
    },
    {
     "data": {
      "image/png": "[encoded data removed]",
      "text/plain": [
       "<Figure size 432x288 with 1 Axes>"
      ]
     },
     "metadata": {
      "needs_background": "light"
     },
     "output_type": "display_data"
    }
   ],
   "source": [
    "sns.distplot(data['trestbps'])"
   ]
  },
  {
   "cell_type": "code",
   "execution_count": 243,
   "id": "4b80baf7",
   "metadata": {},
   "outputs": [
    {
     "data": {
      "text/plain": [
       "<AxesSubplot:xlabel='trestbps'>"
      ]
     },
     "execution_count": 243,
     "metadata": {},
     "output_type": "execute_result"
    },
    {
     "data": {
      "image/png": "[encoded data removed]",
      "text/plain": [
       "<Figure size 432x288 with 1 Axes>"
      ]
     },
     "metadata": {
      "needs_background": "light"
     },
     "output_type": "display_data"
    }
   ],
   "source": [
    "sns.boxplot(data['trestbps'])"
   ]
  },
  {
   "cell_type": "markdown",
   "id": "8ca6741f",
   "metadata": {},
   "source": [
    "### chol"
   ]
  },
  {
   "cell_type": "code",
   "execution_count": 244,
   "id": "bd826edf",
   "metadata": {},
   "outputs": [
    {
     "data": {
      "text/plain": [
       "<AxesSubplot:xlabel='chol', ylabel='Density'>"
      ]
     },
     "execution_count": 244,
     "metadata": {},
     "output_type": "execute_result"
    },
    {
     "data": {
      "image/png": "[encoded data removed]",
      "text/plain": [
       "<Figure size 432x288 with 1 Axes>"
      ]
     },
     "metadata": {
      "needs_background": "light"
     },
     "output_type": "display_data"
    }
   ],
   "source": [
    "sns.distplot(data['chol'])"
   ]
  },
  {
   "cell_type": "code",
   "execution_count": 245,
   "id": "76366adb",
   "metadata": {},
   "outputs": [
    {
     "data": {
      "text/plain": [
       "<AxesSubplot:xlabel='chol'>"
      ]
     },
     "execution_count": 245,
     "metadata": {},
     "output_type": "execute_result"
    },
    {
     "data": {
      "image/png": "[encoded data removed]",
      "text/plain": [
       "<Figure size 432x288 with 1 Axes>"
      ]
     },
     "metadata": {
      "needs_background": "light"
     },
     "output_type": "display_data"
    }
   ],
   "source": [
    "sns.boxplot(data['chol'])"
   ]
  },
  {
   "cell_type": "markdown",
   "id": "2266a279",
   "metadata": {},
   "source": [
    "### thalach"
   ]
  },
  {
   "cell_type": "code",
   "execution_count": 246,
   "id": "0f7d2730",
   "metadata": {},
   "outputs": [
    {
     "data": {
      "text/plain": [
       "<seaborn.axisgrid.FacetGrid at 0x1c0a4bf0b20>"
      ]
     },
     "execution_count": 246,
     "metadata": {},
     "output_type": "execute_result"
    },
    {
     "data": {
      "image/png": "[encoded data removed]",
      "text/plain": [
       "<Figure size 360x360 with 1 Axes>"
      ]
     },
     "metadata": {
      "needs_background": "light"
     },
     "output_type": "display_data"
    }
   ],
   "source": [
    "sns.displot(data['thalach'])"
   ]
  },
  {
   "cell_type": "code",
   "execution_count": 247,
   "id": "dca4fc1b",
   "metadata": {},
   "outputs": [
    {
     "data": {
      "text/plain": [
       "array([150, 187, 172, 178, 163, 148, 153, 173, 162, 174, 160, 139, 171,\n",
       "       144, 158, 114, 151, 161, 179, 137, 157, 123, 152, 168, 140, 188,\n",
       "       125, 170, 165, 142, 180, 143, 182, 156, 115, 149, 146, 175, 186,\n",
       "       185, 159, 130, 190, 132, 147, 154, 202, 166, 164, 184, 122, 169,\n",
       "       138, 111, 145, 194, 131, 133, 155, 167, 192, 121,  96, 126, 105,\n",
       "       181, 116, 108, 129, 120, 112, 128, 109, 113,  99, 177, 141, 136,\n",
       "        97, 127, 103, 124,  88, 195, 106,  95, 117,  71, 118, 134,  90],\n",
       "      dtype=int64)"
      ]
     },
     "execution_count": 247,
     "metadata": {},
     "output_type": "execute_result"
    }
   ],
   "source": [
    "data['thalach'].unique()"
   ]
  },
  {
   "cell_type": "code",
   "execution_count": 248,
   "id": "3fdb0e49",
   "metadata": {},
   "outputs": [
    {
     "data": {
      "text/plain": [
       "<AxesSubplot:xlabel='thalach'>"
      ]
     },
     "execution_count": 248,
     "metadata": {},
     "output_type": "execute_result"
    },
    {
     "data": {
      "image/png": "[encoded data removed]",
      "text/plain": [
       "<Figure size 432x288 with 1 Axes>"
      ]
     },
     "metadata": {
      "needs_background": "light"
     },
     "output_type": "display_data"
    }
   ],
   "source": [
    "sns.boxplot(data['thalach'])"
   ]
  },
  {
   "cell_type": "markdown",
   "id": "0ace9e2e",
   "metadata": {},
   "source": [
    "### oldpeak"
   ]
  },
  {
   "cell_type": "code",
   "execution_count": 249,
   "id": "fe9708c7",
   "metadata": {},
   "outputs": [
    {
     "data": {
      "text/plain": [
       "<seaborn.axisgrid.FacetGrid at 0x1c0a4ea2400>"
      ]
     },
     "execution_count": 249,
     "metadata": {},
     "output_type": "execute_result"
    },
    {
     "data": {
      "image/png": "[encoded data removed]",
      "text/plain": [
       "<Figure size 360x360 with 1 Axes>"
      ]
     },
     "metadata": {
      "needs_background": "light"
     },
     "output_type": "display_data"
    }
   ],
   "source": [
    "sns.displot(data['oldpeak'])"
   ]
  },
  {
   "cell_type": "code",
   "execution_count": 250,
   "id": "14f19ccf",
   "metadata": {},
   "outputs": [
    {
     "data": {
      "text/plain": [
       "<AxesSubplot:xlabel='oldpeak'>"
      ]
     },
     "execution_count": 250,
     "metadata": {},
     "output_type": "execute_result"
    },
    {
     "data": {
      "image/png": "[encoded data removed]",
      "text/plain": [
       "<Figure size 432x288 with 1 Axes>"
      ]
     },
     "metadata": {
      "needs_background": "light"
     },
     "output_type": "display_data"
    }
   ],
   "source": [
    "sns.boxplot(data['oldpeak'])"
   ]
  },
  {
   "cell_type": "markdown",
   "id": "74d87b67",
   "metadata": {},
   "source": [
    "### ca"
   ]
  },
  {
   "cell_type": "code",
   "execution_count": 251,
   "id": "39e3c2b5",
   "metadata": {},
   "outputs": [
    {
     "data": {
      "text/plain": [
       "0    175\n",
       "1     64\n",
       "2     38\n",
       "3     19\n",
       "4      5\n",
       "Name: ca, dtype: int64"
      ]
     },
     "execution_count": 251,
     "metadata": {},
     "output_type": "execute_result"
    }
   ],
   "source": [
    "data['ca'].value_counts()"
   ]
  },
  {
   "cell_type": "code",
   "execution_count": 252,
   "id": "0c3a0f41",
   "metadata": {},
   "outputs": [
    {
     "data": {
      "text/plain": [
       "<AxesSubplot:xlabel='ca', ylabel='count'>"
      ]
     },
     "execution_count": 252,
     "metadata": {},
     "output_type": "execute_result"
    },
    {
     "data": {
      "image/png": "[encoded data removed]",
      "text/plain": [
       "<Figure size 432x288 with 1 Axes>"
      ]
     },
     "metadata": {
      "needs_background": "light"
     },
     "output_type": "display_data"
    }
   ],
   "source": [
    "sns.countplot(data['ca'])"
   ]
  },
  {
   "cell_type": "markdown",
   "id": "2fc9a07a",
   "metadata": {},
   "source": [
    "### thal"
   ]
  },
  {
   "cell_type": "code",
   "execution_count": 253,
   "id": "424ad3c8",
   "metadata": {},
   "outputs": [
    {
     "data": {
      "text/plain": [
       "2    166\n",
       "3    116\n",
       "1     17\n",
       "0      2\n",
       "Name: thal, dtype: int64"
      ]
     },
     "execution_count": 253,
     "metadata": {},
     "output_type": "execute_result"
    }
   ],
   "source": [
    "data['thal'].value_counts()"
   ]
  },
  {
   "cell_type": "code",
   "execution_count": 254,
   "id": "baa8ae3d",
   "metadata": {},
   "outputs": [
    {
     "data": {
      "text/plain": [
       "<AxesSubplot:xlabel='thal', ylabel='count'>"
      ]
     },
     "execution_count": 254,
     "metadata": {},
     "output_type": "execute_result"
    },
    {
     "data": {
      "image/png": "[encoded data removed]",
      "text/plain": [
       "<Figure size 432x288 with 1 Axes>"
      ]
     },
     "metadata": {
      "needs_background": "light"
     },
     "output_type": "display_data"
    }
   ],
   "source": [
    "sns.countplot(data['thal'])"
   ]
  },
  {
   "cell_type": "markdown",
   "id": "8fad79d4",
   "metadata": {},
   "source": [
    "## `Bivariate Analysis`"
   ]
  },
  {
   "cell_type": "markdown",
   "id": "88f5dd91",
   "metadata": {},
   "source": [
    "### Variables\n",
    "#### Cat\n",
    "- sex\n",
    "- cp\n",
    "- restecg      \n",
    "- exang   \n",
    "- slope   \n",
    "- target\n",
    "\n",
    "#### Num\n",
    "- age\n",
    "- trestbps      \n",
    "- thalach\n",
    "- oldpeak    \n",
    "- chol\n",
    "- ca            \n",
    "- thal"
   ]
  },
  {
   "cell_type": "markdown",
   "id": "f6c74432",
   "metadata": {},
   "source": [
    "### `chi square test ------------------------------------`"
   ]
  },
  {
   "cell_type": "code",
   "execution_count": 255,
   "id": "3fe50888",
   "metadata": {},
   "outputs": [],
   "source": [
    "from scipy.stats import chi2_contingency\n",
    "\n",
    "def chisq_test(target,independent_col,data):\n",
    "    two_way = pd.crosstab(data[target],data[independent_col])\n",
    "    chi_test_result = chi2_contingency(two_way)\n",
    "    print(f'{independent_col} vs Target => chi-square result p-values => {chi_test_result[1]}')"
   ]
  },
  {
   "cell_type": "code",
   "execution_count": 256,
   "id": "9cbae618",
   "metadata": {},
   "outputs": [
    {
     "name": "stdout",
     "output_type": "stream",
     "text": [
      "sex vs Target => chi-square result p-values => 1.2964266836147963e-06\n",
      "cp vs Target => chi-square result p-values => 3.075704975293786e-17\n",
      "restecg vs Target => chi-square result p-values => 0.005122688403733478\n",
      "exang vs Target => chi-square result p-values => 8.056792400494411e-14\n",
      "slope vs Target => chi-square result p-values => 8.245228911355519e-11\n"
     ]
    }
   ],
   "source": [
    "for col in cat_columns:\n",
    "    chisq_test(target,col,data)"
   ]
  },
  {
   "cell_type": "markdown",
   "id": "a91f6b22",
   "metadata": {},
   "source": [
    "#### `All categorical variables are related to Target`"
   ]
  },
  {
   "cell_type": "markdown",
   "id": "e7650806",
   "metadata": {},
   "source": [
    "### `T test --------------------------------------------`"
   ]
  },
  {
   "cell_type": "code",
   "execution_count": 257,
   "id": "efdaa12a",
   "metadata": {},
   "outputs": [
    {
     "name": "stdout",
     "output_type": "stream",
     "text": [
      "age vs Target => Ttest_indResult(statistic=-3.9871055694100876, pvalue=8.413404478817881e-05)\n",
      "trestbps vs Target => Ttest_indResult(statistic=-2.62699256199571, pvalue=0.009058400662977579)\n",
      "chol vs Target => Ttest_indResult(statistic=-1.4539157853550697, pvalue=0.1470184875376515)\n",
      "thalach vs Target => Ttest_indResult(statistic=7.988466100187031, pvalue=2.9812492974359913e-14)\n",
      "oldpeak vs Target => Ttest_indResult(statistic=-8.125236640959406, pvalue=1.1894673127836083e-14)\n",
      "ca vs Target => Ttest_indResult(statistic=-7.267164641974141, pvalue=3.214935022563428e-12)\n",
      "thal vs Target => Ttest_indResult(statistic=-6.5151665570893185, pvalue=3.074540562459003e-10)\n"
     ]
    }
   ],
   "source": [
    "from scipy.stats import ttest_ind\n",
    "\n",
    "for i in cont_columns:\n",
    "    target_yes = data.loc[data['target']=='Yes',i]\n",
    "    target_no = data.loc[data['target']=='No',i]\n",
    "    ttest_results = ttest_ind(target_yes,target_no)\n",
    "    print(f'{i} vs Target => {ttest_results}')"
   ]
  },
  {
   "cell_type": "markdown",
   "id": "3e24a84c",
   "metadata": {},
   "source": [
    "#### `All numerical variables except chol are related to Target`"
   ]
  },
  {
   "cell_type": "markdown",
   "id": "75c6779a",
   "metadata": {},
   "source": [
    "### `Label Encoding`"
   ]
  },
  {
   "cell_type": "code",
   "execution_count": 258,
   "id": "867f4c2a",
   "metadata": {},
   "outputs": [
    {
     "data": {
      "text/html": [
       "<div>\n",
       "<style scoped>\n",
       "    .dataframe tbody tr th:only-of-type {\n",
       "        vertical-align: middle;\n",
       "    }\n",
       "\n",
       "    .dataframe tbody tr th {\n",
       "        vertical-align: top;\n",
       "    }\n",
       "\n",
       "    .dataframe thead th {\n",
       "        text-align: right;\n",
       "    }\n",
       "</style>\n",
       "<table border=\"1\" class=\"dataframe\">\n",
       "  <thead>\n",
       "    <tr style=\"text-align: right;\">\n",
       "      <th></th>\n",
       "      <th>age</th>\n",
       "      <th>sex</th>\n",
       "      <th>cp</th>\n",
       "      <th>trestbps</th>\n",
       "      <th>chol</th>\n",
       "      <th>fbs</th>\n",
       "      <th>restecg</th>\n",
       "      <th>thalach</th>\n",
       "      <th>exang</th>\n",
       "      <th>oldpeak</th>\n",
       "      <th>slope</th>\n",
       "      <th>ca</th>\n",
       "      <th>thal</th>\n",
       "      <th>target</th>\n",
       "    </tr>\n",
       "  </thead>\n",
       "  <tbody>\n",
       "    <tr>\n",
       "      <th>0</th>\n",
       "      <td>63</td>\n",
       "      <td>1</td>\n",
       "      <td>asymptomatic</td>\n",
       "      <td>145</td>\n",
       "      <td>233</td>\n",
       "      <td>1</td>\n",
       "      <td>0</td>\n",
       "      <td>150</td>\n",
       "      <td>0</td>\n",
       "      <td>2.3</td>\n",
       "      <td>Up_Sloping</td>\n",
       "      <td>0</td>\n",
       "      <td>1</td>\n",
       "      <td>1</td>\n",
       "    </tr>\n",
       "    <tr>\n",
       "      <th>1</th>\n",
       "      <td>37</td>\n",
       "      <td>1</td>\n",
       "      <td>non-anginal pain</td>\n",
       "      <td>130</td>\n",
       "      <td>250</td>\n",
       "      <td>0</td>\n",
       "      <td>1</td>\n",
       "      <td>187</td>\n",
       "      <td>0</td>\n",
       "      <td>3.5</td>\n",
       "      <td>Up_Sloping</td>\n",
       "      <td>0</td>\n",
       "      <td>2</td>\n",
       "      <td>1</td>\n",
       "    </tr>\n",
       "    <tr>\n",
       "      <th>2</th>\n",
       "      <td>41</td>\n",
       "      <td>0</td>\n",
       "      <td>atypical angina</td>\n",
       "      <td>130</td>\n",
       "      <td>204</td>\n",
       "      <td>0</td>\n",
       "      <td>0</td>\n",
       "      <td>172</td>\n",
       "      <td>0</td>\n",
       "      <td>1.4</td>\n",
       "      <td>Down_Sloping</td>\n",
       "      <td>0</td>\n",
       "      <td>2</td>\n",
       "      <td>1</td>\n",
       "    </tr>\n",
       "    <tr>\n",
       "      <th>3</th>\n",
       "      <td>56</td>\n",
       "      <td>1</td>\n",
       "      <td>atypical angina</td>\n",
       "      <td>120</td>\n",
       "      <td>236</td>\n",
       "      <td>0</td>\n",
       "      <td>1</td>\n",
       "      <td>178</td>\n",
       "      <td>0</td>\n",
       "      <td>0.8</td>\n",
       "      <td>Down_Sloping</td>\n",
       "      <td>0</td>\n",
       "      <td>2</td>\n",
       "      <td>1</td>\n",
       "    </tr>\n",
       "    <tr>\n",
       "      <th>4</th>\n",
       "      <td>57</td>\n",
       "      <td>0</td>\n",
       "      <td>typical angina</td>\n",
       "      <td>120</td>\n",
       "      <td>354</td>\n",
       "      <td>0</td>\n",
       "      <td>1</td>\n",
       "      <td>163</td>\n",
       "      <td>1</td>\n",
       "      <td>0.6</td>\n",
       "      <td>Down_Sloping</td>\n",
       "      <td>0</td>\n",
       "      <td>2</td>\n",
       "      <td>1</td>\n",
       "    </tr>\n",
       "    <tr>\n",
       "      <th>...</th>\n",
       "      <td>...</td>\n",
       "      <td>...</td>\n",
       "      <td>...</td>\n",
       "      <td>...</td>\n",
       "      <td>...</td>\n",
       "      <td>...</td>\n",
       "      <td>...</td>\n",
       "      <td>...</td>\n",
       "      <td>...</td>\n",
       "      <td>...</td>\n",
       "      <td>...</td>\n",
       "      <td>...</td>\n",
       "      <td>...</td>\n",
       "      <td>...</td>\n",
       "    </tr>\n",
       "    <tr>\n",
       "      <th>298</th>\n",
       "      <td>57</td>\n",
       "      <td>0</td>\n",
       "      <td>typical angina</td>\n",
       "      <td>140</td>\n",
       "      <td>241</td>\n",
       "      <td>0</td>\n",
       "      <td>1</td>\n",
       "      <td>123</td>\n",
       "      <td>1</td>\n",
       "      <td>0.2</td>\n",
       "      <td>Flat</td>\n",
       "      <td>0</td>\n",
       "      <td>3</td>\n",
       "      <td>0</td>\n",
       "    </tr>\n",
       "    <tr>\n",
       "      <th>299</th>\n",
       "      <td>45</td>\n",
       "      <td>1</td>\n",
       "      <td>asymptomatic</td>\n",
       "      <td>110</td>\n",
       "      <td>264</td>\n",
       "      <td>0</td>\n",
       "      <td>1</td>\n",
       "      <td>132</td>\n",
       "      <td>0</td>\n",
       "      <td>1.2</td>\n",
       "      <td>Flat</td>\n",
       "      <td>0</td>\n",
       "      <td>3</td>\n",
       "      <td>0</td>\n",
       "    </tr>\n",
       "    <tr>\n",
       "      <th>300</th>\n",
       "      <td>68</td>\n",
       "      <td>1</td>\n",
       "      <td>typical angina</td>\n",
       "      <td>144</td>\n",
       "      <td>193</td>\n",
       "      <td>1</td>\n",
       "      <td>1</td>\n",
       "      <td>141</td>\n",
       "      <td>0</td>\n",
       "      <td>3.4</td>\n",
       "      <td>Flat</td>\n",
       "      <td>2</td>\n",
       "      <td>3</td>\n",
       "      <td>0</td>\n",
       "    </tr>\n",
       "    <tr>\n",
       "      <th>301</th>\n",
       "      <td>57</td>\n",
       "      <td>1</td>\n",
       "      <td>typical angina</td>\n",
       "      <td>130</td>\n",
       "      <td>131</td>\n",
       "      <td>0</td>\n",
       "      <td>1</td>\n",
       "      <td>115</td>\n",
       "      <td>1</td>\n",
       "      <td>1.2</td>\n",
       "      <td>Flat</td>\n",
       "      <td>1</td>\n",
       "      <td>3</td>\n",
       "      <td>0</td>\n",
       "    </tr>\n",
       "    <tr>\n",
       "      <th>302</th>\n",
       "      <td>57</td>\n",
       "      <td>0</td>\n",
       "      <td>atypical angina</td>\n",
       "      <td>130</td>\n",
       "      <td>236</td>\n",
       "      <td>0</td>\n",
       "      <td>0</td>\n",
       "      <td>174</td>\n",
       "      <td>0</td>\n",
       "      <td>0.0</td>\n",
       "      <td>Flat</td>\n",
       "      <td>1</td>\n",
       "      <td>2</td>\n",
       "      <td>0</td>\n",
       "    </tr>\n",
       "  </tbody>\n",
       "</table>\n",
       "<p>301 rows × 14 columns</p>\n",
       "</div>"
      ],
      "text/plain": [
       "     age  sex                 cp  trestbps  chol  fbs  restecg  thalach  \\\n",
       "0     63    1       asymptomatic       145   233    1        0      150   \n",
       "1     37    1   non-anginal pain       130   250    0        1      187   \n",
       "2     41    0    atypical angina       130   204    0        0      172   \n",
       "3     56    1    atypical angina       120   236    0        1      178   \n",
       "4     57    0     typical angina       120   354    0        1      163   \n",
       "..   ...  ...                ...       ...   ...  ...      ...      ...   \n",
       "298   57    0     typical angina       140   241    0        1      123   \n",
       "299   45    1       asymptomatic       110   264    0        1      132   \n",
       "300   68    1     typical angina       144   193    1        1      141   \n",
       "301   57    1     typical angina       130   131    0        1      115   \n",
       "302   57    0    atypical angina       130   236    0        0      174   \n",
       "\n",
       "     exang  oldpeak         slope  ca  thal  target  \n",
       "0        0      2.3    Up_Sloping   0     1       1  \n",
       "1        0      3.5    Up_Sloping   0     2       1  \n",
       "2        0      1.4  Down_Sloping   0     2       1  \n",
       "3        0      0.8  Down_Sloping   0     2       1  \n",
       "4        1      0.6  Down_Sloping   0     2       1  \n",
       "..     ...      ...           ...  ..   ...     ...  \n",
       "298      1      0.2          Flat   0     3       0  \n",
       "299      0      1.2          Flat   0     3       0  \n",
       "300      0      3.4          Flat   2     3       0  \n",
       "301      1      1.2          Flat   1     3       0  \n",
       "302      0      0.0          Flat   1     2       0  \n",
       "\n",
       "[301 rows x 14 columns]"
      ]
     },
     "execution_count": 258,
     "metadata": {},
     "output_type": "execute_result"
    }
   ],
   "source": [
    "from sklearn.preprocessing import LabelEncoder\n",
    "\n",
    "binary = ['sex','fbs','restecg','exang','target']\n",
    "le = LabelEncoder()\n",
    "for i in binary:\n",
    "    data[i] = le.fit_transform(data[i])\n",
    "data"
   ]
  },
  {
   "cell_type": "markdown",
   "id": "10424cbe",
   "metadata": {},
   "source": [
    "### `One hot encoding`"
   ]
  },
  {
   "cell_type": "code",
   "execution_count": 259,
   "id": "f065d1db",
   "metadata": {},
   "outputs": [
    {
     "data": {
      "text/html": [
       "<div>\n",
       "<style scoped>\n",
       "    .dataframe tbody tr th:only-of-type {\n",
       "        vertical-align: middle;\n",
       "    }\n",
       "\n",
       "    .dataframe tbody tr th {\n",
       "        vertical-align: top;\n",
       "    }\n",
       "\n",
       "    .dataframe thead th {\n",
       "        text-align: right;\n",
       "    }\n",
       "</style>\n",
       "<table border=\"1\" class=\"dataframe\">\n",
       "  <thead>\n",
       "    <tr style=\"text-align: right;\">\n",
       "      <th></th>\n",
       "      <th>age</th>\n",
       "      <th>sex</th>\n",
       "      <th>trestbps</th>\n",
       "      <th>chol</th>\n",
       "      <th>fbs</th>\n",
       "      <th>restecg</th>\n",
       "      <th>thalach</th>\n",
       "      <th>exang</th>\n",
       "      <th>oldpeak</th>\n",
       "      <th>ca</th>\n",
       "      <th>thal</th>\n",
       "      <th>target</th>\n",
       "      <th>cp_ non-anginal pain</th>\n",
       "      <th>cp_ typical angina</th>\n",
       "      <th>cp_asymptomatic</th>\n",
       "      <th>cp_atypical angina</th>\n",
       "      <th>slope_Down_Sloping</th>\n",
       "      <th>slope_Flat</th>\n",
       "      <th>slope_Up_Sloping</th>\n",
       "    </tr>\n",
       "  </thead>\n",
       "  <tbody>\n",
       "    <tr>\n",
       "      <th>0</th>\n",
       "      <td>63</td>\n",
       "      <td>1</td>\n",
       "      <td>145</td>\n",
       "      <td>233</td>\n",
       "      <td>1</td>\n",
       "      <td>0</td>\n",
       "      <td>150</td>\n",
       "      <td>0</td>\n",
       "      <td>2.3</td>\n",
       "      <td>0</td>\n",
       "      <td>1</td>\n",
       "      <td>1</td>\n",
       "      <td>0</td>\n",
       "      <td>0</td>\n",
       "      <td>1</td>\n",
       "      <td>0</td>\n",
       "      <td>0</td>\n",
       "      <td>0</td>\n",
       "      <td>1</td>\n",
       "    </tr>\n",
       "    <tr>\n",
       "      <th>1</th>\n",
       "      <td>37</td>\n",
       "      <td>1</td>\n",
       "      <td>130</td>\n",
       "      <td>250</td>\n",
       "      <td>0</td>\n",
       "      <td>1</td>\n",
       "      <td>187</td>\n",
       "      <td>0</td>\n",
       "      <td>3.5</td>\n",
       "      <td>0</td>\n",
       "      <td>2</td>\n",
       "      <td>1</td>\n",
       "      <td>1</td>\n",
       "      <td>0</td>\n",
       "      <td>0</td>\n",
       "      <td>0</td>\n",
       "      <td>0</td>\n",
       "      <td>0</td>\n",
       "      <td>1</td>\n",
       "    </tr>\n",
       "    <tr>\n",
       "      <th>2</th>\n",
       "      <td>41</td>\n",
       "      <td>0</td>\n",
       "      <td>130</td>\n",
       "      <td>204</td>\n",
       "      <td>0</td>\n",
       "      <td>0</td>\n",
       "      <td>172</td>\n",
       "      <td>0</td>\n",
       "      <td>1.4</td>\n",
       "      <td>0</td>\n",
       "      <td>2</td>\n",
       "      <td>1</td>\n",
       "      <td>0</td>\n",
       "      <td>0</td>\n",
       "      <td>0</td>\n",
       "      <td>1</td>\n",
       "      <td>1</td>\n",
       "      <td>0</td>\n",
       "      <td>0</td>\n",
       "    </tr>\n",
       "    <tr>\n",
       "      <th>3</th>\n",
       "      <td>56</td>\n",
       "      <td>1</td>\n",
       "      <td>120</td>\n",
       "      <td>236</td>\n",
       "      <td>0</td>\n",
       "      <td>1</td>\n",
       "      <td>178</td>\n",
       "      <td>0</td>\n",
       "      <td>0.8</td>\n",
       "      <td>0</td>\n",
       "      <td>2</td>\n",
       "      <td>1</td>\n",
       "      <td>0</td>\n",
       "      <td>0</td>\n",
       "      <td>0</td>\n",
       "      <td>1</td>\n",
       "      <td>1</td>\n",
       "      <td>0</td>\n",
       "      <td>0</td>\n",
       "    </tr>\n",
       "    <tr>\n",
       "      <th>4</th>\n",
       "      <td>57</td>\n",
       "      <td>0</td>\n",
       "      <td>120</td>\n",
       "      <td>354</td>\n",
       "      <td>0</td>\n",
       "      <td>1</td>\n",
       "      <td>163</td>\n",
       "      <td>1</td>\n",
       "      <td>0.6</td>\n",
       "      <td>0</td>\n",
       "      <td>2</td>\n",
       "      <td>1</td>\n",
       "      <td>0</td>\n",
       "      <td>1</td>\n",
       "      <td>0</td>\n",
       "      <td>0</td>\n",
       "      <td>1</td>\n",
       "      <td>0</td>\n",
       "      <td>0</td>\n",
       "    </tr>\n",
       "    <tr>\n",
       "      <th>...</th>\n",
       "      <td>...</td>\n",
       "      <td>...</td>\n",
       "      <td>...</td>\n",
       "      <td>...</td>\n",
       "      <td>...</td>\n",
       "      <td>...</td>\n",
       "      <td>...</td>\n",
       "      <td>...</td>\n",
       "      <td>...</td>\n",
       "      <td>...</td>\n",
       "      <td>...</td>\n",
       "      <td>...</td>\n",
       "      <td>...</td>\n",
       "      <td>...</td>\n",
       "      <td>...</td>\n",
       "      <td>...</td>\n",
       "      <td>...</td>\n",
       "      <td>...</td>\n",
       "      <td>...</td>\n",
       "    </tr>\n",
       "    <tr>\n",
       "      <th>298</th>\n",
       "      <td>57</td>\n",
       "      <td>0</td>\n",
       "      <td>140</td>\n",
       "      <td>241</td>\n",
       "      <td>0</td>\n",
       "      <td>1</td>\n",
       "      <td>123</td>\n",
       "      <td>1</td>\n",
       "      <td>0.2</td>\n",
       "      <td>0</td>\n",
       "      <td>3</td>\n",
       "      <td>0</td>\n",
       "      <td>0</td>\n",
       "      <td>1</td>\n",
       "      <td>0</td>\n",
       "      <td>0</td>\n",
       "      <td>0</td>\n",
       "      <td>1</td>\n",
       "      <td>0</td>\n",
       "    </tr>\n",
       "    <tr>\n",
       "      <th>299</th>\n",
       "      <td>45</td>\n",
       "      <td>1</td>\n",
       "      <td>110</td>\n",
       "      <td>264</td>\n",
       "      <td>0</td>\n",
       "      <td>1</td>\n",
       "      <td>132</td>\n",
       "      <td>0</td>\n",
       "      <td>1.2</td>\n",
       "      <td>0</td>\n",
       "      <td>3</td>\n",
       "      <td>0</td>\n",
       "      <td>0</td>\n",
       "      <td>0</td>\n",
       "      <td>1</td>\n",
       "      <td>0</td>\n",
       "      <td>0</td>\n",
       "      <td>1</td>\n",
       "      <td>0</td>\n",
       "    </tr>\n",
       "    <tr>\n",
       "      <th>300</th>\n",
       "      <td>68</td>\n",
       "      <td>1</td>\n",
       "      <td>144</td>\n",
       "      <td>193</td>\n",
       "      <td>1</td>\n",
       "      <td>1</td>\n",
       "      <td>141</td>\n",
       "      <td>0</td>\n",
       "      <td>3.4</td>\n",
       "      <td>2</td>\n",
       "      <td>3</td>\n",
       "      <td>0</td>\n",
       "      <td>0</td>\n",
       "      <td>1</td>\n",
       "      <td>0</td>\n",
       "      <td>0</td>\n",
       "      <td>0</td>\n",
       "      <td>1</td>\n",
       "      <td>0</td>\n",
       "    </tr>\n",
       "    <tr>\n",
       "      <th>301</th>\n",
       "      <td>57</td>\n",
       "      <td>1</td>\n",
       "      <td>130</td>\n",
       "      <td>131</td>\n",
       "      <td>0</td>\n",
       "      <td>1</td>\n",
       "      <td>115</td>\n",
       "      <td>1</td>\n",
       "      <td>1.2</td>\n",
       "      <td>1</td>\n",
       "      <td>3</td>\n",
       "      <td>0</td>\n",
       "      <td>0</td>\n",
       "      <td>1</td>\n",
       "      <td>0</td>\n",
       "      <td>0</td>\n",
       "      <td>0</td>\n",
       "      <td>1</td>\n",
       "      <td>0</td>\n",
       "    </tr>\n",
       "    <tr>\n",
       "      <th>302</th>\n",
       "      <td>57</td>\n",
       "      <td>0</td>\n",
       "      <td>130</td>\n",
       "      <td>236</td>\n",
       "      <td>0</td>\n",
       "      <td>0</td>\n",
       "      <td>174</td>\n",
       "      <td>0</td>\n",
       "      <td>0.0</td>\n",
       "      <td>1</td>\n",
       "      <td>2</td>\n",
       "      <td>0</td>\n",
       "      <td>0</td>\n",
       "      <td>0</td>\n",
       "      <td>0</td>\n",
       "      <td>1</td>\n",
       "      <td>0</td>\n",
       "      <td>1</td>\n",
       "      <td>0</td>\n",
       "    </tr>\n",
       "  </tbody>\n",
       "</table>\n",
       "<p>301 rows × 19 columns</p>\n",
       "</div>"
      ],
      "text/plain": [
       "     age  sex  trestbps  chol  fbs  restecg  thalach  exang  oldpeak  ca  \\\n",
       "0     63    1       145   233    1        0      150      0      2.3   0   \n",
       "1     37    1       130   250    0        1      187      0      3.5   0   \n",
       "2     41    0       130   204    0        0      172      0      1.4   0   \n",
       "3     56    1       120   236    0        1      178      0      0.8   0   \n",
       "4     57    0       120   354    0        1      163      1      0.6   0   \n",
       "..   ...  ...       ...   ...  ...      ...      ...    ...      ...  ..   \n",
       "298   57    0       140   241    0        1      123      1      0.2   0   \n",
       "299   45    1       110   264    0        1      132      0      1.2   0   \n",
       "300   68    1       144   193    1        1      141      0      3.4   2   \n",
       "301   57    1       130   131    0        1      115      1      1.2   1   \n",
       "302   57    0       130   236    0        0      174      0      0.0   1   \n",
       "\n",
       "     thal  target  cp_ non-anginal pain  cp_ typical angina  cp_asymptomatic  \\\n",
       "0       1       1                     0                   0                1   \n",
       "1       2       1                     1                   0                0   \n",
       "2       2       1                     0                   0                0   \n",
       "3       2       1                     0                   0                0   \n",
       "4       2       1                     0                   1                0   \n",
       "..    ...     ...                   ...                 ...              ...   \n",
       "298     3       0                     0                   1                0   \n",
       "299     3       0                     0                   0                1   \n",
       "300     3       0                     0                   1                0   \n",
       "301     3       0                     0                   1                0   \n",
       "302     2       0                     0                   0                0   \n",
       "\n",
       "     cp_atypical angina  slope_Down_Sloping  slope_Flat  slope_Up_Sloping  \n",
       "0                     0                   0           0                 1  \n",
       "1                     0                   0           0                 1  \n",
       "2                     1                   1           0                 0  \n",
       "3                     1                   1           0                 0  \n",
       "4                     0                   1           0                 0  \n",
       "..                  ...                 ...         ...               ...  \n",
       "298                   0                   0           1                 0  \n",
       "299                   0                   0           1                 0  \n",
       "300                   0                   0           1                 0  \n",
       "301                   0                   0           1                 0  \n",
       "302                   1                   0           1                 0  \n",
       "\n",
       "[301 rows x 19 columns]"
      ]
     },
     "execution_count": 259,
     "metadata": {},
     "output_type": "execute_result"
    }
   ],
   "source": [
    "data = pd.get_dummies(data, columns = ['cp', 'slope'])\n",
    "data"
   ]
  },
  {
   "cell_type": "code",
   "execution_count": 260,
   "id": "63892ea4",
   "metadata": {},
   "outputs": [
    {
     "data": {
      "text/plain": [
       "Index(['age', 'sex', 'trestbps', 'chol', 'fbs', 'restecg', 'thalach', 'exang',\n",
       "       'oldpeak', 'ca', 'thal', 'target', 'cp_ non-anginal pain',\n",
       "       'cp_ typical angina', 'cp_asymptomatic', 'cp_atypical angina',\n",
       "       'slope_Down_Sloping', 'slope_Flat', 'slope_Up_Sloping'],\n",
       "      dtype='object')"
      ]
     },
     "execution_count": 260,
     "metadata": {},
     "output_type": "execute_result"
    }
   ],
   "source": [
    "data.columns"
   ]
  },
  {
   "cell_type": "markdown",
   "id": "a90f4537",
   "metadata": {},
   "source": [
    "### Split the data into X and y"
   ]
  },
  {
   "cell_type": "code",
   "execution_count": 261,
   "id": "31e2fd9d",
   "metadata": {},
   "outputs": [],
   "source": [
    "X = data.drop(['target'],axis=1)\n",
    "y = data['target']"
   ]
  },
  {
   "cell_type": "markdown",
   "id": "4a1fcac0",
   "metadata": {},
   "source": [
    "## `Multicollinearity ---------------------------------------`"
   ]
  },
  {
   "cell_type": "code",
   "execution_count": 262,
   "id": "13533e23",
   "metadata": {},
   "outputs": [],
   "source": [
    "from statsmodels.stats.outliers_influence import variance_inflation_factor # to check multicollinearity\n",
    "\n",
    "\n",
    "### function of vif\n",
    "def cal_vif(X):\n",
    "    vif=pd.DataFrame()\n",
    "    vif['var']=X.columns\n",
    "    vif['VIF']=[variance_inflation_factor(X.values,i) for i in range(X.shape[1])]\n",
    "    vif['VIF'] = round(vif['VIF'], 2)\n",
    "    vif = vif.sort_values(by = \"VIF\", ascending = False)\n",
    "    return(vif)"
   ]
  },
  {
   "cell_type": "markdown",
   "id": "ae1c4d4e",
   "metadata": {},
   "source": [
    "### Categorical columns"
   ]
  },
  {
   "cell_type": "code",
   "execution_count": 263,
   "id": "f1bc8bc1",
   "metadata": {},
   "outputs": [],
   "source": [
    "cat = X[['cp_ non-anginal pain',\n",
    "       'cp_ typical angina', 'cp_asymptomatic', 'cp_atypical angina',\n",
    "       'slope_Down_Sloping', 'slope_Flat', 'slope_Up_Sloping','sex','fbs','exang','restecg']]"
   ]
  },
  {
   "cell_type": "code",
   "execution_count": 264,
   "id": "48acec44",
   "metadata": {},
   "outputs": [
    {
     "data": {
      "text/html": [
       "<div>\n",
       "<style scoped>\n",
       "    .dataframe tbody tr th:only-of-type {\n",
       "        vertical-align: middle;\n",
       "    }\n",
       "\n",
       "    .dataframe tbody tr th {\n",
       "        vertical-align: top;\n",
       "    }\n",
       "\n",
       "    .dataframe thead th {\n",
       "        text-align: right;\n",
       "    }\n",
       "</style>\n",
       "<table border=\"1\" class=\"dataframe\">\n",
       "  <thead>\n",
       "    <tr style=\"text-align: right;\">\n",
       "      <th></th>\n",
       "      <th>var</th>\n",
       "      <th>VIF</th>\n",
       "    </tr>\n",
       "  </thead>\n",
       "  <tbody>\n",
       "    <tr>\n",
       "      <th>0</th>\n",
       "      <td>cp_ non-anginal pain</td>\n",
       "      <td>inf</td>\n",
       "    </tr>\n",
       "    <tr>\n",
       "      <th>1</th>\n",
       "      <td>cp_ typical angina</td>\n",
       "      <td>inf</td>\n",
       "    </tr>\n",
       "    <tr>\n",
       "      <th>2</th>\n",
       "      <td>cp_asymptomatic</td>\n",
       "      <td>inf</td>\n",
       "    </tr>\n",
       "    <tr>\n",
       "      <th>3</th>\n",
       "      <td>cp_atypical angina</td>\n",
       "      <td>inf</td>\n",
       "    </tr>\n",
       "    <tr>\n",
       "      <th>4</th>\n",
       "      <td>slope_Down_Sloping</td>\n",
       "      <td>inf</td>\n",
       "    </tr>\n",
       "    <tr>\n",
       "      <th>5</th>\n",
       "      <td>slope_Flat</td>\n",
       "      <td>inf</td>\n",
       "    </tr>\n",
       "    <tr>\n",
       "      <th>6</th>\n",
       "      <td>slope_Up_Sloping</td>\n",
       "      <td>inf</td>\n",
       "    </tr>\n",
       "    <tr>\n",
       "      <th>9</th>\n",
       "      <td>exang</td>\n",
       "      <td>1.36</td>\n",
       "    </tr>\n",
       "    <tr>\n",
       "      <th>7</th>\n",
       "      <td>sex</td>\n",
       "      <td>1.04</td>\n",
       "    </tr>\n",
       "    <tr>\n",
       "      <th>10</th>\n",
       "      <td>restecg</td>\n",
       "      <td>1.04</td>\n",
       "    </tr>\n",
       "    <tr>\n",
       "      <th>8</th>\n",
       "      <td>fbs</td>\n",
       "      <td>1.03</td>\n",
       "    </tr>\n",
       "  </tbody>\n",
       "</table>\n",
       "</div>"
      ],
      "text/plain": [
       "                     var   VIF\n",
       "0   cp_ non-anginal pain   inf\n",
       "1     cp_ typical angina   inf\n",
       "2        cp_asymptomatic   inf\n",
       "3     cp_atypical angina   inf\n",
       "4     slope_Down_Sloping   inf\n",
       "5             slope_Flat   inf\n",
       "6       slope_Up_Sloping   inf\n",
       "9                  exang  1.36\n",
       "7                    sex  1.04\n",
       "10               restecg  1.04\n",
       "8                    fbs  1.03"
      ]
     },
     "execution_count": 264,
     "metadata": {},
     "output_type": "execute_result"
    }
   ],
   "source": [
    "cal_vif(cat)"
   ]
  },
  {
   "cell_type": "markdown",
   "id": "853c77bc",
   "metadata": {},
   "source": [
    "### drop redundant column values"
   ]
  },
  {
   "cell_type": "code",
   "execution_count": 265,
   "id": "5bbe8eb2",
   "metadata": {},
   "outputs": [],
   "source": [
    "cat = X[['cp_ non-anginal pain',\n",
    "       'cp_ typical angina', 'cp_asymptomatic',\n",
    "       'slope_Down_Sloping', 'slope_Flat', 'sex','fbs','exang','restecg']]"
   ]
  },
  {
   "cell_type": "code",
   "execution_count": 266,
   "id": "86421488",
   "metadata": {},
   "outputs": [
    {
     "data": {
      "text/html": [
       "<div>\n",
       "<style scoped>\n",
       "    .dataframe tbody tr th:only-of-type {\n",
       "        vertical-align: middle;\n",
       "    }\n",
       "\n",
       "    .dataframe tbody tr th {\n",
       "        vertical-align: top;\n",
       "    }\n",
       "\n",
       "    .dataframe thead th {\n",
       "        text-align: right;\n",
       "    }\n",
       "</style>\n",
       "<table border=\"1\" class=\"dataframe\">\n",
       "  <thead>\n",
       "    <tr style=\"text-align: right;\">\n",
       "      <th></th>\n",
       "      <th>var</th>\n",
       "      <th>VIF</th>\n",
       "    </tr>\n",
       "  </thead>\n",
       "  <tbody>\n",
       "    <tr>\n",
       "      <th>1</th>\n",
       "      <td>cp_ typical angina</td>\n",
       "      <td>3.86</td>\n",
       "    </tr>\n",
       "    <tr>\n",
       "      <th>4</th>\n",
       "      <td>slope_Flat</td>\n",
       "      <td>3.74</td>\n",
       "    </tr>\n",
       "    <tr>\n",
       "      <th>3</th>\n",
       "      <td>slope_Down_Sloping</td>\n",
       "      <td>3.40</td>\n",
       "    </tr>\n",
       "    <tr>\n",
       "      <th>5</th>\n",
       "      <td>sex</td>\n",
       "      <td>3.05</td>\n",
       "    </tr>\n",
       "    <tr>\n",
       "      <th>0</th>\n",
       "      <td>cp_ non-anginal pain</td>\n",
       "      <td>2.32</td>\n",
       "    </tr>\n",
       "    <tr>\n",
       "      <th>8</th>\n",
       "      <td>restecg</td>\n",
       "      <td>2.04</td>\n",
       "    </tr>\n",
       "    <tr>\n",
       "      <th>7</th>\n",
       "      <td>exang</td>\n",
       "      <td>2.01</td>\n",
       "    </tr>\n",
       "    <tr>\n",
       "      <th>2</th>\n",
       "      <td>cp_asymptomatic</td>\n",
       "      <td>1.36</td>\n",
       "    </tr>\n",
       "    <tr>\n",
       "      <th>6</th>\n",
       "      <td>fbs</td>\n",
       "      <td>1.19</td>\n",
       "    </tr>\n",
       "  </tbody>\n",
       "</table>\n",
       "</div>"
      ],
      "text/plain": [
       "                    var   VIF\n",
       "1    cp_ typical angina  3.86\n",
       "4            slope_Flat  3.74\n",
       "3    slope_Down_Sloping  3.40\n",
       "5                   sex  3.05\n",
       "0  cp_ non-anginal pain  2.32\n",
       "8               restecg  2.04\n",
       "7                 exang  2.01\n",
       "2       cp_asymptomatic  1.36\n",
       "6                   fbs  1.19"
      ]
     },
     "execution_count": 266,
     "metadata": {},
     "output_type": "execute_result"
    }
   ],
   "source": [
    "cal_vif(cat)"
   ]
  },
  {
   "cell_type": "markdown",
   "id": "80064bb2",
   "metadata": {},
   "source": [
    "### These categorical columns are perfect, without multicollinearity"
   ]
  },
  {
   "cell_type": "markdown",
   "id": "93500bad",
   "metadata": {},
   "source": [
    "### Numerical Columns"
   ]
  },
  {
   "cell_type": "code",
   "execution_count": 267,
   "id": "5846265a",
   "metadata": {},
   "outputs": [],
   "source": [
    "num = X[cont_columns]"
   ]
  },
  {
   "cell_type": "code",
   "execution_count": 268,
   "id": "8a0f1643",
   "metadata": {},
   "outputs": [
    {
     "data": {
      "text/html": [
       "<div>\n",
       "<style scoped>\n",
       "    .dataframe tbody tr th:only-of-type {\n",
       "        vertical-align: middle;\n",
       "    }\n",
       "\n",
       "    .dataframe tbody tr th {\n",
       "        vertical-align: top;\n",
       "    }\n",
       "\n",
       "    .dataframe thead th {\n",
       "        text-align: right;\n",
       "    }\n",
       "</style>\n",
       "<table border=\"1\" class=\"dataframe\">\n",
       "  <thead>\n",
       "    <tr style=\"text-align: right;\">\n",
       "      <th></th>\n",
       "      <th>var</th>\n",
       "      <th>VIF</th>\n",
       "    </tr>\n",
       "  </thead>\n",
       "  <tbody>\n",
       "    <tr>\n",
       "      <th>1</th>\n",
       "      <td>trestbps</td>\n",
       "      <td>56.71</td>\n",
       "    </tr>\n",
       "    <tr>\n",
       "      <th>0</th>\n",
       "      <td>age</td>\n",
       "      <td>38.31</td>\n",
       "    </tr>\n",
       "    <tr>\n",
       "      <th>3</th>\n",
       "      <td>thalach</td>\n",
       "      <td>31.52</td>\n",
       "    </tr>\n",
       "    <tr>\n",
       "      <th>2</th>\n",
       "      <td>chol</td>\n",
       "      <td>24.79</td>\n",
       "    </tr>\n",
       "    <tr>\n",
       "      <th>6</th>\n",
       "      <td>thal</td>\n",
       "      <td>15.75</td>\n",
       "    </tr>\n",
       "    <tr>\n",
       "      <th>4</th>\n",
       "      <td>oldpeak</td>\n",
       "      <td>2.24</td>\n",
       "    </tr>\n",
       "    <tr>\n",
       "      <th>5</th>\n",
       "      <td>ca</td>\n",
       "      <td>1.70</td>\n",
       "    </tr>\n",
       "  </tbody>\n",
       "</table>\n",
       "</div>"
      ],
      "text/plain": [
       "        var    VIF\n",
       "1  trestbps  56.71\n",
       "0       age  38.31\n",
       "3   thalach  31.52\n",
       "2      chol  24.79\n",
       "6      thal  15.75\n",
       "4   oldpeak   2.24\n",
       "5        ca   1.70"
      ]
     },
     "execution_count": 268,
     "metadata": {},
     "output_type": "execute_result"
    }
   ],
   "source": [
    "cal_vif(num)"
   ]
  },
  {
   "cell_type": "code",
   "execution_count": 269,
   "id": "3d98930c",
   "metadata": {},
   "outputs": [
    {
     "data": {
      "text/plain": [
       "const       1.749598e-01\n",
       "age         4.425918e-01\n",
       "trestbps    2.295410e-01\n",
       "chol        5.043931e-01\n",
       "thalach     1.601356e-07\n",
       "oldpeak     2.311374e-05\n",
       "ca          6.648490e-07\n",
       "thal        2.622417e-06\n",
       "dtype: float64"
      ]
     },
     "execution_count": 269,
     "metadata": {},
     "output_type": "execute_result"
    }
   ],
   "source": [
    "import statsmodels.api as sm\n",
    "X_num  = sm.add_constant(num)\n",
    "ols_model = sm.OLS(y,X_num)\n",
    "ols_model = ols_model.fit()\n",
    "ols_model.pvalues"
   ]
  },
  {
   "cell_type": "markdown",
   "id": "d8d573c9",
   "metadata": {},
   "source": [
    "### I will not drop any numerical column, because p-value is too low "
   ]
  },
  {
   "cell_type": "code",
   "execution_count": 271,
   "id": "c60b6dee",
   "metadata": {},
   "outputs": [],
   "source": [
    "X = data[['age', 'trestbps', 'chol', 'thalach', 'oldpeak', 'ca', 'thal','cp_ non-anginal pain',\n",
    "       'cp_ typical angina', 'cp_asymptomatic',\n",
    "       'slope_Down_Sloping', 'slope_Flat', 'sex','fbs','exang','restecg']]\n",
    "y = data['target']"
   ]
  },
  {
   "cell_type": "markdown",
   "id": "08ee6bde",
   "metadata": {},
   "source": [
    "### Split the data"
   ]
  },
  {
   "cell_type": "code",
   "execution_count": 272,
   "id": "977522a9",
   "metadata": {},
   "outputs": [],
   "source": [
    "from sklearn.model_selection import train_test_split\n",
    "X_train,X_test, y_train, y_test = train_test_split(X,y,test_size=0.20,random_state=42)"
   ]
  },
  {
   "cell_type": "markdown",
   "id": "dffdc201",
   "metadata": {},
   "source": [
    "### Model"
   ]
  },
  {
   "cell_type": "code",
   "execution_count": 273,
   "id": "7b63c270",
   "metadata": {},
   "outputs": [
    {
     "data": {
      "text/plain": [
       "LogisticRegression()"
      ]
     },
     "execution_count": 273,
     "metadata": {},
     "output_type": "execute_result"
    }
   ],
   "source": [
    "from sklearn.linear_model import LogisticRegression\n",
    "model = LogisticRegression()\n",
    "model.fit(X_train,y_train)"
   ]
  },
  {
   "cell_type": "code",
   "execution_count": 274,
   "id": "13ff83fe",
   "metadata": {},
   "outputs": [],
   "source": [
    "y_pred = model.predict(X_test)"
   ]
  },
  {
   "cell_type": "markdown",
   "id": "49c38702",
   "metadata": {},
   "source": [
    "### `it's coming wrng -----------------------------------------------------`"
   ]
  },
  {
   "cell_type": "code",
   "execution_count": 275,
   "id": "6e5082c7",
   "metadata": {},
   "outputs": [
    {
     "data": {
      "text/plain": [
       "array([[1.30635645e-02, 9.86936436e-01],\n",
       "       [5.69013841e-01, 4.30986159e-01],\n",
       "       [4.35289403e-01, 5.64710597e-01],\n",
       "       [9.96077345e-01, 3.92265513e-03],\n",
       "       [2.50628532e-02, 9.74937147e-01],\n",
       "       [3.99710481e-02, 9.60028952e-01],\n",
       "       [9.62155540e-03, 9.90378445e-01],\n",
       "       [3.88464289e-02, 9.61153571e-01],\n",
       "       [8.75336610e-01, 1.24663390e-01],\n",
       "       [2.91804953e-01, 7.08195047e-01],\n",
       "       [2.25721919e-01, 7.74278081e-01],\n",
       "       [3.52499271e-01, 6.47500729e-01],\n",
       "       [3.54518643e-02, 9.64548136e-01],\n",
       "       [8.46688188e-01, 1.53311812e-01],\n",
       "       [2.21172295e-02, 9.77882771e-01],\n",
       "       [3.97735032e-02, 9.60226497e-01],\n",
       "       [3.42807778e-03, 9.96571922e-01],\n",
       "       [9.58592989e-01, 4.14070113e-02],\n",
       "       [9.92341673e-01, 7.65832711e-03],\n",
       "       [8.89704125e-01, 1.10295875e-01],\n",
       "       [9.44260045e-01, 5.57399548e-02],\n",
       "       [8.99428255e-01, 1.00571745e-01],\n",
       "       [9.40141664e-01, 5.98583357e-02],\n",
       "       [1.32401122e-01, 8.67598878e-01],\n",
       "       [3.59748811e-02, 9.64025119e-01],\n",
       "       [9.80746471e-01, 1.92535291e-02],\n",
       "       [9.99619713e-01, 3.80286706e-04],\n",
       "       [2.73424810e-01, 7.26575190e-01],\n",
       "       [5.76237274e-02, 9.42376273e-01],\n",
       "       [2.31374446e-02, 9.76862555e-01],\n",
       "       [1.08208721e-01, 8.91791279e-01],\n",
       "       [3.06016521e-01, 6.93983479e-01],\n",
       "       [8.75336610e-01, 1.24663390e-01],\n",
       "       [9.31587500e-01, 6.84124998e-02],\n",
       "       [1.45289705e-01, 8.54710295e-01],\n",
       "       [8.94999609e-01, 1.05000391e-01],\n",
       "       [2.92248856e-01, 7.07751144e-01],\n",
       "       [1.79999371e-01, 8.20000629e-01],\n",
       "       [3.42417434e-01, 6.57582566e-01],\n",
       "       [1.44336183e-01, 8.55663817e-01],\n",
       "       [7.96377464e-01, 2.03622536e-01],\n",
       "       [8.33165062e-02, 9.16683494e-01],\n",
       "       [9.63527170e-01, 3.64728299e-02],\n",
       "       [9.22974026e-01, 7.70259736e-02],\n",
       "       [1.14019367e-01, 8.85980633e-01],\n",
       "       [1.31108012e-02, 9.86889199e-01],\n",
       "       [9.91100794e-01, 8.89920594e-03],\n",
       "       [3.00882087e-02, 9.69911791e-01],\n",
       "       [5.08227125e-01, 4.91772875e-01],\n",
       "       [5.00057220e-01, 4.99942780e-01],\n",
       "       [9.86874839e-01, 1.31251608e-02],\n",
       "       [2.10421196e-02, 9.78957880e-01],\n",
       "       [2.01282634e-01, 7.98717366e-01],\n",
       "       [8.10738325e-03, 9.91892617e-01],\n",
       "       [9.98110983e-01, 1.88901714e-03],\n",
       "       [8.86370522e-01, 1.13629478e-01],\n",
       "       [9.96647247e-01, 3.35275263e-03],\n",
       "       [6.25018732e-01, 3.74981268e-01],\n",
       "       [2.14455277e-01, 7.85544723e-01],\n",
       "       [9.97495825e-01, 2.50417537e-03],\n",
       "       [3.46844124e-02, 9.65315588e-01]])"
      ]
     },
     "execution_count": 275,
     "metadata": {},
     "output_type": "execute_result"
    }
   ],
   "source": [
    "y_pred_proba = model.predict_proba(X_test)\n",
    "y_pred_proba"
   ]
  },
  {
   "cell_type": "code",
   "execution_count": 276,
   "id": "81f79f76",
   "metadata": {},
   "outputs": [
    {
     "name": "stdout",
     "output_type": "stream",
     "text": [
      "Confusion matrix =>\n",
      " [[20  6]\n",
      " [ 7 28]]\n",
      "Accuracy => 0.7868852459016393\n"
     ]
    }
   ],
   "source": [
    "from sklearn.metrics import accuracy_score, confusion_matrix\n",
    "print(f'Confusion matrix =>\\n {confusion_matrix(y_test,y_pred)}')\n",
    "print(f'Accuracy => {accuracy_score(y_test,y_pred)}')"
   ]
  },
  {
   "cell_type": "code",
   "execution_count": null,
   "id": "6e8197f1",
   "metadata": {},
   "outputs": [],
   "source": []
  }
 ],
 "metadata": {
  "kernelspec": {
   "display_name": "Python 3",
   "language": "python",
   "name": "python3"
  },
  "language_info": {
   "codemirror_mode": {
    "name": "ipython",
    "version": 3
   },
   "file_extension": ".py",
   "mimetype": "text/x-python",
   "name": "python",
   "nbconvert_exporter": "python",
   "pygments_lexer": "ipython3",
   "version": "3.8.8"
  }
 },
 "nbformat": 4,
 "nbformat_minor": 5
}
