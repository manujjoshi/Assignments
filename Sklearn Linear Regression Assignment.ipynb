{
 "cells": [
  {
   "cell_type": "markdown",
   "metadata": {},
   "source": [
    "### 1. Importing the relevant libraries"
   ]
  },
  {
   "cell_type": "code",
   "execution_count": 750,
   "metadata": {},
   "outputs": [],
   "source": [
    "# CODE HERE\n",
    "import pandas as pd\n",
    "import numpy as np\n",
    "import seaborn as sns\n",
    "import warnings\n",
    "warnings.filterwarnings('ignore')"
   ]
  },
  {
   "cell_type": "markdown",
   "metadata": {},
   "source": [
    "### 2. Loading the raw data"
   ]
  },
  {
   "cell_type": "markdown",
   "metadata": {},
   "source": [
    "#### Load the data from a .csv in the same folder"
   ]
  },
  {
   "cell_type": "code",
   "execution_count": 751,
   "metadata": {},
   "outputs": [],
   "source": [
    "# CODE HERE\n",
    "data = pd.read_csv('linear.csv')"
   ]
  },
  {
   "cell_type": "markdown",
   "metadata": {},
   "source": [
    "#### Let's explore the top 5 rows of the df\n"
   ]
  },
  {
   "cell_type": "code",
   "execution_count": 752,
   "metadata": {},
   "outputs": [
    {
     "data": {
      "text/html": [
       "<div>\n",
       "<style scoped>\n",
       "    .dataframe tbody tr th:only-of-type {\n",
       "        vertical-align: middle;\n",
       "    }\n",
       "\n",
       "    .dataframe tbody tr th {\n",
       "        vertical-align: top;\n",
       "    }\n",
       "\n",
       "    .dataframe thead th {\n",
       "        text-align: right;\n",
       "    }\n",
       "</style>\n",
       "<table border=\"1\" class=\"dataframe\">\n",
       "  <thead>\n",
       "    <tr style=\"text-align: right;\">\n",
       "      <th></th>\n",
       "      <th>Brand</th>\n",
       "      <th>Price</th>\n",
       "      <th>Body</th>\n",
       "      <th>Mileage</th>\n",
       "      <th>EngineV</th>\n",
       "      <th>Engine Type</th>\n",
       "      <th>Registration</th>\n",
       "      <th>Year</th>\n",
       "      <th>Model</th>\n",
       "    </tr>\n",
       "  </thead>\n",
       "  <tbody>\n",
       "    <tr>\n",
       "      <th>0</th>\n",
       "      <td>BMW</td>\n",
       "      <td>4200.0</td>\n",
       "      <td>sedan</td>\n",
       "      <td>277</td>\n",
       "      <td>2.0</td>\n",
       "      <td>Petrol</td>\n",
       "      <td>yes</td>\n",
       "      <td>1991</td>\n",
       "      <td>320</td>\n",
       "    </tr>\n",
       "    <tr>\n",
       "      <th>1</th>\n",
       "      <td>Mercedes-Benz</td>\n",
       "      <td>7900.0</td>\n",
       "      <td>van</td>\n",
       "      <td>427</td>\n",
       "      <td>2.9</td>\n",
       "      <td>Diesel</td>\n",
       "      <td>yes</td>\n",
       "      <td>1999</td>\n",
       "      <td>Sprinter 212</td>\n",
       "    </tr>\n",
       "    <tr>\n",
       "      <th>2</th>\n",
       "      <td>Mercedes-Benz</td>\n",
       "      <td>13300.0</td>\n",
       "      <td>sedan</td>\n",
       "      <td>358</td>\n",
       "      <td>5.0</td>\n",
       "      <td>Gas</td>\n",
       "      <td>yes</td>\n",
       "      <td>2003</td>\n",
       "      <td>S 500</td>\n",
       "    </tr>\n",
       "    <tr>\n",
       "      <th>3</th>\n",
       "      <td>Audi</td>\n",
       "      <td>23000.0</td>\n",
       "      <td>crossover</td>\n",
       "      <td>240</td>\n",
       "      <td>4.2</td>\n",
       "      <td>Petrol</td>\n",
       "      <td>yes</td>\n",
       "      <td>2007</td>\n",
       "      <td>Q7</td>\n",
       "    </tr>\n",
       "    <tr>\n",
       "      <th>4</th>\n",
       "      <td>Toyota</td>\n",
       "      <td>18300.0</td>\n",
       "      <td>crossover</td>\n",
       "      <td>120</td>\n",
       "      <td>2.0</td>\n",
       "      <td>Petrol</td>\n",
       "      <td>yes</td>\n",
       "      <td>2011</td>\n",
       "      <td>Rav 4</td>\n",
       "    </tr>\n",
       "  </tbody>\n",
       "</table>\n",
       "</div>"
      ],
      "text/plain": [
       "           Brand    Price       Body  Mileage  EngineV Engine Type  \\\n",
       "0            BMW   4200.0      sedan      277      2.0      Petrol   \n",
       "1  Mercedes-Benz   7900.0        van      427      2.9      Diesel   \n",
       "2  Mercedes-Benz  13300.0      sedan      358      5.0         Gas   \n",
       "3           Audi  23000.0  crossover      240      4.2      Petrol   \n",
       "4         Toyota  18300.0  crossover      120      2.0      Petrol   \n",
       "\n",
       "  Registration  Year         Model  \n",
       "0          yes  1991           320  \n",
       "1          yes  1999  Sprinter 212  \n",
       "2          yes  2003         S 500  \n",
       "3          yes  2007            Q7  \n",
       "4          yes  2011         Rav 4  "
      ]
     },
     "execution_count": 752,
     "metadata": {},
     "output_type": "execute_result"
    }
   ],
   "source": [
    "# CODE HERE\n",
    "data.head()"
   ]
  },
  {
   "cell_type": "markdown",
   "metadata": {},
   "source": [
    "#### Let's explore the datatype of each column\n"
   ]
  },
  {
   "cell_type": "code",
   "execution_count": 753,
   "metadata": {},
   "outputs": [
    {
     "data": {
      "text/plain": [
       "Brand            object\n",
       "Price           float64\n",
       "Body             object\n",
       "Mileage           int64\n",
       "EngineV         float64\n",
       "Engine Type      object\n",
       "Registration     object\n",
       "Year              int64\n",
       "Model            object\n",
       "dtype: object"
      ]
     },
     "execution_count": 753,
     "metadata": {},
     "output_type": "execute_result"
    }
   ],
   "source": [
    "data.dtypes"
   ]
  },
  {
   "cell_type": "markdown",
   "metadata": {},
   "source": [
    "## Preprocessing"
   ]
  },
  {
   "cell_type": "markdown",
   "metadata": {},
   "source": [
    "### 3. Exploring the descriptive statistics of the variables\n",
    "-  Descriptive statistics are very useful for initial exploration of the variables\n",
    "- By default, only descriptives for the numerical variables are shown\n",
    "- To include the categorical ones, you should specify this with an argument"
   ]
  },
  {
   "cell_type": "markdown",
   "metadata": {},
   "source": [
    "#### `numerical variables`"
   ]
  },
  {
   "cell_type": "code",
   "execution_count": 754,
   "metadata": {},
   "outputs": [
    {
     "data": {
      "text/html": [
       "<div>\n",
       "<style scoped>\n",
       "    .dataframe tbody tr th:only-of-type {\n",
       "        vertical-align: middle;\n",
       "    }\n",
       "\n",
       "    .dataframe tbody tr th {\n",
       "        vertical-align: top;\n",
       "    }\n",
       "\n",
       "    .dataframe thead th {\n",
       "        text-align: right;\n",
       "    }\n",
       "</style>\n",
       "<table border=\"1\" class=\"dataframe\">\n",
       "  <thead>\n",
       "    <tr style=\"text-align: right;\">\n",
       "      <th></th>\n",
       "      <th>Price</th>\n",
       "      <th>Mileage</th>\n",
       "      <th>EngineV</th>\n",
       "      <th>Year</th>\n",
       "    </tr>\n",
       "  </thead>\n",
       "  <tbody>\n",
       "    <tr>\n",
       "      <th>count</th>\n",
       "      <td>4173.000000</td>\n",
       "      <td>4345.000000</td>\n",
       "      <td>4195.000000</td>\n",
       "      <td>4345.000000</td>\n",
       "    </tr>\n",
       "    <tr>\n",
       "      <th>mean</th>\n",
       "      <td>19418.746935</td>\n",
       "      <td>161.237284</td>\n",
       "      <td>2.790734</td>\n",
       "      <td>2006.550058</td>\n",
       "    </tr>\n",
       "    <tr>\n",
       "      <th>std</th>\n",
       "      <td>25584.242620</td>\n",
       "      <td>105.705797</td>\n",
       "      <td>5.066437</td>\n",
       "      <td>6.719097</td>\n",
       "    </tr>\n",
       "    <tr>\n",
       "      <th>min</th>\n",
       "      <td>600.000000</td>\n",
       "      <td>0.000000</td>\n",
       "      <td>0.600000</td>\n",
       "      <td>1969.000000</td>\n",
       "    </tr>\n",
       "    <tr>\n",
       "      <th>25%</th>\n",
       "      <td>6999.000000</td>\n",
       "      <td>86.000000</td>\n",
       "      <td>1.800000</td>\n",
       "      <td>2003.000000</td>\n",
       "    </tr>\n",
       "    <tr>\n",
       "      <th>50%</th>\n",
       "      <td>11500.000000</td>\n",
       "      <td>155.000000</td>\n",
       "      <td>2.200000</td>\n",
       "      <td>2008.000000</td>\n",
       "    </tr>\n",
       "    <tr>\n",
       "      <th>75%</th>\n",
       "      <td>21700.000000</td>\n",
       "      <td>230.000000</td>\n",
       "      <td>3.000000</td>\n",
       "      <td>2012.000000</td>\n",
       "    </tr>\n",
       "    <tr>\n",
       "      <th>max</th>\n",
       "      <td>300000.000000</td>\n",
       "      <td>980.000000</td>\n",
       "      <td>99.990000</td>\n",
       "      <td>2016.000000</td>\n",
       "    </tr>\n",
       "  </tbody>\n",
       "</table>\n",
       "</div>"
      ],
      "text/plain": [
       "               Price      Mileage      EngineV         Year\n",
       "count    4173.000000  4345.000000  4195.000000  4345.000000\n",
       "mean    19418.746935   161.237284     2.790734  2006.550058\n",
       "std     25584.242620   105.705797     5.066437     6.719097\n",
       "min       600.000000     0.000000     0.600000  1969.000000\n",
       "25%      6999.000000    86.000000     1.800000  2003.000000\n",
       "50%     11500.000000   155.000000     2.200000  2008.000000\n",
       "75%     21700.000000   230.000000     3.000000  2012.000000\n",
       "max    300000.000000   980.000000    99.990000  2016.000000"
      ]
     },
     "execution_count": 754,
     "metadata": {},
     "output_type": "execute_result"
    }
   ],
   "source": [
    "# CODE HERE\n",
    "data.describe()"
   ]
  },
  {
   "cell_type": "markdown",
   "metadata": {},
   "source": [
    "#### `categorical variables`"
   ]
  },
  {
   "cell_type": "code",
   "execution_count": 755,
   "metadata": {},
   "outputs": [
    {
     "data": {
      "text/html": [
       "<div>\n",
       "<style scoped>\n",
       "    .dataframe tbody tr th:only-of-type {\n",
       "        vertical-align: middle;\n",
       "    }\n",
       "\n",
       "    .dataframe tbody tr th {\n",
       "        vertical-align: top;\n",
       "    }\n",
       "\n",
       "    .dataframe thead th {\n",
       "        text-align: right;\n",
       "    }\n",
       "</style>\n",
       "<table border=\"1\" class=\"dataframe\">\n",
       "  <thead>\n",
       "    <tr style=\"text-align: right;\">\n",
       "      <th></th>\n",
       "      <th>Brand</th>\n",
       "      <th>Body</th>\n",
       "      <th>Engine Type</th>\n",
       "      <th>Registration</th>\n",
       "      <th>Model</th>\n",
       "    </tr>\n",
       "  </thead>\n",
       "  <tbody>\n",
       "    <tr>\n",
       "      <th>count</th>\n",
       "      <td>4345</td>\n",
       "      <td>4345</td>\n",
       "      <td>4345</td>\n",
       "      <td>4345</td>\n",
       "      <td>4345</td>\n",
       "    </tr>\n",
       "    <tr>\n",
       "      <th>unique</th>\n",
       "      <td>7</td>\n",
       "      <td>6</td>\n",
       "      <td>4</td>\n",
       "      <td>2</td>\n",
       "      <td>312</td>\n",
       "    </tr>\n",
       "    <tr>\n",
       "      <th>top</th>\n",
       "      <td>Volkswagen</td>\n",
       "      <td>sedan</td>\n",
       "      <td>Diesel</td>\n",
       "      <td>yes</td>\n",
       "      <td>E-Class</td>\n",
       "    </tr>\n",
       "    <tr>\n",
       "      <th>freq</th>\n",
       "      <td>936</td>\n",
       "      <td>1649</td>\n",
       "      <td>2019</td>\n",
       "      <td>3947</td>\n",
       "      <td>199</td>\n",
       "    </tr>\n",
       "  </tbody>\n",
       "</table>\n",
       "</div>"
      ],
      "text/plain": [
       "             Brand   Body Engine Type Registration    Model\n",
       "count         4345   4345        4345         4345     4345\n",
       "unique           7      6           4            2      312\n",
       "top     Volkswagen  sedan      Diesel          yes  E-Class\n",
       "freq           936   1649        2019         3947      199"
      ]
     },
     "execution_count": 755,
     "metadata": {},
     "output_type": "execute_result"
    }
   ],
   "source": [
    "# CODE HERE\n",
    "data.describe(include='object')"
   ]
  },
  {
   "cell_type": "markdown",
   "metadata": {},
   "source": [
    "### Dealing with missing values"
   ]
  },
  {
   "cell_type": "markdown",
   "metadata": {},
   "source": [
    "#### 4. Find the missing values from the data if any\n",
    "- data.isnull() # shows a df with the information whether a data point is null. \n",
    "- Since True = the data point is missing, while False = the data point is not missing, we can sum them.\n",
    "- This will give us the total number of missing values feature-wise."
   ]
  },
  {
   "cell_type": "markdown",
   "metadata": {},
   "source": [
    "#### `number of missing values in column`"
   ]
  },
  {
   "cell_type": "code",
   "execution_count": 756,
   "metadata": {
    "scrolled": true
   },
   "outputs": [
    {
     "data": {
      "text/plain": [
       "Brand             0\n",
       "Price           172\n",
       "Body              0\n",
       "Mileage           0\n",
       "EngineV         150\n",
       "Engine Type       0\n",
       "Registration      0\n",
       "Year              0\n",
       "Model             0\n",
       "dtype: int64"
      ]
     },
     "execution_count": 756,
     "metadata": {},
     "output_type": "execute_result"
    }
   ],
   "source": [
    "# CODE HERE\n",
    "data.isnull().sum()"
   ]
  },
  {
   "cell_type": "markdown",
   "metadata": {},
   "source": [
    "#### `percentages of missing values in column`"
   ]
  },
  {
   "cell_type": "code",
   "execution_count": 757,
   "metadata": {},
   "outputs": [
    {
     "data": {
      "text/plain": [
       "Brand           0.000000\n",
       "Price           3.958573\n",
       "Body            0.000000\n",
       "Mileage         0.000000\n",
       "EngineV         3.452244\n",
       "Engine Type     0.000000\n",
       "Registration    0.000000\n",
       "Year            0.000000\n",
       "Model           0.000000\n",
       "dtype: float64"
      ]
     },
     "execution_count": 757,
     "metadata": {},
     "output_type": "execute_result"
    }
   ],
   "source": [
    "# CODE HERE\n",
    "(data.isnull().sum() / data.shape[0] ) * 100"
   ]
  },
  {
   "cell_type": "markdown",
   "metadata": {},
   "source": [
    "#### 5. Let's simply drop all missing values\n",
    "Note: This is not always recommended, however, when we remove less than 5% of the data, it is okay"
   ]
  },
  {
   "cell_type": "code",
   "execution_count": 758,
   "metadata": {},
   "outputs": [],
   "source": [
    "data.dropna(axis = 0,how='any',inplace=True)  # delete row which contain null values"
   ]
  },
  {
   "cell_type": "code",
   "execution_count": 759,
   "metadata": {},
   "outputs": [
    {
     "data": {
      "text/plain": [
       "Brand           0\n",
       "Price           0\n",
       "Body            0\n",
       "Mileage         0\n",
       "EngineV         0\n",
       "Engine Type     0\n",
       "Registration    0\n",
       "Year            0\n",
       "Model           0\n",
       "dtype: int64"
      ]
     },
     "execution_count": 759,
     "metadata": {},
     "output_type": "execute_result"
    }
   ],
   "source": [
    "data.isnull().sum()"
   ]
  },
  {
   "cell_type": "markdown",
   "metadata": {},
   "source": [
    "#### 6. Let's check the descriptives without the missing values\n"
   ]
  },
  {
   "cell_type": "code",
   "execution_count": 760,
   "metadata": {},
   "outputs": [
    {
     "data": {
      "text/html": [
       "<div>\n",
       "<style scoped>\n",
       "    .dataframe tbody tr th:only-of-type {\n",
       "        vertical-align: middle;\n",
       "    }\n",
       "\n",
       "    .dataframe tbody tr th {\n",
       "        vertical-align: top;\n",
       "    }\n",
       "\n",
       "    .dataframe thead th {\n",
       "        text-align: right;\n",
       "    }\n",
       "</style>\n",
       "<table border=\"1\" class=\"dataframe\">\n",
       "  <thead>\n",
       "    <tr style=\"text-align: right;\">\n",
       "      <th></th>\n",
       "      <th>Price</th>\n",
       "      <th>Mileage</th>\n",
       "      <th>EngineV</th>\n",
       "      <th>Year</th>\n",
       "    </tr>\n",
       "  </thead>\n",
       "  <tbody>\n",
       "    <tr>\n",
       "      <th>count</th>\n",
       "      <td>4025.000000</td>\n",
       "      <td>4025.000000</td>\n",
       "      <td>4025.000000</td>\n",
       "      <td>4025.000000</td>\n",
       "    </tr>\n",
       "    <tr>\n",
       "      <th>mean</th>\n",
       "      <td>19552.308065</td>\n",
       "      <td>163.572174</td>\n",
       "      <td>2.764586</td>\n",
       "      <td>2006.379627</td>\n",
       "    </tr>\n",
       "    <tr>\n",
       "      <th>std</th>\n",
       "      <td>25815.734988</td>\n",
       "      <td>103.394703</td>\n",
       "      <td>4.935941</td>\n",
       "      <td>6.695595</td>\n",
       "    </tr>\n",
       "    <tr>\n",
       "      <th>min</th>\n",
       "      <td>600.000000</td>\n",
       "      <td>0.000000</td>\n",
       "      <td>0.600000</td>\n",
       "      <td>1969.000000</td>\n",
       "    </tr>\n",
       "    <tr>\n",
       "      <th>25%</th>\n",
       "      <td>6999.000000</td>\n",
       "      <td>90.000000</td>\n",
       "      <td>1.800000</td>\n",
       "      <td>2003.000000</td>\n",
       "    </tr>\n",
       "    <tr>\n",
       "      <th>50%</th>\n",
       "      <td>11500.000000</td>\n",
       "      <td>158.000000</td>\n",
       "      <td>2.200000</td>\n",
       "      <td>2007.000000</td>\n",
       "    </tr>\n",
       "    <tr>\n",
       "      <th>75%</th>\n",
       "      <td>21900.000000</td>\n",
       "      <td>230.000000</td>\n",
       "      <td>3.000000</td>\n",
       "      <td>2012.000000</td>\n",
       "    </tr>\n",
       "    <tr>\n",
       "      <th>max</th>\n",
       "      <td>300000.000000</td>\n",
       "      <td>980.000000</td>\n",
       "      <td>99.990000</td>\n",
       "      <td>2016.000000</td>\n",
       "    </tr>\n",
       "  </tbody>\n",
       "</table>\n",
       "</div>"
      ],
      "text/plain": [
       "               Price      Mileage      EngineV         Year\n",
       "count    4025.000000  4025.000000  4025.000000  4025.000000\n",
       "mean    19552.308065   163.572174     2.764586  2006.379627\n",
       "std     25815.734988   103.394703     4.935941     6.695595\n",
       "min       600.000000     0.000000     0.600000  1969.000000\n",
       "25%      6999.000000    90.000000     1.800000  2003.000000\n",
       "50%     11500.000000   158.000000     2.200000  2007.000000\n",
       "75%     21900.000000   230.000000     3.000000  2012.000000\n",
       "max    300000.000000   980.000000    99.990000  2016.000000"
      ]
     },
     "execution_count": 760,
     "metadata": {},
     "output_type": "execute_result"
    }
   ],
   "source": [
    "# CODE HERE\n",
    "data.describe()"
   ]
  },
  {
   "cell_type": "markdown",
   "metadata": {},
   "source": [
    "#### `Both the columns that have missing values are of numerical datatype`"
   ]
  },
  {
   "cell_type": "markdown",
   "metadata": {},
   "source": [
    "### Exploring the PDFs for Numerical Variables in the DataFrame"
   ]
  },
  {
   "cell_type": "markdown",
   "metadata": {},
   "source": [
    "#### 7. A great step in the data exploration is to display the probability distribution function (PDF) of a variable\n",
    "- The PDF will show us how that variable is distributed \n",
    "- This makes it very easy to spot anomalies, such as outliers\n",
    "- The PDF is often the basis on which we decide whether we want to transform a feature"
   ]
  },
  {
   "cell_type": "markdown",
   "metadata": {},
   "source": [
    "### Price"
   ]
  },
  {
   "cell_type": "code",
   "execution_count": 761,
   "metadata": {},
   "outputs": [
    {
     "data": {
      "text/plain": [
       "<AxesSubplot:xlabel='Price', ylabel='Density'>"
      ]
     },
     "execution_count": 761,
     "metadata": {},
     "output_type": "execute_result"
    },
    {
     "data": {
      "image/png": "[encoded data removed]",
      "text/plain": [
       "<Figure size 432x288 with 1 Axes>"
      ]
     },
     "metadata": {
      "needs_background": "light"
     },
     "output_type": "display_data"
    }
   ],
   "source": [
    "sns.distplot(data['Price'])"
   ]
  },
  {
   "cell_type": "markdown",
   "metadata": {},
   "source": [
    "### Mileage"
   ]
  },
  {
   "cell_type": "code",
   "execution_count": 762,
   "metadata": {},
   "outputs": [
    {
     "data": {
      "text/plain": [
       "<AxesSubplot:xlabel='Mileage', ylabel='Density'>"
      ]
     },
     "execution_count": 762,
     "metadata": {},
     "output_type": "execute_result"
    },
    {
     "data": {
      "image/png": "[encoded data removed]",
      "text/plain": [
       "<Figure size 432x288 with 1 Axes>"
      ]
     },
     "metadata": {
      "needs_background": "light"
     },
     "output_type": "display_data"
    }
   ],
   "source": [
    "sns.distplot(data['Mileage'])"
   ]
  },
  {
   "cell_type": "markdown",
   "metadata": {},
   "source": [
    "### EngineV"
   ]
  },
  {
   "cell_type": "code",
   "execution_count": 763,
   "metadata": {},
   "outputs": [
    {
     "data": {
      "text/plain": [
       "<AxesSubplot:xlabel='EngineV', ylabel='Density'>"
      ]
     },
     "execution_count": 763,
     "metadata": {},
     "output_type": "execute_result"
    },
    {
     "data": {
      "image/png": "[encoded data removed]",
      "text/plain": [
       "<Figure size 432x288 with 1 Axes>"
      ]
     },
     "metadata": {
      "needs_background": "light"
     },
     "output_type": "display_data"
    }
   ],
   "source": [
    "sns.distplot(data['EngineV'])"
   ]
  },
  {
   "cell_type": "markdown",
   "metadata": {},
   "source": [
    "### Dealing with outliers\n",
    "Hint: **Use IQR or Z Score**\n",
    "\n",
    "### `I am using IQR technique below but will also try z technique at the end `"
   ]
  },
  {
   "cell_type": "markdown",
   "metadata": {},
   "source": [
    "\n",
    "\n",
    "\n",
    "#### 8A. Identify the Outliers which are presented in `Price` Column"
   ]
  },
  {
   "cell_type": "code",
   "execution_count": 764,
   "metadata": {},
   "outputs": [
    {
     "data": {
      "text/plain": [
       "<AxesSubplot:xlabel='Price'>"
      ]
     },
     "execution_count": 764,
     "metadata": {},
     "output_type": "execute_result"
    },
    {
     "data": {
      "image/png": "[encoded data removed]",
      "text/plain": [
       "<Figure size 432x288 with 1 Axes>"
      ]
     },
     "metadata": {
      "needs_background": "light"
     },
     "output_type": "display_data"
    }
   ],
   "source": [
    "# CODE HERE\n",
    "sns.boxplot(data['Price'])"
   ]
  },
  {
   "cell_type": "code",
   "execution_count": 765,
   "metadata": {},
   "outputs": [
    {
     "name": "stdout",
     "output_type": "stream",
     "text": [
      "Lower Bound:-15352.5 and Upper Bound:44251.5\n"
     ]
    }
   ],
   "source": [
    "q1=np.percentile(data['Price'],25)\n",
    "q3=np.percentile(data['Price'],75)\n",
    "IQR=q3-q1\n",
    "good_value=1.5 * IQR\n",
    "lower_bound=q1-good_value\n",
    "upper_bound=q3+good_value\n",
    "print(f'Lower Bound:{lower_bound} and Upper Bound:{upper_bound}')"
   ]
  },
  {
   "cell_type": "code",
   "execution_count": 766,
   "metadata": {},
   "outputs": [
    {
     "data": {
      "text/html": [
       "<div>\n",
       "<style scoped>\n",
       "    .dataframe tbody tr th:only-of-type {\n",
       "        vertical-align: middle;\n",
       "    }\n",
       "\n",
       "    .dataframe tbody tr th {\n",
       "        vertical-align: top;\n",
       "    }\n",
       "\n",
       "    .dataframe thead th {\n",
       "        text-align: right;\n",
       "    }\n",
       "</style>\n",
       "<table border=\"1\" class=\"dataframe\">\n",
       "  <thead>\n",
       "    <tr style=\"text-align: right;\">\n",
       "      <th></th>\n",
       "      <th>Brand</th>\n",
       "      <th>Price</th>\n",
       "      <th>Body</th>\n",
       "      <th>Mileage</th>\n",
       "      <th>EngineV</th>\n",
       "      <th>Engine Type</th>\n",
       "      <th>Registration</th>\n",
       "      <th>Year</th>\n",
       "      <th>Model</th>\n",
       "    </tr>\n",
       "  </thead>\n",
       "  <tbody>\n",
       "    <tr>\n",
       "      <th>5</th>\n",
       "      <td>Mercedes-Benz</td>\n",
       "      <td>199999.0</td>\n",
       "      <td>crossover</td>\n",
       "      <td>0</td>\n",
       "      <td>5.5</td>\n",
       "      <td>Petrol</td>\n",
       "      <td>yes</td>\n",
       "      <td>2016</td>\n",
       "      <td>GLS 63</td>\n",
       "    </tr>\n",
       "    <tr>\n",
       "      <th>37</th>\n",
       "      <td>BMW</td>\n",
       "      <td>67500.0</td>\n",
       "      <td>crossover</td>\n",
       "      <td>1</td>\n",
       "      <td>2.5</td>\n",
       "      <td>Diesel</td>\n",
       "      <td>yes</td>\n",
       "      <td>2016</td>\n",
       "      <td>X5</td>\n",
       "    </tr>\n",
       "    <tr>\n",
       "      <th>41</th>\n",
       "      <td>Mercedes-Benz</td>\n",
       "      <td>63000.0</td>\n",
       "      <td>crossover</td>\n",
       "      <td>86</td>\n",
       "      <td>5.5</td>\n",
       "      <td>Petrol</td>\n",
       "      <td>yes</td>\n",
       "      <td>2009</td>\n",
       "      <td>G 55 AMG</td>\n",
       "    </tr>\n",
       "    <tr>\n",
       "      <th>62</th>\n",
       "      <td>BMW</td>\n",
       "      <td>133000.0</td>\n",
       "      <td>crossover</td>\n",
       "      <td>7</td>\n",
       "      <td>4.4</td>\n",
       "      <td>Petrol</td>\n",
       "      <td>yes</td>\n",
       "      <td>2015</td>\n",
       "      <td>X5 M</td>\n",
       "    </tr>\n",
       "    <tr>\n",
       "      <th>64</th>\n",
       "      <td>Mercedes-Benz</td>\n",
       "      <td>50000.0</td>\n",
       "      <td>sedan</td>\n",
       "      <td>240</td>\n",
       "      <td>3.5</td>\n",
       "      <td>Petrol</td>\n",
       "      <td>yes</td>\n",
       "      <td>2006</td>\n",
       "      <td>S 350</td>\n",
       "    </tr>\n",
       "    <tr>\n",
       "      <th>...</th>\n",
       "      <td>...</td>\n",
       "      <td>...</td>\n",
       "      <td>...</td>\n",
       "      <td>...</td>\n",
       "      <td>...</td>\n",
       "      <td>...</td>\n",
       "      <td>...</td>\n",
       "      <td>...</td>\n",
       "      <td>...</td>\n",
       "    </tr>\n",
       "    <tr>\n",
       "      <th>4318</th>\n",
       "      <td>Mercedes-Benz</td>\n",
       "      <td>300000.0</td>\n",
       "      <td>other</td>\n",
       "      <td>37</td>\n",
       "      <td>5.0</td>\n",
       "      <td>Petrol</td>\n",
       "      <td>yes</td>\n",
       "      <td>2012</td>\n",
       "      <td>G 500</td>\n",
       "    </tr>\n",
       "    <tr>\n",
       "      <th>4322</th>\n",
       "      <td>Toyota</td>\n",
       "      <td>100000.0</td>\n",
       "      <td>crossover</td>\n",
       "      <td>0</td>\n",
       "      <td>4.5</td>\n",
       "      <td>Diesel</td>\n",
       "      <td>yes</td>\n",
       "      <td>2016</td>\n",
       "      <td>Land Cruiser 200</td>\n",
       "    </tr>\n",
       "    <tr>\n",
       "      <th>4327</th>\n",
       "      <td>Audi</td>\n",
       "      <td>80999.0</td>\n",
       "      <td>crossover</td>\n",
       "      <td>0</td>\n",
       "      <td>3.0</td>\n",
       "      <td>Diesel</td>\n",
       "      <td>yes</td>\n",
       "      <td>2016</td>\n",
       "      <td>Q7</td>\n",
       "    </tr>\n",
       "    <tr>\n",
       "      <th>4331</th>\n",
       "      <td>BMW</td>\n",
       "      <td>45000.0</td>\n",
       "      <td>crossover</td>\n",
       "      <td>80</td>\n",
       "      <td>3.0</td>\n",
       "      <td>Petrol</td>\n",
       "      <td>yes</td>\n",
       "      <td>2011</td>\n",
       "      <td>X6</td>\n",
       "    </tr>\n",
       "    <tr>\n",
       "      <th>4340</th>\n",
       "      <td>Mercedes-Benz</td>\n",
       "      <td>125000.0</td>\n",
       "      <td>sedan</td>\n",
       "      <td>9</td>\n",
       "      <td>3.0</td>\n",
       "      <td>Diesel</td>\n",
       "      <td>yes</td>\n",
       "      <td>2014</td>\n",
       "      <td>S 350</td>\n",
       "    </tr>\n",
       "  </tbody>\n",
       "</table>\n",
       "<p>355 rows × 9 columns</p>\n",
       "</div>"
      ],
      "text/plain": [
       "              Brand     Price       Body  Mileage  EngineV Engine Type  \\\n",
       "5     Mercedes-Benz  199999.0  crossover        0      5.5      Petrol   \n",
       "37              BMW   67500.0  crossover        1      2.5      Diesel   \n",
       "41    Mercedes-Benz   63000.0  crossover       86      5.5      Petrol   \n",
       "62              BMW  133000.0  crossover        7      4.4      Petrol   \n",
       "64    Mercedes-Benz   50000.0      sedan      240      3.5      Petrol   \n",
       "...             ...       ...        ...      ...      ...         ...   \n",
       "4318  Mercedes-Benz  300000.0      other       37      5.0      Petrol   \n",
       "4322         Toyota  100000.0  crossover        0      4.5      Diesel   \n",
       "4327           Audi   80999.0  crossover        0      3.0      Diesel   \n",
       "4331            BMW   45000.0  crossover       80      3.0      Petrol   \n",
       "4340  Mercedes-Benz  125000.0      sedan        9      3.0      Diesel   \n",
       "\n",
       "     Registration  Year             Model  \n",
       "5             yes  2016            GLS 63  \n",
       "37            yes  2016                X5  \n",
       "41            yes  2009          G 55 AMG  \n",
       "62            yes  2015              X5 M  \n",
       "64            yes  2006             S 350  \n",
       "...           ...   ...               ...  \n",
       "4318          yes  2012             G 500  \n",
       "4322          yes  2016  Land Cruiser 200  \n",
       "4327          yes  2016                Q7  \n",
       "4331          yes  2011                X6  \n",
       "4340          yes  2014             S 350  \n",
       "\n",
       "[355 rows x 9 columns]"
      ]
     },
     "execution_count": 766,
     "metadata": {},
     "output_type": "execute_result"
    }
   ],
   "source": [
    "data[data['Price'] > upper_bound]"
   ]
  },
  {
   "cell_type": "markdown",
   "metadata": {},
   "source": [
    "#### 8B. Remove the Outliers which are presented in `Price` Column"
   ]
  },
  {
   "cell_type": "code",
   "execution_count": 767,
   "metadata": {},
   "outputs": [
    {
     "data": {
      "text/html": [
       "<div>\n",
       "<style scoped>\n",
       "    .dataframe tbody tr th:only-of-type {\n",
       "        vertical-align: middle;\n",
       "    }\n",
       "\n",
       "    .dataframe tbody tr th {\n",
       "        vertical-align: top;\n",
       "    }\n",
       "\n",
       "    .dataframe thead th {\n",
       "        text-align: right;\n",
       "    }\n",
       "</style>\n",
       "<table border=\"1\" class=\"dataframe\">\n",
       "  <thead>\n",
       "    <tr style=\"text-align: right;\">\n",
       "      <th></th>\n",
       "      <th>Brand</th>\n",
       "      <th>Price</th>\n",
       "      <th>Body</th>\n",
       "      <th>Mileage</th>\n",
       "      <th>EngineV</th>\n",
       "      <th>Engine Type</th>\n",
       "      <th>Registration</th>\n",
       "      <th>Year</th>\n",
       "      <th>Model</th>\n",
       "    </tr>\n",
       "  </thead>\n",
       "  <tbody>\n",
       "    <tr>\n",
       "      <th>0</th>\n",
       "      <td>BMW</td>\n",
       "      <td>4200.0</td>\n",
       "      <td>sedan</td>\n",
       "      <td>277</td>\n",
       "      <td>2.0</td>\n",
       "      <td>Petrol</td>\n",
       "      <td>yes</td>\n",
       "      <td>1991</td>\n",
       "      <td>320</td>\n",
       "    </tr>\n",
       "    <tr>\n",
       "      <th>1</th>\n",
       "      <td>Mercedes-Benz</td>\n",
       "      <td>7900.0</td>\n",
       "      <td>van</td>\n",
       "      <td>427</td>\n",
       "      <td>2.9</td>\n",
       "      <td>Diesel</td>\n",
       "      <td>yes</td>\n",
       "      <td>1999</td>\n",
       "      <td>Sprinter 212</td>\n",
       "    </tr>\n",
       "    <tr>\n",
       "      <th>2</th>\n",
       "      <td>Mercedes-Benz</td>\n",
       "      <td>13300.0</td>\n",
       "      <td>sedan</td>\n",
       "      <td>358</td>\n",
       "      <td>5.0</td>\n",
       "      <td>Gas</td>\n",
       "      <td>yes</td>\n",
       "      <td>2003</td>\n",
       "      <td>S 500</td>\n",
       "    </tr>\n",
       "    <tr>\n",
       "      <th>3</th>\n",
       "      <td>Audi</td>\n",
       "      <td>23000.0</td>\n",
       "      <td>crossover</td>\n",
       "      <td>240</td>\n",
       "      <td>4.2</td>\n",
       "      <td>Petrol</td>\n",
       "      <td>yes</td>\n",
       "      <td>2007</td>\n",
       "      <td>Q7</td>\n",
       "    </tr>\n",
       "    <tr>\n",
       "      <th>4</th>\n",
       "      <td>Toyota</td>\n",
       "      <td>18300.0</td>\n",
       "      <td>crossover</td>\n",
       "      <td>120</td>\n",
       "      <td>2.0</td>\n",
       "      <td>Petrol</td>\n",
       "      <td>yes</td>\n",
       "      <td>2011</td>\n",
       "      <td>Rav 4</td>\n",
       "    </tr>\n",
       "    <tr>\n",
       "      <th>...</th>\n",
       "      <td>...</td>\n",
       "      <td>...</td>\n",
       "      <td>...</td>\n",
       "      <td>...</td>\n",
       "      <td>...</td>\n",
       "      <td>...</td>\n",
       "      <td>...</td>\n",
       "      <td>...</td>\n",
       "      <td>...</td>\n",
       "    </tr>\n",
       "    <tr>\n",
       "      <th>4338</th>\n",
       "      <td>Volkswagen</td>\n",
       "      <td>11500.0</td>\n",
       "      <td>van</td>\n",
       "      <td>163</td>\n",
       "      <td>2.5</td>\n",
       "      <td>Diesel</td>\n",
       "      <td>yes</td>\n",
       "      <td>2008</td>\n",
       "      <td>T5 (Transporter)</td>\n",
       "    </tr>\n",
       "    <tr>\n",
       "      <th>4339</th>\n",
       "      <td>Toyota</td>\n",
       "      <td>17900.0</td>\n",
       "      <td>sedan</td>\n",
       "      <td>35</td>\n",
       "      <td>1.6</td>\n",
       "      <td>Petrol</td>\n",
       "      <td>yes</td>\n",
       "      <td>2014</td>\n",
       "      <td>Corolla</td>\n",
       "    </tr>\n",
       "    <tr>\n",
       "      <th>4341</th>\n",
       "      <td>BMW</td>\n",
       "      <td>6500.0</td>\n",
       "      <td>sedan</td>\n",
       "      <td>1</td>\n",
       "      <td>3.5</td>\n",
       "      <td>Petrol</td>\n",
       "      <td>yes</td>\n",
       "      <td>1999</td>\n",
       "      <td>535</td>\n",
       "    </tr>\n",
       "    <tr>\n",
       "      <th>4342</th>\n",
       "      <td>BMW</td>\n",
       "      <td>8000.0</td>\n",
       "      <td>sedan</td>\n",
       "      <td>194</td>\n",
       "      <td>2.0</td>\n",
       "      <td>Petrol</td>\n",
       "      <td>yes</td>\n",
       "      <td>1985</td>\n",
       "      <td>520</td>\n",
       "    </tr>\n",
       "    <tr>\n",
       "      <th>4344</th>\n",
       "      <td>Volkswagen</td>\n",
       "      <td>13500.0</td>\n",
       "      <td>van</td>\n",
       "      <td>124</td>\n",
       "      <td>2.0</td>\n",
       "      <td>Diesel</td>\n",
       "      <td>yes</td>\n",
       "      <td>2013</td>\n",
       "      <td>T5 (Transporter)</td>\n",
       "    </tr>\n",
       "  </tbody>\n",
       "</table>\n",
       "<p>3670 rows × 9 columns</p>\n",
       "</div>"
      ],
      "text/plain": [
       "              Brand    Price       Body  Mileage  EngineV Engine Type  \\\n",
       "0               BMW   4200.0      sedan      277      2.0      Petrol   \n",
       "1     Mercedes-Benz   7900.0        van      427      2.9      Diesel   \n",
       "2     Mercedes-Benz  13300.0      sedan      358      5.0         Gas   \n",
       "3              Audi  23000.0  crossover      240      4.2      Petrol   \n",
       "4            Toyota  18300.0  crossover      120      2.0      Petrol   \n",
       "...             ...      ...        ...      ...      ...         ...   \n",
       "4338     Volkswagen  11500.0        van      163      2.5      Diesel   \n",
       "4339         Toyota  17900.0      sedan       35      1.6      Petrol   \n",
       "4341            BMW   6500.0      sedan        1      3.5      Petrol   \n",
       "4342            BMW   8000.0      sedan      194      2.0      Petrol   \n",
       "4344     Volkswagen  13500.0        van      124      2.0      Diesel   \n",
       "\n",
       "     Registration  Year              Model  \n",
       "0             yes  1991                320  \n",
       "1             yes  1999       Sprinter 212  \n",
       "2             yes  2003              S 500  \n",
       "3             yes  2007                 Q7  \n",
       "4             yes  2011              Rav 4  \n",
       "...           ...   ...                ...  \n",
       "4338          yes  2008   T5 (Transporter)  \n",
       "4339          yes  2014            Corolla  \n",
       "4341          yes  1999                535  \n",
       "4342          yes  1985                520  \n",
       "4344          yes  2013  T5 (Transporter)   \n",
       "\n",
       "[3670 rows x 9 columns]"
      ]
     },
     "execution_count": 767,
     "metadata": {},
     "output_type": "execute_result"
    }
   ],
   "source": [
    "# CODE HERE\n",
    "data = data[data['Price'] <= upper_bound]   # remove outliers\n",
    "data"
   ]
  },
  {
   "cell_type": "markdown",
   "metadata": {},
   "source": [
    "#### 8C. Again Check the Distribution for `Price` Column and say something about distribution plot"
   ]
  },
  {
   "cell_type": "code",
   "execution_count": 768,
   "metadata": {},
   "outputs": [
    {
     "data": {
      "text/plain": [
       "<AxesSubplot:xlabel='Price', ylabel='Density'>"
      ]
     },
     "execution_count": 768,
     "metadata": {},
     "output_type": "execute_result"
    },
    {
     "data": {
      "image/png": "[encoded data removed]",
      "text/plain": [
       "<Figure size 432x288 with 1 Axes>"
      ]
     },
     "metadata": {
      "needs_background": "light"
     },
     "output_type": "display_data"
    }
   ],
   "source": [
    "# CODE HERE\n",
    "sns.distplot(data['Price'])"
   ]
  },
  {
   "cell_type": "markdown",
   "metadata": {},
   "source": [
    "#### 9A. Same identify and remove the outliers in `Milage` column"
   ]
  },
  {
   "cell_type": "code",
   "execution_count": 769,
   "metadata": {},
   "outputs": [
    {
     "data": {
      "text/plain": [
       "<AxesSubplot:xlabel='Mileage'>"
      ]
     },
     "execution_count": 769,
     "metadata": {},
     "output_type": "execute_result"
    },
    {
     "data": {
      "image/png": "[encoded data removed]",
      "text/plain": [
       "<Figure size 432x288 with 1 Axes>"
      ]
     },
     "metadata": {
      "needs_background": "light"
     },
     "output_type": "display_data"
    }
   ],
   "source": [
    "# CODE HERE\n",
    "sns.boxplot(data['Mileage'])"
   ]
  },
  {
   "cell_type": "code",
   "execution_count": 770,
   "metadata": {},
   "outputs": [
    {
     "name": "stdout",
     "output_type": "stream",
     "text": [
      "Lower Bound:-87.0 and Upper Bound:433.0\n"
     ]
    }
   ],
   "source": [
    "q1=np.percentile(data['Mileage'],25)\n",
    "q3=np.percentile(data['Mileage'],75)\n",
    "IQR=q3-q1\n",
    "good_value=1.5 * IQR\n",
    "lower_bound=q1-good_value\n",
    "upper_bound=q3+good_value\n",
    "print(f'Lower Bound:{lower_bound} and Upper Bound:{upper_bound}')"
   ]
  },
  {
   "cell_type": "code",
   "execution_count": 771,
   "metadata": {},
   "outputs": [
    {
     "data": {
      "text/html": [
       "<div>\n",
       "<style scoped>\n",
       "    .dataframe tbody tr th:only-of-type {\n",
       "        vertical-align: middle;\n",
       "    }\n",
       "\n",
       "    .dataframe tbody tr th {\n",
       "        vertical-align: top;\n",
       "    }\n",
       "\n",
       "    .dataframe thead th {\n",
       "        text-align: right;\n",
       "    }\n",
       "</style>\n",
       "<table border=\"1\" class=\"dataframe\">\n",
       "  <thead>\n",
       "    <tr style=\"text-align: right;\">\n",
       "      <th></th>\n",
       "      <th>Brand</th>\n",
       "      <th>Price</th>\n",
       "      <th>Body</th>\n",
       "      <th>Mileage</th>\n",
       "      <th>EngineV</th>\n",
       "      <th>Engine Type</th>\n",
       "      <th>Registration</th>\n",
       "      <th>Year</th>\n",
       "      <th>Model</th>\n",
       "    </tr>\n",
       "  </thead>\n",
       "  <tbody>\n",
       "    <tr>\n",
       "      <th>6</th>\n",
       "      <td>BMW</td>\n",
       "      <td>6100.0</td>\n",
       "      <td>sedan</td>\n",
       "      <td>438</td>\n",
       "      <td>2.0</td>\n",
       "      <td>Gas</td>\n",
       "      <td>yes</td>\n",
       "      <td>1997</td>\n",
       "      <td>320</td>\n",
       "    </tr>\n",
       "    <tr>\n",
       "      <th>258</th>\n",
       "      <td>Volkswagen</td>\n",
       "      <td>2500.0</td>\n",
       "      <td>sedan</td>\n",
       "      <td>488</td>\n",
       "      <td>2.0</td>\n",
       "      <td>Petrol</td>\n",
       "      <td>yes</td>\n",
       "      <td>1991</td>\n",
       "      <td>Passat B3</td>\n",
       "    </tr>\n",
       "    <tr>\n",
       "      <th>284</th>\n",
       "      <td>Renault</td>\n",
       "      <td>4900.0</td>\n",
       "      <td>van</td>\n",
       "      <td>472</td>\n",
       "      <td>2.5</td>\n",
       "      <td>Diesel</td>\n",
       "      <td>yes</td>\n",
       "      <td>2000</td>\n",
       "      <td>Master</td>\n",
       "    </tr>\n",
       "    <tr>\n",
       "      <th>396</th>\n",
       "      <td>Mercedes-Benz</td>\n",
       "      <td>2650.0</td>\n",
       "      <td>sedan</td>\n",
       "      <td>470</td>\n",
       "      <td>2.0</td>\n",
       "      <td>Gas</td>\n",
       "      <td>yes</td>\n",
       "      <td>1985</td>\n",
       "      <td>190</td>\n",
       "    </tr>\n",
       "    <tr>\n",
       "      <th>899</th>\n",
       "      <td>Volkswagen</td>\n",
       "      <td>6500.0</td>\n",
       "      <td>other</td>\n",
       "      <td>547</td>\n",
       "      <td>1.9</td>\n",
       "      <td>Diesel</td>\n",
       "      <td>yes</td>\n",
       "      <td>1998</td>\n",
       "      <td>T4 (Transporter)</td>\n",
       "    </tr>\n",
       "  </tbody>\n",
       "</table>\n",
       "</div>"
      ],
      "text/plain": [
       "             Brand   Price   Body  Mileage  EngineV Engine Type Registration  \\\n",
       "6              BMW  6100.0  sedan      438      2.0         Gas          yes   \n",
       "258     Volkswagen  2500.0  sedan      488      2.0      Petrol          yes   \n",
       "284        Renault  4900.0    van      472      2.5      Diesel          yes   \n",
       "396  Mercedes-Benz  2650.0  sedan      470      2.0         Gas          yes   \n",
       "899     Volkswagen  6500.0  other      547      1.9      Diesel          yes   \n",
       "\n",
       "     Year             Model  \n",
       "6    1997               320  \n",
       "258  1991         Passat B3  \n",
       "284  2000            Master  \n",
       "396  1985               190  \n",
       "899  1998  T4 (Transporter)  "
      ]
     },
     "execution_count": 771,
     "metadata": {},
     "output_type": "execute_result"
    }
   ],
   "source": [
    "data[data['Mileage'] > upper_bound].head()"
   ]
  },
  {
   "cell_type": "code",
   "execution_count": 772,
   "metadata": {},
   "outputs": [
    {
     "data": {
      "text/html": [
       "<div>\n",
       "<style scoped>\n",
       "    .dataframe tbody tr th:only-of-type {\n",
       "        vertical-align: middle;\n",
       "    }\n",
       "\n",
       "    .dataframe tbody tr th {\n",
       "        vertical-align: top;\n",
       "    }\n",
       "\n",
       "    .dataframe thead th {\n",
       "        text-align: right;\n",
       "    }\n",
       "</style>\n",
       "<table border=\"1\" class=\"dataframe\">\n",
       "  <thead>\n",
       "    <tr style=\"text-align: right;\">\n",
       "      <th></th>\n",
       "      <th>Brand</th>\n",
       "      <th>Price</th>\n",
       "      <th>Body</th>\n",
       "      <th>Mileage</th>\n",
       "      <th>EngineV</th>\n",
       "      <th>Engine Type</th>\n",
       "      <th>Registration</th>\n",
       "      <th>Year</th>\n",
       "      <th>Model</th>\n",
       "    </tr>\n",
       "  </thead>\n",
       "  <tbody>\n",
       "    <tr>\n",
       "      <th>0</th>\n",
       "      <td>BMW</td>\n",
       "      <td>4200.0</td>\n",
       "      <td>sedan</td>\n",
       "      <td>277</td>\n",
       "      <td>2.00</td>\n",
       "      <td>Petrol</td>\n",
       "      <td>yes</td>\n",
       "      <td>1991</td>\n",
       "      <td>320</td>\n",
       "    </tr>\n",
       "    <tr>\n",
       "      <th>1</th>\n",
       "      <td>Mercedes-Benz</td>\n",
       "      <td>7900.0</td>\n",
       "      <td>van</td>\n",
       "      <td>427</td>\n",
       "      <td>2.90</td>\n",
       "      <td>Diesel</td>\n",
       "      <td>yes</td>\n",
       "      <td>1999</td>\n",
       "      <td>Sprinter 212</td>\n",
       "    </tr>\n",
       "    <tr>\n",
       "      <th>2</th>\n",
       "      <td>Mercedes-Benz</td>\n",
       "      <td>13300.0</td>\n",
       "      <td>sedan</td>\n",
       "      <td>358</td>\n",
       "      <td>5.00</td>\n",
       "      <td>Gas</td>\n",
       "      <td>yes</td>\n",
       "      <td>2003</td>\n",
       "      <td>S 500</td>\n",
       "    </tr>\n",
       "    <tr>\n",
       "      <th>3</th>\n",
       "      <td>Audi</td>\n",
       "      <td>23000.0</td>\n",
       "      <td>crossover</td>\n",
       "      <td>240</td>\n",
       "      <td>4.20</td>\n",
       "      <td>Petrol</td>\n",
       "      <td>yes</td>\n",
       "      <td>2007</td>\n",
       "      <td>Q7</td>\n",
       "    </tr>\n",
       "    <tr>\n",
       "      <th>4</th>\n",
       "      <td>Toyota</td>\n",
       "      <td>18300.0</td>\n",
       "      <td>crossover</td>\n",
       "      <td>120</td>\n",
       "      <td>2.00</td>\n",
       "      <td>Petrol</td>\n",
       "      <td>yes</td>\n",
       "      <td>2011</td>\n",
       "      <td>Rav 4</td>\n",
       "    </tr>\n",
       "    <tr>\n",
       "      <th>7</th>\n",
       "      <td>Audi</td>\n",
       "      <td>14200.0</td>\n",
       "      <td>vagon</td>\n",
       "      <td>200</td>\n",
       "      <td>2.70</td>\n",
       "      <td>Diesel</td>\n",
       "      <td>yes</td>\n",
       "      <td>2006</td>\n",
       "      <td>A6</td>\n",
       "    </tr>\n",
       "    <tr>\n",
       "      <th>8</th>\n",
       "      <td>Renault</td>\n",
       "      <td>10799.0</td>\n",
       "      <td>vagon</td>\n",
       "      <td>193</td>\n",
       "      <td>1.50</td>\n",
       "      <td>Diesel</td>\n",
       "      <td>yes</td>\n",
       "      <td>2012</td>\n",
       "      <td>Megane</td>\n",
       "    </tr>\n",
       "    <tr>\n",
       "      <th>9</th>\n",
       "      <td>Volkswagen</td>\n",
       "      <td>1400.0</td>\n",
       "      <td>other</td>\n",
       "      <td>212</td>\n",
       "      <td>1.80</td>\n",
       "      <td>Gas</td>\n",
       "      <td>no</td>\n",
       "      <td>1999</td>\n",
       "      <td>Golf IV</td>\n",
       "    </tr>\n",
       "    <tr>\n",
       "      <th>10</th>\n",
       "      <td>Renault</td>\n",
       "      <td>11950.0</td>\n",
       "      <td>vagon</td>\n",
       "      <td>177</td>\n",
       "      <td>1.50</td>\n",
       "      <td>Diesel</td>\n",
       "      <td>yes</td>\n",
       "      <td>2011</td>\n",
       "      <td>Megane</td>\n",
       "    </tr>\n",
       "    <tr>\n",
       "      <th>11</th>\n",
       "      <td>Renault</td>\n",
       "      <td>2500.0</td>\n",
       "      <td>sedan</td>\n",
       "      <td>260</td>\n",
       "      <td>1.79</td>\n",
       "      <td>Petrol</td>\n",
       "      <td>yes</td>\n",
       "      <td>1994</td>\n",
       "      <td>19</td>\n",
       "    </tr>\n",
       "  </tbody>\n",
       "</table>\n",
       "</div>"
      ],
      "text/plain": [
       "            Brand    Price       Body  Mileage  EngineV Engine Type  \\\n",
       "0             BMW   4200.0      sedan      277     2.00      Petrol   \n",
       "1   Mercedes-Benz   7900.0        van      427     2.90      Diesel   \n",
       "2   Mercedes-Benz  13300.0      sedan      358     5.00         Gas   \n",
       "3            Audi  23000.0  crossover      240     4.20      Petrol   \n",
       "4          Toyota  18300.0  crossover      120     2.00      Petrol   \n",
       "7            Audi  14200.0      vagon      200     2.70      Diesel   \n",
       "8         Renault  10799.0      vagon      193     1.50      Diesel   \n",
       "9      Volkswagen   1400.0      other      212     1.80         Gas   \n",
       "10        Renault  11950.0      vagon      177     1.50      Diesel   \n",
       "11        Renault   2500.0      sedan      260     1.79      Petrol   \n",
       "\n",
       "   Registration  Year         Model  \n",
       "0           yes  1991           320  \n",
       "1           yes  1999  Sprinter 212  \n",
       "2           yes  2003         S 500  \n",
       "3           yes  2007            Q7  \n",
       "4           yes  2011         Rav 4  \n",
       "7           yes  2006            A6  \n",
       "8           yes  2012        Megane  \n",
       "9            no  1999       Golf IV  \n",
       "10          yes  2011        Megane  \n",
       "11          yes  1994            19  "
      ]
     },
     "execution_count": 772,
     "metadata": {},
     "output_type": "execute_result"
    }
   ],
   "source": [
    "# CODE HERE\n",
    "data = data[data['Mileage'] <= upper_bound]   # remove outliers\n",
    "data.head(10)"
   ]
  },
  {
   "cell_type": "markdown",
   "metadata": {},
   "source": [
    "#### 9B. Check the distribution after deleting the outliers in `milage` column and say something about distribution."
   ]
  },
  {
   "cell_type": "code",
   "execution_count": 773,
   "metadata": {},
   "outputs": [
    {
     "data": {
      "text/plain": [
       "<AxesSubplot:xlabel='Mileage', ylabel='Density'>"
      ]
     },
     "execution_count": 773,
     "metadata": {},
     "output_type": "execute_result"
    },
    {
     "data": {
      "image/png": "[encoded data removed]",
      "text/plain": [
       "<Figure size 432x288 with 1 Axes>"
      ]
     },
     "metadata": {
      "needs_background": "light"
     },
     "output_type": "display_data"
    }
   ],
   "source": [
    "# CODE HERE\n",
    "sns.distplot(data['Mileage'])"
   ]
  },
  {
   "cell_type": "markdown",
   "metadata": {},
   "source": [
    "### `Now this variable is Normally Distributed`"
   ]
  },
  {
   "cell_type": "markdown",
   "metadata": {},
   "source": [
    "#### 10A. Identify and remove the outliers from `EngineV` column\n",
    "\n"
   ]
  },
  {
   "cell_type": "code",
   "execution_count": 774,
   "metadata": {},
   "outputs": [
    {
     "data": {
      "text/plain": [
       "<AxesSubplot:xlabel='EngineV'>"
      ]
     },
     "execution_count": 774,
     "metadata": {},
     "output_type": "execute_result"
    },
    {
     "data": {
      "image/png": "[encoded data removed]",
      "text/plain": [
       "<Figure size 432x288 with 1 Axes>"
      ]
     },
     "metadata": {
      "needs_background": "light"
     },
     "output_type": "display_data"
    }
   ],
   "source": [
    "# CODE HERE\n",
    "# CODE HERE\n",
    "sns.boxplot(data['EngineV'])"
   ]
  },
  {
   "cell_type": "code",
   "execution_count": 775,
   "metadata": {},
   "outputs": [
    {
     "name": "stdout",
     "output_type": "stream",
     "text": [
      "Lower Bound:0.3000000000000005 and Upper Bound:4.299999999999999\n"
     ]
    }
   ],
   "source": [
    "# CODE HERE\n",
    "q1=np.percentile(data['EngineV'],25)\n",
    "q3=np.percentile(data['EngineV'],75)\n",
    "IQR=q3-q1\n",
    "good_value=1.5 * IQR\n",
    "lower_bound=q1-good_value\n",
    "upper_bound=q3+good_value\n",
    "print(f'Lower Bound:{lower_bound} and Upper Bound:{upper_bound}')"
   ]
  },
  {
   "cell_type": "code",
   "execution_count": 776,
   "metadata": {},
   "outputs": [
    {
     "data": {
      "text/html": [
       "<div>\n",
       "<style scoped>\n",
       "    .dataframe tbody tr th:only-of-type {\n",
       "        vertical-align: middle;\n",
       "    }\n",
       "\n",
       "    .dataframe tbody tr th {\n",
       "        vertical-align: top;\n",
       "    }\n",
       "\n",
       "    .dataframe thead th {\n",
       "        text-align: right;\n",
       "    }\n",
       "</style>\n",
       "<table border=\"1\" class=\"dataframe\">\n",
       "  <thead>\n",
       "    <tr style=\"text-align: right;\">\n",
       "      <th></th>\n",
       "      <th>Brand</th>\n",
       "      <th>Price</th>\n",
       "      <th>Body</th>\n",
       "      <th>Mileage</th>\n",
       "      <th>EngineV</th>\n",
       "      <th>Engine Type</th>\n",
       "      <th>Registration</th>\n",
       "      <th>Year</th>\n",
       "      <th>Model</th>\n",
       "    </tr>\n",
       "  </thead>\n",
       "  <tbody>\n",
       "    <tr>\n",
       "      <th>2</th>\n",
       "      <td>Mercedes-Benz</td>\n",
       "      <td>13300.0</td>\n",
       "      <td>sedan</td>\n",
       "      <td>358</td>\n",
       "      <td>5.0</td>\n",
       "      <td>Gas</td>\n",
       "      <td>yes</td>\n",
       "      <td>2003</td>\n",
       "      <td>S 500</td>\n",
       "    </tr>\n",
       "    <tr>\n",
       "      <th>14</th>\n",
       "      <td>Toyota</td>\n",
       "      <td>16000.0</td>\n",
       "      <td>crossover</td>\n",
       "      <td>250</td>\n",
       "      <td>4.7</td>\n",
       "      <td>Gas</td>\n",
       "      <td>yes</td>\n",
       "      <td>2001</td>\n",
       "      <td>Land Cruiser 100</td>\n",
       "    </tr>\n",
       "    <tr>\n",
       "      <th>33</th>\n",
       "      <td>BMW</td>\n",
       "      <td>28500.0</td>\n",
       "      <td>crossover</td>\n",
       "      <td>160</td>\n",
       "      <td>4.8</td>\n",
       "      <td>Gas</td>\n",
       "      <td>yes</td>\n",
       "      <td>2008</td>\n",
       "      <td>X5</td>\n",
       "    </tr>\n",
       "    <tr>\n",
       "      <th>48</th>\n",
       "      <td>Mercedes-Benz</td>\n",
       "      <td>29500.0</td>\n",
       "      <td>sedan</td>\n",
       "      <td>134</td>\n",
       "      <td>5.0</td>\n",
       "      <td>Petrol</td>\n",
       "      <td>yes</td>\n",
       "      <td>2008</td>\n",
       "      <td>S 500</td>\n",
       "    </tr>\n",
       "    <tr>\n",
       "      <th>53</th>\n",
       "      <td>Mercedes-Benz</td>\n",
       "      <td>13500.0</td>\n",
       "      <td>sedan</td>\n",
       "      <td>317</td>\n",
       "      <td>5.0</td>\n",
       "      <td>Petrol</td>\n",
       "      <td>yes</td>\n",
       "      <td>2001</td>\n",
       "      <td>S 500</td>\n",
       "    </tr>\n",
       "  </tbody>\n",
       "</table>\n",
       "</div>"
      ],
      "text/plain": [
       "            Brand    Price       Body  Mileage  EngineV Engine Type  \\\n",
       "2   Mercedes-Benz  13300.0      sedan      358      5.0         Gas   \n",
       "14         Toyota  16000.0  crossover      250      4.7         Gas   \n",
       "33            BMW  28500.0  crossover      160      4.8         Gas   \n",
       "48  Mercedes-Benz  29500.0      sedan      134      5.0      Petrol   \n",
       "53  Mercedes-Benz  13500.0      sedan      317      5.0      Petrol   \n",
       "\n",
       "   Registration  Year             Model  \n",
       "2           yes  2003             S 500  \n",
       "14          yes  2001  Land Cruiser 100  \n",
       "33          yes  2008                X5  \n",
       "48          yes  2008             S 500  \n",
       "53          yes  2001             S 500  "
      ]
     },
     "execution_count": 776,
     "metadata": {},
     "output_type": "execute_result"
    }
   ],
   "source": [
    "data[data['EngineV'] > upper_bound].head()"
   ]
  },
  {
   "cell_type": "code",
   "execution_count": 777,
   "metadata": {},
   "outputs": [
    {
     "data": {
      "text/html": [
       "<div>\n",
       "<style scoped>\n",
       "    .dataframe tbody tr th:only-of-type {\n",
       "        vertical-align: middle;\n",
       "    }\n",
       "\n",
       "    .dataframe tbody tr th {\n",
       "        vertical-align: top;\n",
       "    }\n",
       "\n",
       "    .dataframe thead th {\n",
       "        text-align: right;\n",
       "    }\n",
       "</style>\n",
       "<table border=\"1\" class=\"dataframe\">\n",
       "  <thead>\n",
       "    <tr style=\"text-align: right;\">\n",
       "      <th></th>\n",
       "      <th>Brand</th>\n",
       "      <th>Price</th>\n",
       "      <th>Body</th>\n",
       "      <th>Mileage</th>\n",
       "      <th>EngineV</th>\n",
       "      <th>Engine Type</th>\n",
       "      <th>Registration</th>\n",
       "      <th>Year</th>\n",
       "      <th>Model</th>\n",
       "    </tr>\n",
       "  </thead>\n",
       "  <tbody>\n",
       "    <tr>\n",
       "      <th>0</th>\n",
       "      <td>BMW</td>\n",
       "      <td>4200.0</td>\n",
       "      <td>sedan</td>\n",
       "      <td>277</td>\n",
       "      <td>2.00</td>\n",
       "      <td>Petrol</td>\n",
       "      <td>yes</td>\n",
       "      <td>1991</td>\n",
       "      <td>320</td>\n",
       "    </tr>\n",
       "    <tr>\n",
       "      <th>1</th>\n",
       "      <td>Mercedes-Benz</td>\n",
       "      <td>7900.0</td>\n",
       "      <td>van</td>\n",
       "      <td>427</td>\n",
       "      <td>2.90</td>\n",
       "      <td>Diesel</td>\n",
       "      <td>yes</td>\n",
       "      <td>1999</td>\n",
       "      <td>Sprinter 212</td>\n",
       "    </tr>\n",
       "    <tr>\n",
       "      <th>3</th>\n",
       "      <td>Audi</td>\n",
       "      <td>23000.0</td>\n",
       "      <td>crossover</td>\n",
       "      <td>240</td>\n",
       "      <td>4.20</td>\n",
       "      <td>Petrol</td>\n",
       "      <td>yes</td>\n",
       "      <td>2007</td>\n",
       "      <td>Q7</td>\n",
       "    </tr>\n",
       "    <tr>\n",
       "      <th>4</th>\n",
       "      <td>Toyota</td>\n",
       "      <td>18300.0</td>\n",
       "      <td>crossover</td>\n",
       "      <td>120</td>\n",
       "      <td>2.00</td>\n",
       "      <td>Petrol</td>\n",
       "      <td>yes</td>\n",
       "      <td>2011</td>\n",
       "      <td>Rav 4</td>\n",
       "    </tr>\n",
       "    <tr>\n",
       "      <th>7</th>\n",
       "      <td>Audi</td>\n",
       "      <td>14200.0</td>\n",
       "      <td>vagon</td>\n",
       "      <td>200</td>\n",
       "      <td>2.70</td>\n",
       "      <td>Diesel</td>\n",
       "      <td>yes</td>\n",
       "      <td>2006</td>\n",
       "      <td>A6</td>\n",
       "    </tr>\n",
       "    <tr>\n",
       "      <th>8</th>\n",
       "      <td>Renault</td>\n",
       "      <td>10799.0</td>\n",
       "      <td>vagon</td>\n",
       "      <td>193</td>\n",
       "      <td>1.50</td>\n",
       "      <td>Diesel</td>\n",
       "      <td>yes</td>\n",
       "      <td>2012</td>\n",
       "      <td>Megane</td>\n",
       "    </tr>\n",
       "    <tr>\n",
       "      <th>9</th>\n",
       "      <td>Volkswagen</td>\n",
       "      <td>1400.0</td>\n",
       "      <td>other</td>\n",
       "      <td>212</td>\n",
       "      <td>1.80</td>\n",
       "      <td>Gas</td>\n",
       "      <td>no</td>\n",
       "      <td>1999</td>\n",
       "      <td>Golf IV</td>\n",
       "    </tr>\n",
       "    <tr>\n",
       "      <th>10</th>\n",
       "      <td>Renault</td>\n",
       "      <td>11950.0</td>\n",
       "      <td>vagon</td>\n",
       "      <td>177</td>\n",
       "      <td>1.50</td>\n",
       "      <td>Diesel</td>\n",
       "      <td>yes</td>\n",
       "      <td>2011</td>\n",
       "      <td>Megane</td>\n",
       "    </tr>\n",
       "    <tr>\n",
       "      <th>11</th>\n",
       "      <td>Renault</td>\n",
       "      <td>2500.0</td>\n",
       "      <td>sedan</td>\n",
       "      <td>260</td>\n",
       "      <td>1.79</td>\n",
       "      <td>Petrol</td>\n",
       "      <td>yes</td>\n",
       "      <td>1994</td>\n",
       "      <td>19</td>\n",
       "    </tr>\n",
       "    <tr>\n",
       "      <th>12</th>\n",
       "      <td>Audi</td>\n",
       "      <td>9500.0</td>\n",
       "      <td>vagon</td>\n",
       "      <td>165</td>\n",
       "      <td>2.70</td>\n",
       "      <td>Gas</td>\n",
       "      <td>yes</td>\n",
       "      <td>2003</td>\n",
       "      <td>A6 Allroad</td>\n",
       "    </tr>\n",
       "  </tbody>\n",
       "</table>\n",
       "</div>"
      ],
      "text/plain": [
       "            Brand    Price       Body  Mileage  EngineV Engine Type  \\\n",
       "0             BMW   4200.0      sedan      277     2.00      Petrol   \n",
       "1   Mercedes-Benz   7900.0        van      427     2.90      Diesel   \n",
       "3            Audi  23000.0  crossover      240     4.20      Petrol   \n",
       "4          Toyota  18300.0  crossover      120     2.00      Petrol   \n",
       "7            Audi  14200.0      vagon      200     2.70      Diesel   \n",
       "8         Renault  10799.0      vagon      193     1.50      Diesel   \n",
       "9      Volkswagen   1400.0      other      212     1.80         Gas   \n",
       "10        Renault  11950.0      vagon      177     1.50      Diesel   \n",
       "11        Renault   2500.0      sedan      260     1.79      Petrol   \n",
       "12           Audi   9500.0      vagon      165     2.70         Gas   \n",
       "\n",
       "   Registration  Year         Model  \n",
       "0           yes  1991           320  \n",
       "1           yes  1999  Sprinter 212  \n",
       "3           yes  2007            Q7  \n",
       "4           yes  2011         Rav 4  \n",
       "7           yes  2006            A6  \n",
       "8           yes  2012        Megane  \n",
       "9            no  1999       Golf IV  \n",
       "10          yes  2011        Megane  \n",
       "11          yes  1994            19  \n",
       "12          yes  2003    A6 Allroad  "
      ]
     },
     "execution_count": 777,
     "metadata": {},
     "output_type": "execute_result"
    }
   ],
   "source": [
    "# CODE HERE\n",
    "data = data[data['EngineV'] <= upper_bound]   # remove outliers\n",
    "data.head(10)"
   ]
  },
  {
   "cell_type": "markdown",
   "metadata": {},
   "source": [
    "#### 10B. Ckeck the distribution plot after deleting the outliers and say something about it."
   ]
  },
  {
   "cell_type": "code",
   "execution_count": 778,
   "metadata": {},
   "outputs": [
    {
     "data": {
      "text/plain": [
       "<AxesSubplot:xlabel='EngineV', ylabel='Density'>"
      ]
     },
     "execution_count": 778,
     "metadata": {},
     "output_type": "execute_result"
    },
    {
     "data": {
      "image/png": "[encoded data removed]",
      "text/plain": [
       "<Figure size 432x288 with 1 Axes>"
      ]
     },
     "metadata": {
      "needs_background": "light"
     },
     "output_type": "display_data"
    }
   ],
   "source": [
    "# CODE HERE\n",
    "sns.distplot(data['EngineV'])"
   ]
  },
  {
   "cell_type": "markdown",
   "metadata": {},
   "source": [
    "### `Now this variable is near to Normally distributed`"
   ]
  },
  {
   "cell_type": "markdown",
   "metadata": {},
   "source": [
    "#### 10C. Perform Label & One-Hot Encoding For the Categorical Variable"
   ]
  },
  {
   "cell_type": "markdown",
   "metadata": {},
   "source": [
    "### `Label Encoding`:"
   ]
  },
  {
   "cell_type": "markdown",
   "metadata": {},
   "source": [
    "#### `Registration`"
   ]
  },
  {
   "cell_type": "code",
   "execution_count": 779,
   "metadata": {},
   "outputs": [
    {
     "data": {
      "text/html": [
       "<div>\n",
       "<style scoped>\n",
       "    .dataframe tbody tr th:only-of-type {\n",
       "        vertical-align: middle;\n",
       "    }\n",
       "\n",
       "    .dataframe tbody tr th {\n",
       "        vertical-align: top;\n",
       "    }\n",
       "\n",
       "    .dataframe thead th {\n",
       "        text-align: right;\n",
       "    }\n",
       "</style>\n",
       "<table border=\"1\" class=\"dataframe\">\n",
       "  <thead>\n",
       "    <tr style=\"text-align: right;\">\n",
       "      <th></th>\n",
       "      <th>Brand</th>\n",
       "      <th>Price</th>\n",
       "      <th>Body</th>\n",
       "      <th>Mileage</th>\n",
       "      <th>EngineV</th>\n",
       "      <th>Engine Type</th>\n",
       "      <th>Registration</th>\n",
       "      <th>Year</th>\n",
       "      <th>Model</th>\n",
       "      <th>Registration_encoded</th>\n",
       "    </tr>\n",
       "  </thead>\n",
       "  <tbody>\n",
       "    <tr>\n",
       "      <th>1308</th>\n",
       "      <td>Audi</td>\n",
       "      <td>11900.0</td>\n",
       "      <td>sedan</td>\n",
       "      <td>195</td>\n",
       "      <td>2.4</td>\n",
       "      <td>Gas</td>\n",
       "      <td>yes</td>\n",
       "      <td>2005</td>\n",
       "      <td>A6</td>\n",
       "      <td>1</td>\n",
       "    </tr>\n",
       "    <tr>\n",
       "      <th>3294</th>\n",
       "      <td>Mercedes-Benz</td>\n",
       "      <td>3900.0</td>\n",
       "      <td>sedan</td>\n",
       "      <td>375</td>\n",
       "      <td>2.0</td>\n",
       "      <td>Petrol</td>\n",
       "      <td>yes</td>\n",
       "      <td>1990</td>\n",
       "      <td>190</td>\n",
       "      <td>1</td>\n",
       "    </tr>\n",
       "    <tr>\n",
       "      <th>1023</th>\n",
       "      <td>Mitsubishi</td>\n",
       "      <td>20500.0</td>\n",
       "      <td>crossover</td>\n",
       "      <td>109</td>\n",
       "      <td>3.2</td>\n",
       "      <td>Diesel</td>\n",
       "      <td>yes</td>\n",
       "      <td>2009</td>\n",
       "      <td>Pajero Wagon</td>\n",
       "      <td>1</td>\n",
       "    </tr>\n",
       "    <tr>\n",
       "      <th>913</th>\n",
       "      <td>BMW</td>\n",
       "      <td>3800.0</td>\n",
       "      <td>sedan</td>\n",
       "      <td>278</td>\n",
       "      <td>2.9</td>\n",
       "      <td>Diesel</td>\n",
       "      <td>no</td>\n",
       "      <td>2001</td>\n",
       "      <td>530</td>\n",
       "      <td>0</td>\n",
       "    </tr>\n",
       "    <tr>\n",
       "      <th>3112</th>\n",
       "      <td>Volkswagen</td>\n",
       "      <td>6900.0</td>\n",
       "      <td>sedan</td>\n",
       "      <td>256</td>\n",
       "      <td>1.8</td>\n",
       "      <td>Petrol</td>\n",
       "      <td>yes</td>\n",
       "      <td>2002</td>\n",
       "      <td>Passat B5</td>\n",
       "      <td>1</td>\n",
       "    </tr>\n",
       "    <tr>\n",
       "      <th>2508</th>\n",
       "      <td>Toyota</td>\n",
       "      <td>4650.0</td>\n",
       "      <td>hatch</td>\n",
       "      <td>170</td>\n",
       "      <td>1.0</td>\n",
       "      <td>Petrol</td>\n",
       "      <td>yes</td>\n",
       "      <td>2002</td>\n",
       "      <td>Yaris</td>\n",
       "      <td>1</td>\n",
       "    </tr>\n",
       "    <tr>\n",
       "      <th>4177</th>\n",
       "      <td>Renault</td>\n",
       "      <td>9200.0</td>\n",
       "      <td>hatch</td>\n",
       "      <td>12</td>\n",
       "      <td>1.2</td>\n",
       "      <td>Petrol</td>\n",
       "      <td>yes</td>\n",
       "      <td>2013</td>\n",
       "      <td>Sandero</td>\n",
       "      <td>1</td>\n",
       "    </tr>\n",
       "    <tr>\n",
       "      <th>3610</th>\n",
       "      <td>Audi</td>\n",
       "      <td>29000.0</td>\n",
       "      <td>vagon</td>\n",
       "      <td>213</td>\n",
       "      <td>3.0</td>\n",
       "      <td>Diesel</td>\n",
       "      <td>yes</td>\n",
       "      <td>2010</td>\n",
       "      <td>A6 Allroad</td>\n",
       "      <td>1</td>\n",
       "    </tr>\n",
       "    <tr>\n",
       "      <th>1540</th>\n",
       "      <td>Mercedes-Benz</td>\n",
       "      <td>3700.0</td>\n",
       "      <td>sedan</td>\n",
       "      <td>270</td>\n",
       "      <td>3.5</td>\n",
       "      <td>Petrol</td>\n",
       "      <td>no</td>\n",
       "      <td>2004</td>\n",
       "      <td>S 350</td>\n",
       "      <td>0</td>\n",
       "    </tr>\n",
       "    <tr>\n",
       "      <th>2704</th>\n",
       "      <td>Mercedes-Benz</td>\n",
       "      <td>15300.0</td>\n",
       "      <td>sedan</td>\n",
       "      <td>240</td>\n",
       "      <td>2.2</td>\n",
       "      <td>Diesel</td>\n",
       "      <td>yes</td>\n",
       "      <td>2006</td>\n",
       "      <td>E-Class</td>\n",
       "      <td>1</td>\n",
       "    </tr>\n",
       "  </tbody>\n",
       "</table>\n",
       "</div>"
      ],
      "text/plain": [
       "              Brand    Price       Body  Mileage  EngineV Engine Type  \\\n",
       "1308           Audi  11900.0      sedan      195      2.4         Gas   \n",
       "3294  Mercedes-Benz   3900.0      sedan      375      2.0      Petrol   \n",
       "1023     Mitsubishi  20500.0  crossover      109      3.2      Diesel   \n",
       "913             BMW   3800.0      sedan      278      2.9      Diesel   \n",
       "3112     Volkswagen   6900.0      sedan      256      1.8      Petrol   \n",
       "2508         Toyota   4650.0      hatch      170      1.0      Petrol   \n",
       "4177        Renault   9200.0      hatch       12      1.2      Petrol   \n",
       "3610           Audi  29000.0      vagon      213      3.0      Diesel   \n",
       "1540  Mercedes-Benz   3700.0      sedan      270      3.5      Petrol   \n",
       "2704  Mercedes-Benz  15300.0      sedan      240      2.2      Diesel   \n",
       "\n",
       "     Registration  Year         Model  Registration_encoded  \n",
       "1308          yes  2005            A6                     1  \n",
       "3294          yes  1990           190                     1  \n",
       "1023          yes  2009  Pajero Wagon                     1  \n",
       "913            no  2001           530                     0  \n",
       "3112          yes  2002     Passat B5                     1  \n",
       "2508          yes  2002         Yaris                     1  \n",
       "4177          yes  2013       Sandero                     1  \n",
       "3610          yes  2010    A6 Allroad                     1  \n",
       "1540           no  2004         S 350                     0  \n",
       "2704          yes  2006       E-Class                     1  "
      ]
     },
     "execution_count": 779,
     "metadata": {},
     "output_type": "execute_result"
    }
   ],
   "source": [
    "label_encoder = {\"yes\":1,\"no\":0}\n",
    "data[\"Registration_encoded\"] = data[\"Registration\"].apply(lambda x: label_encoder[x] if x in label_encoder else 2)\n",
    "data.sample(10)"
   ]
  },
  {
   "cell_type": "markdown",
   "metadata": {},
   "source": [
    "### `One hot Encoding`:"
   ]
  },
  {
   "cell_type": "markdown",
   "metadata": {},
   "source": [
    "#### `Engine Type`"
   ]
  },
  {
   "cell_type": "code",
   "execution_count": 780,
   "metadata": {},
   "outputs": [
    {
     "data": {
      "text/html": [
       "<div>\n",
       "<style scoped>\n",
       "    .dataframe tbody tr th:only-of-type {\n",
       "        vertical-align: middle;\n",
       "    }\n",
       "\n",
       "    .dataframe tbody tr th {\n",
       "        vertical-align: top;\n",
       "    }\n",
       "\n",
       "    .dataframe thead th {\n",
       "        text-align: right;\n",
       "    }\n",
       "</style>\n",
       "<table border=\"1\" class=\"dataframe\">\n",
       "  <thead>\n",
       "    <tr style=\"text-align: right;\">\n",
       "      <th></th>\n",
       "      <th>Brand</th>\n",
       "      <th>Price</th>\n",
       "      <th>Engine Type</th>\n",
       "      <th>Body</th>\n",
       "      <th>Mileage</th>\n",
       "      <th>EngineV</th>\n",
       "      <th>Registration</th>\n",
       "      <th>Year</th>\n",
       "      <th>Model</th>\n",
       "      <th>Registration_encoded</th>\n",
       "      <th>Engine_Diesel</th>\n",
       "      <th>Engine_Gas</th>\n",
       "      <th>Engine_Other</th>\n",
       "      <th>Engine_Petrol</th>\n",
       "    </tr>\n",
       "  </thead>\n",
       "  <tbody>\n",
       "    <tr>\n",
       "      <th>0</th>\n",
       "      <td>BMW</td>\n",
       "      <td>4200.0</td>\n",
       "      <td>Petrol</td>\n",
       "      <td>sedan</td>\n",
       "      <td>277</td>\n",
       "      <td>2.0</td>\n",
       "      <td>yes</td>\n",
       "      <td>1991</td>\n",
       "      <td>320</td>\n",
       "      <td>1</td>\n",
       "      <td>0</td>\n",
       "      <td>0</td>\n",
       "      <td>0</td>\n",
       "      <td>1</td>\n",
       "    </tr>\n",
       "    <tr>\n",
       "      <th>1</th>\n",
       "      <td>Mercedes-Benz</td>\n",
       "      <td>7900.0</td>\n",
       "      <td>Diesel</td>\n",
       "      <td>van</td>\n",
       "      <td>427</td>\n",
       "      <td>2.9</td>\n",
       "      <td>yes</td>\n",
       "      <td>1999</td>\n",
       "      <td>Sprinter 212</td>\n",
       "      <td>1</td>\n",
       "      <td>1</td>\n",
       "      <td>0</td>\n",
       "      <td>0</td>\n",
       "      <td>0</td>\n",
       "    </tr>\n",
       "    <tr>\n",
       "      <th>3</th>\n",
       "      <td>Audi</td>\n",
       "      <td>23000.0</td>\n",
       "      <td>Petrol</td>\n",
       "      <td>crossover</td>\n",
       "      <td>240</td>\n",
       "      <td>4.2</td>\n",
       "      <td>yes</td>\n",
       "      <td>2007</td>\n",
       "      <td>Q7</td>\n",
       "      <td>1</td>\n",
       "      <td>0</td>\n",
       "      <td>0</td>\n",
       "      <td>0</td>\n",
       "      <td>1</td>\n",
       "    </tr>\n",
       "    <tr>\n",
       "      <th>4</th>\n",
       "      <td>Toyota</td>\n",
       "      <td>18300.0</td>\n",
       "      <td>Petrol</td>\n",
       "      <td>crossover</td>\n",
       "      <td>120</td>\n",
       "      <td>2.0</td>\n",
       "      <td>yes</td>\n",
       "      <td>2011</td>\n",
       "      <td>Rav 4</td>\n",
       "      <td>1</td>\n",
       "      <td>0</td>\n",
       "      <td>0</td>\n",
       "      <td>0</td>\n",
       "      <td>1</td>\n",
       "    </tr>\n",
       "    <tr>\n",
       "      <th>7</th>\n",
       "      <td>Audi</td>\n",
       "      <td>14200.0</td>\n",
       "      <td>Diesel</td>\n",
       "      <td>vagon</td>\n",
       "      <td>200</td>\n",
       "      <td>2.7</td>\n",
       "      <td>yes</td>\n",
       "      <td>2006</td>\n",
       "      <td>A6</td>\n",
       "      <td>1</td>\n",
       "      <td>1</td>\n",
       "      <td>0</td>\n",
       "      <td>0</td>\n",
       "      <td>0</td>\n",
       "    </tr>\n",
       "    <tr>\n",
       "      <th>...</th>\n",
       "      <td>...</td>\n",
       "      <td>...</td>\n",
       "      <td>...</td>\n",
       "      <td>...</td>\n",
       "      <td>...</td>\n",
       "      <td>...</td>\n",
       "      <td>...</td>\n",
       "      <td>...</td>\n",
       "      <td>...</td>\n",
       "      <td>...</td>\n",
       "      <td>...</td>\n",
       "      <td>...</td>\n",
       "      <td>...</td>\n",
       "      <td>...</td>\n",
       "    </tr>\n",
       "    <tr>\n",
       "      <th>4338</th>\n",
       "      <td>Volkswagen</td>\n",
       "      <td>11500.0</td>\n",
       "      <td>Diesel</td>\n",
       "      <td>van</td>\n",
       "      <td>163</td>\n",
       "      <td>2.5</td>\n",
       "      <td>yes</td>\n",
       "      <td>2008</td>\n",
       "      <td>T5 (Transporter)</td>\n",
       "      <td>1</td>\n",
       "      <td>1</td>\n",
       "      <td>0</td>\n",
       "      <td>0</td>\n",
       "      <td>0</td>\n",
       "    </tr>\n",
       "    <tr>\n",
       "      <th>4339</th>\n",
       "      <td>Toyota</td>\n",
       "      <td>17900.0</td>\n",
       "      <td>Petrol</td>\n",
       "      <td>sedan</td>\n",
       "      <td>35</td>\n",
       "      <td>1.6</td>\n",
       "      <td>yes</td>\n",
       "      <td>2014</td>\n",
       "      <td>Corolla</td>\n",
       "      <td>1</td>\n",
       "      <td>0</td>\n",
       "      <td>0</td>\n",
       "      <td>0</td>\n",
       "      <td>1</td>\n",
       "    </tr>\n",
       "    <tr>\n",
       "      <th>4341</th>\n",
       "      <td>BMW</td>\n",
       "      <td>6500.0</td>\n",
       "      <td>Petrol</td>\n",
       "      <td>sedan</td>\n",
       "      <td>1</td>\n",
       "      <td>3.5</td>\n",
       "      <td>yes</td>\n",
       "      <td>1999</td>\n",
       "      <td>535</td>\n",
       "      <td>1</td>\n",
       "      <td>0</td>\n",
       "      <td>0</td>\n",
       "      <td>0</td>\n",
       "      <td>1</td>\n",
       "    </tr>\n",
       "    <tr>\n",
       "      <th>4342</th>\n",
       "      <td>BMW</td>\n",
       "      <td>8000.0</td>\n",
       "      <td>Petrol</td>\n",
       "      <td>sedan</td>\n",
       "      <td>194</td>\n",
       "      <td>2.0</td>\n",
       "      <td>yes</td>\n",
       "      <td>1985</td>\n",
       "      <td>520</td>\n",
       "      <td>1</td>\n",
       "      <td>0</td>\n",
       "      <td>0</td>\n",
       "      <td>0</td>\n",
       "      <td>1</td>\n",
       "    </tr>\n",
       "    <tr>\n",
       "      <th>4344</th>\n",
       "      <td>Volkswagen</td>\n",
       "      <td>13500.0</td>\n",
       "      <td>Diesel</td>\n",
       "      <td>van</td>\n",
       "      <td>124</td>\n",
       "      <td>2.0</td>\n",
       "      <td>yes</td>\n",
       "      <td>2013</td>\n",
       "      <td>T5 (Transporter)</td>\n",
       "      <td>1</td>\n",
       "      <td>1</td>\n",
       "      <td>0</td>\n",
       "      <td>0</td>\n",
       "      <td>0</td>\n",
       "    </tr>\n",
       "  </tbody>\n",
       "</table>\n",
       "<p>3419 rows × 14 columns</p>\n",
       "</div>"
      ],
      "text/plain": [
       "              Brand    Price Engine Type       Body  Mileage  EngineV  \\\n",
       "0               BMW   4200.0      Petrol      sedan      277      2.0   \n",
       "1     Mercedes-Benz   7900.0      Diesel        van      427      2.9   \n",
       "3              Audi  23000.0      Petrol  crossover      240      4.2   \n",
       "4            Toyota  18300.0      Petrol  crossover      120      2.0   \n",
       "7              Audi  14200.0      Diesel      vagon      200      2.7   \n",
       "...             ...      ...         ...        ...      ...      ...   \n",
       "4338     Volkswagen  11500.0      Diesel        van      163      2.5   \n",
       "4339         Toyota  17900.0      Petrol      sedan       35      1.6   \n",
       "4341            BMW   6500.0      Petrol      sedan        1      3.5   \n",
       "4342            BMW   8000.0      Petrol      sedan      194      2.0   \n",
       "4344     Volkswagen  13500.0      Diesel        van      124      2.0   \n",
       "\n",
       "     Registration  Year              Model  Registration_encoded  \\\n",
       "0             yes  1991                320                     1   \n",
       "1             yes  1999       Sprinter 212                     1   \n",
       "3             yes  2007                 Q7                     1   \n",
       "4             yes  2011              Rav 4                     1   \n",
       "7             yes  2006                 A6                     1   \n",
       "...           ...   ...                ...                   ...   \n",
       "4338          yes  2008   T5 (Transporter)                     1   \n",
       "4339          yes  2014            Corolla                     1   \n",
       "4341          yes  1999                535                     1   \n",
       "4342          yes  1985                520                     1   \n",
       "4344          yes  2013  T5 (Transporter)                      1   \n",
       "\n",
       "      Engine_Diesel  Engine_Gas  Engine_Other  Engine_Petrol  \n",
       "0                 0           0             0              1  \n",
       "1                 1           0             0              0  \n",
       "3                 0           0             0              1  \n",
       "4                 0           0             0              1  \n",
       "7                 1           0             0              0  \n",
       "...             ...         ...           ...            ...  \n",
       "4338              1           0             0              0  \n",
       "4339              0           0             0              1  \n",
       "4341              0           0             0              1  \n",
       "4342              0           0             0              1  \n",
       "4344              1           0             0              0  \n",
       "\n",
       "[3419 rows x 14 columns]"
      ]
     },
     "execution_count": 780,
     "metadata": {},
     "output_type": "execute_result"
    }
   ],
   "source": [
    "# Using get_dummies method in pandas\n",
    "df_ohe = data.copy()\n",
    "one_hot_1 = pd.get_dummies(df_ohe,prefix = 'Engine' ,columns=['Engine Type'],drop_first=False)\n",
    "one_hot_1.insert(loc=2, column='Engine Type', value=data['Engine Type'].values)\n",
    "one_hot_1"
   ]
  },
  {
   "cell_type": "markdown",
   "metadata": {},
   "source": [
    "#### `Body`"
   ]
  },
  {
   "cell_type": "code",
   "execution_count": 781,
   "metadata": {},
   "outputs": [
    {
     "data": {
      "text/html": [
       "<div>\n",
       "<style scoped>\n",
       "    .dataframe tbody tr th:only-of-type {\n",
       "        vertical-align: middle;\n",
       "    }\n",
       "\n",
       "    .dataframe tbody tr th {\n",
       "        vertical-align: top;\n",
       "    }\n",
       "\n",
       "    .dataframe thead th {\n",
       "        text-align: right;\n",
       "    }\n",
       "</style>\n",
       "<table border=\"1\" class=\"dataframe\">\n",
       "  <thead>\n",
       "    <tr style=\"text-align: right;\">\n",
       "      <th></th>\n",
       "      <th>Brand</th>\n",
       "      <th>Price</th>\n",
       "      <th>Body</th>\n",
       "      <th>Engine Type</th>\n",
       "      <th>Mileage</th>\n",
       "      <th>EngineV</th>\n",
       "      <th>Registration</th>\n",
       "      <th>Year</th>\n",
       "      <th>Model</th>\n",
       "      <th>Registration_encoded</th>\n",
       "      <th>Engine_Diesel</th>\n",
       "      <th>Engine_Gas</th>\n",
       "      <th>Engine_Other</th>\n",
       "      <th>Engine_Petrol</th>\n",
       "      <th>Body_crossover</th>\n",
       "      <th>Body_hatch</th>\n",
       "      <th>Body_other</th>\n",
       "      <th>Body_sedan</th>\n",
       "      <th>Body_vagon</th>\n",
       "      <th>Body_van</th>\n",
       "    </tr>\n",
       "  </thead>\n",
       "  <tbody>\n",
       "    <tr>\n",
       "      <th>0</th>\n",
       "      <td>BMW</td>\n",
       "      <td>4200.0</td>\n",
       "      <td>sedan</td>\n",
       "      <td>Petrol</td>\n",
       "      <td>277</td>\n",
       "      <td>2.0</td>\n",
       "      <td>yes</td>\n",
       "      <td>1991</td>\n",
       "      <td>320</td>\n",
       "      <td>1</td>\n",
       "      <td>0</td>\n",
       "      <td>0</td>\n",
       "      <td>0</td>\n",
       "      <td>1</td>\n",
       "      <td>0</td>\n",
       "      <td>0</td>\n",
       "      <td>0</td>\n",
       "      <td>1</td>\n",
       "      <td>0</td>\n",
       "      <td>0</td>\n",
       "    </tr>\n",
       "    <tr>\n",
       "      <th>1</th>\n",
       "      <td>Mercedes-Benz</td>\n",
       "      <td>7900.0</td>\n",
       "      <td>van</td>\n",
       "      <td>Diesel</td>\n",
       "      <td>427</td>\n",
       "      <td>2.9</td>\n",
       "      <td>yes</td>\n",
       "      <td>1999</td>\n",
       "      <td>Sprinter 212</td>\n",
       "      <td>1</td>\n",
       "      <td>1</td>\n",
       "      <td>0</td>\n",
       "      <td>0</td>\n",
       "      <td>0</td>\n",
       "      <td>0</td>\n",
       "      <td>0</td>\n",
       "      <td>0</td>\n",
       "      <td>0</td>\n",
       "      <td>0</td>\n",
       "      <td>1</td>\n",
       "    </tr>\n",
       "    <tr>\n",
       "      <th>3</th>\n",
       "      <td>Audi</td>\n",
       "      <td>23000.0</td>\n",
       "      <td>crossover</td>\n",
       "      <td>Petrol</td>\n",
       "      <td>240</td>\n",
       "      <td>4.2</td>\n",
       "      <td>yes</td>\n",
       "      <td>2007</td>\n",
       "      <td>Q7</td>\n",
       "      <td>1</td>\n",
       "      <td>0</td>\n",
       "      <td>0</td>\n",
       "      <td>0</td>\n",
       "      <td>1</td>\n",
       "      <td>1</td>\n",
       "      <td>0</td>\n",
       "      <td>0</td>\n",
       "      <td>0</td>\n",
       "      <td>0</td>\n",
       "      <td>0</td>\n",
       "    </tr>\n",
       "    <tr>\n",
       "      <th>4</th>\n",
       "      <td>Toyota</td>\n",
       "      <td>18300.0</td>\n",
       "      <td>crossover</td>\n",
       "      <td>Petrol</td>\n",
       "      <td>120</td>\n",
       "      <td>2.0</td>\n",
       "      <td>yes</td>\n",
       "      <td>2011</td>\n",
       "      <td>Rav 4</td>\n",
       "      <td>1</td>\n",
       "      <td>0</td>\n",
       "      <td>0</td>\n",
       "      <td>0</td>\n",
       "      <td>1</td>\n",
       "      <td>1</td>\n",
       "      <td>0</td>\n",
       "      <td>0</td>\n",
       "      <td>0</td>\n",
       "      <td>0</td>\n",
       "      <td>0</td>\n",
       "    </tr>\n",
       "    <tr>\n",
       "      <th>7</th>\n",
       "      <td>Audi</td>\n",
       "      <td>14200.0</td>\n",
       "      <td>vagon</td>\n",
       "      <td>Diesel</td>\n",
       "      <td>200</td>\n",
       "      <td>2.7</td>\n",
       "      <td>yes</td>\n",
       "      <td>2006</td>\n",
       "      <td>A6</td>\n",
       "      <td>1</td>\n",
       "      <td>1</td>\n",
       "      <td>0</td>\n",
       "      <td>0</td>\n",
       "      <td>0</td>\n",
       "      <td>0</td>\n",
       "      <td>0</td>\n",
       "      <td>0</td>\n",
       "      <td>0</td>\n",
       "      <td>1</td>\n",
       "      <td>0</td>\n",
       "    </tr>\n",
       "    <tr>\n",
       "      <th>...</th>\n",
       "      <td>...</td>\n",
       "      <td>...</td>\n",
       "      <td>...</td>\n",
       "      <td>...</td>\n",
       "      <td>...</td>\n",
       "      <td>...</td>\n",
       "      <td>...</td>\n",
       "      <td>...</td>\n",
       "      <td>...</td>\n",
       "      <td>...</td>\n",
       "      <td>...</td>\n",
       "      <td>...</td>\n",
       "      <td>...</td>\n",
       "      <td>...</td>\n",
       "      <td>...</td>\n",
       "      <td>...</td>\n",
       "      <td>...</td>\n",
       "      <td>...</td>\n",
       "      <td>...</td>\n",
       "      <td>...</td>\n",
       "    </tr>\n",
       "    <tr>\n",
       "      <th>4338</th>\n",
       "      <td>Volkswagen</td>\n",
       "      <td>11500.0</td>\n",
       "      <td>van</td>\n",
       "      <td>Diesel</td>\n",
       "      <td>163</td>\n",
       "      <td>2.5</td>\n",
       "      <td>yes</td>\n",
       "      <td>2008</td>\n",
       "      <td>T5 (Transporter)</td>\n",
       "      <td>1</td>\n",
       "      <td>1</td>\n",
       "      <td>0</td>\n",
       "      <td>0</td>\n",
       "      <td>0</td>\n",
       "      <td>0</td>\n",
       "      <td>0</td>\n",
       "      <td>0</td>\n",
       "      <td>0</td>\n",
       "      <td>0</td>\n",
       "      <td>1</td>\n",
       "    </tr>\n",
       "    <tr>\n",
       "      <th>4339</th>\n",
       "      <td>Toyota</td>\n",
       "      <td>17900.0</td>\n",
       "      <td>sedan</td>\n",
       "      <td>Petrol</td>\n",
       "      <td>35</td>\n",
       "      <td>1.6</td>\n",
       "      <td>yes</td>\n",
       "      <td>2014</td>\n",
       "      <td>Corolla</td>\n",
       "      <td>1</td>\n",
       "      <td>0</td>\n",
       "      <td>0</td>\n",
       "      <td>0</td>\n",
       "      <td>1</td>\n",
       "      <td>0</td>\n",
       "      <td>0</td>\n",
       "      <td>0</td>\n",
       "      <td>1</td>\n",
       "      <td>0</td>\n",
       "      <td>0</td>\n",
       "    </tr>\n",
       "    <tr>\n",
       "      <th>4341</th>\n",
       "      <td>BMW</td>\n",
       "      <td>6500.0</td>\n",
       "      <td>sedan</td>\n",
       "      <td>Petrol</td>\n",
       "      <td>1</td>\n",
       "      <td>3.5</td>\n",
       "      <td>yes</td>\n",
       "      <td>1999</td>\n",
       "      <td>535</td>\n",
       "      <td>1</td>\n",
       "      <td>0</td>\n",
       "      <td>0</td>\n",
       "      <td>0</td>\n",
       "      <td>1</td>\n",
       "      <td>0</td>\n",
       "      <td>0</td>\n",
       "      <td>0</td>\n",
       "      <td>1</td>\n",
       "      <td>0</td>\n",
       "      <td>0</td>\n",
       "    </tr>\n",
       "    <tr>\n",
       "      <th>4342</th>\n",
       "      <td>BMW</td>\n",
       "      <td>8000.0</td>\n",
       "      <td>sedan</td>\n",
       "      <td>Petrol</td>\n",
       "      <td>194</td>\n",
       "      <td>2.0</td>\n",
       "      <td>yes</td>\n",
       "      <td>1985</td>\n",
       "      <td>520</td>\n",
       "      <td>1</td>\n",
       "      <td>0</td>\n",
       "      <td>0</td>\n",
       "      <td>0</td>\n",
       "      <td>1</td>\n",
       "      <td>0</td>\n",
       "      <td>0</td>\n",
       "      <td>0</td>\n",
       "      <td>1</td>\n",
       "      <td>0</td>\n",
       "      <td>0</td>\n",
       "    </tr>\n",
       "    <tr>\n",
       "      <th>4344</th>\n",
       "      <td>Volkswagen</td>\n",
       "      <td>13500.0</td>\n",
       "      <td>van</td>\n",
       "      <td>Diesel</td>\n",
       "      <td>124</td>\n",
       "      <td>2.0</td>\n",
       "      <td>yes</td>\n",
       "      <td>2013</td>\n",
       "      <td>T5 (Transporter)</td>\n",
       "      <td>1</td>\n",
       "      <td>1</td>\n",
       "      <td>0</td>\n",
       "      <td>0</td>\n",
       "      <td>0</td>\n",
       "      <td>0</td>\n",
       "      <td>0</td>\n",
       "      <td>0</td>\n",
       "      <td>0</td>\n",
       "      <td>0</td>\n",
       "      <td>1</td>\n",
       "    </tr>\n",
       "  </tbody>\n",
       "</table>\n",
       "<p>3419 rows × 20 columns</p>\n",
       "</div>"
      ],
      "text/plain": [
       "              Brand    Price       Body Engine Type  Mileage  EngineV  \\\n",
       "0               BMW   4200.0      sedan      Petrol      277      2.0   \n",
       "1     Mercedes-Benz   7900.0        van      Diesel      427      2.9   \n",
       "3              Audi  23000.0  crossover      Petrol      240      4.2   \n",
       "4            Toyota  18300.0  crossover      Petrol      120      2.0   \n",
       "7              Audi  14200.0      vagon      Diesel      200      2.7   \n",
       "...             ...      ...        ...         ...      ...      ...   \n",
       "4338     Volkswagen  11500.0        van      Diesel      163      2.5   \n",
       "4339         Toyota  17900.0      sedan      Petrol       35      1.6   \n",
       "4341            BMW   6500.0      sedan      Petrol        1      3.5   \n",
       "4342            BMW   8000.0      sedan      Petrol      194      2.0   \n",
       "4344     Volkswagen  13500.0        van      Diesel      124      2.0   \n",
       "\n",
       "     Registration  Year              Model  Registration_encoded  \\\n",
       "0             yes  1991                320                     1   \n",
       "1             yes  1999       Sprinter 212                     1   \n",
       "3             yes  2007                 Q7                     1   \n",
       "4             yes  2011              Rav 4                     1   \n",
       "7             yes  2006                 A6                     1   \n",
       "...           ...   ...                ...                   ...   \n",
       "4338          yes  2008   T5 (Transporter)                     1   \n",
       "4339          yes  2014            Corolla                     1   \n",
       "4341          yes  1999                535                     1   \n",
       "4342          yes  1985                520                     1   \n",
       "4344          yes  2013  T5 (Transporter)                      1   \n",
       "\n",
       "      Engine_Diesel  Engine_Gas  Engine_Other  Engine_Petrol  Body_crossover  \\\n",
       "0                 0           0             0              1               0   \n",
       "1                 1           0             0              0               0   \n",
       "3                 0           0             0              1               1   \n",
       "4                 0           0             0              1               1   \n",
       "7                 1           0             0              0               0   \n",
       "...             ...         ...           ...            ...             ...   \n",
       "4338              1           0             0              0               0   \n",
       "4339              0           0             0              1               0   \n",
       "4341              0           0             0              1               0   \n",
       "4342              0           0             0              1               0   \n",
       "4344              1           0             0              0               0   \n",
       "\n",
       "      Body_hatch  Body_other  Body_sedan  Body_vagon  Body_van  \n",
       "0              0           0           1           0         0  \n",
       "1              0           0           0           0         1  \n",
       "3              0           0           0           0         0  \n",
       "4              0           0           0           0         0  \n",
       "7              0           0           0           1         0  \n",
       "...          ...         ...         ...         ...       ...  \n",
       "4338           0           0           0           0         1  \n",
       "4339           0           0           1           0         0  \n",
       "4341           0           0           1           0         0  \n",
       "4342           0           0           1           0         0  \n",
       "4344           0           0           0           0         1  \n",
       "\n",
       "[3419 rows x 20 columns]"
      ]
     },
     "execution_count": 781,
     "metadata": {},
     "output_type": "execute_result"
    }
   ],
   "source": [
    "# Using get_dummies method in pandas\n",
    "df_ohe = one_hot_1.copy()\n",
    "one_hot_1 = pd.get_dummies(df_ohe,prefix = 'Body' ,columns=['Body'],drop_first=False)\n",
    "one_hot_1.insert(loc=2, column='Body', value=data['Body'].values)\n",
    "one_hot_1"
   ]
  },
  {
   "cell_type": "markdown",
   "metadata": {},
   "source": [
    "#### `dropping column because it has 247 types of values`"
   ]
  },
  {
   "cell_type": "code",
   "execution_count": 782,
   "metadata": {},
   "outputs": [
    {
     "data": {
      "text/plain": [
       "Brand                    object\n",
       "Price                   float64\n",
       "Body                     object\n",
       "Engine Type              object\n",
       "Mileage                   int64\n",
       "EngineV                 float64\n",
       "Registration             object\n",
       "Year                      int64\n",
       "Model                    object\n",
       "Registration_encoded      int64\n",
       "Engine_Diesel             uint8\n",
       "Engine_Gas                uint8\n",
       "Engine_Other              uint8\n",
       "Engine_Petrol             uint8\n",
       "Body_crossover            uint8\n",
       "Body_hatch                uint8\n",
       "Body_other                uint8\n",
       "Body_sedan                uint8\n",
       "Body_vagon                uint8\n",
       "Body_van                  uint8\n",
       "dtype: object"
      ]
     },
     "execution_count": 782,
     "metadata": {},
     "output_type": "execute_result"
    }
   ],
   "source": [
    "one_hot_1.dtypes"
   ]
  },
  {
   "cell_type": "markdown",
   "metadata": {},
   "source": [
    "### Multicollinearity"
   ]
  },
  {
   "cell_type": "markdown",
   "metadata": {},
   "source": [
    "#### 11A. Say about Multicollinearity and Find the Multicollinearity variables in the Dataset. \n"
   ]
  },
  {
   "cell_type": "code",
   "execution_count": 783,
   "metadata": {},
   "outputs": [
    {
     "data": {
      "text/plain": [
       "<AxesSubplot:>"
      ]
     },
     "execution_count": 783,
     "metadata": {},
     "output_type": "execute_result"
    },
    {
     "data": {
      "image/png": "[encoded data removed]",
      "text/plain": [
       "<Figure size 1080x720 with 2 Axes>"
      ]
     },
     "metadata": {
      "needs_background": "light"
     },
     "output_type": "display_data"
    }
   ],
   "source": [
    "import matplotlib.pyplot as plt\n",
    "plt.figure(figsize=(15,10))\n",
    "sns.heatmap(one_hot_1.corr(),annot=True)"
   ]
  },
  {
   "cell_type": "markdown",
   "metadata": {},
   "source": [
    "#### 11B. Show the variables which are having Multicollinearity.\n",
    "<br />\n",
    "<br />\n",
    "<br />\n"
   ]
  },
  {
   "cell_type": "markdown",
   "metadata": {},
   "source": [
    "## `Categorical Variables ( chi square ) ------------------------------`"
   ]
  },
  {
   "cell_type": "markdown",
   "metadata": {},
   "source": [
    "### Brand vs Body"
   ]
  },
  {
   "cell_type": "code",
   "execution_count": 784,
   "metadata": {},
   "outputs": [
    {
     "data": {
      "text/plain": [
       "2.3108125817537855e-269"
      ]
     },
     "execution_count": 784,
     "metadata": {},
     "output_type": "execute_result"
    }
   ],
   "source": [
    "two_way_frquency=pd.crosstab(data['Brand'],data['Body'])\n",
    "from scipy.stats import chi2_contingency\n",
    "\n",
    "x2_value , p_value, df, expected_values = chi2_contingency(two_way_frquency)\n",
    "p_value"
   ]
  },
  {
   "cell_type": "markdown",
   "metadata": {},
   "source": [
    "#### `Brand and Body are related`"
   ]
  },
  {
   "cell_type": "markdown",
   "metadata": {},
   "source": [
    "### Brand vs EngineType"
   ]
  },
  {
   "cell_type": "code",
   "execution_count": 785,
   "metadata": {},
   "outputs": [
    {
     "data": {
      "text/plain": [
       "4.428006391028606e-137"
      ]
     },
     "execution_count": 785,
     "metadata": {},
     "output_type": "execute_result"
    }
   ],
   "source": [
    "two_way_frquency=pd.crosstab(data['Brand'],data['Engine Type'])\n",
    "\n",
    "x2_value , p_value, df, expected_values = chi2_contingency(two_way_frquency)\n",
    "p_value"
   ]
  },
  {
   "cell_type": "markdown",
   "metadata": {},
   "source": [
    "#### `Brand and Engine type are related`"
   ]
  },
  {
   "cell_type": "markdown",
   "metadata": {},
   "source": [
    "### Brand vs Registration"
   ]
  },
  {
   "cell_type": "code",
   "execution_count": 786,
   "metadata": {},
   "outputs": [
    {
     "data": {
      "text/plain": [
       "9.547047723979418e-42"
      ]
     },
     "execution_count": 786,
     "metadata": {},
     "output_type": "execute_result"
    }
   ],
   "source": [
    "two_way_frquency=pd.crosstab(data['Brand'],data['Registration'])\n",
    "x2_value , p_value, df, expected_values = chi2_contingency(two_way_frquency)\n",
    "p_value"
   ]
  },
  {
   "cell_type": "markdown",
   "metadata": {},
   "source": [
    "#### `Brand and Registration are related`"
   ]
  },
  {
   "cell_type": "markdown",
   "metadata": {},
   "source": [
    "### Body vs Engine Type"
   ]
  },
  {
   "cell_type": "code",
   "execution_count": 787,
   "metadata": {},
   "outputs": [
    {
     "data": {
      "text/plain": [
       "4.65930865491815e-192"
      ]
     },
     "execution_count": 787,
     "metadata": {},
     "output_type": "execute_result"
    }
   ],
   "source": [
    "two_way_frquency=pd.crosstab(data['Body'],data['Engine Type'])\n",
    "x2_value , p_value, df, expected_values = chi2_contingency(two_way_frquency)\n",
    "p_value"
   ]
  },
  {
   "cell_type": "markdown",
   "metadata": {},
   "source": [
    "#### `bodyand Engine Type are related`"
   ]
  },
  {
   "cell_type": "markdown",
   "metadata": {},
   "source": [
    "### Body vs Registration"
   ]
  },
  {
   "cell_type": "code",
   "execution_count": 788,
   "metadata": {},
   "outputs": [
    {
     "data": {
      "text/plain": [
       "6.179157169957441e-30"
      ]
     },
     "execution_count": 788,
     "metadata": {},
     "output_type": "execute_result"
    }
   ],
   "source": [
    "two_way_frquency=pd.crosstab(data['Body'],data['Registration'])\n",
    "x2_value , p_value, df, expected_values = chi2_contingency(two_way_frquency)\n",
    "p_value"
   ]
  },
  {
   "cell_type": "markdown",
   "metadata": {},
   "source": [
    "#### `Body and Registration are related`"
   ]
  },
  {
   "cell_type": "markdown",
   "metadata": {},
   "source": [
    "### Engine Type vs Registration"
   ]
  },
  {
   "cell_type": "code",
   "execution_count": 789,
   "metadata": {},
   "outputs": [
    {
     "data": {
      "text/plain": [
       "3.366306488717531e-22"
      ]
     },
     "execution_count": 789,
     "metadata": {},
     "output_type": "execute_result"
    }
   ],
   "source": [
    "two_way_frquency=pd.crosstab(data['Engine Type'],data['Registration'])\n",
    "x2_value , p_value, df, expected_values = chi2_contingency(two_way_frquency)\n",
    "p_value"
   ]
  },
  {
   "cell_type": "markdown",
   "metadata": {},
   "source": [
    "#### `Engine Type and registration are related`"
   ]
  },
  {
   "cell_type": "markdown",
   "metadata": {},
   "source": [
    "### Brand vs Model"
   ]
  },
  {
   "cell_type": "code",
   "execution_count": 790,
   "metadata": {},
   "outputs": [
    {
     "data": {
      "text/plain": [
       "0.0"
      ]
     },
     "execution_count": 790,
     "metadata": {},
     "output_type": "execute_result"
    }
   ],
   "source": [
    "two_way_frquency=pd.crosstab(data['Brand'],data['Model'])\n",
    "x2_value , p_value, df, expected_values = chi2_contingency(two_way_frquency)\n",
    "p_value"
   ]
  },
  {
   "cell_type": "markdown",
   "metadata": {},
   "source": [
    "#### `Brand and Model are related`"
   ]
  },
  {
   "cell_type": "markdown",
   "metadata": {},
   "source": [
    "### `There is a lot of multicollinearity between columns as you can see below`"
   ]
  },
  {
   "cell_type": "code",
   "execution_count": 791,
   "metadata": {},
   "outputs": [],
   "source": [
    "X_cat = one_hot_1[['Registration_encoded',\n",
    "       'Engine_Diesel', 'Engine_Gas', 'Engine_Other', 'Engine_Petrol',\n",
    "       'Body_crossover', 'Body_hatch', 'Body_other', 'Body_sedan',\n",
    "       'Body_vagon', 'Body_van']]"
   ]
  },
  {
   "cell_type": "code",
   "execution_count": 792,
   "metadata": {},
   "outputs": [
    {
     "data": {
      "text/html": [
       "<div>\n",
       "<style scoped>\n",
       "    .dataframe tbody tr th:only-of-type {\n",
       "        vertical-align: middle;\n",
       "    }\n",
       "\n",
       "    .dataframe tbody tr th {\n",
       "        vertical-align: top;\n",
       "    }\n",
       "\n",
       "    .dataframe thead th {\n",
       "        text-align: right;\n",
       "    }\n",
       "</style>\n",
       "<table border=\"1\" class=\"dataframe\">\n",
       "  <thead>\n",
       "    <tr style=\"text-align: right;\">\n",
       "      <th></th>\n",
       "      <th>Features</th>\n",
       "      <th>VIF</th>\n",
       "    </tr>\n",
       "  </thead>\n",
       "  <tbody>\n",
       "    <tr>\n",
       "      <th>1</th>\n",
       "      <td>Engine_Diesel</td>\n",
       "      <td>inf</td>\n",
       "    </tr>\n",
       "    <tr>\n",
       "      <th>2</th>\n",
       "      <td>Engine_Gas</td>\n",
       "      <td>inf</td>\n",
       "    </tr>\n",
       "    <tr>\n",
       "      <th>3</th>\n",
       "      <td>Engine_Other</td>\n",
       "      <td>inf</td>\n",
       "    </tr>\n",
       "    <tr>\n",
       "      <th>4</th>\n",
       "      <td>Engine_Petrol</td>\n",
       "      <td>inf</td>\n",
       "    </tr>\n",
       "    <tr>\n",
       "      <th>5</th>\n",
       "      <td>Body_crossover</td>\n",
       "      <td>inf</td>\n",
       "    </tr>\n",
       "    <tr>\n",
       "      <th>6</th>\n",
       "      <td>Body_hatch</td>\n",
       "      <td>inf</td>\n",
       "    </tr>\n",
       "    <tr>\n",
       "      <th>7</th>\n",
       "      <td>Body_other</td>\n",
       "      <td>inf</td>\n",
       "    </tr>\n",
       "    <tr>\n",
       "      <th>8</th>\n",
       "      <td>Body_sedan</td>\n",
       "      <td>inf</td>\n",
       "    </tr>\n",
       "    <tr>\n",
       "      <th>9</th>\n",
       "      <td>Body_vagon</td>\n",
       "      <td>inf</td>\n",
       "    </tr>\n",
       "    <tr>\n",
       "      <th>10</th>\n",
       "      <td>Body_van</td>\n",
       "      <td>inf</td>\n",
       "    </tr>\n",
       "    <tr>\n",
       "      <th>0</th>\n",
       "      <td>Registration_encoded</td>\n",
       "      <td>1.1</td>\n",
       "    </tr>\n",
       "  </tbody>\n",
       "</table>\n",
       "</div>"
      ],
      "text/plain": [
       "                Features  VIF\n",
       "1          Engine_Diesel  inf\n",
       "2             Engine_Gas  inf\n",
       "3           Engine_Other  inf\n",
       "4          Engine_Petrol  inf\n",
       "5         Body_crossover  inf\n",
       "6             Body_hatch  inf\n",
       "7             Body_other  inf\n",
       "8             Body_sedan  inf\n",
       "9             Body_vagon  inf\n",
       "10              Body_van  inf\n",
       "0   Registration_encoded  1.1"
      ]
     },
     "execution_count": 792,
     "metadata": {},
     "output_type": "execute_result"
    }
   ],
   "source": [
    "from statsmodels.stats.outliers_influence import variance_inflation_factor   # vif\n",
    "vif = pd.DataFrame()\n",
    "vif['Features'] = X_cat.columns\n",
    "vif['VIF'] = [variance_inflation_factor(X_cat.values, i) for i in range(X_cat.shape[1])]\n",
    "vif['VIF'] = round(vif['VIF'], 2)\n",
    "vif = vif.sort_values(by = \"VIF\", ascending = False)\n",
    "vif"
   ]
  },
  {
   "cell_type": "code",
   "execution_count": 793,
   "metadata": {},
   "outputs": [
    {
     "data": {
      "text/plain": [
       "const                    6.340204e-12\n",
       "Registration_encoded    1.056875e-100\n",
       "Engine_Diesel            8.583565e-23\n",
       "Engine_Gas               5.998705e-12\n",
       "Engine_Other             1.131882e-01\n",
       "Engine_Petrol            1.481261e-04\n",
       "Body_crossover          1.213234e-173\n",
       "Body_hatch               6.959231e-12\n",
       "Body_other               1.213384e-03\n",
       "Body_sedan               3.537193e-01\n",
       "Body_vagon               8.546421e-06\n",
       "Body_van                 3.177622e-33\n",
       "dtype: float64"
      ]
     },
     "execution_count": 793,
     "metadata": {},
     "output_type": "execute_result"
    }
   ],
   "source": [
    "import statsmodels.api as sm\n",
    "X_train_sm  = sm.add_constant(X_cat)\n",
    "ols_model = sm.OLS(y,X_train_sm)\n",
    "ols_model = ols_model.fit()\n",
    "ols_model.pvalues"
   ]
  },
  {
   "cell_type": "markdown",
   "metadata": {},
   "source": [
    "### `so I haveto investigate it I have to dip more, and treat it`"
   ]
  },
  {
   "cell_type": "markdown",
   "metadata": {},
   "source": [
    "### I should remove the redundant columns to remove multi collinerity"
   ]
  },
  {
   "cell_type": "code",
   "execution_count": 794,
   "metadata": {},
   "outputs": [],
   "source": [
    "X_cat = one_hot_1[['Registration_encoded',\n",
    "       'Engine_Diesel', 'Engine_Gas', 'Engine_Other',\n",
    "       'Body_crossover', 'Body_hatch', 'Body_other', 'Body_sedan',\n",
    "       'Body_vagon']]"
   ]
  },
  {
   "cell_type": "code",
   "execution_count": 795,
   "metadata": {},
   "outputs": [
    {
     "data": {
      "text/html": [
       "<div>\n",
       "<style scoped>\n",
       "    .dataframe tbody tr th:only-of-type {\n",
       "        vertical-align: middle;\n",
       "    }\n",
       "\n",
       "    .dataframe tbody tr th {\n",
       "        vertical-align: top;\n",
       "    }\n",
       "\n",
       "    .dataframe thead th {\n",
       "        text-align: right;\n",
       "    }\n",
       "</style>\n",
       "<table border=\"1\" class=\"dataframe\">\n",
       "  <thead>\n",
       "    <tr style=\"text-align: right;\">\n",
       "      <th></th>\n",
       "      <th>Features</th>\n",
       "      <th>VIF</th>\n",
       "    </tr>\n",
       "  </thead>\n",
       "  <tbody>\n",
       "    <tr>\n",
       "      <th>0</th>\n",
       "      <td>Registration_encoded</td>\n",
       "      <td>4.69</td>\n",
       "    </tr>\n",
       "    <tr>\n",
       "      <th>7</th>\n",
       "      <td>Body_sedan</td>\n",
       "      <td>2.30</td>\n",
       "    </tr>\n",
       "    <tr>\n",
       "      <th>1</th>\n",
       "      <td>Engine_Diesel</td>\n",
       "      <td>1.98</td>\n",
       "    </tr>\n",
       "    <tr>\n",
       "      <th>4</th>\n",
       "      <td>Body_crossover</td>\n",
       "      <td>1.62</td>\n",
       "    </tr>\n",
       "    <tr>\n",
       "      <th>2</th>\n",
       "      <td>Engine_Gas</td>\n",
       "      <td>1.41</td>\n",
       "    </tr>\n",
       "    <tr>\n",
       "      <th>6</th>\n",
       "      <td>Body_other</td>\n",
       "      <td>1.34</td>\n",
       "    </tr>\n",
       "    <tr>\n",
       "      <th>8</th>\n",
       "      <td>Body_vagon</td>\n",
       "      <td>1.31</td>\n",
       "    </tr>\n",
       "    <tr>\n",
       "      <th>5</th>\n",
       "      <td>Body_hatch</td>\n",
       "      <td>1.27</td>\n",
       "    </tr>\n",
       "    <tr>\n",
       "      <th>3</th>\n",
       "      <td>Engine_Other</td>\n",
       "      <td>1.06</td>\n",
       "    </tr>\n",
       "  </tbody>\n",
       "</table>\n",
       "</div>"
      ],
      "text/plain": [
       "               Features   VIF\n",
       "0  Registration_encoded  4.69\n",
       "7            Body_sedan  2.30\n",
       "1         Engine_Diesel  1.98\n",
       "4        Body_crossover  1.62\n",
       "2            Engine_Gas  1.41\n",
       "6            Body_other  1.34\n",
       "8            Body_vagon  1.31\n",
       "5            Body_hatch  1.27\n",
       "3          Engine_Other  1.06"
      ]
     },
     "execution_count": 795,
     "metadata": {},
     "output_type": "execute_result"
    }
   ],
   "source": [
    "from statsmodels.stats.outliers_influence import variance_inflation_factor   # vif\n",
    "vif = pd.DataFrame()\n",
    "vif['Features'] = X_cat.columns\n",
    "vif['VIF'] = [variance_inflation_factor(X_cat.values, i) for i in range(X_cat.shape[1])]\n",
    "vif['VIF'] = round(vif['VIF'], 2)\n",
    "vif = vif.sort_values(by = \"VIF\", ascending = False)\n",
    "vif"
   ]
  },
  {
   "cell_type": "code",
   "execution_count": 796,
   "metadata": {},
   "outputs": [
    {
     "data": {
      "text/plain": [
       "const                    2.460659e-01\n",
       "Registration_encoded    1.056875e-100\n",
       "Engine_Diesel            9.661941e-06\n",
       "Engine_Gas               2.740794e-17\n",
       "Engine_Other             9.656730e-01\n",
       "Body_crossover          7.433562e-158\n",
       "Body_hatch               5.477563e-02\n",
       "Body_other               9.684861e-23\n",
       "Body_sedan               1.819792e-23\n",
       "Body_vagon               1.592131e-06\n",
       "dtype: float64"
      ]
     },
     "execution_count": 796,
     "metadata": {},
     "output_type": "execute_result"
    }
   ],
   "source": [
    "import statsmodels.api as sm\n",
    "X_train_sm  = sm.add_constant(X_cat)\n",
    "ols_model = sm.OLS(y,X_train_sm)\n",
    "ols_model = ols_model.fit()\n",
    "ols_model.pvalues"
   ]
  },
  {
   "cell_type": "markdown",
   "metadata": {},
   "source": [
    "### `Now these columns are not effected with multicollinearity --------------- Bam!!`\n",
    "<br />\n",
    "<br />\n",
    "<br />\n"
   ]
  },
  {
   "cell_type": "markdown",
   "metadata": {},
   "source": [
    "## `Numerical variables ---------------------------------`"
   ]
  },
  {
   "cell_type": "code",
   "execution_count": 797,
   "metadata": {},
   "outputs": [],
   "source": [
    "from statsmodels.stats.outliers_influence import variance_inflation_factor # to check multicollinearity\n",
    "\n",
    "\n",
    "### function of vif\n",
    "def cal_vif(X):\n",
    "    vif=pd.DataFrame()\n",
    "    vif['var']=X.columns\n",
    "    vif['VIF']=[variance_inflation_factor(X.values,i) for i in range(X.shape[1])]\n",
    "    return(vif)"
   ]
  },
  {
   "cell_type": "code",
   "execution_count": 798,
   "metadata": {},
   "outputs": [],
   "source": [
    "X_num = one_hot_1[[ 'Mileage', 'EngineV','Year']]"
   ]
  },
  {
   "cell_type": "code",
   "execution_count": 799,
   "metadata": {},
   "outputs": [
    {
     "data": {
      "text/html": [
       "<div>\n",
       "<style scoped>\n",
       "    .dataframe tbody tr th:only-of-type {\n",
       "        vertical-align: middle;\n",
       "    }\n",
       "\n",
       "    .dataframe tbody tr th {\n",
       "        vertical-align: top;\n",
       "    }\n",
       "\n",
       "    .dataframe thead th {\n",
       "        text-align: right;\n",
       "    }\n",
       "</style>\n",
       "<table border=\"1\" class=\"dataframe\">\n",
       "  <thead>\n",
       "    <tr style=\"text-align: right;\">\n",
       "      <th></th>\n",
       "      <th>var</th>\n",
       "      <th>VIF</th>\n",
       "    </tr>\n",
       "  </thead>\n",
       "  <tbody>\n",
       "    <tr>\n",
       "      <th>0</th>\n",
       "      <td>Mileage</td>\n",
       "      <td>4.543781</td>\n",
       "    </tr>\n",
       "    <tr>\n",
       "      <th>1</th>\n",
       "      <td>EngineV</td>\n",
       "      <td>12.955885</td>\n",
       "    </tr>\n",
       "    <tr>\n",
       "      <th>2</th>\n",
       "      <td>Year</td>\n",
       "      <td>14.386646</td>\n",
       "    </tr>\n",
       "  </tbody>\n",
       "</table>\n",
       "</div>"
      ],
      "text/plain": [
       "       var        VIF\n",
       "0  Mileage   4.543781\n",
       "1  EngineV  12.955885\n",
       "2     Year  14.386646"
      ]
     },
     "execution_count": 799,
     "metadata": {},
     "output_type": "execute_result"
    }
   ],
   "source": [
    "cal_vif(X_num)"
   ]
  },
  {
   "cell_type": "code",
   "execution_count": 800,
   "metadata": {},
   "outputs": [
    {
     "data": {
      "text/plain": [
       "<AxesSubplot:>"
      ]
     },
     "execution_count": 800,
     "metadata": {},
     "output_type": "execute_result"
    },
    {
     "data": {
      "image/png": "[encoded data removed]",
      "text/plain": [
       "<Figure size 432x288 with 2 Axes>"
      ]
     },
     "metadata": {
      "needs_background": "light"
     },
     "output_type": "display_data"
    }
   ],
   "source": [
    "sns.heatmap(X_num.corr(),annot=True)"
   ]
  },
  {
   "cell_type": "markdown",
   "metadata": {},
   "source": [
    "#### Numerical columns:\n",
    "`Milage and year are multicollinear variables`"
   ]
  },
  {
   "cell_type": "markdown",
   "metadata": {},
   "source": [
    "### Model fit"
   ]
  },
  {
   "cell_type": "markdown",
   "metadata": {},
   "source": [
    "#### 12A. Perform The Model fit & Model output using OLS "
   ]
  },
  {
   "cell_type": "code",
   "execution_count": 801,
   "metadata": {},
   "outputs": [],
   "source": [
    "X = one_hot_1[[ 'Mileage', 'EngineV',\n",
    "       'Year', 'Registration_encoded',\n",
    "       'Engine_Diesel', 'Engine_Gas', 'Engine_Other', 'Engine_Petrol',\n",
    "       'Body_crossover', 'Body_hatch', 'Body_other', 'Body_sedan',\n",
    "       'Body_vagon', 'Body_van']]\n",
    "y = one_hot_1['Price']"
   ]
  },
  {
   "cell_type": "code",
   "execution_count": 802,
   "metadata": {},
   "outputs": [
    {
     "data": {
      "text/html": [
       "<table class=\"simpletable\">\n",
       "<caption>OLS Regression Results</caption>\n",
       "<tr>\n",
       "  <th>Dep. Variable:</th>          <td>Price</td>      <th>  R-squared:         </th> <td>   0.642</td> \n",
       "</tr>\n",
       "<tr>\n",
       "  <th>Model:</th>                   <td>OLS</td>       <th>  Adj. R-squared:    </th> <td>   0.640</td> \n",
       "</tr>\n",
       "<tr>\n",
       "  <th>Method:</th>             <td>Least Squares</td>  <th>  F-statistic:       </th> <td>   508.2</td> \n",
       "</tr>\n",
       "<tr>\n",
       "  <th>Date:</th>             <td>Sun, 05 Sep 2021</td> <th>  Prob (F-statistic):</th>  <td>  0.00</td>  \n",
       "</tr>\n",
       "<tr>\n",
       "  <th>Time:</th>                 <td>10:27:23</td>     <th>  Log-Likelihood:    </th> <td> -34294.</td> \n",
       "</tr>\n",
       "<tr>\n",
       "  <th>No. Observations:</th>      <td>  3419</td>      <th>  AIC:               </th> <td>6.861e+04</td>\n",
       "</tr>\n",
       "<tr>\n",
       "  <th>Df Residuals:</th>          <td>  3406</td>      <th>  BIC:               </th> <td>6.869e+04</td>\n",
       "</tr>\n",
       "<tr>\n",
       "  <th>Df Model:</th>              <td>    12</td>      <th>                     </th>     <td> </td>    \n",
       "</tr>\n",
       "<tr>\n",
       "  <th>Covariance Type:</th>      <td>nonrobust</td>    <th>                     </th>     <td> </td>    \n",
       "</tr>\n",
       "</table>\n",
       "<table class=\"simpletable\">\n",
       "<tr>\n",
       "            <td></td>              <th>coef</th>     <th>std err</th>      <th>t</th>      <th>P>|t|</th>  <th>[0.025</th>    <th>0.975]</th>  \n",
       "</tr>\n",
       "<tr>\n",
       "  <th>const</th>                <td>-9.214e+05</td> <td> 2.82e+04</td> <td>  -32.719</td> <td> 0.000</td> <td>-9.77e+05</td> <td>-8.66e+05</td>\n",
       "</tr>\n",
       "<tr>\n",
       "  <th>Mileage</th>              <td>  -19.2603</td> <td>    1.438</td> <td>  -13.393</td> <td> 0.000</td> <td>  -22.080</td> <td>  -16.441</td>\n",
       "</tr>\n",
       "<tr>\n",
       "  <th>EngineV</th>              <td> 4513.8470</td> <td>  175.229</td> <td>   25.760</td> <td> 0.000</td> <td> 4170.282</td> <td> 4857.412</td>\n",
       "</tr>\n",
       "<tr>\n",
       "  <th>Year</th>                 <td>  650.9190</td> <td>   19.825</td> <td>   32.834</td> <td> 0.000</td> <td>  612.049</td> <td>  689.789</td>\n",
       "</tr>\n",
       "<tr>\n",
       "  <th>Registration_encoded</th> <td> 5916.6919</td> <td>  333.121</td> <td>   17.761</td> <td> 0.000</td> <td> 5263.555</td> <td> 6569.829</td>\n",
       "</tr>\n",
       "<tr>\n",
       "  <th>Engine_Diesel</th>        <td> -2.29e+05</td> <td> 7073.936</td> <td>  -32.376</td> <td> 0.000</td> <td>-2.43e+05</td> <td>-2.15e+05</td>\n",
       "</tr>\n",
       "<tr>\n",
       "  <th>Engine_Gas</th>           <td> -2.32e+05</td> <td> 7021.261</td> <td>  -33.037</td> <td> 0.000</td> <td>-2.46e+05</td> <td>-2.18e+05</td>\n",
       "</tr>\n",
       "<tr>\n",
       "  <th>Engine_Other</th>         <td>-2.303e+05</td> <td> 7066.121</td> <td>  -32.592</td> <td> 0.000</td> <td>-2.44e+05</td> <td>-2.16e+05</td>\n",
       "</tr>\n",
       "<tr>\n",
       "  <th>Engine_Petrol</th>        <td>-2.301e+05</td> <td> 7024.464</td> <td>  -32.759</td> <td> 0.000</td> <td>-2.44e+05</td> <td>-2.16e+05</td>\n",
       "</tr>\n",
       "<tr>\n",
       "  <th>Body_crossover</th>       <td>-1.499e+05</td> <td> 4728.223</td> <td>  -31.708</td> <td> 0.000</td> <td>-1.59e+05</td> <td>-1.41e+05</td>\n",
       "</tr>\n",
       "<tr>\n",
       "  <th>Body_hatch</th>           <td>-1.543e+05</td> <td> 4663.258</td> <td>  -33.083</td> <td> 0.000</td> <td>-1.63e+05</td> <td>-1.45e+05</td>\n",
       "</tr>\n",
       "<tr>\n",
       "  <th>Body_other</th>           <td>-1.529e+05</td> <td> 4703.145</td> <td>  -32.507</td> <td> 0.000</td> <td>-1.62e+05</td> <td>-1.44e+05</td>\n",
       "</tr>\n",
       "<tr>\n",
       "  <th>Body_sedan</th>           <td> -1.53e+05</td> <td> 4683.858</td> <td>  -32.667</td> <td> 0.000</td> <td>-1.62e+05</td> <td>-1.44e+05</td>\n",
       "</tr>\n",
       "<tr>\n",
       "  <th>Body_vagon</th>           <td>-1.544e+05</td> <td> 4702.705</td> <td>  -32.830</td> <td> 0.000</td> <td>-1.64e+05</td> <td>-1.45e+05</td>\n",
       "</tr>\n",
       "<tr>\n",
       "  <th>Body_van</th>             <td>-1.569e+05</td> <td> 4723.554</td> <td>  -33.223</td> <td> 0.000</td> <td>-1.66e+05</td> <td>-1.48e+05</td>\n",
       "</tr>\n",
       "</table>\n",
       "<table class=\"simpletable\">\n",
       "<tr>\n",
       "  <th>Omnibus:</th>       <td>733.876</td> <th>  Durbin-Watson:     </th> <td>   2.071</td>\n",
       "</tr>\n",
       "<tr>\n",
       "  <th>Prob(Omnibus):</th> <td> 0.000</td>  <th>  Jarque-Bera (JB):  </th> <td>1941.764</td>\n",
       "</tr>\n",
       "<tr>\n",
       "  <th>Skew:</th>          <td> 1.145</td>  <th>  Prob(JB):          </th> <td>    0.00</td>\n",
       "</tr>\n",
       "<tr>\n",
       "  <th>Kurtosis:</th>      <td> 5.896</td>  <th>  Cond. No.          </th> <td>2.18e+19</td>\n",
       "</tr>\n",
       "</table><br/><br/>Notes:<br/>[1] Standard Errors assume that the covariance matrix of the errors is correctly specified.<br/>[2] The smallest eigenvalue is 2.93e-29. This might indicate that there are<br/>strong multicollinearity problems or that the design matrix is singular."
      ],
      "text/plain": [
       "<class 'statsmodels.iolib.summary.Summary'>\n",
       "\"\"\"\n",
       "                            OLS Regression Results                            \n",
       "==============================================================================\n",
       "Dep. Variable:                  Price   R-squared:                       0.642\n",
       "Model:                            OLS   Adj. R-squared:                  0.640\n",
       "Method:                 Least Squares   F-statistic:                     508.2\n",
       "Date:                Sun, 05 Sep 2021   Prob (F-statistic):               0.00\n",
       "Time:                        10:27:23   Log-Likelihood:                -34294.\n",
       "No. Observations:                3419   AIC:                         6.861e+04\n",
       "Df Residuals:                    3406   BIC:                         6.869e+04\n",
       "Df Model:                          12                                         \n",
       "Covariance Type:            nonrobust                                         \n",
       "========================================================================================\n",
       "                           coef    std err          t      P>|t|      [0.025      0.975]\n",
       "----------------------------------------------------------------------------------------\n",
       "const                -9.214e+05   2.82e+04    -32.719      0.000   -9.77e+05   -8.66e+05\n",
       "Mileage                -19.2603      1.438    -13.393      0.000     -22.080     -16.441\n",
       "EngineV               4513.8470    175.229     25.760      0.000    4170.282    4857.412\n",
       "Year                   650.9190     19.825     32.834      0.000     612.049     689.789\n",
       "Registration_encoded  5916.6919    333.121     17.761      0.000    5263.555    6569.829\n",
       "Engine_Diesel         -2.29e+05   7073.936    -32.376      0.000   -2.43e+05   -2.15e+05\n",
       "Engine_Gas            -2.32e+05   7021.261    -33.037      0.000   -2.46e+05   -2.18e+05\n",
       "Engine_Other         -2.303e+05   7066.121    -32.592      0.000   -2.44e+05   -2.16e+05\n",
       "Engine_Petrol        -2.301e+05   7024.464    -32.759      0.000   -2.44e+05   -2.16e+05\n",
       "Body_crossover       -1.499e+05   4728.223    -31.708      0.000   -1.59e+05   -1.41e+05\n",
       "Body_hatch           -1.543e+05   4663.258    -33.083      0.000   -1.63e+05   -1.45e+05\n",
       "Body_other           -1.529e+05   4703.145    -32.507      0.000   -1.62e+05   -1.44e+05\n",
       "Body_sedan            -1.53e+05   4683.858    -32.667      0.000   -1.62e+05   -1.44e+05\n",
       "Body_vagon           -1.544e+05   4702.705    -32.830      0.000   -1.64e+05   -1.45e+05\n",
       "Body_van             -1.569e+05   4723.554    -33.223      0.000   -1.66e+05   -1.48e+05\n",
       "==============================================================================\n",
       "Omnibus:                      733.876   Durbin-Watson:                   2.071\n",
       "Prob(Omnibus):                  0.000   Jarque-Bera (JB):             1941.764\n",
       "Skew:                           1.145   Prob(JB):                         0.00\n",
       "Kurtosis:                       5.896   Cond. No.                     2.18e+19\n",
       "==============================================================================\n",
       "\n",
       "Notes:\n",
       "[1] Standard Errors assume that the covariance matrix of the errors is correctly specified.\n",
       "[2] The smallest eigenvalue is 2.93e-29. This might indicate that there are\n",
       "strong multicollinearity problems or that the design matrix is singular.\n",
       "\"\"\""
      ]
     },
     "execution_count": 802,
     "metadata": {},
     "output_type": "execute_result"
    }
   ],
   "source": [
    "import statsmodels.api as sm\n",
    "X_train_sm  = sm.add_constant(X)\n",
    "ols_model = sm.OLS(y,X_train_sm)\n",
    "ols_model = ols_model.fit()\n",
    "ols_model.summary()"
   ]
  },
  {
   "cell_type": "markdown",
   "metadata": {},
   "source": [
    "### `It is a Bad Model ---------- as it have a lot of multicollinearity and we have to treat it`\n",
    "<br />\n",
    "<br />\n",
    "<br />\n"
   ]
  },
  {
   "cell_type": "markdown",
   "metadata": {},
   "source": [
    "#### 12B. Explain the Model Evaluation metrics in OLS method."
   ]
  },
  {
   "cell_type": "markdown",
   "metadata": {},
   "source": [
    "**Note:** Give The Explanation about R-square, Adjusted.R-Square and Explain the P-Value in OLS Table"
   ]
  },
  {
   "cell_type": "markdown",
   "metadata": {},
   "source": [
    "### `R Square`: \n",
    "- `R-squared (R2)`: Is a statistical measure that represents the proportion of the variance for a dependent variable that's explained by an independent variable or variables in a regression model. R-squared explains to what extent the variance of one variable explains the variance of the second variable. So, `if the R2 of a model is 0.50, then approximately half of the observed variation can be explained by the model's inputs`.\n",
    "<br />\n",
    "\n",
    "- `Here R-squared: 0.528 which means SSR/SST = 0.642 which means it is not a good fit for this model because R-square is very low`.\n",
    "<br />\n",
    "\n",
    "### ` Adjusted.R-Square`\n",
    "- ` Adjusted.R-Square`: The Adjusted R-squared takes into account the number of independent variables used for predicting the target variable. In doing so, we can determine whether adding new variables to the model actually increases the model fit.\n",
    "<br />\n",
    "\n",
    "- `Here Adjusted.R-squared: 00.640`.\n",
    "- Near to Same R Square and adjusted.R-Square means that the variables taken taken to fit line are actually not casusing any unnecessary damage as The adjusted R2 will penalize you for adding independent variables that do not fit the model.\n",
    "\n",
    "<br />\n",
    "\n",
    "###  `P-value`\n",
    "- `P-value`: Same as in Hypothesis testing P-value less then 0.05 means we can reject our null hypothesis, or in other words these variables are not related and can be used to predict dependent variable"
   ]
  },
  {
   "cell_type": "markdown",
   "metadata": {},
   "source": [
    "#### 13A. Feature Selection using with Forward Selection\n",
    "<br />\n",
    "<br />\n",
    "<br />\n"
   ]
  },
  {
   "cell_type": "markdown",
   "metadata": {},
   "source": [
    "## `Feature Selection ( Forward Selection )`"
   ]
  },
  {
   "cell_type": "code",
   "execution_count": 803,
   "metadata": {},
   "outputs": [
    {
     "name": "stdout",
     "output_type": "stream",
     "text": [
      "R-squared 0.2663678751333278\n",
      "Adj-Rsquared 0.2661531744822109\n",
      "-----------------------------\n",
      "-----------------------------\n",
      "parameters:\n",
      "const      21695.580406\n",
      "Mileage      -51.334413\n",
      "dtype: float64\n",
      "-----------------------------\n",
      "-----------------------------\n",
      "p-values:\n",
      "const       0.000000e+00\n",
      "Mileage    3.906071e-232\n",
      "dtype: float64\n"
     ]
    }
   ],
   "source": [
    "import statsmodels.api as sm\n",
    "X_train_sm = sm.add_constant(X[['Mileage']])\n",
    "lr = sm.OLS(y, X_train_sm).fit()\n",
    "print('R-squared',lr.rsquared)\n",
    "print('Adj-Rsquared',lr.rsquared_adj)\n",
    "print('-----------------------------')\n",
    "print('-----------------------------')\n",
    "print(f'parameters:\\n{lr.params}')\n",
    "print('-----------------------------')\n",
    "print('-----------------------------')\n",
    "print(f'p-values:\\n{lr.pvalues}')"
   ]
  },
  {
   "cell_type": "code",
   "execution_count": 804,
   "metadata": {},
   "outputs": [
    {
     "name": "stdout",
     "output_type": "stream",
     "text": [
      "R-squared 0.42389302396998674\n",
      "Adj-Rsquared 0.42355572480369275\n",
      "-----------------------------\n",
      "-----------------------------\n",
      "parameters:\n",
      "const      10155.043514\n",
      "Mileage      -57.414863\n",
      "EngineV     5659.834830\n",
      "dtype: float64\n",
      "-----------------------------\n",
      "-----------------------------\n",
      "p-values:\n",
      "const      1.338114e-103\n",
      "Mileage     0.000000e+00\n",
      "EngineV    1.482852e-181\n",
      "dtype: float64\n"
     ]
    }
   ],
   "source": [
    "X_train_sm = sm.add_constant(X[['Mileage','EngineV']])\n",
    "lr = sm.OLS(y, X_train_sm).fit()\n",
    "print('R-squared',lr.rsquared)\n",
    "print('Adj-Rsquared',lr.rsquared_adj)\n",
    "print('-----------------------------')\n",
    "print('-----------------------------')\n",
    "print(f'parameters:\\n{lr.params}')\n",
    "print('-----------------------------')\n",
    "print('-----------------------------')\n",
    "print(f'p-values:\\n{lr.pvalues}')"
   ]
  },
  {
   "cell_type": "code",
   "execution_count": 805,
   "metadata": {},
   "outputs": [
    {
     "name": "stdout",
     "output_type": "stream",
     "text": [
      "R-squared 0.5754987980876582\n",
      "Adj-Rsquared 0.5751258834154074\n",
      "-----------------------------\n",
      "-----------------------------\n",
      "parameters:\n",
      "const     -1.394272e+06\n",
      "Mileage   -2.679401e+01\n",
      "EngineV    5.767502e+03\n",
      "Year       6.974522e+02\n",
      "dtype: float64\n",
      "-----------------------------\n",
      "-----------------------------\n",
      "p-values:\n",
      "const      6.406187e-226\n",
      "Mileage     3.134784e-75\n",
      "EngineV    6.098716e-244\n",
      "Year       9.309216e-229\n",
      "dtype: float64\n"
     ]
    }
   ],
   "source": [
    "X_train_sm = sm.add_constant(X[['Mileage','EngineV','Year']])\n",
    "lr = sm.OLS(y, X_train_sm).fit()\n",
    "print('R-squared',lr.rsquared)\n",
    "print('Adj-Rsquared',lr.rsquared_adj)\n",
    "print('-----------------------------')\n",
    "print('-----------------------------')\n",
    "print(f'parameters:\\n{lr.params}')\n",
    "print('-----------------------------')\n",
    "print('-----------------------------')\n",
    "print(f'p-values:\\n{lr.pvalues}')"
   ]
  },
  {
   "cell_type": "code",
   "execution_count": 806,
   "metadata": {},
   "outputs": [
    {
     "name": "stdout",
     "output_type": "stream",
     "text": [
      "R-squared 0.6028325705362743\n",
      "Adj-Rsquared 0.6020175098484273\n",
      "-----------------------------\n",
      "-----------------------------\n",
      "parameters:\n",
      "const            -1.413608e+06\n",
      "Mileage          -2.116637e+01\n",
      "EngineV           4.402598e+03\n",
      "Year              7.070999e+02\n",
      "Body_crossover    5.485581e+03\n",
      "Body_hatch        9.114345e+02\n",
      "Body_other        2.950067e+03\n",
      "Body_sedan        2.166075e+03\n",
      "dtype: float64\n",
      "-----------------------------\n",
      "-----------------------------\n",
      "p-values:\n",
      "const             1.593046e-227\n",
      "Mileage            1.233636e-46\n",
      "EngineV           8.013325e-118\n",
      "Year              7.619855e-231\n",
      "Body_crossover     4.351371e-49\n",
      "Body_hatch         3.139152e-02\n",
      "Body_other         7.485702e-15\n",
      "Body_sedan         5.348919e-17\n",
      "dtype: float64\n"
     ]
    }
   ],
   "source": [
    "X_train_sm = sm.add_constant(X[['Mileage','EngineV','Year','Body_crossover', 'Body_hatch', 'Body_other', 'Body_sedan',]])\n",
    "lr = sm.OLS(y, X_train_sm).fit()\n",
    "print('R-squared',lr.rsquared)\n",
    "print('Adj-Rsquared',lr.rsquared_adj)\n",
    "print('-----------------------------')\n",
    "print('-----------------------------')\n",
    "print(f'parameters:\\n{lr.params}')\n",
    "print('-----------------------------')\n",
    "print('-----------------------------')\n",
    "print(f'p-values:\\n{lr.pvalues}')"
   ]
  },
  {
   "cell_type": "code",
   "execution_count": 807,
   "metadata": {},
   "outputs": [
    {
     "name": "stdout",
     "output_type": "stream",
     "text": [
      "R-squared 0.6084388500533512\n",
      "Adj-Rsquared 0.6071746373590708\n",
      "-----------------------------\n",
      "-----------------------------\n",
      "parameters:\n",
      "const            -1.394898e+06\n",
      "Mileage          -2.125264e+01\n",
      "EngineV           4.440002e+03\n",
      "Year              6.974442e+02\n",
      "Body_crossover    6.374947e+03\n",
      "Body_hatch        1.690090e+03\n",
      "Body_other        3.554754e+03\n",
      "Body_sedan        3.006645e+03\n",
      "Body_vagon        1.182157e+03\n",
      "Engine_Diesel     3.088047e+02\n",
      "Engine_Gas       -1.601185e+03\n",
      "Engine_Other     -7.917937e+02\n",
      "dtype: float64\n",
      "-----------------------------\n",
      "-----------------------------\n",
      "p-values:\n",
      "const             3.934872e-215\n",
      "Mileage            2.079813e-44\n",
      "EngineV           5.536118e-120\n",
      "Year              5.597071e-218\n",
      "Body_crossover     1.343978e-52\n",
      "Body_hatch         3.148240e-04\n",
      "Body_other         1.578627e-17\n",
      "Body_sedan         9.915578e-20\n",
      "Body_vagon         2.168740e-03\n",
      "Engine_Diesel      2.354869e-01\n",
      "Engine_Gas         2.337464e-07\n",
      "Engine_Other       2.106573e-01\n",
      "dtype: float64\n"
     ]
    }
   ],
   "source": [
    "X_train_sm = sm.add_constant(X[['Mileage','EngineV','Year','Body_crossover', 'Body_hatch',\n",
    "                                'Body_other', 'Body_sedan','Body_vagon','Engine_Diesel', 'Engine_Gas', 'Engine_Other']])\n",
    "lr = sm.OLS(y, X_train_sm).fit()\n",
    "print('R-squared',lr.rsquared)\n",
    "print('Adj-Rsquared',lr.rsquared_adj)\n",
    "print('-----------------------------')\n",
    "print('-----------------------------')\n",
    "print(f'parameters:\\n{lr.params}')\n",
    "print('-----------------------------')\n",
    "print('-----------------------------')\n",
    "print(f'p-values:\\n{lr.pvalues}')"
   ]
  },
  {
   "cell_type": "code",
   "execution_count": 808,
   "metadata": {},
   "outputs": [
    {
     "name": "stdout",
     "output_type": "stream",
     "text": [
      "R-squared 0.641631342591315\n",
      "Adj-Rsquared 0.6403687401576966\n",
      "-----------------------------\n",
      "-----------------------------\n",
      "parameters:\n",
      "const                  -1.308453e+06\n",
      "Mileage                -1.926034e+01\n",
      "EngineV                 4.513847e+03\n",
      "Year                    6.509190e+02\n",
      "Body_crossover          7.010485e+03\n",
      "Body_hatch              2.656654e+03\n",
      "Body_other              4.047991e+03\n",
      "Body_sedan              3.925145e+03\n",
      "Body_vagon              2.543941e+03\n",
      "Engine_Diesel           1.087202e+03\n",
      "Engine_Gas             -1.846043e+03\n",
      "Engine_Other           -1.827100e+02\n",
      "Registration_encoded    5.916692e+03\n",
      "dtype: float64\n",
      "-----------------------------\n",
      "-----------------------------\n",
      "p-values:\n",
      "const                   3.274968e-205\n",
      "Mileage                  6.674901e-40\n",
      "EngineV                 7.618944e-134\n",
      "Year                    1.155150e-205\n",
      "Body_crossover           1.160979e-67\n",
      "Body_hatch               4.452315e-09\n",
      "Body_other               5.815175e-24\n",
      "Body_sedan               4.032670e-34\n",
      "Body_vagon               1.655626e-11\n",
      "Engine_Diesel            1.756497e-05\n",
      "Engine_Gas               5.043617e-10\n",
      "Engine_Other             7.630830e-01\n",
      "Registration_encoded     1.434212e-67\n",
      "dtype: float64\n"
     ]
    }
   ],
   "source": [
    "X_train_sm = sm.add_constant(X[['Mileage','EngineV','Year','Body_crossover', 'Body_hatch',\n",
    "                                'Body_other', 'Body_sedan','Body_vagon','Engine_Diesel',\n",
    "                                'Engine_Gas', 'Engine_Other','Registration_encoded']])\n",
    "lr = sm.OLS(y, X_train_sm).fit()\n",
    "print('R-squared',lr.rsquared)\n",
    "print('Adj-Rsquared',lr.rsquared_adj)\n",
    "print('-----------------------------')\n",
    "print('-----------------------------')\n",
    "print(f'parameters:\\n{lr.params}')\n",
    "print('-----------------------------')\n",
    "print('-----------------------------')\n",
    "print(f'p-values:\\n{lr.pvalues}')"
   ]
  },
  {
   "cell_type": "code",
   "execution_count": 809,
   "metadata": {},
   "outputs": [
    {
     "data": {
      "text/plain": [
       "<AxesSubplot:>"
      ]
     },
     "execution_count": 809,
     "metadata": {},
     "output_type": "execute_result"
    },
    {
     "data": {
      "image/png": "[encoded data removed]",
      "text/plain": [
       "<Figure size 720x504 with 2 Axes>"
      ]
     },
     "metadata": {
      "needs_background": "light"
     },
     "output_type": "display_data"
    }
   ],
   "source": [
    "import matplotlib.pyplot as plt\n",
    "plt.figure(figsize=(10,7))\n",
    "sns.heatmap(X.corr(),annot=True)"
   ]
  },
  {
   "cell_type": "code",
   "execution_count": 810,
   "metadata": {},
   "outputs": [
    {
     "data": {
      "text/html": [
       "<div>\n",
       "<style scoped>\n",
       "    .dataframe tbody tr th:only-of-type {\n",
       "        vertical-align: middle;\n",
       "    }\n",
       "\n",
       "    .dataframe tbody tr th {\n",
       "        vertical-align: top;\n",
       "    }\n",
       "\n",
       "    .dataframe thead th {\n",
       "        text-align: right;\n",
       "    }\n",
       "</style>\n",
       "<table border=\"1\" class=\"dataframe\">\n",
       "  <thead>\n",
       "    <tr style=\"text-align: right;\">\n",
       "      <th></th>\n",
       "      <th>Features</th>\n",
       "      <th>VIF</th>\n",
       "    </tr>\n",
       "  </thead>\n",
       "  <tbody>\n",
       "    <tr>\n",
       "      <th>4</th>\n",
       "      <td>Engine_Diesel</td>\n",
       "      <td>inf</td>\n",
       "    </tr>\n",
       "    <tr>\n",
       "      <th>5</th>\n",
       "      <td>Engine_Gas</td>\n",
       "      <td>inf</td>\n",
       "    </tr>\n",
       "    <tr>\n",
       "      <th>6</th>\n",
       "      <td>Engine_Other</td>\n",
       "      <td>inf</td>\n",
       "    </tr>\n",
       "    <tr>\n",
       "      <th>7</th>\n",
       "      <td>Engine_Petrol</td>\n",
       "      <td>inf</td>\n",
       "    </tr>\n",
       "    <tr>\n",
       "      <th>8</th>\n",
       "      <td>Body_crossover</td>\n",
       "      <td>inf</td>\n",
       "    </tr>\n",
       "    <tr>\n",
       "      <th>9</th>\n",
       "      <td>Body_hatch</td>\n",
       "      <td>inf</td>\n",
       "    </tr>\n",
       "    <tr>\n",
       "      <th>10</th>\n",
       "      <td>Body_other</td>\n",
       "      <td>inf</td>\n",
       "    </tr>\n",
       "    <tr>\n",
       "      <th>11</th>\n",
       "      <td>Body_sedan</td>\n",
       "      <td>inf</td>\n",
       "    </tr>\n",
       "    <tr>\n",
       "      <th>12</th>\n",
       "      <td>Body_vagon</td>\n",
       "      <td>inf</td>\n",
       "    </tr>\n",
       "    <tr>\n",
       "      <th>13</th>\n",
       "      <td>Body_van</td>\n",
       "      <td>inf</td>\n",
       "    </tr>\n",
       "    <tr>\n",
       "      <th>0</th>\n",
       "      <td>Mileage</td>\n",
       "      <td>1.99</td>\n",
       "    </tr>\n",
       "    <tr>\n",
       "      <th>2</th>\n",
       "      <td>Year</td>\n",
       "      <td>1.90</td>\n",
       "    </tr>\n",
       "    <tr>\n",
       "      <th>1</th>\n",
       "      <td>EngineV</td>\n",
       "      <td>1.47</td>\n",
       "    </tr>\n",
       "    <tr>\n",
       "      <th>3</th>\n",
       "      <td>Registration_encoded</td>\n",
       "      <td>1.17</td>\n",
       "    </tr>\n",
       "  </tbody>\n",
       "</table>\n",
       "</div>"
      ],
      "text/plain": [
       "                Features   VIF\n",
       "4          Engine_Diesel   inf\n",
       "5             Engine_Gas   inf\n",
       "6           Engine_Other   inf\n",
       "7          Engine_Petrol   inf\n",
       "8         Body_crossover   inf\n",
       "9             Body_hatch   inf\n",
       "10            Body_other   inf\n",
       "11            Body_sedan   inf\n",
       "12            Body_vagon   inf\n",
       "13              Body_van   inf\n",
       "0                Mileage  1.99\n",
       "2                   Year  1.90\n",
       "1                EngineV  1.47\n",
       "3   Registration_encoded  1.17"
      ]
     },
     "execution_count": 810,
     "metadata": {},
     "output_type": "execute_result"
    }
   ],
   "source": [
    "from statsmodels.stats.outliers_influence import variance_inflation_factor   # vif\n",
    "vif = pd.DataFrame()\n",
    "vif['Features'] = X.columns\n",
    "vif['VIF'] = [variance_inflation_factor(X.values, i) for i in range(X.shape[1])]\n",
    "vif['VIF'] = round(vif['VIF'], 2)\n",
    "vif = vif.sort_values(by = \"VIF\", ascending = False)\n",
    "vif"
   ]
  },
  {
   "cell_type": "markdown",
   "metadata": {},
   "source": [
    "### `Milage has multicollinearity in correlation matrix, and VIF of year is also high, drop year`m"
   ]
  },
  {
   "cell_type": "code",
   "execution_count": 811,
   "metadata": {},
   "outputs": [
    {
     "name": "stdout",
     "output_type": "stream",
     "text": [
      "R-squared 0.5282022206284167\n",
      "Adj-Rsquared 0.5266789521890015\n",
      "parameters:\n",
      "const                   1512.196251\n",
      "Mileage                  -48.169570\n",
      "EngineV                 4203.041178\n",
      "Body_crossover          7095.297510\n",
      "Body_hatch               549.640761\n",
      "Body_other              3310.616490\n",
      "Body_sedan              2725.684244\n",
      "Body_vagon              1830.925514\n",
      "Engine_Diesel           2714.802075\n",
      "Engine_Gas             -2015.200798\n",
      "Engine_Other             769.612313\n",
      "Registration_encoded    7361.879445\n",
      "dtype: float64\n"
     ]
    }
   ],
   "source": [
    "X_train_sm = sm.add_constant(X[['Mileage','EngineV','Body_crossover', 'Body_hatch',\n",
    "                                'Body_other', 'Body_sedan','Body_vagon','Engine_Diesel',\n",
    "                                'Engine_Gas', 'Engine_Other','Registration_encoded']])\n",
    "lr = sm.OLS(y, X_train_sm).fit()\n",
    "print('R-squared',lr.rsquared)\n",
    "print('Adj-Rsquared',lr.rsquared_adj)\n",
    "print(f'parameters:\\n{lr.params}')"
   ]
  },
  {
   "cell_type": "code",
   "execution_count": 812,
   "metadata": {},
   "outputs": [],
   "source": [
    "X.drop(['Year'],axis=1,inplace=True)"
   ]
  },
  {
   "cell_type": "code",
   "execution_count": 813,
   "metadata": {},
   "outputs": [
    {
     "data": {
      "text/plain": [
       "<AxesSubplot:>"
      ]
     },
     "execution_count": 813,
     "metadata": {},
     "output_type": "execute_result"
    },
    {
     "data": {
      "image/png": "[encoded data removed]",
      "text/plain": [
       "<Figure size 720x504 with 2 Axes>"
      ]
     },
     "metadata": {
      "needs_background": "light"
     },
     "output_type": "display_data"
    }
   ],
   "source": [
    "plt.figure(figsize=(10,7))\n",
    "sns.heatmap(X.corr(),annot=True)"
   ]
  },
  {
   "cell_type": "code",
   "execution_count": 814,
   "metadata": {},
   "outputs": [
    {
     "data": {
      "text/html": [
       "<div>\n",
       "<style scoped>\n",
       "    .dataframe tbody tr th:only-of-type {\n",
       "        vertical-align: middle;\n",
       "    }\n",
       "\n",
       "    .dataframe tbody tr th {\n",
       "        vertical-align: top;\n",
       "    }\n",
       "\n",
       "    .dataframe thead th {\n",
       "        text-align: right;\n",
       "    }\n",
       "</style>\n",
       "<table border=\"1\" class=\"dataframe\">\n",
       "  <thead>\n",
       "    <tr style=\"text-align: right;\">\n",
       "      <th></th>\n",
       "      <th>Features</th>\n",
       "      <th>VIF</th>\n",
       "    </tr>\n",
       "  </thead>\n",
       "  <tbody>\n",
       "    <tr>\n",
       "      <th>3</th>\n",
       "      <td>Engine_Diesel</td>\n",
       "      <td>inf</td>\n",
       "    </tr>\n",
       "    <tr>\n",
       "      <th>4</th>\n",
       "      <td>Engine_Gas</td>\n",
       "      <td>inf</td>\n",
       "    </tr>\n",
       "    <tr>\n",
       "      <th>5</th>\n",
       "      <td>Engine_Other</td>\n",
       "      <td>inf</td>\n",
       "    </tr>\n",
       "    <tr>\n",
       "      <th>6</th>\n",
       "      <td>Engine_Petrol</td>\n",
       "      <td>inf</td>\n",
       "    </tr>\n",
       "    <tr>\n",
       "      <th>7</th>\n",
       "      <td>Body_crossover</td>\n",
       "      <td>inf</td>\n",
       "    </tr>\n",
       "    <tr>\n",
       "      <th>8</th>\n",
       "      <td>Body_hatch</td>\n",
       "      <td>inf</td>\n",
       "    </tr>\n",
       "    <tr>\n",
       "      <th>9</th>\n",
       "      <td>Body_other</td>\n",
       "      <td>inf</td>\n",
       "    </tr>\n",
       "    <tr>\n",
       "      <th>10</th>\n",
       "      <td>Body_sedan</td>\n",
       "      <td>inf</td>\n",
       "    </tr>\n",
       "    <tr>\n",
       "      <th>11</th>\n",
       "      <td>Body_vagon</td>\n",
       "      <td>inf</td>\n",
       "    </tr>\n",
       "    <tr>\n",
       "      <th>12</th>\n",
       "      <td>Body_van</td>\n",
       "      <td>inf</td>\n",
       "    </tr>\n",
       "    <tr>\n",
       "      <th>1</th>\n",
       "      <td>EngineV</td>\n",
       "      <td>1.46</td>\n",
       "    </tr>\n",
       "    <tr>\n",
       "      <th>0</th>\n",
       "      <td>Mileage</td>\n",
       "      <td>1.24</td>\n",
       "    </tr>\n",
       "    <tr>\n",
       "      <th>2</th>\n",
       "      <td>Registration_encoded</td>\n",
       "      <td>1.15</td>\n",
       "    </tr>\n",
       "  </tbody>\n",
       "</table>\n",
       "</div>"
      ],
      "text/plain": [
       "                Features   VIF\n",
       "3          Engine_Diesel   inf\n",
       "4             Engine_Gas   inf\n",
       "5           Engine_Other   inf\n",
       "6          Engine_Petrol   inf\n",
       "7         Body_crossover   inf\n",
       "8             Body_hatch   inf\n",
       "9             Body_other   inf\n",
       "10            Body_sedan   inf\n",
       "11            Body_vagon   inf\n",
       "12              Body_van   inf\n",
       "1                EngineV  1.46\n",
       "0                Mileage  1.24\n",
       "2   Registration_encoded  1.15"
      ]
     },
     "execution_count": 814,
     "metadata": {},
     "output_type": "execute_result"
    }
   ],
   "source": [
    "from statsmodels.stats.outliers_influence import variance_inflation_factor   # vif\n",
    "vif = pd.DataFrame()\n",
    "vif['Features'] = X.columns\n",
    "vif['VIF'] = [variance_inflation_factor(X.values, i) for i in range(X.shape[1])]\n",
    "vif['VIF'] = round(vif['VIF'], 2)\n",
    "vif = vif.sort_values(by = \"VIF\", ascending = False)\n",
    "vif"
   ]
  },
  {
   "cell_type": "markdown",
   "metadata": {},
   "source": [
    "### `EngineV has multicollinearity in correlation matrix, and VIF of also high, drop EngineV`"
   ]
  },
  {
   "cell_type": "code",
   "execution_count": 815,
   "metadata": {},
   "outputs": [
    {
     "name": "stdout",
     "output_type": "stream",
     "text": [
      "R-squared 0.467490879443033\n",
      "Adj-Rsquared 0.4659283526808353\n",
      "parameters:\n",
      "const                    8577.990585\n",
      "Mileage                   -42.163118\n",
      "Body_crossover          11201.438265\n",
      "Body_hatch               -672.131130\n",
      "Body_other               4705.004073\n",
      "Body_sedan               4038.921212\n",
      "Body_vagon               1948.687599\n",
      "Engine_Diesel            3086.473107\n",
      "Engine_Gas              -1410.344045\n",
      "Engine_Other              648.573238\n",
      "Registration_encoded     7114.542718\n",
      "dtype: float64\n"
     ]
    }
   ],
   "source": [
    "X_train_sm = sm.add_constant(X[['Mileage','Body_crossover', 'Body_hatch',\n",
    "                                'Body_other', 'Body_sedan','Body_vagon','Engine_Diesel',\n",
    "                                'Engine_Gas', 'Engine_Other','Registration_encoded']])\n",
    "lr = sm.OLS(y, X_train_sm).fit()\n",
    "print('R-squared',lr.rsquared)\n",
    "print('Adj-Rsquared',lr.rsquared_adj)\n",
    "print(f'parameters:\\n{lr.params}')"
   ]
  },
  {
   "cell_type": "code",
   "execution_count": 816,
   "metadata": {},
   "outputs": [],
   "source": [
    "X.drop(['EngineV'],axis=1,inplace=True)"
   ]
  },
  {
   "cell_type": "code",
   "execution_count": 817,
   "metadata": {},
   "outputs": [
    {
     "data": {
      "text/html": [
       "<div>\n",
       "<style scoped>\n",
       "    .dataframe tbody tr th:only-of-type {\n",
       "        vertical-align: middle;\n",
       "    }\n",
       "\n",
       "    .dataframe tbody tr th {\n",
       "        vertical-align: top;\n",
       "    }\n",
       "\n",
       "    .dataframe thead th {\n",
       "        text-align: right;\n",
       "    }\n",
       "</style>\n",
       "<table border=\"1\" class=\"dataframe\">\n",
       "  <thead>\n",
       "    <tr style=\"text-align: right;\">\n",
       "      <th></th>\n",
       "      <th>Features</th>\n",
       "      <th>VIF</th>\n",
       "    </tr>\n",
       "  </thead>\n",
       "  <tbody>\n",
       "    <tr>\n",
       "      <th>2</th>\n",
       "      <td>Engine_Diesel</td>\n",
       "      <td>inf</td>\n",
       "    </tr>\n",
       "    <tr>\n",
       "      <th>3</th>\n",
       "      <td>Engine_Gas</td>\n",
       "      <td>inf</td>\n",
       "    </tr>\n",
       "    <tr>\n",
       "      <th>4</th>\n",
       "      <td>Engine_Other</td>\n",
       "      <td>inf</td>\n",
       "    </tr>\n",
       "    <tr>\n",
       "      <th>5</th>\n",
       "      <td>Engine_Petrol</td>\n",
       "      <td>inf</td>\n",
       "    </tr>\n",
       "    <tr>\n",
       "      <th>6</th>\n",
       "      <td>Body_crossover</td>\n",
       "      <td>inf</td>\n",
       "    </tr>\n",
       "    <tr>\n",
       "      <th>7</th>\n",
       "      <td>Body_hatch</td>\n",
       "      <td>inf</td>\n",
       "    </tr>\n",
       "    <tr>\n",
       "      <th>8</th>\n",
       "      <td>Body_other</td>\n",
       "      <td>inf</td>\n",
       "    </tr>\n",
       "    <tr>\n",
       "      <th>9</th>\n",
       "      <td>Body_sedan</td>\n",
       "      <td>inf</td>\n",
       "    </tr>\n",
       "    <tr>\n",
       "      <th>10</th>\n",
       "      <td>Body_vagon</td>\n",
       "      <td>inf</td>\n",
       "    </tr>\n",
       "    <tr>\n",
       "      <th>11</th>\n",
       "      <td>Body_van</td>\n",
       "      <td>inf</td>\n",
       "    </tr>\n",
       "    <tr>\n",
       "      <th>0</th>\n",
       "      <td>Mileage</td>\n",
       "      <td>1.18</td>\n",
       "    </tr>\n",
       "    <tr>\n",
       "      <th>1</th>\n",
       "      <td>Registration_encoded</td>\n",
       "      <td>1.15</td>\n",
       "    </tr>\n",
       "  </tbody>\n",
       "</table>\n",
       "</div>"
      ],
      "text/plain": [
       "                Features   VIF\n",
       "2          Engine_Diesel   inf\n",
       "3             Engine_Gas   inf\n",
       "4           Engine_Other   inf\n",
       "5          Engine_Petrol   inf\n",
       "6         Body_crossover   inf\n",
       "7             Body_hatch   inf\n",
       "8             Body_other   inf\n",
       "9             Body_sedan   inf\n",
       "10            Body_vagon   inf\n",
       "11              Body_van   inf\n",
       "0                Mileage  1.18\n",
       "1   Registration_encoded  1.15"
      ]
     },
     "execution_count": 817,
     "metadata": {},
     "output_type": "execute_result"
    }
   ],
   "source": [
    "from statsmodels.stats.outliers_influence import variance_inflation_factor   # vif\n",
    "vif = pd.DataFrame()\n",
    "vif['Features'] = X.columns\n",
    "vif['VIF'] = [variance_inflation_factor(X.values, i) for i in range(X.shape[1])]\n",
    "vif['VIF'] = round(vif['VIF'], 2)\n",
    "vif = vif.sort_values(by = \"VIF\", ascending = False)\n",
    "vif"
   ]
  },
  {
   "cell_type": "markdown",
   "metadata": {},
   "source": [
    "### `All VIF are less than 5, all good, we can proceed`\n",
    "<br />\n",
    "<br />\n",
    "<br />\n",
    "<br />\n",
    "\n",
    "-----"
   ]
  },
  {
   "cell_type": "markdown",
   "metadata": {},
   "source": [
    "#### 13B. Feature Selection using with Backward Selection\n",
    "<br />\n",
    "<br />\n",
    "<br />\n"
   ]
  },
  {
   "cell_type": "markdown",
   "metadata": {},
   "source": [
    "## `Feature Selection ( Backward Elimination )`"
   ]
  },
  {
   "cell_type": "code",
   "execution_count": 818,
   "metadata": {},
   "outputs": [],
   "source": [
    "X = one_hot_1[['Body_crossover', 'Body_hatch', 'Body_other', 'Body_sedan',\n",
    "       'Body_vagon','Engine_Diesel', 'Engine_Gas', 'Engine_Other','Registration_encoded','Mileage','EngineV','Year']]\n",
    "y = one_hot_1['Price']"
   ]
  },
  {
   "cell_type": "code",
   "execution_count": 819,
   "metadata": {},
   "outputs": [
    {
     "data": {
      "text/html": [
       "<div>\n",
       "<style scoped>\n",
       "    .dataframe tbody tr th:only-of-type {\n",
       "        vertical-align: middle;\n",
       "    }\n",
       "\n",
       "    .dataframe tbody tr th {\n",
       "        vertical-align: top;\n",
       "    }\n",
       "\n",
       "    .dataframe thead th {\n",
       "        text-align: right;\n",
       "    }\n",
       "</style>\n",
       "<table border=\"1\" class=\"dataframe\">\n",
       "  <thead>\n",
       "    <tr style=\"text-align: right;\">\n",
       "      <th></th>\n",
       "      <th>Features</th>\n",
       "      <th>VIF</th>\n",
       "    </tr>\n",
       "  </thead>\n",
       "  <tbody>\n",
       "    <tr>\n",
       "      <th>11</th>\n",
       "      <td>Year</td>\n",
       "      <td>41.96</td>\n",
       "    </tr>\n",
       "    <tr>\n",
       "      <th>10</th>\n",
       "      <td>EngineV</td>\n",
       "      <td>18.53</td>\n",
       "    </tr>\n",
       "    <tr>\n",
       "      <th>8</th>\n",
       "      <td>Registration_encoded</td>\n",
       "      <td>11.05</td>\n",
       "    </tr>\n",
       "    <tr>\n",
       "      <th>9</th>\n",
       "      <td>Mileage</td>\n",
       "      <td>5.51</td>\n",
       "    </tr>\n",
       "    <tr>\n",
       "      <th>3</th>\n",
       "      <td>Body_sedan</td>\n",
       "      <td>4.43</td>\n",
       "    </tr>\n",
       "    <tr>\n",
       "      <th>5</th>\n",
       "      <td>Engine_Diesel</td>\n",
       "      <td>3.24</td>\n",
       "    </tr>\n",
       "    <tr>\n",
       "      <th>0</th>\n",
       "      <td>Body_crossover</td>\n",
       "      <td>2.73</td>\n",
       "    </tr>\n",
       "    <tr>\n",
       "      <th>4</th>\n",
       "      <td>Body_vagon</td>\n",
       "      <td>1.73</td>\n",
       "    </tr>\n",
       "    <tr>\n",
       "      <th>1</th>\n",
       "      <td>Body_hatch</td>\n",
       "      <td>1.72</td>\n",
       "    </tr>\n",
       "    <tr>\n",
       "      <th>2</th>\n",
       "      <td>Body_other</td>\n",
       "      <td>1.69</td>\n",
       "    </tr>\n",
       "    <tr>\n",
       "      <th>6</th>\n",
       "      <td>Engine_Gas</td>\n",
       "      <td>1.53</td>\n",
       "    </tr>\n",
       "    <tr>\n",
       "      <th>7</th>\n",
       "      <td>Engine_Other</td>\n",
       "      <td>1.09</td>\n",
       "    </tr>\n",
       "  </tbody>\n",
       "</table>\n",
       "</div>"
      ],
      "text/plain": [
       "                Features    VIF\n",
       "11                  Year  41.96\n",
       "10               EngineV  18.53\n",
       "8   Registration_encoded  11.05\n",
       "9                Mileage   5.51\n",
       "3             Body_sedan   4.43\n",
       "5          Engine_Diesel   3.24\n",
       "0         Body_crossover   2.73\n",
       "4             Body_vagon   1.73\n",
       "1             Body_hatch   1.72\n",
       "2             Body_other   1.69\n",
       "6             Engine_Gas   1.53\n",
       "7           Engine_Other   1.09"
      ]
     },
     "execution_count": 819,
     "metadata": {},
     "output_type": "execute_result"
    }
   ],
   "source": [
    "from statsmodels.stats.outliers_influence import variance_inflation_factor   # vif\n",
    "vif = pd.DataFrame()\n",
    "vif['Features'] = X.columns\n",
    "vif['VIF'] = [variance_inflation_factor(X.values, i) for i in range(X.shape[1])]\n",
    "vif['VIF'] = round(vif['VIF'], 2)\n",
    "vif = vif.sort_values(by = \"VIF\", ascending = False)\n",
    "vif"
   ]
  },
  {
   "cell_type": "code",
   "execution_count": 820,
   "metadata": {},
   "outputs": [
    {
     "data": {
      "text/plain": [
       "const                   3.274968e-205\n",
       "Body_crossover           1.160979e-67\n",
       "Body_hatch               4.452315e-09\n",
       "Body_other               5.815175e-24\n",
       "Body_sedan               4.032670e-34\n",
       "Body_vagon               1.655626e-11\n",
       "Engine_Diesel            1.756497e-05\n",
       "Engine_Gas               5.043617e-10\n",
       "Engine_Other             7.630830e-01\n",
       "Registration_encoded     1.434212e-67\n",
       "Mileage                  6.674901e-40\n",
       "EngineV                 7.618944e-134\n",
       "Year                    1.155150e-205\n",
       "dtype: float64"
      ]
     },
     "execution_count": 820,
     "metadata": {},
     "output_type": "execute_result"
    }
   ],
   "source": [
    "X_train_sm  = sm.add_constant(X)\n",
    "ols_model = sm.OLS(y,X_train_sm)\n",
    "ols_model = ols_model.fit()\n",
    "ols_model.pvalues"
   ]
  },
  {
   "cell_type": "markdown",
   "metadata": {},
   "source": [
    "### Drop `Year`, highest VIF"
   ]
  },
  {
   "cell_type": "code",
   "execution_count": 821,
   "metadata": {},
   "outputs": [],
   "source": [
    "X.drop(['Year'],axis=1,inplace=True)"
   ]
  },
  {
   "cell_type": "code",
   "execution_count": 822,
   "metadata": {},
   "outputs": [
    {
     "data": {
      "text/html": [
       "<div>\n",
       "<style scoped>\n",
       "    .dataframe tbody tr th:only-of-type {\n",
       "        vertical-align: middle;\n",
       "    }\n",
       "\n",
       "    .dataframe tbody tr th {\n",
       "        vertical-align: top;\n",
       "    }\n",
       "\n",
       "    .dataframe thead th {\n",
       "        text-align: right;\n",
       "    }\n",
       "</style>\n",
       "<table border=\"1\" class=\"dataframe\">\n",
       "  <thead>\n",
       "    <tr style=\"text-align: right;\">\n",
       "      <th></th>\n",
       "      <th>Features</th>\n",
       "      <th>VIF</th>\n",
       "    </tr>\n",
       "  </thead>\n",
       "  <tbody>\n",
       "    <tr>\n",
       "      <th>10</th>\n",
       "      <td>EngineV</td>\n",
       "      <td>14.26</td>\n",
       "    </tr>\n",
       "    <tr>\n",
       "      <th>8</th>\n",
       "      <td>Registration_encoded</td>\n",
       "      <td>6.12</td>\n",
       "    </tr>\n",
       "    <tr>\n",
       "      <th>9</th>\n",
       "      <td>Mileage</td>\n",
       "      <td>5.09</td>\n",
       "    </tr>\n",
       "    <tr>\n",
       "      <th>3</th>\n",
       "      <td>Body_sedan</td>\n",
       "      <td>3.54</td>\n",
       "    </tr>\n",
       "    <tr>\n",
       "      <th>5</th>\n",
       "      <td>Engine_Diesel</td>\n",
       "      <td>2.79</td>\n",
       "    </tr>\n",
       "    <tr>\n",
       "      <th>0</th>\n",
       "      <td>Body_crossover</td>\n",
       "      <td>2.62</td>\n",
       "    </tr>\n",
       "    <tr>\n",
       "      <th>2</th>\n",
       "      <td>Body_other</td>\n",
       "      <td>1.56</td>\n",
       "    </tr>\n",
       "    <tr>\n",
       "      <th>6</th>\n",
       "      <td>Engine_Gas</td>\n",
       "      <td>1.53</td>\n",
       "    </tr>\n",
       "    <tr>\n",
       "      <th>4</th>\n",
       "      <td>Body_vagon</td>\n",
       "      <td>1.47</td>\n",
       "    </tr>\n",
       "    <tr>\n",
       "      <th>1</th>\n",
       "      <td>Body_hatch</td>\n",
       "      <td>1.33</td>\n",
       "    </tr>\n",
       "    <tr>\n",
       "      <th>7</th>\n",
       "      <td>Engine_Other</td>\n",
       "      <td>1.07</td>\n",
       "    </tr>\n",
       "  </tbody>\n",
       "</table>\n",
       "</div>"
      ],
      "text/plain": [
       "                Features    VIF\n",
       "10               EngineV  14.26\n",
       "8   Registration_encoded   6.12\n",
       "9                Mileage   5.09\n",
       "3             Body_sedan   3.54\n",
       "5          Engine_Diesel   2.79\n",
       "0         Body_crossover   2.62\n",
       "2             Body_other   1.56\n",
       "6             Engine_Gas   1.53\n",
       "4             Body_vagon   1.47\n",
       "1             Body_hatch   1.33\n",
       "7           Engine_Other   1.07"
      ]
     },
     "execution_count": 822,
     "metadata": {},
     "output_type": "execute_result"
    }
   ],
   "source": [
    "from statsmodels.stats.outliers_influence import variance_inflation_factor   # vif\n",
    "vif = pd.DataFrame()\n",
    "vif['Features'] = X.columns\n",
    "vif['VIF'] = [variance_inflation_factor(X.values, i) for i in range(X.shape[1])]\n",
    "vif['VIF'] = round(vif['VIF'], 2)\n",
    "vif = vif.sort_values(by = \"VIF\", ascending = False)\n",
    "vif"
   ]
  },
  {
   "cell_type": "code",
   "execution_count": 823,
   "metadata": {},
   "outputs": [
    {
     "data": {
      "text/plain": [
       "const                    3.129261e-02\n",
       "Body_crossover           1.455415e-53\n",
       "Body_hatch               2.839810e-01\n",
       "Body_other               4.674818e-13\n",
       "Body_sedan               7.926871e-14\n",
       "Body_vagon               2.236097e-05\n",
       "Engine_Diesel            2.522064e-21\n",
       "Engine_Gas               3.240775e-09\n",
       "Engine_Other             2.678887e-01\n",
       "Registration_encoded     7.213765e-80\n",
       "Mileage                 2.239960e-251\n",
       "EngineV                  1.125378e-91\n",
       "dtype: float64"
      ]
     },
     "execution_count": 823,
     "metadata": {},
     "output_type": "execute_result"
    }
   ],
   "source": [
    "import statsmodels.api as sm\n",
    "X_train_sm  = sm.add_constant(X)\n",
    "ols_model = sm.OLS(y,X_train_sm)\n",
    "ols_model = ols_model.fit()\n",
    "ols_model.pvalues"
   ]
  },
  {
   "cell_type": "markdown",
   "metadata": {},
   "source": [
    "### Drop `EngineV`, highest VIF"
   ]
  },
  {
   "cell_type": "code",
   "execution_count": 824,
   "metadata": {},
   "outputs": [],
   "source": [
    "X.drop(['EngineV'],axis=1,inplace=True)"
   ]
  },
  {
   "cell_type": "code",
   "execution_count": 825,
   "metadata": {},
   "outputs": [
    {
     "data": {
      "text/html": [
       "<div>\n",
       "<style scoped>\n",
       "    .dataframe tbody tr th:only-of-type {\n",
       "        vertical-align: middle;\n",
       "    }\n",
       "\n",
       "    .dataframe tbody tr th {\n",
       "        vertical-align: top;\n",
       "    }\n",
       "\n",
       "    .dataframe thead th {\n",
       "        text-align: right;\n",
       "    }\n",
       "</style>\n",
       "<table border=\"1\" class=\"dataframe\">\n",
       "  <thead>\n",
       "    <tr style=\"text-align: right;\">\n",
       "      <th></th>\n",
       "      <th>Features</th>\n",
       "      <th>VIF</th>\n",
       "    </tr>\n",
       "  </thead>\n",
       "  <tbody>\n",
       "    <tr>\n",
       "      <th>8</th>\n",
       "      <td>Registration_encoded</td>\n",
       "      <td>4.91</td>\n",
       "    </tr>\n",
       "    <tr>\n",
       "      <th>9</th>\n",
       "      <td>Mileage</td>\n",
       "      <td>4.17</td>\n",
       "    </tr>\n",
       "    <tr>\n",
       "      <th>3</th>\n",
       "      <td>Body_sedan</td>\n",
       "      <td>2.67</td>\n",
       "    </tr>\n",
       "    <tr>\n",
       "      <th>5</th>\n",
       "      <td>Engine_Diesel</td>\n",
       "      <td>2.56</td>\n",
       "    </tr>\n",
       "    <tr>\n",
       "      <th>0</th>\n",
       "      <td>Body_crossover</td>\n",
       "      <td>1.63</td>\n",
       "    </tr>\n",
       "    <tr>\n",
       "      <th>6</th>\n",
       "      <td>Engine_Gas</td>\n",
       "      <td>1.51</td>\n",
       "    </tr>\n",
       "    <tr>\n",
       "      <th>2</th>\n",
       "      <td>Body_other</td>\n",
       "      <td>1.38</td>\n",
       "    </tr>\n",
       "    <tr>\n",
       "      <th>4</th>\n",
       "      <td>Body_vagon</td>\n",
       "      <td>1.38</td>\n",
       "    </tr>\n",
       "    <tr>\n",
       "      <th>1</th>\n",
       "      <td>Body_hatch</td>\n",
       "      <td>1.30</td>\n",
       "    </tr>\n",
       "    <tr>\n",
       "      <th>7</th>\n",
       "      <td>Engine_Other</td>\n",
       "      <td>1.07</td>\n",
       "    </tr>\n",
       "  </tbody>\n",
       "</table>\n",
       "</div>"
      ],
      "text/plain": [
       "               Features   VIF\n",
       "8  Registration_encoded  4.91\n",
       "9               Mileage  4.17\n",
       "3            Body_sedan  2.67\n",
       "5         Engine_Diesel  2.56\n",
       "0        Body_crossover  1.63\n",
       "6            Engine_Gas  1.51\n",
       "2            Body_other  1.38\n",
       "4            Body_vagon  1.38\n",
       "1            Body_hatch  1.30\n",
       "7          Engine_Other  1.07"
      ]
     },
     "execution_count": 825,
     "metadata": {},
     "output_type": "execute_result"
    }
   ],
   "source": [
    "from statsmodels.stats.outliers_influence import variance_inflation_factor   # vif\n",
    "vif = pd.DataFrame()\n",
    "vif['Features'] = X.columns\n",
    "vif['VIF'] = [variance_inflation_factor(X.values, i) for i in range(X.shape[1])]\n",
    "vif['VIF'] = round(vif['VIF'], 2)\n",
    "vif = vif.sort_values(by = \"VIF\", ascending = False)\n",
    "vif"
   ]
  },
  {
   "cell_type": "code",
   "execution_count": 826,
   "metadata": {},
   "outputs": [
    {
     "data": {
      "text/plain": [
       "const                    2.141518e-38\n",
       "Body_crossover          8.478815e-135\n",
       "Body_hatch               2.144401e-01\n",
       "Body_other               1.785946e-22\n",
       "Body_sedan               5.736936e-26\n",
       "Body_vagon               2.151554e-05\n",
       "Engine_Diesel            3.078615e-24\n",
       "Engine_Gas               8.872874e-05\n",
       "Engine_Other             3.793780e-01\n",
       "Registration_encoded     4.623011e-67\n",
       "Mileage                 4.032490e-188\n",
       "dtype: float64"
      ]
     },
     "execution_count": 826,
     "metadata": {},
     "output_type": "execute_result"
    }
   ],
   "source": [
    "import statsmodels.api as sm\n",
    "X_train_sm = sm.add_constant(X)\n",
    "ols_model = sm.OLS(y,X_train_sm)\n",
    "ols_model = ols_model.fit()\n",
    "ols_model.pvalues"
   ]
  },
  {
   "cell_type": "markdown",
   "metadata": {},
   "source": [
    "### `All VIF are less than 5, all good, we can proceed`"
   ]
  },
  {
   "cell_type": "markdown",
   "metadata": {},
   "source": [
    "#### 14. Explain about Assumption of errors and predictors\n"
   ]
  },
  {
   "cell_type": "code",
   "execution_count": null,
   "metadata": {},
   "outputs": [],
   "source": []
  },
  {
   "cell_type": "markdown",
   "metadata": {},
   "source": [
    "#### 15A. Split The Dataset into Train and Test (80:20) using Sklearn"
   ]
  },
  {
   "cell_type": "code",
   "execution_count": 827,
   "metadata": {},
   "outputs": [],
   "source": [
    "###CODEHERE\n",
    "from sklearn.model_selection import train_test_split\n",
    "X_train,X_test, y_train, y_test = train_test_split(X,y,test_size=0.20,random_state=42)"
   ]
  },
  {
   "cell_type": "markdown",
   "metadata": {},
   "source": [
    "#### 15B. Perform the Linear Regression Model fit using Sklearn."
   ]
  },
  {
   "cell_type": "code",
   "execution_count": 828,
   "metadata": {},
   "outputs": [
    {
     "name": "stdout",
     "output_type": "stream",
     "text": [
      "RMSE is:  6458.898310159316\n",
      "RSquared is: 47.08%\n"
     ]
    }
   ],
   "source": [
    "from sklearn.linear_model import LinearRegression\n",
    "from sklearn.metrics import r2_score, mean_squared_error\n",
    "model = LinearRegression()\n",
    "model.fit(X_train,y_train)\n",
    "y_pred = model.predict(X_test)\n",
    "rmse_test =  np.sqrt(mean_squared_error(y_test,y_pred))\n",
    "Rsqr_test = round(r2_score(y_test,y_pred)*100,2)\n",
    "print('RMSE is: ',rmse_test)\n",
    "print('RSquared is: '+str(Rsqr_test)+'%')"
   ]
  },
  {
   "cell_type": "markdown",
   "metadata": {},
   "source": [
    "#### 15C. Explain about Lasso Regression and Perform the Lasso Regression"
   ]
  },
  {
   "cell_type": "code",
   "execution_count": 829,
   "metadata": {},
   "outputs": [
    {
     "name": "stdout",
     "output_type": "stream",
     "text": [
      "Evaluation metrics for Testing Dataset\n",
      "----------------------------------------\n",
      "RMSE is:  6458.642105135082\n",
      "RSquared is: 47.09%\n"
     ]
    }
   ],
   "source": [
    "from sklearn.linear_model import Lasso\n",
    "\n",
    "lasso_r = Lasso(alpha=1)\n",
    "lasso_r.fit(X_train,y_train)\n",
    "y_pred = lasso_r.predict(X_test)\n",
    "\n",
    "rmse_test =  np.sqrt(mean_squared_error(y_test,y_pred))\n",
    "Rsqr_test = round(r2_score(y_test,y_pred)*100,2)\n",
    "\n",
    "print('Evaluation metrics for Testing Dataset')\n",
    "print('-'*40)\n",
    "print('RMSE is: ',rmse_test)\n",
    "print('RSquared is: '+str(Rsqr_test)+'%')"
   ]
  },
  {
   "cell_type": "markdown",
   "metadata": {},
   "source": [
    "#### 15D. Explain about Ridge Regression and Perform the Ridge Regression"
   ]
  },
  {
   "cell_type": "code",
   "execution_count": 830,
   "metadata": {},
   "outputs": [
    {
     "name": "stdout",
     "output_type": "stream",
     "text": [
      "Evaluation metrics for Testing Dataset\n",
      "----------------------------------------\n",
      "RMSE is:  6458.916176903057\n",
      "RSquared is: 47.08%\n"
     ]
    }
   ],
   "source": [
    "from sklearn.linear_model import Ridge\n",
    "lm_r = Ridge(alpha=3)\n",
    "lm_r.fit(X_train,y_train)\n",
    "y_pred = lm_r.predict(X_test)\n",
    "rmse_test =  np.sqrt(mean_squared_error(y_test,y_pred))\n",
    "Rsqr_test = round(r2_score(y_test,y_pred)*100,2)\n",
    "\n",
    "print('Evaluation metrics for Testing Dataset')\n",
    "print('-'*40)\n",
    "print('RMSE is: ',rmse_test)\n",
    "print('RSquared is: '+str(Rsqr_test)+'%')"
   ]
  },
  {
   "cell_type": "markdown",
   "metadata": {},
   "source": [
    "#### 16. Perform Residual Analysis Give The Interpretations."
   ]
  },
  {
   "cell_type": "code",
   "execution_count": 831,
   "metadata": {},
   "outputs": [],
   "source": [
    "###CODEHERE"
   ]
  },
  {
   "cell_type": "markdown",
   "metadata": {},
   "source": [
    "### Give the Conclusions about the Model fits for What you Observe."
   ]
  },
  {
   "cell_type": "code",
   "execution_count": 832,
   "metadata": {},
   "outputs": [],
   "source": [
    "### Interpretations"
   ]
  }
 ],
 "metadata": {
  "kernelspec": {
   "display_name": "Python 3",
   "language": "python",
   "name": "python3"
  },
  "language_info": {
   "codemirror_mode": {
    "name": "ipython",
    "version": 3
   },
   "file_extension": ".py",
   "mimetype": "text/x-python",
   "name": "python",
   "nbconvert_exporter": "python",
   "pygments_lexer": "ipython3",
   "version": "3.8.8"
  }
 },
 "nbformat": 4,
 "nbformat_minor": 2
}
