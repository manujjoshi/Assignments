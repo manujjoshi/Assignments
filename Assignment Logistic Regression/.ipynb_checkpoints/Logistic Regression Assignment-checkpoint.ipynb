{
 "cells": [
  {
   "cell_type": "markdown",
   "id": "9527549d",
   "metadata": {},
   "source": [
    "# `Logistic Regression Assignment -----------------------------------`"
   ]
  },
  {
   "cell_type": "code",
   "execution_count": 592,
   "id": "ef4cc16e",
   "metadata": {},
   "outputs": [],
   "source": [
    "import pandas as pd\n",
    "import numpy as np\n",
    "import seaborn as sns\n",
    "import matplotlib.pyplot as plt\n",
    "import warnings\n",
    "warnings.filterwarnings('ignore')"
   ]
  },
  {
   "cell_type": "code",
   "execution_count": 593,
   "id": "cfb35f8e",
   "metadata": {},
   "outputs": [
    {
     "data": {
      "text/html": [
       "<div>\n",
       "<style scoped>\n",
       "    .dataframe tbody tr th:only-of-type {\n",
       "        vertical-align: middle;\n",
       "    }\n",
       "\n",
       "    .dataframe tbody tr th {\n",
       "        vertical-align: top;\n",
       "    }\n",
       "\n",
       "    .dataframe thead th {\n",
       "        text-align: right;\n",
       "    }\n",
       "</style>\n",
       "<table border=\"1\" class=\"dataframe\">\n",
       "  <thead>\n",
       "    <tr style=\"text-align: right;\">\n",
       "      <th></th>\n",
       "      <th>age</th>\n",
       "      <th>sex</th>\n",
       "      <th>cp</th>\n",
       "      <th>trestbps</th>\n",
       "      <th>chol</th>\n",
       "      <th>fbs</th>\n",
       "      <th>restecg</th>\n",
       "      <th>thalach</th>\n",
       "      <th>exang</th>\n",
       "      <th>oldpeak</th>\n",
       "      <th>slope</th>\n",
       "      <th>ca</th>\n",
       "      <th>thal</th>\n",
       "      <th>target</th>\n",
       "    </tr>\n",
       "  </thead>\n",
       "  <tbody>\n",
       "    <tr>\n",
       "      <th>0</th>\n",
       "      <td>63</td>\n",
       "      <td>Male</td>\n",
       "      <td>asymptomatic</td>\n",
       "      <td>145</td>\n",
       "      <td>233</td>\n",
       "      <td>True</td>\n",
       "      <td>Normal</td>\n",
       "      <td>150</td>\n",
       "      <td>No</td>\n",
       "      <td>2.3</td>\n",
       "      <td>Up_Sloping</td>\n",
       "      <td>0</td>\n",
       "      <td>1</td>\n",
       "      <td>Yes</td>\n",
       "    </tr>\n",
       "    <tr>\n",
       "      <th>1</th>\n",
       "      <td>37</td>\n",
       "      <td>Male</td>\n",
       "      <td>non-anginal pain</td>\n",
       "      <td>130</td>\n",
       "      <td>250</td>\n",
       "      <td>False</td>\n",
       "      <td>Not_Normal</td>\n",
       "      <td>187</td>\n",
       "      <td>No</td>\n",
       "      <td>3.5</td>\n",
       "      <td>Up_Sloping</td>\n",
       "      <td>0</td>\n",
       "      <td>2</td>\n",
       "      <td>Yes</td>\n",
       "    </tr>\n",
       "    <tr>\n",
       "      <th>2</th>\n",
       "      <td>41</td>\n",
       "      <td>Female</td>\n",
       "      <td>atypical angina</td>\n",
       "      <td>130</td>\n",
       "      <td>204</td>\n",
       "      <td>False</td>\n",
       "      <td>Normal</td>\n",
       "      <td>172</td>\n",
       "      <td>No</td>\n",
       "      <td>1.4</td>\n",
       "      <td>Down_Sloping</td>\n",
       "      <td>0</td>\n",
       "      <td>2</td>\n",
       "      <td>Yes</td>\n",
       "    </tr>\n",
       "    <tr>\n",
       "      <th>3</th>\n",
       "      <td>56</td>\n",
       "      <td>Male</td>\n",
       "      <td>atypical angina</td>\n",
       "      <td>120</td>\n",
       "      <td>236</td>\n",
       "      <td>False</td>\n",
       "      <td>Not_Normal</td>\n",
       "      <td>178</td>\n",
       "      <td>No</td>\n",
       "      <td>0.8</td>\n",
       "      <td>Down_Sloping</td>\n",
       "      <td>0</td>\n",
       "      <td>2</td>\n",
       "      <td>Yes</td>\n",
       "    </tr>\n",
       "    <tr>\n",
       "      <th>4</th>\n",
       "      <td>57</td>\n",
       "      <td>Female</td>\n",
       "      <td>typical angina</td>\n",
       "      <td>120</td>\n",
       "      <td>354</td>\n",
       "      <td>False</td>\n",
       "      <td>Not_Normal</td>\n",
       "      <td>163</td>\n",
       "      <td>Yes</td>\n",
       "      <td>0.6</td>\n",
       "      <td>Down_Sloping</td>\n",
       "      <td>0</td>\n",
       "      <td>2</td>\n",
       "      <td>Yes</td>\n",
       "    </tr>\n",
       "  </tbody>\n",
       "</table>\n",
       "</div>"
      ],
      "text/plain": [
       "   age     sex                 cp  trestbps  chol    fbs     restecg  thalach  \\\n",
       "0   63    Male       asymptomatic       145   233   True      Normal      150   \n",
       "1   37    Male   non-anginal pain       130   250  False  Not_Normal      187   \n",
       "2   41  Female    atypical angina       130   204  False      Normal      172   \n",
       "3   56    Male    atypical angina       120   236  False  Not_Normal      178   \n",
       "4   57  Female     typical angina       120   354  False  Not_Normal      163   \n",
       "\n",
       "  exang  oldpeak         slope  ca  thal target  \n",
       "0    No      2.3    Up_Sloping   0     1    Yes  \n",
       "1    No      3.5    Up_Sloping   0     2    Yes  \n",
       "2    No      1.4  Down_Sloping   0     2    Yes  \n",
       "3    No      0.8  Down_Sloping   0     2    Yes  \n",
       "4   Yes      0.6  Down_Sloping   0     2    Yes  "
      ]
     },
     "execution_count": 593,
     "metadata": {},
     "output_type": "execute_result"
    }
   ],
   "source": [
    "data = pd.read_csv('heart.csv',sep='\\t')   # here separator is \\t\n",
    "data.head()"
   ]
  },
  {
   "cell_type": "code",
   "execution_count": 594,
   "id": "fb1d625c",
   "metadata": {},
   "outputs": [
    {
     "data": {
      "text/plain": [
       "(303, 14)"
      ]
     },
     "execution_count": 594,
     "metadata": {},
     "output_type": "execute_result"
    }
   ],
   "source": [
    "data.shape"
   ]
  },
  {
   "cell_type": "code",
   "execution_count": 595,
   "id": "d634ed26",
   "metadata": {},
   "outputs": [
    {
     "data": {
      "text/plain": [
       "Index(['age', 'sex', 'cp', 'trestbps', 'chol', 'fbs', 'restecg', 'thalach',\n",
       "       'exang', 'oldpeak', 'slope', 'ca', 'thal', 'target'],\n",
       "      dtype='object')"
      ]
     },
     "execution_count": 595,
     "metadata": {},
     "output_type": "execute_result"
    }
   ],
   "source": [
    "data.columns"
   ]
  },
  {
   "cell_type": "code",
   "execution_count": 596,
   "id": "00994ac2",
   "metadata": {
    "scrolled": true
   },
   "outputs": [
    {
     "data": {
      "text/plain": [
       "age           int64\n",
       "sex          object\n",
       "cp           object\n",
       "trestbps      int64\n",
       "chol          int64\n",
       "fbs            bool\n",
       "restecg      object\n",
       "thalach       int64\n",
       "exang        object\n",
       "oldpeak     float64\n",
       "slope        object\n",
       "ca            int64\n",
       "thal          int64\n",
       "target       object\n",
       "dtype: object"
      ]
     },
     "execution_count": 596,
     "metadata": {},
     "output_type": "execute_result"
    }
   ],
   "source": [
    "data.dtypes"
   ]
  },
  {
   "cell_type": "code",
   "execution_count": 597,
   "id": "00f1a8ba",
   "metadata": {},
   "outputs": [],
   "source": [
    "data['fbs'] = data['fbs'].astype('object')"
   ]
  },
  {
   "cell_type": "code",
   "execution_count": 598,
   "id": "03e9b8d6",
   "metadata": {},
   "outputs": [
    {
     "data": {
      "text/plain": [
       "age         0\n",
       "sex         0\n",
       "cp          0\n",
       "trestbps    0\n",
       "chol        0\n",
       "fbs         0\n",
       "restecg     0\n",
       "thalach     0\n",
       "exang       0\n",
       "oldpeak     0\n",
       "slope       0\n",
       "ca          0\n",
       "thal        0\n",
       "target      0\n",
       "dtype: int64"
      ]
     },
     "execution_count": 598,
     "metadata": {},
     "output_type": "execute_result"
    }
   ],
   "source": [
    "data.isnull().sum()   # bam!! we are lucky"
   ]
  },
  {
   "cell_type": "code",
   "execution_count": 599,
   "id": "afb92882",
   "metadata": {},
   "outputs": [],
   "source": [
    "target = 'target'\n",
    "cont_columns = data.select_dtypes(['int64','float64']).columns\n",
    "cat_columns = list(filter(lambda x: x!='target',data.select_dtypes('object').columns))"
   ]
  },
  {
   "cell_type": "code",
   "execution_count": 600,
   "id": "285fb288",
   "metadata": {},
   "outputs": [
    {
     "data": {
      "text/plain": [
       "Index(['age', 'trestbps', 'chol', 'thalach', 'oldpeak', 'ca', 'thal'], dtype='object')"
      ]
     },
     "execution_count": 600,
     "metadata": {},
     "output_type": "execute_result"
    }
   ],
   "source": [
    "cont_columns"
   ]
  },
  {
   "cell_type": "code",
   "execution_count": 601,
   "id": "cc1958db",
   "metadata": {},
   "outputs": [
    {
     "data": {
      "text/plain": [
       "['sex', 'cp', 'fbs', 'restecg', 'exang', 'slope']"
      ]
     },
     "execution_count": 601,
     "metadata": {},
     "output_type": "execute_result"
    }
   ],
   "source": [
    "cat_columns"
   ]
  },
  {
   "cell_type": "markdown",
   "id": "de767c46",
   "metadata": {},
   "source": [
    "### Variables\n",
    "#### Cat\n",
    "- sex\n",
    "- cp\n",
    "- restecg      \n",
    "- exang   \n",
    "- slope   \n",
    "- target\n",
    "\n",
    "#### Num\n",
    "- age\n",
    "- trestbps      \n",
    "- thalach\n",
    "- oldpeak     \n",
    "- ca            \n",
    "- thal"
   ]
  },
  {
   "cell_type": "markdown",
   "id": "036a9fdb",
   "metadata": {},
   "source": [
    "## `Univariate Analysis`\n",
    "### `Categorical Columns`\n",
    "### sex"
   ]
  },
  {
   "cell_type": "code",
   "execution_count": 602,
   "id": "ae29f564",
   "metadata": {},
   "outputs": [
    {
     "data": {
      "text/plain": [
       "Male      207\n",
       "Female     96\n",
       "Name: sex, dtype: int64"
      ]
     },
     "execution_count": 602,
     "metadata": {},
     "output_type": "execute_result"
    }
   ],
   "source": [
    "data['sex'].value_counts()"
   ]
  },
  {
   "cell_type": "code",
   "execution_count": 603,
   "id": "4bfb637f",
   "metadata": {},
   "outputs": [
    {
     "data": {
      "text/plain": [
       "<AxesSubplot:xlabel='sex', ylabel='count'>"
      ]
     },
     "execution_count": 603,
     "metadata": {},
     "output_type": "execute_result"
    },
    {
     "data": {
      "image/png": "[encoded data removed]",
      "text/plain": [
       "<Figure size 432x288 with 1 Axes>"
      ]
     },
     "metadata": {
      "needs_background": "light"
     },
     "output_type": "display_data"
    }
   ],
   "source": [
    "sns.countplot(data['sex'])"
   ]
  },
  {
   "cell_type": "markdown",
   "id": "ddc71bb9",
   "metadata": {},
   "source": [
    "### cp"
   ]
  },
  {
   "cell_type": "code",
   "execution_count": 604,
   "id": "2f982ab3",
   "metadata": {},
   "outputs": [
    {
     "data": {
      "text/plain": [
       " typical angina      143\n",
       " non-anginal pain     87\n",
       "atypical angina       50\n",
       "asymptomatic          23\n",
       "Name: cp, dtype: int64"
      ]
     },
     "execution_count": 604,
     "metadata": {},
     "output_type": "execute_result"
    }
   ],
   "source": [
    "data['cp'].value_counts()"
   ]
  },
  {
   "cell_type": "code",
   "execution_count": 605,
   "id": "3dedb64b",
   "metadata": {},
   "outputs": [
    {
     "data": {
      "image/png": "[encoded data removed]",
      "text/plain": [
       "<Figure size 720x504 with 1 Axes>"
      ]
     },
     "metadata": {},
     "output_type": "display_data"
    }
   ],
   "source": [
    "plt.figure(figsize=(10,7))\n",
    "plt.pie(data['cp'].value_counts(),labels=['typical angina','non-anginal pain','atypical angina','asymptomatic']);"
   ]
  },
  {
   "cell_type": "markdown",
   "id": "c557ab59",
   "metadata": {},
   "source": [
    "### restecg"
   ]
  },
  {
   "cell_type": "code",
   "execution_count": 606,
   "id": "b98bb57e",
   "metadata": {},
   "outputs": [
    {
     "data": {
      "text/plain": [
       "Not_Normal    154\n",
       "Normal        147\n",
       "2               2\n",
       "Name: restecg, dtype: int64"
      ]
     },
     "execution_count": 606,
     "metadata": {},
     "output_type": "execute_result"
    }
   ],
   "source": [
    "data['restecg'].value_counts()"
   ]
  },
  {
   "cell_type": "markdown",
   "id": "34116b5a",
   "metadata": {},
   "source": [
    "### drop unnecessary entry"
   ]
  },
  {
   "cell_type": "code",
   "execution_count": 607,
   "id": "a3c0e0d4",
   "metadata": {},
   "outputs": [
    {
     "data": {
      "text/html": [
       "<div>\n",
       "<style scoped>\n",
       "    .dataframe tbody tr th:only-of-type {\n",
       "        vertical-align: middle;\n",
       "    }\n",
       "\n",
       "    .dataframe tbody tr th {\n",
       "        vertical-align: top;\n",
       "    }\n",
       "\n",
       "    .dataframe thead th {\n",
       "        text-align: right;\n",
       "    }\n",
       "</style>\n",
       "<table border=\"1\" class=\"dataframe\">\n",
       "  <thead>\n",
       "    <tr style=\"text-align: right;\">\n",
       "      <th></th>\n",
       "      <th>age</th>\n",
       "      <th>sex</th>\n",
       "      <th>cp</th>\n",
       "      <th>trestbps</th>\n",
       "      <th>chol</th>\n",
       "      <th>fbs</th>\n",
       "      <th>restecg</th>\n",
       "      <th>thalach</th>\n",
       "      <th>exang</th>\n",
       "      <th>oldpeak</th>\n",
       "      <th>slope</th>\n",
       "      <th>ca</th>\n",
       "      <th>thal</th>\n",
       "      <th>target</th>\n",
       "    </tr>\n",
       "  </thead>\n",
       "  <tbody>\n",
       "    <tr>\n",
       "      <th>289</th>\n",
       "      <td>55</td>\n",
       "      <td>Female</td>\n",
       "      <td>typical angina</td>\n",
       "      <td>128</td>\n",
       "      <td>205</td>\n",
       "      <td>False</td>\n",
       "      <td>2</td>\n",
       "      <td>130</td>\n",
       "      <td>Yes</td>\n",
       "      <td>2.0</td>\n",
       "      <td>Flat</td>\n",
       "      <td>1</td>\n",
       "      <td>3</td>\n",
       "      <td>No</td>\n",
       "    </tr>\n",
       "    <tr>\n",
       "      <th>291</th>\n",
       "      <td>58</td>\n",
       "      <td>Male</td>\n",
       "      <td>typical angina</td>\n",
       "      <td>114</td>\n",
       "      <td>318</td>\n",
       "      <td>False</td>\n",
       "      <td>2</td>\n",
       "      <td>140</td>\n",
       "      <td>No</td>\n",
       "      <td>4.4</td>\n",
       "      <td>Up_Sloping</td>\n",
       "      <td>3</td>\n",
       "      <td>1</td>\n",
       "      <td>No</td>\n",
       "    </tr>\n",
       "  </tbody>\n",
       "</table>\n",
       "</div>"
      ],
      "text/plain": [
       "     age     sex               cp  trestbps  chol    fbs restecg  thalach  \\\n",
       "289   55  Female   typical angina       128   205  False       2      130   \n",
       "291   58    Male   typical angina       114   318  False       2      140   \n",
       "\n",
       "    exang  oldpeak       slope  ca  thal target  \n",
       "289   Yes      2.0        Flat   1     3     No  \n",
       "291    No      4.4  Up_Sloping   3     1     No  "
      ]
     },
     "execution_count": 607,
     "metadata": {},
     "output_type": "execute_result"
    }
   ],
   "source": [
    "data[data['restecg'] == '2']"
   ]
  },
  {
   "cell_type": "code",
   "execution_count": 608,
   "id": "126dcfb8",
   "metadata": {},
   "outputs": [],
   "source": [
    "data.drop(data[data['restecg'] == '2'].index, inplace = True)"
   ]
  },
  {
   "cell_type": "code",
   "execution_count": 609,
   "id": "7b45cc57",
   "metadata": {},
   "outputs": [
    {
     "data": {
      "text/plain": [
       "Not_Normal    154\n",
       "Normal        147\n",
       "Name: restecg, dtype: int64"
      ]
     },
     "execution_count": 609,
     "metadata": {},
     "output_type": "execute_result"
    }
   ],
   "source": [
    "data['restecg'].value_counts()"
   ]
  },
  {
   "cell_type": "code",
   "execution_count": 610,
   "id": "9f596979",
   "metadata": {},
   "outputs": [
    {
     "data": {
      "image/png": "[encoded data removed]",
      "text/plain": [
       "<Figure size 720x504 with 1 Axes>"
      ]
     },
     "metadata": {},
     "output_type": "display_data"
    }
   ],
   "source": [
    "plt.figure(figsize=(10,7))\n",
    "plt.pie(data['restecg'].value_counts(),labels=['Not_Normal','Normal']);"
   ]
  },
  {
   "cell_type": "markdown",
   "id": "5a029f3e",
   "metadata": {},
   "source": [
    "### exang"
   ]
  },
  {
   "cell_type": "code",
   "execution_count": 611,
   "id": "1da52071",
   "metadata": {},
   "outputs": [
    {
     "data": {
      "text/plain": [
       "No     203\n",
       "Yes     98\n",
       "Name: exang, dtype: int64"
      ]
     },
     "execution_count": 611,
     "metadata": {},
     "output_type": "execute_result"
    }
   ],
   "source": [
    "data['exang'].value_counts()"
   ]
  },
  {
   "cell_type": "code",
   "execution_count": 612,
   "id": "8948423c",
   "metadata": {},
   "outputs": [
    {
     "data": {
      "text/plain": [
       "<AxesSubplot:xlabel='exang', ylabel='count'>"
      ]
     },
     "execution_count": 612,
     "metadata": {},
     "output_type": "execute_result"
    },
    {
     "data": {
      "image/png": "[encoded data removed]",
      "text/plain": [
       "<Figure size 432x288 with 1 Axes>"
      ]
     },
     "metadata": {
      "needs_background": "light"
     },
     "output_type": "display_data"
    }
   ],
   "source": [
    "sns.countplot(data['exang'])"
   ]
  },
  {
   "cell_type": "markdown",
   "id": "40035cc7",
   "metadata": {},
   "source": [
    "### slope"
   ]
  },
  {
   "cell_type": "code",
   "execution_count": 613,
   "id": "38371e82",
   "metadata": {},
   "outputs": [
    {
     "data": {
      "text/plain": [
       "Down_Sloping    142\n",
       "Flat            139\n",
       "Up_Sloping       20\n",
       "Name: slope, dtype: int64"
      ]
     },
     "execution_count": 613,
     "metadata": {},
     "output_type": "execute_result"
    }
   ],
   "source": [
    "data['slope'].value_counts()"
   ]
  },
  {
   "cell_type": "code",
   "execution_count": 614,
   "id": "d324c42e",
   "metadata": {},
   "outputs": [
    {
     "data": {
      "text/plain": [
       "<AxesSubplot:xlabel='slope', ylabel='count'>"
      ]
     },
     "execution_count": 614,
     "metadata": {},
     "output_type": "execute_result"
    },
    {
     "data": {
      "image/png": "[encoded data removed]",
      "text/plain": [
       "<Figure size 432x288 with 1 Axes>"
      ]
     },
     "metadata": {
      "needs_background": "light"
     },
     "output_type": "display_data"
    }
   ],
   "source": [
    "sns.countplot(data['slope'])"
   ]
  },
  {
   "cell_type": "markdown",
   "id": "2c6f73f9",
   "metadata": {},
   "source": [
    "### target"
   ]
  },
  {
   "cell_type": "code",
   "execution_count": 615,
   "id": "045b06ab",
   "metadata": {},
   "outputs": [
    {
     "data": {
      "text/plain": [
       "Yes    165\n",
       "No     136\n",
       "Name: target, dtype: int64"
      ]
     },
     "execution_count": 615,
     "metadata": {},
     "output_type": "execute_result"
    }
   ],
   "source": [
    "data['target'].value_counts()"
   ]
  },
  {
   "cell_type": "code",
   "execution_count": 616,
   "id": "2cdfa755",
   "metadata": {},
   "outputs": [
    {
     "data": {
      "image/png": "[encoded data removed]",
      "text/plain": [
       "<Figure size 720x504 with 1 Axes>"
      ]
     },
     "metadata": {},
     "output_type": "display_data"
    }
   ],
   "source": [
    "plt.figure(figsize=(10,7))\n",
    "plt.pie(data['target'].value_counts(),labels=['Yes','No']);"
   ]
  },
  {
   "cell_type": "markdown",
   "id": "a6717fdb",
   "metadata": {},
   "source": [
    "### `Numerical Columns`"
   ]
  },
  {
   "cell_type": "code",
   "execution_count": 617,
   "id": "9b489430",
   "metadata": {},
   "outputs": [
    {
     "data": {
      "text/plain": [
       "Index(['age', 'trestbps', 'chol', 'thalach', 'oldpeak', 'ca', 'thal'], dtype='object')"
      ]
     },
     "execution_count": 617,
     "metadata": {},
     "output_type": "execute_result"
    }
   ],
   "source": [
    "cont_columns"
   ]
  },
  {
   "cell_type": "markdown",
   "id": "b5552e8e",
   "metadata": {},
   "source": [
    "### Age"
   ]
  },
  {
   "cell_type": "code",
   "execution_count": 618,
   "id": "c2f12fd0",
   "metadata": {},
   "outputs": [
    {
     "data": {
      "text/plain": [
       "<AxesSubplot:xlabel='age', ylabel='Density'>"
      ]
     },
     "execution_count": 618,
     "metadata": {},
     "output_type": "execute_result"
    },
    {
     "data": {
      "image/png": "[encoded data removed]",
      "text/plain": [
       "<Figure size 432x288 with 1 Axes>"
      ]
     },
     "metadata": {
      "needs_background": "light"
     },
     "output_type": "display_data"
    }
   ],
   "source": [
    "sns.distplot(data['age'])"
   ]
  },
  {
   "cell_type": "markdown",
   "id": "ec8deabb",
   "metadata": {},
   "source": [
    "### trestbps"
   ]
  },
  {
   "cell_type": "code",
   "execution_count": 619,
   "id": "90a935c2",
   "metadata": {},
   "outputs": [
    {
     "data": {
      "text/plain": [
       "<AxesSubplot:xlabel='trestbps', ylabel='Density'>"
      ]
     },
     "execution_count": 619,
     "metadata": {},
     "output_type": "execute_result"
    },
    {
     "data": {
      "image/png": "[encoded data removed]",
      "text/plain": [
       "<Figure size 432x288 with 1 Axes>"
      ]
     },
     "metadata": {
      "needs_background": "light"
     },
     "output_type": "display_data"
    }
   ],
   "source": [
    "sns.distplot(data['trestbps'])"
   ]
  },
  {
   "cell_type": "code",
   "execution_count": 620,
   "id": "4b80baf7",
   "metadata": {},
   "outputs": [
    {
     "data": {
      "text/plain": [
       "<AxesSubplot:xlabel='trestbps'>"
      ]
     },
     "execution_count": 620,
     "metadata": {},
     "output_type": "execute_result"
    },
    {
     "data": {
      "image/png": "[encoded data removed]",
      "text/plain": [
       "<Figure size 432x288 with 1 Axes>"
      ]
     },
     "metadata": {
      "needs_background": "light"
     },
     "output_type": "display_data"
    }
   ],
   "source": [
    "sns.boxplot(data['trestbps'])"
   ]
  },
  {
   "cell_type": "code",
   "execution_count": 621,
   "id": "97863a8c",
   "metadata": {},
   "outputs": [],
   "source": [
    "q1=np.percentile(data['trestbps'],25)\n",
    "q3=np.percentile(data['trestbps'],75)\n",
    "IQR=q3-q1\n",
    "good_value=1.5 * IQR\n",
    "lower_bound=q1-good_value\n",
    "upper_bound=q3+good_value\n",
    "data = data[data['trestbps'] <= upper_bound]   # remove outliers"
   ]
  },
  {
   "cell_type": "code",
   "execution_count": 622,
   "id": "52f39feb",
   "metadata": {},
   "outputs": [
    {
     "data": {
      "text/plain": [
       "<AxesSubplot:xlabel='trestbps'>"
      ]
     },
     "execution_count": 622,
     "metadata": {},
     "output_type": "execute_result"
    },
    {
     "data": {
      "image/png": "[encoded data removed]",
      "text/plain": [
       "<Figure size 432x288 with 1 Axes>"
      ]
     },
     "metadata": {
      "needs_background": "light"
     },
     "output_type": "display_data"
    }
   ],
   "source": [
    "sns.boxplot(data['trestbps'])"
   ]
  },
  {
   "cell_type": "markdown",
   "id": "8ca6741f",
   "metadata": {},
   "source": [
    "### chol"
   ]
  },
  {
   "cell_type": "code",
   "execution_count": 623,
   "id": "9a3f4c40",
   "metadata": {},
   "outputs": [
    {
     "data": {
      "text/plain": [
       "<AxesSubplot:xlabel='chol', ylabel='Density'>"
      ]
     },
     "execution_count": 623,
     "metadata": {},
     "output_type": "execute_result"
    },
    {
     "data": {
      "image/png": "[encoded data removed]",
      "text/plain": [
       "<Figure size 432x288 with 1 Axes>"
      ]
     },
     "metadata": {
      "needs_background": "light"
     },
     "output_type": "display_data"
    }
   ],
   "source": [
    "sns.distplot(data['chol'])"
   ]
  },
  {
   "cell_type": "markdown",
   "id": "f15a78c3",
   "metadata": {},
   "source": [
    "### log transformation to remove skewness"
   ]
  },
  {
   "cell_type": "code",
   "execution_count": 624,
   "id": "bd826edf",
   "metadata": {},
   "outputs": [],
   "source": [
    "data['chol'] = np.log(data['chol'])"
   ]
  },
  {
   "cell_type": "code",
   "execution_count": 625,
   "id": "f8d39f5b",
   "metadata": {},
   "outputs": [
    {
     "data": {
      "text/plain": [
       "<AxesSubplot:xlabel='chol', ylabel='Density'>"
      ]
     },
     "execution_count": 625,
     "metadata": {},
     "output_type": "execute_result"
    },
    {
     "data": {
      "image/png": "[encoded data removed]",
      "text/plain": [
       "<Figure size 432x288 with 1 Axes>"
      ]
     },
     "metadata": {
      "needs_background": "light"
     },
     "output_type": "display_data"
    }
   ],
   "source": [
    "sns.distplot(data['chol'])"
   ]
  },
  {
   "cell_type": "code",
   "execution_count": 626,
   "id": "d0e5f5bd",
   "metadata": {},
   "outputs": [
    {
     "data": {
      "text/plain": [
       "<AxesSubplot:xlabel='chol'>"
      ]
     },
     "execution_count": 626,
     "metadata": {},
     "output_type": "execute_result"
    },
    {
     "data": {
      "image/png": "[encoded data removed]",
      "text/plain": [
       "<Figure size 432x288 with 1 Axes>"
      ]
     },
     "metadata": {
      "needs_background": "light"
     },
     "output_type": "display_data"
    }
   ],
   "source": [
    "sns.boxplot(data['chol'])"
   ]
  },
  {
   "cell_type": "code",
   "execution_count": 627,
   "id": "778e9d02",
   "metadata": {},
   "outputs": [],
   "source": [
    "q1=np.percentile(data['chol'],25)\n",
    "q3=np.percentile(data['chol'],75)\n",
    "IQR=q3-q1\n",
    "good_value=1.5 * IQR\n",
    "lower_bound=q1-good_value\n",
    "upper_bound=q3+good_value\n",
    "data = data[data['chol'] <= upper_bound]   # remove outliers"
   ]
  },
  {
   "cell_type": "code",
   "execution_count": 628,
   "id": "fa9e62d4",
   "metadata": {},
   "outputs": [
    {
     "data": {
      "text/plain": [
       "<AxesSubplot:xlabel='chol'>"
      ]
     },
     "execution_count": 628,
     "metadata": {},
     "output_type": "execute_result"
    },
    {
     "data": {
      "image/png": "[encoded data removed]",
      "text/plain": [
       "<Figure size 432x288 with 1 Axes>"
      ]
     },
     "metadata": {
      "needs_background": "light"
     },
     "output_type": "display_data"
    }
   ],
   "source": [
    "sns.boxplot(data['chol'])"
   ]
  },
  {
   "cell_type": "markdown",
   "id": "2266a279",
   "metadata": {},
   "source": [
    "### thalach"
   ]
  },
  {
   "cell_type": "code",
   "execution_count": 629,
   "id": "0f7d2730",
   "metadata": {},
   "outputs": [
    {
     "data": {
      "text/plain": [
       "<seaborn.axisgrid.FacetGrid at 0x151be6cf700>"
      ]
     },
     "execution_count": 629,
     "metadata": {},
     "output_type": "execute_result"
    },
    {
     "data": {
      "image/png": "[encoded data removed]",
      "text/plain": [
       "<Figure size 360x360 with 1 Axes>"
      ]
     },
     "metadata": {
      "needs_background": "light"
     },
     "output_type": "display_data"
    }
   ],
   "source": [
    "sns.displot(data['thalach'])"
   ]
  },
  {
   "cell_type": "code",
   "execution_count": 630,
   "id": "dca4fc1b",
   "metadata": {},
   "outputs": [
    {
     "data": {
      "text/plain": [
       "array([150, 187, 172, 178, 163, 148, 153, 173, 174, 160, 139, 171, 144,\n",
       "       162, 158, 114, 151, 161, 179, 137, 157, 123, 152, 168, 140, 188,\n",
       "       125, 170, 165, 142, 180, 143, 182, 156, 115, 149, 146, 175, 186,\n",
       "       185, 159, 130, 190, 132, 147, 154, 202, 166, 164, 184, 122, 169,\n",
       "       138, 111, 194, 131, 133, 155, 167, 192, 121,  96, 126, 105, 181,\n",
       "       116, 108, 129, 120, 112, 128, 109, 113,  99, 177, 141, 145, 136,\n",
       "        97, 127, 103, 124,  88, 106,  95,  71, 118, 134,  90], dtype=int64)"
      ]
     },
     "execution_count": 630,
     "metadata": {},
     "output_type": "execute_result"
    }
   ],
   "source": [
    "data['thalach'].unique()"
   ]
  },
  {
   "cell_type": "code",
   "execution_count": 631,
   "id": "3fdb0e49",
   "metadata": {},
   "outputs": [
    {
     "data": {
      "text/plain": [
       "<AxesSubplot:xlabel='thalach'>"
      ]
     },
     "execution_count": 631,
     "metadata": {},
     "output_type": "execute_result"
    },
    {
     "data": {
      "image/png": "[encoded data removed]",
      "text/plain": [
       "<Figure size 432x288 with 1 Axes>"
      ]
     },
     "metadata": {
      "needs_background": "light"
     },
     "output_type": "display_data"
    }
   ],
   "source": [
    "sns.boxplot(data['thalach'])"
   ]
  },
  {
   "cell_type": "markdown",
   "id": "0ace9e2e",
   "metadata": {},
   "source": [
    "### oldpeak"
   ]
  },
  {
   "cell_type": "code",
   "execution_count": 632,
   "id": "fe9708c7",
   "metadata": {},
   "outputs": [
    {
     "data": {
      "text/plain": [
       "<seaborn.axisgrid.FacetGrid at 0x151bef7bb50>"
      ]
     },
     "execution_count": 632,
     "metadata": {},
     "output_type": "execute_result"
    },
    {
     "data": {
      "image/png": "[encoded data removed]",
      "text/plain": [
       "<Figure size 360x360 with 1 Axes>"
      ]
     },
     "metadata": {
      "needs_background": "light"
     },
     "output_type": "display_data"
    }
   ],
   "source": [
    "sns.displot(data['oldpeak'])"
   ]
  },
  {
   "cell_type": "code",
   "execution_count": 633,
   "id": "14f19ccf",
   "metadata": {},
   "outputs": [
    {
     "data": {
      "text/plain": [
       "<AxesSubplot:xlabel='oldpeak'>"
      ]
     },
     "execution_count": 633,
     "metadata": {},
     "output_type": "execute_result"
    },
    {
     "data": {
      "image/png": "[encoded data removed]",
      "text/plain": [
       "<Figure size 432x288 with 1 Axes>"
      ]
     },
     "metadata": {
      "needs_background": "light"
     },
     "output_type": "display_data"
    }
   ],
   "source": [
    "sns.boxplot(data['oldpeak'])"
   ]
  },
  {
   "cell_type": "code",
   "execution_count": 634,
   "id": "a5b4a15c",
   "metadata": {},
   "outputs": [],
   "source": [
    "q1=np.percentile(data['oldpeak'],25)\n",
    "q3=np.percentile(data['oldpeak'],75)\n",
    "IQR=q3-q1\n",
    "good_value=1.5 * IQR\n",
    "lower_bound=q1-good_value\n",
    "upper_bound=q3+good_value\n",
    "data = data[data['oldpeak'] <= upper_bound]   # remove outliers"
   ]
  },
  {
   "cell_type": "code",
   "execution_count": 635,
   "id": "f2ad7f54",
   "metadata": {},
   "outputs": [
    {
     "data": {
      "text/plain": [
       "<AxesSubplot:xlabel='oldpeak'>"
      ]
     },
     "execution_count": 635,
     "metadata": {},
     "output_type": "execute_result"
    },
    {
     "data": {
      "image/png": "[encoded data removed]",
      "text/plain": [
       "<Figure size 432x288 with 1 Axes>"
      ]
     },
     "metadata": {
      "needs_background": "light"
     },
     "output_type": "display_data"
    }
   ],
   "source": [
    "sns.boxplot(data['oldpeak'])"
   ]
  },
  {
   "cell_type": "markdown",
   "id": "74d87b67",
   "metadata": {},
   "source": [
    "### ca"
   ]
  },
  {
   "cell_type": "code",
   "execution_count": 636,
   "id": "39e3c2b5",
   "metadata": {},
   "outputs": [
    {
     "data": {
      "text/plain": [
       "0    167\n",
       "1     62\n",
       "2     35\n",
       "3     16\n",
       "4      5\n",
       "Name: ca, dtype: int64"
      ]
     },
     "execution_count": 636,
     "metadata": {},
     "output_type": "execute_result"
    }
   ],
   "source": [
    "data['ca'].value_counts()"
   ]
  },
  {
   "cell_type": "code",
   "execution_count": 637,
   "id": "0c3a0f41",
   "metadata": {},
   "outputs": [
    {
     "data": {
      "text/plain": [
       "<AxesSubplot:xlabel='ca', ylabel='count'>"
      ]
     },
     "execution_count": 637,
     "metadata": {},
     "output_type": "execute_result"
    },
    {
     "data": {
      "image/png": "[encoded data removed]",
      "text/plain": [
       "<Figure size 432x288 with 1 Axes>"
      ]
     },
     "metadata": {
      "needs_background": "light"
     },
     "output_type": "display_data"
    }
   ],
   "source": [
    "sns.countplot(data['ca'])"
   ]
  },
  {
   "cell_type": "markdown",
   "id": "2fc9a07a",
   "metadata": {},
   "source": [
    "### thal"
   ]
  },
  {
   "cell_type": "code",
   "execution_count": 638,
   "id": "424ad3c8",
   "metadata": {},
   "outputs": [
    {
     "data": {
      "text/plain": [
       "2    162\n",
       "3    104\n",
       "1     17\n",
       "0      2\n",
       "Name: thal, dtype: int64"
      ]
     },
     "execution_count": 638,
     "metadata": {},
     "output_type": "execute_result"
    }
   ],
   "source": [
    "data['thal'].value_counts()"
   ]
  },
  {
   "cell_type": "code",
   "execution_count": 639,
   "id": "baa8ae3d",
   "metadata": {},
   "outputs": [
    {
     "data": {
      "text/plain": [
       "<AxesSubplot:xlabel='thal', ylabel='count'>"
      ]
     },
     "execution_count": 639,
     "metadata": {},
     "output_type": "execute_result"
    },
    {
     "data": {
      "image/png": "[encoded data removed]",
      "text/plain": [
       "<Figure size 432x288 with 1 Axes>"
      ]
     },
     "metadata": {
      "needs_background": "light"
     },
     "output_type": "display_data"
    }
   ],
   "source": [
    "sns.countplot(data['thal'])"
   ]
  },
  {
   "cell_type": "markdown",
   "id": "8fad79d4",
   "metadata": {},
   "source": [
    "## `Bivariate Analysis`"
   ]
  },
  {
   "cell_type": "markdown",
   "id": "88f5dd91",
   "metadata": {},
   "source": [
    "### Variables\n",
    "#### Cat\n",
    "- sex\n",
    "- cp\n",
    "- restecg      \n",
    "- exang   \n",
    "- slope   \n",
    "- target\n",
    "\n",
    "#### Num\n",
    "- age\n",
    "- trestbps      \n",
    "- thalach\n",
    "- oldpeak    \n",
    "- chol\n",
    "- ca            \n",
    "- thal"
   ]
  },
  {
   "cell_type": "markdown",
   "id": "f6c74432",
   "metadata": {},
   "source": [
    "### `chi square test ------------------------------------`"
   ]
  },
  {
   "cell_type": "code",
   "execution_count": 640,
   "id": "3fe50888",
   "metadata": {},
   "outputs": [],
   "source": [
    "from scipy.stats import chi2_contingency\n",
    "\n",
    "def chisq_test(target,independent_col,data):\n",
    "    two_way = pd.crosstab(data[target],data[independent_col])\n",
    "    chi_test_result = chi2_contingency(two_way)\n",
    "    print(f'{independent_col} vs Target => chi-square result p-values => {chi_test_result[1]}')"
   ]
  },
  {
   "cell_type": "code",
   "execution_count": 641,
   "id": "9cbae618",
   "metadata": {},
   "outputs": [
    {
     "name": "stdout",
     "output_type": "stream",
     "text": [
      "sex vs Target => chi-square result p-values => 5.881853769927381e-08\n",
      "cp vs Target => chi-square result p-values => 6.022717314943197e-16\n",
      "fbs vs Target => chi-square result p-values => 0.7424618563341592\n",
      "restecg vs Target => chi-square result p-values => 0.004235016038493326\n",
      "exang vs Target => chi-square result p-values => 1.497822505886287e-12\n",
      "slope vs Target => chi-square result p-values => 1.1418552138020461e-09\n"
     ]
    }
   ],
   "source": [
    "for col in cat_columns:\n",
    "    chisq_test(target,col,data)"
   ]
  },
  {
   "cell_type": "markdown",
   "id": "a91f6b22",
   "metadata": {},
   "source": [
    "#### `All categorical variables except fbs are related to Target`"
   ]
  },
  {
   "cell_type": "markdown",
   "id": "e7650806",
   "metadata": {},
   "source": [
    "### `T test --------------------------------------------`"
   ]
  },
  {
   "cell_type": "code",
   "execution_count": 642,
   "id": "efdaa12a",
   "metadata": {},
   "outputs": [
    {
     "name": "stdout",
     "output_type": "stream",
     "text": [
      "age vs Target => Ttest_indResult(statistic=-3.929573408022749, pvalue=0.00010702385147575101)\n",
      "trestbps vs Target => Ttest_indResult(statistic=-1.849987304875851, pvalue=0.06535771203937871)\n",
      "chol vs Target => Ttest_indResult(statistic=-1.6612259479275326, pvalue=0.09777545108028551)\n",
      "thalach vs Target => Ttest_indResult(statistic=7.9343229036908705, pvalue=4.964057904994313e-14)\n",
      "oldpeak vs Target => Ttest_indResult(statistic=-8.041071392607211, pvalue=2.4495538503010074e-14)\n",
      "ca vs Target => Ttest_indResult(statistic=-6.833042423080703, pvalue=5.0937205612925185e-11)\n",
      "thal vs Target => Ttest_indResult(statistic=-6.1848962725357906, pvalue=2.167915844059003e-09)\n"
     ]
    }
   ],
   "source": [
    "from scipy.stats import ttest_ind\n",
    "\n",
    "for i in cont_columns:\n",
    "    target_yes = data.loc[data['target']=='Yes',i]\n",
    "    target_no = data.loc[data['target']=='No',i]\n",
    "    ttest_results = ttest_ind(target_yes,target_no)\n",
    "    print(f'{i} vs Target => {ttest_results}')"
   ]
  },
  {
   "cell_type": "markdown",
   "id": "3e24a84c",
   "metadata": {},
   "source": [
    "#### `All numerical variables except chol are related to Target`"
   ]
  },
  {
   "cell_type": "markdown",
   "id": "75c6779a",
   "metadata": {},
   "source": [
    "### `Label Encoding`"
   ]
  },
  {
   "cell_type": "code",
   "execution_count": 643,
   "id": "867f4c2a",
   "metadata": {},
   "outputs": [
    {
     "data": {
      "text/html": [
       "<div>\n",
       "<style scoped>\n",
       "    .dataframe tbody tr th:only-of-type {\n",
       "        vertical-align: middle;\n",
       "    }\n",
       "\n",
       "    .dataframe tbody tr th {\n",
       "        vertical-align: top;\n",
       "    }\n",
       "\n",
       "    .dataframe thead th {\n",
       "        text-align: right;\n",
       "    }\n",
       "</style>\n",
       "<table border=\"1\" class=\"dataframe\">\n",
       "  <thead>\n",
       "    <tr style=\"text-align: right;\">\n",
       "      <th></th>\n",
       "      <th>age</th>\n",
       "      <th>sex</th>\n",
       "      <th>cp</th>\n",
       "      <th>trestbps</th>\n",
       "      <th>chol</th>\n",
       "      <th>fbs</th>\n",
       "      <th>restecg</th>\n",
       "      <th>thalach</th>\n",
       "      <th>exang</th>\n",
       "      <th>oldpeak</th>\n",
       "      <th>slope</th>\n",
       "      <th>ca</th>\n",
       "      <th>thal</th>\n",
       "      <th>target</th>\n",
       "    </tr>\n",
       "  </thead>\n",
       "  <tbody>\n",
       "    <tr>\n",
       "      <th>0</th>\n",
       "      <td>63</td>\n",
       "      <td>1</td>\n",
       "      <td>asymptomatic</td>\n",
       "      <td>145</td>\n",
       "      <td>5.451038</td>\n",
       "      <td>True</td>\n",
       "      <td>0</td>\n",
       "      <td>150</td>\n",
       "      <td>0</td>\n",
       "      <td>2.3</td>\n",
       "      <td>Up_Sloping</td>\n",
       "      <td>0</td>\n",
       "      <td>1</td>\n",
       "      <td>1</td>\n",
       "    </tr>\n",
       "    <tr>\n",
       "      <th>1</th>\n",
       "      <td>37</td>\n",
       "      <td>1</td>\n",
       "      <td>non-anginal pain</td>\n",
       "      <td>130</td>\n",
       "      <td>5.521461</td>\n",
       "      <td>False</td>\n",
       "      <td>1</td>\n",
       "      <td>187</td>\n",
       "      <td>0</td>\n",
       "      <td>3.5</td>\n",
       "      <td>Up_Sloping</td>\n",
       "      <td>0</td>\n",
       "      <td>2</td>\n",
       "      <td>1</td>\n",
       "    </tr>\n",
       "    <tr>\n",
       "      <th>2</th>\n",
       "      <td>41</td>\n",
       "      <td>0</td>\n",
       "      <td>atypical angina</td>\n",
       "      <td>130</td>\n",
       "      <td>5.318120</td>\n",
       "      <td>False</td>\n",
       "      <td>0</td>\n",
       "      <td>172</td>\n",
       "      <td>0</td>\n",
       "      <td>1.4</td>\n",
       "      <td>Down_Sloping</td>\n",
       "      <td>0</td>\n",
       "      <td>2</td>\n",
       "      <td>1</td>\n",
       "    </tr>\n",
       "    <tr>\n",
       "      <th>3</th>\n",
       "      <td>56</td>\n",
       "      <td>1</td>\n",
       "      <td>atypical angina</td>\n",
       "      <td>120</td>\n",
       "      <td>5.463832</td>\n",
       "      <td>False</td>\n",
       "      <td>1</td>\n",
       "      <td>178</td>\n",
       "      <td>0</td>\n",
       "      <td>0.8</td>\n",
       "      <td>Down_Sloping</td>\n",
       "      <td>0</td>\n",
       "      <td>2</td>\n",
       "      <td>1</td>\n",
       "    </tr>\n",
       "    <tr>\n",
       "      <th>4</th>\n",
       "      <td>57</td>\n",
       "      <td>0</td>\n",
       "      <td>typical angina</td>\n",
       "      <td>120</td>\n",
       "      <td>5.869297</td>\n",
       "      <td>False</td>\n",
       "      <td>1</td>\n",
       "      <td>163</td>\n",
       "      <td>1</td>\n",
       "      <td>0.6</td>\n",
       "      <td>Down_Sloping</td>\n",
       "      <td>0</td>\n",
       "      <td>2</td>\n",
       "      <td>1</td>\n",
       "    </tr>\n",
       "    <tr>\n",
       "      <th>...</th>\n",
       "      <td>...</td>\n",
       "      <td>...</td>\n",
       "      <td>...</td>\n",
       "      <td>...</td>\n",
       "      <td>...</td>\n",
       "      <td>...</td>\n",
       "      <td>...</td>\n",
       "      <td>...</td>\n",
       "      <td>...</td>\n",
       "      <td>...</td>\n",
       "      <td>...</td>\n",
       "      <td>...</td>\n",
       "      <td>...</td>\n",
       "      <td>...</td>\n",
       "    </tr>\n",
       "    <tr>\n",
       "      <th>298</th>\n",
       "      <td>57</td>\n",
       "      <td>0</td>\n",
       "      <td>typical angina</td>\n",
       "      <td>140</td>\n",
       "      <td>5.484797</td>\n",
       "      <td>False</td>\n",
       "      <td>1</td>\n",
       "      <td>123</td>\n",
       "      <td>1</td>\n",
       "      <td>0.2</td>\n",
       "      <td>Flat</td>\n",
       "      <td>0</td>\n",
       "      <td>3</td>\n",
       "      <td>0</td>\n",
       "    </tr>\n",
       "    <tr>\n",
       "      <th>299</th>\n",
       "      <td>45</td>\n",
       "      <td>1</td>\n",
       "      <td>asymptomatic</td>\n",
       "      <td>110</td>\n",
       "      <td>5.575949</td>\n",
       "      <td>False</td>\n",
       "      <td>1</td>\n",
       "      <td>132</td>\n",
       "      <td>0</td>\n",
       "      <td>1.2</td>\n",
       "      <td>Flat</td>\n",
       "      <td>0</td>\n",
       "      <td>3</td>\n",
       "      <td>0</td>\n",
       "    </tr>\n",
       "    <tr>\n",
       "      <th>300</th>\n",
       "      <td>68</td>\n",
       "      <td>1</td>\n",
       "      <td>typical angina</td>\n",
       "      <td>144</td>\n",
       "      <td>5.262690</td>\n",
       "      <td>True</td>\n",
       "      <td>1</td>\n",
       "      <td>141</td>\n",
       "      <td>0</td>\n",
       "      <td>3.4</td>\n",
       "      <td>Flat</td>\n",
       "      <td>2</td>\n",
       "      <td>3</td>\n",
       "      <td>0</td>\n",
       "    </tr>\n",
       "    <tr>\n",
       "      <th>301</th>\n",
       "      <td>57</td>\n",
       "      <td>1</td>\n",
       "      <td>typical angina</td>\n",
       "      <td>130</td>\n",
       "      <td>4.875197</td>\n",
       "      <td>False</td>\n",
       "      <td>1</td>\n",
       "      <td>115</td>\n",
       "      <td>1</td>\n",
       "      <td>1.2</td>\n",
       "      <td>Flat</td>\n",
       "      <td>1</td>\n",
       "      <td>3</td>\n",
       "      <td>0</td>\n",
       "    </tr>\n",
       "    <tr>\n",
       "      <th>302</th>\n",
       "      <td>57</td>\n",
       "      <td>0</td>\n",
       "      <td>atypical angina</td>\n",
       "      <td>130</td>\n",
       "      <td>5.463832</td>\n",
       "      <td>False</td>\n",
       "      <td>0</td>\n",
       "      <td>174</td>\n",
       "      <td>0</td>\n",
       "      <td>0.0</td>\n",
       "      <td>Flat</td>\n",
       "      <td>1</td>\n",
       "      <td>2</td>\n",
       "      <td>0</td>\n",
       "    </tr>\n",
       "  </tbody>\n",
       "</table>\n",
       "<p>285 rows × 14 columns</p>\n",
       "</div>"
      ],
      "text/plain": [
       "     age  sex                 cp  trestbps      chol    fbs  restecg  thalach  \\\n",
       "0     63    1       asymptomatic       145  5.451038   True        0      150   \n",
       "1     37    1   non-anginal pain       130  5.521461  False        1      187   \n",
       "2     41    0    atypical angina       130  5.318120  False        0      172   \n",
       "3     56    1    atypical angina       120  5.463832  False        1      178   \n",
       "4     57    0     typical angina       120  5.869297  False        1      163   \n",
       "..   ...  ...                ...       ...       ...    ...      ...      ...   \n",
       "298   57    0     typical angina       140  5.484797  False        1      123   \n",
       "299   45    1       asymptomatic       110  5.575949  False        1      132   \n",
       "300   68    1     typical angina       144  5.262690   True        1      141   \n",
       "301   57    1     typical angina       130  4.875197  False        1      115   \n",
       "302   57    0    atypical angina       130  5.463832  False        0      174   \n",
       "\n",
       "     exang  oldpeak         slope  ca  thal  target  \n",
       "0        0      2.3    Up_Sloping   0     1       1  \n",
       "1        0      3.5    Up_Sloping   0     2       1  \n",
       "2        0      1.4  Down_Sloping   0     2       1  \n",
       "3        0      0.8  Down_Sloping   0     2       1  \n",
       "4        1      0.6  Down_Sloping   0     2       1  \n",
       "..     ...      ...           ...  ..   ...     ...  \n",
       "298      1      0.2          Flat   0     3       0  \n",
       "299      0      1.2          Flat   0     3       0  \n",
       "300      0      3.4          Flat   2     3       0  \n",
       "301      1      1.2          Flat   1     3       0  \n",
       "302      0      0.0          Flat   1     2       0  \n",
       "\n",
       "[285 rows x 14 columns]"
      ]
     },
     "execution_count": 643,
     "metadata": {},
     "output_type": "execute_result"
    }
   ],
   "source": [
    "from sklearn.preprocessing import LabelEncoder\n",
    "\n",
    "binary = ['sex','restecg','exang','target']\n",
    "le = LabelEncoder()\n",
    "for i in binary:\n",
    "    data[i] = le.fit_transform(data[i])\n",
    "data"
   ]
  },
  {
   "cell_type": "markdown",
   "id": "10424cbe",
   "metadata": {},
   "source": [
    "### `One hot encoding`"
   ]
  },
  {
   "cell_type": "code",
   "execution_count": 644,
   "id": "f065d1db",
   "metadata": {},
   "outputs": [
    {
     "data": {
      "text/html": [
       "<div>\n",
       "<style scoped>\n",
       "    .dataframe tbody tr th:only-of-type {\n",
       "        vertical-align: middle;\n",
       "    }\n",
       "\n",
       "    .dataframe tbody tr th {\n",
       "        vertical-align: top;\n",
       "    }\n",
       "\n",
       "    .dataframe thead th {\n",
       "        text-align: right;\n",
       "    }\n",
       "</style>\n",
       "<table border=\"1\" class=\"dataframe\">\n",
       "  <thead>\n",
       "    <tr style=\"text-align: right;\">\n",
       "      <th></th>\n",
       "      <th>age</th>\n",
       "      <th>sex</th>\n",
       "      <th>trestbps</th>\n",
       "      <th>chol</th>\n",
       "      <th>fbs</th>\n",
       "      <th>restecg</th>\n",
       "      <th>thalach</th>\n",
       "      <th>exang</th>\n",
       "      <th>oldpeak</th>\n",
       "      <th>ca</th>\n",
       "      <th>thal</th>\n",
       "      <th>target</th>\n",
       "      <th>cp_ non-anginal pain</th>\n",
       "      <th>cp_ typical angina</th>\n",
       "      <th>cp_asymptomatic</th>\n",
       "      <th>cp_atypical angina</th>\n",
       "      <th>slope_Down_Sloping</th>\n",
       "      <th>slope_Flat</th>\n",
       "      <th>slope_Up_Sloping</th>\n",
       "    </tr>\n",
       "  </thead>\n",
       "  <tbody>\n",
       "    <tr>\n",
       "      <th>0</th>\n",
       "      <td>63</td>\n",
       "      <td>1</td>\n",
       "      <td>145</td>\n",
       "      <td>5.451038</td>\n",
       "      <td>True</td>\n",
       "      <td>0</td>\n",
       "      <td>150</td>\n",
       "      <td>0</td>\n",
       "      <td>2.3</td>\n",
       "      <td>0</td>\n",
       "      <td>1</td>\n",
       "      <td>1</td>\n",
       "      <td>0</td>\n",
       "      <td>0</td>\n",
       "      <td>1</td>\n",
       "      <td>0</td>\n",
       "      <td>0</td>\n",
       "      <td>0</td>\n",
       "      <td>1</td>\n",
       "    </tr>\n",
       "    <tr>\n",
       "      <th>1</th>\n",
       "      <td>37</td>\n",
       "      <td>1</td>\n",
       "      <td>130</td>\n",
       "      <td>5.521461</td>\n",
       "      <td>False</td>\n",
       "      <td>1</td>\n",
       "      <td>187</td>\n",
       "      <td>0</td>\n",
       "      <td>3.5</td>\n",
       "      <td>0</td>\n",
       "      <td>2</td>\n",
       "      <td>1</td>\n",
       "      <td>1</td>\n",
       "      <td>0</td>\n",
       "      <td>0</td>\n",
       "      <td>0</td>\n",
       "      <td>0</td>\n",
       "      <td>0</td>\n",
       "      <td>1</td>\n",
       "    </tr>\n",
       "    <tr>\n",
       "      <th>2</th>\n",
       "      <td>41</td>\n",
       "      <td>0</td>\n",
       "      <td>130</td>\n",
       "      <td>5.318120</td>\n",
       "      <td>False</td>\n",
       "      <td>0</td>\n",
       "      <td>172</td>\n",
       "      <td>0</td>\n",
       "      <td>1.4</td>\n",
       "      <td>0</td>\n",
       "      <td>2</td>\n",
       "      <td>1</td>\n",
       "      <td>0</td>\n",
       "      <td>0</td>\n",
       "      <td>0</td>\n",
       "      <td>1</td>\n",
       "      <td>1</td>\n",
       "      <td>0</td>\n",
       "      <td>0</td>\n",
       "    </tr>\n",
       "    <tr>\n",
       "      <th>3</th>\n",
       "      <td>56</td>\n",
       "      <td>1</td>\n",
       "      <td>120</td>\n",
       "      <td>5.463832</td>\n",
       "      <td>False</td>\n",
       "      <td>1</td>\n",
       "      <td>178</td>\n",
       "      <td>0</td>\n",
       "      <td>0.8</td>\n",
       "      <td>0</td>\n",
       "      <td>2</td>\n",
       "      <td>1</td>\n",
       "      <td>0</td>\n",
       "      <td>0</td>\n",
       "      <td>0</td>\n",
       "      <td>1</td>\n",
       "      <td>1</td>\n",
       "      <td>0</td>\n",
       "      <td>0</td>\n",
       "    </tr>\n",
       "    <tr>\n",
       "      <th>4</th>\n",
       "      <td>57</td>\n",
       "      <td>0</td>\n",
       "      <td>120</td>\n",
       "      <td>5.869297</td>\n",
       "      <td>False</td>\n",
       "      <td>1</td>\n",
       "      <td>163</td>\n",
       "      <td>1</td>\n",
       "      <td>0.6</td>\n",
       "      <td>0</td>\n",
       "      <td>2</td>\n",
       "      <td>1</td>\n",
       "      <td>0</td>\n",
       "      <td>1</td>\n",
       "      <td>0</td>\n",
       "      <td>0</td>\n",
       "      <td>1</td>\n",
       "      <td>0</td>\n",
       "      <td>0</td>\n",
       "    </tr>\n",
       "    <tr>\n",
       "      <th>...</th>\n",
       "      <td>...</td>\n",
       "      <td>...</td>\n",
       "      <td>...</td>\n",
       "      <td>...</td>\n",
       "      <td>...</td>\n",
       "      <td>...</td>\n",
       "      <td>...</td>\n",
       "      <td>...</td>\n",
       "      <td>...</td>\n",
       "      <td>...</td>\n",
       "      <td>...</td>\n",
       "      <td>...</td>\n",
       "      <td>...</td>\n",
       "      <td>...</td>\n",
       "      <td>...</td>\n",
       "      <td>...</td>\n",
       "      <td>...</td>\n",
       "      <td>...</td>\n",
       "      <td>...</td>\n",
       "    </tr>\n",
       "    <tr>\n",
       "      <th>298</th>\n",
       "      <td>57</td>\n",
       "      <td>0</td>\n",
       "      <td>140</td>\n",
       "      <td>5.484797</td>\n",
       "      <td>False</td>\n",
       "      <td>1</td>\n",
       "      <td>123</td>\n",
       "      <td>1</td>\n",
       "      <td>0.2</td>\n",
       "      <td>0</td>\n",
       "      <td>3</td>\n",
       "      <td>0</td>\n",
       "      <td>0</td>\n",
       "      <td>1</td>\n",
       "      <td>0</td>\n",
       "      <td>0</td>\n",
       "      <td>0</td>\n",
       "      <td>1</td>\n",
       "      <td>0</td>\n",
       "    </tr>\n",
       "    <tr>\n",
       "      <th>299</th>\n",
       "      <td>45</td>\n",
       "      <td>1</td>\n",
       "      <td>110</td>\n",
       "      <td>5.575949</td>\n",
       "      <td>False</td>\n",
       "      <td>1</td>\n",
       "      <td>132</td>\n",
       "      <td>0</td>\n",
       "      <td>1.2</td>\n",
       "      <td>0</td>\n",
       "      <td>3</td>\n",
       "      <td>0</td>\n",
       "      <td>0</td>\n",
       "      <td>0</td>\n",
       "      <td>1</td>\n",
       "      <td>0</td>\n",
       "      <td>0</td>\n",
       "      <td>1</td>\n",
       "      <td>0</td>\n",
       "    </tr>\n",
       "    <tr>\n",
       "      <th>300</th>\n",
       "      <td>68</td>\n",
       "      <td>1</td>\n",
       "      <td>144</td>\n",
       "      <td>5.262690</td>\n",
       "      <td>True</td>\n",
       "      <td>1</td>\n",
       "      <td>141</td>\n",
       "      <td>0</td>\n",
       "      <td>3.4</td>\n",
       "      <td>2</td>\n",
       "      <td>3</td>\n",
       "      <td>0</td>\n",
       "      <td>0</td>\n",
       "      <td>1</td>\n",
       "      <td>0</td>\n",
       "      <td>0</td>\n",
       "      <td>0</td>\n",
       "      <td>1</td>\n",
       "      <td>0</td>\n",
       "    </tr>\n",
       "    <tr>\n",
       "      <th>301</th>\n",
       "      <td>57</td>\n",
       "      <td>1</td>\n",
       "      <td>130</td>\n",
       "      <td>4.875197</td>\n",
       "      <td>False</td>\n",
       "      <td>1</td>\n",
       "      <td>115</td>\n",
       "      <td>1</td>\n",
       "      <td>1.2</td>\n",
       "      <td>1</td>\n",
       "      <td>3</td>\n",
       "      <td>0</td>\n",
       "      <td>0</td>\n",
       "      <td>1</td>\n",
       "      <td>0</td>\n",
       "      <td>0</td>\n",
       "      <td>0</td>\n",
       "      <td>1</td>\n",
       "      <td>0</td>\n",
       "    </tr>\n",
       "    <tr>\n",
       "      <th>302</th>\n",
       "      <td>57</td>\n",
       "      <td>0</td>\n",
       "      <td>130</td>\n",
       "      <td>5.463832</td>\n",
       "      <td>False</td>\n",
       "      <td>0</td>\n",
       "      <td>174</td>\n",
       "      <td>0</td>\n",
       "      <td>0.0</td>\n",
       "      <td>1</td>\n",
       "      <td>2</td>\n",
       "      <td>0</td>\n",
       "      <td>0</td>\n",
       "      <td>0</td>\n",
       "      <td>0</td>\n",
       "      <td>1</td>\n",
       "      <td>0</td>\n",
       "      <td>1</td>\n",
       "      <td>0</td>\n",
       "    </tr>\n",
       "  </tbody>\n",
       "</table>\n",
       "<p>285 rows × 19 columns</p>\n",
       "</div>"
      ],
      "text/plain": [
       "     age  sex  trestbps      chol    fbs  restecg  thalach  exang  oldpeak  \\\n",
       "0     63    1       145  5.451038   True        0      150      0      2.3   \n",
       "1     37    1       130  5.521461  False        1      187      0      3.5   \n",
       "2     41    0       130  5.318120  False        0      172      0      1.4   \n",
       "3     56    1       120  5.463832  False        1      178      0      0.8   \n",
       "4     57    0       120  5.869297  False        1      163      1      0.6   \n",
       "..   ...  ...       ...       ...    ...      ...      ...    ...      ...   \n",
       "298   57    0       140  5.484797  False        1      123      1      0.2   \n",
       "299   45    1       110  5.575949  False        1      132      0      1.2   \n",
       "300   68    1       144  5.262690   True        1      141      0      3.4   \n",
       "301   57    1       130  4.875197  False        1      115      1      1.2   \n",
       "302   57    0       130  5.463832  False        0      174      0      0.0   \n",
       "\n",
       "     ca  thal  target  cp_ non-anginal pain  cp_ typical angina  \\\n",
       "0     0     1       1                     0                   0   \n",
       "1     0     2       1                     1                   0   \n",
       "2     0     2       1                     0                   0   \n",
       "3     0     2       1                     0                   0   \n",
       "4     0     2       1                     0                   1   \n",
       "..   ..   ...     ...                   ...                 ...   \n",
       "298   0     3       0                     0                   1   \n",
       "299   0     3       0                     0                   0   \n",
       "300   2     3       0                     0                   1   \n",
       "301   1     3       0                     0                   1   \n",
       "302   1     2       0                     0                   0   \n",
       "\n",
       "     cp_asymptomatic  cp_atypical angina  slope_Down_Sloping  slope_Flat  \\\n",
       "0                  1                   0                   0           0   \n",
       "1                  0                   0                   0           0   \n",
       "2                  0                   1                   1           0   \n",
       "3                  0                   1                   1           0   \n",
       "4                  0                   0                   1           0   \n",
       "..               ...                 ...                 ...         ...   \n",
       "298                0                   0                   0           1   \n",
       "299                1                   0                   0           1   \n",
       "300                0                   0                   0           1   \n",
       "301                0                   0                   0           1   \n",
       "302                0                   1                   0           1   \n",
       "\n",
       "     slope_Up_Sloping  \n",
       "0                   1  \n",
       "1                   1  \n",
       "2                   0  \n",
       "3                   0  \n",
       "4                   0  \n",
       "..                ...  \n",
       "298                 0  \n",
       "299                 0  \n",
       "300                 0  \n",
       "301                 0  \n",
       "302                 0  \n",
       "\n",
       "[285 rows x 19 columns]"
      ]
     },
     "execution_count": 644,
     "metadata": {},
     "output_type": "execute_result"
    }
   ],
   "source": [
    "data = pd.get_dummies(data, columns = ['cp', 'slope'])\n",
    "data"
   ]
  },
  {
   "cell_type": "code",
   "execution_count": 645,
   "id": "63892ea4",
   "metadata": {},
   "outputs": [
    {
     "data": {
      "text/plain": [
       "Index(['age', 'sex', 'trestbps', 'chol', 'fbs', 'restecg', 'thalach', 'exang',\n",
       "       'oldpeak', 'ca', 'thal', 'target', 'cp_ non-anginal pain',\n",
       "       'cp_ typical angina', 'cp_asymptomatic', 'cp_atypical angina',\n",
       "       'slope_Down_Sloping', 'slope_Flat', 'slope_Up_Sloping'],\n",
       "      dtype='object')"
      ]
     },
     "execution_count": 645,
     "metadata": {},
     "output_type": "execute_result"
    }
   ],
   "source": [
    "data.columns"
   ]
  },
  {
   "cell_type": "markdown",
   "id": "a90f4537",
   "metadata": {},
   "source": [
    "### Split the data into X and y"
   ]
  },
  {
   "cell_type": "code",
   "execution_count": 646,
   "id": "31e2fd9d",
   "metadata": {},
   "outputs": [],
   "source": [
    "X = data.drop(['target','fbs','chol'],axis=1)   # drop fbs and chol las they are not related to target variable\n",
    "y = data['target']"
   ]
  },
  {
   "cell_type": "markdown",
   "id": "4a1fcac0",
   "metadata": {},
   "source": [
    "## `Multicollinearity ---------------------------------------`"
   ]
  },
  {
   "cell_type": "code",
   "execution_count": 647,
   "id": "dc90d440",
   "metadata": {},
   "outputs": [],
   "source": [
    "from statsmodels.stats.outliers_influence import variance_inflation_factor # to check multicollinearity\n",
    "\n",
    "\n",
    "### function of vif\n",
    "def cal_vif(X):\n",
    "    vif=pd.DataFrame()\n",
    "    vif['var']=X.columns\n",
    "    vif['VIF']=[variance_inflation_factor(X.values,i) for i in range(X.shape[1])]\n",
    "    vif['VIF'] = round(vif['VIF'], 2)\n",
    "    vif = vif.sort_values(by = \"VIF\", ascending = False)\n",
    "    return(vif)"
   ]
  },
  {
   "cell_type": "markdown",
   "id": "ae1c4d4e",
   "metadata": {},
   "source": [
    "### Categorical columns"
   ]
  },
  {
   "cell_type": "code",
   "execution_count": 648,
   "id": "f1bc8bc1",
   "metadata": {},
   "outputs": [],
   "source": [
    "cat = X[['cp_ non-anginal pain',\n",
    "       'cp_ typical angina', 'cp_asymptomatic', 'cp_atypical angina',\n",
    "       'slope_Down_Sloping', 'slope_Flat', 'slope_Up_Sloping','sex','exang','restecg']]"
   ]
  },
  {
   "cell_type": "code",
   "execution_count": 649,
   "id": "dd8b42b5",
   "metadata": {},
   "outputs": [
    {
     "data": {
      "text/html": [
       "<div>\n",
       "<style scoped>\n",
       "    .dataframe tbody tr th:only-of-type {\n",
       "        vertical-align: middle;\n",
       "    }\n",
       "\n",
       "    .dataframe tbody tr th {\n",
       "        vertical-align: top;\n",
       "    }\n",
       "\n",
       "    .dataframe thead th {\n",
       "        text-align: right;\n",
       "    }\n",
       "</style>\n",
       "<table border=\"1\" class=\"dataframe\">\n",
       "  <thead>\n",
       "    <tr style=\"text-align: right;\">\n",
       "      <th></th>\n",
       "      <th>var</th>\n",
       "      <th>VIF</th>\n",
       "    </tr>\n",
       "  </thead>\n",
       "  <tbody>\n",
       "    <tr>\n",
       "      <th>0</th>\n",
       "      <td>cp_ non-anginal pain</td>\n",
       "      <td>inf</td>\n",
       "    </tr>\n",
       "    <tr>\n",
       "      <th>1</th>\n",
       "      <td>cp_ typical angina</td>\n",
       "      <td>inf</td>\n",
       "    </tr>\n",
       "    <tr>\n",
       "      <th>2</th>\n",
       "      <td>cp_asymptomatic</td>\n",
       "      <td>inf</td>\n",
       "    </tr>\n",
       "    <tr>\n",
       "      <th>3</th>\n",
       "      <td>cp_atypical angina</td>\n",
       "      <td>inf</td>\n",
       "    </tr>\n",
       "    <tr>\n",
       "      <th>4</th>\n",
       "      <td>slope_Down_Sloping</td>\n",
       "      <td>inf</td>\n",
       "    </tr>\n",
       "    <tr>\n",
       "      <th>5</th>\n",
       "      <td>slope_Flat</td>\n",
       "      <td>inf</td>\n",
       "    </tr>\n",
       "    <tr>\n",
       "      <th>6</th>\n",
       "      <td>slope_Up_Sloping</td>\n",
       "      <td>inf</td>\n",
       "    </tr>\n",
       "    <tr>\n",
       "      <th>8</th>\n",
       "      <td>exang</td>\n",
       "      <td>1.34</td>\n",
       "    </tr>\n",
       "    <tr>\n",
       "      <th>7</th>\n",
       "      <td>sex</td>\n",
       "      <td>1.06</td>\n",
       "    </tr>\n",
       "    <tr>\n",
       "      <th>9</th>\n",
       "      <td>restecg</td>\n",
       "      <td>1.05</td>\n",
       "    </tr>\n",
       "  </tbody>\n",
       "</table>\n",
       "</div>"
      ],
      "text/plain": [
       "                    var   VIF\n",
       "0  cp_ non-anginal pain   inf\n",
       "1    cp_ typical angina   inf\n",
       "2       cp_asymptomatic   inf\n",
       "3    cp_atypical angina   inf\n",
       "4    slope_Down_Sloping   inf\n",
       "5            slope_Flat   inf\n",
       "6      slope_Up_Sloping   inf\n",
       "8                 exang  1.34\n",
       "7                   sex  1.06\n",
       "9               restecg  1.05"
      ]
     },
     "execution_count": 649,
     "metadata": {},
     "output_type": "execute_result"
    }
   ],
   "source": [
    "cal_vif(cat)"
   ]
  },
  {
   "cell_type": "markdown",
   "id": "bed1f6b8",
   "metadata": {},
   "source": [
    "### drop redundant column values"
   ]
  },
  {
   "cell_type": "code",
   "execution_count": 650,
   "id": "5bbe8eb2",
   "metadata": {},
   "outputs": [],
   "source": [
    "cat = X[['cp_ non-anginal pain',\n",
    "       'cp_ typical angina', 'cp_asymptomatic',\n",
    "       'slope_Down_Sloping', 'slope_Flat', 'sex','exang','restecg']]"
   ]
  },
  {
   "cell_type": "code",
   "execution_count": 651,
   "id": "86421488",
   "metadata": {},
   "outputs": [
    {
     "data": {
      "text/html": [
       "<div>\n",
       "<style scoped>\n",
       "    .dataframe tbody tr th:only-of-type {\n",
       "        vertical-align: middle;\n",
       "    }\n",
       "\n",
       "    .dataframe tbody tr th {\n",
       "        vertical-align: top;\n",
       "    }\n",
       "\n",
       "    .dataframe thead th {\n",
       "        text-align: right;\n",
       "    }\n",
       "</style>\n",
       "<table border=\"1\" class=\"dataframe\">\n",
       "  <thead>\n",
       "    <tr style=\"text-align: right;\">\n",
       "      <th></th>\n",
       "      <th>var</th>\n",
       "      <th>VIF</th>\n",
       "    </tr>\n",
       "  </thead>\n",
       "  <tbody>\n",
       "    <tr>\n",
       "      <th>1</th>\n",
       "      <td>cp_ typical angina</td>\n",
       "      <td>3.88</td>\n",
       "    </tr>\n",
       "    <tr>\n",
       "      <th>4</th>\n",
       "      <td>slope_Flat</td>\n",
       "      <td>3.86</td>\n",
       "    </tr>\n",
       "    <tr>\n",
       "      <th>3</th>\n",
       "      <td>slope_Down_Sloping</td>\n",
       "      <td>3.56</td>\n",
       "    </tr>\n",
       "    <tr>\n",
       "      <th>5</th>\n",
       "      <td>sex</td>\n",
       "      <td>3.23</td>\n",
       "    </tr>\n",
       "    <tr>\n",
       "      <th>0</th>\n",
       "      <td>cp_ non-anginal pain</td>\n",
       "      <td>2.29</td>\n",
       "    </tr>\n",
       "    <tr>\n",
       "      <th>7</th>\n",
       "      <td>restecg</td>\n",
       "      <td>2.06</td>\n",
       "    </tr>\n",
       "    <tr>\n",
       "      <th>6</th>\n",
       "      <td>exang</td>\n",
       "      <td>1.94</td>\n",
       "    </tr>\n",
       "    <tr>\n",
       "      <th>2</th>\n",
       "      <td>cp_asymptomatic</td>\n",
       "      <td>1.38</td>\n",
       "    </tr>\n",
       "  </tbody>\n",
       "</table>\n",
       "</div>"
      ],
      "text/plain": [
       "                    var   VIF\n",
       "1    cp_ typical angina  3.88\n",
       "4            slope_Flat  3.86\n",
       "3    slope_Down_Sloping  3.56\n",
       "5                   sex  3.23\n",
       "0  cp_ non-anginal pain  2.29\n",
       "7               restecg  2.06\n",
       "6                 exang  1.94\n",
       "2       cp_asymptomatic  1.38"
      ]
     },
     "execution_count": 651,
     "metadata": {},
     "output_type": "execute_result"
    }
   ],
   "source": [
    "cal_vif(cat)"
   ]
  },
  {
   "cell_type": "markdown",
   "id": "80064bb2",
   "metadata": {},
   "source": [
    "### These categorical columns are perfect, without multicollinearity"
   ]
  },
  {
   "cell_type": "markdown",
   "id": "93500bad",
   "metadata": {},
   "source": [
    "### Numerical Columns"
   ]
  },
  {
   "cell_type": "code",
   "execution_count": 652,
   "id": "5c7daadc",
   "metadata": {},
   "outputs": [],
   "source": [
    "cont_columns = cont_columns.delete(2) # delete chol"
   ]
  },
  {
   "cell_type": "code",
   "execution_count": 653,
   "id": "5846265a",
   "metadata": {},
   "outputs": [],
   "source": [
    "num = X[cont_columns]"
   ]
  },
  {
   "cell_type": "code",
   "execution_count": 654,
   "id": "8a0f1643",
   "metadata": {},
   "outputs": [
    {
     "data": {
      "text/html": [
       "<div>\n",
       "<style scoped>\n",
       "    .dataframe tbody tr th:only-of-type {\n",
       "        vertical-align: middle;\n",
       "    }\n",
       "\n",
       "    .dataframe tbody tr th {\n",
       "        vertical-align: top;\n",
       "    }\n",
       "\n",
       "    .dataframe thead th {\n",
       "        text-align: right;\n",
       "    }\n",
       "</style>\n",
       "<table border=\"1\" class=\"dataframe\">\n",
       "  <thead>\n",
       "    <tr style=\"text-align: right;\">\n",
       "      <th></th>\n",
       "      <th>var</th>\n",
       "      <th>VIF</th>\n",
       "    </tr>\n",
       "  </thead>\n",
       "  <tbody>\n",
       "    <tr>\n",
       "      <th>1</th>\n",
       "      <td>trestbps</td>\n",
       "      <td>63.32</td>\n",
       "    </tr>\n",
       "    <tr>\n",
       "      <th>0</th>\n",
       "      <td>age</td>\n",
       "      <td>36.07</td>\n",
       "    </tr>\n",
       "    <tr>\n",
       "      <th>2</th>\n",
       "      <td>thalach</td>\n",
       "      <td>30.86</td>\n",
       "    </tr>\n",
       "    <tr>\n",
       "      <th>5</th>\n",
       "      <td>thal</td>\n",
       "      <td>14.59</td>\n",
       "    </tr>\n",
       "    <tr>\n",
       "      <th>3</th>\n",
       "      <td>oldpeak</td>\n",
       "      <td>2.19</td>\n",
       "    </tr>\n",
       "    <tr>\n",
       "      <th>4</th>\n",
       "      <td>ca</td>\n",
       "      <td>1.68</td>\n",
       "    </tr>\n",
       "  </tbody>\n",
       "</table>\n",
       "</div>"
      ],
      "text/plain": [
       "        var    VIF\n",
       "1  trestbps  63.32\n",
       "0       age  36.07\n",
       "2   thalach  30.86\n",
       "5      thal  14.59\n",
       "3   oldpeak   2.19\n",
       "4        ca   1.68"
      ]
     },
     "execution_count": 654,
     "metadata": {},
     "output_type": "execute_result"
    }
   ],
   "source": [
    "cal_vif(num)"
   ]
  },
  {
   "cell_type": "code",
   "execution_count": 655,
   "id": "0578820f",
   "metadata": {},
   "outputs": [
    {
     "data": {
      "text/plain": [
       "const       2.321952e-01\n",
       "age         5.027486e-01\n",
       "trestbps    3.915486e-01\n",
       "thalach     6.447894e-07\n",
       "oldpeak     6.808026e-07\n",
       "ca          1.396386e-06\n",
       "thal        1.588653e-06\n",
       "dtype: float64"
      ]
     },
     "execution_count": 655,
     "metadata": {},
     "output_type": "execute_result"
    }
   ],
   "source": [
    "import statsmodels.api as sm\n",
    "X_num  = sm.add_constant(num)\n",
    "ols_model = sm.OLS(y,X_num)\n",
    "ols_model = ols_model.fit()\n",
    "ols_model.pvalues"
   ]
  },
  {
   "cell_type": "markdown",
   "id": "ae51027a",
   "metadata": {},
   "source": [
    "### I will not drop any numerical column, because p-value is too low "
   ]
  },
  {
   "cell_type": "markdown",
   "id": "d5061a9f",
   "metadata": {},
   "source": [
    "### Split the data into X and y"
   ]
  },
  {
   "cell_type": "code",
   "execution_count": 656,
   "id": "787cb085",
   "metadata": {},
   "outputs": [],
   "source": [
    "X = data[['age', 'trestbps', 'chol', 'thalach', 'oldpeak', 'ca', 'thal','cp_ non-anginal pain',\n",
    "       'cp_ typical angina', 'cp_asymptomatic',\n",
    "       'slope_Down_Sloping', 'slope_Flat', 'sex','fbs','exang','restecg']]\n",
    "y = data['target']"
   ]
  },
  {
   "cell_type": "markdown",
   "id": "d4a1b514",
   "metadata": {},
   "source": [
    "### Split the data into train and test"
   ]
  },
  {
   "cell_type": "code",
   "execution_count": 657,
   "id": "b45c9ba1",
   "metadata": {},
   "outputs": [],
   "source": [
    "from sklearn.model_selection import train_test_split\n",
    "X_train,X_test, y_train, y_test = train_test_split(X,y,test_size=0.20,random_state=42)"
   ]
  },
  {
   "cell_type": "markdown",
   "id": "aea75e01",
   "metadata": {},
   "source": [
    "### Scaling the data"
   ]
  },
  {
   "cell_type": "code",
   "execution_count": 658,
   "id": "0f3c822b",
   "metadata": {},
   "outputs": [
    {
     "data": {
      "text/plain": [
       "StandardScaler()"
      ]
     },
     "execution_count": 658,
     "metadata": {},
     "output_type": "execute_result"
    }
   ],
   "source": [
    "from sklearn.preprocessing import StandardScaler\n",
    "sc = StandardScaler()\n",
    "sc.fit(X_train[['age', 'trestbps', 'chol', 'thalach', 'oldpeak']])"
   ]
  },
  {
   "cell_type": "code",
   "execution_count": 659,
   "id": "b71a7c62",
   "metadata": {},
   "outputs": [],
   "source": [
    "X_train[['age', 'trestbps', 'chol', 'thalach', 'oldpeak']] = sc.transform(X_train[['age', 'trestbps', 'chol', 'thalach', 'oldpeak']])\n",
    "X_test[['age', 'trestbps', 'chol', 'thalach', 'oldpeak']] = sc.transform(X_test[['age', 'trestbps', 'chol', 'thalach', 'oldpeak']])"
   ]
  },
  {
   "cell_type": "markdown",
   "id": "b73ba4c8",
   "metadata": {},
   "source": [
    "###  Model fit using Logistic Regression (Sklearn)"
   ]
  },
  {
   "cell_type": "code",
   "execution_count": 660,
   "id": "5d6f48c9",
   "metadata": {},
   "outputs": [
    {
     "data": {
      "text/plain": [
       "LogisticRegression()"
      ]
     },
     "execution_count": 660,
     "metadata": {},
     "output_type": "execute_result"
    }
   ],
   "source": [
    "from sklearn.linear_model import LogisticRegression\n",
    "model = LogisticRegression()\n",
    "model.fit(X_train,y_train)"
   ]
  },
  {
   "cell_type": "code",
   "execution_count": 661,
   "id": "c52ca79a",
   "metadata": {},
   "outputs": [],
   "source": [
    "y_pred = model.predict(X_test)"
   ]
  },
  {
   "cell_type": "code",
   "execution_count": 662,
   "id": "bee55126",
   "metadata": {},
   "outputs": [
    {
     "data": {
      "text/plain": [
       "array([[0.32492721, 0.67507279],\n",
       "       [0.88861062, 0.11138938],\n",
       "       [0.02389115, 0.97610885],\n",
       "       [0.48803511, 0.51196489],\n",
       "       [0.15046526, 0.84953474],\n",
       "       [0.98264423, 0.01735577],\n",
       "       [0.81647152, 0.18352848],\n",
       "       [0.9335914 , 0.0664086 ],\n",
       "       [0.08719144, 0.91280856],\n",
       "       [0.73188631, 0.26811369],\n",
       "       [0.01340081, 0.98659919],\n",
       "       [0.24575906, 0.75424094],\n",
       "       [0.03712737, 0.96287263],\n",
       "       [0.6723494 , 0.3276506 ],\n",
       "       [0.25424076, 0.74575924],\n",
       "       [0.86583827, 0.13416173],\n",
       "       [0.95128391, 0.04871609],\n",
       "       [0.23289487, 0.76710513],\n",
       "       [0.20240558, 0.79759442],\n",
       "       [0.09851259, 0.90148741],\n",
       "       [0.0987778 , 0.9012222 ],\n",
       "       [0.02954894, 0.97045106],\n",
       "       [0.42496712, 0.57503288],\n",
       "       [0.45598917, 0.54401083],\n",
       "       [0.03408789, 0.96591211],\n",
       "       [0.50616034, 0.49383966],\n",
       "       [0.56038393, 0.43961607],\n",
       "       [0.53151104, 0.46848896],\n",
       "       [0.45924637, 0.54075363],\n",
       "       [0.24882116, 0.75117884],\n",
       "       [0.62905084, 0.37094916],\n",
       "       [0.20994084, 0.79005916],\n",
       "       [0.47350472, 0.52649528],\n",
       "       [0.11199203, 0.88800797],\n",
       "       [0.13723984, 0.86276016],\n",
       "       [0.92411044, 0.07588956],\n",
       "       [0.0501203 , 0.9498797 ],\n",
       "       [0.37632576, 0.62367424],\n",
       "       [0.93971577, 0.06028423],\n",
       "       [0.99096059, 0.00903941],\n",
       "       [0.06212252, 0.93787748],\n",
       "       [0.500144  , 0.499856  ],\n",
       "       [0.13153595, 0.86846405],\n",
       "       [0.16561898, 0.83438102],\n",
       "       [0.1430968 , 0.8569032 ],\n",
       "       [0.58678181, 0.41321819],\n",
       "       [0.98800173, 0.01199827],\n",
       "       [0.26236772, 0.73763228],\n",
       "       [0.16872587, 0.83127413],\n",
       "       [0.52812523, 0.47187477],\n",
       "       [0.18497647, 0.81502353],\n",
       "       [0.96287535, 0.03712465],\n",
       "       [0.85559324, 0.14440676],\n",
       "       [0.20125734, 0.79874266],\n",
       "       [0.05029293, 0.94970707],\n",
       "       [0.63156761, 0.36843239],\n",
       "       [0.22151578, 0.77848422]])"
      ]
     },
     "execution_count": 662,
     "metadata": {},
     "output_type": "execute_result"
    }
   ],
   "source": [
    "y_pred_proba = model.predict_proba(X_test)\n",
    "y_pred_proba"
   ]
  },
  {
   "cell_type": "code",
   "execution_count": 663,
   "id": "9d67fdf7",
   "metadata": {},
   "outputs": [
    {
     "name": "stdout",
     "output_type": "stream",
     "text": [
      "Confusion matrix =>\n",
      " [[18  8]\n",
      " [ 4 27]]\n",
      "Accuracy => 0.7894736842105263\n"
     ]
    }
   ],
   "source": [
    "from sklearn.metrics import accuracy_score, confusion_matrix\n",
    "print(f'Confusion matrix =>\\n {confusion_matrix(y_test,y_pred)}')\n",
    "print(f'Accuracy => {accuracy_score(y_test,y_pred)}')"
   ]
  },
  {
   "cell_type": "markdown",
   "id": "a746c911",
   "metadata": {},
   "source": [
    "### `Finding threshold probability manually, just adjust threshold by manually`"
   ]
  },
  {
   "cell_type": "code",
   "execution_count": 664,
   "id": "e8fe94f3",
   "metadata": {},
   "outputs": [
    {
     "data": {
      "text/plain": [
       "1    0.561404\n",
       "0    0.438596\n",
       "Name: target, dtype: float64"
      ]
     },
     "execution_count": 664,
     "metadata": {},
     "output_type": "execute_result"
    }
   ],
   "source": [
    "data['target'].value_counts() / data.shape[0]"
   ]
  },
  {
   "cell_type": "code",
   "execution_count": 665,
   "id": "c05ff49b",
   "metadata": {},
   "outputs": [],
   "source": [
    "import numpy as np\n",
    "y_pred = np.where(y_pred_proba[:,1]<.559859,0,1)"
   ]
  },
  {
   "cell_type": "code",
   "execution_count": 666,
   "id": "441840df",
   "metadata": {},
   "outputs": [
    {
     "name": "stdout",
     "output_type": "stream",
     "text": [
      "Confusion matrix =>\n",
      " [[22  4]\n",
      " [ 4 27]]\n",
      "Accuracy => 0.8596491228070176\n"
     ]
    }
   ],
   "source": [
    "from sklearn.metrics import accuracy_score, confusion_matrix\n",
    "print(f'Confusion matrix =>\\n {confusion_matrix(y_test.astype(int),y_pred)}')\n",
    "print(f'Accuracy => {accuracy_score(y_test.astype(int),y_pred)}')"
   ]
  },
  {
   "cell_type": "markdown",
   "id": "277ba884",
   "metadata": {},
   "source": [
    "### `Finding best threshold probability using log loss ---------------------------------`"
   ]
  },
  {
   "cell_type": "code",
   "execution_count": 667,
   "id": "37b79a81",
   "metadata": {},
   "outputs": [],
   "source": [
    "class threshold:\n",
    "    def __init__(self):\n",
    "        self.th = 0.5\n",
    "        \n",
    "    def predict_threshold(self,y):\n",
    "        if y >= self.th:\n",
    "            return 1\n",
    "        return 0"
   ]
  },
  {
   "cell_type": "code",
   "execution_count": 668,
   "id": "a730e471",
   "metadata": {},
   "outputs": [],
   "source": [
    "from sklearn.metrics import log_loss"
   ]
  },
  {
   "cell_type": "code",
   "execution_count": 669,
   "id": "ee2686e6",
   "metadata": {},
   "outputs": [
    {
     "data": {
      "text/plain": [
       "array([1, 0, 1, 0, 1, 0, 0, 0, 1, 0, 1, 1, 1, 0, 1, 0, 0, 1, 1, 1, 1, 1,\n",
       "       1, 0, 1, 0, 0, 0, 0, 1, 0, 1, 0, 1, 1, 0, 1, 1, 0, 0, 1, 0, 1, 1,\n",
       "       1, 0, 0, 1, 1, 0, 1, 0, 0, 1, 1, 0, 1])"
      ]
     },
     "execution_count": 669,
     "metadata": {},
     "output_type": "execute_result"
    }
   ],
   "source": [
    "y_pred"
   ]
  },
  {
   "cell_type": "markdown",
   "id": "f833ac1b",
   "metadata": {},
   "source": [
    "### `finding threshold through LogLoss`"
   ]
  },
  {
   "cell_type": "code",
   "execution_count": 670,
   "id": "c51efbc0",
   "metadata": {},
   "outputs": [],
   "source": [
    "lr_prob = y_pred_proba[:,1]\n",
    "different_threshold = np.linspace(0,1,num=10)\n",
    "pre = threshold()\n",
    "log_losses = []\n",
    "for t in different_threshold:\n",
    "    pre.th = t\n",
    "    yy = pd.Series(lr_prob)\n",
    "    y_pred = yy.apply(pre.predict_threshold)\n",
    "    loss = log_loss(y_test.astype(int),y_pred.astype(int))\n",
    "    log_losses.append(loss)"
   ]
  },
  {
   "cell_type": "markdown",
   "id": "36e1e09f",
   "metadata": {},
   "source": [
    "### `plotting thresholds`"
   ]
  },
  {
   "cell_type": "code",
   "execution_count": 671,
   "id": "e0915dda",
   "metadata": {},
   "outputs": [
    {
     "data": {
      "image/png": "[encoded data removed]",
      "text/plain": [
       "<Figure size 1728x576 with 1 Axes>"
      ]
     },
     "metadata": {
      "needs_background": "light"
     },
     "output_type": "display_data"
    }
   ],
   "source": [
    "plt.figure(figsize=(24,8))\n",
    "plt.plot(different_threshold,log_losses)\n",
    "\n",
    "for i,p in enumerate(different_threshold):\n",
    "    plt.text(different_threshold[i],log_losses[i],\"%0.2f\"%(p),fontsize=15)\n",
    "\n",
    "plt.xlabel(\"proba\",fontsize=20)\n",
    "plt.ylabel(\"log loss\",fontsize=20)\n",
    "plt.show()"
   ]
  },
  {
   "cell_type": "code",
   "execution_count": 672,
   "id": "1673aa7a",
   "metadata": {},
   "outputs": [
    {
     "data": {
      "text/plain": [
       "0.5555555555555556"
      ]
     },
     "execution_count": 672,
     "metadata": {},
     "output_type": "execute_result"
    }
   ],
   "source": [
    "index = np.array(log_losses).argmin()   # best threshold\n",
    "different_threshold[index]"
   ]
  },
  {
   "cell_type": "markdown",
   "id": "ebbe0334",
   "metadata": {},
   "source": [
    " ### `Best threshold probability using with log loss is 0.5555555555555556`"
   ]
  },
  {
   "cell_type": "markdown",
   "id": "fc9f4390",
   "metadata": {},
   "source": [
    "### Use the Performance Metrics and Write the Observations for every Metric\n",
    "![](https://www.kdnuggets.com/wp-content/uploads/nagesh-metrics-1.png)\n",
    " Confusion Matrix\n",
    " Precision\n",
    " Recall\n",
    " Specificity\n",
    " Sensitivity\n",
    " Accuracy\n",
    " F1-score\n",
    " True Positive Rate\n",
    " False Positive Rate\n",
    " Classification Report\n",
    " ROC_AUC Curve\n",
    " Cohen Kappa Score\n",
    "\n",
    "### `fit the model ------------------------`"
   ]
  },
  {
   "cell_type": "code",
   "execution_count": 673,
   "id": "bd30cbd9",
   "metadata": {},
   "outputs": [
    {
     "name": "stdout",
     "output_type": "stream",
     "text": [
      "Accuracy => 0.8596491228070176\n"
     ]
    }
   ],
   "source": [
    "y_pred = np.where(y_pred_proba[:,1]<0.5555555555555556,0,1)\n",
    "print(f'Accuracy => {accuracy_score(y_test.astype(int),y_pred)}')"
   ]
  },
  {
   "cell_type": "markdown",
   "id": "4f972f62",
   "metadata": {},
   "source": [
    "### `Confusion Matrix`"
   ]
  },
  {
   "cell_type": "code",
   "execution_count": 674,
   "id": "4d27afa4",
   "metadata": {},
   "outputs": [
    {
     "name": "stdout",
     "output_type": "stream",
     "text": [
      "Confusion matrix =>\n",
      " [[22  4]\n",
      " [ 4 27]]\n"
     ]
    }
   ],
   "source": [
    "print(f'Confusion matrix =>\\n {confusion_matrix(y_test.astype(int),y_pred)}')"
   ]
  },
  {
   "cell_type": "markdown",
   "id": "6bfc2333",
   "metadata": {},
   "source": [
    "### `Precision = TP / ( TP + FP ) `"
   ]
  },
  {
   "cell_type": "code",
   "execution_count": 675,
   "id": "a580f7ba",
   "metadata": {},
   "outputs": [
    {
     "name": "stdout",
     "output_type": "stream",
     "text": [
      "Precision => 0.8709677419354839\n"
     ]
    }
   ],
   "source": [
    "from sklearn.metrics import precision_score\n",
    "print(f'Precision => {precision_score(y_test.astype(int),y_pred)}')"
   ]
  },
  {
   "cell_type": "markdown",
   "id": "3733a87e",
   "metadata": {},
   "source": [
    "### `Recall / Senstivity / True Positive Rate = TP / ( TP + FN )`\n",
    "- **Effectiveness of a classifier to identify positive labels**"
   ]
  },
  {
   "cell_type": "code",
   "execution_count": 676,
   "id": "caf6081b",
   "metadata": {},
   "outputs": [
    {
     "name": "stdout",
     "output_type": "stream",
     "text": [
      "Recall => 0.8709677419354839\n"
     ]
    }
   ],
   "source": [
    "from sklearn.metrics import recall_score\n",
    "print(f'Recall => {recall_score(y_test.astype(int),y_pred)}')"
   ]
  },
  {
   "cell_type": "markdown",
   "id": "1e6215f6",
   "metadata": {},
   "source": []
  },
  {
   "cell_type": "markdown",
   "id": "441a5b34",
   "metadata": {},
   "source": [
    "### `Specicificity / True Negative Rate = TN / ( TN + FP )`\n",
    "- **Effectiveness of a classifier to identify negative labels**"
   ]
  },
  {
   "cell_type": "code",
   "execution_count": 677,
   "id": "a6f9dd6f",
   "metadata": {},
   "outputs": [
    {
     "data": {
      "text/plain": [
       "0.8846153846153846"
      ]
     },
     "execution_count": 677,
     "metadata": {},
     "output_type": "execute_result"
    }
   ],
   "source": [
    "Senstivity = 23 / (23 + 3)\n",
    "Senstivity"
   ]
  },
  {
   "cell_type": "markdown",
   "id": "7884382b",
   "metadata": {},
   "source": [
    "### `Accuracy = ( TP + TN ) / ( TN + FN + TP + FP )`"
   ]
  },
  {
   "cell_type": "code",
   "execution_count": 678,
   "id": "5021e932",
   "metadata": {},
   "outputs": [
    {
     "name": "stdout",
     "output_type": "stream",
     "text": [
      "Accuracy => 0.8596491228070176\n"
     ]
    }
   ],
   "source": [
    "from sklearn.metrics import accuracy_score\n",
    "print(f'Accuracy => {accuracy_score(y_test.astype(int),y_pred)}')"
   ]
  },
  {
   "cell_type": "markdown",
   "id": "c438a4a7",
   "metadata": {},
   "source": [
    "### `F1-score = 2 * Precision * Recall / ( Precision + Recall )`"
   ]
  },
  {
   "cell_type": "code",
   "execution_count": 679,
   "id": "ea4378cc",
   "metadata": {},
   "outputs": [
    {
     "name": "stdout",
     "output_type": "stream",
     "text": [
      "F1-score => 0.8709677419354839\n"
     ]
    }
   ],
   "source": [
    "from sklearn.metrics import f1_score\n",
    "print(f'F1-score => {f1_score(y_test.astype(int),y_pred)}')"
   ]
  },
  {
   "cell_type": "markdown",
   "id": "30182e90",
   "metadata": {},
   "source": [
    "### `False Positive Rate = FP / ( TN + FP )`"
   ]
  },
  {
   "cell_type": "code",
   "execution_count": 680,
   "id": "8018e05f",
   "metadata": {},
   "outputs": [
    {
     "data": {
      "text/plain": [
       "0.10714285714285714"
      ]
     },
     "execution_count": 680,
     "metadata": {},
     "output_type": "execute_result"
    }
   ],
   "source": [
    "false = 3 / ( 3 + 25 )\n",
    "false"
   ]
  },
  {
   "cell_type": "markdown",
   "id": "f695884a",
   "metadata": {},
   "source": [
    "### `Classification Report`"
   ]
  },
  {
   "cell_type": "code",
   "execution_count": 681,
   "id": "dbf58992",
   "metadata": {},
   "outputs": [
    {
     "name": "stdout",
     "output_type": "stream",
     "text": [
      "Classification Report: => \n",
      "              precision    recall  f1-score   support\n",
      "\n",
      "           0       0.85      0.85      0.85        26\n",
      "           1       0.87      0.87      0.87        31\n",
      "\n",
      "    accuracy                           0.86        57\n",
      "   macro avg       0.86      0.86      0.86        57\n",
      "weighted avg       0.86      0.86      0.86        57\n",
      "\n"
     ]
    }
   ],
   "source": [
    "from sklearn.metrics import classification_report\n",
    "print(f'Classification Report: => \\n{classification_report(y_test.astype(int),y_pred)}')"
   ]
  },
  {
   "cell_type": "markdown",
   "id": "832e3d90",
   "metadata": {},
   "source": [
    "### `ROC_AUC curve`"
   ]
  },
  {
   "cell_type": "code",
   "execution_count": 682,
   "id": "a9eb616d",
   "metadata": {},
   "outputs": [
    {
     "data": {
      "image/png": "[encoded data removed]",
      "text/plain": [
       "<Figure size 432x288 with 1 Axes>"
      ]
     },
     "metadata": {
      "needs_background": "light"
     },
     "output_type": "display_data"
    },
    {
     "name": "stdout",
     "output_type": "stream",
     "text": [
      "AUC is => 0.9193548387096775\n"
     ]
    }
   ],
   "source": [
    "from sklearn.metrics import roc_curve,roc_auc_score\n",
    "\n",
    "ns_prob = [0 for _ in range(len(y_test))] # bad algo where FPR and TPR are same\n",
    "ns_fpr,ns_tpr,thresholds_1 = roc_curve(y_test,ns_prob)\n",
    "\n",
    "lr_prob = y_pred_proba[:,1]   # logistic regression   \n",
    "lr_fpr,lr_tpr,thesholds_2 = roc_curve(y_test,lr_prob)\n",
    "lr_auc = roc_auc_score(y_test,lr_prob)\n",
    "\n",
    "plt.plot(lr_fpr,lr_tpr,marker='.',label='Logistic Regression')  # plotting\n",
    "plt.plot(ns_fpr,ns_tpr,marker='.',label='Bad Random Algo')\n",
    "plt.xlabel('False Positive Rate')\n",
    "plt.ylabel('True Positive Rate')\n",
    "plt.legend()\n",
    "plt.show()\n",
    "\n",
    "\n",
    "print(f'AUC is => {lr_auc}')"
   ]
  },
  {
   "cell_type": "markdown",
   "id": "42a053ba",
   "metadata": {},
   "source": [
    "### `Kohen Kappa Score`"
   ]
  },
  {
   "cell_type": "code",
   "execution_count": 683,
   "id": "318c3e53",
   "metadata": {},
   "outputs": [
    {
     "name": "stdout",
     "output_type": "stream",
     "text": [
      "cohen_kappa_score: => 0.71712158808933\n"
     ]
    }
   ],
   "source": [
    "from sklearn.metrics import cohen_kappa_score\n",
    "print(f'cohen_kappa_score: => {cohen_kappa_score(y_test.astype(int),y_pred)}')"
   ]
  },
  {
   "cell_type": "markdown",
   "id": "ee1c7434",
   "metadata": {},
   "source": [
    "## `End ---------------------------------------------------------`"
   ]
  }
 ],
 "metadata": {
  "kernelspec": {
   "display_name": "Python 3",
   "language": "python",
   "name": "python3"
  },
  "language_info": {
   "codemirror_mode": {
    "name": "ipython",
    "version": 3
   },
   "file_extension": ".py",
   "mimetype": "text/x-python",
   "name": "python",
   "nbconvert_exporter": "python",
   "pygments_lexer": "ipython3",
   "version": "3.8.8"
  }
 },
 "nbformat": 4,
 "nbformat_minor": 5
}
