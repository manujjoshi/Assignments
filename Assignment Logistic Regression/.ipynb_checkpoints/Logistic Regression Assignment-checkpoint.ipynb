{
 "cells": [
  {
   "cell_type": "markdown",
   "id": "9527549d",
   "metadata": {},
   "source": [
    "# `Logistic Regression Assignment -----------------------------------`"
   ]
  },
  {
   "cell_type": "code",
   "execution_count": 1,
   "id": "ef4cc16e",
   "metadata": {},
   "outputs": [],
   "source": [
    "import pandas as pd\n",
    "import numpy as np\n",
    "import seaborn as sns\n",
    "import matplotlib.pyplot as plt\n",
    "import warnings\n",
    "warnings.filterwarnings('ignore')"
   ]
  },
  {
   "cell_type": "code",
   "execution_count": 2,
   "id": "cfb35f8e",
   "metadata": {},
   "outputs": [
    {
     "data": {
      "text/html": [
       "<div>\n",
       "<style scoped>\n",
       "    .dataframe tbody tr th:only-of-type {\n",
       "        vertical-align: middle;\n",
       "    }\n",
       "\n",
       "    .dataframe tbody tr th {\n",
       "        vertical-align: top;\n",
       "    }\n",
       "\n",
       "    .dataframe thead th {\n",
       "        text-align: right;\n",
       "    }\n",
       "</style>\n",
       "<table border=\"1\" class=\"dataframe\">\n",
       "  <thead>\n",
       "    <tr style=\"text-align: right;\">\n",
       "      <th></th>\n",
       "      <th>age</th>\n",
       "      <th>sex</th>\n",
       "      <th>cp</th>\n",
       "      <th>trestbps</th>\n",
       "      <th>chol</th>\n",
       "      <th>fbs</th>\n",
       "      <th>restecg</th>\n",
       "      <th>thalach</th>\n",
       "      <th>exang</th>\n",
       "      <th>oldpeak</th>\n",
       "      <th>slope</th>\n",
       "      <th>ca</th>\n",
       "      <th>thal</th>\n",
       "      <th>target</th>\n",
       "    </tr>\n",
       "  </thead>\n",
       "  <tbody>\n",
       "    <tr>\n",
       "      <th>0</th>\n",
       "      <td>63</td>\n",
       "      <td>Male</td>\n",
       "      <td>asymptomatic</td>\n",
       "      <td>145</td>\n",
       "      <td>233</td>\n",
       "      <td>True</td>\n",
       "      <td>Normal</td>\n",
       "      <td>150</td>\n",
       "      <td>No</td>\n",
       "      <td>2.3</td>\n",
       "      <td>Up_Sloping</td>\n",
       "      <td>0</td>\n",
       "      <td>1</td>\n",
       "      <td>Yes</td>\n",
       "    </tr>\n",
       "    <tr>\n",
       "      <th>1</th>\n",
       "      <td>37</td>\n",
       "      <td>Male</td>\n",
       "      <td>non-anginal pain</td>\n",
       "      <td>130</td>\n",
       "      <td>250</td>\n",
       "      <td>False</td>\n",
       "      <td>Not_Normal</td>\n",
       "      <td>187</td>\n",
       "      <td>No</td>\n",
       "      <td>3.5</td>\n",
       "      <td>Up_Sloping</td>\n",
       "      <td>0</td>\n",
       "      <td>2</td>\n",
       "      <td>Yes</td>\n",
       "    </tr>\n",
       "    <tr>\n",
       "      <th>2</th>\n",
       "      <td>41</td>\n",
       "      <td>Female</td>\n",
       "      <td>atypical angina</td>\n",
       "      <td>130</td>\n",
       "      <td>204</td>\n",
       "      <td>False</td>\n",
       "      <td>Normal</td>\n",
       "      <td>172</td>\n",
       "      <td>No</td>\n",
       "      <td>1.4</td>\n",
       "      <td>Down_Sloping</td>\n",
       "      <td>0</td>\n",
       "      <td>2</td>\n",
       "      <td>Yes</td>\n",
       "    </tr>\n",
       "    <tr>\n",
       "      <th>3</th>\n",
       "      <td>56</td>\n",
       "      <td>Male</td>\n",
       "      <td>atypical angina</td>\n",
       "      <td>120</td>\n",
       "      <td>236</td>\n",
       "      <td>False</td>\n",
       "      <td>Not_Normal</td>\n",
       "      <td>178</td>\n",
       "      <td>No</td>\n",
       "      <td>0.8</td>\n",
       "      <td>Down_Sloping</td>\n",
       "      <td>0</td>\n",
       "      <td>2</td>\n",
       "      <td>Yes</td>\n",
       "    </tr>\n",
       "    <tr>\n",
       "      <th>4</th>\n",
       "      <td>57</td>\n",
       "      <td>Female</td>\n",
       "      <td>typical angina</td>\n",
       "      <td>120</td>\n",
       "      <td>354</td>\n",
       "      <td>False</td>\n",
       "      <td>Not_Normal</td>\n",
       "      <td>163</td>\n",
       "      <td>Yes</td>\n",
       "      <td>0.6</td>\n",
       "      <td>Down_Sloping</td>\n",
       "      <td>0</td>\n",
       "      <td>2</td>\n",
       "      <td>Yes</td>\n",
       "    </tr>\n",
       "  </tbody>\n",
       "</table>\n",
       "</div>"
      ],
      "text/plain": [
       "   age     sex                 cp  trestbps  chol    fbs     restecg  thalach  \\\n",
       "0   63    Male       asymptomatic       145   233   True      Normal      150   \n",
       "1   37    Male   non-anginal pain       130   250  False  Not_Normal      187   \n",
       "2   41  Female    atypical angina       130   204  False      Normal      172   \n",
       "3   56    Male    atypical angina       120   236  False  Not_Normal      178   \n",
       "4   57  Female     typical angina       120   354  False  Not_Normal      163   \n",
       "\n",
       "  exang  oldpeak         slope  ca  thal target  \n",
       "0    No      2.3    Up_Sloping   0     1    Yes  \n",
       "1    No      3.5    Up_Sloping   0     2    Yes  \n",
       "2    No      1.4  Down_Sloping   0     2    Yes  \n",
       "3    No      0.8  Down_Sloping   0     2    Yes  \n",
       "4   Yes      0.6  Down_Sloping   0     2    Yes  "
      ]
     },
     "execution_count": 2,
     "metadata": {},
     "output_type": "execute_result"
    }
   ],
   "source": [
    "data = pd.read_csv('heart.csv',sep='\\t')   # here separator is \\t\n",
    "data.head()"
   ]
  },
  {
   "cell_type": "code",
   "execution_count": 3,
   "id": "fb1d625c",
   "metadata": {},
   "outputs": [
    {
     "data": {
      "text/plain": [
       "(303, 14)"
      ]
     },
     "execution_count": 3,
     "metadata": {},
     "output_type": "execute_result"
    }
   ],
   "source": [
    "data.shape"
   ]
  },
  {
   "cell_type": "code",
   "execution_count": 4,
   "id": "d634ed26",
   "metadata": {},
   "outputs": [
    {
     "data": {
      "text/plain": [
       "Index(['age', 'sex', 'cp', 'trestbps', 'chol', 'fbs', 'restecg', 'thalach',\n",
       "       'exang', 'oldpeak', 'slope', 'ca', 'thal', 'target'],\n",
       "      dtype='object')"
      ]
     },
     "execution_count": 4,
     "metadata": {},
     "output_type": "execute_result"
    }
   ],
   "source": [
    "data.columns"
   ]
  },
  {
   "cell_type": "code",
   "execution_count": 5,
   "id": "00994ac2",
   "metadata": {
    "scrolled": true
   },
   "outputs": [
    {
     "data": {
      "text/plain": [
       "age           int64\n",
       "sex          object\n",
       "cp           object\n",
       "trestbps      int64\n",
       "chol          int64\n",
       "fbs            bool\n",
       "restecg      object\n",
       "thalach       int64\n",
       "exang        object\n",
       "oldpeak     float64\n",
       "slope        object\n",
       "ca            int64\n",
       "thal          int64\n",
       "target       object\n",
       "dtype: object"
      ]
     },
     "execution_count": 5,
     "metadata": {},
     "output_type": "execute_result"
    }
   ],
   "source": [
    "data.dtypes"
   ]
  },
  {
   "cell_type": "code",
   "execution_count": 6,
   "id": "8025625c",
   "metadata": {},
   "outputs": [],
   "source": [
    "data['fbs'] = data['fbs'].astype('object')"
   ]
  },
  {
   "cell_type": "code",
   "execution_count": 7,
   "id": "03e9b8d6",
   "metadata": {},
   "outputs": [
    {
     "data": {
      "text/plain": [
       "age         0\n",
       "sex         0\n",
       "cp          0\n",
       "trestbps    0\n",
       "chol        0\n",
       "fbs         0\n",
       "restecg     0\n",
       "thalach     0\n",
       "exang       0\n",
       "oldpeak     0\n",
       "slope       0\n",
       "ca          0\n",
       "thal        0\n",
       "target      0\n",
       "dtype: int64"
      ]
     },
     "execution_count": 7,
     "metadata": {},
     "output_type": "execute_result"
    }
   ],
   "source": [
    "data.isnull().sum()   # bam!! we are lucky"
   ]
  },
  {
   "cell_type": "code",
   "execution_count": 8,
   "id": "afb92882",
   "metadata": {},
   "outputs": [],
   "source": [
    "target = 'target'\n",
    "cont_columns = data.select_dtypes(['int64','float64']).columns\n",
    "cat_columns = list(filter(lambda x: x!='target',data.select_dtypes('object').columns))"
   ]
  },
  {
   "cell_type": "code",
   "execution_count": 9,
   "id": "285fb288",
   "metadata": {},
   "outputs": [
    {
     "data": {
      "text/plain": [
       "Index(['age', 'trestbps', 'chol', 'thalach', 'oldpeak', 'ca', 'thal'], dtype='object')"
      ]
     },
     "execution_count": 9,
     "metadata": {},
     "output_type": "execute_result"
    }
   ],
   "source": [
    "cont_columns"
   ]
  },
  {
   "cell_type": "code",
   "execution_count": 10,
   "id": "cc1958db",
   "metadata": {},
   "outputs": [
    {
     "data": {
      "text/plain": [
       "['sex', 'cp', 'fbs', 'restecg', 'exang', 'slope']"
      ]
     },
     "execution_count": 10,
     "metadata": {},
     "output_type": "execute_result"
    }
   ],
   "source": [
    "cat_columns"
   ]
  },
  {
   "cell_type": "markdown",
   "id": "de767c46",
   "metadata": {},
   "source": [
    "### Variables\n",
    "#### Cat\n",
    "- sex\n",
    "- cp\n",
    "- fbs\n",
    "- restecg      \n",
    "- exang   \n",
    "- slope   \n",
    "- target\n",
    "\n",
    "#### Num\n",
    "- age\n",
    "- trestbps  \n",
    "- chol\n",
    "- thalach\n",
    "- oldpeak     \n",
    "- ca            \n",
    "- thal"
   ]
  },
  {
   "cell_type": "markdown",
   "id": "036a9fdb",
   "metadata": {},
   "source": [
    "## `Univariate Analysis`\n",
    "### `Categorical Columns`\n",
    "### Sex"
   ]
  },
  {
   "cell_type": "code",
   "execution_count": 11,
   "id": "ae29f564",
   "metadata": {},
   "outputs": [
    {
     "data": {
      "text/plain": [
       "Male      207\n",
       "Female     96\n",
       "Name: sex, dtype: int64"
      ]
     },
     "execution_count": 11,
     "metadata": {},
     "output_type": "execute_result"
    }
   ],
   "source": [
    "data['sex'].value_counts()"
   ]
  },
  {
   "cell_type": "code",
   "execution_count": 12,
   "id": "4bfb637f",
   "metadata": {},
   "outputs": [
    {
     "data": {
      "text/plain": [
       "<AxesSubplot:xlabel='sex', ylabel='count'>"
      ]
     },
     "execution_count": 12,
     "metadata": {},
     "output_type": "execute_result"
    },
    {
     "data": {
      "image/png": "[encoded data removed]",
      "text/plain": [
       "<Figure size 432x288 with 1 Axes>"
      ]
     },
     "metadata": {
      "needs_background": "light"
     },
     "output_type": "display_data"
    }
   ],
   "source": [
    "sns.countplot(data['sex'])"
   ]
  },
  {
   "cell_type": "markdown",
   "id": "ddc71bb9",
   "metadata": {},
   "source": [
    "### cp\n",
    "- Chest Pain the types of angina that are described in the research paper. The higher the number, the lesser are the odds of heart attack. "
   ]
  },
  {
   "cell_type": "code",
   "execution_count": 13,
   "id": "2f982ab3",
   "metadata": {},
   "outputs": [
    {
     "data": {
      "text/plain": [
       " typical angina      143\n",
       " non-anginal pain     87\n",
       "atypical angina       50\n",
       "asymptomatic          23\n",
       "Name: cp, dtype: int64"
      ]
     },
     "execution_count": 13,
     "metadata": {},
     "output_type": "execute_result"
    }
   ],
   "source": [
    "data['cp'].value_counts()"
   ]
  },
  {
   "cell_type": "code",
   "execution_count": 14,
   "id": "3dedb64b",
   "metadata": {},
   "outputs": [
    {
     "data": {
      "image/png": "[encoded data removed]",
      "text/plain": [
       "<Figure size 720x504 with 1 Axes>"
      ]
     },
     "metadata": {},
     "output_type": "display_data"
    }
   ],
   "source": [
    "plt.figure(figsize=(10,7))\n",
    "plt.pie(data['cp'].value_counts(),labels=['typical angina','non-anginal pain','atypical angina','asymptomatic']);"
   ]
  },
  {
   "cell_type": "markdown",
   "id": "c557ab59",
   "metadata": {},
   "source": [
    "### restecg\n",
    "- Rest ECG results means ECG values taken while person is on rest which means no exercise and normal functioning of heart is happening"
   ]
  },
  {
   "cell_type": "code",
   "execution_count": 15,
   "id": "b98bb57e",
   "metadata": {},
   "outputs": [
    {
     "data": {
      "text/plain": [
       "Not_Normal    154\n",
       "Normal        147\n",
       "2               2\n",
       "Name: restecg, dtype: int64"
      ]
     },
     "execution_count": 15,
     "metadata": {},
     "output_type": "execute_result"
    }
   ],
   "source": [
    "data['restecg'].value_counts()"
   ]
  },
  {
   "cell_type": "markdown",
   "id": "34116b5a",
   "metadata": {},
   "source": [
    "### drop unnecessary entry"
   ]
  },
  {
   "cell_type": "code",
   "execution_count": 16,
   "id": "a3c0e0d4",
   "metadata": {},
   "outputs": [
    {
     "data": {
      "text/html": [
       "<div>\n",
       "<style scoped>\n",
       "    .dataframe tbody tr th:only-of-type {\n",
       "        vertical-align: middle;\n",
       "    }\n",
       "\n",
       "    .dataframe tbody tr th {\n",
       "        vertical-align: top;\n",
       "    }\n",
       "\n",
       "    .dataframe thead th {\n",
       "        text-align: right;\n",
       "    }\n",
       "</style>\n",
       "<table border=\"1\" class=\"dataframe\">\n",
       "  <thead>\n",
       "    <tr style=\"text-align: right;\">\n",
       "      <th></th>\n",
       "      <th>age</th>\n",
       "      <th>sex</th>\n",
       "      <th>cp</th>\n",
       "      <th>trestbps</th>\n",
       "      <th>chol</th>\n",
       "      <th>fbs</th>\n",
       "      <th>restecg</th>\n",
       "      <th>thalach</th>\n",
       "      <th>exang</th>\n",
       "      <th>oldpeak</th>\n",
       "      <th>slope</th>\n",
       "      <th>ca</th>\n",
       "      <th>thal</th>\n",
       "      <th>target</th>\n",
       "    </tr>\n",
       "  </thead>\n",
       "  <tbody>\n",
       "    <tr>\n",
       "      <th>289</th>\n",
       "      <td>55</td>\n",
       "      <td>Female</td>\n",
       "      <td>typical angina</td>\n",
       "      <td>128</td>\n",
       "      <td>205</td>\n",
       "      <td>False</td>\n",
       "      <td>2</td>\n",
       "      <td>130</td>\n",
       "      <td>Yes</td>\n",
       "      <td>2.0</td>\n",
       "      <td>Flat</td>\n",
       "      <td>1</td>\n",
       "      <td>3</td>\n",
       "      <td>No</td>\n",
       "    </tr>\n",
       "    <tr>\n",
       "      <th>291</th>\n",
       "      <td>58</td>\n",
       "      <td>Male</td>\n",
       "      <td>typical angina</td>\n",
       "      <td>114</td>\n",
       "      <td>318</td>\n",
       "      <td>False</td>\n",
       "      <td>2</td>\n",
       "      <td>140</td>\n",
       "      <td>No</td>\n",
       "      <td>4.4</td>\n",
       "      <td>Up_Sloping</td>\n",
       "      <td>3</td>\n",
       "      <td>1</td>\n",
       "      <td>No</td>\n",
       "    </tr>\n",
       "  </tbody>\n",
       "</table>\n",
       "</div>"
      ],
      "text/plain": [
       "     age     sex               cp  trestbps  chol    fbs restecg  thalach  \\\n",
       "289   55  Female   typical angina       128   205  False       2      130   \n",
       "291   58    Male   typical angina       114   318  False       2      140   \n",
       "\n",
       "    exang  oldpeak       slope  ca  thal target  \n",
       "289   Yes      2.0        Flat   1     3     No  \n",
       "291    No      4.4  Up_Sloping   3     1     No  "
      ]
     },
     "execution_count": 16,
     "metadata": {},
     "output_type": "execute_result"
    }
   ],
   "source": [
    "data[data['restecg'] == '2']"
   ]
  },
  {
   "cell_type": "code",
   "execution_count": 17,
   "id": "126dcfb8",
   "metadata": {},
   "outputs": [],
   "source": [
    "data.drop(data[data['restecg'] == '2'].index, inplace = True)"
   ]
  },
  {
   "cell_type": "code",
   "execution_count": 18,
   "id": "7b45cc57",
   "metadata": {},
   "outputs": [
    {
     "data": {
      "text/plain": [
       "Not_Normal    154\n",
       "Normal        147\n",
       "Name: restecg, dtype: int64"
      ]
     },
     "execution_count": 18,
     "metadata": {},
     "output_type": "execute_result"
    }
   ],
   "source": [
    "data['restecg'].value_counts()"
   ]
  },
  {
   "cell_type": "code",
   "execution_count": 19,
   "id": "9f596979",
   "metadata": {},
   "outputs": [
    {
     "data": {
      "image/png": "[encoded data removed]",
      "text/plain": [
       "<Figure size 720x504 with 1 Axes>"
      ]
     },
     "metadata": {},
     "output_type": "display_data"
    }
   ],
   "source": [
    "plt.figure(figsize=(10,7))\n",
    "plt.pie(data['restecg'].value_counts(),labels=['Not_Normal','Normal']);"
   ]
  },
  {
   "cell_type": "markdown",
   "id": "5a029f3e",
   "metadata": {},
   "source": [
    "### exang\n",
    "-  exercise induced angina is chest pain while exercising or doing any physical\n",
    "activity.\n"
   ]
  },
  {
   "cell_type": "code",
   "execution_count": 20,
   "id": "1da52071",
   "metadata": {},
   "outputs": [
    {
     "data": {
      "text/plain": [
       "No     203\n",
       "Yes     98\n",
       "Name: exang, dtype: int64"
      ]
     },
     "execution_count": 20,
     "metadata": {},
     "output_type": "execute_result"
    }
   ],
   "source": [
    "data['exang'].value_counts()"
   ]
  },
  {
   "cell_type": "code",
   "execution_count": 21,
   "id": "8948423c",
   "metadata": {},
   "outputs": [
    {
     "data": {
      "text/plain": [
       "<AxesSubplot:xlabel='exang', ylabel='count'>"
      ]
     },
     "execution_count": 21,
     "metadata": {},
     "output_type": "execute_result"
    },
    {
     "data": {
      "image/png": "[encoded data removed]",
      "text/plain": [
       "<Figure size 432x288 with 1 Axes>"
      ]
     },
     "metadata": {
      "needs_background": "light"
     },
     "output_type": "display_data"
    }
   ],
   "source": [
    "sns.countplot(data['exang'])"
   ]
  },
  {
   "cell_type": "markdown",
   "id": "40035cc7",
   "metadata": {},
   "source": [
    "### slope\n",
    "- The slope of the peak exercise ST segment "
   ]
  },
  {
   "cell_type": "code",
   "execution_count": 22,
   "id": "38371e82",
   "metadata": {},
   "outputs": [
    {
     "data": {
      "text/plain": [
       "Down_Sloping    142\n",
       "Flat            139\n",
       "Up_Sloping       20\n",
       "Name: slope, dtype: int64"
      ]
     },
     "execution_count": 22,
     "metadata": {},
     "output_type": "execute_result"
    }
   ],
   "source": [
    "data['slope'].value_counts()"
   ]
  },
  {
   "cell_type": "code",
   "execution_count": 23,
   "id": "d324c42e",
   "metadata": {},
   "outputs": [
    {
     "data": {
      "text/plain": [
       "<AxesSubplot:xlabel='slope', ylabel='count'>"
      ]
     },
     "execution_count": 23,
     "metadata": {},
     "output_type": "execute_result"
    },
    {
     "data": {
      "image/png": "[encoded data removed]",
      "text/plain": [
       "<Figure size 432x288 with 1 Axes>"
      ]
     },
     "metadata": {
      "needs_background": "light"
     },
     "output_type": "display_data"
    }
   ],
   "source": [
    "sns.countplot(data['slope'])"
   ]
  },
  {
   "cell_type": "markdown",
   "id": "2c6f73f9",
   "metadata": {},
   "source": [
    "### target\n",
    "- (predicted attribute): diagnosis of heart disease (angiographic disease status) — Value 0: < 50% diameter narrowing — Value 1: > 50% diameter narrowing"
   ]
  },
  {
   "cell_type": "code",
   "execution_count": 24,
   "id": "045b06ab",
   "metadata": {},
   "outputs": [
    {
     "data": {
      "text/plain": [
       "Yes    165\n",
       "No     136\n",
       "Name: target, dtype: int64"
      ]
     },
     "execution_count": 24,
     "metadata": {},
     "output_type": "execute_result"
    }
   ],
   "source": [
    "data['target'].value_counts()"
   ]
  },
  {
   "cell_type": "code",
   "execution_count": 25,
   "id": "2cdfa755",
   "metadata": {},
   "outputs": [
    {
     "data": {
      "image/png": "[encoded data removed]",
      "text/plain": [
       "<Figure size 720x504 with 1 Axes>"
      ]
     },
     "metadata": {},
     "output_type": "display_data"
    }
   ],
   "source": [
    "plt.figure(figsize=(10,7))\n",
    "plt.pie(data['target'].value_counts(),labels=['Yes','No']);"
   ]
  },
  {
   "cell_type": "markdown",
   "id": "a6717fdb",
   "metadata": {},
   "source": [
    "### `Numerical Columns`"
   ]
  },
  {
   "cell_type": "code",
   "execution_count": 26,
   "id": "9b489430",
   "metadata": {},
   "outputs": [
    {
     "data": {
      "text/plain": [
       "Index(['age', 'trestbps', 'chol', 'thalach', 'oldpeak', 'ca', 'thal'], dtype='object')"
      ]
     },
     "execution_count": 26,
     "metadata": {},
     "output_type": "execute_result"
    }
   ],
   "source": [
    "cont_columns"
   ]
  },
  {
   "cell_type": "markdown",
   "id": "8716c29c",
   "metadata": {},
   "source": [
    "### `skewness of the dataframe ------------------------`\n",
    "- If the skewness is between -0.5 and 0.5, the data are fairly symmetrical. If the skewness is between -1 and – 0.5 or between 0.5 and 1, the data are moderately skewed. If the skewness is less than -1 or greater than 1, the data are highly skewed.\n"
   ]
  },
  {
   "cell_type": "code",
   "execution_count": 30,
   "id": "1b2f26b9",
   "metadata": {},
   "outputs": [
    {
     "data": {
      "text/plain": [
       "age        -0.197481\n",
       "trestbps    0.706467\n",
       "chol        1.152931\n",
       "fbs         1.975736\n",
       "thalach    -0.548557\n",
       "oldpeak     1.276536\n",
       "ca          1.327097\n",
       "thal       -0.470724\n",
       "dtype: float64"
      ]
     },
     "execution_count": 30,
     "metadata": {},
     "output_type": "execute_result"
    }
   ],
   "source": [
    "# skewness along the index axis\n",
    "data.skew(axis = 0, skipna = True)"
   ]
  },
  {
   "cell_type": "markdown",
   "id": "535e9d2d",
   "metadata": {},
   "source": [
    "### `kurtosis of the dataframe -----------------------------`\n",
    "- Kurtosis is a measure of the “tailedness” of the probability distribution. A standard normal distribution has kurtosis of 3 and is recognized as mesokurtic. An increased kurtosis (>3) can be visualized as a thin “bell” with a high peak whereas a decreased kurtosis corresponds to a broadening of the peak and “thickening” of the tails. Kurtosis >3 is recognized as leptokurtic and <3 as platykurtic (lepto=thin; platy=broad). "
   ]
  },
  {
   "cell_type": "code",
   "execution_count": 37,
   "id": "72259634",
   "metadata": {},
   "outputs": [
    {
     "data": {
      "text/plain": [
       "age        -0.557150\n",
       "trestbps    0.915783\n",
       "chol        4.579603\n",
       "fbs         1.916221\n",
       "thalach    -0.056030\n",
       "oldpeak     1.646482\n",
       "ca          0.904865\n",
       "thal        0.335349\n",
       "dtype: float64"
      ]
     },
     "execution_count": 37,
     "metadata": {},
     "output_type": "execute_result"
    }
   ],
   "source": [
    "data.kurt()"
   ]
  },
  {
   "cell_type": "markdown",
   "id": "b5552e8e",
   "metadata": {},
   "source": [
    "### Age"
   ]
  },
  {
   "cell_type": "code",
   "execution_count": 27,
   "id": "c2f12fd0",
   "metadata": {},
   "outputs": [
    {
     "data": {
      "text/plain": [
       "<AxesSubplot:xlabel='age', ylabel='Density'>"
      ]
     },
     "execution_count": 27,
     "metadata": {},
     "output_type": "execute_result"
    },
    {
     "data": {
      "image/png": "[encoded data removed]",
      "text/plain": [
       "<Figure size 432x288 with 1 Axes>"
      ]
     },
     "metadata": {
      "needs_background": "light"
     },
     "output_type": "display_data"
    }
   ],
   "source": [
    "sns.distplot(data['age'])"
   ]
  },
  {
   "cell_type": "code",
   "execution_count": 28,
   "id": "f4ac2ca6",
   "metadata": {},
   "outputs": [
    {
     "data": {
      "text/plain": [
       "-0.19748102163499756"
      ]
     },
     "execution_count": 28,
     "metadata": {},
     "output_type": "execute_result"
    }
   ],
   "source": [
    "data['age'].skew()"
   ]
  },
  {
   "cell_type": "markdown",
   "id": "ec8deabb",
   "metadata": {},
   "source": [
    "### trestbps\n",
    "-  Resting blood pressure is normal pressure with no exercise."
   ]
  },
  {
   "cell_type": "code",
   "execution_count": 1699,
   "id": "90a935c2",
   "metadata": {},
   "outputs": [
    {
     "data": {
      "text/plain": [
       "<AxesSubplot:xlabel='trestbps', ylabel='Density'>"
      ]
     },
     "execution_count": 1699,
     "metadata": {},
     "output_type": "execute_result"
    },
    {
     "data": {
      "image/png": "[encoded data removed]",
      "text/plain": [
       "<Figure size 432x288 with 1 Axes>"
      ]
     },
     "metadata": {
      "needs_background": "light"
     },
     "output_type": "display_data"
    }
   ],
   "source": [
    "sns.distplot(data['trestbps'])"
   ]
  },
  {
   "cell_type": "code",
   "execution_count": 1700,
   "id": "f296e8cb",
   "metadata": {},
   "outputs": [
    {
     "data": {
      "text/plain": [
       "0.7064670714888134"
      ]
     },
     "execution_count": 1700,
     "metadata": {},
     "output_type": "execute_result"
    }
   ],
   "source": [
    "data['trestbps'].skew()"
   ]
  },
  {
   "cell_type": "markdown",
   "id": "41966a30",
   "metadata": {},
   "source": [
    "### log transformation to remove skewness"
   ]
  },
  {
   "cell_type": "code",
   "execution_count": 1701,
   "id": "d1f9e727",
   "metadata": {},
   "outputs": [],
   "source": [
    "data['trestbps'] = np.log(data['trestbps'])"
   ]
  },
  {
   "cell_type": "code",
   "execution_count": 1702,
   "id": "0a47f28f",
   "metadata": {},
   "outputs": [
    {
     "data": {
      "text/plain": [
       "0.2742420311663039"
      ]
     },
     "execution_count": 1702,
     "metadata": {},
     "output_type": "execute_result"
    }
   ],
   "source": [
    "data['trestbps'].skew()"
   ]
  },
  {
   "cell_type": "code",
   "execution_count": 1703,
   "id": "e198d8e5",
   "metadata": {},
   "outputs": [
    {
     "data": {
      "text/plain": [
       "<AxesSubplot:xlabel='trestbps', ylabel='Density'>"
      ]
     },
     "execution_count": 1703,
     "metadata": {},
     "output_type": "execute_result"
    },
    {
     "data": {
      "image/png": "[encoded data removed]",
      "text/plain": [
       "<Figure size 432x288 with 1 Axes>"
      ]
     },
     "metadata": {
      "needs_background": "light"
     },
     "output_type": "display_data"
    }
   ],
   "source": [
    "sns.distplot(data['trestbps'])"
   ]
  },
  {
   "cell_type": "code",
   "execution_count": 1704,
   "id": "4b80baf7",
   "metadata": {},
   "outputs": [
    {
     "data": {
      "text/plain": [
       "<AxesSubplot:xlabel='trestbps'>"
      ]
     },
     "execution_count": 1704,
     "metadata": {},
     "output_type": "execute_result"
    },
    {
     "data": {
      "image/png": "[encoded data removed]",
      "text/plain": [
       "<Figure size 432x288 with 1 Axes>"
      ]
     },
     "metadata": {
      "needs_background": "light"
     },
     "output_type": "display_data"
    }
   ],
   "source": [
    "sns.boxplot(data['trestbps'])"
   ]
  },
  {
   "cell_type": "code",
   "execution_count": 1705,
   "id": "97863a8c",
   "metadata": {},
   "outputs": [],
   "source": [
    "q1=np.percentile(data['trestbps'],25)\n",
    "q3=np.percentile(data['trestbps'],75)\n",
    "IQR=q3-q1\n",
    "good_value=1.5 * IQR\n",
    "lower_bound=q1-good_value\n",
    "upper_bound=q3+good_value\n",
    "data = data[data['trestbps'] <= upper_bound]   # remove outliers"
   ]
  },
  {
   "cell_type": "code",
   "execution_count": 1706,
   "id": "52f39feb",
   "metadata": {},
   "outputs": [
    {
     "data": {
      "text/plain": [
       "<AxesSubplot:xlabel='trestbps'>"
      ]
     },
     "execution_count": 1706,
     "metadata": {},
     "output_type": "execute_result"
    },
    {
     "data": {
      "image/png": "[encoded data removed]",
      "text/plain": [
       "<Figure size 432x288 with 1 Axes>"
      ]
     },
     "metadata": {
      "needs_background": "light"
     },
     "output_type": "display_data"
    }
   ],
   "source": [
    "sns.boxplot(data['trestbps'])"
   ]
  },
  {
   "cell_type": "markdown",
   "id": "8ca6741f",
   "metadata": {},
   "source": [
    "### chol\n",
    "- Cholesterol means the blockage for blood supply in the blood vessels.\n"
   ]
  },
  {
   "cell_type": "code",
   "execution_count": 1707,
   "id": "be1e565c",
   "metadata": {},
   "outputs": [
    {
     "data": {
      "text/plain": [
       "<AxesSubplot:xlabel='chol', ylabel='Density'>"
      ]
     },
     "execution_count": 1707,
     "metadata": {},
     "output_type": "execute_result"
    },
    {
     "data": {
      "image/png": "[encoded data removed]",
      "text/plain": [
       "<Figure size 432x288 with 1 Axes>"
      ]
     },
     "metadata": {
      "needs_background": "light"
     },
     "output_type": "display_data"
    }
   ],
   "source": [
    "sns.distplot(data['chol'])"
   ]
  },
  {
   "cell_type": "code",
   "execution_count": 1769,
   "id": "c382fd9d",
   "metadata": {},
   "outputs": [
    {
     "data": {
      "text/plain": [
       "0.20576849029909644"
      ]
     },
     "execution_count": 1769,
     "metadata": {},
     "output_type": "execute_result"
    }
   ],
   "source": [
    "data['chol'].skew()"
   ]
  },
  {
   "cell_type": "code",
   "execution_count": 1708,
   "id": "d0e5f5bd",
   "metadata": {},
   "outputs": [
    {
     "data": {
      "text/plain": [
       "<AxesSubplot:xlabel='chol'>"
      ]
     },
     "execution_count": 1708,
     "metadata": {},
     "output_type": "execute_result"
    },
    {
     "data": {
      "image/png": "[encoded data removed]",
      "text/plain": [
       "<Figure size 432x288 with 1 Axes>"
      ]
     },
     "metadata": {
      "needs_background": "light"
     },
     "output_type": "display_data"
    }
   ],
   "source": [
    ".sns.boxplot(data['chol'])"
   ]
  },
  {
   "cell_type": "code",
   "execution_count": 1709,
   "id": "778e9d02",
   "metadata": {},
   "outputs": [],
   "source": [
    "q1=np.percentile(data['chol'],25)\n",
    "q3=np.percentile(data['chol'],75)\n",
    "IQR=q3-q1\n",
    "good_value=1.5 * IQR\n",
    "lower_bound=q1-good_value\n",
    "upper_bound=q3+good_value\n",
    "data = data[data['chol'] <= upper_bound]   # remove outliers"
   ]
  },
  {
   "cell_type": "code",
   "execution_count": 1710,
   "id": "fa9e62d4",
   "metadata": {},
   "outputs": [
    {
     "data": {
      "text/plain": [
       "<AxesSubplot:xlabel='chol'>"
      ]
     },
     "execution_count": 1710,
     "metadata": {},
     "output_type": "execute_result"
    },
    {
     "data": {
      "image/png": "[encoded data removed]",
      "text/plain": [
       "<Figure size 432x288 with 1 Axes>"
      ]
     },
     "metadata": {
      "needs_background": "light"
     },
     "output_type": "display_data"
    }
   ],
   "source": [
    "sns.boxplot(data['chol'])"
   ]
  },
  {
   "cell_type": "markdown",
   "id": "2266a279",
   "metadata": {},
   "source": [
    "### thalach\n",
    "- The Maximum Heart Rate achieved."
   ]
  },
  {
   "cell_type": "code",
   "execution_count": 1711,
   "id": "0f7d2730",
   "metadata": {},
   "outputs": [
    {
     "data": {
      "text/plain": [
       "<seaborn.axisgrid.FacetGrid at 0x16949295eb0>"
      ]
     },
     "execution_count": 1711,
     "metadata": {},
     "output_type": "execute_result"
    },
    {
     "data": {
      "image/png": "[encoded data removed]",
      "text/plain": [
       "<Figure size 360x360 with 1 Axes>"
      ]
     },
     "metadata": {
      "needs_background": "light"
     },
     "output_type": "display_data"
    }
   ],
   "source": [
    "sns.displot(data['thalach'])"
   ]
  },
  {
   "cell_type": "code",
   "execution_count": 1712,
   "id": "3fdb0e49",
   "metadata": {},
   "outputs": [
    {
     "data": {
      "text/plain": [
       "<AxesSubplot:xlabel='thalach'>"
      ]
     },
     "execution_count": 1712,
     "metadata": {},
     "output_type": "execute_result"
    },
    {
     "data": {
      "image/png": "[encoded data removed]",
      "text/plain": [
       "<Figure size 432x288 with 1 Axes>"
      ]
     },
     "metadata": {
      "needs_background": "light"
     },
     "output_type": "display_data"
    }
   ],
   "source": [
    "sns.boxplot(data['thalach'])"
   ]
  },
  {
   "cell_type": "markdown",
   "id": "0ace9e2e",
   "metadata": {},
   "source": [
    "### oldpeak\n",
    "- ST Depression is the difference between value of ECG at rest and after exercise."
   ]
  },
  {
   "cell_type": "code",
   "execution_count": 1713,
   "id": "fe9708c7",
   "metadata": {},
   "outputs": [
    {
     "data": {
      "text/plain": [
       "<seaborn.axisgrid.FacetGrid at 0x16946104040>"
      ]
     },
     "execution_count": 1713,
     "metadata": {},
     "output_type": "execute_result"
    },
    {
     "data": {
      "image/png": "[encoded data removed]",
      "text/plain": [
       "<Figure size 360x360 with 1 Axes>"
      ]
     },
     "metadata": {
      "needs_background": "light"
     },
     "output_type": "display_data"
    }
   ],
   "source": [
    "sns.displot(data['oldpeak'])"
   ]
  },
  {
   "cell_type": "code",
   "execution_count": 1714,
   "id": "14f19ccf",
   "metadata": {},
   "outputs": [
    {
     "data": {
      "text/plain": [
       "<AxesSubplot:xlabel='oldpeak'>"
      ]
     },
     "execution_count": 1714,
     "metadata": {},
     "output_type": "execute_result"
    },
    {
     "data": {
      "image/png": "[encoded data removed]",
      "text/plain": [
       "<Figure size 432x288 with 1 Axes>"
      ]
     },
     "metadata": {
      "needs_background": "light"
     },
     "output_type": "display_data"
    }
   ],
   "source": [
    "sns.boxplot(data['oldpeak'])"
   ]
  },
  {
   "cell_type": "code",
   "execution_count": 1715,
   "id": "a5b4a15c",
   "metadata": {},
   "outputs": [],
   "source": [
    "q1=np.percentile(data['oldpeak'],25)\n",
    "q3=np.percentile(data['oldpeak'],75)\n",
    "IQR=q3-q1\n",
    "good_value=1.5 * IQR\n",
    "lower_bound=q1-good_value\n",
    "upper_bound=q3+good_value\n",
    "data = data[data['oldpeak'] <= upper_bound]   # remove outliers"
   ]
  },
  {
   "cell_type": "code",
   "execution_count": 1716,
   "id": "f2ad7f54",
   "metadata": {},
   "outputs": [
    {
     "data": {
      "text/plain": [
       "<AxesSubplot:xlabel='oldpeak'>"
      ]
     },
     "execution_count": 1716,
     "metadata": {},
     "output_type": "execute_result"
    },
    {
     "data": {
      "image/png": "[encoded data removed]",
      "text/plain": [
       "<Figure size 432x288 with 1 Axes>"
      ]
     },
     "metadata": {
      "needs_background": "light"
     },
     "output_type": "display_data"
    }
   ],
   "source": [
    "sns.boxplot(data['oldpeak'])"
   ]
  },
  {
   "cell_type": "markdown",
   "id": "74d87b67",
   "metadata": {},
   "source": [
    "### ca\n",
    "- The number of major blood vessels (0-3) supplying blood to heart blocked.\n"
   ]
  },
  {
   "cell_type": "code",
   "execution_count": 1717,
   "id": "39e3c2b5",
   "metadata": {},
   "outputs": [
    {
     "data": {
      "text/plain": [
       "0    168\n",
       "1     62\n",
       "2     35\n",
       "3     16\n",
       "4      5\n",
       "Name: ca, dtype: int64"
      ]
     },
     "execution_count": 1717,
     "metadata": {},
     "output_type": "execute_result"
    }
   ],
   "source": [
    "data['ca'].value_counts()"
   ]
  },
  {
   "cell_type": "code",
   "execution_count": 1718,
   "id": "0c3a0f41",
   "metadata": {},
   "outputs": [
    {
     "data": {
      "text/plain": [
       "<AxesSubplot:xlabel='ca', ylabel='count'>"
      ]
     },
     "execution_count": 1718,
     "metadata": {},
     "output_type": "execute_result"
    },
    {
     "data": {
      "image/png": "[encoded data removed]",
      "text/plain": [
       "<Figure size 432x288 with 1 Axes>"
      ]
     },
     "metadata": {
      "needs_background": "light"
     },
     "output_type": "display_data"
    }
   ],
   "source": [
    "sns.countplot(data['ca'])"
   ]
  },
  {
   "cell_type": "markdown",
   "id": "2fc9a07a",
   "metadata": {},
   "source": [
    "### thal\n",
    "- The Types of thalassemia (0 = normal; 1 = fixed defect; 2 = reversible defect)"
   ]
  },
  {
   "cell_type": "code",
   "execution_count": 1719,
   "id": "424ad3c8",
   "metadata": {},
   "outputs": [
    {
     "data": {
      "text/plain": [
       "2    162\n",
       "3    105\n",
       "1     17\n",
       "0      2\n",
       "Name: thal, dtype: int64"
      ]
     },
     "execution_count": 1719,
     "metadata": {},
     "output_type": "execute_result"
    }
   ],
   "source": [
    "data['thal'].value_counts()"
   ]
  },
  {
   "cell_type": "code",
   "execution_count": 1720,
   "id": "baa8ae3d",
   "metadata": {},
   "outputs": [
    {
     "data": {
      "text/plain": [
       "<AxesSubplot:xlabel='thal', ylabel='count'>"
      ]
     },
     "execution_count": 1720,
     "metadata": {},
     "output_type": "execute_result"
    },
    {
     "data": {
      "image/png": "[encoded data removed]",
      "text/plain": [
       "<Figure size 432x288 with 1 Axes>"
      ]
     },
     "metadata": {
      "needs_background": "light"
     },
     "output_type": "display_data"
    }
   ],
   "source": [
    "sns.countplot(data['thal'])"
   ]
  },
  {
   "cell_type": "markdown",
   "id": "8fad79d4",
   "metadata": {},
   "source": [
    "## `Bivariate Analysis`"
   ]
  },
  {
   "cell_type": "markdown",
   "id": "88f5dd91",
   "metadata": {},
   "source": [
    "### Variables\n",
    "#### Cat\n",
    "- sex\n",
    "- cp\n",
    "- restecg      \n",
    "- exang   \n",
    "- slope   \n",
    "- target\n",
    "\n",
    "#### Num\n",
    "- age\n",
    "- trestbps      \n",
    "- thalach\n",
    "- oldpeak    \n",
    "- chol\n",
    "- ca            \n",
    "- thal"
   ]
  },
  {
   "cell_type": "markdown",
   "id": "f6c74432",
   "metadata": {},
   "source": [
    "### `chi square test ------------------------------------`"
   ]
  },
  {
   "cell_type": "code",
   "execution_count": 1721,
   "id": "3fe50888",
   "metadata": {},
   "outputs": [],
   "source": [
    "from scipy.stats import chi2_contingency\n",
    "\n",
    "def chisq_test(target,independent_col,data):\n",
    "    two_way = pd.crosstab(data[target],data[independent_col])\n",
    "    chi_test_result = chi2_contingency(two_way)\n",
    "    print(f'{independent_col} vs Target => chi-square result p-values => {chi_test_result[1]}')"
   ]
  },
  {
   "cell_type": "code",
   "execution_count": 1722,
   "id": "9cbae618",
   "metadata": {},
   "outputs": [
    {
     "name": "stdout",
     "output_type": "stream",
     "text": [
      "sex vs Target => chi-square result p-values => 2.008014614458896e-07\n",
      "cp vs Target => chi-square result p-values => 1.535364449987451e-16\n",
      "fbs vs Target => chi-square result p-values => 0.8819086918160463\n",
      "restecg vs Target => chi-square result p-values => 0.0037883214733880222\n",
      "exang vs Target => chi-square result p-values => 9.138569346128528e-13\n",
      "slope vs Target => chi-square result p-values => 3.985522977695909e-10\n"
     ]
    }
   ],
   "source": [
    "for col in cat_columns:\n",
    "    chisq_test(target,col,data)"
   ]
  },
  {
   "cell_type": "markdown",
   "id": "a91f6b22",
   "metadata": {},
   "source": [
    "#### `All categorical variables except fbs are related to Target`"
   ]
  },
  {
   "cell_type": "markdown",
   "id": "e7650806",
   "metadata": {},
   "source": [
    "### `T test --------------------------------------------`"
   ]
  },
  {
   "cell_type": "code",
   "execution_count": 1723,
   "id": "efdaa12a",
   "metadata": {},
   "outputs": [
    {
     "name": "stdout",
     "output_type": "stream",
     "text": [
      "age vs Target => Ttest_indResult(statistic=-4.031080540880824, pvalue=7.13739500185472e-05)\n",
      "trestbps vs Target => Ttest_indResult(statistic=-1.875411384956205, pvalue=0.06176204862058377)\n",
      "chol vs Target => Ttest_indResult(statistic=-1.9640075447597063, pvalue=0.05050439941219556)\n",
      "thalach vs Target => Ttest_indResult(statistic=7.964149605999827, pvalue=4.0373398836357687e-14)\n",
      "oldpeak vs Target => Ttest_indResult(statistic=-7.981511923469935, pvalue=3.599373725626523e-14)\n",
      "ca vs Target => Ttest_indResult(statistic=-6.762129665759241, pvalue=7.732111371219249e-11)\n",
      "thal vs Target => Ttest_indResult(statistic=-6.021552008924433, pvalue=5.33040663559535e-09)\n"
     ]
    }
   ],
   "source": [
    "from scipy.stats import ttest_ind\n",
    "\n",
    "for i in cont_columns:\n",
    "    target_yes = data.loc[data['target']=='Yes',i]\n",
    "    target_no = data.loc[data['target']=='No',i]\n",
    "    ttest_results = ttest_ind(target_yes,target_no)\n",
    "    print(f'{i} vs Target => {ttest_results}')"
   ]
  },
  {
   "cell_type": "markdown",
   "id": "3e24a84c",
   "metadata": {},
   "source": [
    "#### `All numerical variables except tresbps, chol are related to Target`"
   ]
  },
  {
   "cell_type": "markdown",
   "id": "75c6779a",
   "metadata": {},
   "source": [
    "### `Label Encoding`"
   ]
  },
  {
   "cell_type": "code",
   "execution_count": 1724,
   "id": "867f4c2a",
   "metadata": {},
   "outputs": [
    {
     "data": {
      "text/html": [
       "<div>\n",
       "<style scoped>\n",
       "    .dataframe tbody tr th:only-of-type {\n",
       "        vertical-align: middle;\n",
       "    }\n",
       "\n",
       "    .dataframe tbody tr th {\n",
       "        vertical-align: top;\n",
       "    }\n",
       "\n",
       "    .dataframe thead th {\n",
       "        text-align: right;\n",
       "    }\n",
       "</style>\n",
       "<table border=\"1\" class=\"dataframe\">\n",
       "  <thead>\n",
       "    <tr style=\"text-align: right;\">\n",
       "      <th></th>\n",
       "      <th>age</th>\n",
       "      <th>sex</th>\n",
       "      <th>cp</th>\n",
       "      <th>trestbps</th>\n",
       "      <th>chol</th>\n",
       "      <th>fbs</th>\n",
       "      <th>restecg</th>\n",
       "      <th>thalach</th>\n",
       "      <th>exang</th>\n",
       "      <th>oldpeak</th>\n",
       "      <th>slope</th>\n",
       "      <th>ca</th>\n",
       "      <th>thal</th>\n",
       "      <th>target</th>\n",
       "    </tr>\n",
       "  </thead>\n",
       "  <tbody>\n",
       "    <tr>\n",
       "      <th>0</th>\n",
       "      <td>63</td>\n",
       "      <td>1</td>\n",
       "      <td>asymptomatic</td>\n",
       "      <td>4.976734</td>\n",
       "      <td>233</td>\n",
       "      <td>True</td>\n",
       "      <td>0</td>\n",
       "      <td>150</td>\n",
       "      <td>0</td>\n",
       "      <td>2.3</td>\n",
       "      <td>Up_Sloping</td>\n",
       "      <td>0</td>\n",
       "      <td>1</td>\n",
       "      <td>1</td>\n",
       "    </tr>\n",
       "    <tr>\n",
       "      <th>1</th>\n",
       "      <td>37</td>\n",
       "      <td>1</td>\n",
       "      <td>non-anginal pain</td>\n",
       "      <td>4.867534</td>\n",
       "      <td>250</td>\n",
       "      <td>False</td>\n",
       "      <td>1</td>\n",
       "      <td>187</td>\n",
       "      <td>0</td>\n",
       "      <td>3.5</td>\n",
       "      <td>Up_Sloping</td>\n",
       "      <td>0</td>\n",
       "      <td>2</td>\n",
       "      <td>1</td>\n",
       "    </tr>\n",
       "    <tr>\n",
       "      <th>2</th>\n",
       "      <td>41</td>\n",
       "      <td>0</td>\n",
       "      <td>atypical angina</td>\n",
       "      <td>4.867534</td>\n",
       "      <td>204</td>\n",
       "      <td>False</td>\n",
       "      <td>0</td>\n",
       "      <td>172</td>\n",
       "      <td>0</td>\n",
       "      <td>1.4</td>\n",
       "      <td>Down_Sloping</td>\n",
       "      <td>0</td>\n",
       "      <td>2</td>\n",
       "      <td>1</td>\n",
       "    </tr>\n",
       "    <tr>\n",
       "      <th>3</th>\n",
       "      <td>56</td>\n",
       "      <td>1</td>\n",
       "      <td>atypical angina</td>\n",
       "      <td>4.787492</td>\n",
       "      <td>236</td>\n",
       "      <td>False</td>\n",
       "      <td>1</td>\n",
       "      <td>178</td>\n",
       "      <td>0</td>\n",
       "      <td>0.8</td>\n",
       "      <td>Down_Sloping</td>\n",
       "      <td>0</td>\n",
       "      <td>2</td>\n",
       "      <td>1</td>\n",
       "    </tr>\n",
       "    <tr>\n",
       "      <th>4</th>\n",
       "      <td>57</td>\n",
       "      <td>0</td>\n",
       "      <td>typical angina</td>\n",
       "      <td>4.787492</td>\n",
       "      <td>354</td>\n",
       "      <td>False</td>\n",
       "      <td>1</td>\n",
       "      <td>163</td>\n",
       "      <td>1</td>\n",
       "      <td>0.6</td>\n",
       "      <td>Down_Sloping</td>\n",
       "      <td>0</td>\n",
       "      <td>2</td>\n",
       "      <td>1</td>\n",
       "    </tr>\n",
       "    <tr>\n",
       "      <th>...</th>\n",
       "      <td>...</td>\n",
       "      <td>...</td>\n",
       "      <td>...</td>\n",
       "      <td>...</td>\n",
       "      <td>...</td>\n",
       "      <td>...</td>\n",
       "      <td>...</td>\n",
       "      <td>...</td>\n",
       "      <td>...</td>\n",
       "      <td>...</td>\n",
       "      <td>...</td>\n",
       "      <td>...</td>\n",
       "      <td>...</td>\n",
       "      <td>...</td>\n",
       "    </tr>\n",
       "    <tr>\n",
       "      <th>298</th>\n",
       "      <td>57</td>\n",
       "      <td>0</td>\n",
       "      <td>typical angina</td>\n",
       "      <td>4.941642</td>\n",
       "      <td>241</td>\n",
       "      <td>False</td>\n",
       "      <td>1</td>\n",
       "      <td>123</td>\n",
       "      <td>1</td>\n",
       "      <td>0.2</td>\n",
       "      <td>Flat</td>\n",
       "      <td>0</td>\n",
       "      <td>3</td>\n",
       "      <td>0</td>\n",
       "    </tr>\n",
       "    <tr>\n",
       "      <th>299</th>\n",
       "      <td>45</td>\n",
       "      <td>1</td>\n",
       "      <td>asymptomatic</td>\n",
       "      <td>4.700480</td>\n",
       "      <td>264</td>\n",
       "      <td>False</td>\n",
       "      <td>1</td>\n",
       "      <td>132</td>\n",
       "      <td>0</td>\n",
       "      <td>1.2</td>\n",
       "      <td>Flat</td>\n",
       "      <td>0</td>\n",
       "      <td>3</td>\n",
       "      <td>0</td>\n",
       "    </tr>\n",
       "    <tr>\n",
       "      <th>300</th>\n",
       "      <td>68</td>\n",
       "      <td>1</td>\n",
       "      <td>typical angina</td>\n",
       "      <td>4.969813</td>\n",
       "      <td>193</td>\n",
       "      <td>True</td>\n",
       "      <td>1</td>\n",
       "      <td>141</td>\n",
       "      <td>0</td>\n",
       "      <td>3.4</td>\n",
       "      <td>Flat</td>\n",
       "      <td>2</td>\n",
       "      <td>3</td>\n",
       "      <td>0</td>\n",
       "    </tr>\n",
       "    <tr>\n",
       "      <th>301</th>\n",
       "      <td>57</td>\n",
       "      <td>1</td>\n",
       "      <td>typical angina</td>\n",
       "      <td>4.867534</td>\n",
       "      <td>131</td>\n",
       "      <td>False</td>\n",
       "      <td>1</td>\n",
       "      <td>115</td>\n",
       "      <td>1</td>\n",
       "      <td>1.2</td>\n",
       "      <td>Flat</td>\n",
       "      <td>1</td>\n",
       "      <td>3</td>\n",
       "      <td>0</td>\n",
       "    </tr>\n",
       "    <tr>\n",
       "      <th>302</th>\n",
       "      <td>57</td>\n",
       "      <td>0</td>\n",
       "      <td>atypical angina</td>\n",
       "      <td>4.867534</td>\n",
       "      <td>236</td>\n",
       "      <td>False</td>\n",
       "      <td>0</td>\n",
       "      <td>174</td>\n",
       "      <td>0</td>\n",
       "      <td>0.0</td>\n",
       "      <td>Flat</td>\n",
       "      <td>1</td>\n",
       "      <td>2</td>\n",
       "      <td>0</td>\n",
       "    </tr>\n",
       "  </tbody>\n",
       "</table>\n",
       "<p>286 rows × 14 columns</p>\n",
       "</div>"
      ],
      "text/plain": [
       "     age  sex                 cp  trestbps  chol    fbs  restecg  thalach  \\\n",
       "0     63    1       asymptomatic  4.976734   233   True        0      150   \n",
       "1     37    1   non-anginal pain  4.867534   250  False        1      187   \n",
       "2     41    0    atypical angina  4.867534   204  False        0      172   \n",
       "3     56    1    atypical angina  4.787492   236  False        1      178   \n",
       "4     57    0     typical angina  4.787492   354  False        1      163   \n",
       "..   ...  ...                ...       ...   ...    ...      ...      ...   \n",
       "298   57    0     typical angina  4.941642   241  False        1      123   \n",
       "299   45    1       asymptomatic  4.700480   264  False        1      132   \n",
       "300   68    1     typical angina  4.969813   193   True        1      141   \n",
       "301   57    1     typical angina  4.867534   131  False        1      115   \n",
       "302   57    0    atypical angina  4.867534   236  False        0      174   \n",
       "\n",
       "     exang  oldpeak         slope  ca  thal  target  \n",
       "0        0      2.3    Up_Sloping   0     1       1  \n",
       "1        0      3.5    Up_Sloping   0     2       1  \n",
       "2        0      1.4  Down_Sloping   0     2       1  \n",
       "3        0      0.8  Down_Sloping   0     2       1  \n",
       "4        1      0.6  Down_Sloping   0     2       1  \n",
       "..     ...      ...           ...  ..   ...     ...  \n",
       "298      1      0.2          Flat   0     3       0  \n",
       "299      0      1.2          Flat   0     3       0  \n",
       "300      0      3.4          Flat   2     3       0  \n",
       "301      1      1.2          Flat   1     3       0  \n",
       "302      0      0.0          Flat   1     2       0  \n",
       "\n",
       "[286 rows x 14 columns]"
      ]
     },
     "execution_count": 1724,
     "metadata": {},
     "output_type": "execute_result"
    }
   ],
   "source": [
    "from sklearn.preprocessing import LabelEncoder\n",
    "\n",
    "binary = ['sex','restecg','exang','target']\n",
    "le = LabelEncoder()\n",
    "for i in binary:\n",
    "    data[i] = le.fit_transform(data[i])\n",
    "data"
   ]
  },
  {
   "cell_type": "markdown",
   "id": "10424cbe",
   "metadata": {},
   "source": [
    "### `One hot encoding`"
   ]
  },
  {
   "cell_type": "code",
   "execution_count": 1725,
   "id": "f065d1db",
   "metadata": {},
   "outputs": [
    {
     "data": {
      "text/html": [
       "<div>\n",
       "<style scoped>\n",
       "    .dataframe tbody tr th:only-of-type {\n",
       "        vertical-align: middle;\n",
       "    }\n",
       "\n",
       "    .dataframe tbody tr th {\n",
       "        vertical-align: top;\n",
       "    }\n",
       "\n",
       "    .dataframe thead th {\n",
       "        text-align: right;\n",
       "    }\n",
       "</style>\n",
       "<table border=\"1\" class=\"dataframe\">\n",
       "  <thead>\n",
       "    <tr style=\"text-align: right;\">\n",
       "      <th></th>\n",
       "      <th>age</th>\n",
       "      <th>sex</th>\n",
       "      <th>trestbps</th>\n",
       "      <th>chol</th>\n",
       "      <th>fbs</th>\n",
       "      <th>restecg</th>\n",
       "      <th>thalach</th>\n",
       "      <th>exang</th>\n",
       "      <th>oldpeak</th>\n",
       "      <th>ca</th>\n",
       "      <th>thal</th>\n",
       "      <th>target</th>\n",
       "      <th>cp_ non-anginal pain</th>\n",
       "      <th>cp_ typical angina</th>\n",
       "      <th>cp_asymptomatic</th>\n",
       "      <th>cp_atypical angina</th>\n",
       "      <th>slope_Down_Sloping</th>\n",
       "      <th>slope_Flat</th>\n",
       "      <th>slope_Up_Sloping</th>\n",
       "    </tr>\n",
       "  </thead>\n",
       "  <tbody>\n",
       "    <tr>\n",
       "      <th>0</th>\n",
       "      <td>63</td>\n",
       "      <td>1</td>\n",
       "      <td>4.976734</td>\n",
       "      <td>233</td>\n",
       "      <td>True</td>\n",
       "      <td>0</td>\n",
       "      <td>150</td>\n",
       "      <td>0</td>\n",
       "      <td>2.3</td>\n",
       "      <td>0</td>\n",
       "      <td>1</td>\n",
       "      <td>1</td>\n",
       "      <td>0</td>\n",
       "      <td>0</td>\n",
       "      <td>1</td>\n",
       "      <td>0</td>\n",
       "      <td>0</td>\n",
       "      <td>0</td>\n",
       "      <td>1</td>\n",
       "    </tr>\n",
       "    <tr>\n",
       "      <th>1</th>\n",
       "      <td>37</td>\n",
       "      <td>1</td>\n",
       "      <td>4.867534</td>\n",
       "      <td>250</td>\n",
       "      <td>False</td>\n",
       "      <td>1</td>\n",
       "      <td>187</td>\n",
       "      <td>0</td>\n",
       "      <td>3.5</td>\n",
       "      <td>0</td>\n",
       "      <td>2</td>\n",
       "      <td>1</td>\n",
       "      <td>1</td>\n",
       "      <td>0</td>\n",
       "      <td>0</td>\n",
       "      <td>0</td>\n",
       "      <td>0</td>\n",
       "      <td>0</td>\n",
       "      <td>1</td>\n",
       "    </tr>\n",
       "    <tr>\n",
       "      <th>2</th>\n",
       "      <td>41</td>\n",
       "      <td>0</td>\n",
       "      <td>4.867534</td>\n",
       "      <td>204</td>\n",
       "      <td>False</td>\n",
       "      <td>0</td>\n",
       "      <td>172</td>\n",
       "      <td>0</td>\n",
       "      <td>1.4</td>\n",
       "      <td>0</td>\n",
       "      <td>2</td>\n",
       "      <td>1</td>\n",
       "      <td>0</td>\n",
       "      <td>0</td>\n",
       "      <td>0</td>\n",
       "      <td>1</td>\n",
       "      <td>1</td>\n",
       "      <td>0</td>\n",
       "      <td>0</td>\n",
       "    </tr>\n",
       "    <tr>\n",
       "      <th>3</th>\n",
       "      <td>56</td>\n",
       "      <td>1</td>\n",
       "      <td>4.787492</td>\n",
       "      <td>236</td>\n",
       "      <td>False</td>\n",
       "      <td>1</td>\n",
       "      <td>178</td>\n",
       "      <td>0</td>\n",
       "      <td>0.8</td>\n",
       "      <td>0</td>\n",
       "      <td>2</td>\n",
       "      <td>1</td>\n",
       "      <td>0</td>\n",
       "      <td>0</td>\n",
       "      <td>0</td>\n",
       "      <td>1</td>\n",
       "      <td>1</td>\n",
       "      <td>0</td>\n",
       "      <td>0</td>\n",
       "    </tr>\n",
       "    <tr>\n",
       "      <th>4</th>\n",
       "      <td>57</td>\n",
       "      <td>0</td>\n",
       "      <td>4.787492</td>\n",
       "      <td>354</td>\n",
       "      <td>False</td>\n",
       "      <td>1</td>\n",
       "      <td>163</td>\n",
       "      <td>1</td>\n",
       "      <td>0.6</td>\n",
       "      <td>0</td>\n",
       "      <td>2</td>\n",
       "      <td>1</td>\n",
       "      <td>0</td>\n",
       "      <td>1</td>\n",
       "      <td>0</td>\n",
       "      <td>0</td>\n",
       "      <td>1</td>\n",
       "      <td>0</td>\n",
       "      <td>0</td>\n",
       "    </tr>\n",
       "    <tr>\n",
       "      <th>...</th>\n",
       "      <td>...</td>\n",
       "      <td>...</td>\n",
       "      <td>...</td>\n",
       "      <td>...</td>\n",
       "      <td>...</td>\n",
       "      <td>...</td>\n",
       "      <td>...</td>\n",
       "      <td>...</td>\n",
       "      <td>...</td>\n",
       "      <td>...</td>\n",
       "      <td>...</td>\n",
       "      <td>...</td>\n",
       "      <td>...</td>\n",
       "      <td>...</td>\n",
       "      <td>...</td>\n",
       "      <td>...</td>\n",
       "      <td>...</td>\n",
       "      <td>...</td>\n",
       "      <td>...</td>\n",
       "    </tr>\n",
       "    <tr>\n",
       "      <th>298</th>\n",
       "      <td>57</td>\n",
       "      <td>0</td>\n",
       "      <td>4.941642</td>\n",
       "      <td>241</td>\n",
       "      <td>False</td>\n",
       "      <td>1</td>\n",
       "      <td>123</td>\n",
       "      <td>1</td>\n",
       "      <td>0.2</td>\n",
       "      <td>0</td>\n",
       "      <td>3</td>\n",
       "      <td>0</td>\n",
       "      <td>0</td>\n",
       "      <td>1</td>\n",
       "      <td>0</td>\n",
       "      <td>0</td>\n",
       "      <td>0</td>\n",
       "      <td>1</td>\n",
       "      <td>0</td>\n",
       "    </tr>\n",
       "    <tr>\n",
       "      <th>299</th>\n",
       "      <td>45</td>\n",
       "      <td>1</td>\n",
       "      <td>4.700480</td>\n",
       "      <td>264</td>\n",
       "      <td>False</td>\n",
       "      <td>1</td>\n",
       "      <td>132</td>\n",
       "      <td>0</td>\n",
       "      <td>1.2</td>\n",
       "      <td>0</td>\n",
       "      <td>3</td>\n",
       "      <td>0</td>\n",
       "      <td>0</td>\n",
       "      <td>0</td>\n",
       "      <td>1</td>\n",
       "      <td>0</td>\n",
       "      <td>0</td>\n",
       "      <td>1</td>\n",
       "      <td>0</td>\n",
       "    </tr>\n",
       "    <tr>\n",
       "      <th>300</th>\n",
       "      <td>68</td>\n",
       "      <td>1</td>\n",
       "      <td>4.969813</td>\n",
       "      <td>193</td>\n",
       "      <td>True</td>\n",
       "      <td>1</td>\n",
       "      <td>141</td>\n",
       "      <td>0</td>\n",
       "      <td>3.4</td>\n",
       "      <td>2</td>\n",
       "      <td>3</td>\n",
       "      <td>0</td>\n",
       "      <td>0</td>\n",
       "      <td>1</td>\n",
       "      <td>0</td>\n",
       "      <td>0</td>\n",
       "      <td>0</td>\n",
       "      <td>1</td>\n",
       "      <td>0</td>\n",
       "    </tr>\n",
       "    <tr>\n",
       "      <th>301</th>\n",
       "      <td>57</td>\n",
       "      <td>1</td>\n",
       "      <td>4.867534</td>\n",
       "      <td>131</td>\n",
       "      <td>False</td>\n",
       "      <td>1</td>\n",
       "      <td>115</td>\n",
       "      <td>1</td>\n",
       "      <td>1.2</td>\n",
       "      <td>1</td>\n",
       "      <td>3</td>\n",
       "      <td>0</td>\n",
       "      <td>0</td>\n",
       "      <td>1</td>\n",
       "      <td>0</td>\n",
       "      <td>0</td>\n",
       "      <td>0</td>\n",
       "      <td>1</td>\n",
       "      <td>0</td>\n",
       "    </tr>\n",
       "    <tr>\n",
       "      <th>302</th>\n",
       "      <td>57</td>\n",
       "      <td>0</td>\n",
       "      <td>4.867534</td>\n",
       "      <td>236</td>\n",
       "      <td>False</td>\n",
       "      <td>0</td>\n",
       "      <td>174</td>\n",
       "      <td>0</td>\n",
       "      <td>0.0</td>\n",
       "      <td>1</td>\n",
       "      <td>2</td>\n",
       "      <td>0</td>\n",
       "      <td>0</td>\n",
       "      <td>0</td>\n",
       "      <td>0</td>\n",
       "      <td>1</td>\n",
       "      <td>0</td>\n",
       "      <td>1</td>\n",
       "      <td>0</td>\n",
       "    </tr>\n",
       "  </tbody>\n",
       "</table>\n",
       "<p>286 rows × 19 columns</p>\n",
       "</div>"
      ],
      "text/plain": [
       "     age  sex  trestbps  chol    fbs  restecg  thalach  exang  oldpeak  ca  \\\n",
       "0     63    1  4.976734   233   True        0      150      0      2.3   0   \n",
       "1     37    1  4.867534   250  False        1      187      0      3.5   0   \n",
       "2     41    0  4.867534   204  False        0      172      0      1.4   0   \n",
       "3     56    1  4.787492   236  False        1      178      0      0.8   0   \n",
       "4     57    0  4.787492   354  False        1      163      1      0.6   0   \n",
       "..   ...  ...       ...   ...    ...      ...      ...    ...      ...  ..   \n",
       "298   57    0  4.941642   241  False        1      123      1      0.2   0   \n",
       "299   45    1  4.700480   264  False        1      132      0      1.2   0   \n",
       "300   68    1  4.969813   193   True        1      141      0      3.4   2   \n",
       "301   57    1  4.867534   131  False        1      115      1      1.2   1   \n",
       "302   57    0  4.867534   236  False        0      174      0      0.0   1   \n",
       "\n",
       "     thal  target  cp_ non-anginal pain  cp_ typical angina  cp_asymptomatic  \\\n",
       "0       1       1                     0                   0                1   \n",
       "1       2       1                     1                   0                0   \n",
       "2       2       1                     0                   0                0   \n",
       "3       2       1                     0                   0                0   \n",
       "4       2       1                     0                   1                0   \n",
       "..    ...     ...                   ...                 ...              ...   \n",
       "298     3       0                     0                   1                0   \n",
       "299     3       0                     0                   0                1   \n",
       "300     3       0                     0                   1                0   \n",
       "301     3       0                     0                   1                0   \n",
       "302     2       0                     0                   0                0   \n",
       "\n",
       "     cp_atypical angina  slope_Down_Sloping  slope_Flat  slope_Up_Sloping  \n",
       "0                     0                   0           0                 1  \n",
       "1                     0                   0           0                 1  \n",
       "2                     1                   1           0                 0  \n",
       "3                     1                   1           0                 0  \n",
       "4                     0                   1           0                 0  \n",
       "..                  ...                 ...         ...               ...  \n",
       "298                   0                   0           1                 0  \n",
       "299                   0                   0           1                 0  \n",
       "300                   0                   0           1                 0  \n",
       "301                   0                   0           1                 0  \n",
       "302                   1                   0           1                 0  \n",
       "\n",
       "[286 rows x 19 columns]"
      ]
     },
     "execution_count": 1725,
     "metadata": {},
     "output_type": "execute_result"
    }
   ],
   "source": [
    "data = pd.get_dummies(data, columns = ['cp', 'slope'])\n",
    "data"
   ]
  },
  {
   "cell_type": "code",
   "execution_count": 1726,
   "id": "63892ea4",
   "metadata": {},
   "outputs": [
    {
     "data": {
      "text/plain": [
       "Index(['age', 'sex', 'trestbps', 'chol', 'fbs', 'restecg', 'thalach', 'exang',\n",
       "       'oldpeak', 'ca', 'thal', 'target', 'cp_ non-anginal pain',\n",
       "       'cp_ typical angina', 'cp_asymptomatic', 'cp_atypical angina',\n",
       "       'slope_Down_Sloping', 'slope_Flat', 'slope_Up_Sloping'],\n",
       "      dtype='object')"
      ]
     },
     "execution_count": 1726,
     "metadata": {},
     "output_type": "execute_result"
    }
   ],
   "source": [
    "data.columns"
   ]
  },
  {
   "cell_type": "markdown",
   "id": "a90f4537",
   "metadata": {},
   "source": [
    "### Split the data into X and y"
   ]
  },
  {
   "cell_type": "code",
   "execution_count": 1727,
   "id": "31e2fd9d",
   "metadata": {},
   "outputs": [],
   "source": [
    "X = data.drop(['target','fbs','chol','trestbps'],axis=1)   # drop fbs trestbps and chol as they are not related to target variable\n",
    "y = data['target']"
   ]
  },
  {
   "cell_type": "markdown",
   "id": "4a1fcac0",
   "metadata": {},
   "source": [
    "## `Multicollinearity ---------------------------------------`"
   ]
  },
  {
   "cell_type": "code",
   "execution_count": 1728,
   "id": "dc90d440",
   "metadata": {},
   "outputs": [],
   "source": [
    "from statsmodels.stats.outliers_influence import variance_inflation_factor # to check multicollinearity\n",
    "\n",
    "\n",
    "### function of vif\n",
    "def cal_vif(X):\n",
    "    vif=pd.DataFrame()\n",
    "    vif['var']=X.columns\n",
    "    vif['VIF']=[variance_inflation_factor(X.values,i) for i in range(X.shape[1])]\n",
    "    vif['VIF'] = round(vif['VIF'], 2)\n",
    "    vif = vif.sort_values(by = \"VIF\", ascending = False)\n",
    "    return(vif)"
   ]
  },
  {
   "cell_type": "markdown",
   "id": "ae1c4d4e",
   "metadata": {},
   "source": [
    "### Categorical columns"
   ]
  },
  {
   "cell_type": "code",
   "execution_count": 1729,
   "id": "f1bc8bc1",
   "metadata": {},
   "outputs": [],
   "source": [
    "cat = X[['cp_ non-anginal pain',\n",
    "       'cp_ typical angina', 'cp_asymptomatic', 'cp_atypical angina',\n",
    "       'slope_Down_Sloping', 'slope_Flat', 'slope_Up_Sloping','sex','exang','restecg']]"
   ]
  },
  {
   "cell_type": "code",
   "execution_count": 1730,
   "id": "dd8b42b5",
   "metadata": {},
   "outputs": [
    {
     "data": {
      "text/html": [
       "<div>\n",
       "<style scoped>\n",
       "    .dataframe tbody tr th:only-of-type {\n",
       "        vertical-align: middle;\n",
       "    }\n",
       "\n",
       "    .dataframe tbody tr th {\n",
       "        vertical-align: top;\n",
       "    }\n",
       "\n",
       "    .dataframe thead th {\n",
       "        text-align: right;\n",
       "    }\n",
       "</style>\n",
       "<table border=\"1\" class=\"dataframe\">\n",
       "  <thead>\n",
       "    <tr style=\"text-align: right;\">\n",
       "      <th></th>\n",
       "      <th>var</th>\n",
       "      <th>VIF</th>\n",
       "    </tr>\n",
       "  </thead>\n",
       "  <tbody>\n",
       "    <tr>\n",
       "      <th>0</th>\n",
       "      <td>cp_ non-anginal pain</td>\n",
       "      <td>inf</td>\n",
       "    </tr>\n",
       "    <tr>\n",
       "      <th>1</th>\n",
       "      <td>cp_ typical angina</td>\n",
       "      <td>inf</td>\n",
       "    </tr>\n",
       "    <tr>\n",
       "      <th>2</th>\n",
       "      <td>cp_asymptomatic</td>\n",
       "      <td>inf</td>\n",
       "    </tr>\n",
       "    <tr>\n",
       "      <th>3</th>\n",
       "      <td>cp_atypical angina</td>\n",
       "      <td>inf</td>\n",
       "    </tr>\n",
       "    <tr>\n",
       "      <th>4</th>\n",
       "      <td>slope_Down_Sloping</td>\n",
       "      <td>inf</td>\n",
       "    </tr>\n",
       "    <tr>\n",
       "      <th>5</th>\n",
       "      <td>slope_Flat</td>\n",
       "      <td>inf</td>\n",
       "    </tr>\n",
       "    <tr>\n",
       "      <th>6</th>\n",
       "      <td>slope_Up_Sloping</td>\n",
       "      <td>inf</td>\n",
       "    </tr>\n",
       "    <tr>\n",
       "      <th>8</th>\n",
       "      <td>exang</td>\n",
       "      <td>1.36</td>\n",
       "    </tr>\n",
       "    <tr>\n",
       "      <th>7</th>\n",
       "      <td>sex</td>\n",
       "      <td>1.05</td>\n",
       "    </tr>\n",
       "    <tr>\n",
       "      <th>9</th>\n",
       "      <td>restecg</td>\n",
       "      <td>1.04</td>\n",
       "    </tr>\n",
       "  </tbody>\n",
       "</table>\n",
       "</div>"
      ],
      "text/plain": [
       "                    var   VIF\n",
       "0  cp_ non-anginal pain   inf\n",
       "1    cp_ typical angina   inf\n",
       "2       cp_asymptomatic   inf\n",
       "3    cp_atypical angina   inf\n",
       "4    slope_Down_Sloping   inf\n",
       "5            slope_Flat   inf\n",
       "6      slope_Up_Sloping   inf\n",
       "8                 exang  1.36\n",
       "7                   sex  1.05\n",
       "9               restecg  1.04"
      ]
     },
     "execution_count": 1730,
     "metadata": {},
     "output_type": "execute_result"
    }
   ],
   "source": [
    "cal_vif(cat)"
   ]
  },
  {
   "cell_type": "markdown",
   "id": "bed1f6b8",
   "metadata": {},
   "source": [
    "### drop redundant columns"
   ]
  },
  {
   "cell_type": "markdown",
   "id": "a4eca5d7",
   "metadata": {},
   "source": [
    "### selected categorical columns"
   ]
  },
  {
   "cell_type": "code",
   "execution_count": 1731,
   "id": "5bbe8eb2",
   "metadata": {},
   "outputs": [],
   "source": [
    "cat = X[['cp_ non-anginal pain',\n",
    "       'cp_ typical angina', 'cp_asymptomatic',\n",
    "       'slope_Down_Sloping', 'slope_Flat', 'sex','exang','restecg']]"
   ]
  },
  {
   "cell_type": "code",
   "execution_count": 1732,
   "id": "86421488",
   "metadata": {},
   "outputs": [
    {
     "data": {
      "text/html": [
       "<div>\n",
       "<style scoped>\n",
       "    .dataframe tbody tr th:only-of-type {\n",
       "        vertical-align: middle;\n",
       "    }\n",
       "\n",
       "    .dataframe tbody tr th {\n",
       "        vertical-align: top;\n",
       "    }\n",
       "\n",
       "    .dataframe thead th {\n",
       "        text-align: right;\n",
       "    }\n",
       "</style>\n",
       "<table border=\"1\" class=\"dataframe\">\n",
       "  <thead>\n",
       "    <tr style=\"text-align: right;\">\n",
       "      <th></th>\n",
       "      <th>var</th>\n",
       "      <th>VIF</th>\n",
       "    </tr>\n",
       "  </thead>\n",
       "  <tbody>\n",
       "    <tr>\n",
       "      <th>1</th>\n",
       "      <td>cp_ typical angina</td>\n",
       "      <td>3.90</td>\n",
       "    </tr>\n",
       "    <tr>\n",
       "      <th>4</th>\n",
       "      <td>slope_Flat</td>\n",
       "      <td>3.87</td>\n",
       "    </tr>\n",
       "    <tr>\n",
       "      <th>3</th>\n",
       "      <td>slope_Down_Sloping</td>\n",
       "      <td>3.59</td>\n",
       "    </tr>\n",
       "    <tr>\n",
       "      <th>5</th>\n",
       "      <td>sex</td>\n",
       "      <td>3.22</td>\n",
       "    </tr>\n",
       "    <tr>\n",
       "      <th>0</th>\n",
       "      <td>cp_ non-anginal pain</td>\n",
       "      <td>2.30</td>\n",
       "    </tr>\n",
       "    <tr>\n",
       "      <th>7</th>\n",
       "      <td>restecg</td>\n",
       "      <td>2.08</td>\n",
       "    </tr>\n",
       "    <tr>\n",
       "      <th>6</th>\n",
       "      <td>exang</td>\n",
       "      <td>1.96</td>\n",
       "    </tr>\n",
       "    <tr>\n",
       "      <th>2</th>\n",
       "      <td>cp_asymptomatic</td>\n",
       "      <td>1.38</td>\n",
       "    </tr>\n",
       "  </tbody>\n",
       "</table>\n",
       "</div>"
      ],
      "text/plain": [
       "                    var   VIF\n",
       "1    cp_ typical angina  3.90\n",
       "4            slope_Flat  3.87\n",
       "3    slope_Down_Sloping  3.59\n",
       "5                   sex  3.22\n",
       "0  cp_ non-anginal pain  2.30\n",
       "7               restecg  2.08\n",
       "6                 exang  1.96\n",
       "2       cp_asymptomatic  1.38"
      ]
     },
     "execution_count": 1732,
     "metadata": {},
     "output_type": "execute_result"
    }
   ],
   "source": [
    "cal_vif(cat)"
   ]
  },
  {
   "cell_type": "markdown",
   "id": "80064bb2",
   "metadata": {},
   "source": [
    "### These categorical columns are perfect, without multicollinearity"
   ]
  },
  {
   "cell_type": "markdown",
   "id": "93500bad",
   "metadata": {},
   "source": [
    "### Numerical Columns"
   ]
  },
  {
   "cell_type": "code",
   "execution_count": 1733,
   "id": "f21b32de",
   "metadata": {},
   "outputs": [
    {
     "data": {
      "text/plain": [
       "Index(['age', 'trestbps', 'chol', 'thalach', 'oldpeak', 'ca', 'thal'], dtype='object')"
      ]
     },
     "execution_count": 1733,
     "metadata": {},
     "output_type": "execute_result"
    }
   ],
   "source": [
    "cont_columns"
   ]
  },
  {
   "cell_type": "code",
   "execution_count": 1734,
   "id": "324e9acb",
   "metadata": {},
   "outputs": [],
   "source": [
    "cont_columns = cont_columns.delete(1) # delete trestbps not related to otarget"
   ]
  },
  {
   "cell_type": "code",
   "execution_count": 1735,
   "id": "8acf41c0",
   "metadata": {},
   "outputs": [
    {
     "data": {
      "text/plain": [
       "Index(['age', 'chol', 'thalach', 'oldpeak', 'ca', 'thal'], dtype='object')"
      ]
     },
     "execution_count": 1735,
     "metadata": {},
     "output_type": "execute_result"
    }
   ],
   "source": [
    "cont_columns"
   ]
  },
  {
   "cell_type": "code",
   "execution_count": 1736,
   "id": "1414acb2",
   "metadata": {},
   "outputs": [],
   "source": [
    "cont_columns = cont_columns.delete(1) # delete chol not related to target"
   ]
  },
  {
   "cell_type": "markdown",
   "id": "e9f7e635",
   "metadata": {},
   "source": [
    "### selected continous columns"
   ]
  },
  {
   "cell_type": "code",
   "execution_count": 1737,
   "id": "1ef712d5",
   "metadata": {},
   "outputs": [
    {
     "data": {
      "text/plain": [
       "Index(['age', 'thalach', 'oldpeak', 'ca', 'thal'], dtype='object')"
      ]
     },
     "execution_count": 1737,
     "metadata": {},
     "output_type": "execute_result"
    }
   ],
   "source": [
    "cont_columns"
   ]
  },
  {
   "cell_type": "code",
   "execution_count": 1738,
   "id": "5846265a",
   "metadata": {},
   "outputs": [],
   "source": [
    "num = X[cont_columns]"
   ]
  },
  {
   "cell_type": "code",
   "execution_count": 1739,
   "id": "8a0f1643",
   "metadata": {},
   "outputs": [
    {
     "data": {
      "text/html": [
       "<div>\n",
       "<style scoped>\n",
       "    .dataframe tbody tr th:only-of-type {\n",
       "        vertical-align: middle;\n",
       "    }\n",
       "\n",
       "    .dataframe tbody tr th {\n",
       "        vertical-align: top;\n",
       "    }\n",
       "\n",
       "    .dataframe thead th {\n",
       "        text-align: right;\n",
       "    }\n",
       "</style>\n",
       "<table border=\"1\" class=\"dataframe\">\n",
       "  <thead>\n",
       "    <tr style=\"text-align: right;\">\n",
       "      <th></th>\n",
       "      <th>var</th>\n",
       "      <th>VIF</th>\n",
       "    </tr>\n",
       "  </thead>\n",
       "  <tbody>\n",
       "    <tr>\n",
       "      <th>0</th>\n",
       "      <td>age</td>\n",
       "      <td>21.12</td>\n",
       "    </tr>\n",
       "    <tr>\n",
       "      <th>1</th>\n",
       "      <td>thalach</td>\n",
       "      <td>18.70</td>\n",
       "    </tr>\n",
       "    <tr>\n",
       "      <th>4</th>\n",
       "      <td>thal</td>\n",
       "      <td>14.43</td>\n",
       "    </tr>\n",
       "    <tr>\n",
       "      <th>2</th>\n",
       "      <td>oldpeak</td>\n",
       "      <td>2.11</td>\n",
       "    </tr>\n",
       "    <tr>\n",
       "      <th>3</th>\n",
       "      <td>ca</td>\n",
       "      <td>1.68</td>\n",
       "    </tr>\n",
       "  </tbody>\n",
       "</table>\n",
       "</div>"
      ],
      "text/plain": [
       "       var    VIF\n",
       "0      age  21.12\n",
       "1  thalach  18.70\n",
       "4     thal  14.43\n",
       "2  oldpeak   2.11\n",
       "3       ca   1.68"
      ]
     },
     "execution_count": 1739,
     "metadata": {},
     "output_type": "execute_result"
    }
   ],
   "source": [
    "cal_vif(num)"
   ]
  },
  {
   "cell_type": "code",
   "execution_count": 1740,
   "id": "0578820f",
   "metadata": {},
   "outputs": [
    {
     "data": {
      "text/plain": [
       "const      3.793695e-01\n",
       "age        7.352199e-01\n",
       "thalach    7.842122e-07\n",
       "oldpeak    5.696585e-07\n",
       "ca         1.993898e-06\n",
       "thal       3.443457e-06\n",
       "dtype: float64"
      ]
     },
     "execution_count": 1740,
     "metadata": {},
     "output_type": "execute_result"
    }
   ],
   "source": [
    "import statsmodels.api as sm\n",
    "X_num  = sm.add_constant(num)\n",
    "ols_model = sm.OLS(y,X_num)\n",
    "ols_model = ols_model.fit()\n",
    "ols_model.pvalues"
   ]
  },
  {
   "cell_type": "markdown",
   "id": "ae51027a",
   "metadata": {},
   "source": [
    "### I will not drop any numerical column, because p-value is too low "
   ]
  },
  {
   "cell_type": "markdown",
   "id": "d5061a9f",
   "metadata": {},
   "source": [
    "### Split the data into X and y"
   ]
  },
  {
   "cell_type": "code",
   "execution_count": 1741,
   "id": "787cb085",
   "metadata": {},
   "outputs": [],
   "source": [
    "X = data[['age', 'oldpeak', 'thalach','ca', 'thal','cp_ non-anginal pain',\n",
    "       'cp_ typical angina', 'cp_asymptomatic',\n",
    "       'slope_Down_Sloping', 'slope_Flat', 'sex','fbs','exang','restecg']]\n",
    "y = data['target']"
   ]
  },
  {
   "cell_type": "markdown",
   "id": "d4a1b514",
   "metadata": {},
   "source": [
    "### Split the data into train and test"
   ]
  },
  {
   "cell_type": "code",
   "execution_count": 1742,
   "id": "b45c9ba1",
   "metadata": {},
   "outputs": [],
   "source": [
    "from sklearn.model_selection import train_test_split\n",
    "X_train,X_test, y_train, y_test = train_test_split(X,y,test_size=0.20,random_state=42)"
   ]
  },
  {
   "cell_type": "markdown",
   "id": "aea75e01",
   "metadata": {},
   "source": [
    "### Scaling the data"
   ]
  },
  {
   "cell_type": "code",
   "execution_count": 1743,
   "id": "0f3c822b",
   "metadata": {},
   "outputs": [
    {
     "data": {
      "text/plain": [
       "StandardScaler()"
      ]
     },
     "execution_count": 1743,
     "metadata": {},
     "output_type": "execute_result"
    }
   ],
   "source": [
    "from sklearn.preprocessing import StandardScaler\n",
    "sc = StandardScaler()\n",
    "sc.fit(X_train[['age','oldpeak','thalach']])"
   ]
  },
  {
   "cell_type": "code",
   "execution_count": 1744,
   "id": "b71a7c62",
   "metadata": {},
   "outputs": [],
   "source": [
    "X_train[['age', 'oldpeak','thalach']] = sc.transform(X_train[['age', 'oldpeak','thalach']])\n",
    "X_test[['age', 'oldpeak','thalach']] = sc.transform(X_test[['age', 'oldpeak','thalach']])"
   ]
  },
  {
   "cell_type": "markdown",
   "id": "b73ba4c8",
   "metadata": {},
   "source": [
    "###  Model fit using Logistic Regression (Sklearn) Gradient Descent"
   ]
  },
  {
   "cell_type": "code",
   "execution_count": 1745,
   "id": "5d6f48c9",
   "metadata": {},
   "outputs": [
    {
     "data": {
      "text/plain": [
       "LogisticRegression()"
      ]
     },
     "execution_count": 1745,
     "metadata": {},
     "output_type": "execute_result"
    }
   ],
   "source": [
    "from sklearn.linear_model import LogisticRegression\n",
    "model = LogisticRegression()\n",
    "model.fit(X_train,y_train)"
   ]
  },
  {
   "cell_type": "code",
   "execution_count": 1746,
   "id": "c52ca79a",
   "metadata": {},
   "outputs": [],
   "source": [
    "y_pred = model.predict(X_test)"
   ]
  },
  {
   "cell_type": "code",
   "execution_count": 1747,
   "id": "bee55126",
   "metadata": {},
   "outputs": [
    {
     "data": {
      "text/plain": [
       "array([[0.07585042, 0.92414958],\n",
       "       [0.24406871, 0.75593129],\n",
       "       [0.02903774, 0.97096226],\n",
       "       [0.87832042, 0.12167958],\n",
       "       [0.92378163, 0.07621837],\n",
       "       [0.11135229, 0.88864771],\n",
       "       [0.97300938, 0.02699062],\n",
       "       [0.01725556, 0.98274444],\n",
       "       [0.98446166, 0.01553834],\n",
       "       [0.73118952, 0.26881048],\n",
       "       [0.62302762, 0.37697238],\n",
       "       [0.44457014, 0.55542986],\n",
       "       [0.46437936, 0.53562064],\n",
       "       [0.64719639, 0.35280361],\n",
       "       [0.25070718, 0.74929282],\n",
       "       [0.04381461, 0.95618539],\n",
       "       [0.97603418, 0.02396582],\n",
       "       [0.82207201, 0.17792799],\n",
       "       [0.04401478, 0.95598522],\n",
       "       [0.22107527, 0.77892473],\n",
       "       [0.96475121, 0.03524879],\n",
       "       [0.19128297, 0.80871703],\n",
       "       [0.89921468, 0.10078532],\n",
       "       [0.02218808, 0.97781192],\n",
       "       [0.23392021, 0.76607979],\n",
       "       [0.78957172, 0.21042828],\n",
       "       [0.54610609, 0.45389391],\n",
       "       [0.87890842, 0.12109158],\n",
       "       [0.10583177, 0.89416823],\n",
       "       [0.29584175, 0.70415825],\n",
       "       [0.53146538, 0.46853462],\n",
       "       [0.34337842, 0.65662158],\n",
       "       [0.9579438 , 0.0420562 ],\n",
       "       [0.87470768, 0.12529232],\n",
       "       [0.07579694, 0.92420306],\n",
       "       [0.98109232, 0.01890768],\n",
       "       [0.06459039, 0.93540961],\n",
       "       [0.28321215, 0.71678785],\n",
       "       [0.96589904, 0.03410096],\n",
       "       [0.9419284 , 0.0580716 ],\n",
       "       [0.88508622, 0.11491378],\n",
       "       [0.58504816, 0.41495184],\n",
       "       [0.11710622, 0.88289378],\n",
       "       [0.32011321, 0.67988679],\n",
       "       [0.9381634 , 0.0618366 ],\n",
       "       [0.04650541, 0.95349459],\n",
       "       [0.58266448, 0.41733552],\n",
       "       [0.97595475, 0.02404525],\n",
       "       [0.68884851, 0.31115149],\n",
       "       [0.06439762, 0.93560238],\n",
       "       [0.88916493, 0.11083507],\n",
       "       [0.93918941, 0.06081059],\n",
       "       [0.10856154, 0.89143846],\n",
       "       [0.97784336, 0.02215664],\n",
       "       [0.19558308, 0.80441692],\n",
       "       [0.25104451, 0.74895549],\n",
       "       [0.98878776, 0.01121224],\n",
       "       [0.21248686, 0.78751314]])"
      ]
     },
     "execution_count": 1747,
     "metadata": {},
     "output_type": "execute_result"
    }
   ],
   "source": [
    "y_pred_proba = model.predict_proba(X_test)\n",
    "y_pred_proba"
   ]
  },
  {
   "cell_type": "code",
   "execution_count": 1748,
   "id": "9d67fdf7",
   "metadata": {},
   "outputs": [
    {
     "name": "stdout",
     "output_type": "stream",
     "text": [
      "Confusion matrix =>\n",
      " [[26  4]\n",
      " [ 4 24]]\n",
      "Accuracy => 0.8620689655172413\n"
     ]
    }
   ],
   "source": [
    "from sklearn.metrics import accuracy_score, confusion_matrix\n",
    "print(f'Confusion matrix =>\\n {confusion_matrix(y_test,y_pred)}')\n",
    "print(f'Accuracy => {accuracy_score(y_test,y_pred)}')"
   ]
  },
  {
   "cell_type": "markdown",
   "id": "639471a5",
   "metadata": {},
   "source": [
    "### `86.2% Accuracy through Gradient Descent`"
   ]
  },
  {
   "cell_type": "markdown",
   "id": "a746c911",
   "metadata": {},
   "source": [
    "### `Finding threshold probability manually, just adjust threshold by manually`"
   ]
  },
  {
   "cell_type": "code",
   "execution_count": 1778,
   "id": "e8fe94f3",
   "metadata": {},
   "outputs": [
    {
     "data": {
      "text/plain": [
       "1    0.559441\n",
       "0    0.440559\n",
       "Name: target, dtype: float64"
      ]
     },
     "execution_count": 1778,
     "metadata": {},
     "output_type": "execute_result"
    }
   ],
   "source": [
    "data['target'].value_counts() / data.shape[0]"
   ]
  },
  {
   "cell_type": "code",
   "execution_count": 1781,
   "id": "c05ff49b",
   "metadata": {},
   "outputs": [],
   "source": [
    "import numpy as np\n",
    "y_pred = np.where(y_pred_proba[:,1]<0.559441,0,1)"
   ]
  },
  {
   "cell_type": "code",
   "execution_count": 1782,
   "id": "441840df",
   "metadata": {},
   "outputs": [
    {
     "name": "stdout",
     "output_type": "stream",
     "text": [
      "Confusion matrix =>\n",
      " [[26  4]\n",
      " [ 6 22]]\n",
      "Accuracy => 0.8275862068965517\n"
     ]
    }
   ],
   "source": [
    "from sklearn.metrics import accuracy_score, confusion_matrix\n",
    "print(f'Confusion matrix =>\\n {confusion_matrix(y_test.astype(int),y_pred)}')\n",
    "print(f'Accuracy => {accuracy_score(y_test.astype(int),y_pred)}')"
   ]
  },
  {
   "cell_type": "markdown",
   "id": "277ba884",
   "metadata": {},
   "source": [
    "### `Finding best threshold probability using log loss ---------------------------------`"
   ]
  },
  {
   "cell_type": "code",
   "execution_count": 1783,
   "id": "37b79a81",
   "metadata": {},
   "outputs": [],
   "source": [
    "class threshold:\n",
    "    def __init__(self):\n",
    "        self.th = 0.5\n",
    "        \n",
    "    def predict_threshold(self,y):\n",
    "        if y >= self.th:\n",
    "            return 1\n",
    "        return 0"
   ]
  },
  {
   "cell_type": "code",
   "execution_count": 1784,
   "id": "a730e471",
   "metadata": {},
   "outputs": [],
   "source": [
    "from sklearn.metrics import log_loss"
   ]
  },
  {
   "cell_type": "code",
   "execution_count": 1785,
   "id": "ee2686e6",
   "metadata": {},
   "outputs": [
    {
     "data": {
      "text/plain": [
       "array([1, 1, 1, 0, 0, 1, 0, 1, 0, 0, 0, 0, 0, 0, 1, 1, 0, 0, 1, 1, 0, 1,\n",
       "       0, 1, 1, 0, 0, 0, 1, 1, 0, 1, 0, 0, 1, 0, 1, 1, 0, 0, 0, 0, 1, 1,\n",
       "       0, 1, 0, 0, 0, 1, 0, 0, 1, 0, 1, 1, 0, 1])"
      ]
     },
     "execution_count": 1785,
     "metadata": {},
     "output_type": "execute_result"
    }
   ],
   "source": [
    "y_pred"
   ]
  },
  {
   "cell_type": "markdown",
   "id": "f833ac1b",
   "metadata": {},
   "source": [
    "### `finding threshold through LogLoss`"
   ]
  },
  {
   "cell_type": "code",
   "execution_count": 1786,
   "id": "c51efbc0",
   "metadata": {},
   "outputs": [],
   "source": [
    "lr_prob = y_pred_proba[:,1]\n",
    "different_threshold = np.linspace(0,1,num=10)\n",
    "pre = threshold()\n",
    "log_losses = []\n",
    "for t in different_threshold:\n",
    "    pre.th = t\n",
    "    yy = pd.Series(lr_prob)\n",
    "    y_pred = yy.apply(pre.predict_threshold)\n",
    "    loss = log_loss(y_test.astype(int),y_pred.astype(int))\n",
    "    log_losses.append(loss)"
   ]
  },
  {
   "cell_type": "markdown",
   "id": "36e1e09f",
   "metadata": {},
   "source": [
    "### `plotting thresholds`"
   ]
  },
  {
   "cell_type": "code",
   "execution_count": 1787,
   "id": "e0915dda",
   "metadata": {},
   "outputs": [
    {
     "data": {
      "image/png": "[encoded data removed]",
      "text/plain": [
       "<Figure size 1728x576 with 1 Axes>"
      ]
     },
     "metadata": {
      "needs_background": "light"
     },
     "output_type": "display_data"
    }
   ],
   "source": [
    "plt.figure(figsize=(24,8))\n",
    "plt.plot(different_threshold,log_losses)\n",
    "\n",
    "for i,p in enumerate(different_threshold):\n",
    "    plt.text(different_threshold[i],log_losses[i],\"%0.2f\"%(p),fontsize=15)\n",
    "\n",
    "plt.xlabel(\"proba\",fontsize=20)\n",
    "plt.ylabel(\"log loss\",fontsize=20)\n",
    "plt.show()"
   ]
  },
  {
   "cell_type": "code",
   "execution_count": 1788,
   "id": "1673aa7a",
   "metadata": {},
   "outputs": [
    {
     "data": {
      "text/plain": [
       "0.5555555555555556"
      ]
     },
     "execution_count": 1788,
     "metadata": {},
     "output_type": "execute_result"
    }
   ],
   "source": [
    "index = np.array(log_losses).argmin()   # best threshold\n",
    "different_threshold[index]"
   ]
  },
  {
   "cell_type": "markdown",
   "id": "ebbe0334",
   "metadata": {},
   "source": [
    " ### `Best threshold probability using with log loss is 0.5555555555555556`"
   ]
  },
  {
   "cell_type": "markdown",
   "id": "fc9f4390",
   "metadata": {},
   "source": [
    "### Use the Performance Metrics and Write the Observations for every Metric\n",
    "![](https://www.kdnuggets.com/wp-content/uploads/nagesh-metrics-1.png)\n",
    " Confusion Matrix\n",
    " Precision\n",
    " Recall\n",
    " Specificity\n",
    " Sensitivity\n",
    " Accuracy\n",
    " F1-score\n",
    " True Positive Rate\n",
    " False Positive Rate\n",
    " Classification Report\n",
    " ROC_AUC Curve\n",
    " Cohen Kappa Score\n",
    "\n",
    "### `fit the model ------------------------`"
   ]
  },
  {
   "cell_type": "code",
   "execution_count": 1789,
   "id": "bd30cbd9",
   "metadata": {},
   "outputs": [
    {
     "name": "stdout",
     "output_type": "stream",
     "text": [
      "Accuracy => 0.8275862068965517\n"
     ]
    }
   ],
   "source": [
    "y_pred = np.where(y_pred_proba[:,1]<0.5555555555555556,0,1)\n",
    "print(f'Accuracy => {accuracy_score(y_test.astype(int),y_pred)}')"
   ]
  },
  {
   "cell_type": "markdown",
   "id": "78e37e7c",
   "metadata": {},
   "source": [
    "#### `Model is 82.7% accurate`"
   ]
  },
  {
   "cell_type": "markdown",
   "id": "4f972f62",
   "metadata": {},
   "source": [
    "### `Confusion Matrix`"
   ]
  },
  {
   "cell_type": "code",
   "execution_count": 1790,
   "id": "4d27afa4",
   "metadata": {},
   "outputs": [
    {
     "name": "stdout",
     "output_type": "stream",
     "text": [
      "Confusion matrix =>\n",
      " [[26  4]\n",
      " [ 6 22]]\n"
     ]
    }
   ],
   "source": [
    "print(f'Confusion matrix =>\\n {confusion_matrix(y_test.astype(int),y_pred)}')"
   ]
  },
  {
   "cell_type": "markdown",
   "id": "6bfc2333",
   "metadata": {},
   "source": [
    "### `Precision = TP / ( TP + FP ) `"
   ]
  },
  {
   "cell_type": "code",
   "execution_count": 1791,
   "id": "a580f7ba",
   "metadata": {},
   "outputs": [
    {
     "name": "stdout",
     "output_type": "stream",
     "text": [
      "Precision => 0.8461538461538461\n"
     ]
    }
   ],
   "source": [
    "from sklearn.metrics import precision_score\n",
    "print(f'Precision => {precision_score(y_test.astype(int),y_pred)}')"
   ]
  },
  {
   "cell_type": "markdown",
   "id": "8242b3b6",
   "metadata": {},
   "source": [
    "#### `Model is 85.7% predicting precise results`"
   ]
  },
  {
   "cell_type": "markdown",
   "id": "3733a87e",
   "metadata": {},
   "source": [
    "### `Recall / Senstivity / True Positive Rate = TP / ( TP + FN )`\n",
    "- **Effectiveness of a classifier to identify positive labels**"
   ]
  },
  {
   "cell_type": "code",
   "execution_count": 1792,
   "id": "caf6081b",
   "metadata": {},
   "outputs": [
    {
     "name": "stdout",
     "output_type": "stream",
     "text": [
      "Recall => 0.7857142857142857\n"
     ]
    }
   ],
   "source": [
    "from sklearn.metrics import recall_score\n",
    "print(f'Recall => {recall_score(y_test.astype(int),y_pred)}')"
   ]
  },
  {
   "cell_type": "markdown",
   "id": "7ffe2ed8",
   "metadata": {},
   "source": [
    "#### `Model is 85.7% identifying positive labels`"
   ]
  },
  {
   "cell_type": "markdown",
   "id": "1e6215f6",
   "metadata": {},
   "source": []
  },
  {
   "cell_type": "markdown",
   "id": "441a5b34",
   "metadata": {},
   "source": [
    "### `Specicificity / True Negative Rate = TN / ( TN + FP )`\n",
    "- **Effectiveness of a classifier to identify negative labels**"
   ]
  },
  {
   "cell_type": "code",
   "execution_count": 1793,
   "id": "a6f9dd6f",
   "metadata": {},
   "outputs": [
    {
     "data": {
      "text/plain": [
       "0.8846153846153846"
      ]
     },
     "execution_count": 1793,
     "metadata": {},
     "output_type": "execute_result"
    }
   ],
   "source": [
    "Senstivity = 23 / (23 + 3)\n",
    "Senstivity"
   ]
  },
  {
   "cell_type": "markdown",
   "id": "ce67b393",
   "metadata": {},
   "source": [
    "#### `Model is 88.4% identifying negative labels`"
   ]
  },
  {
   "cell_type": "markdown",
   "id": "7884382b",
   "metadata": {},
   "source": [
    "### `Accuracy = ( TP + TN ) / ( TN + FN + TP + FP )`"
   ]
  },
  {
   "cell_type": "code",
   "execution_count": 1794,
   "id": "5021e932",
   "metadata": {},
   "outputs": [
    {
     "name": "stdout",
     "output_type": "stream",
     "text": [
      "Accuracy => 0.8275862068965517\n"
     ]
    }
   ],
   "source": [
    "from sklearn.metrics import accuracy_score\n",
    "print(f'Accuracy => {accuracy_score(y_test.astype(int),y_pred)}')"
   ]
  },
  {
   "cell_type": "markdown",
   "id": "8814f073",
   "metadata": {},
   "source": [
    "#### `Model is 86.2% accurate`"
   ]
  },
  {
   "cell_type": "markdown",
   "id": "c438a4a7",
   "metadata": {},
   "source": [
    "### `F1-score = 2 * Precision * Recall / ( Precision + Recall )`"
   ]
  },
  {
   "cell_type": "code",
   "execution_count": 1795,
   "id": "ea4378cc",
   "metadata": {},
   "outputs": [
    {
     "name": "stdout",
     "output_type": "stream",
     "text": [
      "F1-score => 0.8148148148148148\n"
     ]
    }
   ],
   "source": [
    "from sklearn.metrics import f1_score\n",
    "print(f'F1-score => {f1_score(y_test.astype(int),y_pred)}')"
   ]
  },
  {
   "cell_type": "markdown",
   "id": "78203650",
   "metadata": {},
   "source": [
    "#### `Model is 85.7% balanced between recall and precision`"
   ]
  },
  {
   "cell_type": "markdown",
   "id": "30182e90",
   "metadata": {},
   "source": [
    "### `False Positive Rate = FP / ( TN + FP )`"
   ]
  },
  {
   "cell_type": "code",
   "execution_count": 1797,
   "id": "8018e05f",
   "metadata": {},
   "outputs": [
    {
     "data": {
      "text/plain": [
       "0.10714285714285714"
      ]
     },
     "execution_count": 1797,
     "metadata": {},
     "output_type": "execute_result"
    }
   ],
   "source": [
    "false = 3 / ( 3 + 25 )\n",
    "false"
   ]
  },
  {
   "cell_type": "markdown",
   "id": "031e8e68",
   "metadata": {},
   "source": [
    "#### `It is a type 1 error rate, 10% is good FPR`"
   ]
  },
  {
   "cell_type": "markdown",
   "id": "f695884a",
   "metadata": {},
   "source": [
    "### `Classification Report`"
   ]
  },
  {
   "cell_type": "code",
   "execution_count": 1798,
   "id": "dbf58992",
   "metadata": {},
   "outputs": [
    {
     "name": "stdout",
     "output_type": "stream",
     "text": [
      "Classification Report: => \n",
      "              precision    recall  f1-score   support\n",
      "\n",
      "           0       0.81      0.87      0.84        30\n",
      "           1       0.85      0.79      0.81        28\n",
      "\n",
      "    accuracy                           0.83        58\n",
      "   macro avg       0.83      0.83      0.83        58\n",
      "weighted avg       0.83      0.83      0.83        58\n",
      "\n"
     ]
    }
   ],
   "source": [
    "from sklearn.metrics import classification_report\n",
    "print(f'Classification Report: => \\n{classification_report(y_test.astype(int),y_pred)}')"
   ]
  },
  {
   "cell_type": "markdown",
   "id": "832e3d90",
   "metadata": {},
   "source": [
    "### `ROC_AUC curve`"
   ]
  },
  {
   "cell_type": "code",
   "execution_count": 1799,
   "id": "a9eb616d",
   "metadata": {},
   "outputs": [
    {
     "data": {
      "image/png": "[encoded data removed]",
      "text/plain": [
       "<Figure size 432x288 with 1 Axes>"
      ]
     },
     "metadata": {
      "needs_background": "light"
     },
     "output_type": "display_data"
    },
    {
     "name": "stdout",
     "output_type": "stream",
     "text": [
      "AUC is => 0.8999999999999999\n"
     ]
    }
   ],
   "source": [
    "from sklearn.metrics import roc_curve,roc_auc_score\n",
    "\n",
    "ns_prob = [0 for _ in range(len(y_test))] # bad algo where FPR and TPR are same\n",
    "ns_fpr,ns_tpr,thresholds_1 = roc_curve(y_test,ns_prob)\n",
    "\n",
    "lr_prob = y_pred_proba[:,1]   # logistic regression   \n",
    "lr_fpr,lr_tpr,thesholds_2 = roc_curve(y_test,lr_prob)\n",
    "lr_auc = roc_auc_score(y_test,lr_prob)\n",
    "\n",
    "plt.plot(lr_fpr,lr_tpr,marker='.',label='Logistic Regression')  # plotting\n",
    "plt.plot(ns_fpr,ns_tpr,marker='.',label='Bad Random Algo')\n",
    "plt.xlabel('False Positive Rate')\n",
    "plt.ylabel('True Positive Rate')\n",
    "plt.legend()\n",
    "plt.show()\n",
    "\n",
    "\n",
    "print(f'AUC is => {lr_auc}')"
   ]
  },
  {
   "cell_type": "markdown",
   "id": "b1b9c62c",
   "metadata": {},
   "source": [
    "#### `Here Area Under the Curve (AUC) is ~ 90%`"
   ]
  },
  {
   "cell_type": "markdown",
   "id": "42a053ba",
   "metadata": {},
   "source": [
    "### `Kohen Kappa Score`"
   ]
  },
  {
   "cell_type": "code",
   "execution_count": 1800,
   "id": "318c3e53",
   "metadata": {},
   "outputs": [
    {
     "name": "stdout",
     "output_type": "stream",
     "text": [
      "cohen_kappa_score: => 0.6539379474940334\n"
     ]
    }
   ],
   "source": [
    "from sklearn.metrics import cohen_kappa_score\n",
    "print(f'cohen_kappa_score: => {cohen_kappa_score(y_test.astype(int),y_pred)}')"
   ]
  },
  {
   "cell_type": "markdown",
   "id": "ed30bf6e",
   "metadata": {},
   "source": [
    "### `Iterpretation`\n",
    "- I have drroped one categorical column fbs and one numerical column chol as it is not related to target variable\n",
    "- I have done the log transformation of trestbps to remove skewness which increases accuracy by 1.5 %\n",
    "- I have removed multicollinearity and selected features by feature selection\n",
    "- I have used logloss to find best threshold value\n",
    "- I have also calculated ROC and AUC to check the performance of the model\n",
    "- By **logloss** I am getting the accuracy of 82.5%\n",
    "- By **Gradient descent** I am getting the accuracy of 86.2%"
   ]
  },
  {
   "cell_type": "markdown",
   "id": "ee1c7434",
   "metadata": {},
   "source": [
    "## `End ---------------------------------------------------------`"
   ]
  }
 ],
 "metadata": {
  "kernelspec": {
   "display_name": "Python 3",
   "language": "python",
   "name": "python3"
  },
  "language_info": {
   "codemirror_mode": {
    "name": "ipython",
    "version": 3
   },
   "file_extension": ".py",
   "mimetype": "text/x-python",
   "name": "python",
   "nbconvert_exporter": "python",
   "pygments_lexer": "ipython3",
   "version": "3.8.8"
  }
 },
 "nbformat": 4,
 "nbformat_minor": 5
}
