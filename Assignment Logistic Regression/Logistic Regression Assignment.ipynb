{
 "cells": [
  {
   "cell_type": "markdown",
   "id": "9527549d",
   "metadata": {},
   "source": [
    "# `Logistic Regression Assignment -----------------------------------`"
   ]
  },
  {
   "cell_type": "code",
   "execution_count": 608,
   "id": "ef4cc16e",
   "metadata": {},
   "outputs": [],
   "source": [
    "import pandas as pd\n",
    "import numpy as np\n",
    "import seaborn as sns\n",
    "import matplotlib.pyplot as plt\n",
    "import warnings\n",
    "warnings.filterwarnings('ignore')"
   ]
  },
  {
   "cell_type": "code",
   "execution_count": 609,
   "id": "cfb35f8e",
   "metadata": {},
   "outputs": [
    {
     "data": {
      "text/html": [
       "<div>\n",
       "<style scoped>\n",
       "    .dataframe tbody tr th:only-of-type {\n",
       "        vertical-align: middle;\n",
       "    }\n",
       "\n",
       "    .dataframe tbody tr th {\n",
       "        vertical-align: top;\n",
       "    }\n",
       "\n",
       "    .dataframe thead th {\n",
       "        text-align: right;\n",
       "    }\n",
       "</style>\n",
       "<table border=\"1\" class=\"dataframe\">\n",
       "  <thead>\n",
       "    <tr style=\"text-align: right;\">\n",
       "      <th></th>\n",
       "      <th>age</th>\n",
       "      <th>sex</th>\n",
       "      <th>cp</th>\n",
       "      <th>trestbps</th>\n",
       "      <th>chol</th>\n",
       "      <th>fbs</th>\n",
       "      <th>restecg</th>\n",
       "      <th>thalach</th>\n",
       "      <th>exang</th>\n",
       "      <th>oldpeak</th>\n",
       "      <th>slope</th>\n",
       "      <th>ca</th>\n",
       "      <th>thal</th>\n",
       "      <th>target</th>\n",
       "    </tr>\n",
       "  </thead>\n",
       "  <tbody>\n",
       "    <tr>\n",
       "      <th>0</th>\n",
       "      <td>63</td>\n",
       "      <td>Male</td>\n",
       "      <td>asymptomatic</td>\n",
       "      <td>145</td>\n",
       "      <td>233</td>\n",
       "      <td>True</td>\n",
       "      <td>Normal</td>\n",
       "      <td>150</td>\n",
       "      <td>No</td>\n",
       "      <td>2.3</td>\n",
       "      <td>Up_Sloping</td>\n",
       "      <td>0</td>\n",
       "      <td>1</td>\n",
       "      <td>Yes</td>\n",
       "    </tr>\n",
       "    <tr>\n",
       "      <th>1</th>\n",
       "      <td>37</td>\n",
       "      <td>Male</td>\n",
       "      <td>non-anginal pain</td>\n",
       "      <td>130</td>\n",
       "      <td>250</td>\n",
       "      <td>False</td>\n",
       "      <td>Not_Normal</td>\n",
       "      <td>187</td>\n",
       "      <td>No</td>\n",
       "      <td>3.5</td>\n",
       "      <td>Up_Sloping</td>\n",
       "      <td>0</td>\n",
       "      <td>2</td>\n",
       "      <td>Yes</td>\n",
       "    </tr>\n",
       "    <tr>\n",
       "      <th>2</th>\n",
       "      <td>41</td>\n",
       "      <td>Female</td>\n",
       "      <td>atypical angina</td>\n",
       "      <td>130</td>\n",
       "      <td>204</td>\n",
       "      <td>False</td>\n",
       "      <td>Normal</td>\n",
       "      <td>172</td>\n",
       "      <td>No</td>\n",
       "      <td>1.4</td>\n",
       "      <td>Down_Sloping</td>\n",
       "      <td>0</td>\n",
       "      <td>2</td>\n",
       "      <td>Yes</td>\n",
       "    </tr>\n",
       "    <tr>\n",
       "      <th>3</th>\n",
       "      <td>56</td>\n",
       "      <td>Male</td>\n",
       "      <td>atypical angina</td>\n",
       "      <td>120</td>\n",
       "      <td>236</td>\n",
       "      <td>False</td>\n",
       "      <td>Not_Normal</td>\n",
       "      <td>178</td>\n",
       "      <td>No</td>\n",
       "      <td>0.8</td>\n",
       "      <td>Down_Sloping</td>\n",
       "      <td>0</td>\n",
       "      <td>2</td>\n",
       "      <td>Yes</td>\n",
       "    </tr>\n",
       "    <tr>\n",
       "      <th>4</th>\n",
       "      <td>57</td>\n",
       "      <td>Female</td>\n",
       "      <td>typical angina</td>\n",
       "      <td>120</td>\n",
       "      <td>354</td>\n",
       "      <td>False</td>\n",
       "      <td>Not_Normal</td>\n",
       "      <td>163</td>\n",
       "      <td>Yes</td>\n",
       "      <td>0.6</td>\n",
       "      <td>Down_Sloping</td>\n",
       "      <td>0</td>\n",
       "      <td>2</td>\n",
       "      <td>Yes</td>\n",
       "    </tr>\n",
       "  </tbody>\n",
       "</table>\n",
       "</div>"
      ],
      "text/plain": [
       "   age     sex                 cp  trestbps  chol    fbs     restecg  thalach  \\\n",
       "0   63    Male       asymptomatic       145   233   True      Normal      150   \n",
       "1   37    Male   non-anginal pain       130   250  False  Not_Normal      187   \n",
       "2   41  Female    atypical angina       130   204  False      Normal      172   \n",
       "3   56    Male    atypical angina       120   236  False  Not_Normal      178   \n",
       "4   57  Female     typical angina       120   354  False  Not_Normal      163   \n",
       "\n",
       "  exang  oldpeak         slope  ca  thal target  \n",
       "0    No      2.3    Up_Sloping   0     1    Yes  \n",
       "1    No      3.5    Up_Sloping   0     2    Yes  \n",
       "2    No      1.4  Down_Sloping   0     2    Yes  \n",
       "3    No      0.8  Down_Sloping   0     2    Yes  \n",
       "4   Yes      0.6  Down_Sloping   0     2    Yes  "
      ]
     },
     "execution_count": 609,
     "metadata": {},
     "output_type": "execute_result"
    }
   ],
   "source": [
    "data = pd.read_csv('heart.csv',sep='\\t')   # here separator is \\t\n",
    "data.head()"
   ]
  },
  {
   "cell_type": "code",
   "execution_count": 610,
   "id": "fb1d625c",
   "metadata": {},
   "outputs": [
    {
     "data": {
      "text/plain": [
       "(303, 14)"
      ]
     },
     "execution_count": 610,
     "metadata": {},
     "output_type": "execute_result"
    }
   ],
   "source": [
    "data.shape"
   ]
  },
  {
   "cell_type": "code",
   "execution_count": 611,
   "id": "d634ed26",
   "metadata": {},
   "outputs": [
    {
     "data": {
      "text/plain": [
       "Index(['age', 'sex', 'cp', 'trestbps', 'chol', 'fbs', 'restecg', 'thalach',\n",
       "       'exang', 'oldpeak', 'slope', 'ca', 'thal', 'target'],\n",
       "      dtype='object')"
      ]
     },
     "execution_count": 611,
     "metadata": {},
     "output_type": "execute_result"
    }
   ],
   "source": [
    "data.columns"
   ]
  },
  {
   "cell_type": "code",
   "execution_count": 612,
   "id": "00994ac2",
   "metadata": {
    "scrolled": true
   },
   "outputs": [
    {
     "data": {
      "text/plain": [
       "age           int64\n",
       "sex          object\n",
       "cp           object\n",
       "trestbps      int64\n",
       "chol          int64\n",
       "fbs            bool\n",
       "restecg      object\n",
       "thalach       int64\n",
       "exang        object\n",
       "oldpeak     float64\n",
       "slope        object\n",
       "ca            int64\n",
       "thal          int64\n",
       "target       object\n",
       "dtype: object"
      ]
     },
     "execution_count": 612,
     "metadata": {},
     "output_type": "execute_result"
    }
   ],
   "source": [
    "data.dtypes"
   ]
  },
  {
   "cell_type": "code",
   "execution_count": 613,
   "id": "8025625c",
   "metadata": {},
   "outputs": [],
   "source": [
    "data['fbs'] = data['fbs'].astype('object')"
   ]
  },
  {
   "cell_type": "code",
   "execution_count": 614,
   "id": "03e9b8d6",
   "metadata": {},
   "outputs": [
    {
     "data": {
      "text/plain": [
       "age         0\n",
       "sex         0\n",
       "cp          0\n",
       "trestbps    0\n",
       "chol        0\n",
       "fbs         0\n",
       "restecg     0\n",
       "thalach     0\n",
       "exang       0\n",
       "oldpeak     0\n",
       "slope       0\n",
       "ca          0\n",
       "thal        0\n",
       "target      0\n",
       "dtype: int64"
      ]
     },
     "execution_count": 614,
     "metadata": {},
     "output_type": "execute_result"
    }
   ],
   "source": [
    "data.isnull().sum()   # bam!! we are lucky"
   ]
  },
  {
   "cell_type": "code",
   "execution_count": 615,
   "id": "afb92882",
   "metadata": {},
   "outputs": [],
   "source": [
    "target = 'target'\n",
    "cont_columns = data.select_dtypes(['int64','float64']).columns\n",
    "cat_columns = list(filter(lambda x: x!='target',data.select_dtypes('object').columns))"
   ]
  },
  {
   "cell_type": "code",
   "execution_count": 616,
   "id": "285fb288",
   "metadata": {},
   "outputs": [
    {
     "data": {
      "text/plain": [
       "Index(['age', 'trestbps', 'chol', 'thalach', 'oldpeak', 'ca', 'thal'], dtype='object')"
      ]
     },
     "execution_count": 616,
     "metadata": {},
     "output_type": "execute_result"
    }
   ],
   "source": [
    "cont_columns"
   ]
  },
  {
   "cell_type": "code",
   "execution_count": 617,
   "id": "cc1958db",
   "metadata": {},
   "outputs": [
    {
     "data": {
      "text/plain": [
       "['sex', 'cp', 'fbs', 'restecg', 'exang', 'slope']"
      ]
     },
     "execution_count": 617,
     "metadata": {},
     "output_type": "execute_result"
    }
   ],
   "source": [
    "cat_columns"
   ]
  },
  {
   "cell_type": "markdown",
   "id": "de767c46",
   "metadata": {},
   "source": [
    "### Variables\n",
    "#### Cat\n",
    "- sex\n",
    "- cp\n",
    "- fbs\n",
    "- restecg      \n",
    "- exang   \n",
    "- slope   \n",
    "- target\n",
    "\n",
    "#### Num\n",
    "- age\n",
    "- trestbps  \n",
    "- chol\n",
    "- thalach\n",
    "- oldpeak     \n",
    "- ca            \n",
    "- thal"
   ]
  },
  {
   "cell_type": "markdown",
   "id": "036a9fdb",
   "metadata": {},
   "source": [
    "## `Univariate Analysis`\n",
    "### `Categorical Columns`\n",
    "### Sex"
   ]
  },
  {
   "cell_type": "code",
   "execution_count": 618,
   "id": "ae29f564",
   "metadata": {},
   "outputs": [
    {
     "data": {
      "text/plain": [
       "Male      207\n",
       "Female     96\n",
       "Name: sex, dtype: int64"
      ]
     },
     "execution_count": 618,
     "metadata": {},
     "output_type": "execute_result"
    }
   ],
   "source": [
    "data['sex'].value_counts()"
   ]
  },
  {
   "cell_type": "code",
   "execution_count": 619,
   "id": "4bfb637f",
   "metadata": {},
   "outputs": [
    {
     "data": {
      "text/plain": [
       "<AxesSubplot:xlabel='sex', ylabel='count'>"
      ]
     },
     "execution_count": 619,
     "metadata": {},
     "output_type": "execute_result"
    },
    {
     "data": {
      "image/png": "[encoded data removed]",
      "text/plain": [
       "<Figure size 432x288 with 1 Axes>"
      ]
     },
     "metadata": {
      "needs_background": "light"
     },
     "output_type": "display_data"
    }
   ],
   "source": [
    "sns.countplot(data['sex'])"
   ]
  },
  {
   "cell_type": "markdown",
   "id": "ddc71bb9",
   "metadata": {},
   "source": [
    "### cp\n",
    "- Chest Pain the types of angina that are described in the research paper. The higher the number, the lesser are the odds of heart attack. "
   ]
  },
  {
   "cell_type": "code",
   "execution_count": 620,
   "id": "2f982ab3",
   "metadata": {},
   "outputs": [
    {
     "data": {
      "text/plain": [
       " typical angina      143\n",
       " non-anginal pain     87\n",
       "atypical angina       50\n",
       "asymptomatic          23\n",
       "Name: cp, dtype: int64"
      ]
     },
     "execution_count": 620,
     "metadata": {},
     "output_type": "execute_result"
    }
   ],
   "source": [
    "data['cp'].value_counts()"
   ]
  },
  {
   "cell_type": "code",
   "execution_count": 621,
   "id": "3dedb64b",
   "metadata": {},
   "outputs": [
    {
     "data": {
      "image/png": "[encoded data removed]",
      "text/plain": [
       "<Figure size 720x504 with 1 Axes>"
      ]
     },
     "metadata": {},
     "output_type": "display_data"
    }
   ],
   "source": [
    "plt.figure(figsize=(10,7))\n",
    "plt.pie(data['cp'].value_counts(),labels=['typical angina','non-anginal pain','atypical angina','asymptomatic']);"
   ]
  },
  {
   "cell_type": "markdown",
   "id": "c557ab59",
   "metadata": {},
   "source": [
    "### restecg\n",
    "- Rest ECG results means ECG values taken while person is on rest which means no exercise and normal functioning of heart is happening"
   ]
  },
  {
   "cell_type": "code",
   "execution_count": 622,
   "id": "b98bb57e",
   "metadata": {},
   "outputs": [
    {
     "data": {
      "text/plain": [
       "Not_Normal    154\n",
       "Normal        147\n",
       "2               2\n",
       "Name: restecg, dtype: int64"
      ]
     },
     "execution_count": 622,
     "metadata": {},
     "output_type": "execute_result"
    }
   ],
   "source": [
    "data['restecg'].value_counts()"
   ]
  },
  {
   "cell_type": "markdown",
   "id": "34116b5a",
   "metadata": {},
   "source": [
    "### drop unnecessary entry"
   ]
  },
  {
   "cell_type": "code",
   "execution_count": 623,
   "id": "a3c0e0d4",
   "metadata": {},
   "outputs": [
    {
     "data": {
      "text/html": [
       "<div>\n",
       "<style scoped>\n",
       "    .dataframe tbody tr th:only-of-type {\n",
       "        vertical-align: middle;\n",
       "    }\n",
       "\n",
       "    .dataframe tbody tr th {\n",
       "        vertical-align: top;\n",
       "    }\n",
       "\n",
       "    .dataframe thead th {\n",
       "        text-align: right;\n",
       "    }\n",
       "</style>\n",
       "<table border=\"1\" class=\"dataframe\">\n",
       "  <thead>\n",
       "    <tr style=\"text-align: right;\">\n",
       "      <th></th>\n",
       "      <th>age</th>\n",
       "      <th>sex</th>\n",
       "      <th>cp</th>\n",
       "      <th>trestbps</th>\n",
       "      <th>chol</th>\n",
       "      <th>fbs</th>\n",
       "      <th>restecg</th>\n",
       "      <th>thalach</th>\n",
       "      <th>exang</th>\n",
       "      <th>oldpeak</th>\n",
       "      <th>slope</th>\n",
       "      <th>ca</th>\n",
       "      <th>thal</th>\n",
       "      <th>target</th>\n",
       "    </tr>\n",
       "  </thead>\n",
       "  <tbody>\n",
       "    <tr>\n",
       "      <th>289</th>\n",
       "      <td>55</td>\n",
       "      <td>Female</td>\n",
       "      <td>typical angina</td>\n",
       "      <td>128</td>\n",
       "      <td>205</td>\n",
       "      <td>False</td>\n",
       "      <td>2</td>\n",
       "      <td>130</td>\n",
       "      <td>Yes</td>\n",
       "      <td>2.0</td>\n",
       "      <td>Flat</td>\n",
       "      <td>1</td>\n",
       "      <td>3</td>\n",
       "      <td>No</td>\n",
       "    </tr>\n",
       "    <tr>\n",
       "      <th>291</th>\n",
       "      <td>58</td>\n",
       "      <td>Male</td>\n",
       "      <td>typical angina</td>\n",
       "      <td>114</td>\n",
       "      <td>318</td>\n",
       "      <td>False</td>\n",
       "      <td>2</td>\n",
       "      <td>140</td>\n",
       "      <td>No</td>\n",
       "      <td>4.4</td>\n",
       "      <td>Up_Sloping</td>\n",
       "      <td>3</td>\n",
       "      <td>1</td>\n",
       "      <td>No</td>\n",
       "    </tr>\n",
       "  </tbody>\n",
       "</table>\n",
       "</div>"
      ],
      "text/plain": [
       "     age     sex               cp  trestbps  chol    fbs restecg  thalach  \\\n",
       "289   55  Female   typical angina       128   205  False       2      130   \n",
       "291   58    Male   typical angina       114   318  False       2      140   \n",
       "\n",
       "    exang  oldpeak       slope  ca  thal target  \n",
       "289   Yes      2.0        Flat   1     3     No  \n",
       "291    No      4.4  Up_Sloping   3     1     No  "
      ]
     },
     "execution_count": 623,
     "metadata": {},
     "output_type": "execute_result"
    }
   ],
   "source": [
    "data[data['restecg'] == '2']"
   ]
  },
  {
   "cell_type": "code",
   "execution_count": 624,
   "id": "126dcfb8",
   "metadata": {},
   "outputs": [],
   "source": [
    "data.drop(data[data['restecg'] == '2'].index, inplace = True)"
   ]
  },
  {
   "cell_type": "code",
   "execution_count": 625,
   "id": "7b45cc57",
   "metadata": {},
   "outputs": [
    {
     "data": {
      "text/plain": [
       "Not_Normal    154\n",
       "Normal        147\n",
       "Name: restecg, dtype: int64"
      ]
     },
     "execution_count": 625,
     "metadata": {},
     "output_type": "execute_result"
    }
   ],
   "source": [
    "data['restecg'].value_counts()"
   ]
  },
  {
   "cell_type": "code",
   "execution_count": 626,
   "id": "9f596979",
   "metadata": {},
   "outputs": [
    {
     "data": {
      "image/png": "[encoded data removed]",
      "text/plain": [
       "<Figure size 720x504 with 1 Axes>"
      ]
     },
     "metadata": {},
     "output_type": "display_data"
    }
   ],
   "source": [
    "plt.figure(figsize=(10,7))\n",
    "plt.pie(data['restecg'].value_counts(),labels=['Not_Normal','Normal']);"
   ]
  },
  {
   "cell_type": "markdown",
   "id": "5a029f3e",
   "metadata": {},
   "source": [
    "### exang\n",
    "-  exercise induced angina is chest pain while exercising or doing any physical\n",
    "activity.\n"
   ]
  },
  {
   "cell_type": "code",
   "execution_count": 627,
   "id": "1da52071",
   "metadata": {},
   "outputs": [
    {
     "data": {
      "text/plain": [
       "No     203\n",
       "Yes     98\n",
       "Name: exang, dtype: int64"
      ]
     },
     "execution_count": 627,
     "metadata": {},
     "output_type": "execute_result"
    }
   ],
   "source": [
    "data['exang'].value_counts()"
   ]
  },
  {
   "cell_type": "code",
   "execution_count": 628,
   "id": "8948423c",
   "metadata": {},
   "outputs": [
    {
     "data": {
      "text/plain": [
       "<AxesSubplot:xlabel='exang', ylabel='count'>"
      ]
     },
     "execution_count": 628,
     "metadata": {},
     "output_type": "execute_result"
    },
    {
     "data": {
      "image/png": "[encoded data removed]",
      "text/plain": [
       "<Figure size 432x288 with 1 Axes>"
      ]
     },
     "metadata": {
      "needs_background": "light"
     },
     "output_type": "display_data"
    }
   ],
   "source": [
    "sns.countplot(data['exang'])"
   ]
  },
  {
   "cell_type": "markdown",
   "id": "40035cc7",
   "metadata": {},
   "source": [
    "### slope\n",
    "- The slope of the peak exercise ST segment "
   ]
  },
  {
   "cell_type": "code",
   "execution_count": 629,
   "id": "38371e82",
   "metadata": {},
   "outputs": [
    {
     "data": {
      "text/plain": [
       "Down_Sloping    142\n",
       "Flat            139\n",
       "Up_Sloping       20\n",
       "Name: slope, dtype: int64"
      ]
     },
     "execution_count": 629,
     "metadata": {},
     "output_type": "execute_result"
    }
   ],
   "source": [
    "data['slope'].value_counts()"
   ]
  },
  {
   "cell_type": "code",
   "execution_count": 630,
   "id": "d324c42e",
   "metadata": {},
   "outputs": [
    {
     "data": {
      "text/plain": [
       "<AxesSubplot:xlabel='slope', ylabel='count'>"
      ]
     },
     "execution_count": 630,
     "metadata": {},
     "output_type": "execute_result"
    },
    {
     "data": {
      "image/png": "[encoded data removed]",
      "text/plain": [
       "<Figure size 432x288 with 1 Axes>"
      ]
     },
     "metadata": {
      "needs_background": "light"
     },
     "output_type": "display_data"
    }
   ],
   "source": [
    "sns.countplot(data['slope'])"
   ]
  },
  {
   "cell_type": "markdown",
   "id": "2c6f73f9",
   "metadata": {},
   "source": [
    "### target\n",
    "- (predicted attribute): diagnosis of heart disease (angiographic disease status) — Value 0: < 50% diameter narrowing — Value 1: > 50% diameter narrowing"
   ]
  },
  {
   "cell_type": "code",
   "execution_count": 631,
   "id": "045b06ab",
   "metadata": {},
   "outputs": [
    {
     "data": {
      "text/plain": [
       "Yes    165\n",
       "No     136\n",
       "Name: target, dtype: int64"
      ]
     },
     "execution_count": 631,
     "metadata": {},
     "output_type": "execute_result"
    }
   ],
   "source": [
    "data['target'].value_counts()"
   ]
  },
  {
   "cell_type": "code",
   "execution_count": 632,
   "id": "2cdfa755",
   "metadata": {},
   "outputs": [
    {
     "data": {
      "image/png": "[encoded data removed]",
      "text/plain": [
       "<Figure size 720x504 with 1 Axes>"
      ]
     },
     "metadata": {},
     "output_type": "display_data"
    }
   ],
   "source": [
    "plt.figure(figsize=(10,7))\n",
    "plt.pie(data['target'].value_counts(),labels=['Yes','No']);"
   ]
  },
  {
   "cell_type": "markdown",
   "id": "a6717fdb",
   "metadata": {},
   "source": [
    "### `Numerical Columns`"
   ]
  },
  {
   "cell_type": "code",
   "execution_count": 633,
   "id": "9b489430",
   "metadata": {},
   "outputs": [
    {
     "data": {
      "text/plain": [
       "Index(['age', 'trestbps', 'chol', 'thalach', 'oldpeak', 'ca', 'thal'], dtype='object')"
      ]
     },
     "execution_count": 633,
     "metadata": {},
     "output_type": "execute_result"
    }
   ],
   "source": [
    "cont_columns"
   ]
  },
  {
   "cell_type": "markdown",
   "id": "b5552e8e",
   "metadata": {},
   "source": [
    "### Age"
   ]
  },
  {
   "cell_type": "code",
   "execution_count": 634,
   "id": "c2f12fd0",
   "metadata": {},
   "outputs": [
    {
     "data": {
      "text/plain": [
       "<AxesSubplot:xlabel='age', ylabel='Density'>"
      ]
     },
     "execution_count": 634,
     "metadata": {},
     "output_type": "execute_result"
    },
    {
     "data": {
      "image/png": "[encoded data removed]",
      "text/plain": [
       "<Figure size 432x288 with 1 Axes>"
      ]
     },
     "metadata": {
      "needs_background": "light"
     },
     "output_type": "display_data"
    }
   ],
   "source": [
    "sns.distplot(data['age'])"
   ]
  },
  {
   "cell_type": "code",
   "execution_count": 635,
   "id": "f4ac2ca6",
   "metadata": {},
   "outputs": [
    {
     "data": {
      "text/plain": [
       "-0.19748102163499756"
      ]
     },
     "execution_count": 635,
     "metadata": {},
     "output_type": "execute_result"
    }
   ],
   "source": [
    "data['age'].skew()"
   ]
  },
  {
   "cell_type": "markdown",
   "id": "ec8deabb",
   "metadata": {},
   "source": [
    "### trestbps\n",
    "-  Resting blood pressure is normal pressure with no exercise."
   ]
  },
  {
   "cell_type": "code",
   "execution_count": 636,
   "id": "90a935c2",
   "metadata": {},
   "outputs": [
    {
     "data": {
      "text/plain": [
       "<AxesSubplot:xlabel='trestbps', ylabel='Density'>"
      ]
     },
     "execution_count": 636,
     "metadata": {},
     "output_type": "execute_result"
    },
    {
     "data": {
      "image/png": "[encoded data removed]",
      "text/plain": [
       "<Figure size 432x288 with 1 Axes>"
      ]
     },
     "metadata": {
      "needs_background": "light"
     },
     "output_type": "display_data"
    }
   ],
   "source": [
    "sns.distplot(data['trestbps'])"
   ]
  },
  {
   "cell_type": "code",
   "execution_count": 637,
   "id": "f296e8cb",
   "metadata": {},
   "outputs": [
    {
     "data": {
      "text/plain": [
       "0.7064670714888134"
      ]
     },
     "execution_count": 637,
     "metadata": {},
     "output_type": "execute_result"
    }
   ],
   "source": [
    "data['trestbps'].skew()"
   ]
  },
  {
   "cell_type": "code",
   "execution_count": 638,
   "id": "d1f9e727",
   "metadata": {},
   "outputs": [],
   "source": [
    "data['trestbps'] = np.log(data['trestbps'])"
   ]
  },
  {
   "cell_type": "code",
   "execution_count": 702,
   "id": "0a47f28f",
   "metadata": {},
   "outputs": [
    {
     "data": {
      "text/plain": [
       "0.008170465779274948"
      ]
     },
     "execution_count": 702,
     "metadata": {},
     "output_type": "execute_result"
    }
   ],
   "source": [
    "data['trestbps'].skew()"
   ]
  },
  {
   "cell_type": "code",
   "execution_count": 639,
   "id": "e198d8e5",
   "metadata": {},
   "outputs": [
    {
     "data": {
      "text/plain": [
       "<AxesSubplot:xlabel='trestbps', ylabel='Density'>"
      ]
     },
     "execution_count": 639,
     "metadata": {},
     "output_type": "execute_result"
    },
    {
     "data": {
      "image/png": "[encoded data removed]",
      "text/plain": [
       "<Figure size 432x288 with 1 Axes>"
      ]
     },
     "metadata": {
      "needs_background": "light"
     },
     "output_type": "display_data"
    }
   ],
   "source": [
    "sns.distplot(data['trestbps'])"
   ]
  },
  {
   "cell_type": "code",
   "execution_count": 640,
   "id": "4b80baf7",
   "metadata": {},
   "outputs": [
    {
     "data": {
      "text/plain": [
       "<AxesSubplot:xlabel='trestbps'>"
      ]
     },
     "execution_count": 640,
     "metadata": {},
     "output_type": "execute_result"
    },
    {
     "data": {
      "image/png": "[encoded data removed]",
      "text/plain": [
       "<Figure size 432x288 with 1 Axes>"
      ]
     },
     "metadata": {
      "needs_background": "light"
     },
     "output_type": "display_data"
    }
   ],
   "source": [
    "sns.boxplot(data['trestbps'])"
   ]
  },
  {
   "cell_type": "code",
   "execution_count": 641,
   "id": "97863a8c",
   "metadata": {},
   "outputs": [],
   "source": [
    "q1=np.percentile(data['trestbps'],25)\n",
    "q3=np.percentile(data['trestbps'],75)\n",
    "IQR=q3-q1\n",
    "good_value=1.5 * IQR\n",
    "lower_bound=q1-good_value\n",
    "upper_bound=q3+good_value\n",
    "data = data[data['trestbps'] <= upper_bound]   # remove outliers"
   ]
  },
  {
   "cell_type": "code",
   "execution_count": 642,
   "id": "52f39feb",
   "metadata": {},
   "outputs": [
    {
     "data": {
      "text/plain": [
       "<AxesSubplot:xlabel='trestbps'>"
      ]
     },
     "execution_count": 642,
     "metadata": {},
     "output_type": "execute_result"
    },
    {
     "data": {
      "image/png": "[encoded data removed]",
      "text/plain": [
       "<Figure size 432x288 with 1 Axes>"
      ]
     },
     "metadata": {
      "needs_background": "light"
     },
     "output_type": "display_data"
    }
   ],
   "source": [
    "sns.boxplot(data['trestbps'])"
   ]
  },
  {
   "cell_type": "markdown",
   "id": "8ca6741f",
   "metadata": {},
   "source": [
    "### chol\n",
    "- Cholesterol means the blockage for blood supply in the blood vessels.\n"
   ]
  },
  {
   "cell_type": "code",
   "execution_count": 643,
   "id": "be1e565c",
   "metadata": {},
   "outputs": [
    {
     "data": {
      "text/plain": [
       "<AxesSubplot:xlabel='chol', ylabel='Density'>"
      ]
     },
     "execution_count": 643,
     "metadata": {},
     "output_type": "execute_result"
    },
    {
     "data": {
      "image/png": "[encoded data removed]",
      "text/plain": [
       "<Figure size 432x288 with 1 Axes>"
      ]
     },
     "metadata": {
      "needs_background": "light"
     },
     "output_type": "display_data"
    }
   ],
   "source": [
    "sns.distplot(data['chol'])"
   ]
  },
  {
   "cell_type": "code",
   "execution_count": 644,
   "id": "d0e5f5bd",
   "metadata": {},
   "outputs": [
    {
     "data": {
      "text/plain": [
       "<AxesSubplot:xlabel='chol'>"
      ]
     },
     "execution_count": 644,
     "metadata": {},
     "output_type": "execute_result"
    },
    {
     "data": {
      "image/png": "[encoded data removed]",
      "text/plain": [
       "<Figure size 432x288 with 1 Axes>"
      ]
     },
     "metadata": {
      "needs_background": "light"
     },
     "output_type": "display_data"
    }
   ],
   "source": [
    "sns.boxplot(data['chol'])"
   ]
  },
  {
   "cell_type": "code",
   "execution_count": 645,
   "id": "778e9d02",
   "metadata": {},
   "outputs": [],
   "source": [
    "q1=np.percentile(data['chol'],25)\n",
    "q3=np.percentile(data['chol'],75)\n",
    "IQR=q3-q1\n",
    "good_value=1.5 * IQR\n",
    "lower_bound=q1-good_value\n",
    "upper_bound=q3+good_value\n",
    "data = data[data['chol'] <= upper_bound]   # remove outliers"
   ]
  },
  {
   "cell_type": "code",
   "execution_count": 646,
   "id": "fa9e62d4",
   "metadata": {},
   "outputs": [
    {
     "data": {
      "text/plain": [
       "<AxesSubplot:xlabel='chol'>"
      ]
     },
     "execution_count": 646,
     "metadata": {},
     "output_type": "execute_result"
    },
    {
     "data": {
      "image/png": "[encoded data removed]",
      "text/plain": [
       "<Figure size 432x288 with 1 Axes>"
      ]
     },
     "metadata": {
      "needs_background": "light"
     },
     "output_type": "display_data"
    }
   ],
   "source": [
    "sns.boxplot(data['chol'])"
   ]
  },
  {
   "cell_type": "markdown",
   "id": "2266a279",
   "metadata": {},
   "source": [
    "### thalach\n",
    "- The Maximum Heart Rate achieved."
   ]
  },
  {
   "cell_type": "code",
   "execution_count": 647,
   "id": "0f7d2730",
   "metadata": {},
   "outputs": [
    {
     "data": {
      "text/plain": [
       "<seaborn.axisgrid.FacetGrid at 0x296d39a5970>"
      ]
     },
     "execution_count": 647,
     "metadata": {},
     "output_type": "execute_result"
    },
    {
     "data": {
      "image/png": "[encoded data removed]",
      "text/plain": [
       "<Figure size 360x360 with 1 Axes>"
      ]
     },
     "metadata": {
      "needs_background": "light"
     },
     "output_type": "display_data"
    }
   ],
   "source": [
    "sns.displot(data['thalach'])"
   ]
  },
  {
   "cell_type": "code",
   "execution_count": 648,
   "id": "fd3f059d",
   "metadata": {},
   "outputs": [
    {
     "data": {
      "text/plain": [
       "-0.5565859193476403"
      ]
     },
     "execution_count": 648,
     "metadata": {},
     "output_type": "execute_result"
    }
   ],
   "source": [
    "data['thalach'].skew()"
   ]
  },
  {
   "cell_type": "code",
   "execution_count": 649,
   "id": "3fdb0e49",
   "metadata": {},
   "outputs": [
    {
     "data": {
      "text/plain": [
       "<AxesSubplot:xlabel='thalach'>"
      ]
     },
     "execution_count": 649,
     "metadata": {},
     "output_type": "execute_result"
    },
    {
     "data": {
      "image/png": "[encoded data removed]",
      "text/plain": [
       "<Figure size 432x288 with 1 Axes>"
      ]
     },
     "metadata": {
      "needs_background": "light"
     },
     "output_type": "display_data"
    }
   ],
   "source": [
    "sns.boxplot(data['thalach'])"
   ]
  },
  {
   "cell_type": "markdown",
   "id": "0ace9e2e",
   "metadata": {},
   "source": [
    "### oldpeak\n",
    "- ST Depression is the difference between value of ECG at rest and after exercise."
   ]
  },
  {
   "cell_type": "code",
   "execution_count": 650,
   "id": "fe9708c7",
   "metadata": {},
   "outputs": [
    {
     "data": {
      "text/plain": [
       "<seaborn.axisgrid.FacetGrid at 0x296d3a49ca0>"
      ]
     },
     "execution_count": 650,
     "metadata": {},
     "output_type": "execute_result"
    },
    {
     "data": {
      "image/png": "[encoded data removed]",
      "text/plain": [
       "<Figure size 360x360 with 1 Axes>"
      ]
     },
     "metadata": {
      "needs_background": "light"
     },
     "output_type": "display_data"
    }
   ],
   "source": [
    "sns.displot(data['oldpeak'])"
   ]
  },
  {
   "cell_type": "code",
   "execution_count": 651,
   "id": "14f19ccf",
   "metadata": {},
   "outputs": [
    {
     "data": {
      "text/plain": [
       "<AxesSubplot:xlabel='oldpeak'>"
      ]
     },
     "execution_count": 651,
     "metadata": {},
     "output_type": "execute_result"
    },
    {
     "data": {
      "image/png": "[encoded data removed]",
      "text/plain": [
       "<Figure size 432x288 with 1 Axes>"
      ]
     },
     "metadata": {
      "needs_background": "light"
     },
     "output_type": "display_data"
    }
   ],
   "source": [
    "sns.boxplot(data['oldpeak'])"
   ]
  },
  {
   "cell_type": "code",
   "execution_count": 652,
   "id": "a5b4a15c",
   "metadata": {},
   "outputs": [],
   "source": [
    "q1=np.percentile(data['oldpeak'],25)\n",
    "q3=np.percentile(data['oldpeak'],75)\n",
    "IQR=q3-q1\n",
    "good_value=1.5 * IQR\n",
    "lower_bound=q1-good_value\n",
    "upper_bound=q3+good_value\n",
    "data = data[data['oldpeak'] <= upper_bound]   # remove outliers"
   ]
  },
  {
   "cell_type": "code",
   "execution_count": 653,
   "id": "f2ad7f54",
   "metadata": {},
   "outputs": [
    {
     "data": {
      "text/plain": [
       "<AxesSubplot:xlabel='oldpeak'>"
      ]
     },
     "execution_count": 653,
     "metadata": {},
     "output_type": "execute_result"
    },
    {
     "data": {
      "image/png": "[encoded data removed]",
      "text/plain": [
       "<Figure size 432x288 with 1 Axes>"
      ]
     },
     "metadata": {
      "needs_background": "light"
     },
     "output_type": "display_data"
    }
   ],
   "source": [
    "sns.boxplot(data['oldpeak'])"
   ]
  },
  {
   "cell_type": "markdown",
   "id": "74d87b67",
   "metadata": {},
   "source": [
    "### ca\n",
    "- The number of major blood vessels (0-3) supplying blood to heart blocked.\n"
   ]
  },
  {
   "cell_type": "code",
   "execution_count": 654,
   "id": "39e3c2b5",
   "metadata": {},
   "outputs": [
    {
     "data": {
      "text/plain": [
       "0    168\n",
       "1     62\n",
       "2     35\n",
       "3     16\n",
       "4      5\n",
       "Name: ca, dtype: int64"
      ]
     },
     "execution_count": 654,
     "metadata": {},
     "output_type": "execute_result"
    }
   ],
   "source": [
    "data['ca'].value_counts()"
   ]
  },
  {
   "cell_type": "code",
   "execution_count": 655,
   "id": "0c3a0f41",
   "metadata": {},
   "outputs": [
    {
     "data": {
      "text/plain": [
       "<AxesSubplot:xlabel='ca', ylabel='count'>"
      ]
     },
     "execution_count": 655,
     "metadata": {},
     "output_type": "execute_result"
    },
    {
     "data": {
      "image/png": "[encoded data removed]",
      "text/plain": [
       "<Figure size 432x288 with 1 Axes>"
      ]
     },
     "metadata": {
      "needs_background": "light"
     },
     "output_type": "display_data"
    }
   ],
   "source": [
    "sns.countplot(data['ca'])"
   ]
  },
  {
   "cell_type": "markdown",
   "id": "2fc9a07a",
   "metadata": {},
   "source": [
    "### thal\n",
    "- The Types of thalassemia (0 = normal; 1 = fixed defect; 2 = reversible defect)"
   ]
  },
  {
   "cell_type": "code",
   "execution_count": 656,
   "id": "424ad3c8",
   "metadata": {},
   "outputs": [
    {
     "data": {
      "text/plain": [
       "2    162\n",
       "3    105\n",
       "1     17\n",
       "0      2\n",
       "Name: thal, dtype: int64"
      ]
     },
     "execution_count": 656,
     "metadata": {},
     "output_type": "execute_result"
    }
   ],
   "source": [
    "data['thal'].value_counts()"
   ]
  },
  {
   "cell_type": "code",
   "execution_count": 657,
   "id": "baa8ae3d",
   "metadata": {},
   "outputs": [
    {
     "data": {
      "text/plain": [
       "<AxesSubplot:xlabel='thal', ylabel='count'>"
      ]
     },
     "execution_count": 657,
     "metadata": {},
     "output_type": "execute_result"
    },
    {
     "data": {
      "image/png": "[encoded data removed]",
      "text/plain": [
       "<Figure size 432x288 with 1 Axes>"
      ]
     },
     "metadata": {
      "needs_background": "light"
     },
     "output_type": "display_data"
    }
   ],
   "source": [
    "sns.countplot(data['thal'])"
   ]
  },
  {
   "cell_type": "markdown",
   "id": "8fad79d4",
   "metadata": {},
   "source": [
    "## `Bivariate Analysis`"
   ]
  },
  {
   "cell_type": "markdown",
   "id": "88f5dd91",
   "metadata": {},
   "source": [
    "### Variables\n",
    "#### Cat\n",
    "- sex\n",
    "- cp\n",
    "- restecg      \n",
    "- exang   \n",
    "- slope   \n",
    "- target\n",
    "\n",
    "#### Num\n",
    "- age\n",
    "- trestbps      \n",
    "- thalach\n",
    "- oldpeak    \n",
    "- chol\n",
    "- ca            \n",
    "- thal"
   ]
  },
  {
   "cell_type": "markdown",
   "id": "f6c74432",
   "metadata": {},
   "source": [
    "### `chi square test ------------------------------------`"
   ]
  },
  {
   "cell_type": "code",
   "execution_count": 658,
   "id": "3fe50888",
   "metadata": {},
   "outputs": [],
   "source": [
    "from scipy.stats import chi2_contingency\n",
    "\n",
    "def chisq_test(target,independent_col,data):\n",
    "    two_way = pd.crosstab(data[target],data[independent_col])\n",
    "    chi_test_result = chi2_contingency(two_way)\n",
    "    print(f'{independent_col} vs Target => chi-square result p-values => {chi_test_result[1]}')"
   ]
  },
  {
   "cell_type": "code",
   "execution_count": 659,
   "id": "9cbae618",
   "metadata": {},
   "outputs": [
    {
     "name": "stdout",
     "output_type": "stream",
     "text": [
      "sex vs Target => chi-square result p-values => 2.008014614458896e-07\n",
      "cp vs Target => chi-square result p-values => 1.535364449987451e-16\n",
      "fbs vs Target => chi-square result p-values => 0.8819086918160463\n",
      "restecg vs Target => chi-square result p-values => 0.0037883214733880222\n",
      "exang vs Target => chi-square result p-values => 9.138569346128528e-13\n",
      "slope vs Target => chi-square result p-values => 3.985522977695909e-10\n"
     ]
    }
   ],
   "source": [
    "for col in cat_columns:\n",
    "    chisq_test(target,col,data)"
   ]
  },
  {
   "cell_type": "markdown",
   "id": "a91f6b22",
   "metadata": {},
   "source": [
    "#### `All categorical variables except fbs are related to Target`"
   ]
  },
  {
   "cell_type": "markdown",
   "id": "e7650806",
   "metadata": {},
   "source": [
    "### `T test --------------------------------------------`"
   ]
  },
  {
   "cell_type": "code",
   "execution_count": 660,
   "id": "efdaa12a",
   "metadata": {},
   "outputs": [
    {
     "name": "stdout",
     "output_type": "stream",
     "text": [
      "age vs Target => Ttest_indResult(statistic=-4.031080540880824, pvalue=7.13739500185472e-05)\n",
      "trestbps vs Target => Ttest_indResult(statistic=-1.875411384956205, pvalue=0.06176204862058377)\n",
      "chol vs Target => Ttest_indResult(statistic=-1.9640075447597063, pvalue=0.05050439941219556)\n",
      "thalach vs Target => Ttest_indResult(statistic=7.964149605999827, pvalue=4.0373398836357687e-14)\n",
      "oldpeak vs Target => Ttest_indResult(statistic=-7.981511923469935, pvalue=3.599373725626523e-14)\n",
      "ca vs Target => Ttest_indResult(statistic=-6.762129665759241, pvalue=7.732111371219249e-11)\n",
      "thal vs Target => Ttest_indResult(statistic=-6.021552008924433, pvalue=5.33040663559535e-09)\n"
     ]
    }
   ],
   "source": [
    "from scipy.stats import ttest_ind\n",
    "\n",
    "for i in cont_columns:\n",
    "    target_yes = data.loc[data['target']=='Yes',i]\n",
    "    target_no = data.loc[data['target']=='No',i]\n",
    "    ttest_results = ttest_ind(target_yes,target_no)\n",
    "    print(f'{i} vs Target => {ttest_results}')"
   ]
  },
  {
   "cell_type": "markdown",
   "id": "3e24a84c",
   "metadata": {},
   "source": [
    "#### `All numerical variables except chol are related to Target`"
   ]
  },
  {
   "cell_type": "markdown",
   "id": "75c6779a",
   "metadata": {},
   "source": [
    "### `Label Encoding`"
   ]
  },
  {
   "cell_type": "code",
   "execution_count": 661,
   "id": "867f4c2a",
   "metadata": {},
   "outputs": [
    {
     "data": {
      "text/html": [
       "<div>\n",
       "<style scoped>\n",
       "    .dataframe tbody tr th:only-of-type {\n",
       "        vertical-align: middle;\n",
       "    }\n",
       "\n",
       "    .dataframe tbody tr th {\n",
       "        vertical-align: top;\n",
       "    }\n",
       "\n",
       "    .dataframe thead th {\n",
       "        text-align: right;\n",
       "    }\n",
       "</style>\n",
       "<table border=\"1\" class=\"dataframe\">\n",
       "  <thead>\n",
       "    <tr style=\"text-align: right;\">\n",
       "      <th></th>\n",
       "      <th>age</th>\n",
       "      <th>sex</th>\n",
       "      <th>cp</th>\n",
       "      <th>trestbps</th>\n",
       "      <th>chol</th>\n",
       "      <th>fbs</th>\n",
       "      <th>restecg</th>\n",
       "      <th>thalach</th>\n",
       "      <th>exang</th>\n",
       "      <th>oldpeak</th>\n",
       "      <th>slope</th>\n",
       "      <th>ca</th>\n",
       "      <th>thal</th>\n",
       "      <th>target</th>\n",
       "    </tr>\n",
       "  </thead>\n",
       "  <tbody>\n",
       "    <tr>\n",
       "      <th>0</th>\n",
       "      <td>63</td>\n",
       "      <td>1</td>\n",
       "      <td>asymptomatic</td>\n",
       "      <td>4.976734</td>\n",
       "      <td>233</td>\n",
       "      <td>True</td>\n",
       "      <td>0</td>\n",
       "      <td>150</td>\n",
       "      <td>0</td>\n",
       "      <td>2.3</td>\n",
       "      <td>Up_Sloping</td>\n",
       "      <td>0</td>\n",
       "      <td>1</td>\n",
       "      <td>1</td>\n",
       "    </tr>\n",
       "    <tr>\n",
       "      <th>1</th>\n",
       "      <td>37</td>\n",
       "      <td>1</td>\n",
       "      <td>non-anginal pain</td>\n",
       "      <td>4.867534</td>\n",
       "      <td>250</td>\n",
       "      <td>False</td>\n",
       "      <td>1</td>\n",
       "      <td>187</td>\n",
       "      <td>0</td>\n",
       "      <td>3.5</td>\n",
       "      <td>Up_Sloping</td>\n",
       "      <td>0</td>\n",
       "      <td>2</td>\n",
       "      <td>1</td>\n",
       "    </tr>\n",
       "    <tr>\n",
       "      <th>2</th>\n",
       "      <td>41</td>\n",
       "      <td>0</td>\n",
       "      <td>atypical angina</td>\n",
       "      <td>4.867534</td>\n",
       "      <td>204</td>\n",
       "      <td>False</td>\n",
       "      <td>0</td>\n",
       "      <td>172</td>\n",
       "      <td>0</td>\n",
       "      <td>1.4</td>\n",
       "      <td>Down_Sloping</td>\n",
       "      <td>0</td>\n",
       "      <td>2</td>\n",
       "      <td>1</td>\n",
       "    </tr>\n",
       "    <tr>\n",
       "      <th>3</th>\n",
       "      <td>56</td>\n",
       "      <td>1</td>\n",
       "      <td>atypical angina</td>\n",
       "      <td>4.787492</td>\n",
       "      <td>236</td>\n",
       "      <td>False</td>\n",
       "      <td>1</td>\n",
       "      <td>178</td>\n",
       "      <td>0</td>\n",
       "      <td>0.8</td>\n",
       "      <td>Down_Sloping</td>\n",
       "      <td>0</td>\n",
       "      <td>2</td>\n",
       "      <td>1</td>\n",
       "    </tr>\n",
       "    <tr>\n",
       "      <th>4</th>\n",
       "      <td>57</td>\n",
       "      <td>0</td>\n",
       "      <td>typical angina</td>\n",
       "      <td>4.787492</td>\n",
       "      <td>354</td>\n",
       "      <td>False</td>\n",
       "      <td>1</td>\n",
       "      <td>163</td>\n",
       "      <td>1</td>\n",
       "      <td>0.6</td>\n",
       "      <td>Down_Sloping</td>\n",
       "      <td>0</td>\n",
       "      <td>2</td>\n",
       "      <td>1</td>\n",
       "    </tr>\n",
       "    <tr>\n",
       "      <th>...</th>\n",
       "      <td>...</td>\n",
       "      <td>...</td>\n",
       "      <td>...</td>\n",
       "      <td>...</td>\n",
       "      <td>...</td>\n",
       "      <td>...</td>\n",
       "      <td>...</td>\n",
       "      <td>...</td>\n",
       "      <td>...</td>\n",
       "      <td>...</td>\n",
       "      <td>...</td>\n",
       "      <td>...</td>\n",
       "      <td>...</td>\n",
       "      <td>...</td>\n",
       "    </tr>\n",
       "    <tr>\n",
       "      <th>298</th>\n",
       "      <td>57</td>\n",
       "      <td>0</td>\n",
       "      <td>typical angina</td>\n",
       "      <td>4.941642</td>\n",
       "      <td>241</td>\n",
       "      <td>False</td>\n",
       "      <td>1</td>\n",
       "      <td>123</td>\n",
       "      <td>1</td>\n",
       "      <td>0.2</td>\n",
       "      <td>Flat</td>\n",
       "      <td>0</td>\n",
       "      <td>3</td>\n",
       "      <td>0</td>\n",
       "    </tr>\n",
       "    <tr>\n",
       "      <th>299</th>\n",
       "      <td>45</td>\n",
       "      <td>1</td>\n",
       "      <td>asymptomatic</td>\n",
       "      <td>4.700480</td>\n",
       "      <td>264</td>\n",
       "      <td>False</td>\n",
       "      <td>1</td>\n",
       "      <td>132</td>\n",
       "      <td>0</td>\n",
       "      <td>1.2</td>\n",
       "      <td>Flat</td>\n",
       "      <td>0</td>\n",
       "      <td>3</td>\n",
       "      <td>0</td>\n",
       "    </tr>\n",
       "    <tr>\n",
       "      <th>300</th>\n",
       "      <td>68</td>\n",
       "      <td>1</td>\n",
       "      <td>typical angina</td>\n",
       "      <td>4.969813</td>\n",
       "      <td>193</td>\n",
       "      <td>True</td>\n",
       "      <td>1</td>\n",
       "      <td>141</td>\n",
       "      <td>0</td>\n",
       "      <td>3.4</td>\n",
       "      <td>Flat</td>\n",
       "      <td>2</td>\n",
       "      <td>3</td>\n",
       "      <td>0</td>\n",
       "    </tr>\n",
       "    <tr>\n",
       "      <th>301</th>\n",
       "      <td>57</td>\n",
       "      <td>1</td>\n",
       "      <td>typical angina</td>\n",
       "      <td>4.867534</td>\n",
       "      <td>131</td>\n",
       "      <td>False</td>\n",
       "      <td>1</td>\n",
       "      <td>115</td>\n",
       "      <td>1</td>\n",
       "      <td>1.2</td>\n",
       "      <td>Flat</td>\n",
       "      <td>1</td>\n",
       "      <td>3</td>\n",
       "      <td>0</td>\n",
       "    </tr>\n",
       "    <tr>\n",
       "      <th>302</th>\n",
       "      <td>57</td>\n",
       "      <td>0</td>\n",
       "      <td>atypical angina</td>\n",
       "      <td>4.867534</td>\n",
       "      <td>236</td>\n",
       "      <td>False</td>\n",
       "      <td>0</td>\n",
       "      <td>174</td>\n",
       "      <td>0</td>\n",
       "      <td>0.0</td>\n",
       "      <td>Flat</td>\n",
       "      <td>1</td>\n",
       "      <td>2</td>\n",
       "      <td>0</td>\n",
       "    </tr>\n",
       "  </tbody>\n",
       "</table>\n",
       "<p>286 rows × 14 columns</p>\n",
       "</div>"
      ],
      "text/plain": [
       "     age  sex                 cp  trestbps  chol    fbs  restecg  thalach  \\\n",
       "0     63    1       asymptomatic  4.976734   233   True        0      150   \n",
       "1     37    1   non-anginal pain  4.867534   250  False        1      187   \n",
       "2     41    0    atypical angina  4.867534   204  False        0      172   \n",
       "3     56    1    atypical angina  4.787492   236  False        1      178   \n",
       "4     57    0     typical angina  4.787492   354  False        1      163   \n",
       "..   ...  ...                ...       ...   ...    ...      ...      ...   \n",
       "298   57    0     typical angina  4.941642   241  False        1      123   \n",
       "299   45    1       asymptomatic  4.700480   264  False        1      132   \n",
       "300   68    1     typical angina  4.969813   193   True        1      141   \n",
       "301   57    1     typical angina  4.867534   131  False        1      115   \n",
       "302   57    0    atypical angina  4.867534   236  False        0      174   \n",
       "\n",
       "     exang  oldpeak         slope  ca  thal  target  \n",
       "0        0      2.3    Up_Sloping   0     1       1  \n",
       "1        0      3.5    Up_Sloping   0     2       1  \n",
       "2        0      1.4  Down_Sloping   0     2       1  \n",
       "3        0      0.8  Down_Sloping   0     2       1  \n",
       "4        1      0.6  Down_Sloping   0     2       1  \n",
       "..     ...      ...           ...  ..   ...     ...  \n",
       "298      1      0.2          Flat   0     3       0  \n",
       "299      0      1.2          Flat   0     3       0  \n",
       "300      0      3.4          Flat   2     3       0  \n",
       "301      1      1.2          Flat   1     3       0  \n",
       "302      0      0.0          Flat   1     2       0  \n",
       "\n",
       "[286 rows x 14 columns]"
      ]
     },
     "execution_count": 661,
     "metadata": {},
     "output_type": "execute_result"
    }
   ],
   "source": [
    "from sklearn.preprocessing import LabelEncoder\n",
    "\n",
    "binary = ['sex','restecg','exang','target']\n",
    "le = LabelEncoder()\n",
    "for i in binary:\n",
    "    data[i] = le.fit_transform(data[i])\n",
    "data"
   ]
  },
  {
   "cell_type": "markdown",
   "id": "10424cbe",
   "metadata": {},
   "source": [
    "### `One hot encoding`"
   ]
  },
  {
   "cell_type": "code",
   "execution_count": 662,
   "id": "f065d1db",
   "metadata": {},
   "outputs": [
    {
     "data": {
      "text/html": [
       "<div>\n",
       "<style scoped>\n",
       "    .dataframe tbody tr th:only-of-type {\n",
       "        vertical-align: middle;\n",
       "    }\n",
       "\n",
       "    .dataframe tbody tr th {\n",
       "        vertical-align: top;\n",
       "    }\n",
       "\n",
       "    .dataframe thead th {\n",
       "        text-align: right;\n",
       "    }\n",
       "</style>\n",
       "<table border=\"1\" class=\"dataframe\">\n",
       "  <thead>\n",
       "    <tr style=\"text-align: right;\">\n",
       "      <th></th>\n",
       "      <th>age</th>\n",
       "      <th>sex</th>\n",
       "      <th>trestbps</th>\n",
       "      <th>chol</th>\n",
       "      <th>fbs</th>\n",
       "      <th>restecg</th>\n",
       "      <th>thalach</th>\n",
       "      <th>exang</th>\n",
       "      <th>oldpeak</th>\n",
       "      <th>ca</th>\n",
       "      <th>thal</th>\n",
       "      <th>target</th>\n",
       "      <th>cp_ non-anginal pain</th>\n",
       "      <th>cp_ typical angina</th>\n",
       "      <th>cp_asymptomatic</th>\n",
       "      <th>cp_atypical angina</th>\n",
       "      <th>slope_Down_Sloping</th>\n",
       "      <th>slope_Flat</th>\n",
       "      <th>slope_Up_Sloping</th>\n",
       "    </tr>\n",
       "  </thead>\n",
       "  <tbody>\n",
       "    <tr>\n",
       "      <th>0</th>\n",
       "      <td>63</td>\n",
       "      <td>1</td>\n",
       "      <td>4.976734</td>\n",
       "      <td>233</td>\n",
       "      <td>True</td>\n",
       "      <td>0</td>\n",
       "      <td>150</td>\n",
       "      <td>0</td>\n",
       "      <td>2.3</td>\n",
       "      <td>0</td>\n",
       "      <td>1</td>\n",
       "      <td>1</td>\n",
       "      <td>0</td>\n",
       "      <td>0</td>\n",
       "      <td>1</td>\n",
       "      <td>0</td>\n",
       "      <td>0</td>\n",
       "      <td>0</td>\n",
       "      <td>1</td>\n",
       "    </tr>\n",
       "    <tr>\n",
       "      <th>1</th>\n",
       "      <td>37</td>\n",
       "      <td>1</td>\n",
       "      <td>4.867534</td>\n",
       "      <td>250</td>\n",
       "      <td>False</td>\n",
       "      <td>1</td>\n",
       "      <td>187</td>\n",
       "      <td>0</td>\n",
       "      <td>3.5</td>\n",
       "      <td>0</td>\n",
       "      <td>2</td>\n",
       "      <td>1</td>\n",
       "      <td>1</td>\n",
       "      <td>0</td>\n",
       "      <td>0</td>\n",
       "      <td>0</td>\n",
       "      <td>0</td>\n",
       "      <td>0</td>\n",
       "      <td>1</td>\n",
       "    </tr>\n",
       "    <tr>\n",
       "      <th>2</th>\n",
       "      <td>41</td>\n",
       "      <td>0</td>\n",
       "      <td>4.867534</td>\n",
       "      <td>204</td>\n",
       "      <td>False</td>\n",
       "      <td>0</td>\n",
       "      <td>172</td>\n",
       "      <td>0</td>\n",
       "      <td>1.4</td>\n",
       "      <td>0</td>\n",
       "      <td>2</td>\n",
       "      <td>1</td>\n",
       "      <td>0</td>\n",
       "      <td>0</td>\n",
       "      <td>0</td>\n",
       "      <td>1</td>\n",
       "      <td>1</td>\n",
       "      <td>0</td>\n",
       "      <td>0</td>\n",
       "    </tr>\n",
       "    <tr>\n",
       "      <th>3</th>\n",
       "      <td>56</td>\n",
       "      <td>1</td>\n",
       "      <td>4.787492</td>\n",
       "      <td>236</td>\n",
       "      <td>False</td>\n",
       "      <td>1</td>\n",
       "      <td>178</td>\n",
       "      <td>0</td>\n",
       "      <td>0.8</td>\n",
       "      <td>0</td>\n",
       "      <td>2</td>\n",
       "      <td>1</td>\n",
       "      <td>0</td>\n",
       "      <td>0</td>\n",
       "      <td>0</td>\n",
       "      <td>1</td>\n",
       "      <td>1</td>\n",
       "      <td>0</td>\n",
       "      <td>0</td>\n",
       "    </tr>\n",
       "    <tr>\n",
       "      <th>4</th>\n",
       "      <td>57</td>\n",
       "      <td>0</td>\n",
       "      <td>4.787492</td>\n",
       "      <td>354</td>\n",
       "      <td>False</td>\n",
       "      <td>1</td>\n",
       "      <td>163</td>\n",
       "      <td>1</td>\n",
       "      <td>0.6</td>\n",
       "      <td>0</td>\n",
       "      <td>2</td>\n",
       "      <td>1</td>\n",
       "      <td>0</td>\n",
       "      <td>1</td>\n",
       "      <td>0</td>\n",
       "      <td>0</td>\n",
       "      <td>1</td>\n",
       "      <td>0</td>\n",
       "      <td>0</td>\n",
       "    </tr>\n",
       "    <tr>\n",
       "      <th>...</th>\n",
       "      <td>...</td>\n",
       "      <td>...</td>\n",
       "      <td>...</td>\n",
       "      <td>...</td>\n",
       "      <td>...</td>\n",
       "      <td>...</td>\n",
       "      <td>...</td>\n",
       "      <td>...</td>\n",
       "      <td>...</td>\n",
       "      <td>...</td>\n",
       "      <td>...</td>\n",
       "      <td>...</td>\n",
       "      <td>...</td>\n",
       "      <td>...</td>\n",
       "      <td>...</td>\n",
       "      <td>...</td>\n",
       "      <td>...</td>\n",
       "      <td>...</td>\n",
       "      <td>...</td>\n",
       "    </tr>\n",
       "    <tr>\n",
       "      <th>298</th>\n",
       "      <td>57</td>\n",
       "      <td>0</td>\n",
       "      <td>4.941642</td>\n",
       "      <td>241</td>\n",
       "      <td>False</td>\n",
       "      <td>1</td>\n",
       "      <td>123</td>\n",
       "      <td>1</td>\n",
       "      <td>0.2</td>\n",
       "      <td>0</td>\n",
       "      <td>3</td>\n",
       "      <td>0</td>\n",
       "      <td>0</td>\n",
       "      <td>1</td>\n",
       "      <td>0</td>\n",
       "      <td>0</td>\n",
       "      <td>0</td>\n",
       "      <td>1</td>\n",
       "      <td>0</td>\n",
       "    </tr>\n",
       "    <tr>\n",
       "      <th>299</th>\n",
       "      <td>45</td>\n",
       "      <td>1</td>\n",
       "      <td>4.700480</td>\n",
       "      <td>264</td>\n",
       "      <td>False</td>\n",
       "      <td>1</td>\n",
       "      <td>132</td>\n",
       "      <td>0</td>\n",
       "      <td>1.2</td>\n",
       "      <td>0</td>\n",
       "      <td>3</td>\n",
       "      <td>0</td>\n",
       "      <td>0</td>\n",
       "      <td>0</td>\n",
       "      <td>1</td>\n",
       "      <td>0</td>\n",
       "      <td>0</td>\n",
       "      <td>1</td>\n",
       "      <td>0</td>\n",
       "    </tr>\n",
       "    <tr>\n",
       "      <th>300</th>\n",
       "      <td>68</td>\n",
       "      <td>1</td>\n",
       "      <td>4.969813</td>\n",
       "      <td>193</td>\n",
       "      <td>True</td>\n",
       "      <td>1</td>\n",
       "      <td>141</td>\n",
       "      <td>0</td>\n",
       "      <td>3.4</td>\n",
       "      <td>2</td>\n",
       "      <td>3</td>\n",
       "      <td>0</td>\n",
       "      <td>0</td>\n",
       "      <td>1</td>\n",
       "      <td>0</td>\n",
       "      <td>0</td>\n",
       "      <td>0</td>\n",
       "      <td>1</td>\n",
       "      <td>0</td>\n",
       "    </tr>\n",
       "    <tr>\n",
       "      <th>301</th>\n",
       "      <td>57</td>\n",
       "      <td>1</td>\n",
       "      <td>4.867534</td>\n",
       "      <td>131</td>\n",
       "      <td>False</td>\n",
       "      <td>1</td>\n",
       "      <td>115</td>\n",
       "      <td>1</td>\n",
       "      <td>1.2</td>\n",
       "      <td>1</td>\n",
       "      <td>3</td>\n",
       "      <td>0</td>\n",
       "      <td>0</td>\n",
       "      <td>1</td>\n",
       "      <td>0</td>\n",
       "      <td>0</td>\n",
       "      <td>0</td>\n",
       "      <td>1</td>\n",
       "      <td>0</td>\n",
       "    </tr>\n",
       "    <tr>\n",
       "      <th>302</th>\n",
       "      <td>57</td>\n",
       "      <td>0</td>\n",
       "      <td>4.867534</td>\n",
       "      <td>236</td>\n",
       "      <td>False</td>\n",
       "      <td>0</td>\n",
       "      <td>174</td>\n",
       "      <td>0</td>\n",
       "      <td>0.0</td>\n",
       "      <td>1</td>\n",
       "      <td>2</td>\n",
       "      <td>0</td>\n",
       "      <td>0</td>\n",
       "      <td>0</td>\n",
       "      <td>0</td>\n",
       "      <td>1</td>\n",
       "      <td>0</td>\n",
       "      <td>1</td>\n",
       "      <td>0</td>\n",
       "    </tr>\n",
       "  </tbody>\n",
       "</table>\n",
       "<p>286 rows × 19 columns</p>\n",
       "</div>"
      ],
      "text/plain": [
       "     age  sex  trestbps  chol    fbs  restecg  thalach  exang  oldpeak  ca  \\\n",
       "0     63    1  4.976734   233   True        0      150      0      2.3   0   \n",
       "1     37    1  4.867534   250  False        1      187      0      3.5   0   \n",
       "2     41    0  4.867534   204  False        0      172      0      1.4   0   \n",
       "3     56    1  4.787492   236  False        1      178      0      0.8   0   \n",
       "4     57    0  4.787492   354  False        1      163      1      0.6   0   \n",
       "..   ...  ...       ...   ...    ...      ...      ...    ...      ...  ..   \n",
       "298   57    0  4.941642   241  False        1      123      1      0.2   0   \n",
       "299   45    1  4.700480   264  False        1      132      0      1.2   0   \n",
       "300   68    1  4.969813   193   True        1      141      0      3.4   2   \n",
       "301   57    1  4.867534   131  False        1      115      1      1.2   1   \n",
       "302   57    0  4.867534   236  False        0      174      0      0.0   1   \n",
       "\n",
       "     thal  target  cp_ non-anginal pain  cp_ typical angina  cp_asymptomatic  \\\n",
       "0       1       1                     0                   0                1   \n",
       "1       2       1                     1                   0                0   \n",
       "2       2       1                     0                   0                0   \n",
       "3       2       1                     0                   0                0   \n",
       "4       2       1                     0                   1                0   \n",
       "..    ...     ...                   ...                 ...              ...   \n",
       "298     3       0                     0                   1                0   \n",
       "299     3       0                     0                   0                1   \n",
       "300     3       0                     0                   1                0   \n",
       "301     3       0                     0                   1                0   \n",
       "302     2       0                     0                   0                0   \n",
       "\n",
       "     cp_atypical angina  slope_Down_Sloping  slope_Flat  slope_Up_Sloping  \n",
       "0                     0                   0           0                 1  \n",
       "1                     0                   0           0                 1  \n",
       "2                     1                   1           0                 0  \n",
       "3                     1                   1           0                 0  \n",
       "4                     0                   1           0                 0  \n",
       "..                  ...                 ...         ...               ...  \n",
       "298                   0                   0           1                 0  \n",
       "299                   0                   0           1                 0  \n",
       "300                   0                   0           1                 0  \n",
       "301                   0                   0           1                 0  \n",
       "302                   1                   0           1                 0  \n",
       "\n",
       "[286 rows x 19 columns]"
      ]
     },
     "execution_count": 662,
     "metadata": {},
     "output_type": "execute_result"
    }
   ],
   "source": [
    "data = pd.get_dummies(data, columns = ['cp', 'slope'])\n",
    "data"
   ]
  },
  {
   "cell_type": "code",
   "execution_count": 663,
   "id": "63892ea4",
   "metadata": {},
   "outputs": [
    {
     "data": {
      "text/plain": [
       "Index(['age', 'sex', 'trestbps', 'chol', 'fbs', 'restecg', 'thalach', 'exang',\n",
       "       'oldpeak', 'ca', 'thal', 'target', 'cp_ non-anginal pain',\n",
       "       'cp_ typical angina', 'cp_asymptomatic', 'cp_atypical angina',\n",
       "       'slope_Down_Sloping', 'slope_Flat', 'slope_Up_Sloping'],\n",
       "      dtype='object')"
      ]
     },
     "execution_count": 663,
     "metadata": {},
     "output_type": "execute_result"
    }
   ],
   "source": [
    "data.columns"
   ]
  },
  {
   "cell_type": "markdown",
   "id": "a90f4537",
   "metadata": {},
   "source": [
    "### Split the data into X and y"
   ]
  },
  {
   "cell_type": "code",
   "execution_count": 664,
   "id": "31e2fd9d",
   "metadata": {},
   "outputs": [],
   "source": [
    "X = data.drop(['target','fbs','chol'],axis=1)   # drop fbs and chol las they are not related to target variable\n",
    "y = data['target']"
   ]
  },
  {
   "cell_type": "markdown",
   "id": "4a1fcac0",
   "metadata": {},
   "source": [
    "## `Multicollinearity ---------------------------------------`"
   ]
  },
  {
   "cell_type": "code",
   "execution_count": 665,
   "id": "dc90d440",
   "metadata": {},
   "outputs": [],
   "source": [
    "from statsmodels.stats.outliers_influence import variance_inflation_factor # to check multicollinearity\n",
    "\n",
    "\n",
    "### function of vif\n",
    "def cal_vif(X):\n",
    "    vif=pd.DataFrame()\n",
    "    vif['var']=X.columns\n",
    "    vif['VIF']=[variance_inflation_factor(X.values,i) for i in range(X.shape[1])]\n",
    "    vif['VIF'] = round(vif['VIF'], 2)\n",
    "    vif = vif.sort_values(by = \"VIF\", ascending = False)\n",
    "    return(vif)"
   ]
  },
  {
   "cell_type": "markdown",
   "id": "ae1c4d4e",
   "metadata": {},
   "source": [
    "### Categorical columns"
   ]
  },
  {
   "cell_type": "code",
   "execution_count": 666,
   "id": "f1bc8bc1",
   "metadata": {},
   "outputs": [],
   "source": [
    "cat = X[['cp_ non-anginal pain',\n",
    "       'cp_ typical angina', 'cp_asymptomatic', 'cp_atypical angina',\n",
    "       'slope_Down_Sloping', 'slope_Flat', 'slope_Up_Sloping','sex','exang','restecg']]"
   ]
  },
  {
   "cell_type": "code",
   "execution_count": 667,
   "id": "dd8b42b5",
   "metadata": {},
   "outputs": [
    {
     "data": {
      "text/html": [
       "<div>\n",
       "<style scoped>\n",
       "    .dataframe tbody tr th:only-of-type {\n",
       "        vertical-align: middle;\n",
       "    }\n",
       "\n",
       "    .dataframe tbody tr th {\n",
       "        vertical-align: top;\n",
       "    }\n",
       "\n",
       "    .dataframe thead th {\n",
       "        text-align: right;\n",
       "    }\n",
       "</style>\n",
       "<table border=\"1\" class=\"dataframe\">\n",
       "  <thead>\n",
       "    <tr style=\"text-align: right;\">\n",
       "      <th></th>\n",
       "      <th>var</th>\n",
       "      <th>VIF</th>\n",
       "    </tr>\n",
       "  </thead>\n",
       "  <tbody>\n",
       "    <tr>\n",
       "      <th>0</th>\n",
       "      <td>cp_ non-anginal pain</td>\n",
       "      <td>inf</td>\n",
       "    </tr>\n",
       "    <tr>\n",
       "      <th>1</th>\n",
       "      <td>cp_ typical angina</td>\n",
       "      <td>inf</td>\n",
       "    </tr>\n",
       "    <tr>\n",
       "      <th>2</th>\n",
       "      <td>cp_asymptomatic</td>\n",
       "      <td>inf</td>\n",
       "    </tr>\n",
       "    <tr>\n",
       "      <th>3</th>\n",
       "      <td>cp_atypical angina</td>\n",
       "      <td>inf</td>\n",
       "    </tr>\n",
       "    <tr>\n",
       "      <th>4</th>\n",
       "      <td>slope_Down_Sloping</td>\n",
       "      <td>inf</td>\n",
       "    </tr>\n",
       "    <tr>\n",
       "      <th>5</th>\n",
       "      <td>slope_Flat</td>\n",
       "      <td>inf</td>\n",
       "    </tr>\n",
       "    <tr>\n",
       "      <th>6</th>\n",
       "      <td>slope_Up_Sloping</td>\n",
       "      <td>inf</td>\n",
       "    </tr>\n",
       "    <tr>\n",
       "      <th>8</th>\n",
       "      <td>exang</td>\n",
       "      <td>1.36</td>\n",
       "    </tr>\n",
       "    <tr>\n",
       "      <th>7</th>\n",
       "      <td>sex</td>\n",
       "      <td>1.05</td>\n",
       "    </tr>\n",
       "    <tr>\n",
       "      <th>9</th>\n",
       "      <td>restecg</td>\n",
       "      <td>1.04</td>\n",
       "    </tr>\n",
       "  </tbody>\n",
       "</table>\n",
       "</div>"
      ],
      "text/plain": [
       "                    var   VIF\n",
       "0  cp_ non-anginal pain   inf\n",
       "1    cp_ typical angina   inf\n",
       "2       cp_asymptomatic   inf\n",
       "3    cp_atypical angina   inf\n",
       "4    slope_Down_Sloping   inf\n",
       "5            slope_Flat   inf\n",
       "6      slope_Up_Sloping   inf\n",
       "8                 exang  1.36\n",
       "7                   sex  1.05\n",
       "9               restecg  1.04"
      ]
     },
     "execution_count": 667,
     "metadata": {},
     "output_type": "execute_result"
    }
   ],
   "source": [
    "cal_vif(cat)"
   ]
  },
  {
   "cell_type": "markdown",
   "id": "bed1f6b8",
   "metadata": {},
   "source": [
    "### drop redundant columns"
   ]
  },
  {
   "cell_type": "code",
   "execution_count": 668,
   "id": "5bbe8eb2",
   "metadata": {},
   "outputs": [],
   "source": [
    "cat = X[['cp_ non-anginal pain',\n",
    "       'cp_ typical angina', 'cp_asymptomatic',\n",
    "       'slope_Down_Sloping', 'slope_Flat', 'sex','exang','restecg']]"
   ]
  },
  {
   "cell_type": "code",
   "execution_count": 669,
   "id": "86421488",
   "metadata": {},
   "outputs": [
    {
     "data": {
      "text/html": [
       "<div>\n",
       "<style scoped>\n",
       "    .dataframe tbody tr th:only-of-type {\n",
       "        vertical-align: middle;\n",
       "    }\n",
       "\n",
       "    .dataframe tbody tr th {\n",
       "        vertical-align: top;\n",
       "    }\n",
       "\n",
       "    .dataframe thead th {\n",
       "        text-align: right;\n",
       "    }\n",
       "</style>\n",
       "<table border=\"1\" class=\"dataframe\">\n",
       "  <thead>\n",
       "    <tr style=\"text-align: right;\">\n",
       "      <th></th>\n",
       "      <th>var</th>\n",
       "      <th>VIF</th>\n",
       "    </tr>\n",
       "  </thead>\n",
       "  <tbody>\n",
       "    <tr>\n",
       "      <th>1</th>\n",
       "      <td>cp_ typical angina</td>\n",
       "      <td>3.90</td>\n",
       "    </tr>\n",
       "    <tr>\n",
       "      <th>4</th>\n",
       "      <td>slope_Flat</td>\n",
       "      <td>3.87</td>\n",
       "    </tr>\n",
       "    <tr>\n",
       "      <th>3</th>\n",
       "      <td>slope_Down_Sloping</td>\n",
       "      <td>3.59</td>\n",
       "    </tr>\n",
       "    <tr>\n",
       "      <th>5</th>\n",
       "      <td>sex</td>\n",
       "      <td>3.22</td>\n",
       "    </tr>\n",
       "    <tr>\n",
       "      <th>0</th>\n",
       "      <td>cp_ non-anginal pain</td>\n",
       "      <td>2.30</td>\n",
       "    </tr>\n",
       "    <tr>\n",
       "      <th>7</th>\n",
       "      <td>restecg</td>\n",
       "      <td>2.08</td>\n",
       "    </tr>\n",
       "    <tr>\n",
       "      <th>6</th>\n",
       "      <td>exang</td>\n",
       "      <td>1.96</td>\n",
       "    </tr>\n",
       "    <tr>\n",
       "      <th>2</th>\n",
       "      <td>cp_asymptomatic</td>\n",
       "      <td>1.38</td>\n",
       "    </tr>\n",
       "  </tbody>\n",
       "</table>\n",
       "</div>"
      ],
      "text/plain": [
       "                    var   VIF\n",
       "1    cp_ typical angina  3.90\n",
       "4            slope_Flat  3.87\n",
       "3    slope_Down_Sloping  3.59\n",
       "5                   sex  3.22\n",
       "0  cp_ non-anginal pain  2.30\n",
       "7               restecg  2.08\n",
       "6                 exang  1.96\n",
       "2       cp_asymptomatic  1.38"
      ]
     },
     "execution_count": 669,
     "metadata": {},
     "output_type": "execute_result"
    }
   ],
   "source": [
    "cal_vif(cat)"
   ]
  },
  {
   "cell_type": "markdown",
   "id": "80064bb2",
   "metadata": {},
   "source": [
    "### These categorical columns are perfect, without multicollinearity"
   ]
  },
  {
   "cell_type": "markdown",
   "id": "93500bad",
   "metadata": {},
   "source": [
    "### Numerical Columns"
   ]
  },
  {
   "cell_type": "code",
   "execution_count": 670,
   "id": "1414acb2",
   "metadata": {},
   "outputs": [],
   "source": [
    "cont_columns = cont_columns.delete(2) # delete chol"
   ]
  },
  {
   "cell_type": "code",
   "execution_count": 671,
   "id": "5846265a",
   "metadata": {},
   "outputs": [],
   "source": [
    "num = X[cont_columns]"
   ]
  },
  {
   "cell_type": "code",
   "execution_count": 672,
   "id": "8a0f1643",
   "metadata": {},
   "outputs": [
    {
     "data": {
      "text/html": [
       "<div>\n",
       "<style scoped>\n",
       "    .dataframe tbody tr th:only-of-type {\n",
       "        vertical-align: middle;\n",
       "    }\n",
       "\n",
       "    .dataframe tbody tr th {\n",
       "        vertical-align: top;\n",
       "    }\n",
       "\n",
       "    .dataframe thead th {\n",
       "        text-align: right;\n",
       "    }\n",
       "</style>\n",
       "<table border=\"1\" class=\"dataframe\">\n",
       "  <thead>\n",
       "    <tr style=\"text-align: right;\">\n",
       "      <th></th>\n",
       "      <th>var</th>\n",
       "      <th>VIF</th>\n",
       "    </tr>\n",
       "  </thead>\n",
       "  <tbody>\n",
       "    <tr>\n",
       "      <th>1</th>\n",
       "      <td>trestbps</td>\n",
       "      <td>160.66</td>\n",
       "    </tr>\n",
       "    <tr>\n",
       "      <th>2</th>\n",
       "      <td>thalach</td>\n",
       "      <td>56.71</td>\n",
       "    </tr>\n",
       "    <tr>\n",
       "      <th>0</th>\n",
       "      <td>age</td>\n",
       "      <td>49.01</td>\n",
       "    </tr>\n",
       "    <tr>\n",
       "      <th>5</th>\n",
       "      <td>thal</td>\n",
       "      <td>15.83</td>\n",
       "    </tr>\n",
       "    <tr>\n",
       "      <th>3</th>\n",
       "      <td>oldpeak</td>\n",
       "      <td>2.18</td>\n",
       "    </tr>\n",
       "    <tr>\n",
       "      <th>4</th>\n",
       "      <td>ca</td>\n",
       "      <td>1.68</td>\n",
       "    </tr>\n",
       "  </tbody>\n",
       "</table>\n",
       "</div>"
      ],
      "text/plain": [
       "        var     VIF\n",
       "1  trestbps  160.66\n",
       "2   thalach   56.71\n",
       "0       age   49.01\n",
       "5      thal   15.83\n",
       "3   oldpeak    2.18\n",
       "4        ca    1.68"
      ]
     },
     "execution_count": 672,
     "metadata": {},
     "output_type": "execute_result"
    }
   ],
   "source": [
    "cal_vif(num)"
   ]
  },
  {
   "cell_type": "code",
   "execution_count": 673,
   "id": "0578820f",
   "metadata": {},
   "outputs": [
    {
     "data": {
      "text/plain": [
       "const       2.173942e-01\n",
       "age         5.621204e-01\n",
       "trestbps    3.091025e-01\n",
       "thalach     5.484931e-07\n",
       "oldpeak     1.081389e-06\n",
       "ca          2.295300e-06\n",
       "thal        2.983109e-06\n",
       "dtype: float64"
      ]
     },
     "execution_count": 673,
     "metadata": {},
     "output_type": "execute_result"
    }
   ],
   "source": [
    "import statsmodels.api as sm\n",
    "X_num  = sm.add_constant(num)\n",
    "ols_model = sm.OLS(y,X_num)\n",
    "ols_model = ols_model.fit()\n",
    "ols_model.pvalues"
   ]
  },
  {
   "cell_type": "markdown",
   "id": "ae51027a",
   "metadata": {},
   "source": [
    "### I will not drop any numerical column, because p-value is too low "
   ]
  },
  {
   "cell_type": "markdown",
   "id": "d5061a9f",
   "metadata": {},
   "source": [
    "### Split the data into X and y"
   ]
  },
  {
   "cell_type": "code",
   "execution_count": 674,
   "id": "787cb085",
   "metadata": {},
   "outputs": [],
   "source": [
    "X = data[['age', 'trestbps', 'chol', 'thalach', 'oldpeak', 'ca', 'thal','cp_ non-anginal pain',\n",
    "       'cp_ typical angina', 'cp_asymptomatic',\n",
    "       'slope_Down_Sloping', 'slope_Flat', 'sex','fbs','exang','restecg']]\n",
    "y = data['target']"
   ]
  },
  {
   "cell_type": "markdown",
   "id": "d4a1b514",
   "metadata": {},
   "source": [
    "### Split the data into train and test"
   ]
  },
  {
   "cell_type": "code",
   "execution_count": 675,
   "id": "b45c9ba1",
   "metadata": {},
   "outputs": [],
   "source": [
    "from sklearn.model_selection import train_test_split\n",
    "X_train,X_test, y_train, y_test = train_test_split(X,y,test_size=0.20,random_state=42)"
   ]
  },
  {
   "cell_type": "markdown",
   "id": "aea75e01",
   "metadata": {},
   "source": [
    "### Scaling the data"
   ]
  },
  {
   "cell_type": "code",
   "execution_count": 676,
   "id": "0f3c822b",
   "metadata": {},
   "outputs": [
    {
     "data": {
      "text/plain": [
       "StandardScaler()"
      ]
     },
     "execution_count": 676,
     "metadata": {},
     "output_type": "execute_result"
    }
   ],
   "source": [
    "from sklearn.preprocessing import StandardScaler\n",
    "sc = StandardScaler()\n",
    "sc.fit(X_train[['age', 'trestbps', 'chol', 'thalach', 'oldpeak']])"
   ]
  },
  {
   "cell_type": "code",
   "execution_count": 677,
   "id": "b71a7c62",
   "metadata": {},
   "outputs": [],
   "source": [
    "X_train[['age', 'trestbps', 'chol', 'thalach', 'oldpeak']] = sc.transform(X_train[['age', 'trestbps', 'chol', 'thalach', 'oldpeak']])\n",
    "X_test[['age', 'trestbps', 'chol', 'thalach', 'oldpeak']] = sc.transform(X_test[['age', 'trestbps', 'chol', 'thalach', 'oldpeak']])"
   ]
  },
  {
   "cell_type": "markdown",
   "id": "b73ba4c8",
   "metadata": {},
   "source": [
    "###  Model fit using Logistic Regression (Sklearn)"
   ]
  },
  {
   "cell_type": "code",
   "execution_count": 678,
   "id": "5d6f48c9",
   "metadata": {},
   "outputs": [
    {
     "data": {
      "text/plain": [
       "LogisticRegression()"
      ]
     },
     "execution_count": 678,
     "metadata": {},
     "output_type": "execute_result"
    }
   ],
   "source": [
    "from sklearn.linear_model import LogisticRegression\n",
    "model = LogisticRegression()\n",
    "model.fit(X_train,y_train)"
   ]
  },
  {
   "cell_type": "code",
   "execution_count": 679,
   "id": "c52ca79a",
   "metadata": {},
   "outputs": [],
   "source": [
    "y_pred = model.predict(X_test)"
   ]
  },
  {
   "cell_type": "code",
   "execution_count": 680,
   "id": "bee55126",
   "metadata": {},
   "outputs": [
    {
     "data": {
      "text/plain": [
       "array([[0.07459128, 0.92540872],\n",
       "       [0.20849417, 0.79150583],\n",
       "       [0.02633108, 0.97366892],\n",
       "       [0.89531441, 0.10468559],\n",
       "       [0.94842951, 0.05157049],\n",
       "       [0.09377355, 0.90622645],\n",
       "       [0.97129355, 0.02870645],\n",
       "       [0.01390008, 0.98609992],\n",
       "       [0.98402738, 0.01597262],\n",
       "       [0.68605406, 0.31394594],\n",
       "       [0.69592216, 0.30407784],\n",
       "       [0.35028723, 0.64971277],\n",
       "       [0.24859125, 0.75140875],\n",
       "       [0.79741541, 0.20258459],\n",
       "       [0.26270429, 0.73729571],\n",
       "       [0.03357056, 0.96642944],\n",
       "       [0.9892938 , 0.0107062 ],\n",
       "       [0.72817722, 0.27182278],\n",
       "       [0.05602291, 0.94397709],\n",
       "       [0.33051875, 0.66948125],\n",
       "       [0.94699001, 0.05300999],\n",
       "       [0.17380532, 0.82619468],\n",
       "       [0.92415282, 0.07584718],\n",
       "       [0.01904134, 0.98095866],\n",
       "       [0.23792604, 0.76207396],\n",
       "       [0.84785677, 0.15214323],\n",
       "       [0.59354833, 0.40645167],\n",
       "       [0.87953702, 0.12046298],\n",
       "       [0.11859106, 0.88140894],\n",
       "       [0.31844096, 0.68155904],\n",
       "       [0.51909141, 0.48090859],\n",
       "       [0.30791267, 0.69208733],\n",
       "       [0.95892513, 0.04107487],\n",
       "       [0.90867135, 0.09132865],\n",
       "       [0.10456463, 0.89543537],\n",
       "       [0.97910006, 0.02089994],\n",
       "       [0.06013405, 0.93986595],\n",
       "       [0.25420948, 0.74579052],\n",
       "       [0.94959282, 0.05040718],\n",
       "       [0.94102727, 0.05897273],\n",
       "       [0.89456571, 0.10543429],\n",
       "       [0.46800958, 0.53199042],\n",
       "       [0.15596296, 0.84403704],\n",
       "       [0.32514191, 0.67485809],\n",
       "       [0.9687918 , 0.0312082 ],\n",
       "       [0.03474132, 0.96525868],\n",
       "       [0.67964736, 0.32035264],\n",
       "       [0.99046476, 0.00953524],\n",
       "       [0.56333486, 0.43666514],\n",
       "       [0.03439477, 0.96560523],\n",
       "       [0.88031018, 0.11968982],\n",
       "       [0.93484807, 0.06515193],\n",
       "       [0.13169235, 0.86830765],\n",
       "       [0.98116313, 0.01883687],\n",
       "       [0.24093741, 0.75906259],\n",
       "       [0.29457305, 0.70542695],\n",
       "       [0.98977298, 0.01022702],\n",
       "       [0.19531603, 0.80468397]])"
      ]
     },
     "execution_count": 680,
     "metadata": {},
     "output_type": "execute_result"
    }
   ],
   "source": [
    "y_pred_proba = model.predict_proba(X_test)\n",
    "y_pred_proba"
   ]
  },
  {
   "cell_type": "code",
   "execution_count": 681,
   "id": "9d67fdf7",
   "metadata": {},
   "outputs": [
    {
     "name": "stdout",
     "output_type": "stream",
     "text": [
      "Confusion matrix =>\n",
      " [[26  4]\n",
      " [ 3 25]]\n",
      "Accuracy => 0.8793103448275862\n"
     ]
    }
   ],
   "source": [
    "from sklearn.metrics import accuracy_score, confusion_matrix\n",
    "print(f'Confusion matrix =>\\n {confusion_matrix(y_test,y_pred)}')\n",
    "print(f'Accuracy => {accuracy_score(y_test,y_pred)}')"
   ]
  },
  {
   "cell_type": "markdown",
   "id": "a746c911",
   "metadata": {},
   "source": [
    "### `Finding threshold probability manually, just adjust threshold by manually`"
   ]
  },
  {
   "cell_type": "code",
   "execution_count": 682,
   "id": "e8fe94f3",
   "metadata": {},
   "outputs": [
    {
     "data": {
      "text/plain": [
       "1    0.559441\n",
       "0    0.440559\n",
       "Name: target, dtype: float64"
      ]
     },
     "execution_count": 682,
     "metadata": {},
     "output_type": "execute_result"
    }
   ],
   "source": [
    "data['target'].value_counts() / data.shape[0]"
   ]
  },
  {
   "cell_type": "code",
   "execution_count": 683,
   "id": "c05ff49b",
   "metadata": {},
   "outputs": [],
   "source": [
    "import numpy as np\n",
    "y_pred = np.where(y_pred_proba[:,1]<.559859,0,1)"
   ]
  },
  {
   "cell_type": "code",
   "execution_count": 684,
   "id": "441840df",
   "metadata": {},
   "outputs": [
    {
     "name": "stdout",
     "output_type": "stream",
     "text": [
      "Confusion matrix =>\n",
      " [[26  4]\n",
      " [ 4 24]]\n",
      "Accuracy => 0.8620689655172413\n"
     ]
    }
   ],
   "source": [
    "from sklearn.metrics import accuracy_score, confusion_matrix\n",
    "print(f'Confusion matrix =>\\n {confusion_matrix(y_test.astype(int),y_pred)}')\n",
    "print(f'Accuracy => {accuracy_score(y_test.astype(int),y_pred)}')"
   ]
  },
  {
   "cell_type": "markdown",
   "id": "277ba884",
   "metadata": {},
   "source": [
    "### `Finding best threshold probability using log loss ---------------------------------`"
   ]
  },
  {
   "cell_type": "code",
   "execution_count": 685,
   "id": "37b79a81",
   "metadata": {},
   "outputs": [],
   "source": [
    "class threshold:\n",
    "    def __init__(self):\n",
    "        self.th = 0.5\n",
    "        \n",
    "    def predict_threshold(self,y):\n",
    "        if y >= self.th:\n",
    "            return 1\n",
    "        return 0"
   ]
  },
  {
   "cell_type": "code",
   "execution_count": 686,
   "id": "a730e471",
   "metadata": {},
   "outputs": [],
   "source": [
    "from sklearn.metrics import log_loss"
   ]
  },
  {
   "cell_type": "code",
   "execution_count": 687,
   "id": "ee2686e6",
   "metadata": {},
   "outputs": [
    {
     "data": {
      "text/plain": [
       "array([1, 1, 1, 0, 0, 1, 0, 1, 0, 0, 0, 1, 1, 0, 1, 1, 0, 0, 1, 1, 0, 1,\n",
       "       0, 1, 1, 0, 0, 0, 1, 1, 0, 1, 0, 0, 1, 0, 1, 1, 0, 0, 0, 0, 1, 1,\n",
       "       0, 1, 0, 0, 0, 1, 0, 0, 1, 0, 1, 1, 0, 1])"
      ]
     },
     "execution_count": 687,
     "metadata": {},
     "output_type": "execute_result"
    }
   ],
   "source": [
    "y_pred"
   ]
  },
  {
   "cell_type": "markdown",
   "id": "f833ac1b",
   "metadata": {},
   "source": [
    "### `finding threshold through LogLoss`"
   ]
  },
  {
   "cell_type": "code",
   "execution_count": 688,
   "id": "c51efbc0",
   "metadata": {},
   "outputs": [],
   "source": [
    "lr_prob = y_pred_proba[:,1]\n",
    "different_threshold = np.linspace(0,1,num=10)\n",
    "pre = threshold()\n",
    "log_losses = []\n",
    "for t in different_threshold:\n",
    "    pre.th = t\n",
    "    yy = pd.Series(lr_prob)\n",
    "    y_pred = yy.apply(pre.predict_threshold)\n",
    "    loss = log_loss(y_test.astype(int),y_pred.astype(int))\n",
    "    log_losses.append(loss)"
   ]
  },
  {
   "cell_type": "markdown",
   "id": "36e1e09f",
   "metadata": {},
   "source": [
    "### `plotting thresholds`"
   ]
  },
  {
   "cell_type": "code",
   "execution_count": 689,
   "id": "e0915dda",
   "metadata": {},
   "outputs": [
    {
     "data": {
      "image/png": "[encoded data removed]",
      "text/plain": [
       "<Figure size 1728x576 with 1 Axes>"
      ]
     },
     "metadata": {
      "needs_background": "light"
     },
     "output_type": "display_data"
    }
   ],
   "source": [
    "plt.figure(figsize=(24,8))\n",
    "plt.plot(different_threshold,log_losses)\n",
    "\n",
    "for i,p in enumerate(different_threshold):\n",
    "    plt.text(different_threshold[i],log_losses[i],\"%0.2f\"%(p),fontsize=15)\n",
    "\n",
    "plt.xlabel(\"proba\",fontsize=20)\n",
    "plt.ylabel(\"log loss\",fontsize=20)\n",
    "plt.show()"
   ]
  },
  {
   "cell_type": "code",
   "execution_count": 690,
   "id": "1673aa7a",
   "metadata": {},
   "outputs": [
    {
     "data": {
      "text/plain": [
       "0.5555555555555556"
      ]
     },
     "execution_count": 690,
     "metadata": {},
     "output_type": "execute_result"
    }
   ],
   "source": [
    "index = np.array(log_losses).argmin()   # best threshold\n",
    "different_threshold[index]"
   ]
  },
  {
   "cell_type": "markdown",
   "id": "ebbe0334",
   "metadata": {},
   "source": [
    " ### `Best threshold probability using with log loss is 0.5555555555555556`"
   ]
  },
  {
   "cell_type": "markdown",
   "id": "fc9f4390",
   "metadata": {},
   "source": [
    "### Use the Performance Metrics and Write the Observations for every Metric\n",
    "![](https://www.kdnuggets.com/wp-content/uploads/nagesh-metrics-1.png)\n",
    " Confusion Matrix\n",
    " Precision\n",
    " Recall\n",
    " Specificity\n",
    " Sensitivity\n",
    " Accuracy\n",
    " F1-score\n",
    " True Positive Rate\n",
    " False Positive Rate\n",
    " Classification Report\n",
    " ROC_AUC Curve\n",
    " Cohen Kappa Score\n",
    "\n",
    "### `fit the model ------------------------`"
   ]
  },
  {
   "cell_type": "code",
   "execution_count": 691,
   "id": "bd30cbd9",
   "metadata": {},
   "outputs": [
    {
     "name": "stdout",
     "output_type": "stream",
     "text": [
      "Accuracy => 0.8620689655172413\n"
     ]
    }
   ],
   "source": [
    "y_pred = np.where(y_pred_proba[:,1]<0.5555555555555556,0,1)\n",
    "print(f'Accuracy => {accuracy_score(y_test.astype(int),y_pred)}')"
   ]
  },
  {
   "cell_type": "markdown",
   "id": "78e37e7c",
   "metadata": {},
   "source": [
    "#### `Model is 86.2% accurate`"
   ]
  },
  {
   "cell_type": "markdown",
   "id": "4f972f62",
   "metadata": {},
   "source": [
    "### `Confusion Matrix`"
   ]
  },
  {
   "cell_type": "code",
   "execution_count": 692,
   "id": "4d27afa4",
   "metadata": {},
   "outputs": [
    {
     "name": "stdout",
     "output_type": "stream",
     "text": [
      "Confusion matrix =>\n",
      " [[26  4]\n",
      " [ 4 24]]\n"
     ]
    }
   ],
   "source": [
    "print(f'Confusion matrix =>\\n {confusion_matrix(y_test.astype(int),y_pred)}')"
   ]
  },
  {
   "cell_type": "markdown",
   "id": "6bfc2333",
   "metadata": {},
   "source": [
    "### `Precision = TP / ( TP + FP ) `"
   ]
  },
  {
   "cell_type": "code",
   "execution_count": 693,
   "id": "a580f7ba",
   "metadata": {},
   "outputs": [
    {
     "name": "stdout",
     "output_type": "stream",
     "text": [
      "Precision => 0.8571428571428571\n"
     ]
    }
   ],
   "source": [
    "from sklearn.metrics import precision_score\n",
    "print(f'Precision => {precision_score(y_test.astype(int),y_pred)}')"
   ]
  },
  {
   "cell_type": "markdown",
   "id": "8242b3b6",
   "metadata": {},
   "source": [
    "#### `Model is 85.7% predicting precise results`"
   ]
  },
  {
   "cell_type": "markdown",
   "id": "3733a87e",
   "metadata": {},
   "source": [
    "### `Recall / Senstivity / True Positive Rate = TP / ( TP + FN )`\n",
    "- **Effectiveness of a classifier to identify positive labels**"
   ]
  },
  {
   "cell_type": "code",
   "execution_count": 694,
   "id": "caf6081b",
   "metadata": {},
   "outputs": [
    {
     "name": "stdout",
     "output_type": "stream",
     "text": [
      "Recall => 0.8571428571428571\n"
     ]
    }
   ],
   "source": [
    "from sklearn.metrics import recall_score\n",
    "print(f'Recall => {recall_score(y_test.astype(int),y_pred)}')"
   ]
  },
  {
   "cell_type": "markdown",
   "id": "7ffe2ed8",
   "metadata": {},
   "source": [
    "#### `Model is 85.7% identifying positive labels`"
   ]
  },
  {
   "cell_type": "markdown",
   "id": "1e6215f6",
   "metadata": {},
   "source": []
  },
  {
   "cell_type": "markdown",
   "id": "441a5b34",
   "metadata": {},
   "source": [
    "### `Specicificity / True Negative Rate = TN / ( TN + FP )`\n",
    "- **Effectiveness of a classifier to identify negative labels**"
   ]
  },
  {
   "cell_type": "code",
   "execution_count": 695,
   "id": "a6f9dd6f",
   "metadata": {},
   "outputs": [
    {
     "data": {
      "text/plain": [
       "0.8846153846153846"
      ]
     },
     "execution_count": 695,
     "metadata": {},
     "output_type": "execute_result"
    }
   ],
   "source": [
    "Senstivity = 23 / (23 + 3)\n",
    "Senstivity"
   ]
  },
  {
   "cell_type": "markdown",
   "id": "ce67b393",
   "metadata": {},
   "source": [
    "#### `Model is 88.4% identifying negative labels`"
   ]
  },
  {
   "cell_type": "markdown",
   "id": "7884382b",
   "metadata": {},
   "source": [
    "### `Accuracy = ( TP + TN ) / ( TN + FN + TP + FP )`"
   ]
  },
  {
   "cell_type": "code",
   "execution_count": 696,
   "id": "5021e932",
   "metadata": {},
   "outputs": [
    {
     "name": "stdout",
     "output_type": "stream",
     "text": [
      "Accuracy => 0.8620689655172413\n"
     ]
    }
   ],
   "source": [
    "from sklearn.metrics import accuracy_score\n",
    "print(f'Accuracy => {accuracy_score(y_test.astype(int),y_pred)}')"
   ]
  },
  {
   "cell_type": "markdown",
   "id": "8814f073",
   "metadata": {},
   "source": [
    "#### `Model is 86.2% accurate`"
   ]
  },
  {
   "cell_type": "markdown",
   "id": "c438a4a7",
   "metadata": {},
   "source": [
    "### `F1-score = 2 * Precision * Recall / ( Precision + Recall )`"
   ]
  },
  {
   "cell_type": "code",
   "execution_count": 697,
   "id": "ea4378cc",
   "metadata": {},
   "outputs": [
    {
     "name": "stdout",
     "output_type": "stream",
     "text": [
      "F1-score => 0.8571428571428571\n"
     ]
    }
   ],
   "source": [
    "from sklearn.metrics import f1_score\n",
    "print(f'F1-score => {f1_score(y_test.astype(int),y_pred)}')"
   ]
  },
  {
   "cell_type": "markdown",
   "id": "78203650",
   "metadata": {},
   "source": [
    "#### `Model is 85.7% balanced between recall and precision`"
   ]
  },
  {
   "cell_type": "markdown",
   "id": "30182e90",
   "metadata": {},
   "source": [
    "### `False Positive Rate = FP / ( TN + FP )`"
   ]
  },
  {
   "cell_type": "code",
   "execution_count": 698,
   "id": "8018e05f",
   "metadata": {},
   "outputs": [
    {
     "data": {
      "text/plain": [
       "0.10714285714285714"
      ]
     },
     "execution_count": 698,
     "metadata": {},
     "output_type": "execute_result"
    }
   ],
   "source": [
    "false = 3 / ( 3 + 25 )\n",
    "false"
   ]
  },
  {
   "cell_type": "markdown",
   "id": "031e8e68",
   "metadata": {},
   "source": [
    "#### `It is a type 1 error rate, 10% is good FPR`"
   ]
  },
  {
   "cell_type": "markdown",
   "id": "f695884a",
   "metadata": {},
   "source": [
    "### `Classification Report`"
   ]
  },
  {
   "cell_type": "code",
   "execution_count": 699,
   "id": "dbf58992",
   "metadata": {},
   "outputs": [
    {
     "name": "stdout",
     "output_type": "stream",
     "text": [
      "Classification Report: => \n",
      "              precision    recall  f1-score   support\n",
      "\n",
      "           0       0.87      0.87      0.87        30\n",
      "           1       0.86      0.86      0.86        28\n",
      "\n",
      "    accuracy                           0.86        58\n",
      "   macro avg       0.86      0.86      0.86        58\n",
      "weighted avg       0.86      0.86      0.86        58\n",
      "\n"
     ]
    }
   ],
   "source": [
    "from sklearn.metrics import classification_report\n",
    "print(f'Classification Report: => \\n{classification_report(y_test.astype(int),y_pred)}')"
   ]
  },
  {
   "cell_type": "markdown",
   "id": "832e3d90",
   "metadata": {},
   "source": [
    "### `ROC_AUC curve`"
   ]
  },
  {
   "cell_type": "code",
   "execution_count": 700,
   "id": "a9eb616d",
   "metadata": {},
   "outputs": [
    {
     "data": {
      "image/png": "[encoded data removed]",
      "text/plain": [
       "<Figure size 432x288 with 1 Axes>"
      ]
     },
     "metadata": {
      "needs_background": "light"
     },
     "output_type": "display_data"
    },
    {
     "name": "stdout",
     "output_type": "stream",
     "text": [
      "AUC is => 0.9071428571428571\n"
     ]
    }
   ],
   "source": [
    "from sklearn.metrics import roc_curve,roc_auc_score\n",
    "\n",
    "ns_prob = [0 for _ in range(len(y_test))] # bad algo where FPR and TPR are same\n",
    "ns_fpr,ns_tpr,thresholds_1 = roc_curve(y_test,ns_prob)\n",
    "\n",
    "lr_prob = y_pred_proba[:,1]   # logistic regression   \n",
    "lr_fpr,lr_tpr,thesholds_2 = roc_curve(y_test,lr_prob)\n",
    "lr_auc = roc_auc_score(y_test,lr_prob)\n",
    "\n",
    "plt.plot(lr_fpr,lr_tpr,marker='.',label='Logistic Regression')  # plotting\n",
    "plt.plot(ns_fpr,ns_tpr,marker='.',label='Bad Random Algo')\n",
    "plt.xlabel('False Positive Rate')\n",
    "plt.ylabel('True Positive Rate')\n",
    "plt.legend()\n",
    "plt.show()\n",
    "\n",
    "\n",
    "print(f'AUC is => {lr_auc}')"
   ]
  },
  {
   "cell_type": "markdown",
   "id": "b1b9c62c",
   "metadata": {},
   "source": [
    "#### `Here Area Under the Curve (AUC) is 90.7%`"
   ]
  },
  {
   "cell_type": "markdown",
   "id": "42a053ba",
   "metadata": {},
   "source": [
    "### `Kohen Kappa Score`"
   ]
  },
  {
   "cell_type": "code",
   "execution_count": 701,
   "id": "318c3e53",
   "metadata": {},
   "outputs": [
    {
     "name": "stdout",
     "output_type": "stream",
     "text": [
      "cohen_kappa_score: => 0.7238095238095238\n"
     ]
    }
   ],
   "source": [
    "from sklearn.metrics import cohen_kappa_score\n",
    "print(f'cohen_kappa_score: => {cohen_kappa_score(y_test.astype(int),y_pred)}')"
   ]
  },
  {
   "cell_type": "markdown",
   "id": "ed30bf6e",
   "metadata": {},
   "source": [
    "### `Iterpretation`\n",
    "- I have drroped one categorical column fbs and one numerical column chol as it is not related to target variable\n",
    "- I have done the log transformation of trestbps to remove skewness which increases accuracy by 1.5 %\n",
    "- I have removed multicollinearity and selected features by feature selection\n",
    "- I have used logloss to find best threshold value\n",
    "- I have also calculated ROC and AUC to check the performance of the model"
   ]
  },
  {
   "cell_type": "markdown",
   "id": "ee1c7434",
   "metadata": {},
   "source": [
    "## `End ---------------------------------------------------------`"
   ]
  }
 ],
 "metadata": {
  "kernelspec": {
   "display_name": "Python 3",
   "language": "python",
   "name": "python3"
  },
  "language_info": {
   "codemirror_mode": {
    "name": "ipython",
    "version": 3
   },
   "file_extension": ".py",
   "mimetype": "text/x-python",
   "name": "python",
   "nbconvert_exporter": "python",
   "pygments_lexer": "ipython3",
   "version": "3.8.8"
  }
 },
 "nbformat": 4,
 "nbformat_minor": 5
}
