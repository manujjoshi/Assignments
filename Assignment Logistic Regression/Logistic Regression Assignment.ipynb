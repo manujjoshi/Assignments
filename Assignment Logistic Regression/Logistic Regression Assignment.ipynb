{
 "cells": [
  {
   "cell_type": "markdown",
   "id": "3eec61c3",
   "metadata": {},
   "source": [
    "# `Logistic Regression Assignment -----------------------------------`"
   ]
  },
  {
   "cell_type": "code",
   "execution_count": 1,
   "id": "86ea4a49",
   "metadata": {},
   "outputs": [],
   "source": [
    "import pandas as pd\n",
    "import numpy as np\n",
    "import seaborn as sns\n",
    "import matplotlib.pyplot as plt"
   ]
  },
  {
   "cell_type": "code",
   "execution_count": 3,
   "id": "1f0c0f8c",
   "metadata": {},
   "outputs": [
    {
     "data": {
      "text/html": [
       "<div>\n",
       "<style scoped>\n",
       "    .dataframe tbody tr th:only-of-type {\n",
       "        vertical-align: middle;\n",
       "    }\n",
       "\n",
       "    .dataframe tbody tr th {\n",
       "        vertical-align: top;\n",
       "    }\n",
       "\n",
       "    .dataframe thead th {\n",
       "        text-align: right;\n",
       "    }\n",
       "</style>\n",
       "<table border=\"1\" class=\"dataframe\">\n",
       "  <thead>\n",
       "    <tr style=\"text-align: right;\">\n",
       "      <th></th>\n",
       "      <th>age\\tsex\\tcp\\ttrestbps\\tchol\\tfbs\\trestecg\\tthalach\\texang\\toldpeak\\tslope\\tca\\tthal\\ttarget</th>\n",
       "    </tr>\n",
       "  </thead>\n",
       "  <tbody>\n",
       "    <tr>\n",
       "      <th>0</th>\n",
       "      <td>63\\tMale\\tasymptomatic\\t145\\t233\\tTRUE\\tNormal...</td>\n",
       "    </tr>\n",
       "    <tr>\n",
       "      <th>1</th>\n",
       "      <td>37\\tMale\\t non-anginal pain\\t130\\t250\\tFALSE\\t...</td>\n",
       "    </tr>\n",
       "    <tr>\n",
       "      <th>2</th>\n",
       "      <td>41\\tFemale\\tatypical angina\\t130\\t204\\tFALSE\\t...</td>\n",
       "    </tr>\n",
       "    <tr>\n",
       "      <th>3</th>\n",
       "      <td>56\\tMale\\tatypical angina\\t120\\t236\\tFALSE\\tNo...</td>\n",
       "    </tr>\n",
       "    <tr>\n",
       "      <th>4</th>\n",
       "      <td>57\\tFemale\\t typical angina\\t120\\t354\\tFALSE\\t...</td>\n",
       "    </tr>\n",
       "  </tbody>\n",
       "</table>\n",
       "</div>"
      ],
      "text/plain": [
       "  age\\tsex\\tcp\\ttrestbps\\tchol\\tfbs\\trestecg\\tthalach\\texang\\toldpeak\\tslope\\tca\\tthal\\ttarget\n",
       "0  63\\tMale\\tasymptomatic\\t145\\t233\\tTRUE\\tNormal...                                          \n",
       "1  37\\tMale\\t non-anginal pain\\t130\\t250\\tFALSE\\t...                                          \n",
       "2  41\\tFemale\\tatypical angina\\t130\\t204\\tFALSE\\t...                                          \n",
       "3  56\\tMale\\tatypical angina\\t120\\t236\\tFALSE\\tNo...                                          \n",
       "4  57\\tFemale\\t typical angina\\t120\\t354\\tFALSE\\t...                                          "
      ]
     },
     "execution_count": 3,
     "metadata": {},
     "output_type": "execute_result"
    }
   ],
   "source": [
    "data = pd.read_csv('heart.csv')\n",
    "data.head()"
   ]
  },
  {
   "cell_type": "markdown",
   "id": "88d76ff4",
   "metadata": {},
   "source": [
    "#### `Clean the data`"
   ]
  },
  {
   "cell_type": "code",
   "execution_count": null,
   "id": "56632476",
   "metadata": {},
   "outputs": [],
   "source": []
  }
 ],
 "metadata": {
  "kernelspec": {
   "display_name": "Python 3",
   "language": "python",
   "name": "python3"
  },
  "language_info": {
   "codemirror_mode": {
    "name": "ipython",
    "version": 3
   },
   "file_extension": ".py",
   "mimetype": "text/x-python",
   "name": "python",
   "nbconvert_exporter": "python",
   "pygments_lexer": "ipython3",
   "version": "3.8.8"
  }
 },
 "nbformat": 4,
 "nbformat_minor": 5
}
